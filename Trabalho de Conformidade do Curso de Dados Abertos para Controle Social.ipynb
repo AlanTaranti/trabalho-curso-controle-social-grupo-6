{
 "cells": [
  {
   "cell_type": "markdown",
   "metadata": {},
   "source": [
    "O objetivo do presente trabalho consistem verificar quais empresas de PEPs (Pessoas Politicamente Expostas) que receberam recursos dos próprios municípios em que têm mandatos.\n",
    "\n",
    "Para isso serão utilizado dados do Portal de Transparência Municipal do TCESP, base de dados públicos de CNPJ da SRF e dados do Portal da Transparência da CGU."
   ]
  },
  {
   "cell_type": "markdown",
   "metadata": {},
   "source": [
    "**Atenção:** Como o presente trabalho é para fins educacionais, os nomes, CPFs e CNPJs foram alterados, mas as estruturas são idênticas às das tabelas originais."
   ]
  },
  {
   "cell_type": "markdown",
   "metadata": {},
   "source": [
    "# Importar as bibliotecas utilizadas"
   ]
  },
  {
   "cell_type": "code",
   "execution_count": 1,
   "metadata": {},
   "outputs": [],
   "source": [
    "import os\n",
    "import shutil\n",
    "\n",
    "import folium\n",
    "import pandas as pd\n",
    "import sqlalchemy\n",
    "import seaborn as sns"
   ]
  },
  {
   "cell_type": "markdown",
   "metadata": {},
   "source": [
    "# Carregar Dados"
   ]
  },
  {
   "cell_type": "code",
   "execution_count": 2,
   "metadata": {},
   "outputs": [],
   "source": [
    "diretorio_dados = 'dados'"
   ]
  },
  {
   "cell_type": "markdown",
   "metadata": {
    "tags": []
   },
   "source": [
    "## Carregar dados de banco\n",
    "\n",
    "O banco de dados possui três tabelas: despesas_consolidado, empresas e sócios"
   ]
  },
  {
   "cell_type": "code",
   "execution_count": 3,
   "metadata": {},
   "outputs": [],
   "source": [
    "arquivo_sqlite = 'banco_trabalho06.db'\n",
    "filepath_arquivo_sqlite = os.path.join(diretorio_dados, arquivo_sqlite)"
   ]
  },
  {
   "cell_type": "code",
   "execution_count": 4,
   "metadata": {},
   "outputs": [],
   "source": [
    "url_banco = \"sqlite:///{}\".format(filepath_arquivo_sqlite)\n",
    "engine = sqlalchemy.create_engine(url_banco)"
   ]
  },
  {
   "cell_type": "markdown",
   "metadata": {},
   "source": [
    "### Despesas \n",
    "É a totalização de valores pagos a empresas por município, valores aproximadamente acima de 100 mil reais.\n",
    "\n",
    "A consolidação foi realizada a partir da tabela despesas do TCE/SP. Os nomes de empresas, cnpjs e municípios foram alterados.\n",
    "\n",
    "A coluna **ds_municipio** é o nome do município fictício, **nr_identificador_despesa** o CNPJ da empresa que recebeu o valor da coluna soma e **ds_despesa** a razão social fictícia da empresa.\n",
    "\n",
    "Os dados originais podem ser obtidos em: https://transparencia.tce.sp.gov.br/conjunto-de-dados"
   ]
  },
  {
   "cell_type": "code",
   "execution_count": 5,
   "metadata": {},
   "outputs": [],
   "source": [
    "sql = 'SELECT * FROM despesas_consolidado'\n",
    "despesas = pd.read_sql(sql, engine, index_col=None)"
   ]
  },
  {
   "cell_type": "markdown",
   "metadata": {},
   "source": [
    "Aqui podemos visualizar uma amostra dos dados"
   ]
  },
  {
   "cell_type": "code",
   "execution_count": 6,
   "metadata": {},
   "outputs": [
    {
     "data": {
      "text/html": [
       "<div>\n",
       "<style scoped>\n",
       "    .dataframe tbody tr th:only-of-type {\n",
       "        vertical-align: middle;\n",
       "    }\n",
       "\n",
       "    .dataframe tbody tr th {\n",
       "        vertical-align: top;\n",
       "    }\n",
       "\n",
       "    .dataframe thead th {\n",
       "        text-align: right;\n",
       "    }\n",
       "</style>\n",
       "<table border=\"1\" class=\"dataframe\">\n",
       "  <thead>\n",
       "    <tr style=\"text-align: right;\">\n",
       "      <th></th>\n",
       "      <th>ds_municipio</th>\n",
       "      <th>nr_identificador_despesa</th>\n",
       "      <th>ds_despesa</th>\n",
       "      <th>soma</th>\n",
       "    </tr>\n",
       "  </thead>\n",
       "  <tbody>\n",
       "    <tr>\n",
       "      <th>7964</th>\n",
       "      <td>LUND</td>\n",
       "      <td>01488263000192</td>\n",
       "      <td>ZALAN AMBIENTAL SA</td>\n",
       "      <td>475913.69</td>\n",
       "    </tr>\n",
       "    <tr>\n",
       "      <th>9997</th>\n",
       "      <td>CATANIO</td>\n",
       "      <td>50889774000128</td>\n",
       "      <td>CHIARA COMUNICACAO EPP</td>\n",
       "      <td>391517.82</td>\n",
       "    </tr>\n",
       "    <tr>\n",
       "      <th>18279</th>\n",
       "      <td>SALMAZZO</td>\n",
       "      <td>08571215000111</td>\n",
       "      <td>SUZANNE COMERCIO EIRELLI</td>\n",
       "      <td>168479.45</td>\n",
       "    </tr>\n",
       "    <tr>\n",
       "      <th>20241</th>\n",
       "      <td>CAIMAR</td>\n",
       "      <td>05253198000168</td>\n",
       "      <td>MANATO AGROPECUARIA</td>\n",
       "      <td>134301.00</td>\n",
       "    </tr>\n",
       "    <tr>\n",
       "      <th>2546</th>\n",
       "      <td>POURBAIX</td>\n",
       "      <td>67592103000963</td>\n",
       "      <td>IGOR SUPERMERCADO SA</td>\n",
       "      <td>1845633.76</td>\n",
       "    </tr>\n",
       "  </tbody>\n",
       "</table>\n",
       "</div>"
      ],
      "text/plain": [
       "      ds_municipio nr_identificador_despesa                ds_despesa  \\\n",
       "7964          LUND           01488263000192        ZALAN AMBIENTAL SA   \n",
       "9997       CATANIO           50889774000128    CHIARA COMUNICACAO EPP   \n",
       "18279     SALMAZZO           08571215000111  SUZANNE COMERCIO EIRELLI   \n",
       "20241       CAIMAR           05253198000168       MANATO AGROPECUARIA   \n",
       "2546      POURBAIX           67592103000963      IGOR SUPERMERCADO SA   \n",
       "\n",
       "             soma  \n",
       "7964    475913.69  \n",
       "9997    391517.82  \n",
       "18279   168479.45  \n",
       "20241   134301.00  \n",
       "2546   1845633.76  "
      ]
     },
     "execution_count": 6,
     "metadata": {},
     "output_type": "execute_result"
    }
   ],
   "source": [
    "despesas.sample(5)"
   ]
  },
  {
   "cell_type": "markdown",
   "metadata": {},
   "source": [
    "Com o comando abaixo, podemos ver que a tabela possui 25.885 registros; não possui dados nulos e há apenas uma coluna com dados numéricos."
   ]
  },
  {
   "cell_type": "code",
   "execution_count": 7,
   "metadata": {},
   "outputs": [
    {
     "name": "stdout",
     "output_type": "stream",
     "text": [
      "<class 'pandas.core.frame.DataFrame'>\n",
      "RangeIndex: 25885 entries, 0 to 25884\n",
      "Data columns (total 4 columns):\n",
      " #   Column                    Non-Null Count  Dtype  \n",
      "---  ------                    --------------  -----  \n",
      " 0   ds_municipio              25885 non-null  object \n",
      " 1   nr_identificador_despesa  25885 non-null  object \n",
      " 2   ds_despesa                25885 non-null  object \n",
      " 3   soma                      25885 non-null  float64\n",
      "dtypes: float64(1), object(3)\n",
      "memory usage: 809.0+ KB\n"
     ]
    }
   ],
   "source": [
    "despesas.info()"
   ]
  },
  {
   "cell_type": "markdown",
   "metadata": {},
   "source": [
    "#### Múnicipios Únicos"
   ]
  },
  {
   "cell_type": "code",
   "execution_count": 8,
   "metadata": {},
   "outputs": [
    {
     "name": "stdout",
     "output_type": "stream",
     "text": [
      "O estado de São Paulo possui 645 municipios\n",
      "A amostra utilizada, possui 644 municipios unicos\n",
      "Representando 99.8% dos municipios de SP\n"
     ]
    }
   ],
   "source": [
    "municipios_sao_paulo = 645\n",
    "quantidade_municipios_unicos = len(despesas['ds_municipio'].unique())\n",
    "proporcao = round(quantidade_municipios_unicos/municipios_sao_paulo*100,1)\n",
    "\n",
    "print('O estado de São Paulo possui {} municipios'.format(municipios_sao_paulo))\n",
    "print('A amostra utilizada, possui {} municipios unicos'.format(quantidade_municipios_unicos))\n",
    "print('Representando {}% dos municipios de SP'.format(proporcao))"
   ]
  },
  {
   "cell_type": "markdown",
   "metadata": {},
   "source": [
    "#### Distribuição Despesas Município"
   ]
  },
  {
   "cell_type": "code",
   "execution_count": 9,
   "metadata": {},
   "outputs": [
    {
     "data": {
      "text/plain": [
       "[Text(0.5, 0, 'Despesas'), Text(0, 0.5, 'Contagem')]"
      ]
     },
     "execution_count": 9,
     "metadata": {},
     "output_type": "execute_result"
    },
    {
     "data": {
      "image/png": "[encoded data removed]",
      "text/plain": [
       "<Figure size 864x576 with 1 Axes>"
      ]
     },
     "metadata": {},
     "output_type": "display_data"
    }
   ],
   "source": [
    "sns.set(rc={'figure.figsize':(12, 8)})\n",
    "\n",
    "ax = sns.histplot(despesas, x='soma', log_scale=True)\n",
    "\n",
    "ax.set(title='Distribuição de Despesas')\n",
    "ax.set(xlabel='Despesas', ylabel='Contagem')"
   ]
  },
  {
   "cell_type": "markdown",
   "metadata": {},
   "source": [
    "#### Municípios Que Mais Gastaram"
   ]
  },
  {
   "cell_type": "code",
   "execution_count": 10,
   "metadata": {},
   "outputs": [],
   "source": [
    "municipios_despesas = despesas.groupby('ds_municipio').sum()\n",
    "municipios_despesas = municipios_despesas.sort_values('soma', ascending=False)\n",
    "top_10_municipio_despesas = municipios_despesas.head(10).reset_index()"
   ]
  },
  {
   "cell_type": "code",
   "execution_count": 11,
   "metadata": {},
   "outputs": [
    {
     "data": {
      "text/html": [
       "<div>\n",
       "<style scoped>\n",
       "    .dataframe tbody tr th:only-of-type {\n",
       "        vertical-align: middle;\n",
       "    }\n",
       "\n",
       "    .dataframe tbody tr th {\n",
       "        vertical-align: top;\n",
       "    }\n",
       "\n",
       "    .dataframe thead th {\n",
       "        text-align: right;\n",
       "    }\n",
       "</style>\n",
       "<table border=\"1\" class=\"dataframe\">\n",
       "  <thead>\n",
       "    <tr style=\"text-align: right;\">\n",
       "      <th></th>\n",
       "      <th>ds_municipio</th>\n",
       "      <th>soma</th>\n",
       "    </tr>\n",
       "  </thead>\n",
       "  <tbody>\n",
       "    <tr>\n",
       "      <th>0</th>\n",
       "      <td>ROZARIO</td>\n",
       "      <td>1.223180e+09</td>\n",
       "    </tr>\n",
       "    <tr>\n",
       "      <th>1</th>\n",
       "      <td>DALAGO</td>\n",
       "      <td>9.643243e+08</td>\n",
       "    </tr>\n",
       "    <tr>\n",
       "      <th>2</th>\n",
       "      <td>HELFER</td>\n",
       "      <td>9.434388e+08</td>\n",
       "    </tr>\n",
       "    <tr>\n",
       "      <th>3</th>\n",
       "      <td>ZACCAI</td>\n",
       "      <td>9.342326e+08</td>\n",
       "    </tr>\n",
       "    <tr>\n",
       "      <th>4</th>\n",
       "      <td>HOLZBACH</td>\n",
       "      <td>7.990991e+08</td>\n",
       "    </tr>\n",
       "    <tr>\n",
       "      <th>5</th>\n",
       "      <td>PROITE</td>\n",
       "      <td>7.534733e+08</td>\n",
       "    </tr>\n",
       "    <tr>\n",
       "      <th>6</th>\n",
       "      <td>POVINHA</td>\n",
       "      <td>7.382816e+08</td>\n",
       "    </tr>\n",
       "    <tr>\n",
       "      <th>7</th>\n",
       "      <td>PATELLI</td>\n",
       "      <td>6.120559e+08</td>\n",
       "    </tr>\n",
       "    <tr>\n",
       "      <th>8</th>\n",
       "      <td>MARTEL</td>\n",
       "      <td>6.112997e+08</td>\n",
       "    </tr>\n",
       "    <tr>\n",
       "      <th>9</th>\n",
       "      <td>KANDELMAN</td>\n",
       "      <td>5.709025e+08</td>\n",
       "    </tr>\n",
       "  </tbody>\n",
       "</table>\n",
       "</div>"
      ],
      "text/plain": [
       "  ds_municipio          soma\n",
       "0      ROZARIO  1.223180e+09\n",
       "1       DALAGO  9.643243e+08\n",
       "2       HELFER  9.434388e+08\n",
       "3       ZACCAI  9.342326e+08\n",
       "4     HOLZBACH  7.990991e+08\n",
       "5       PROITE  7.534733e+08\n",
       "6      POVINHA  7.382816e+08\n",
       "7      PATELLI  6.120559e+08\n",
       "8       MARTEL  6.112997e+08\n",
       "9    KANDELMAN  5.709025e+08"
      ]
     },
     "execution_count": 11,
     "metadata": {},
     "output_type": "execute_result"
    }
   ],
   "source": [
    "top_10_municipio_despesas"
   ]
  },
  {
   "cell_type": "code",
   "execution_count": 12,
   "metadata": {},
   "outputs": [
    {
     "data": {
      "text/plain": [
       "[Text(0.5, 0, 'Despesas'), Text(0, 0.5, 'Município')]"
      ]
     },
     "execution_count": 12,
     "metadata": {},
     "output_type": "execute_result"
    },
    {
     "data": {
      "image/png": "[encoded data removed]",
      "text/plain": [
       "<Figure size 864x576 with 1 Axes>"
      ]
     },
     "metadata": {},
     "output_type": "display_data"
    }
   ],
   "source": [
    "ax = sns.barplot(data=top_10_municipio_despesas, x='soma', y='ds_municipio')\n",
    "\n",
    "ax.set(title='Top 10 de Municípios com Maiores Despesas')\n",
    "ax.set(xlabel='Despesas', ylabel='Município')"
   ]
  },
  {
   "cell_type": "markdown",
   "metadata": {},
   "source": [
    "### Empresas \n",
    "Tabela de empresas da receita federal.\n",
    "\n",
    "Possui dados alterados, mas a estrutura das colunas é semelhante a base pública da Receita Federal."
   ]
  },
  {
   "cell_type": "code",
   "execution_count": 13,
   "metadata": {},
   "outputs": [],
   "source": [
    "sql = 'SELECT * FROM empresas'\n",
    "empresas = pd.read_sql(sql, engine, index_col=None)"
   ]
  },
  {
   "cell_type": "markdown",
   "metadata": {},
   "source": [
    "Aqui podemos visualizar uma amostra dos dados"
   ]
  },
  {
   "cell_type": "code",
   "execution_count": 14,
   "metadata": {},
   "outputs": [
    {
     "data": {
      "text/html": [
       "<div>\n",
       "<style scoped>\n",
       "    .dataframe tbody tr th:only-of-type {\n",
       "        vertical-align: middle;\n",
       "    }\n",
       "\n",
       "    .dataframe tbody tr th {\n",
       "        vertical-align: top;\n",
       "    }\n",
       "\n",
       "    .dataframe thead th {\n",
       "        text-align: right;\n",
       "    }\n",
       "</style>\n",
       "<table border=\"1\" class=\"dataframe\">\n",
       "  <thead>\n",
       "    <tr style=\"text-align: right;\">\n",
       "      <th></th>\n",
       "      <th>cnpj</th>\n",
       "      <th>matriz_filial</th>\n",
       "      <th>razao_social</th>\n",
       "      <th>nome_fantasia</th>\n",
       "      <th>situacao</th>\n",
       "      <th>data_situacao</th>\n",
       "      <th>motivo_situacao</th>\n",
       "      <th>nm_cidade_exterior</th>\n",
       "      <th>cod_pais</th>\n",
       "      <th>nome_pais</th>\n",
       "      <th>...</th>\n",
       "      <th>email</th>\n",
       "      <th>qualif_resp</th>\n",
       "      <th>capital_social</th>\n",
       "      <th>porte</th>\n",
       "      <th>opc_simples</th>\n",
       "      <th>data_opc_simples</th>\n",
       "      <th>data_exc_simples</th>\n",
       "      <th>opc_mei</th>\n",
       "      <th>sit_especial</th>\n",
       "      <th>data_sit_especial</th>\n",
       "    </tr>\n",
       "  </thead>\n",
       "  <tbody>\n",
       "    <tr>\n",
       "      <th>4017</th>\n",
       "      <td>22373705000199</td>\n",
       "      <td>1</td>\n",
       "      <td>MADISON EQUIPAMENTOS EIRELLI</td>\n",
       "      <td></td>\n",
       "      <td>02</td>\n",
       "      <td>20200101</td>\n",
       "      <td>00</td>\n",
       "      <td></td>\n",
       "      <td></td>\n",
       "      <td></td>\n",
       "      <td>...</td>\n",
       "      <td></td>\n",
       "      <td></td>\n",
       "      <td>0.000000e+00</td>\n",
       "      <td>05</td>\n",
       "      <td>0</td>\n",
       "      <td></td>\n",
       "      <td></td>\n",
       "      <td>N</td>\n",
       "      <td></td>\n",
       "      <td></td>\n",
       "    </tr>\n",
       "    <tr>\n",
       "      <th>2704</th>\n",
       "      <td>02664857000151</td>\n",
       "      <td>1</td>\n",
       "      <td>JANNIK IMOBILIARIA</td>\n",
       "      <td></td>\n",
       "      <td>02</td>\n",
       "      <td>20200101</td>\n",
       "      <td>00</td>\n",
       "      <td></td>\n",
       "      <td></td>\n",
       "      <td></td>\n",
       "      <td>...</td>\n",
       "      <td></td>\n",
       "      <td></td>\n",
       "      <td>0.000000e+00</td>\n",
       "      <td>05</td>\n",
       "      <td>0</td>\n",
       "      <td></td>\n",
       "      <td></td>\n",
       "      <td>N</td>\n",
       "      <td></td>\n",
       "      <td></td>\n",
       "    </tr>\n",
       "    <tr>\n",
       "      <th>2830</th>\n",
       "      <td>25066995000125</td>\n",
       "      <td>1</td>\n",
       "      <td>LIONEL INCORPORADORA EIRELLI</td>\n",
       "      <td></td>\n",
       "      <td>02</td>\n",
       "      <td>20200101</td>\n",
       "      <td>00</td>\n",
       "      <td></td>\n",
       "      <td></td>\n",
       "      <td></td>\n",
       "      <td>...</td>\n",
       "      <td></td>\n",
       "      <td></td>\n",
       "      <td>7.332226e+06</td>\n",
       "      <td>01</td>\n",
       "      <td>5</td>\n",
       "      <td></td>\n",
       "      <td></td>\n",
       "      <td>N</td>\n",
       "      <td></td>\n",
       "      <td></td>\n",
       "    </tr>\n",
       "    <tr>\n",
       "      <th>1109</th>\n",
       "      <td>17611691000119</td>\n",
       "      <td>1</td>\n",
       "      <td>BIBORKA COSMETICOS</td>\n",
       "      <td></td>\n",
       "      <td>02</td>\n",
       "      <td>20200101</td>\n",
       "      <td>01</td>\n",
       "      <td></td>\n",
       "      <td></td>\n",
       "      <td></td>\n",
       "      <td>...</td>\n",
       "      <td></td>\n",
       "      <td></td>\n",
       "      <td>9.165282e+05</td>\n",
       "      <td>05</td>\n",
       "      <td>0</td>\n",
       "      <td></td>\n",
       "      <td></td>\n",
       "      <td>N</td>\n",
       "      <td></td>\n",
       "      <td></td>\n",
       "    </tr>\n",
       "    <tr>\n",
       "      <th>1786</th>\n",
       "      <td>08369911000148</td>\n",
       "      <td>1</td>\n",
       "      <td>NANA ESPORTIVOS</td>\n",
       "      <td></td>\n",
       "      <td>02</td>\n",
       "      <td>20200101</td>\n",
       "      <td>00</td>\n",
       "      <td></td>\n",
       "      <td></td>\n",
       "      <td></td>\n",
       "      <td>...</td>\n",
       "      <td></td>\n",
       "      <td></td>\n",
       "      <td>7.332226e+06</td>\n",
       "      <td>01</td>\n",
       "      <td>5</td>\n",
       "      <td></td>\n",
       "      <td></td>\n",
       "      <td>N</td>\n",
       "      <td></td>\n",
       "      <td></td>\n",
       "    </tr>\n",
       "  </tbody>\n",
       "</table>\n",
       "<p>5 rows × 38 columns</p>\n",
       "</div>"
      ],
      "text/plain": [
       "                cnpj matriz_filial                  razao_social  \\\n",
       "4017  22373705000199             1  MADISON EQUIPAMENTOS EIRELLI   \n",
       "2704  02664857000151             1            JANNIK IMOBILIARIA   \n",
       "2830  25066995000125             1  LIONEL INCORPORADORA EIRELLI   \n",
       "1109  17611691000119             1            BIBORKA COSMETICOS   \n",
       "1786  08369911000148             1               NANA ESPORTIVOS   \n",
       "\n",
       "     nome_fantasia situacao data_situacao motivo_situacao nm_cidade_exterior  \\\n",
       "4017                     02      20200101              00                      \n",
       "2704                     02      20200101              00                      \n",
       "2830                     02      20200101              00                      \n",
       "1109                     02      20200101              01                      \n",
       "1786                     02      20200101              00                      \n",
       "\n",
       "     cod_pais nome_pais  ... email qualif_resp capital_social porte  \\\n",
       "4017                     ...                     0.000000e+00    05   \n",
       "2704                     ...                     0.000000e+00    05   \n",
       "2830                     ...                     7.332226e+06    01   \n",
       "1109                     ...                     9.165282e+05    05   \n",
       "1786                     ...                     7.332226e+06    01   \n",
       "\n",
       "     opc_simples data_opc_simples data_exc_simples opc_mei sit_especial  \\\n",
       "4017           0                                         N                \n",
       "2704           0                                         N                \n",
       "2830           5                                         N                \n",
       "1109           0                                         N                \n",
       "1786           5                                         N                \n",
       "\n",
       "     data_sit_especial  \n",
       "4017                    \n",
       "2704                    \n",
       "2830                    \n",
       "1109                    \n",
       "1786                    \n",
       "\n",
       "[5 rows x 38 columns]"
      ]
     },
     "execution_count": 14,
     "metadata": {},
     "output_type": "execute_result"
    }
   ],
   "source": [
    "empresas.sample(5)"
   ]
  },
  {
   "cell_type": "markdown",
   "metadata": {},
   "source": [
    "Com o comando abaixo, podemos ver que a tabela possui 5.779 registros; não possui dados nulos e há apenas uma coluna com dados numéricos."
   ]
  },
  {
   "cell_type": "code",
   "execution_count": 15,
   "metadata": {},
   "outputs": [
    {
     "name": "stdout",
     "output_type": "stream",
     "text": [
      "<class 'pandas.core.frame.DataFrame'>\n",
      "RangeIndex: 5779 entries, 0 to 5778\n",
      "Data columns (total 38 columns):\n",
      " #   Column              Non-Null Count  Dtype  \n",
      "---  ------              --------------  -----  \n",
      " 0   cnpj                5779 non-null   object \n",
      " 1   matriz_filial       5779 non-null   object \n",
      " 2   razao_social        5779 non-null   object \n",
      " 3   nome_fantasia       5779 non-null   object \n",
      " 4   situacao            5779 non-null   object \n",
      " 5   data_situacao       5779 non-null   object \n",
      " 6   motivo_situacao     5779 non-null   object \n",
      " 7   nm_cidade_exterior  5779 non-null   object \n",
      " 8   cod_pais            5779 non-null   object \n",
      " 9   nome_pais           5779 non-null   object \n",
      " 10  cod_nat_juridica    5779 non-null   object \n",
      " 11  data_inicio_ativ    5779 non-null   object \n",
      " 12  cnae_fiscal         5779 non-null   object \n",
      " 13  tipo_logradouro     5779 non-null   object \n",
      " 14  logradouro          5779 non-null   object \n",
      " 15  numero              5779 non-null   object \n",
      " 16  complemento         5779 non-null   object \n",
      " 17  bairro              5779 non-null   object \n",
      " 18  cep                 5779 non-null   object \n",
      " 19  uf                  5779 non-null   object \n",
      " 20  cod_municipio       5779 non-null   object \n",
      " 21  municipio           5779 non-null   object \n",
      " 22  ddd_1               5779 non-null   object \n",
      " 23  telefone_1          5779 non-null   object \n",
      " 24  ddd_2               5779 non-null   object \n",
      " 25  telefone_2          5779 non-null   object \n",
      " 26  ddd_fax             5779 non-null   object \n",
      " 27  num_fax             5779 non-null   object \n",
      " 28  email               5779 non-null   object \n",
      " 29  qualif_resp         5779 non-null   object \n",
      " 30  capital_social      5779 non-null   float64\n",
      " 31  porte               5779 non-null   object \n",
      " 32  opc_simples         5779 non-null   object \n",
      " 33  data_opc_simples    5779 non-null   object \n",
      " 34  data_exc_simples    5779 non-null   object \n",
      " 35  opc_mei             5779 non-null   object \n",
      " 36  sit_especial        5779 non-null   object \n",
      " 37  data_sit_especial   5779 non-null   object \n",
      "dtypes: float64(1), object(37)\n",
      "memory usage: 1.7+ MB\n"
     ]
    }
   ],
   "source": [
    "empresas.info()"
   ]
  },
  {
   "cell_type": "markdown",
   "metadata": {},
   "source": [
    "#### Sócios\n",
    "Tabela de sócios da receita federal.\n",
    "\n",
    "Possui dados alterados, mas a estrutura das colunas é semelhante a base pública da Receita Federal.\n",
    "\n",
    "Os dados originais podem ser obtidos em: https://www.gov.br/receitafederal/pt-br/assuntos/orientacao-tributaria/cadastros/consultas/dados-publicos-cnpj"
   ]
  },
  {
   "cell_type": "code",
   "execution_count": 16,
   "metadata": {},
   "outputs": [],
   "source": [
    "sql = 'SELECT * FROM socios'\n",
    "socios = pd.read_sql(sql, engine, index_col=None)"
   ]
  },
  {
   "cell_type": "markdown",
   "metadata": {},
   "source": [
    "Aqui podemos visualizar uma amostra dos dados"
   ]
  },
  {
   "cell_type": "code",
   "execution_count": 17,
   "metadata": {},
   "outputs": [
    {
     "data": {
      "text/html": [
       "<div>\n",
       "<style scoped>\n",
       "    .dataframe tbody tr th:only-of-type {\n",
       "        vertical-align: middle;\n",
       "    }\n",
       "\n",
       "    .dataframe tbody tr th {\n",
       "        vertical-align: top;\n",
       "    }\n",
       "\n",
       "    .dataframe thead th {\n",
       "        text-align: right;\n",
       "    }\n",
       "</style>\n",
       "<table border=\"1\" class=\"dataframe\">\n",
       "  <thead>\n",
       "    <tr style=\"text-align: right;\">\n",
       "      <th></th>\n",
       "      <th>cnpj</th>\n",
       "      <th>tipo_socio</th>\n",
       "      <th>nome_socio</th>\n",
       "      <th>cnpj_cpf_socio</th>\n",
       "      <th>cod_qualificacao</th>\n",
       "      <th>perc_capital</th>\n",
       "      <th>data_entrada</th>\n",
       "      <th>cod_pais_ext</th>\n",
       "      <th>nome_pais_ext</th>\n",
       "      <th>cpf_repres</th>\n",
       "      <th>nome_repres</th>\n",
       "      <th>cod_qualif_repres</th>\n",
       "    </tr>\n",
       "  </thead>\n",
       "  <tbody>\n",
       "    <tr>\n",
       "      <th>5464</th>\n",
       "      <td>27806084000177</td>\n",
       "      <td>2</td>\n",
       "      <td>SIVAL SARGE</td>\n",
       "      <td>***634968**</td>\n",
       "      <td>49</td>\n",
       "      <td>0.0</td>\n",
       "      <td>20200101</td>\n",
       "      <td></td>\n",
       "      <td></td>\n",
       "      <td></td>\n",
       "      <td></td>\n",
       "      <td>00</td>\n",
       "    </tr>\n",
       "    <tr>\n",
       "      <th>1313</th>\n",
       "      <td>14567185000378</td>\n",
       "      <td>2</td>\n",
       "      <td>MANZIN CAUME DE MAMADI</td>\n",
       "      <td>***122008**</td>\n",
       "      <td>59</td>\n",
       "      <td>0.0</td>\n",
       "      <td>20200101</td>\n",
       "      <td></td>\n",
       "      <td></td>\n",
       "      <td></td>\n",
       "      <td></td>\n",
       "      <td>00</td>\n",
       "    </tr>\n",
       "    <tr>\n",
       "      <th>3632</th>\n",
       "      <td>13000032000197</td>\n",
       "      <td>2</td>\n",
       "      <td>LAERTE RUITA IASSIM</td>\n",
       "      <td>***499408**</td>\n",
       "      <td>49</td>\n",
       "      <td>0.0</td>\n",
       "      <td>20200101</td>\n",
       "      <td></td>\n",
       "      <td></td>\n",
       "      <td></td>\n",
       "      <td></td>\n",
       "      <td>00</td>\n",
       "    </tr>\n",
       "    <tr>\n",
       "      <th>4917</th>\n",
       "      <td>13722521000116</td>\n",
       "      <td>2</td>\n",
       "      <td>EDENICIO SHYLENE COOPE</td>\n",
       "      <td>***449298**</td>\n",
       "      <td>59</td>\n",
       "      <td>0.0</td>\n",
       "      <td>20200101</td>\n",
       "      <td></td>\n",
       "      <td></td>\n",
       "      <td></td>\n",
       "      <td></td>\n",
       "      <td>00</td>\n",
       "    </tr>\n",
       "    <tr>\n",
       "      <th>2501</th>\n",
       "      <td>13783359000530</td>\n",
       "      <td>2</td>\n",
       "      <td>HELIO RUSHANSKY CORAT</td>\n",
       "      <td>***331538**</td>\n",
       "      <td>59</td>\n",
       "      <td>0.0</td>\n",
       "      <td>20200101</td>\n",
       "      <td></td>\n",
       "      <td></td>\n",
       "      <td></td>\n",
       "      <td></td>\n",
       "      <td>00</td>\n",
       "    </tr>\n",
       "  </tbody>\n",
       "</table>\n",
       "</div>"
      ],
      "text/plain": [
       "                cnpj tipo_socio              nome_socio cnpj_cpf_socio  \\\n",
       "5464  27806084000177          2             SIVAL SARGE    ***634968**   \n",
       "1313  14567185000378          2  MANZIN CAUME DE MAMADI    ***122008**   \n",
       "3632  13000032000197          2     LAERTE RUITA IASSIM    ***499408**   \n",
       "4917  13722521000116          2  EDENICIO SHYLENE COOPE    ***449298**   \n",
       "2501  13783359000530          2   HELIO RUSHANSKY CORAT    ***331538**   \n",
       "\n",
       "     cod_qualificacao  perc_capital data_entrada cod_pais_ext nome_pais_ext  \\\n",
       "5464               49           0.0     20200101                              \n",
       "1313               59           0.0     20200101                              \n",
       "3632               49           0.0     20200101                              \n",
       "4917               59           0.0     20200101                              \n",
       "2501               59           0.0     20200101                              \n",
       "\n",
       "     cpf_repres nome_repres cod_qualif_repres  \n",
       "5464                                       00  \n",
       "1313                                       00  \n",
       "3632                                       00  \n",
       "4917                                       00  \n",
       "2501                                       00  "
      ]
     },
     "execution_count": 17,
     "metadata": {},
     "output_type": "execute_result"
    }
   ],
   "source": [
    "socios.sample(5)"
   ]
  },
  {
   "cell_type": "markdown",
   "metadata": {},
   "source": [
    "Com o comando abaixo, podemos ver que a tabela possui 5.825 registros; não possui dados nulos e há apenas uma coluna com dados numéricos."
   ]
  },
  {
   "cell_type": "code",
   "execution_count": 18,
   "metadata": {},
   "outputs": [
    {
     "name": "stdout",
     "output_type": "stream",
     "text": [
      "<class 'pandas.core.frame.DataFrame'>\n",
      "RangeIndex: 5825 entries, 0 to 5824\n",
      "Data columns (total 12 columns):\n",
      " #   Column             Non-Null Count  Dtype  \n",
      "---  ------             --------------  -----  \n",
      " 0   cnpj               5825 non-null   object \n",
      " 1   tipo_socio         5825 non-null   object \n",
      " 2   nome_socio         5825 non-null   object \n",
      " 3   cnpj_cpf_socio     5825 non-null   object \n",
      " 4   cod_qualificacao   5825 non-null   object \n",
      " 5   perc_capital       5825 non-null   float64\n",
      " 6   data_entrada       5825 non-null   object \n",
      " 7   cod_pais_ext       5825 non-null   object \n",
      " 8   nome_pais_ext      5825 non-null   object \n",
      " 9   cpf_repres         5825 non-null   object \n",
      " 10  nome_repres        5825 non-null   object \n",
      " 11  cod_qualif_repres  5825 non-null   object \n",
      "dtypes: float64(1), object(11)\n",
      "memory usage: 546.2+ KB\n"
     ]
    }
   ],
   "source": [
    "socios.info()"
   ]
  },
  {
   "cell_type": "markdown",
   "metadata": {
    "tags": []
   },
   "source": [
    "## Carregar dados de Pessoas Expostas Politicamente\n",
    "As Pessoas Expostas Politicamente são os agentes públicos que desempenham ou tenham desempenhado, nos cinco anos anteriores, no Brasil ou em países, territórios e dependências estrangeiros, cargos, empregos ou funções públicas relevantes, assim como seus representantes, familiares e outras pessoas de seu relacionamento próximo.\n",
    "\n",
    "Possui dados alterados, mas a estrutura das colunas é semelhante a base pública do Portal da Transparência.\n",
    "\n",
    "O arquivo original pode ser obtido em http://www.portaldatransparencia.gov.br/download-de-dados/pep"
   ]
  },
  {
   "cell_type": "code",
   "execution_count": 19,
   "metadata": {},
   "outputs": [],
   "source": [
    "arquivo_peps = 'PEP_SP.csv'\n",
    "filepath_arquivo_pep = os.path.join(diretorio_dados, arquivo_peps)"
   ]
  },
  {
   "cell_type": "code",
   "execution_count": 20,
   "metadata": {},
   "outputs": [],
   "source": [
    "peps = pd.read_csv(filepath_arquivo_pep, sep=';')"
   ]
  },
  {
   "cell_type": "markdown",
   "metadata": {},
   "source": [
    "Aqui podemos visualizar uma amostra dos dados"
   ]
  },
  {
   "cell_type": "code",
   "execution_count": 21,
   "metadata": {},
   "outputs": [
    {
     "data": {
      "text/html": [
       "<div>\n",
       "<style scoped>\n",
       "    .dataframe tbody tr th:only-of-type {\n",
       "        vertical-align: middle;\n",
       "    }\n",
       "\n",
       "    .dataframe tbody tr th {\n",
       "        vertical-align: top;\n",
       "    }\n",
       "\n",
       "    .dataframe thead th {\n",
       "        text-align: right;\n",
       "    }\n",
       "</style>\n",
       "<table border=\"1\" class=\"dataframe\">\n",
       "  <thead>\n",
       "    <tr style=\"text-align: right;\">\n",
       "      <th></th>\n",
       "      <th>CPF</th>\n",
       "      <th>Nome_PEP</th>\n",
       "      <th>Sigla_Função</th>\n",
       "      <th>Descrição_Função</th>\n",
       "      <th>Nível_Função</th>\n",
       "      <th>Nome_Órgão</th>\n",
       "      <th>Data_Início_Exercício</th>\n",
       "      <th>Data_Fim_Exercício</th>\n",
       "      <th>Data_Fim_Carência</th>\n",
       "      <th>uf_orgao</th>\n",
       "    </tr>\n",
       "  </thead>\n",
       "  <tbody>\n",
       "    <tr>\n",
       "      <th>3482</th>\n",
       "      <td>***.438.918-**</td>\n",
       "      <td>ZANOLINE YANKOUS DIGEZIO DE GIDEONY</td>\n",
       "      <td>VEREAD</td>\n",
       "      <td>VEREADOR</td>\n",
       "      <td>NaN</td>\n",
       "      <td>MUN. DE COSANDEY-SP</td>\n",
       "      <td>01/01/2017</td>\n",
       "      <td>31/12/2020</td>\n",
       "      <td>31/12/2025</td>\n",
       "      <td>SP</td>\n",
       "    </tr>\n",
       "    <tr>\n",
       "      <th>979</th>\n",
       "      <td>***.123.248-**</td>\n",
       "      <td>NEIDE JODA LANUZIA PENUELA CHIMANGO</td>\n",
       "      <td>VEREAD</td>\n",
       "      <td>VEREADOR</td>\n",
       "      <td>NaN</td>\n",
       "      <td>MUN. DE MENERES-SP</td>\n",
       "      <td>01/01/2017</td>\n",
       "      <td>31/12/2020</td>\n",
       "      <td>31/12/2025</td>\n",
       "      <td>SP</td>\n",
       "    </tr>\n",
       "    <tr>\n",
       "      <th>6307</th>\n",
       "      <td>***.814.438-**</td>\n",
       "      <td>MICHEL BRANCIFORTE ACHINELIS</td>\n",
       "      <td>VEREAD</td>\n",
       "      <td>VEREADOR</td>\n",
       "      <td>NaN</td>\n",
       "      <td>MUN. DE ABECASSIS-SP</td>\n",
       "      <td>01/01/2017</td>\n",
       "      <td>31/12/2020</td>\n",
       "      <td>31/12/2025</td>\n",
       "      <td>SP</td>\n",
       "    </tr>\n",
       "    <tr>\n",
       "      <th>1964</th>\n",
       "      <td>***.240.058-**</td>\n",
       "      <td>DELU SETTIMI</td>\n",
       "      <td>VEREAD</td>\n",
       "      <td>VEREADOR</td>\n",
       "      <td>NaN</td>\n",
       "      <td>MUN. DE BEZERR-SP</td>\n",
       "      <td>01/01/2017</td>\n",
       "      <td>31/12/2020</td>\n",
       "      <td>31/12/2025</td>\n",
       "      <td>SP</td>\n",
       "    </tr>\n",
       "    <tr>\n",
       "      <th>5387</th>\n",
       "      <td>***.697.298-**</td>\n",
       "      <td>MILTON MARGENTE DA SUSAKO</td>\n",
       "      <td>VEREAD</td>\n",
       "      <td>VEREADOR</td>\n",
       "      <td>NaN</td>\n",
       "      <td>MUN. DE CAPELLESSO-SP</td>\n",
       "      <td>01/01/2017</td>\n",
       "      <td>31/12/2020</td>\n",
       "      <td>31/12/2025</td>\n",
       "      <td>SP</td>\n",
       "    </tr>\n",
       "  </tbody>\n",
       "</table>\n",
       "</div>"
      ],
      "text/plain": [
       "                 CPF                             Nome_PEP Sigla_Função  \\\n",
       "3482  ***.438.918-**  ZANOLINE YANKOUS DIGEZIO DE GIDEONY       VEREAD   \n",
       "979   ***.123.248-**  NEIDE JODA LANUZIA PENUELA CHIMANGO       VEREAD   \n",
       "6307  ***.814.438-**         MICHEL BRANCIFORTE ACHINELIS       VEREAD   \n",
       "1964  ***.240.058-**                         DELU SETTIMI       VEREAD   \n",
       "5387  ***.697.298-**            MILTON MARGENTE DA SUSAKO       VEREAD   \n",
       "\n",
       "     Descrição_Função  Nível_Função             Nome_Órgão  \\\n",
       "3482         VEREADOR           NaN    MUN. DE COSANDEY-SP   \n",
       "979          VEREADOR           NaN     MUN. DE MENERES-SP   \n",
       "6307         VEREADOR           NaN   MUN. DE ABECASSIS-SP   \n",
       "1964         VEREADOR           NaN      MUN. DE BEZERR-SP   \n",
       "5387         VEREADOR           NaN  MUN. DE CAPELLESSO-SP   \n",
       "\n",
       "     Data_Início_Exercício Data_Fim_Exercício Data_Fim_Carência uf_orgao  \n",
       "3482            01/01/2017         31/12/2020        31/12/2025       SP  \n",
       "979             01/01/2017         31/12/2020        31/12/2025       SP  \n",
       "6307            01/01/2017         31/12/2020        31/12/2025       SP  \n",
       "1964            01/01/2017         31/12/2020        31/12/2025       SP  \n",
       "5387            01/01/2017         31/12/2020        31/12/2025       SP  "
      ]
     },
     "execution_count": 21,
     "metadata": {},
     "output_type": "execute_result"
    }
   ],
   "source": [
    "peps.sample(5)"
   ]
  },
  {
   "cell_type": "markdown",
   "metadata": {},
   "source": [
    "Com o comando abaixo, podemos ver que a tabela possui 7.690 registros; possui apenas o coluna **Nível_Função** com dados nulos."
   ]
  },
  {
   "cell_type": "code",
   "execution_count": 22,
   "metadata": {},
   "outputs": [
    {
     "name": "stdout",
     "output_type": "stream",
     "text": [
      "<class 'pandas.core.frame.DataFrame'>\n",
      "RangeIndex: 7690 entries, 0 to 7689\n",
      "Data columns (total 10 columns):\n",
      " #   Column                 Non-Null Count  Dtype  \n",
      "---  ------                 --------------  -----  \n",
      " 0   CPF                    7690 non-null   object \n",
      " 1   Nome_PEP               7690 non-null   object \n",
      " 2   Sigla_Função           7690 non-null   object \n",
      " 3   Descrição_Função       7690 non-null   object \n",
      " 4   Nível_Função           0 non-null      float64\n",
      " 5   Nome_Órgão             7690 non-null   object \n",
      " 6   Data_Início_Exercício  7690 non-null   object \n",
      " 7   Data_Fim_Exercício     7690 non-null   object \n",
      " 8   Data_Fim_Carência      7690 non-null   object \n",
      " 9   uf_orgao               7690 non-null   object \n",
      "dtypes: float64(1), object(9)\n",
      "memory usage: 600.9+ KB\n"
     ]
    }
   ],
   "source": [
    "peps.info()"
   ]
  },
  {
   "cell_type": "markdown",
   "metadata": {},
   "source": [
    "# Execução"
   ]
  },
  {
   "cell_type": "code",
   "execution_count": 23,
   "metadata": {},
   "outputs": [],
   "source": [
    "# Definir diretorio saida\n",
    "diretorio_saida_dados = 'saida'\n",
    "\n",
    "# Remover diretorio saida, se houver\n",
    "shutil.rmtree(diretorio_saida_dados, ignore_errors=True)\n",
    "\n",
    "# Criar diretorio saida\n",
    "os.makedirs(diretorio_saida_dados, exist_ok=True)"
   ]
  },
  {
   "cell_type": "markdown",
   "metadata": {},
   "source": [
    "## Tratamento dos dados\n",
    "\n",
    "Alguns dados precisam ser tratados antes da análise."
   ]
  },
  {
   "cell_type": "markdown",
   "metadata": {},
   "source": [
    "### Empresa"
   ]
  },
  {
   "cell_type": "markdown",
   "metadata": {},
   "source": [
    "A coluna **data_situacao** está no formato YYYMMDD, para facilitar a análise, vamos criar a coluna **data_situacao_normalizado** com o formato YYYY-MM-DD"
   ]
  },
  {
   "cell_type": "code",
   "execution_count": 24,
   "metadata": {},
   "outputs": [
    {
     "data": {
      "text/plain": [
       "3489    20200101\n",
       "924     20200101\n",
       "2296    20200101\n",
       "1352    20200101\n",
       "2946    20200101\n",
       "Name: data_situacao, dtype: object"
      ]
     },
     "execution_count": 24,
     "metadata": {},
     "output_type": "execute_result"
    }
   ],
   "source": [
    "empresas['data_situacao'].sample(5)"
   ]
  },
  {
   "cell_type": "code",
   "execution_count": 25,
   "metadata": {},
   "outputs": [],
   "source": [
    "empresas['data_situacao_normalizado'] = pd.to_datetime(empresas['data_situacao']).dt.date"
   ]
  },
  {
   "cell_type": "code",
   "execution_count": 26,
   "metadata": {},
   "outputs": [
    {
     "data": {
      "text/plain": [
       "3668    2020-01-01\n",
       "2825    2020-01-01\n",
       "3416    2020-01-01\n",
       "3384    2020-01-01\n",
       "5035    2020-01-01\n",
       "Name: data_situacao_normalizado, dtype: object"
      ]
     },
     "execution_count": 26,
     "metadata": {},
     "output_type": "execute_result"
    }
   ],
   "source": [
    "empresas['data_situacao_normalizado'].sample(5)"
   ]
  },
  {
   "cell_type": "markdown",
   "metadata": {},
   "source": [
    "### Socios"
   ]
  },
  {
   "cell_type": "markdown",
   "metadata": {},
   "source": [
    "A coluna **data_entrada** está no formato YYYMMDD, para facilitar a análise, vamos criar a coluna **data_entrada_normalizado** com o formato YYYY-MM-DD"
   ]
  },
  {
   "cell_type": "code",
   "execution_count": 27,
   "metadata": {},
   "outputs": [
    {
     "data": {
      "text/plain": [
       "4867    20200101\n",
       "1057    20200101\n",
       "5659    20200101\n",
       "2353    20200101\n",
       "5629    20200101\n",
       "Name: data_entrada, dtype: object"
      ]
     },
     "execution_count": 27,
     "metadata": {},
     "output_type": "execute_result"
    }
   ],
   "source": [
    "socios['data_entrada'].sample(5)"
   ]
  },
  {
   "cell_type": "code",
   "execution_count": 28,
   "metadata": {},
   "outputs": [],
   "source": [
    "socios['data_entrada_normalizado'] = pd.to_datetime(socios['data_entrada']).dt.date"
   ]
  },
  {
   "cell_type": "code",
   "execution_count": 29,
   "metadata": {},
   "outputs": [
    {
     "data": {
      "text/plain": [
       "1220    2020-01-01\n",
       "4327    2020-01-01\n",
       "1065    2020-01-01\n",
       "4471    2020-01-01\n",
       "1507    2020-01-01\n",
       "Name: data_entrada_normalizado, dtype: object"
      ]
     },
     "execution_count": 29,
     "metadata": {},
     "output_type": "execute_result"
    }
   ],
   "source": [
    "socios['data_entrada_normalizado'].sample(5)"
   ]
  },
  {
   "cell_type": "markdown",
   "metadata": {},
   "source": [
    "### Pessoas Politicamente Expostas"
   ]
  },
  {
   "cell_type": "markdown",
   "metadata": {},
   "source": [
    "A coluna **CPF** possuem pontuação, vamos criar a coluna **CPF_normalizado** sem elas."
   ]
  },
  {
   "cell_type": "code",
   "execution_count": 30,
   "metadata": {},
   "outputs": [
    {
     "data": {
      "text/plain": [
       "2572    ***.314.458-**\n",
       "3168    ***.391.178-**\n",
       "6553    ***.850.358-**\n",
       "4030    ***.515.838-**\n",
       "4155    ***.530.108-**\n",
       "Name: CPF, dtype: object"
      ]
     },
     "execution_count": 30,
     "metadata": {},
     "output_type": "execute_result"
    }
   ],
   "source": [
    "peps['CPF'].sample(5)"
   ]
  },
  {
   "cell_type": "code",
   "execution_count": 31,
   "metadata": {},
   "outputs": [],
   "source": [
    "peps['CPF_normalizado'] = peps['CPF'].str.replace(\".\", \"\", regex=False).str.replace(\"-\", \"\", regex=False)"
   ]
  },
  {
   "cell_type": "code",
   "execution_count": 32,
   "metadata": {},
   "outputs": [
    {
     "data": {
      "text/plain": [
       "4940    ***638528**\n",
       "2992    ***364378**\n",
       "6826    ***888478**\n",
       "2163    ***267098**\n",
       "6164    ***796278**\n",
       "Name: CPF_normalizado, dtype: object"
      ]
     },
     "execution_count": 32,
     "metadata": {},
     "output_type": "execute_result"
    }
   ],
   "source": [
    "peps['CPF_normalizado'].sample(5)"
   ]
  },
  {
   "cell_type": "markdown",
   "metadata": {},
   "source": [
    "Na coluna **Nome_Órgão** vamos filtrar dados extras e manter apenas o nome do município na coluna **Municipio_normalizado**"
   ]
  },
  {
   "cell_type": "code",
   "execution_count": 33,
   "metadata": {},
   "outputs": [
    {
     "data": {
      "text/plain": [
       "546     MUN. DE SHIHONMATSU-SP\n",
       "1084         MUN. DE CAIMAR-SP\n",
       "3461            MUN. DE MOO-SP\n",
       "7633     MUN. DE SCHIAVETTI-SP\n",
       "4991        MUN. DE KOVALIK-SP\n",
       "Name: Nome_Órgão, dtype: object"
      ]
     },
     "execution_count": 33,
     "metadata": {},
     "output_type": "execute_result"
    }
   ],
   "source": [
    "peps['Nome_Órgão'].sample(5)"
   ]
  },
  {
   "cell_type": "code",
   "execution_count": 34,
   "metadata": {},
   "outputs": [],
   "source": [
    "peps['Municipio_normalizado'] = peps['Nome_Órgão'].str.replace(\"MUN. DE \", \"\", regex=False).str.replace(\"-SP\", \"\", regex=False)"
   ]
  },
  {
   "cell_type": "code",
   "execution_count": 35,
   "metadata": {},
   "outputs": [
    {
     "data": {
      "text/plain": [
       "2891         DALAGO\n",
       "4448        ARNEIRO\n",
       "3947    CASTALDELLI\n",
       "57           MORIBE\n",
       "1887    POKRIWIECKI\n",
       "Name: Municipio_normalizado, dtype: object"
      ]
     },
     "execution_count": 35,
     "metadata": {},
     "output_type": "execute_result"
    }
   ],
   "source": [
    "peps['Municipio_normalizado'].sample(5)"
   ]
  },
  {
   "cell_type": "markdown",
   "metadata": {},
   "source": [
    "As coluna **Data_Início_Exercício**, **Data_Fim_Exercício** e **Data_Fim_Carência** estão no formato YYYY/MM/DD, para facilitar a análise, vamos criar a colunas **Data_Inicio_Exercicio_normalizado**, **Data_Fim_Exercicio_normalizado** e **Data_Fim_Carência_normalizado** com o formato YYYY-MM-DD"
   ]
  },
  {
   "cell_type": "code",
   "execution_count": 36,
   "metadata": {},
   "outputs": [
    {
     "data": {
      "text/plain": [
       "6762    01/01/2017\n",
       "6520    01/01/2017\n",
       "1523    01/01/2017\n",
       "5499    01/01/2017\n",
       "560     01/01/2017\n",
       "Name: Data_Início_Exercício, dtype: object"
      ]
     },
     "execution_count": 36,
     "metadata": {},
     "output_type": "execute_result"
    }
   ],
   "source": [
    "peps['Data_Início_Exercício'].sample(5)"
   ]
  },
  {
   "cell_type": "code",
   "execution_count": 37,
   "metadata": {},
   "outputs": [
    {
     "data": {
      "text/plain": [
       "5162    31/12/2020\n",
       "3492    31/12/2020\n",
       "2097    31/12/2020\n",
       "1140    31/12/2020\n",
       "7032    31/12/2020\n",
       "Name: Data_Fim_Exercício, dtype: object"
      ]
     },
     "execution_count": 37,
     "metadata": {},
     "output_type": "execute_result"
    }
   ],
   "source": [
    "peps['Data_Fim_Exercício'].sample(5)"
   ]
  },
  {
   "cell_type": "code",
   "execution_count": 38,
   "metadata": {},
   "outputs": [
    {
     "data": {
      "text/plain": [
       "6840    31/12/2025\n",
       "5675    31/12/2025\n",
       "676     31/12/2025\n",
       "3002    31/12/2025\n",
       "297     31/12/2025\n",
       "Name: Data_Fim_Carência, dtype: object"
      ]
     },
     "execution_count": 38,
     "metadata": {},
     "output_type": "execute_result"
    }
   ],
   "source": [
    "peps['Data_Fim_Carência'].sample(5)"
   ]
  },
  {
   "cell_type": "code",
   "execution_count": 39,
   "metadata": {},
   "outputs": [],
   "source": [
    "peps['Data_Inicio_Exercicio_normalizado'] = pd.to_datetime(peps['Data_Início_Exercício']).dt.date\n",
    "peps['Data_Fim_Exercicio_normalizado'] = pd.to_datetime(peps['Data_Fim_Exercício']).dt.date\n",
    "peps['Data_Fim_Carência_normalizado'] = pd.to_datetime(peps['Data_Fim_Carência']).dt.date"
   ]
  },
  {
   "cell_type": "code",
   "execution_count": 40,
   "metadata": {},
   "outputs": [
    {
     "data": {
      "text/plain": [
       "490     2017-01-01\n",
       "786     2017-01-01\n",
       "3409    2017-01-01\n",
       "7460    2017-01-01\n",
       "4994    2017-01-01\n",
       "Name: Data_Inicio_Exercicio_normalizado, dtype: object"
      ]
     },
     "execution_count": 40,
     "metadata": {},
     "output_type": "execute_result"
    }
   ],
   "source": [
    "peps['Data_Inicio_Exercicio_normalizado'].sample(5)"
   ]
  },
  {
   "cell_type": "code",
   "execution_count": 41,
   "metadata": {},
   "outputs": [
    {
     "data": {
      "text/plain": [
       "6332    2020-12-31\n",
       "1072    2020-12-31\n",
       "1284    2020-12-31\n",
       "3702    2020-12-31\n",
       "4808    2020-12-31\n",
       "Name: Data_Fim_Exercicio_normalizado, dtype: object"
      ]
     },
     "execution_count": 41,
     "metadata": {},
     "output_type": "execute_result"
    }
   ],
   "source": [
    "peps['Data_Fim_Exercicio_normalizado'].sample(5)"
   ]
  },
  {
   "cell_type": "code",
   "execution_count": 42,
   "metadata": {},
   "outputs": [
    {
     "data": {
      "text/plain": [
       "5719    2025-12-31\n",
       "2875    2025-12-31\n",
       "4945    2025-12-31\n",
       "1129    2025-12-31\n",
       "5709    2025-12-31\n",
       "Name: Data_Fim_Carência_normalizado, dtype: object"
      ]
     },
     "execution_count": 42,
     "metadata": {},
     "output_type": "execute_result"
    }
   ],
   "source": [
    "peps['Data_Fim_Carência_normalizado'].sample(5)"
   ]
  },
  {
   "cell_type": "markdown",
   "metadata": {},
   "source": [
    "## Gerar Banco de Dados"
   ]
  },
  {
   "cell_type": "markdown",
   "metadata": {},
   "source": [
    "### Copiar banco original para diretorio de saida"
   ]
  },
  {
   "cell_type": "code",
   "execution_count": 43,
   "metadata": {},
   "outputs": [
    {
     "data": {
      "text/plain": [
       "'saida/output.db'"
      ]
     },
     "execution_count": 43,
     "metadata": {},
     "output_type": "execute_result"
    }
   ],
   "source": [
    "arquivo_banco_saida = 'output.db'\n",
    "filepath_arquivo_banco_saida = os.path.join(diretorio_saida_dados, arquivo_banco_saida)\n",
    "shutil.copyfile(filepath_arquivo_sqlite, filepath_arquivo_banco_saida)"
   ]
  },
  {
   "cell_type": "markdown",
   "metadata": {},
   "source": [
    "### Gravar tabela de prefeitos_vereadores em banco gerado"
   ]
  },
  {
   "cell_type": "code",
   "execution_count": 44,
   "metadata": {},
   "outputs": [],
   "source": [
    "url_banco = \"sqlite:///{}\".format(filepath_arquivo_banco_saida)\n",
    "engine_banco_saida = sqlalchemy.create_engine(url_banco)"
   ]
  },
  {
   "cell_type": "code",
   "execution_count": 45,
   "metadata": {},
   "outputs": [],
   "source": [
    "peps.to_sql('peps', con=engine_banco_saida)"
   ]
  },
  {
   "cell_type": "markdown",
   "metadata": {},
   "source": [
    "## Consultar Empresas Relacionadas com Pessoas Politicamente Expostas que Receberam Recursos"
   ]
  },
  {
   "cell_type": "code",
   "execution_count": 46,
   "metadata": {},
   "outputs": [],
   "source": [
    "sql = 'SELECT \\\n",
    "  des.ds_municipio AS [Nome_Municipio_Ficticio], \\\n",
    "  des.nr_identificador_despesa AS [CNPJ_Empresa_Beneficiaria], \\\n",
    "  des.ds_despesa AS [Razao_Social_Empresa_Beneficiaria], \\\n",
    "  des.soma AS [Valor_Total], \\\n",
    "  emp.cnpj AS [CNPJ_RFB], \\\n",
    "  emp.razao_social AS [Razao_Social_RFB], \\\n",
    "  CASE emp.situacao \\\n",
    "    WHEN \"01\" THEN \"NULA\" \\\n",
    "    WHEN \"02\" THEN \"ATIVA\" \\\n",
    "    WHEN \"03\" THEN \"SUSPENSA\" \\\n",
    "    WHEN \"04\" THEN \"INAPTA\" \\\n",
    "    WHEN \"08\" THEN \"BAIXADA\" \\\n",
    "  END AS [Situacao_Cadastral_RFB], \\\n",
    "  CAST(emp.data_situacao AS DATE) AS [Data_Situacao_Cadastral_RFB], \\\n",
    "  emp.cod_nat_juridica AS [Codigo_Natureza_Juridica_RFB], \\\n",
    "  CAST(emp.data_inicio_ativ AS DATE) AS [Data_Inicio_Atividade_RFB], \\\n",
    "  emp.cnae_fiscal AS [CNAE_Fiscal_RFB], \\\n",
    "  emp.municipio AS [Municipio_RFB], \\\n",
    "  emp.uf AS [UF_RFB], \\\n",
    "  soc.nome_socio AS [Nome_Socio_RFB], \\\n",
    "  soc.cnpj_cpf_socio AS [CPF_Socio_RFB], \\\n",
    "  CAST(soc.data_entrada AS DATE) AS [Data_Entrada_Socio_RFB], \\\n",
    "  pep.Nome_PEP AS [Nome_PEP], \\\n",
    "  pep.CPF_normalizado AS [CPF_PEP], \\\n",
    "  pep.Descrição_Função AS [Funcao_PEP], \\\n",
    "  pep.Data_Inicio_Exercicio_normalizado AS [Data_Inicio_PEP], \\\n",
    "  pep.Data_Fim_Exercicio_normalizado AS [Data_Fim_PEP], \\\n",
    "  pep.Data_Fim_Carência_normalizado AS [Data_Carencia_PEP], \\\n",
    "  pep.Municipio_normalizado AS [Municipio_PEP], \\\n",
    "  pep.uf_orgao AS [UF_PEP] \\\n",
    "FROM despesas_consolidado des \\\n",
    "JOIN empresas emp ON emp.cnpj = des.nr_identificador_despesa \\\n",
    "JOIN socios soc ON soc.cnpj = emp.cnpj \\\n",
    "JOIN peps pep ON pep.CPF_normalizado = soc.cnpj_cpf_socio AND pep.Nome_PEP = soc.nome_socio'"
   ]
  },
  {
   "cell_type": "code",
   "execution_count": 47,
   "metadata": {},
   "outputs": [],
   "source": [
    "empresas_peps = pd.read_sql(sql, engine_banco_saida, index_col=None)"
   ]
  },
  {
   "cell_type": "code",
   "execution_count": 48,
   "metadata": {},
   "outputs": [
    {
     "data": {
      "text/html": [
       "<div>\n",
       "<style scoped>\n",
       "    .dataframe tbody tr th:only-of-type {\n",
       "        vertical-align: middle;\n",
       "    }\n",
       "\n",
       "    .dataframe tbody tr th {\n",
       "        vertical-align: top;\n",
       "    }\n",
       "\n",
       "    .dataframe thead th {\n",
       "        text-align: right;\n",
       "    }\n",
       "</style>\n",
       "<table border=\"1\" class=\"dataframe\">\n",
       "  <thead>\n",
       "    <tr style=\"text-align: right;\">\n",
       "      <th></th>\n",
       "      <th>Nome_Municipio_Ficticio</th>\n",
       "      <th>CNPJ_Empresa_Beneficiaria</th>\n",
       "      <th>Razao_Social_Empresa_Beneficiaria</th>\n",
       "      <th>Valor_Total</th>\n",
       "      <th>CNPJ_RFB</th>\n",
       "      <th>Razao_Social_RFB</th>\n",
       "      <th>Situacao_Cadastral_RFB</th>\n",
       "      <th>Data_Situacao_Cadastral_RFB</th>\n",
       "      <th>Codigo_Natureza_Juridica_RFB</th>\n",
       "      <th>Data_Inicio_Atividade_RFB</th>\n",
       "      <th>...</th>\n",
       "      <th>CPF_Socio_RFB</th>\n",
       "      <th>Data_Entrada_Socio_RFB</th>\n",
       "      <th>Nome_PEP</th>\n",
       "      <th>CPF_PEP</th>\n",
       "      <th>Funcao_PEP</th>\n",
       "      <th>Data_Inicio_PEP</th>\n",
       "      <th>Data_Fim_PEP</th>\n",
       "      <th>Data_Carencia_PEP</th>\n",
       "      <th>Municipio_PEP</th>\n",
       "      <th>UF_PEP</th>\n",
       "    </tr>\n",
       "  </thead>\n",
       "  <tbody>\n",
       "    <tr>\n",
       "      <th>28</th>\n",
       "      <td>SITA</td>\n",
       "      <td>49524688000199</td>\n",
       "      <td>IBAI VESTUARIO</td>\n",
       "      <td>339078.90</td>\n",
       "      <td>49524688000199</td>\n",
       "      <td>IBAI VESTUARIO</td>\n",
       "      <td>ATIVA</td>\n",
       "      <td>20200101</td>\n",
       "      <td>2038</td>\n",
       "      <td>20201019</td>\n",
       "      <td>...</td>\n",
       "      <td>***460278**</td>\n",
       "      <td>20200101</td>\n",
       "      <td>SAVIOLO LUYTEN SMERIERI</td>\n",
       "      <td>***460278**</td>\n",
       "      <td>PREFEITO</td>\n",
       "      <td>2017-01-01</td>\n",
       "      <td>2020-12-31</td>\n",
       "      <td>2025-12-31</td>\n",
       "      <td>SITA</td>\n",
       "      <td>SP</td>\n",
       "    </tr>\n",
       "    <tr>\n",
       "      <th>47</th>\n",
       "      <td>BUSSAMRA</td>\n",
       "      <td>59442647000146</td>\n",
       "      <td>LOUISE ADMINISTRATIVOS</td>\n",
       "      <td>178798.02</td>\n",
       "      <td>59442647000146</td>\n",
       "      <td>LOUISE ADMINISTRATIVOS</td>\n",
       "      <td>ATIVA</td>\n",
       "      <td>20200101</td>\n",
       "      <td>3999</td>\n",
       "      <td>19891126</td>\n",
       "      <td>...</td>\n",
       "      <td>***853118**</td>\n",
       "      <td>20200101</td>\n",
       "      <td>BENJAMIM HOSCHITAKE OBERLEITENER DE MOLIMAROLI</td>\n",
       "      <td>***853118**</td>\n",
       "      <td>PREFEITO</td>\n",
       "      <td>2017-01-01</td>\n",
       "      <td>2020-12-31</td>\n",
       "      <td>2025-12-31</td>\n",
       "      <td>NIRAZAWA</td>\n",
       "      <td>SP</td>\n",
       "    </tr>\n",
       "    <tr>\n",
       "      <th>24</th>\n",
       "      <td>HANDA</td>\n",
       "      <td>07815964000138</td>\n",
       "      <td>AMINE LIMPEZA EPP</td>\n",
       "      <td>425778.13</td>\n",
       "      <td>07815964000138</td>\n",
       "      <td>AMINE LIMPEZA EPP</td>\n",
       "      <td>ATIVA</td>\n",
       "      <td>20200101</td>\n",
       "      <td>2305</td>\n",
       "      <td>20200127</td>\n",
       "      <td>...</td>\n",
       "      <td>***396958**</td>\n",
       "      <td>20200101</td>\n",
       "      <td>FABIO MUSSY DE BOYDE</td>\n",
       "      <td>***396958**</td>\n",
       "      <td>VEREADOR</td>\n",
       "      <td>2017-01-01</td>\n",
       "      <td>2020-12-31</td>\n",
       "      <td>2025-12-31</td>\n",
       "      <td>VIJARVA</td>\n",
       "      <td>SP</td>\n",
       "    </tr>\n",
       "    <tr>\n",
       "      <th>64</th>\n",
       "      <td>MILLNITZ</td>\n",
       "      <td>12480500000115</td>\n",
       "      <td>VICENTE MODAS</td>\n",
       "      <td>131687.01</td>\n",
       "      <td>12480500000115</td>\n",
       "      <td>VICENTE MODAS</td>\n",
       "      <td>BAIXADA</td>\n",
       "      <td>20200101</td>\n",
       "      <td>2305</td>\n",
       "      <td>20140218</td>\n",
       "      <td>...</td>\n",
       "      <td>***178358**</td>\n",
       "      <td>20200101</td>\n",
       "      <td>JOAO YPEI DE KAARA</td>\n",
       "      <td>***178358**</td>\n",
       "      <td>PREFEITO</td>\n",
       "      <td>2017-01-01</td>\n",
       "      <td>2020-12-31</td>\n",
       "      <td>2025-12-31</td>\n",
       "      <td>GAZETA</td>\n",
       "      <td>SP</td>\n",
       "    </tr>\n",
       "    <tr>\n",
       "      <th>9</th>\n",
       "      <td>COSLOVSKY</td>\n",
       "      <td>55815300000213</td>\n",
       "      <td>AMINE IMOBILIARIOS</td>\n",
       "      <td>747635.06</td>\n",
       "      <td>55815300000213</td>\n",
       "      <td>AMINE IMOBILIARIOS</td>\n",
       "      <td>ATIVA</td>\n",
       "      <td>20200101</td>\n",
       "      <td>3999</td>\n",
       "      <td>19870728</td>\n",
       "      <td>...</td>\n",
       "      <td>***890658**</td>\n",
       "      <td>20200101</td>\n",
       "      <td>AMARILDO SABATE KAILER</td>\n",
       "      <td>***890658**</td>\n",
       "      <td>PREFEITO</td>\n",
       "      <td>2017-01-01</td>\n",
       "      <td>2020-12-31</td>\n",
       "      <td>2025-12-31</td>\n",
       "      <td>SOLIZ</td>\n",
       "      <td>SP</td>\n",
       "    </tr>\n",
       "  </tbody>\n",
       "</table>\n",
       "<p>5 rows × 24 columns</p>\n",
       "</div>"
      ],
      "text/plain": [
       "   Nome_Municipio_Ficticio CNPJ_Empresa_Beneficiaria  \\\n",
       "28                    SITA            49524688000199   \n",
       "47                BUSSAMRA            59442647000146   \n",
       "24                   HANDA            07815964000138   \n",
       "64                MILLNITZ            12480500000115   \n",
       "9                COSLOVSKY            55815300000213   \n",
       "\n",
       "   Razao_Social_Empresa_Beneficiaria  Valor_Total        CNPJ_RFB  \\\n",
       "28                    IBAI VESTUARIO    339078.90  49524688000199   \n",
       "47            LOUISE ADMINISTRATIVOS    178798.02  59442647000146   \n",
       "24                 AMINE LIMPEZA EPP    425778.13  07815964000138   \n",
       "64                     VICENTE MODAS    131687.01  12480500000115   \n",
       "9                 AMINE IMOBILIARIOS    747635.06  55815300000213   \n",
       "\n",
       "          Razao_Social_RFB Situacao_Cadastral_RFB  \\\n",
       "28          IBAI VESTUARIO                  ATIVA   \n",
       "47  LOUISE ADMINISTRATIVOS                  ATIVA   \n",
       "24       AMINE LIMPEZA EPP                  ATIVA   \n",
       "64           VICENTE MODAS                BAIXADA   \n",
       "9       AMINE IMOBILIARIOS                  ATIVA   \n",
       "\n",
       "    Data_Situacao_Cadastral_RFB Codigo_Natureza_Juridica_RFB  \\\n",
       "28                     20200101                         2038   \n",
       "47                     20200101                         3999   \n",
       "24                     20200101                         2305   \n",
       "64                     20200101                         2305   \n",
       "9                      20200101                         3999   \n",
       "\n",
       "    Data_Inicio_Atividade_RFB  ... CPF_Socio_RFB Data_Entrada_Socio_RFB  \\\n",
       "28                   20201019  ...   ***460278**               20200101   \n",
       "47                   19891126  ...   ***853118**               20200101   \n",
       "24                   20200127  ...   ***396958**               20200101   \n",
       "64                   20140218  ...   ***178358**               20200101   \n",
       "9                    19870728  ...   ***890658**               20200101   \n",
       "\n",
       "                                          Nome_PEP      CPF_PEP Funcao_PEP  \\\n",
       "28                         SAVIOLO LUYTEN SMERIERI  ***460278**   PREFEITO   \n",
       "47  BENJAMIM HOSCHITAKE OBERLEITENER DE MOLIMAROLI  ***853118**   PREFEITO   \n",
       "24                            FABIO MUSSY DE BOYDE  ***396958**   VEREADOR   \n",
       "64                              JOAO YPEI DE KAARA  ***178358**   PREFEITO   \n",
       "9                           AMARILDO SABATE KAILER  ***890658**   PREFEITO   \n",
       "\n",
       "    Data_Inicio_PEP Data_Fim_PEP Data_Carencia_PEP Municipio_PEP UF_PEP  \n",
       "28       2017-01-01   2020-12-31        2025-12-31          SITA     SP  \n",
       "47       2017-01-01   2020-12-31        2025-12-31      NIRAZAWA     SP  \n",
       "24       2017-01-01   2020-12-31        2025-12-31       VIJARVA     SP  \n",
       "64       2017-01-01   2020-12-31        2025-12-31        GAZETA     SP  \n",
       "9        2017-01-01   2020-12-31        2025-12-31         SOLIZ     SP  \n",
       "\n",
       "[5 rows x 24 columns]"
      ]
     },
     "execution_count": 48,
     "metadata": {},
     "output_type": "execute_result"
    }
   ],
   "source": [
    "empresas_peps.sample(5)"
   ]
  },
  {
   "cell_type": "markdown",
   "metadata": {
    "tags": []
   },
   "source": [
    "### Salvar dados"
   ]
  },
  {
   "cell_type": "code",
   "execution_count": 49,
   "metadata": {},
   "outputs": [],
   "source": [
    "arquivo_saida = 'empresas_peps.csv'\n",
    "filepath = os.path.join(diretorio_saida_dados, arquivo_saida)\n",
    "empresas_peps.to_csv(filepath, index=False)"
   ]
  },
  {
   "cell_type": "markdown",
   "metadata": {},
   "source": [
    "## Consultar Empresas Relacionadas com Pessoas Politicamente Expostas que Receberam Recursos dos Municípios que Possuem Mandatos"
   ]
  },
  {
   "cell_type": "code",
   "execution_count": 50,
   "metadata": {},
   "outputs": [],
   "source": [
    "empresas_peps_mesmo_municipio = empresas_peps[empresas_peps['Municipio_PEP'] == empresas_peps['Nome_Municipio_Ficticio']]"
   ]
  },
  {
   "cell_type": "code",
   "execution_count": 51,
   "metadata": {},
   "outputs": [
    {
     "data": {
      "text/plain": [
       "(11, 24)"
      ]
     },
     "execution_count": 51,
     "metadata": {},
     "output_type": "execute_result"
    }
   ],
   "source": [
    "empresas_peps_mesmo_municipio.shape"
   ]
  },
  {
   "cell_type": "code",
   "execution_count": 52,
   "metadata": {},
   "outputs": [
    {
     "data": {
      "text/html": [
       "<div>\n",
       "<style scoped>\n",
       "    .dataframe tbody tr th:only-of-type {\n",
       "        vertical-align: middle;\n",
       "    }\n",
       "\n",
       "    .dataframe tbody tr th {\n",
       "        vertical-align: top;\n",
       "    }\n",
       "\n",
       "    .dataframe thead th {\n",
       "        text-align: right;\n",
       "    }\n",
       "</style>\n",
       "<table border=\"1\" class=\"dataframe\">\n",
       "  <thead>\n",
       "    <tr style=\"text-align: right;\">\n",
       "      <th></th>\n",
       "      <th>Nome_Municipio_Ficticio</th>\n",
       "      <th>CNPJ_Empresa_Beneficiaria</th>\n",
       "      <th>Razao_Social_Empresa_Beneficiaria</th>\n",
       "      <th>Valor_Total</th>\n",
       "      <th>CNPJ_RFB</th>\n",
       "      <th>Razao_Social_RFB</th>\n",
       "      <th>Situacao_Cadastral_RFB</th>\n",
       "      <th>Data_Situacao_Cadastral_RFB</th>\n",
       "      <th>Codigo_Natureza_Juridica_RFB</th>\n",
       "      <th>Data_Inicio_Atividade_RFB</th>\n",
       "      <th>...</th>\n",
       "      <th>CPF_Socio_RFB</th>\n",
       "      <th>Data_Entrada_Socio_RFB</th>\n",
       "      <th>Nome_PEP</th>\n",
       "      <th>CPF_PEP</th>\n",
       "      <th>Funcao_PEP</th>\n",
       "      <th>Data_Inicio_PEP</th>\n",
       "      <th>Data_Fim_PEP</th>\n",
       "      <th>Data_Carencia_PEP</th>\n",
       "      <th>Municipio_PEP</th>\n",
       "      <th>UF_PEP</th>\n",
       "    </tr>\n",
       "  </thead>\n",
       "  <tbody>\n",
       "    <tr>\n",
       "      <th>15</th>\n",
       "      <td>KNOLL</td>\n",
       "      <td>18941225000172</td>\n",
       "      <td>CSENGE CONFECCOES EIRELLI</td>\n",
       "      <td>555209.93</td>\n",
       "      <td>18941225000172</td>\n",
       "      <td>CSENGE CONFECCOES EIRELLI</td>\n",
       "      <td>ATIVA</td>\n",
       "      <td>20200101</td>\n",
       "      <td>2232</td>\n",
       "      <td>20120324</td>\n",
       "      <td>...</td>\n",
       "      <td>***969658**</td>\n",
       "      <td>20200101</td>\n",
       "      <td>JUNOR RUITA CHIMANGO</td>\n",
       "      <td>***969658**</td>\n",
       "      <td>VEREADOR</td>\n",
       "      <td>2017-01-01</td>\n",
       "      <td>2020-12-31</td>\n",
       "      <td>2025-12-31</td>\n",
       "      <td>KNOLL</td>\n",
       "      <td>SP</td>\n",
       "    </tr>\n",
       "    <tr>\n",
       "      <th>69</th>\n",
       "      <td>ASSUB</td>\n",
       "      <td>49524688000199</td>\n",
       "      <td>IBAI VESTUARIO</td>\n",
       "      <td>113162.42</td>\n",
       "      <td>49524688000199</td>\n",
       "      <td>IBAI VESTUARIO</td>\n",
       "      <td>ATIVA</td>\n",
       "      <td>20200101</td>\n",
       "      <td>2038</td>\n",
       "      <td>20201019</td>\n",
       "      <td>...</td>\n",
       "      <td>***271878**</td>\n",
       "      <td>20200101</td>\n",
       "      <td>JAIME BONAVOGLIA DA TEVEIRA</td>\n",
       "      <td>***271878**</td>\n",
       "      <td>PREFEITO</td>\n",
       "      <td>2017-01-01</td>\n",
       "      <td>2020-12-31</td>\n",
       "      <td>2025-12-31</td>\n",
       "      <td>ASSUB</td>\n",
       "      <td>SP</td>\n",
       "    </tr>\n",
       "    <tr>\n",
       "      <th>52</th>\n",
       "      <td>ROZARIO</td>\n",
       "      <td>08262075000137</td>\n",
       "      <td>MARIUS CONTABIL EIRELLI</td>\n",
       "      <td>135193.38</td>\n",
       "      <td>08262075000137</td>\n",
       "      <td>MARIUS CONTABIL EIRELLI</td>\n",
       "      <td>BAIXADA</td>\n",
       "      <td>20200101</td>\n",
       "      <td>3999</td>\n",
       "      <td>20030308</td>\n",
       "      <td>...</td>\n",
       "      <td>***341758**</td>\n",
       "      <td>20200101</td>\n",
       "      <td>GOSSON LEGNANNE GONDOREK</td>\n",
       "      <td>***341758**</td>\n",
       "      <td>PREFEITO</td>\n",
       "      <td>2017-01-01</td>\n",
       "      <td>2020-12-31</td>\n",
       "      <td>2025-12-31</td>\n",
       "      <td>ROZARIO</td>\n",
       "      <td>SP</td>\n",
       "    </tr>\n",
       "    <tr>\n",
       "      <th>41</th>\n",
       "      <td>BREIA</td>\n",
       "      <td>10240793000137</td>\n",
       "      <td>JOAO LUCAS ELETRONICOS SA</td>\n",
       "      <td>225281.82</td>\n",
       "      <td>10240793000137</td>\n",
       "      <td>JOAO LUCAS ELETRONICOS SA</td>\n",
       "      <td>ATIVA</td>\n",
       "      <td>20200101</td>\n",
       "      <td>3999</td>\n",
       "      <td>20130111</td>\n",
       "      <td>...</td>\n",
       "      <td>***502138**</td>\n",
       "      <td>20200101</td>\n",
       "      <td>CAUME UNAIDE ABASILIA PHREDERICO ZIELAK</td>\n",
       "      <td>***502138**</td>\n",
       "      <td>PREFEITO</td>\n",
       "      <td>2017-01-01</td>\n",
       "      <td>2020-12-31</td>\n",
       "      <td>2025-12-31</td>\n",
       "      <td>BREIA</td>\n",
       "      <td>SP</td>\n",
       "    </tr>\n",
       "    <tr>\n",
       "      <th>54</th>\n",
       "      <td>SACCOL</td>\n",
       "      <td>06273922000124</td>\n",
       "      <td>MOMOKA ARTISTICAS LTDA</td>\n",
       "      <td>141497.58</td>\n",
       "      <td>06273922000124</td>\n",
       "      <td>MOMOKA ARTISTICAS LTDA</td>\n",
       "      <td>ATIVA</td>\n",
       "      <td>20200101</td>\n",
       "      <td>3999</td>\n",
       "      <td>20000214</td>\n",
       "      <td>...</td>\n",
       "      <td>***923478**</td>\n",
       "      <td>20200101</td>\n",
       "      <td>GEOVANISA TERSINHA BERTASSONI</td>\n",
       "      <td>***923478**</td>\n",
       "      <td>PREFEITO</td>\n",
       "      <td>2017-01-01</td>\n",
       "      <td>2020-12-31</td>\n",
       "      <td>2025-12-31</td>\n",
       "      <td>SACCOL</td>\n",
       "      <td>SP</td>\n",
       "    </tr>\n",
       "  </tbody>\n",
       "</table>\n",
       "<p>5 rows × 24 columns</p>\n",
       "</div>"
      ],
      "text/plain": [
       "   Nome_Municipio_Ficticio CNPJ_Empresa_Beneficiaria  \\\n",
       "15                   KNOLL            18941225000172   \n",
       "69                   ASSUB            49524688000199   \n",
       "52                 ROZARIO            08262075000137   \n",
       "41                   BREIA            10240793000137   \n",
       "54                  SACCOL            06273922000124   \n",
       "\n",
       "   Razao_Social_Empresa_Beneficiaria  Valor_Total        CNPJ_RFB  \\\n",
       "15         CSENGE CONFECCOES EIRELLI    555209.93  18941225000172   \n",
       "69                    IBAI VESTUARIO    113162.42  49524688000199   \n",
       "52           MARIUS CONTABIL EIRELLI    135193.38  08262075000137   \n",
       "41         JOAO LUCAS ELETRONICOS SA    225281.82  10240793000137   \n",
       "54            MOMOKA ARTISTICAS LTDA    141497.58  06273922000124   \n",
       "\n",
       "             Razao_Social_RFB Situacao_Cadastral_RFB  \\\n",
       "15  CSENGE CONFECCOES EIRELLI                  ATIVA   \n",
       "69             IBAI VESTUARIO                  ATIVA   \n",
       "52    MARIUS CONTABIL EIRELLI                BAIXADA   \n",
       "41  JOAO LUCAS ELETRONICOS SA                  ATIVA   \n",
       "54     MOMOKA ARTISTICAS LTDA                  ATIVA   \n",
       "\n",
       "    Data_Situacao_Cadastral_RFB Codigo_Natureza_Juridica_RFB  \\\n",
       "15                     20200101                         2232   \n",
       "69                     20200101                         2038   \n",
       "52                     20200101                         3999   \n",
       "41                     20200101                         3999   \n",
       "54                     20200101                         3999   \n",
       "\n",
       "    Data_Inicio_Atividade_RFB  ... CPF_Socio_RFB Data_Entrada_Socio_RFB  \\\n",
       "15                   20120324  ...   ***969658**               20200101   \n",
       "69                   20201019  ...   ***271878**               20200101   \n",
       "52                   20030308  ...   ***341758**               20200101   \n",
       "41                   20130111  ...   ***502138**               20200101   \n",
       "54                   20000214  ...   ***923478**               20200101   \n",
       "\n",
       "                                   Nome_PEP      CPF_PEP Funcao_PEP  \\\n",
       "15                     JUNOR RUITA CHIMANGO  ***969658**   VEREADOR   \n",
       "69              JAIME BONAVOGLIA DA TEVEIRA  ***271878**   PREFEITO   \n",
       "52                 GOSSON LEGNANNE GONDOREK  ***341758**   PREFEITO   \n",
       "41  CAUME UNAIDE ABASILIA PHREDERICO ZIELAK  ***502138**   PREFEITO   \n",
       "54            GEOVANISA TERSINHA BERTASSONI  ***923478**   PREFEITO   \n",
       "\n",
       "    Data_Inicio_PEP Data_Fim_PEP Data_Carencia_PEP Municipio_PEP UF_PEP  \n",
       "15       2017-01-01   2020-12-31        2025-12-31         KNOLL     SP  \n",
       "69       2017-01-01   2020-12-31        2025-12-31         ASSUB     SP  \n",
       "52       2017-01-01   2020-12-31        2025-12-31       ROZARIO     SP  \n",
       "41       2017-01-01   2020-12-31        2025-12-31         BREIA     SP  \n",
       "54       2017-01-01   2020-12-31        2025-12-31        SACCOL     SP  \n",
       "\n",
       "[5 rows x 24 columns]"
      ]
     },
     "execution_count": 52,
     "metadata": {},
     "output_type": "execute_result"
    }
   ],
   "source": [
    "empresas_peps_mesmo_municipio.sample(5)"
   ]
  },
  {
   "cell_type": "markdown",
   "metadata": {
    "tags": []
   },
   "source": [
    "### Salvar dados"
   ]
  },
  {
   "cell_type": "code",
   "execution_count": 53,
   "metadata": {},
   "outputs": [],
   "source": [
    "arquivo_saida = 'empresas_peps_mesmo_municipio.csv'\n",
    "filepath = os.path.join(diretorio_saida_dados, arquivo_saida)\n",
    "empresas_peps_mesmo_municipio.to_csv(filepath, index=False)"
   ]
  },
  {
   "cell_type": "markdown",
   "metadata": {},
   "source": [
    "# Visualização"
   ]
  },
  {
   "cell_type": "markdown",
   "metadata": {},
   "source": [
    "## Mapa de Localização de Empresas relacionadas à PEPs"
   ]
  },
  {
   "cell_type": "code",
   "execution_count": 54,
   "metadata": {},
   "outputs": [],
   "source": [
    "arquivo_municipios = 'Municipios_SP_paridade.csv'\n",
    "filepath_arquivo_municipios = os.path.join(diretorio_dados, arquivo_municipios)"
   ]
  },
  {
   "cell_type": "code",
   "execution_count": 55,
   "metadata": {},
   "outputs": [],
   "source": [
    "municipios = pd.read_csv(filepath_arquivo_municipios, sep='|')"
   ]
  },
  {
   "cell_type": "code",
   "execution_count": 56,
   "metadata": {},
   "outputs": [],
   "source": [
    "empresas_peps_coord = pd.merge(empresas_peps, municipios, how=\"inner\", left_on='Nome_Municipio_Ficticio', right_on='Municipio_ficticio')"
   ]
  },
  {
   "cell_type": "code",
   "execution_count": 57,
   "metadata": {},
   "outputs": [
    {
     "name": "stdout",
     "output_type": "stream",
     "text": [
      "<class 'pandas.core.frame.DataFrame'>\n",
      "Int64Index: 73 entries, 0 to 72\n",
      "Data columns (total 32 columns):\n",
      " #   Column                             Non-Null Count  Dtype  \n",
      "---  ------                             --------------  -----  \n",
      " 0   Nome_Municipio_Ficticio            73 non-null     object \n",
      " 1   CNPJ_Empresa_Beneficiaria          73 non-null     object \n",
      " 2   Razao_Social_Empresa_Beneficiaria  73 non-null     object \n",
      " 3   Valor_Total                        73 non-null     float64\n",
      " 4   CNPJ_RFB                           73 non-null     object \n",
      " 5   Razao_Social_RFB                   73 non-null     object \n",
      " 6   Situacao_Cadastral_RFB             73 non-null     object \n",
      " 7   Data_Situacao_Cadastral_RFB        73 non-null     int64  \n",
      " 8   Codigo_Natureza_Juridica_RFB       73 non-null     object \n",
      " 9   Data_Inicio_Atividade_RFB          73 non-null     int64  \n",
      " 10  CNAE_Fiscal_RFB                    73 non-null     object \n",
      " 11  Municipio_RFB                      73 non-null     object \n",
      " 12  UF_RFB                             73 non-null     object \n",
      " 13  Nome_Socio_RFB                     73 non-null     object \n",
      " 14  CPF_Socio_RFB                      73 non-null     object \n",
      " 15  Data_Entrada_Socio_RFB             73 non-null     int64  \n",
      " 16  Nome_PEP                           73 non-null     object \n",
      " 17  CPF_PEP                            73 non-null     object \n",
      " 18  Funcao_PEP                         73 non-null     object \n",
      " 19  Data_Inicio_PEP                    73 non-null     object \n",
      " 20  Data_Fim_PEP                       73 non-null     object \n",
      " 21  Data_Carencia_PEP                  73 non-null     object \n",
      " 22  Municipio_PEP                      73 non-null     object \n",
      " 23  UF_PEP                             73 non-null     object \n",
      " 24  ID                                 73 non-null     int64  \n",
      " 25  IBGE_7                             73 non-null     int64  \n",
      " 26  IBGE_6                             73 non-null     int64  \n",
      " 27  Municipio_real                     73 non-null     object \n",
      " 28  UF                                 73 non-null     object \n",
      " 29  Latitude                           73 non-null     float64\n",
      " 30  Longitude                          73 non-null     float64\n",
      " 31  Municipio_ficticio                 73 non-null     object \n",
      "dtypes: float64(3), int64(6), object(23)\n",
      "memory usage: 18.8+ KB\n"
     ]
    }
   ],
   "source": [
    "empresas_peps_coord.info()"
   ]
  },
  {
   "cell_type": "code",
   "execution_count": 58,
   "metadata": {},
   "outputs": [
    {
     "data": {
      "text/html": [
       "<div>\n",
       "<style scoped>\n",
       "    .dataframe tbody tr th:only-of-type {\n",
       "        vertical-align: middle;\n",
       "    }\n",
       "\n",
       "    .dataframe tbody tr th {\n",
       "        vertical-align: top;\n",
       "    }\n",
       "\n",
       "    .dataframe thead th {\n",
       "        text-align: right;\n",
       "    }\n",
       "</style>\n",
       "<table border=\"1\" class=\"dataframe\">\n",
       "  <thead>\n",
       "    <tr style=\"text-align: right;\">\n",
       "      <th></th>\n",
       "      <th>Nome_Municipio_Ficticio</th>\n",
       "      <th>CNPJ_Empresa_Beneficiaria</th>\n",
       "      <th>Razao_Social_Empresa_Beneficiaria</th>\n",
       "      <th>Valor_Total</th>\n",
       "      <th>CNPJ_RFB</th>\n",
       "      <th>Razao_Social_RFB</th>\n",
       "      <th>Situacao_Cadastral_RFB</th>\n",
       "      <th>Data_Situacao_Cadastral_RFB</th>\n",
       "      <th>Codigo_Natureza_Juridica_RFB</th>\n",
       "      <th>Data_Inicio_Atividade_RFB</th>\n",
       "      <th>...</th>\n",
       "      <th>Municipio_PEP</th>\n",
       "      <th>UF_PEP</th>\n",
       "      <th>ID</th>\n",
       "      <th>IBGE_7</th>\n",
       "      <th>IBGE_6</th>\n",
       "      <th>Municipio_real</th>\n",
       "      <th>UF</th>\n",
       "      <th>Latitude</th>\n",
       "      <th>Longitude</th>\n",
       "      <th>Municipio_ficticio</th>\n",
       "    </tr>\n",
       "  </thead>\n",
       "  <tbody>\n",
       "    <tr>\n",
       "      <th>48</th>\n",
       "      <td>NIELAND</td>\n",
       "      <td>06273922000124</td>\n",
       "      <td>MOMOKA ARTISTICAS LTDA</td>\n",
       "      <td>195474.65</td>\n",
       "      <td>06273922000124</td>\n",
       "      <td>MOMOKA ARTISTICAS LTDA</td>\n",
       "      <td>ATIVA</td>\n",
       "      <td>20200101</td>\n",
       "      <td>3999</td>\n",
       "      <td>20000214</td>\n",
       "      <td>...</td>\n",
       "      <td>SACCOL</td>\n",
       "      <td>SP</td>\n",
       "      <td>426</td>\n",
       "      <td>3537800</td>\n",
       "      <td>353780</td>\n",
       "      <td>PIEDADE</td>\n",
       "      <td>SP</td>\n",
       "      <td>-23.712</td>\n",
       "      <td>-47.428</td>\n",
       "      <td>NIELAND</td>\n",
       "    </tr>\n",
       "    <tr>\n",
       "      <th>47</th>\n",
       "      <td>DALO</td>\n",
       "      <td>10240793000137</td>\n",
       "      <td>JOAO LUCAS ELETRONICOS SA</td>\n",
       "      <td>221294.85</td>\n",
       "      <td>10240793000137</td>\n",
       "      <td>JOAO LUCAS ELETRONICOS SA</td>\n",
       "      <td>ATIVA</td>\n",
       "      <td>20200101</td>\n",
       "      <td>3999</td>\n",
       "      <td>20130111</td>\n",
       "      <td>...</td>\n",
       "      <td>BREIA</td>\n",
       "      <td>SP</td>\n",
       "      <td>182</td>\n",
       "      <td>3515806</td>\n",
       "      <td>351580</td>\n",
       "      <td>FLORA RICA</td>\n",
       "      <td>SP</td>\n",
       "      <td>-21.676</td>\n",
       "      <td>-51.384</td>\n",
       "      <td>DALO</td>\n",
       "    </tr>\n",
       "    <tr>\n",
       "      <th>13</th>\n",
       "      <td>CAVICHIOLI</td>\n",
       "      <td>55815300000475</td>\n",
       "      <td>AMINE IMOBILIARIOS</td>\n",
       "      <td>139074.12</td>\n",
       "      <td>55815300000475</td>\n",
       "      <td>AMINE IMOBILIARIOS</td>\n",
       "      <td>ATIVA</td>\n",
       "      <td>20200101</td>\n",
       "      <td>3999</td>\n",
       "      <td>20111019</td>\n",
       "      <td>...</td>\n",
       "      <td>SOLIZ</td>\n",
       "      <td>SP</td>\n",
       "      <td>132</td>\n",
       "      <td>3511607</td>\n",
       "      <td>351160</td>\n",
       "      <td>CESARIO LANGE</td>\n",
       "      <td>SP</td>\n",
       "      <td>-23.227</td>\n",
       "      <td>-47.953</td>\n",
       "      <td>CAVICHIOLI</td>\n",
       "    </tr>\n",
       "    <tr>\n",
       "      <th>58</th>\n",
       "      <td>CLARETO</td>\n",
       "      <td>10240793000137</td>\n",
       "      <td>JOAO LUCAS ELETRONICOS SA</td>\n",
       "      <td>135392.02</td>\n",
       "      <td>10240793000137</td>\n",
       "      <td>JOAO LUCAS ELETRONICOS SA</td>\n",
       "      <td>ATIVA</td>\n",
       "      <td>20200101</td>\n",
       "      <td>3999</td>\n",
       "      <td>20130111</td>\n",
       "      <td>...</td>\n",
       "      <td>BREIA</td>\n",
       "      <td>SP</td>\n",
       "      <td>160</td>\n",
       "      <td>3514403</td>\n",
       "      <td>351440</td>\n",
       "      <td>DRACENA</td>\n",
       "      <td>SP</td>\n",
       "      <td>-21.483</td>\n",
       "      <td>-51.533</td>\n",
       "      <td>CLARETO</td>\n",
       "    </tr>\n",
       "    <tr>\n",
       "      <th>71</th>\n",
       "      <td>ASSUB</td>\n",
       "      <td>49524688000199</td>\n",
       "      <td>IBAI VESTUARIO</td>\n",
       "      <td>113162.42</td>\n",
       "      <td>49524688000199</td>\n",
       "      <td>IBAI VESTUARIO</td>\n",
       "      <td>ATIVA</td>\n",
       "      <td>20200101</td>\n",
       "      <td>2038</td>\n",
       "      <td>20201019</td>\n",
       "      <td>...</td>\n",
       "      <td>SITA</td>\n",
       "      <td>SP</td>\n",
       "      <td>36</td>\n",
       "      <td>3503158</td>\n",
       "      <td>350315</td>\n",
       "      <td>ARAPEI</td>\n",
       "      <td>SP</td>\n",
       "      <td>-22.674</td>\n",
       "      <td>-44.448</td>\n",
       "      <td>ASSUB</td>\n",
       "    </tr>\n",
       "  </tbody>\n",
       "</table>\n",
       "<p>5 rows × 32 columns</p>\n",
       "</div>"
      ],
      "text/plain": [
       "   Nome_Municipio_Ficticio CNPJ_Empresa_Beneficiaria  \\\n",
       "48                 NIELAND            06273922000124   \n",
       "47                    DALO            10240793000137   \n",
       "13              CAVICHIOLI            55815300000475   \n",
       "58                 CLARETO            10240793000137   \n",
       "71                   ASSUB            49524688000199   \n",
       "\n",
       "   Razao_Social_Empresa_Beneficiaria  Valor_Total        CNPJ_RFB  \\\n",
       "48            MOMOKA ARTISTICAS LTDA    195474.65  06273922000124   \n",
       "47         JOAO LUCAS ELETRONICOS SA    221294.85  10240793000137   \n",
       "13                AMINE IMOBILIARIOS    139074.12  55815300000475   \n",
       "58         JOAO LUCAS ELETRONICOS SA    135392.02  10240793000137   \n",
       "71                    IBAI VESTUARIO    113162.42  49524688000199   \n",
       "\n",
       "             Razao_Social_RFB Situacao_Cadastral_RFB  \\\n",
       "48     MOMOKA ARTISTICAS LTDA                  ATIVA   \n",
       "47  JOAO LUCAS ELETRONICOS SA                  ATIVA   \n",
       "13         AMINE IMOBILIARIOS                  ATIVA   \n",
       "58  JOAO LUCAS ELETRONICOS SA                  ATIVA   \n",
       "71             IBAI VESTUARIO                  ATIVA   \n",
       "\n",
       "    Data_Situacao_Cadastral_RFB Codigo_Natureza_Juridica_RFB  \\\n",
       "48                     20200101                         3999   \n",
       "47                     20200101                         3999   \n",
       "13                     20200101                         3999   \n",
       "58                     20200101                         3999   \n",
       "71                     20200101                         2038   \n",
       "\n",
       "    Data_Inicio_Atividade_RFB  ... Municipio_PEP UF_PEP   ID   IBGE_7  IBGE_6  \\\n",
       "48                   20000214  ...        SACCOL     SP  426  3537800  353780   \n",
       "47                   20130111  ...         BREIA     SP  182  3515806  351580   \n",
       "13                   20111019  ...         SOLIZ     SP  132  3511607  351160   \n",
       "58                   20130111  ...         BREIA     SP  160  3514403  351440   \n",
       "71                   20201019  ...          SITA     SP   36  3503158  350315   \n",
       "\n",
       "    Municipio_real  UF Latitude Longitude Municipio_ficticio  \n",
       "48         PIEDADE  SP  -23.712   -47.428            NIELAND  \n",
       "47      FLORA RICA  SP  -21.676   -51.384               DALO  \n",
       "13   CESARIO LANGE  SP  -23.227   -47.953         CAVICHIOLI  \n",
       "58         DRACENA  SP  -21.483   -51.533            CLARETO  \n",
       "71          ARAPEI  SP  -22.674   -44.448              ASSUB  \n",
       "\n",
       "[5 rows x 32 columns]"
      ]
     },
     "execution_count": 58,
     "metadata": {},
     "output_type": "execute_result"
    }
   ],
   "source": [
    "empresas_peps_coord.sample(5)"
   ]
  },
  {
   "cell_type": "code",
   "execution_count": 59,
   "metadata": {},
   "outputs": [
    {
     "data": {
      "text/html": [
       "<div style=\"width:100%;\"><div style=\"position:relative;width:100%;height:0;padding-bottom:60%;\"><span style=\"color:#565656\">Make this Notebook Trusted to load map: File -> Trust Notebook</span><iframe src=\"about:blank\" style=\"position:absolute;width:100%;height:100%;left:0;top:0;border:none !important;\" data-html=%3C%21DOCTYPE%20html%3E%0A%3Chead%3E%20%20%20%20%0A%20%20%20%20%3Cmeta%20http-equiv%3D%22content-type%22%20content%3D%22text/html%3B%20charset%3DUTF-8%22%20/%3E%0A%20%20%20%20%0A%20%20%20%20%20%20%20%20%3Cscript%3E%0A%20%20%20%20%20%20%20%20%20%20%20%20L_NO_TOUCH%20%3D%20false%3B%0A%20%20%20%20%20%20%20%20%20%20%20%20L_DISABLE_3D%20%3D%20false%3B%0A%20%20%20%20%20%20%20%20%3C/script%3E%0A%20%20%20%20%0A%20%20%20%20%3Cstyle%3Ehtml%2C%20body%20%7Bwidth%3A%20100%25%3Bheight%3A%20100%25%3Bmargin%3A%200%3Bpadding%3A%200%3B%7D%3C/style%3E%0A%20%20%20%20%3Cstyle%3E%23map%20%7Bposition%3Aabsolute%3Btop%3A0%3Bbottom%3A0%3Bright%3A0%3Bleft%3A0%3B%7D%3C/style%3E%0A%20%20%20%20%3Cscript%20src%3D%22https%3A//cdn.jsdelivr.net/npm/leaflet%401.6.0/dist/leaflet.js%22%3E%3C/script%3E%0A%20%20%20%20%3Cscript%20src%3D%22https%3A//code.jquery.com/jquery-1.12.4.min.js%22%3E%3C/script%3E%0A%20%20%20%20%3Cscript%20src%3D%22https%3A//maxcdn.bootstrapcdn.com/bootstrap/3.2.0/js/bootstrap.min.js%22%3E%3C/script%3E%0A%20%20%20%20%3Cscript%20src%3D%22https%3A//cdnjs.cloudflare.com/ajax/libs/Leaflet.awesome-markers/2.0.2/leaflet.awesome-markers.js%22%3E%3C/script%3E%0A%20%20%20%20%3Clink%20rel%3D%22stylesheet%22%20href%3D%22https%3A//cdn.jsdelivr.net/npm/leaflet%401.6.0/dist/leaflet.css%22/%3E%0A%20%20%20%20%3Clink%20rel%3D%22stylesheet%22%20href%3D%22https%3A//maxcdn.bootstrapcdn.com/bootstrap/3.2.0/css/bootstrap.min.css%22/%3E%0A%20%20%20%20%3Clink%20rel%3D%22stylesheet%22%20href%3D%22https%3A//maxcdn.bootstrapcdn.com/bootstrap/3.2.0/css/bootstrap-theme.min.css%22/%3E%0A%20%20%20%20%3Clink%20rel%3D%22stylesheet%22%20href%3D%22https%3A//maxcdn.bootstrapcdn.com/font-awesome/4.6.3/css/font-awesome.min.css%22/%3E%0A%20%20%20%20%3Clink%20rel%3D%22stylesheet%22%20href%3D%22https%3A//cdnjs.cloudflare.com/ajax/libs/Leaflet.awesome-markers/2.0.2/leaflet.awesome-markers.css%22/%3E%0A%20%20%20%20%3Clink%20rel%3D%22stylesheet%22%20href%3D%22https%3A//cdn.jsdelivr.net/gh/python-visualization/folium/folium/templates/leaflet.awesome.rotate.min.css%22/%3E%0A%20%20%20%20%0A%20%20%20%20%20%20%20%20%20%20%20%20%3Cmeta%20name%3D%22viewport%22%20content%3D%22width%3Ddevice-width%2C%0A%20%20%20%20%20%20%20%20%20%20%20%20%20%20%20%20initial-scale%3D1.0%2C%20maximum-scale%3D1.0%2C%20user-scalable%3Dno%22%20/%3E%0A%20%20%20%20%20%20%20%20%20%20%20%20%3Cstyle%3E%0A%20%20%20%20%20%20%20%20%20%20%20%20%20%20%20%20%23map_9816868a223e4fedaefc8dac49e0faf5%20%7B%0A%20%20%20%20%20%20%20%20%20%20%20%20%20%20%20%20%20%20%20%20position%3A%20relative%3B%0A%20%20%20%20%20%20%20%20%20%20%20%20%20%20%20%20%20%20%20%20width%3A%20100.0%25%3B%0A%20%20%20%20%20%20%20%20%20%20%20%20%20%20%20%20%20%20%20%20height%3A%20100.0%25%3B%0A%20%20%20%20%20%20%20%20%20%20%20%20%20%20%20%20%20%20%20%20left%3A%200.0%25%3B%0A%20%20%20%20%20%20%20%20%20%20%20%20%20%20%20%20%20%20%20%20top%3A%200.0%25%3B%0A%20%20%20%20%20%20%20%20%20%20%20%20%20%20%20%20%7D%0A%20%20%20%20%20%20%20%20%20%20%20%20%3C/style%3E%0A%20%20%20%20%20%20%20%20%0A%3C/head%3E%0A%3Cbody%3E%20%20%20%20%0A%20%20%20%20%0A%20%20%20%20%20%20%20%20%20%20%20%20%20%3Ch3%20align%3D%22center%22%20style%3D%22font-size%3A20px%22%3E%3Cb%3EMapa%20%28fict%C3%ADcio%29%20de%20empresas%20relacionadas%20com%20PEPs%3C/b%3E%3C/h3%3E%0A%20%20%20%20%20%20%20%20%20%20%20%20%20%0A%20%20%20%20%0A%20%20%20%20%20%20%20%20%20%20%20%20%3Cdiv%20class%3D%22folium-map%22%20id%3D%22map_9816868a223e4fedaefc8dac49e0faf5%22%20%3E%3C/div%3E%0A%20%20%20%20%20%20%20%20%0A%3C/body%3E%0A%3Cscript%3E%20%20%20%20%0A%20%20%20%20%0A%20%20%20%20%20%20%20%20%20%20%20%20var%20map_9816868a223e4fedaefc8dac49e0faf5%20%3D%20L.map%28%0A%20%20%20%20%20%20%20%20%20%20%20%20%20%20%20%20%22map_9816868a223e4fedaefc8dac49e0faf5%22%2C%0A%20%20%20%20%20%20%20%20%20%20%20%20%20%20%20%20%7B%0A%20%20%20%20%20%20%20%20%20%20%20%20%20%20%20%20%20%20%20%20center%3A%20%5B-22.38395890410959%2C%20-48.59801369863014%5D%2C%0A%20%20%20%20%20%20%20%20%20%20%20%20%20%20%20%20%20%20%20%20crs%3A%20L.CRS.EPSG3857%2C%0A%20%20%20%20%20%20%20%20%20%20%20%20%20%20%20%20%20%20%20%20zoom%3A%207%2C%0A%20%20%20%20%20%20%20%20%20%20%20%20%20%20%20%20%20%20%20%20zoomControl%3A%20true%2C%0A%20%20%20%20%20%20%20%20%20%20%20%20%20%20%20%20%20%20%20%20preferCanvas%3A%20false%2C%0A%20%20%20%20%20%20%20%20%20%20%20%20%20%20%20%20%7D%0A%20%20%20%20%20%20%20%20%20%20%20%20%29%3B%0A%20%20%20%20%20%20%20%20%20%20%20%20L.control.scale%28%29.addTo%28map_9816868a223e4fedaefc8dac49e0faf5%29%3B%0A%0A%20%20%20%20%20%20%20%20%20%20%20%20%0A%0A%20%20%20%20%20%20%20%20%0A%20%20%20%20%0A%20%20%20%20%20%20%20%20%20%20%20%20var%20tile_layer_ac79199f531c4be2a5710e7d2f519617%20%3D%20L.tileLayer%28%0A%20%20%20%20%20%20%20%20%20%20%20%20%20%20%20%20%22https%3A//%7Bs%7D.tile.openstreetmap.org/%7Bz%7D/%7Bx%7D/%7By%7D.png%22%2C%0A%20%20%20%20%20%20%20%20%20%20%20%20%20%20%20%20%7B%22attribution%22%3A%20%22Data%20by%20%5Cu0026copy%3B%20%5Cu003ca%20href%3D%5C%22http%3A//openstreetmap.org%5C%22%5Cu003eOpenStreetMap%5Cu003c/a%5Cu003e%2C%20under%20%5Cu003ca%20href%3D%5C%22http%3A//www.openstreetmap.org/copyright%5C%22%5Cu003eODbL%5Cu003c/a%5Cu003e.%22%2C%20%22detectRetina%22%3A%20false%2C%20%22maxNativeZoom%22%3A%2018%2C%20%22maxZoom%22%3A%2018%2C%20%22minZoom%22%3A%200%2C%20%22noWrap%22%3A%20false%2C%20%22opacity%22%3A%201%2C%20%22subdomains%22%3A%20%22abc%22%2C%20%22tms%22%3A%20false%7D%0A%20%20%20%20%20%20%20%20%20%20%20%20%29.addTo%28map_9816868a223e4fedaefc8dac49e0faf5%29%3B%0A%20%20%20%20%20%20%20%20%0A%20%20%20%20%0A%20%20%20%20%20%20%20%20%20%20%20%20var%20marker_75bb22877fbd45c0b4b608da8b37cc39%20%3D%20L.marker%28%0A%20%20%20%20%20%20%20%20%20%20%20%20%20%20%20%20%5B-22.731%2C%20-45.125%5D%2C%0A%20%20%20%20%20%20%20%20%20%20%20%20%20%20%20%20%7B%7D%0A%20%20%20%20%20%20%20%20%20%20%20%20%29.addTo%28map_9816868a223e4fedaefc8dac49e0faf5%29%3B%0A%20%20%20%20%20%20%20%20%0A%20%20%20%20%0A%20%20%20%20%20%20%20%20%20%20%20%20var%20icon_3f8b7451b5314b2f94e0f6fab7b7c0b2%20%3D%20L.AwesomeMarkers.icon%28%0A%20%20%20%20%20%20%20%20%20%20%20%20%20%20%20%20%7B%22extraClasses%22%3A%20%22fa-rotate-0%22%2C%20%22icon%22%3A%20%22info-sign%22%2C%20%22iconColor%22%3A%20%22white%22%2C%20%22markerColor%22%3A%20%22red%22%2C%20%22prefix%22%3A%20%22glyphicon%22%7D%0A%20%20%20%20%20%20%20%20%20%20%20%20%29%3B%0A%20%20%20%20%20%20%20%20%20%20%20%20marker_75bb22877fbd45c0b4b608da8b37cc39.setIcon%28icon_3f8b7451b5314b2f94e0f6fab7b7c0b2%29%3B%0A%20%20%20%20%20%20%20%20%0A%20%20%20%20%0A%20%20%20%20%20%20%20%20var%20popup_b60f215bdfbd45719e4bdaee358b5a6c%20%3D%20L.popup%28%7B%22maxWidth%22%3A%20%22100%25%22%7D%29%3B%0A%0A%20%20%20%20%20%20%20%20%0A%20%20%20%20%20%20%20%20%20%20%20%20var%20html_8c19a8ebe3eb4428a649f30a6034395d%20%3D%20%24%28%60%3Cdiv%20id%3D%22html_8c19a8ebe3eb4428a649f30a6034395d%22%20style%3D%22width%3A%20100.0%25%3B%20height%3A%20100.0%25%3B%22%3EA%20empresa%20ROBERTS%20INFORMACAO%20EPP%20%28CNPJ%2051653764000156%29%2C%20relacionada%20ao%20PEP%20ADEMIR%20FABRISIA%2C%20recebeu%20R%24%2014121381.99%3C/div%3E%60%29%5B0%5D%3B%0A%20%20%20%20%20%20%20%20%20%20%20%20popup_b60f215bdfbd45719e4bdaee358b5a6c.setContent%28html_8c19a8ebe3eb4428a649f30a6034395d%29%3B%0A%20%20%20%20%20%20%20%20%0A%0A%20%20%20%20%20%20%20%20marker_75bb22877fbd45c0b4b608da8b37cc39.bindPopup%28popup_b60f215bdfbd45719e4bdaee358b5a6c%29%0A%20%20%20%20%20%20%20%20%3B%0A%0A%20%20%20%20%20%20%20%20%0A%20%20%20%20%0A%20%20%20%20%0A%20%20%20%20%20%20%20%20%20%20%20%20marker_75bb22877fbd45c0b4b608da8b37cc39.bindTooltip%28%0A%20%20%20%20%20%20%20%20%20%20%20%20%20%20%20%20%60%3Cdiv%3E%0A%20%20%20%20%20%20%20%20%20%20%20%20%20%20%20%20%20%20%20%20%20A%20empresa%20ROBERTS%20INFORMACAO%20EPP%20%28CNPJ%2051653764000156%29%2C%20relacionada%20ao%20PEP%20ADEMIR%20FABRISIA%2C%20recebeu%20R%24%2014121381.99%0A%20%20%20%20%20%20%20%20%20%20%20%20%20%20%20%20%20%3C/div%3E%60%2C%0A%20%20%20%20%20%20%20%20%20%20%20%20%20%20%20%20%7B%22sticky%22%3A%20true%7D%0A%20%20%20%20%20%20%20%20%20%20%20%20%29%3B%0A%20%20%20%20%20%20%20%20%0A%20%20%20%20%0A%20%20%20%20%20%20%20%20%20%20%20%20var%20marker_3cb44036d6b6462686d54fe7ac440421%20%3D%20L.marker%28%0A%20%20%20%20%20%20%20%20%20%20%20%20%20%20%20%20%5B-24.488%2C%20-47.844%5D%2C%0A%20%20%20%20%20%20%20%20%20%20%20%20%20%20%20%20%7B%7D%0A%20%20%20%20%20%20%20%20%20%20%20%20%29.addTo%28map_9816868a223e4fedaefc8dac49e0faf5%29%3B%0A%20%20%20%20%20%20%20%20%0A%20%20%20%20%0A%20%20%20%20%20%20%20%20%20%20%20%20var%20icon_fd3497b82d4a4d0d9fc7ece679570824%20%3D%20L.AwesomeMarkers.icon%28%0A%20%20%20%20%20%20%20%20%20%20%20%20%20%20%20%20%7B%22extraClasses%22%3A%20%22fa-rotate-0%22%2C%20%22icon%22%3A%20%22info-sign%22%2C%20%22iconColor%22%3A%20%22white%22%2C%20%22markerColor%22%3A%20%22red%22%2C%20%22prefix%22%3A%20%22glyphicon%22%7D%0A%20%20%20%20%20%20%20%20%20%20%20%20%29%3B%0A%20%20%20%20%20%20%20%20%20%20%20%20marker_3cb44036d6b6462686d54fe7ac440421.setIcon%28icon_fd3497b82d4a4d0d9fc7ece679570824%29%3B%0A%20%20%20%20%20%20%20%20%0A%20%20%20%20%0A%20%20%20%20%20%20%20%20var%20popup_a6512ca239f74c41be39b76fc55e5891%20%3D%20L.popup%28%7B%22maxWidth%22%3A%20%22100%25%22%7D%29%3B%0A%0A%20%20%20%20%20%20%20%20%0A%20%20%20%20%20%20%20%20%20%20%20%20var%20html_d732e0a088f843e1a2075baf49d32903%20%3D%20%24%28%60%3Cdiv%20id%3D%22html_d732e0a088f843e1a2075baf49d32903%22%20style%3D%22width%3A%20100.0%25%3B%20height%3A%20100.0%25%3B%22%3EA%20empresa%20JONA%20SPE%20%28CNPJ%2003195017000178%29%2C%20relacionada%20ao%20PEP%20FREJDA%20MARBLE%2C%20recebeu%20R%24%208875293.18%3C/div%3E%60%29%5B0%5D%3B%0A%20%20%20%20%20%20%20%20%20%20%20%20popup_a6512ca239f74c41be39b76fc55e5891.setContent%28html_d732e0a088f843e1a2075baf49d32903%29%3B%0A%20%20%20%20%20%20%20%20%0A%0A%20%20%20%20%20%20%20%20marker_3cb44036d6b6462686d54fe7ac440421.bindPopup%28popup_a6512ca239f74c41be39b76fc55e5891%29%0A%20%20%20%20%20%20%20%20%3B%0A%0A%20%20%20%20%20%20%20%20%0A%20%20%20%20%0A%20%20%20%20%0A%20%20%20%20%20%20%20%20%20%20%20%20marker_3cb44036d6b6462686d54fe7ac440421.bindTooltip%28%0A%20%20%20%20%20%20%20%20%20%20%20%20%20%20%20%20%60%3Cdiv%3E%0A%20%20%20%20%20%20%20%20%20%20%20%20%20%20%20%20%20%20%20%20%20A%20empresa%20JONA%20SPE%20%28CNPJ%2003195017000178%29%2C%20relacionada%20ao%20PEP%20FREJDA%20MARBLE%2C%20recebeu%20R%24%208875293.18%0A%20%20%20%20%20%20%20%20%20%20%20%20%20%20%20%20%20%3C/div%3E%60%2C%0A%20%20%20%20%20%20%20%20%20%20%20%20%20%20%20%20%7B%22sticky%22%3A%20true%7D%0A%20%20%20%20%20%20%20%20%20%20%20%20%29%3B%0A%20%20%20%20%20%20%20%20%0A%20%20%20%20%0A%20%20%20%20%20%20%20%20%20%20%20%20var%20marker_01bf99e5492841608ba1d6787fb2a3e1%20%3D%20L.marker%28%0A%20%20%20%20%20%20%20%20%20%20%20%20%20%20%20%20%5B-24.488%2C%20-47.844%5D%2C%0A%20%20%20%20%20%20%20%20%20%20%20%20%20%20%20%20%7B%7D%0A%20%20%20%20%20%20%20%20%20%20%20%20%29.addTo%28map_9816868a223e4fedaefc8dac49e0faf5%29%3B%0A%20%20%20%20%20%20%20%20%0A%20%20%20%20%0A%20%20%20%20%20%20%20%20%20%20%20%20var%20icon_eb8fbbb6090740fcb863a8d1c9f0e74c%20%3D%20L.AwesomeMarkers.icon%28%0A%20%20%20%20%20%20%20%20%20%20%20%20%20%20%20%20%7B%22extraClasses%22%3A%20%22fa-rotate-0%22%2C%20%22icon%22%3A%20%22info-sign%22%2C%20%22iconColor%22%3A%20%22white%22%2C%20%22markerColor%22%3A%20%22red%22%2C%20%22prefix%22%3A%20%22glyphicon%22%7D%0A%20%20%20%20%20%20%20%20%20%20%20%20%29%3B%0A%20%20%20%20%20%20%20%20%20%20%20%20marker_01bf99e5492841608ba1d6787fb2a3e1.setIcon%28icon_eb8fbbb6090740fcb863a8d1c9f0e74c%29%3B%0A%20%20%20%20%20%20%20%20%0A%20%20%20%20%0A%20%20%20%20%20%20%20%20var%20popup_b074955d84de463485e29d62524adbae%20%3D%20L.popup%28%7B%22maxWidth%22%3A%20%22100%25%22%7D%29%3B%0A%0A%20%20%20%20%20%20%20%20%0A%20%20%20%20%20%20%20%20%20%20%20%20var%20html_dab693d7655f4d4a8a8e055db8570709%20%3D%20%24%28%60%3Cdiv%20id%3D%22html_dab693d7655f4d4a8a8e055db8570709%22%20style%3D%22width%3A%20100.0%25%3B%20height%3A%20100.0%25%3B%22%3EA%20empresa%20JONA%20SPE%20%28CNPJ%2003195017000178%29%2C%20relacionada%20ao%20PEP%20INFANCIA%20COFAN%20BLAGOJEVIC%20PRANTEL%20MAREZE%2C%20recebeu%20R%24%208875293.18%3C/div%3E%60%29%5B0%5D%3B%0A%20%20%20%20%20%20%20%20%20%20%20%20popup_b074955d84de463485e29d62524adbae.setContent%28html_dab693d7655f4d4a8a8e055db8570709%29%3B%0A%20%20%20%20%20%20%20%20%0A%0A%20%20%20%20%20%20%20%20marker_01bf99e5492841608ba1d6787fb2a3e1.bindPopup%28popup_b074955d84de463485e29d62524adbae%29%0A%20%20%20%20%20%20%20%20%3B%0A%0A%20%20%20%20%20%20%20%20%0A%20%20%20%20%0A%20%20%20%20%0A%20%20%20%20%20%20%20%20%20%20%20%20marker_01bf99e5492841608ba1d6787fb2a3e1.bindTooltip%28%0A%20%20%20%20%20%20%20%20%20%20%20%20%20%20%20%20%60%3Cdiv%3E%0A%20%20%20%20%20%20%20%20%20%20%20%20%20%20%20%20%20%20%20%20%20A%20empresa%20JONA%20SPE%20%28CNPJ%2003195017000178%29%2C%20relacionada%20ao%20PEP%20INFANCIA%20COFAN%20BLAGOJEVIC%20PRANTEL%20MAREZE%2C%20recebeu%20R%24%208875293.18%0A%20%20%20%20%20%20%20%20%20%20%20%20%20%20%20%20%20%3C/div%3E%60%2C%0A%20%20%20%20%20%20%20%20%20%20%20%20%20%20%20%20%7B%22sticky%22%3A%20true%7D%0A%20%20%20%20%20%20%20%20%20%20%20%20%29%3B%0A%20%20%20%20%20%20%20%20%0A%20%20%20%20%0A%20%20%20%20%20%20%20%20%20%20%20%20var%20marker_a88a10c8934a448099a873ce573fe789%20%3D%20L.marker%28%0A%20%20%20%20%20%20%20%20%20%20%20%20%20%20%20%20%5B-24.488%2C%20-47.844%5D%2C%0A%20%20%20%20%20%20%20%20%20%20%20%20%20%20%20%20%7B%7D%0A%20%20%20%20%20%20%20%20%20%20%20%20%29.addTo%28map_9816868a223e4fedaefc8dac49e0faf5%29%3B%0A%20%20%20%20%20%20%20%20%0A%20%20%20%20%0A%20%20%20%20%20%20%20%20%20%20%20%20var%20icon_acc366d4009c4c85afa7031d2cc82b97%20%3D%20L.AwesomeMarkers.icon%28%0A%20%20%20%20%20%20%20%20%20%20%20%20%20%20%20%20%7B%22extraClasses%22%3A%20%22fa-rotate-0%22%2C%20%22icon%22%3A%20%22info-sign%22%2C%20%22iconColor%22%3A%20%22white%22%2C%20%22markerColor%22%3A%20%22red%22%2C%20%22prefix%22%3A%20%22glyphicon%22%7D%0A%20%20%20%20%20%20%20%20%20%20%20%20%29%3B%0A%20%20%20%20%20%20%20%20%20%20%20%20marker_a88a10c8934a448099a873ce573fe789.setIcon%28icon_acc366d4009c4c85afa7031d2cc82b97%29%3B%0A%20%20%20%20%20%20%20%20%0A%20%20%20%20%0A%20%20%20%20%20%20%20%20var%20popup_ea9c485c3d01430cbe766390c95e36ba%20%3D%20L.popup%28%7B%22maxWidth%22%3A%20%22100%25%22%7D%29%3B%0A%0A%20%20%20%20%20%20%20%20%0A%20%20%20%20%20%20%20%20%20%20%20%20var%20html_3f6dc6b4f72f48bca96ed474a66908ba%20%3D%20%24%28%60%3Cdiv%20id%3D%22html_3f6dc6b4f72f48bca96ed474a66908ba%22%20style%3D%22width%3A%20100.0%25%3B%20height%3A%20100.0%25%3B%22%3EA%20empresa%20JONA%20SPE%20%28CNPJ%2003195017000178%29%2C%20relacionada%20ao%20PEP%20TOSHIO%20MARIOSI%2C%20recebeu%20R%24%208875293.18%3C/div%3E%60%29%5B0%5D%3B%0A%20%20%20%20%20%20%20%20%20%20%20%20popup_ea9c485c3d01430cbe766390c95e36ba.setContent%28html_3f6dc6b4f72f48bca96ed474a66908ba%29%3B%0A%20%20%20%20%20%20%20%20%0A%0A%20%20%20%20%20%20%20%20marker_a88a10c8934a448099a873ce573fe789.bindPopup%28popup_ea9c485c3d01430cbe766390c95e36ba%29%0A%20%20%20%20%20%20%20%20%3B%0A%0A%20%20%20%20%20%20%20%20%0A%20%20%20%20%0A%20%20%20%20%0A%20%20%20%20%20%20%20%20%20%20%20%20marker_a88a10c8934a448099a873ce573fe789.bindTooltip%28%0A%20%20%20%20%20%20%20%20%20%20%20%20%20%20%20%20%60%3Cdiv%3E%0A%20%20%20%20%20%20%20%20%20%20%20%20%20%20%20%20%20%20%20%20%20A%20empresa%20JONA%20SPE%20%28CNPJ%2003195017000178%29%2C%20relacionada%20ao%20PEP%20TOSHIO%20MARIOSI%2C%20recebeu%20R%24%208875293.18%0A%20%20%20%20%20%20%20%20%20%20%20%20%20%20%20%20%20%3C/div%3E%60%2C%0A%20%20%20%20%20%20%20%20%20%20%20%20%20%20%20%20%7B%22sticky%22%3A%20true%7D%0A%20%20%20%20%20%20%20%20%20%20%20%20%29%3B%0A%20%20%20%20%20%20%20%20%0A%20%20%20%20%0A%20%20%20%20%20%20%20%20%20%20%20%20var%20marker_e3252164a011405d849813d957dce170%20%3D%20L.marker%28%0A%20%20%20%20%20%20%20%20%20%20%20%20%20%20%20%20%5B-20.856%2C%20-50.262%5D%2C%0A%20%20%20%20%20%20%20%20%20%20%20%20%20%20%20%20%7B%7D%0A%20%20%20%20%20%20%20%20%20%20%20%20%29.addTo%28map_9816868a223e4fedaefc8dac49e0faf5%29%3B%0A%20%20%20%20%20%20%20%20%0A%20%20%20%20%0A%20%20%20%20%20%20%20%20%20%20%20%20var%20icon_59c1f74aeda1442a947b0a8ea9592cca%20%3D%20L.AwesomeMarkers.icon%28%0A%20%20%20%20%20%20%20%20%20%20%20%20%20%20%20%20%7B%22extraClasses%22%3A%20%22fa-rotate-0%22%2C%20%22icon%22%3A%20%22info-sign%22%2C%20%22iconColor%22%3A%20%22white%22%2C%20%22markerColor%22%3A%20%22red%22%2C%20%22prefix%22%3A%20%22glyphicon%22%7D%0A%20%20%20%20%20%20%20%20%20%20%20%20%29%3B%0A%20%20%20%20%20%20%20%20%20%20%20%20marker_e3252164a011405d849813d957dce170.setIcon%28icon_59c1f74aeda1442a947b0a8ea9592cca%29%3B%0A%20%20%20%20%20%20%20%20%0A%20%20%20%20%0A%20%20%20%20%20%20%20%20var%20popup_582152530f6d41e3ab391464da2a2025%20%3D%20L.popup%28%7B%22maxWidth%22%3A%20%22100%25%22%7D%29%3B%0A%0A%20%20%20%20%20%20%20%20%0A%20%20%20%20%20%20%20%20%20%20%20%20var%20html_8b362df5ef6048ee8e3b03407cdec4eb%20%3D%20%24%28%60%3Cdiv%20id%3D%22html_8b362df5ef6048ee8e3b03407cdec4eb%22%20style%3D%22width%3A%20100.0%25%3B%20height%3A%20100.0%25%3B%22%3EA%20empresa%20IZAN%20INDUSTRIAL%20%28CNPJ%2049057710000187%29%2C%20relacionada%20ao%20PEP%20RADANOVIC%20ASCENCIANO%2C%20recebeu%20R%24%204777742.82%3C/div%3E%60%29%5B0%5D%3B%0A%20%20%20%20%20%20%20%20%20%20%20%20popup_582152530f6d41e3ab391464da2a2025.setContent%28html_8b362df5ef6048ee8e3b03407cdec4eb%29%3B%0A%20%20%20%20%20%20%20%20%0A%0A%20%20%20%20%20%20%20%20marker_e3252164a011405d849813d957dce170.bindPopup%28popup_582152530f6d41e3ab391464da2a2025%29%0A%20%20%20%20%20%20%20%20%3B%0A%0A%20%20%20%20%20%20%20%20%0A%20%20%20%20%0A%20%20%20%20%0A%20%20%20%20%20%20%20%20%20%20%20%20marker_e3252164a011405d849813d957dce170.bindTooltip%28%0A%20%20%20%20%20%20%20%20%20%20%20%20%20%20%20%20%60%3Cdiv%3E%0A%20%20%20%20%20%20%20%20%20%20%20%20%20%20%20%20%20%20%20%20%20A%20empresa%20IZAN%20INDUSTRIAL%20%28CNPJ%2049057710000187%29%2C%20relacionada%20ao%20PEP%20RADANOVIC%20ASCENCIANO%2C%20recebeu%20R%24%204777742.82%0A%20%20%20%20%20%20%20%20%20%20%20%20%20%20%20%20%20%3C/div%3E%60%2C%0A%20%20%20%20%20%20%20%20%20%20%20%20%20%20%20%20%7B%22sticky%22%3A%20true%7D%0A%20%20%20%20%20%20%20%20%20%20%20%20%29%3B%0A%20%20%20%20%20%20%20%20%0A%20%20%20%20%0A%20%20%20%20%20%20%20%20%20%20%20%20var%20marker_57e5e3c3acd54d7ba388582c196c3a3a%20%3D%20L.marker%28%0A%20%20%20%20%20%20%20%20%20%20%20%20%20%20%20%20%5B-20.299%2C%20-49.732%5D%2C%0A%20%20%20%20%20%20%20%20%20%20%20%20%20%20%20%20%7B%7D%0A%20%20%20%20%20%20%20%20%20%20%20%20%29.addTo%28map_9816868a223e4fedaefc8dac49e0faf5%29%3B%0A%20%20%20%20%20%20%20%20%0A%20%20%20%20%0A%20%20%20%20%20%20%20%20%20%20%20%20var%20icon_7e545402fe0146c8a07a40f1d8a54217%20%3D%20L.AwesomeMarkers.icon%28%0A%20%20%20%20%20%20%20%20%20%20%20%20%20%20%20%20%7B%22extraClasses%22%3A%20%22fa-rotate-0%22%2C%20%22icon%22%3A%20%22info-sign%22%2C%20%22iconColor%22%3A%20%22white%22%2C%20%22markerColor%22%3A%20%22red%22%2C%20%22prefix%22%3A%20%22glyphicon%22%7D%0A%20%20%20%20%20%20%20%20%20%20%20%20%29%3B%0A%20%20%20%20%20%20%20%20%20%20%20%20marker_57e5e3c3acd54d7ba388582c196c3a3a.setIcon%28icon_7e545402fe0146c8a07a40f1d8a54217%29%3B%0A%20%20%20%20%20%20%20%20%0A%20%20%20%20%0A%20%20%20%20%20%20%20%20var%20popup_b36d40b9bf6646e299f61dc0e58af2d3%20%3D%20L.popup%28%7B%22maxWidth%22%3A%20%22100%25%22%7D%29%3B%0A%0A%20%20%20%20%20%20%20%20%0A%20%20%20%20%20%20%20%20%20%20%20%20var%20html_fc275d711092413394216f244c6dd125%20%3D%20%24%28%60%3Cdiv%20id%3D%22html_fc275d711092413394216f244c6dd125%22%20style%3D%22width%3A%20100.0%25%3B%20height%3A%20100.0%25%3B%22%3EA%20empresa%20AMINE%20IMOBILIARIOS%20%28CNPJ%2055815300000213%29%2C%20relacionada%20ao%20PEP%20AMARILDO%20SABATE%20KAILER%2C%20recebeu%20R%24%202085342.25%3C/div%3E%60%29%5B0%5D%3B%0A%20%20%20%20%20%20%20%20%20%20%20%20popup_b36d40b9bf6646e299f61dc0e58af2d3.setContent%28html_fc275d711092413394216f244c6dd125%29%3B%0A%20%20%20%20%20%20%20%20%0A%0A%20%20%20%20%20%20%20%20marker_57e5e3c3acd54d7ba388582c196c3a3a.bindPopup%28popup_b36d40b9bf6646e299f61dc0e58af2d3%29%0A%20%20%20%20%20%20%20%20%3B%0A%0A%20%20%20%20%20%20%20%20%0A%20%20%20%20%0A%20%20%20%20%0A%20%20%20%20%20%20%20%20%20%20%20%20marker_57e5e3c3acd54d7ba388582c196c3a3a.bindTooltip%28%0A%20%20%20%20%20%20%20%20%20%20%20%20%20%20%20%20%60%3Cdiv%3E%0A%20%20%20%20%20%20%20%20%20%20%20%20%20%20%20%20%20%20%20%20%20A%20empresa%20AMINE%20IMOBILIARIOS%20%28CNPJ%2055815300000213%29%2C%20relacionada%20ao%20PEP%20AMARILDO%20SABATE%20KAILER%2C%20recebeu%20R%24%202085342.25%0A%20%20%20%20%20%20%20%20%20%20%20%20%20%20%20%20%20%3C/div%3E%60%2C%0A%20%20%20%20%20%20%20%20%20%20%20%20%20%20%20%20%7B%22sticky%22%3A%20true%7D%0A%20%20%20%20%20%20%20%20%20%20%20%20%29%3B%0A%20%20%20%20%20%20%20%20%0A%20%20%20%20%0A%20%20%20%20%20%20%20%20%20%20%20%20var%20marker_5839fed876df4d1386acb5586b4ca593%20%3D%20L.marker%28%0A%20%20%20%20%20%20%20%20%20%20%20%20%20%20%20%20%5B-20.581%2C%20-47.855%5D%2C%0A%20%20%20%20%20%20%20%20%20%20%20%20%20%20%20%20%7B%7D%0A%20%20%20%20%20%20%20%20%20%20%20%20%29.addTo%28map_9816868a223e4fedaefc8dac49e0faf5%29%3B%0A%20%20%20%20%20%20%20%20%0A%20%20%20%20%0A%20%20%20%20%20%20%20%20%20%20%20%20var%20icon_c6590a846fae4fdfa897cf10d3a95577%20%3D%20L.AwesomeMarkers.icon%28%0A%20%20%20%20%20%20%20%20%20%20%20%20%20%20%20%20%7B%22extraClasses%22%3A%20%22fa-rotate-0%22%2C%20%22icon%22%3A%20%22info-sign%22%2C%20%22iconColor%22%3A%20%22white%22%2C%20%22markerColor%22%3A%20%22red%22%2C%20%22prefix%22%3A%20%22glyphicon%22%7D%0A%20%20%20%20%20%20%20%20%20%20%20%20%29%3B%0A%20%20%20%20%20%20%20%20%20%20%20%20marker_5839fed876df4d1386acb5586b4ca593.setIcon%28icon_c6590a846fae4fdfa897cf10d3a95577%29%3B%0A%20%20%20%20%20%20%20%20%0A%20%20%20%20%0A%20%20%20%20%20%20%20%20var%20popup_57b67cea4bb349d5ac598a3eab931c63%20%3D%20L.popup%28%7B%22maxWidth%22%3A%20%22100%25%22%7D%29%3B%0A%0A%20%20%20%20%20%20%20%20%0A%20%20%20%20%20%20%20%20%20%20%20%20var%20html_a3048d929ec1478b9007c1601af9b6d7%20%3D%20%24%28%60%3Cdiv%20id%3D%22html_a3048d929ec1478b9007c1601af9b6d7%22%20style%3D%22width%3A%20100.0%25%3B%20height%3A%20100.0%25%3B%22%3EA%20empresa%20AMINE%20IMOBILIARIOS%20%28CNPJ%2055815300000213%29%2C%20relacionada%20ao%20PEP%20AMARILDO%20SABATE%20KAILER%2C%20recebeu%20R%24%201193598.13%3C/div%3E%60%29%5B0%5D%3B%0A%20%20%20%20%20%20%20%20%20%20%20%20popup_57b67cea4bb349d5ac598a3eab931c63.setContent%28html_a3048d929ec1478b9007c1601af9b6d7%29%3B%0A%20%20%20%20%20%20%20%20%0A%0A%20%20%20%20%20%20%20%20marker_5839fed876df4d1386acb5586b4ca593.bindPopup%28popup_57b67cea4bb349d5ac598a3eab931c63%29%0A%20%20%20%20%20%20%20%20%3B%0A%0A%20%20%20%20%20%20%20%20%0A%20%20%20%20%0A%20%20%20%20%0A%20%20%20%20%20%20%20%20%20%20%20%20marker_5839fed876df4d1386acb5586b4ca593.bindTooltip%28%0A%20%20%20%20%20%20%20%20%20%20%20%20%20%20%20%20%60%3Cdiv%3E%0A%20%20%20%20%20%20%20%20%20%20%20%20%20%20%20%20%20%20%20%20%20A%20empresa%20AMINE%20IMOBILIARIOS%20%28CNPJ%2055815300000213%29%2C%20relacionada%20ao%20PEP%20AMARILDO%20SABATE%20KAILER%2C%20recebeu%20R%24%201193598.13%0A%20%20%20%20%20%20%20%20%20%20%20%20%20%20%20%20%20%3C/div%3E%60%2C%0A%20%20%20%20%20%20%20%20%20%20%20%20%20%20%20%20%7B%22sticky%22%3A%20true%7D%0A%20%20%20%20%20%20%20%20%20%20%20%20%29%3B%0A%20%20%20%20%20%20%20%20%0A%20%20%20%20%0A%20%20%20%20%20%20%20%20%20%20%20%20var%20marker_662e0d194c40491896077ecda8514510%20%3D%20L.marker%28%0A%20%20%20%20%20%20%20%20%20%20%20%20%20%20%20%20%5B-20.075%2C%20-50.339%5D%2C%0A%20%20%20%20%20%20%20%20%20%20%20%20%20%20%20%20%7B%7D%0A%20%20%20%20%20%20%20%20%20%20%20%20%29.addTo%28map_9816868a223e4fedaefc8dac49e0faf5%29%3B%0A%20%20%20%20%20%20%20%20%0A%20%20%20%20%0A%20%20%20%20%20%20%20%20%20%20%20%20var%20icon_1900f547429249a99454de4d4b61a865%20%3D%20L.AwesomeMarkers.icon%28%0A%20%20%20%20%20%20%20%20%20%20%20%20%20%20%20%20%7B%22extraClasses%22%3A%20%22fa-rotate-0%22%2C%20%22icon%22%3A%20%22info-sign%22%2C%20%22iconColor%22%3A%20%22white%22%2C%20%22markerColor%22%3A%20%22red%22%2C%20%22prefix%22%3A%20%22glyphicon%22%7D%0A%20%20%20%20%20%20%20%20%20%20%20%20%29%3B%0A%20%20%20%20%20%20%20%20%20%20%20%20marker_662e0d194c40491896077ecda8514510.setIcon%28icon_1900f547429249a99454de4d4b61a865%29%3B%0A%20%20%20%20%20%20%20%20%0A%20%20%20%20%0A%20%20%20%20%20%20%20%20var%20popup_4e7f168bef904531936301b186014d7d%20%3D%20L.popup%28%7B%22maxWidth%22%3A%20%22100%25%22%7D%29%3B%0A%0A%20%20%20%20%20%20%20%20%0A%20%20%20%20%20%20%20%20%20%20%20%20var%20html_ffe3097ff3684feaa41f6d57a249f6eb%20%3D%20%24%28%60%3Cdiv%20id%3D%22html_ffe3097ff3684feaa41f6d57a249f6eb%22%20style%3D%22width%3A%20100.0%25%3B%20height%3A%20100.0%25%3B%22%3EA%20empresa%20AMINE%20IMOBILIARIOS%20%28CNPJ%2055815300000475%29%2C%20relacionada%20ao%20PEP%20AMARILDO%20SABATE%20KAILER%2C%20recebeu%20R%24%20978748.92%3C/div%3E%60%29%5B0%5D%3B%0A%20%20%20%20%20%20%20%20%20%20%20%20popup_4e7f168bef904531936301b186014d7d.setContent%28html_ffe3097ff3684feaa41f6d57a249f6eb%29%3B%0A%20%20%20%20%20%20%20%20%0A%0A%20%20%20%20%20%20%20%20marker_662e0d194c40491896077ecda8514510.bindPopup%28popup_4e7f168bef904531936301b186014d7d%29%0A%20%20%20%20%20%20%20%20%3B%0A%0A%20%20%20%20%20%20%20%20%0A%20%20%20%20%0A%20%20%20%20%0A%20%20%20%20%20%20%20%20%20%20%20%20marker_662e0d194c40491896077ecda8514510.bindTooltip%28%0A%20%20%20%20%20%20%20%20%20%20%20%20%20%20%20%20%60%3Cdiv%3E%0A%20%20%20%20%20%20%20%20%20%20%20%20%20%20%20%20%20%20%20%20%20A%20empresa%20AMINE%20IMOBILIARIOS%20%28CNPJ%2055815300000475%29%2C%20relacionada%20ao%20PEP%20AMARILDO%20SABATE%20KAILER%2C%20recebeu%20R%24%20978748.92%0A%20%20%20%20%20%20%20%20%20%20%20%20%20%20%20%20%20%3C/div%3E%60%2C%0A%20%20%20%20%20%20%20%20%20%20%20%20%20%20%20%20%7B%22sticky%22%3A%20true%7D%0A%20%20%20%20%20%20%20%20%20%20%20%20%29%3B%0A%20%20%20%20%20%20%20%20%0A%20%20%20%20%0A%20%20%20%20%20%20%20%20%20%20%20%20var%20marker_b58341d9adb0443d98901c0bc89b139d%20%3D%20L.marker%28%0A%20%20%20%20%20%20%20%20%20%20%20%20%20%20%20%20%5B-23.026%2C%20-45.555%5D%2C%0A%20%20%20%20%20%20%20%20%20%20%20%20%20%20%20%20%7B%7D%0A%20%20%20%20%20%20%20%20%20%20%20%20%29.addTo%28map_9816868a223e4fedaefc8dac49e0faf5%29%3B%0A%20%20%20%20%20%20%20%20%0A%20%20%20%20%0A%20%20%20%20%20%20%20%20%20%20%20%20var%20icon_07750a230ba940a689831b78cafeb4b2%20%3D%20L.AwesomeMarkers.icon%28%0A%20%20%20%20%20%20%20%20%20%20%20%20%20%20%20%20%7B%22extraClasses%22%3A%20%22fa-rotate-0%22%2C%20%22icon%22%3A%20%22info-sign%22%2C%20%22iconColor%22%3A%20%22white%22%2C%20%22markerColor%22%3A%20%22red%22%2C%20%22prefix%22%3A%20%22glyphicon%22%7D%0A%20%20%20%20%20%20%20%20%20%20%20%20%29%3B%0A%20%20%20%20%20%20%20%20%20%20%20%20marker_b58341d9adb0443d98901c0bc89b139d.setIcon%28icon_07750a230ba940a689831b78cafeb4b2%29%3B%0A%20%20%20%20%20%20%20%20%0A%20%20%20%20%0A%20%20%20%20%20%20%20%20var%20popup_9356753265d74426a1cc25dd073ed479%20%3D%20L.popup%28%7B%22maxWidth%22%3A%20%22100%25%22%7D%29%3B%0A%0A%20%20%20%20%20%20%20%20%0A%20%20%20%20%20%20%20%20%20%20%20%20var%20html_cc4728caf97447b98619d7e62c824699%20%3D%20%24%28%60%3Cdiv%20id%3D%22html_cc4728caf97447b98619d7e62c824699%22%20style%3D%22width%3A%20100.0%25%3B%20height%3A%20100.0%25%3B%22%3EA%20empresa%20AMINE%20IMOBILIARIOS%20%28CNPJ%2055815300000213%29%2C%20relacionada%20ao%20PEP%20AMARILDO%20SABATE%20KAILER%2C%20recebeu%20R%24%20747080.25%3C/div%3E%60%29%5B0%5D%3B%0A%20%20%20%20%20%20%20%20%20%20%20%20popup_9356753265d74426a1cc25dd073ed479.setContent%28html_cc4728caf97447b98619d7e62c824699%29%3B%0A%20%20%20%20%20%20%20%20%0A%0A%20%20%20%20%20%20%20%20marker_b58341d9adb0443d98901c0bc89b139d.bindPopup%28popup_9356753265d74426a1cc25dd073ed479%29%0A%20%20%20%20%20%20%20%20%3B%0A%0A%20%20%20%20%20%20%20%20%0A%20%20%20%20%0A%20%20%20%20%0A%20%20%20%20%20%20%20%20%20%20%20%20marker_b58341d9adb0443d98901c0bc89b139d.bindTooltip%28%0A%20%20%20%20%20%20%20%20%20%20%20%20%20%20%20%20%60%3Cdiv%3E%0A%20%20%20%20%20%20%20%20%20%20%20%20%20%20%20%20%20%20%20%20%20A%20empresa%20AMINE%20IMOBILIARIOS%20%28CNPJ%2055815300000213%29%2C%20relacionada%20ao%20PEP%20AMARILDO%20SABATE%20KAILER%2C%20recebeu%20R%24%20747080.25%0A%20%20%20%20%20%20%20%20%20%20%20%20%20%20%20%20%20%3C/div%3E%60%2C%0A%20%20%20%20%20%20%20%20%20%20%20%20%20%20%20%20%7B%22sticky%22%3A%20true%7D%0A%20%20%20%20%20%20%20%20%20%20%20%20%29%3B%0A%20%20%20%20%20%20%20%20%0A%20%20%20%20%0A%20%20%20%20%20%20%20%20%20%20%20%20var%20marker_80908e4472114195b3fa92f09b1a7f71%20%3D%20L.marker%28%0A%20%20%20%20%20%20%20%20%20%20%20%20%20%20%20%20%5B-22.488%2C%20-47.215%5D%2C%0A%20%20%20%20%20%20%20%20%20%20%20%20%20%20%20%20%7B%7D%0A%20%20%20%20%20%20%20%20%20%20%20%20%29.addTo%28map_9816868a223e4fedaefc8dac49e0faf5%29%3B%0A%20%20%20%20%20%20%20%20%0A%20%20%20%20%0A%20%20%20%20%20%20%20%20%20%20%20%20var%20icon_414d8fbcdc5a4022b38c5357bfa7813a%20%3D%20L.AwesomeMarkers.icon%28%0A%20%20%20%20%20%20%20%20%20%20%20%20%20%20%20%20%7B%22extraClasses%22%3A%20%22fa-rotate-0%22%2C%20%22icon%22%3A%20%22info-sign%22%2C%20%22iconColor%22%3A%20%22white%22%2C%20%22markerColor%22%3A%20%22red%22%2C%20%22prefix%22%3A%20%22glyphicon%22%7D%0A%20%20%20%20%20%20%20%20%20%20%20%20%29%3B%0A%20%20%20%20%20%20%20%20%20%20%20%20marker_80908e4472114195b3fa92f09b1a7f71.setIcon%28icon_414d8fbcdc5a4022b38c5357bfa7813a%29%3B%0A%20%20%20%20%20%20%20%20%0A%20%20%20%20%0A%20%20%20%20%20%20%20%20var%20popup_b37c75da63cf493e99f6214f015807e2%20%3D%20L.popup%28%7B%22maxWidth%22%3A%20%22100%25%22%7D%29%3B%0A%0A%20%20%20%20%20%20%20%20%0A%20%20%20%20%20%20%20%20%20%20%20%20var%20html_0e1351e76da94aa0b40d04c81ba52fe5%20%3D%20%24%28%60%3Cdiv%20id%3D%22html_0e1351e76da94aa0b40d04c81ba52fe5%22%20style%3D%22width%3A%20100.0%25%3B%20height%3A%20100.0%25%3B%22%3EA%20empresa%20AMINE%20IMOBILIARIOS%20%28CNPJ%2055815300000213%29%2C%20relacionada%20ao%20PEP%20AMARILDO%20SABATE%20KAILER%2C%20recebeu%20R%24%20747635.06%3C/div%3E%60%29%5B0%5D%3B%0A%20%20%20%20%20%20%20%20%20%20%20%20popup_b37c75da63cf493e99f6214f015807e2.setContent%28html_0e1351e76da94aa0b40d04c81ba52fe5%29%3B%0A%20%20%20%20%20%20%20%20%0A%0A%20%20%20%20%20%20%20%20marker_80908e4472114195b3fa92f09b1a7f71.bindPopup%28popup_b37c75da63cf493e99f6214f015807e2%29%0A%20%20%20%20%20%20%20%20%3B%0A%0A%20%20%20%20%20%20%20%20%0A%20%20%20%20%0A%20%20%20%20%0A%20%20%20%20%20%20%20%20%20%20%20%20marker_80908e4472114195b3fa92f09b1a7f71.bindTooltip%28%0A%20%20%20%20%20%20%20%20%20%20%20%20%20%20%20%20%60%3Cdiv%3E%0A%20%20%20%20%20%20%20%20%20%20%20%20%20%20%20%20%20%20%20%20%20A%20empresa%20AMINE%20IMOBILIARIOS%20%28CNPJ%2055815300000213%29%2C%20relacionada%20ao%20PEP%20AMARILDO%20SABATE%20KAILER%2C%20recebeu%20R%24%20747635.06%0A%20%20%20%20%20%20%20%20%20%20%20%20%20%20%20%20%20%3C/div%3E%60%2C%0A%20%20%20%20%20%20%20%20%20%20%20%20%20%20%20%20%7B%22sticky%22%3A%20true%7D%0A%20%20%20%20%20%20%20%20%20%20%20%20%29%3B%0A%20%20%20%20%20%20%20%20%0A%20%20%20%20%0A%20%20%20%20%20%20%20%20%20%20%20%20var%20marker_47a745e5a7f140cab1102e432d6dcff0%20%3D%20L.marker%28%0A%20%20%20%20%20%20%20%20%20%20%20%20%20%20%20%20%5B-22.488%2C%20-47.215%5D%2C%0A%20%20%20%20%20%20%20%20%20%20%20%20%20%20%20%20%7B%7D%0A%20%20%20%20%20%20%20%20%20%20%20%20%29.addTo%28map_9816868a223e4fedaefc8dac49e0faf5%29%3B%0A%20%20%20%20%20%20%20%20%0A%20%20%20%20%0A%20%20%20%20%20%20%20%20%20%20%20%20var%20icon_3dee0fda3c664be8a8cbfb5cf8ef0f9c%20%3D%20L.AwesomeMarkers.icon%28%0A%20%20%20%20%20%20%20%20%20%20%20%20%20%20%20%20%7B%22extraClasses%22%3A%20%22fa-rotate-0%22%2C%20%22icon%22%3A%20%22info-sign%22%2C%20%22iconColor%22%3A%20%22white%22%2C%20%22markerColor%22%3A%20%22red%22%2C%20%22prefix%22%3A%20%22glyphicon%22%7D%0A%20%20%20%20%20%20%20%20%20%20%20%20%29%3B%0A%20%20%20%20%20%20%20%20%20%20%20%20marker_47a745e5a7f140cab1102e432d6dcff0.setIcon%28icon_3dee0fda3c664be8a8cbfb5cf8ef0f9c%29%3B%0A%20%20%20%20%20%20%20%20%0A%20%20%20%20%0A%20%20%20%20%20%20%20%20var%20popup_5501ab66ae264bb58808aeb43f258785%20%3D%20L.popup%28%7B%22maxWidth%22%3A%20%22100%25%22%7D%29%3B%0A%0A%20%20%20%20%20%20%20%20%0A%20%20%20%20%20%20%20%20%20%20%20%20var%20html_bcd57bcc3036430e98f979b6eb3e4834%20%3D%20%24%28%60%3Cdiv%20id%3D%22html_bcd57bcc3036430e98f979b6eb3e4834%22%20style%3D%22width%3A%20100.0%25%3B%20height%3A%20100.0%25%3B%22%3EA%20empresa%20AMINE%20IMOBILIARIOS%20%28CNPJ%2055815300000475%29%2C%20relacionada%20ao%20PEP%20AMARILDO%20SABATE%20KAILER%2C%20recebeu%20R%24%20554663.54%3C/div%3E%60%29%5B0%5D%3B%0A%20%20%20%20%20%20%20%20%20%20%20%20popup_5501ab66ae264bb58808aeb43f258785.setContent%28html_bcd57bcc3036430e98f979b6eb3e4834%29%3B%0A%20%20%20%20%20%20%20%20%0A%0A%20%20%20%20%20%20%20%20marker_47a745e5a7f140cab1102e432d6dcff0.bindPopup%28popup_5501ab66ae264bb58808aeb43f258785%29%0A%20%20%20%20%20%20%20%20%3B%0A%0A%20%20%20%20%20%20%20%20%0A%20%20%20%20%0A%20%20%20%20%0A%20%20%20%20%20%20%20%20%20%20%20%20marker_47a745e5a7f140cab1102e432d6dcff0.bindTooltip%28%0A%20%20%20%20%20%20%20%20%20%20%20%20%20%20%20%20%60%3Cdiv%3E%0A%20%20%20%20%20%20%20%20%20%20%20%20%20%20%20%20%20%20%20%20%20A%20empresa%20AMINE%20IMOBILIARIOS%20%28CNPJ%2055815300000475%29%2C%20relacionada%20ao%20PEP%20AMARILDO%20SABATE%20KAILER%2C%20recebeu%20R%24%20554663.54%0A%20%20%20%20%20%20%20%20%20%20%20%20%20%20%20%20%20%3C/div%3E%60%2C%0A%20%20%20%20%20%20%20%20%20%20%20%20%20%20%20%20%7B%22sticky%22%3A%20true%7D%0A%20%20%20%20%20%20%20%20%20%20%20%20%29%3B%0A%20%20%20%20%20%20%20%20%0A%20%20%20%20%0A%20%20%20%20%20%20%20%20%20%20%20%20var%20marker_7d1876ae998a420a818a2f619f2d925a%20%3D%20L.marker%28%0A%20%20%20%20%20%20%20%20%20%20%20%20%20%20%20%20%5B-24.099%2C%20-48.365%5D%2C%0A%20%20%20%20%20%20%20%20%20%20%20%20%20%20%20%20%7B%7D%0A%20%20%20%20%20%20%20%20%20%20%20%20%29.addTo%28map_9816868a223e4fedaefc8dac49e0faf5%29%3B%0A%20%20%20%20%20%20%20%20%0A%20%20%20%20%0A%20%20%20%20%20%20%20%20%20%20%20%20var%20icon_2675490d664347cb9a2b1f44cd3673fb%20%3D%20L.AwesomeMarkers.icon%28%0A%20%20%20%20%20%20%20%20%20%20%20%20%20%20%20%20%7B%22extraClasses%22%3A%20%22fa-rotate-0%22%2C%20%22icon%22%3A%20%22info-sign%22%2C%20%22iconColor%22%3A%20%22white%22%2C%20%22markerColor%22%3A%20%22red%22%2C%20%22prefix%22%3A%20%22glyphicon%22%7D%0A%20%20%20%20%20%20%20%20%20%20%20%20%29%3B%0A%20%20%20%20%20%20%20%20%20%20%20%20marker_7d1876ae998a420a818a2f619f2d925a.setIcon%28icon_2675490d664347cb9a2b1f44cd3673fb%29%3B%0A%20%20%20%20%20%20%20%20%0A%20%20%20%20%0A%20%20%20%20%20%20%20%20var%20popup_e8c890dff23f4c99859df4adde7d7100%20%3D%20L.popup%28%7B%22maxWidth%22%3A%20%22100%25%22%7D%29%3B%0A%0A%20%20%20%20%20%20%20%20%0A%20%20%20%20%20%20%20%20%20%20%20%20var%20html_d7ab6c38de1e454ca1e2946cf7a2da5a%20%3D%20%24%28%60%3Cdiv%20id%3D%22html_d7ab6c38de1e454ca1e2946cf7a2da5a%22%20style%3D%22width%3A%20100.0%25%3B%20height%3A%20100.0%25%3B%22%3EA%20empresa%20MARIA%20CECILIA%20MERCEARIA%20EIRELLI%20%28CNPJ%2008111025000132%29%2C%20relacionada%20ao%20PEP%20DIRLEI%20GOSSER%20LOIVAL%2C%20recebeu%20R%24%20691811.88%3C/div%3E%60%29%5B0%5D%3B%0A%20%20%20%20%20%20%20%20%20%20%20%20popup_e8c890dff23f4c99859df4adde7d7100.setContent%28html_d7ab6c38de1e454ca1e2946cf7a2da5a%29%3B%0A%20%20%20%20%20%20%20%20%0A%0A%20%20%20%20%20%20%20%20marker_7d1876ae998a420a818a2f619f2d925a.bindPopup%28popup_e8c890dff23f4c99859df4adde7d7100%29%0A%20%20%20%20%20%20%20%20%3B%0A%0A%20%20%20%20%20%20%20%20%0A%20%20%20%20%0A%20%20%20%20%0A%20%20%20%20%20%20%20%20%20%20%20%20marker_7d1876ae998a420a818a2f619f2d925a.bindTooltip%28%0A%20%20%20%20%20%20%20%20%20%20%20%20%20%20%20%20%60%3Cdiv%3E%0A%20%20%20%20%20%20%20%20%20%20%20%20%20%20%20%20%20%20%20%20%20A%20empresa%20MARIA%20CECILIA%20MERCEARIA%20EIRELLI%20%28CNPJ%2008111025000132%29%2C%20relacionada%20ao%20PEP%20DIRLEI%20GOSSER%20LOIVAL%2C%20recebeu%20R%24%20691811.88%0A%20%20%20%20%20%20%20%20%20%20%20%20%20%20%20%20%20%3C/div%3E%60%2C%0A%20%20%20%20%20%20%20%20%20%20%20%20%20%20%20%20%7B%22sticky%22%3A%20true%7D%0A%20%20%20%20%20%20%20%20%20%20%20%20%29%3B%0A%20%20%20%20%20%20%20%20%0A%20%20%20%20%0A%20%20%20%20%20%20%20%20%20%20%20%20var%20marker_6401ac41ccc34e49b56ca4e0be646e39%20%3D%20L.marker%28%0A%20%20%20%20%20%20%20%20%20%20%20%20%20%20%20%20%5B-23.227%2C%20-47.953%5D%2C%0A%20%20%20%20%20%20%20%20%20%20%20%20%20%20%20%20%7B%7D%0A%20%20%20%20%20%20%20%20%20%20%20%20%29.addTo%28map_9816868a223e4fedaefc8dac49e0faf5%29%3B%0A%20%20%20%20%20%20%20%20%0A%20%20%20%20%0A%20%20%20%20%20%20%20%20%20%20%20%20var%20icon_8802c7f5bdd5488f8145ead453f647f2%20%3D%20L.AwesomeMarkers.icon%28%0A%20%20%20%20%20%20%20%20%20%20%20%20%20%20%20%20%7B%22extraClasses%22%3A%20%22fa-rotate-0%22%2C%20%22icon%22%3A%20%22info-sign%22%2C%20%22iconColor%22%3A%20%22white%22%2C%20%22markerColor%22%3A%20%22red%22%2C%20%22prefix%22%3A%20%22glyphicon%22%7D%0A%20%20%20%20%20%20%20%20%20%20%20%20%29%3B%0A%20%20%20%20%20%20%20%20%20%20%20%20marker_6401ac41ccc34e49b56ca4e0be646e39.setIcon%28icon_8802c7f5bdd5488f8145ead453f647f2%29%3B%0A%20%20%20%20%20%20%20%20%0A%20%20%20%20%0A%20%20%20%20%20%20%20%20var%20popup_a046bd697f47426b837f2cabaebd3e05%20%3D%20L.popup%28%7B%22maxWidth%22%3A%20%22100%25%22%7D%29%3B%0A%0A%20%20%20%20%20%20%20%20%0A%20%20%20%20%20%20%20%20%20%20%20%20var%20html_6b72fe0d4a494b49b53a5f9e1d7cf25e%20%3D%20%24%28%60%3Cdiv%20id%3D%22html_6b72fe0d4a494b49b53a5f9e1d7cf25e%22%20style%3D%22width%3A%20100.0%25%3B%20height%3A%20100.0%25%3B%22%3EA%20empresa%20AMINE%20IMOBILIARIOS%20%28CNPJ%2055815300000213%29%2C%20relacionada%20ao%20PEP%20AMARILDO%20SABATE%20KAILER%2C%20recebeu%20R%24%20568608.3%3C/div%3E%60%29%5B0%5D%3B%0A%20%20%20%20%20%20%20%20%20%20%20%20popup_a046bd697f47426b837f2cabaebd3e05.setContent%28html_6b72fe0d4a494b49b53a5f9e1d7cf25e%29%3B%0A%20%20%20%20%20%20%20%20%0A%0A%20%20%20%20%20%20%20%20marker_6401ac41ccc34e49b56ca4e0be646e39.bindPopup%28popup_a046bd697f47426b837f2cabaebd3e05%29%0A%20%20%20%20%20%20%20%20%3B%0A%0A%20%20%20%20%20%20%20%20%0A%20%20%20%20%0A%20%20%20%20%0A%20%20%20%20%20%20%20%20%20%20%20%20marker_6401ac41ccc34e49b56ca4e0be646e39.bindTooltip%28%0A%20%20%20%20%20%20%20%20%20%20%20%20%20%20%20%20%60%3Cdiv%3E%0A%20%20%20%20%20%20%20%20%20%20%20%20%20%20%20%20%20%20%20%20%20A%20empresa%20AMINE%20IMOBILIARIOS%20%28CNPJ%2055815300000213%29%2C%20relacionada%20ao%20PEP%20AMARILDO%20SABATE%20KAILER%2C%20recebeu%20R%24%20568608.3%0A%20%20%20%20%20%20%20%20%20%20%20%20%20%20%20%20%20%3C/div%3E%60%2C%0A%20%20%20%20%20%20%20%20%20%20%20%20%20%20%20%20%7B%22sticky%22%3A%20true%7D%0A%20%20%20%20%20%20%20%20%20%20%20%20%29%3B%0A%20%20%20%20%20%20%20%20%0A%20%20%20%20%0A%20%20%20%20%20%20%20%20%20%20%20%20var%20marker_d7b48ed347ba4f8fa0c4590b42e1db4b%20%3D%20L.marker%28%0A%20%20%20%20%20%20%20%20%20%20%20%20%20%20%20%20%5B-23.227%2C%20-47.953%5D%2C%0A%20%20%20%20%20%20%20%20%20%20%20%20%20%20%20%20%7B%7D%0A%20%20%20%20%20%20%20%20%20%20%20%20%29.addTo%28map_9816868a223e4fedaefc8dac49e0faf5%29%3B%0A%20%20%20%20%20%20%20%20%0A%20%20%20%20%0A%20%20%20%20%20%20%20%20%20%20%20%20var%20icon_60e0c3a28a4a4c278ae00ced3143ca96%20%3D%20L.AwesomeMarkers.icon%28%0A%20%20%20%20%20%20%20%20%20%20%20%20%20%20%20%20%7B%22extraClasses%22%3A%20%22fa-rotate-0%22%2C%20%22icon%22%3A%20%22info-sign%22%2C%20%22iconColor%22%3A%20%22white%22%2C%20%22markerColor%22%3A%20%22red%22%2C%20%22prefix%22%3A%20%22glyphicon%22%7D%0A%20%20%20%20%20%20%20%20%20%20%20%20%29%3B%0A%20%20%20%20%20%20%20%20%20%20%20%20marker_d7b48ed347ba4f8fa0c4590b42e1db4b.setIcon%28icon_60e0c3a28a4a4c278ae00ced3143ca96%29%3B%0A%20%20%20%20%20%20%20%20%0A%20%20%20%20%0A%20%20%20%20%20%20%20%20var%20popup_9366f3eb351e40c9a433db1161564f95%20%3D%20L.popup%28%7B%22maxWidth%22%3A%20%22100%25%22%7D%29%3B%0A%0A%20%20%20%20%20%20%20%20%0A%20%20%20%20%20%20%20%20%20%20%20%20var%20html_72dc2323fdd544e5808d004c69fda176%20%3D%20%24%28%60%3Cdiv%20id%3D%22html_72dc2323fdd544e5808d004c69fda176%22%20style%3D%22width%3A%20100.0%25%3B%20height%3A%20100.0%25%3B%22%3EA%20empresa%20AMINE%20IMOBILIARIOS%20%28CNPJ%2055815300000475%29%2C%20relacionada%20ao%20PEP%20AMARILDO%20SABATE%20KAILER%2C%20recebeu%20R%24%20139074.12%3C/div%3E%60%29%5B0%5D%3B%0A%20%20%20%20%20%20%20%20%20%20%20%20popup_9366f3eb351e40c9a433db1161564f95.setContent%28html_72dc2323fdd544e5808d004c69fda176%29%3B%0A%20%20%20%20%20%20%20%20%0A%0A%20%20%20%20%20%20%20%20marker_d7b48ed347ba4f8fa0c4590b42e1db4b.bindPopup%28popup_9366f3eb351e40c9a433db1161564f95%29%0A%20%20%20%20%20%20%20%20%3B%0A%0A%20%20%20%20%20%20%20%20%0A%20%20%20%20%0A%20%20%20%20%0A%20%20%20%20%20%20%20%20%20%20%20%20marker_d7b48ed347ba4f8fa0c4590b42e1db4b.bindTooltip%28%0A%20%20%20%20%20%20%20%20%20%20%20%20%20%20%20%20%60%3Cdiv%3E%0A%20%20%20%20%20%20%20%20%20%20%20%20%20%20%20%20%20%20%20%20%20A%20empresa%20AMINE%20IMOBILIARIOS%20%28CNPJ%2055815300000475%29%2C%20relacionada%20ao%20PEP%20AMARILDO%20SABATE%20KAILER%2C%20recebeu%20R%24%20139074.12%0A%20%20%20%20%20%20%20%20%20%20%20%20%20%20%20%20%20%3C/div%3E%60%2C%0A%20%20%20%20%20%20%20%20%20%20%20%20%20%20%20%20%7B%22sticky%22%3A%20true%7D%0A%20%20%20%20%20%20%20%20%20%20%20%20%29%3B%0A%20%20%20%20%20%20%20%20%0A%20%20%20%20%0A%20%20%20%20%20%20%20%20%20%20%20%20var%20marker_40e22a3c1c52435a9bcd724bf6586632%20%3D%20L.marker%28%0A%20%20%20%20%20%20%20%20%20%20%20%20%20%20%20%20%5B-23.081%2C%20-48.374%5D%2C%0A%20%20%20%20%20%20%20%20%20%20%20%20%20%20%20%20%7B%7D%0A%20%20%20%20%20%20%20%20%20%20%20%20%29.addTo%28map_9816868a223e4fedaefc8dac49e0faf5%29%3B%0A%20%20%20%20%20%20%20%20%0A%20%20%20%20%0A%20%20%20%20%20%20%20%20%20%20%20%20var%20icon_49fab7edd4dc4403bc29dbd0a986c088%20%3D%20L.AwesomeMarkers.icon%28%0A%20%20%20%20%20%20%20%20%20%20%20%20%20%20%20%20%7B%22extraClasses%22%3A%20%22fa-rotate-0%22%2C%20%22icon%22%3A%20%22info-sign%22%2C%20%22iconColor%22%3A%20%22white%22%2C%20%22markerColor%22%3A%20%22red%22%2C%20%22prefix%22%3A%20%22glyphicon%22%7D%0A%20%20%20%20%20%20%20%20%20%20%20%20%29%3B%0A%20%20%20%20%20%20%20%20%20%20%20%20marker_40e22a3c1c52435a9bcd724bf6586632.setIcon%28icon_49fab7edd4dc4403bc29dbd0a986c088%29%3B%0A%20%20%20%20%20%20%20%20%0A%20%20%20%20%0A%20%20%20%20%20%20%20%20var%20popup_f9304376bee1488e84a4ff40287308b6%20%3D%20L.popup%28%7B%22maxWidth%22%3A%20%22100%25%22%7D%29%3B%0A%0A%20%20%20%20%20%20%20%20%0A%20%20%20%20%20%20%20%20%20%20%20%20var%20html_93a72cab09004ccc80e41daa056d96da%20%3D%20%24%28%60%3Cdiv%20id%3D%22html_93a72cab09004ccc80e41daa056d96da%22%20style%3D%22width%3A%20100.0%25%3B%20height%3A%20100.0%25%3B%22%3EA%20empresa%20ARTUR%20SANTOS%20LTDA%20%28CNPJ%2000130932000170%29%2C%20relacionada%20ao%20PEP%20AMARILDO%20EMENDABILI%20ERIVANO%2C%20recebeu%20R%24%20607988.2%3C/div%3E%60%29%5B0%5D%3B%0A%20%20%20%20%20%20%20%20%20%20%20%20popup_f9304376bee1488e84a4ff40287308b6.setContent%28html_93a72cab09004ccc80e41daa056d96da%29%3B%0A%20%20%20%20%20%20%20%20%0A%0A%20%20%20%20%20%20%20%20marker_40e22a3c1c52435a9bcd724bf6586632.bindPopup%28popup_f9304376bee1488e84a4ff40287308b6%29%0A%20%20%20%20%20%20%20%20%3B%0A%0A%20%20%20%20%20%20%20%20%0A%20%20%20%20%0A%20%20%20%20%0A%20%20%20%20%20%20%20%20%20%20%20%20marker_40e22a3c1c52435a9bcd724bf6586632.bindTooltip%28%0A%20%20%20%20%20%20%20%20%20%20%20%20%20%20%20%20%60%3Cdiv%3E%0A%20%20%20%20%20%20%20%20%20%20%20%20%20%20%20%20%20%20%20%20%20A%20empresa%20ARTUR%20SANTOS%20LTDA%20%28CNPJ%2000130932000170%29%2C%20relacionada%20ao%20PEP%20AMARILDO%20EMENDABILI%20ERIVANO%2C%20recebeu%20R%24%20607988.2%0A%20%20%20%20%20%20%20%20%20%20%20%20%20%20%20%20%20%3C/div%3E%60%2C%0A%20%20%20%20%20%20%20%20%20%20%20%20%20%20%20%20%7B%22sticky%22%3A%20true%7D%0A%20%20%20%20%20%20%20%20%20%20%20%20%29%3B%0A%20%20%20%20%20%20%20%20%0A%20%20%20%20%0A%20%20%20%20%20%20%20%20%20%20%20%20var%20marker_0d9354ed69cd4e7fa720a310169a2335%20%3D%20L.marker%28%0A%20%20%20%20%20%20%20%20%20%20%20%20%20%20%20%20%5B-23.602%2C%20-46.753%5D%2C%0A%20%20%20%20%20%20%20%20%20%20%20%20%20%20%20%20%7B%7D%0A%20%20%20%20%20%20%20%20%20%20%20%20%29.addTo%28map_9816868a223e4fedaefc8dac49e0faf5%29%3B%0A%20%20%20%20%20%20%20%20%0A%20%20%20%20%0A%20%20%20%20%20%20%20%20%20%20%20%20var%20icon_44c08c2b2d5343cfa4805b6261ccb13c%20%3D%20L.AwesomeMarkers.icon%28%0A%20%20%20%20%20%20%20%20%20%20%20%20%20%20%20%20%7B%22extraClasses%22%3A%20%22fa-rotate-0%22%2C%20%22icon%22%3A%20%22info-sign%22%2C%20%22iconColor%22%3A%20%22white%22%2C%20%22markerColor%22%3A%20%22red%22%2C%20%22prefix%22%3A%20%22glyphicon%22%7D%0A%20%20%20%20%20%20%20%20%20%20%20%20%29%3B%0A%20%20%20%20%20%20%20%20%20%20%20%20marker_0d9354ed69cd4e7fa720a310169a2335.setIcon%28icon_44c08c2b2d5343cfa4805b6261ccb13c%29%3B%0A%20%20%20%20%20%20%20%20%0A%20%20%20%20%0A%20%20%20%20%20%20%20%20var%20popup_e044250028a341a796fa05682bda86ac%20%3D%20L.popup%28%7B%22maxWidth%22%3A%20%22100%25%22%7D%29%3B%0A%0A%20%20%20%20%20%20%20%20%0A%20%20%20%20%20%20%20%20%20%20%20%20var%20html_dd48d5e480cd45499ca41f87d8a3132a%20%3D%20%24%28%60%3Cdiv%20id%3D%22html_dd48d5e480cd45499ca41f87d8a3132a%22%20style%3D%22width%3A%20100.0%25%3B%20height%3A%20100.0%25%3B%22%3EA%20empresa%20AMINE%20IMOBILIARIOS%20%28CNPJ%2055815300000213%29%2C%20relacionada%20ao%20PEP%20AMARILDO%20SABATE%20KAILER%2C%20recebeu%20R%24%20574964.89%3C/div%3E%60%29%5B0%5D%3B%0A%20%20%20%20%20%20%20%20%20%20%20%20popup_e044250028a341a796fa05682bda86ac.setContent%28html_dd48d5e480cd45499ca41f87d8a3132a%29%3B%0A%20%20%20%20%20%20%20%20%0A%0A%20%20%20%20%20%20%20%20marker_0d9354ed69cd4e7fa720a310169a2335.bindPopup%28popup_e044250028a341a796fa05682bda86ac%29%0A%20%20%20%20%20%20%20%20%3B%0A%0A%20%20%20%20%20%20%20%20%0A%20%20%20%20%0A%20%20%20%20%0A%20%20%20%20%20%20%20%20%20%20%20%20marker_0d9354ed69cd4e7fa720a310169a2335.bindTooltip%28%0A%20%20%20%20%20%20%20%20%20%20%20%20%20%20%20%20%60%3Cdiv%3E%0A%20%20%20%20%20%20%20%20%20%20%20%20%20%20%20%20%20%20%20%20%20A%20empresa%20AMINE%20IMOBILIARIOS%20%28CNPJ%2055815300000213%29%2C%20relacionada%20ao%20PEP%20AMARILDO%20SABATE%20KAILER%2C%20recebeu%20R%24%20574964.89%0A%20%20%20%20%20%20%20%20%20%20%20%20%20%20%20%20%20%3C/div%3E%60%2C%0A%20%20%20%20%20%20%20%20%20%20%20%20%20%20%20%20%7B%22sticky%22%3A%20true%7D%0A%20%20%20%20%20%20%20%20%20%20%20%20%29%3B%0A%20%20%20%20%20%20%20%20%0A%20%20%20%20%0A%20%20%20%20%20%20%20%20%20%20%20%20var%20marker_cb603aeb9ecd4dd5bca24f0faa123db0%20%3D%20L.marker%28%0A%20%20%20%20%20%20%20%20%20%20%20%20%20%20%20%20%5B-20.806%2C%20-49.964%5D%2C%0A%20%20%20%20%20%20%20%20%20%20%20%20%20%20%20%20%7B%7D%0A%20%20%20%20%20%20%20%20%20%20%20%20%29.addTo%28map_9816868a223e4fedaefc8dac49e0faf5%29%3B%0A%20%20%20%20%20%20%20%20%0A%20%20%20%20%0A%20%20%20%20%20%20%20%20%20%20%20%20var%20icon_10a23ea12cda44c480e54d9d085550c9%20%3D%20L.AwesomeMarkers.icon%28%0A%20%20%20%20%20%20%20%20%20%20%20%20%20%20%20%20%7B%22extraClasses%22%3A%20%22fa-rotate-0%22%2C%20%22icon%22%3A%20%22info-sign%22%2C%20%22iconColor%22%3A%20%22white%22%2C%20%22markerColor%22%3A%20%22red%22%2C%20%22prefix%22%3A%20%22glyphicon%22%7D%0A%20%20%20%20%20%20%20%20%20%20%20%20%29%3B%0A%20%20%20%20%20%20%20%20%20%20%20%20marker_cb603aeb9ecd4dd5bca24f0faa123db0.setIcon%28icon_10a23ea12cda44c480e54d9d085550c9%29%3B%0A%20%20%20%20%20%20%20%20%0A%20%20%20%20%0A%20%20%20%20%20%20%20%20var%20popup_08883d1df8314a3389756cdd4698331b%20%3D%20L.popup%28%7B%22maxWidth%22%3A%20%22100%25%22%7D%29%3B%0A%0A%20%20%20%20%20%20%20%20%0A%20%20%20%20%20%20%20%20%20%20%20%20var%20html_70b615db19c04ff4a0c1c3eb9a829e05%20%3D%20%24%28%60%3Cdiv%20id%3D%22html_70b615db19c04ff4a0c1c3eb9a829e05%22%20style%3D%22width%3A%20100.0%25%3B%20height%3A%20100.0%25%3B%22%3EA%20empresa%20CSENGE%20CONFECCOES%20EIRELLI%20%28CNPJ%2018941225000172%29%2C%20relacionada%20ao%20PEP%20JUNOR%20RUITA%20CHIMANGO%2C%20recebeu%20R%24%20555209.93%3C/div%3E%60%29%5B0%5D%3B%0A%20%20%20%20%20%20%20%20%20%20%20%20popup_08883d1df8314a3389756cdd4698331b.setContent%28html_70b615db19c04ff4a0c1c3eb9a829e05%29%3B%0A%20%20%20%20%20%20%20%20%0A%0A%20%20%20%20%20%20%20%20marker_cb603aeb9ecd4dd5bca24f0faa123db0.bindPopup%28popup_08883d1df8314a3389756cdd4698331b%29%0A%20%20%20%20%20%20%20%20%3B%0A%0A%20%20%20%20%20%20%20%20%0A%20%20%20%20%0A%20%20%20%20%0A%20%20%20%20%20%20%20%20%20%20%20%20marker_cb603aeb9ecd4dd5bca24f0faa123db0.bindTooltip%28%0A%20%20%20%20%20%20%20%20%20%20%20%20%20%20%20%20%60%3Cdiv%3E%0A%20%20%20%20%20%20%20%20%20%20%20%20%20%20%20%20%20%20%20%20%20A%20empresa%20CSENGE%20CONFECCOES%20EIRELLI%20%28CNPJ%2018941225000172%29%2C%20relacionada%20ao%20PEP%20JUNOR%20RUITA%20CHIMANGO%2C%20recebeu%20R%24%20555209.93%0A%20%20%20%20%20%20%20%20%20%20%20%20%20%20%20%20%20%3C/div%3E%60%2C%0A%20%20%20%20%20%20%20%20%20%20%20%20%20%20%20%20%7B%22sticky%22%3A%20true%7D%0A%20%20%20%20%20%20%20%20%20%20%20%20%29%3B%0A%20%20%20%20%20%20%20%20%0A%20%20%20%20%0A%20%20%20%20%20%20%20%20%20%20%20%20var%20marker_034d0b4e88914ad2bd9668351eb9dfc1%20%3D%20L.marker%28%0A%20%20%20%20%20%20%20%20%20%20%20%20%20%20%20%20%5B-20.655%2C%20-49.921%5D%2C%0A%20%20%20%20%20%20%20%20%20%20%20%20%20%20%20%20%7B%7D%0A%20%20%20%20%20%20%20%20%20%20%20%20%29.addTo%28map_9816868a223e4fedaefc8dac49e0faf5%29%3B%0A%20%20%20%20%20%20%20%20%0A%20%20%20%20%0A%20%20%20%20%20%20%20%20%20%20%20%20var%20icon_cee4eeb873c04df4a19827d0faa08226%20%3D%20L.AwesomeMarkers.icon%28%0A%20%20%20%20%20%20%20%20%20%20%20%20%20%20%20%20%7B%22extraClasses%22%3A%20%22fa-rotate-0%22%2C%20%22icon%22%3A%20%22info-sign%22%2C%20%22iconColor%22%3A%20%22white%22%2C%20%22markerColor%22%3A%20%22red%22%2C%20%22prefix%22%3A%20%22glyphicon%22%7D%0A%20%20%20%20%20%20%20%20%20%20%20%20%29%3B%0A%20%20%20%20%20%20%20%20%20%20%20%20marker_034d0b4e88914ad2bd9668351eb9dfc1.setIcon%28icon_cee4eeb873c04df4a19827d0faa08226%29%3B%0A%20%20%20%20%20%20%20%20%0A%20%20%20%20%0A%20%20%20%20%20%20%20%20var%20popup_5d5c018a6b4b435280e0766d6e57099c%20%3D%20L.popup%28%7B%22maxWidth%22%3A%20%22100%25%22%7D%29%3B%0A%0A%20%20%20%20%20%20%20%20%0A%20%20%20%20%20%20%20%20%20%20%20%20var%20html_ebdfb25863b8492eacfe8975c6dba6a7%20%3D%20%24%28%60%3Cdiv%20id%3D%22html_ebdfb25863b8492eacfe8975c6dba6a7%22%20style%3D%22width%3A%20100.0%25%3B%20height%3A%20100.0%25%3B%22%3EA%20empresa%20FINN%20TECNOLOGIA%20%28CNPJ%2056776669000107%29%2C%20relacionada%20ao%20PEP%20IDEVAL%20DELU%20STRAPPA%2C%20recebeu%20R%24%20559375.94%3C/div%3E%60%29%5B0%5D%3B%0A%20%20%20%20%20%20%20%20%20%20%20%20popup_5d5c018a6b4b435280e0766d6e57099c.setContent%28html_ebdfb25863b8492eacfe8975c6dba6a7%29%3B%0A%20%20%20%20%20%20%20%20%0A%0A%20%20%20%20%20%20%20%20marker_034d0b4e88914ad2bd9668351eb9dfc1.bindPopup%28popup_5d5c018a6b4b435280e0766d6e57099c%29%0A%20%20%20%20%20%20%20%20%3B%0A%0A%20%20%20%20%20%20%20%20%0A%20%20%20%20%0A%20%20%20%20%0A%20%20%20%20%20%20%20%20%20%20%20%20marker_034d0b4e88914ad2bd9668351eb9dfc1.bindTooltip%28%0A%20%20%20%20%20%20%20%20%20%20%20%20%20%20%20%20%60%3Cdiv%3E%0A%20%20%20%20%20%20%20%20%20%20%20%20%20%20%20%20%20%20%20%20%20A%20empresa%20FINN%20TECNOLOGIA%20%28CNPJ%2056776669000107%29%2C%20relacionada%20ao%20PEP%20IDEVAL%20DELU%20STRAPPA%2C%20recebeu%20R%24%20559375.94%0A%20%20%20%20%20%20%20%20%20%20%20%20%20%20%20%20%20%3C/div%3E%60%2C%0A%20%20%20%20%20%20%20%20%20%20%20%20%20%20%20%20%7B%22sticky%22%3A%20true%7D%0A%20%20%20%20%20%20%20%20%20%20%20%20%29%3B%0A%20%20%20%20%20%20%20%20%0A%20%20%20%20%0A%20%20%20%20%20%20%20%20%20%20%20%20var%20marker_b0ad38256c794c17bed76148f139bf11%20%3D%20L.marker%28%0A%20%20%20%20%20%20%20%20%20%20%20%20%20%20%20%20%5B-23.486%2C%20-46.348%5D%2C%0A%20%20%20%20%20%20%20%20%20%20%20%20%20%20%20%20%7B%7D%0A%20%20%20%20%20%20%20%20%20%20%20%20%29.addTo%28map_9816868a223e4fedaefc8dac49e0faf5%29%3B%0A%20%20%20%20%20%20%20%20%0A%20%20%20%20%0A%20%20%20%20%20%20%20%20%20%20%20%20var%20icon_6971ae03041b4299a3f310aea78d8c8a%20%3D%20L.AwesomeMarkers.icon%28%0A%20%20%20%20%20%20%20%20%20%20%20%20%20%20%20%20%7B%22extraClasses%22%3A%20%22fa-rotate-0%22%2C%20%22icon%22%3A%20%22info-sign%22%2C%20%22iconColor%22%3A%20%22white%22%2C%20%22markerColor%22%3A%20%22red%22%2C%20%22prefix%22%3A%20%22glyphicon%22%7D%0A%20%20%20%20%20%20%20%20%20%20%20%20%29%3B%0A%20%20%20%20%20%20%20%20%20%20%20%20marker_b0ad38256c794c17bed76148f139bf11.setIcon%28icon_6971ae03041b4299a3f310aea78d8c8a%29%3B%0A%20%20%20%20%20%20%20%20%0A%20%20%20%20%0A%20%20%20%20%20%20%20%20var%20popup_fd865ce283c2482292a26c88901ecaef%20%3D%20L.popup%28%7B%22maxWidth%22%3A%20%22100%25%22%7D%29%3B%0A%0A%20%20%20%20%20%20%20%20%0A%20%20%20%20%20%20%20%20%20%20%20%20var%20html_a04c109d724f4dc4a113b8666a04f302%20%3D%20%24%28%60%3Cdiv%20id%3D%22html_a04c109d724f4dc4a113b8666a04f302%22%20style%3D%22width%3A%20100.0%25%3B%20height%3A%20100.0%25%3B%22%3EA%20empresa%20SOMA%20TURISMO%20EPP%20%28CNPJ%2004578574000175%29%2C%20relacionada%20ao%20PEP%20CLOZOE%20SPERETA%20DANIEL%2C%20recebeu%20R%24%20513335.6%3C/div%3E%60%29%5B0%5D%3B%0A%20%20%20%20%20%20%20%20%20%20%20%20popup_fd865ce283c2482292a26c88901ecaef.setContent%28html_a04c109d724f4dc4a113b8666a04f302%29%3B%0A%20%20%20%20%20%20%20%20%0A%0A%20%20%20%20%20%20%20%20marker_b0ad38256c794c17bed76148f139bf11.bindPopup%28popup_fd865ce283c2482292a26c88901ecaef%29%0A%20%20%20%20%20%20%20%20%3B%0A%0A%20%20%20%20%20%20%20%20%0A%20%20%20%20%0A%20%20%20%20%0A%20%20%20%20%20%20%20%20%20%20%20%20marker_b0ad38256c794c17bed76148f139bf11.bindTooltip%28%0A%20%20%20%20%20%20%20%20%20%20%20%20%20%20%20%20%60%3Cdiv%3E%0A%20%20%20%20%20%20%20%20%20%20%20%20%20%20%20%20%20%20%20%20%20A%20empresa%20SOMA%20TURISMO%20EPP%20%28CNPJ%2004578574000175%29%2C%20relacionada%20ao%20PEP%20CLOZOE%20SPERETA%20DANIEL%2C%20recebeu%20R%24%20513335.6%0A%20%20%20%20%20%20%20%20%20%20%20%20%20%20%20%20%20%3C/div%3E%60%2C%0A%20%20%20%20%20%20%20%20%20%20%20%20%20%20%20%20%7B%22sticky%22%3A%20true%7D%0A%20%20%20%20%20%20%20%20%20%20%20%20%29%3B%0A%20%20%20%20%20%20%20%20%0A%20%20%20%20%0A%20%20%20%20%20%20%20%20%20%20%20%20var%20marker_ab8d4e3f35e045f2b9ef1966140ceb12%20%3D%20L.marker%28%0A%20%20%20%20%20%20%20%20%20%20%20%20%20%20%20%20%5B-22.006%2C%20-51.553%5D%2C%0A%20%20%20%20%20%20%20%20%20%20%20%20%20%20%20%20%7B%7D%0A%20%20%20%20%20%20%20%20%20%20%20%20%29.addTo%28map_9816868a223e4fedaefc8dac49e0faf5%29%3B%0A%20%20%20%20%20%20%20%20%0A%20%20%20%20%0A%20%20%20%20%20%20%20%20%20%20%20%20var%20icon_2ce62cfb4087477ab0327971e0ef1c29%20%3D%20L.AwesomeMarkers.icon%28%0A%20%20%20%20%20%20%20%20%20%20%20%20%20%20%20%20%7B%22extraClasses%22%3A%20%22fa-rotate-0%22%2C%20%22icon%22%3A%20%22info-sign%22%2C%20%22iconColor%22%3A%20%22white%22%2C%20%22markerColor%22%3A%20%22red%22%2C%20%22prefix%22%3A%20%22glyphicon%22%7D%0A%20%20%20%20%20%20%20%20%20%20%20%20%29%3B%0A%20%20%20%20%20%20%20%20%20%20%20%20marker_ab8d4e3f35e045f2b9ef1966140ceb12.setIcon%28icon_2ce62cfb4087477ab0327971e0ef1c29%29%3B%0A%20%20%20%20%20%20%20%20%0A%20%20%20%20%0A%20%20%20%20%20%20%20%20var%20popup_9628c6964b6c447d8b086ebb3daf0fba%20%3D%20L.popup%28%7B%22maxWidth%22%3A%20%22100%25%22%7D%29%3B%0A%0A%20%20%20%20%20%20%20%20%0A%20%20%20%20%20%20%20%20%20%20%20%20var%20html_2fad618aa0e94d5e81d1ccebce8587be%20%3D%20%24%28%60%3Cdiv%20id%3D%22html_2fad618aa0e94d5e81d1ccebce8587be%22%20style%3D%22width%3A%20100.0%25%3B%20height%3A%20100.0%25%3B%22%3EA%20empresa%20AMINE%20IMOBILIARIOS%20%28CNPJ%2055815300000213%29%2C%20relacionada%20ao%20PEP%20AMARILDO%20SABATE%20KAILER%2C%20recebeu%20R%24%20529737.13%3C/div%3E%60%29%5B0%5D%3B%0A%20%20%20%20%20%20%20%20%20%20%20%20popup_9628c6964b6c447d8b086ebb3daf0fba.setContent%28html_2fad618aa0e94d5e81d1ccebce8587be%29%3B%0A%20%20%20%20%20%20%20%20%0A%0A%20%20%20%20%20%20%20%20marker_ab8d4e3f35e045f2b9ef1966140ceb12.bindPopup%28popup_9628c6964b6c447d8b086ebb3daf0fba%29%0A%20%20%20%20%20%20%20%20%3B%0A%0A%20%20%20%20%20%20%20%20%0A%20%20%20%20%0A%20%20%20%20%0A%20%20%20%20%20%20%20%20%20%20%20%20marker_ab8d4e3f35e045f2b9ef1966140ceb12.bindTooltip%28%0A%20%20%20%20%20%20%20%20%20%20%20%20%20%20%20%20%60%3Cdiv%3E%0A%20%20%20%20%20%20%20%20%20%20%20%20%20%20%20%20%20%20%20%20%20A%20empresa%20AMINE%20IMOBILIARIOS%20%28CNPJ%2055815300000213%29%2C%20relacionada%20ao%20PEP%20AMARILDO%20SABATE%20KAILER%2C%20recebeu%20R%24%20529737.13%0A%20%20%20%20%20%20%20%20%20%20%20%20%20%20%20%20%20%3C/div%3E%60%2C%0A%20%20%20%20%20%20%20%20%20%20%20%20%20%20%20%20%7B%22sticky%22%3A%20true%7D%0A%20%20%20%20%20%20%20%20%20%20%20%20%29%3B%0A%20%20%20%20%20%20%20%20%0A%20%20%20%20%0A%20%20%20%20%20%20%20%20%20%20%20%20var%20marker_00aecfe055d5480a97aee814e96aabe3%20%3D%20L.marker%28%0A%20%20%20%20%20%20%20%20%20%20%20%20%20%20%20%20%5B-22.006%2C%20-51.553%5D%2C%0A%20%20%20%20%20%20%20%20%20%20%20%20%20%20%20%20%7B%7D%0A%20%20%20%20%20%20%20%20%20%20%20%20%29.addTo%28map_9816868a223e4fedaefc8dac49e0faf5%29%3B%0A%20%20%20%20%20%20%20%20%0A%20%20%20%20%0A%20%20%20%20%20%20%20%20%20%20%20%20var%20icon_6e61df0e1cfa4c14a8a8d8bb701e4296%20%3D%20L.AwesomeMarkers.icon%28%0A%20%20%20%20%20%20%20%20%20%20%20%20%20%20%20%20%7B%22extraClasses%22%3A%20%22fa-rotate-0%22%2C%20%22icon%22%3A%20%22info-sign%22%2C%20%22iconColor%22%3A%20%22white%22%2C%20%22markerColor%22%3A%20%22red%22%2C%20%22prefix%22%3A%20%22glyphicon%22%7D%0A%20%20%20%20%20%20%20%20%20%20%20%20%29%3B%0A%20%20%20%20%20%20%20%20%20%20%20%20marker_00aecfe055d5480a97aee814e96aabe3.setIcon%28icon_6e61df0e1cfa4c14a8a8d8bb701e4296%29%3B%0A%20%20%20%20%20%20%20%20%0A%20%20%20%20%0A%20%20%20%20%20%20%20%20var%20popup_50a3a88f8fa74572830155f0aa15da76%20%3D%20L.popup%28%7B%22maxWidth%22%3A%20%22100%25%22%7D%29%3B%0A%0A%20%20%20%20%20%20%20%20%0A%20%20%20%20%20%20%20%20%20%20%20%20var%20html_efdf0eb6f05844f4a08cd19b9b933eb9%20%3D%20%24%28%60%3Cdiv%20id%3D%22html_efdf0eb6f05844f4a08cd19b9b933eb9%22%20style%3D%22width%3A%20100.0%25%3B%20height%3A%20100.0%25%3B%22%3EA%20empresa%20AMINE%20IMOBILIARIOS%20%28CNPJ%2055815300000475%29%2C%20relacionada%20ao%20PEP%20AMARILDO%20SABATE%20KAILER%2C%20recebeu%20R%24%20179707.06%3C/div%3E%60%29%5B0%5D%3B%0A%20%20%20%20%20%20%20%20%20%20%20%20popup_50a3a88f8fa74572830155f0aa15da76.setContent%28html_efdf0eb6f05844f4a08cd19b9b933eb9%29%3B%0A%20%20%20%20%20%20%20%20%0A%0A%20%20%20%20%20%20%20%20marker_00aecfe055d5480a97aee814e96aabe3.bindPopup%28popup_50a3a88f8fa74572830155f0aa15da76%29%0A%20%20%20%20%20%20%20%20%3B%0A%0A%20%20%20%20%20%20%20%20%0A%20%20%20%20%0A%20%20%20%20%0A%20%20%20%20%20%20%20%20%20%20%20%20marker_00aecfe055d5480a97aee814e96aabe3.bindTooltip%28%0A%20%20%20%20%20%20%20%20%20%20%20%20%20%20%20%20%60%3Cdiv%3E%0A%20%20%20%20%20%20%20%20%20%20%20%20%20%20%20%20%20%20%20%20%20A%20empresa%20AMINE%20IMOBILIARIOS%20%28CNPJ%2055815300000475%29%2C%20relacionada%20ao%20PEP%20AMARILDO%20SABATE%20KAILER%2C%20recebeu%20R%24%20179707.06%0A%20%20%20%20%20%20%20%20%20%20%20%20%20%20%20%20%20%3C/div%3E%60%2C%0A%20%20%20%20%20%20%20%20%20%20%20%20%20%20%20%20%7B%22sticky%22%3A%20true%7D%0A%20%20%20%20%20%20%20%20%20%20%20%20%29%3B%0A%20%20%20%20%20%20%20%20%0A%20%20%20%20%0A%20%20%20%20%20%20%20%20%20%20%20%20var%20marker_cd3b573f14d84895a7f18215c11815d3%20%3D%20L.marker%28%0A%20%20%20%20%20%20%20%20%20%20%20%20%20%20%20%20%5B-20.872%2C%20-51.488%5D%2C%0A%20%20%20%20%20%20%20%20%20%20%20%20%20%20%20%20%7B%7D%0A%20%20%20%20%20%20%20%20%20%20%20%20%29.addTo%28map_9816868a223e4fedaefc8dac49e0faf5%29%3B%0A%20%20%20%20%20%20%20%20%0A%20%20%20%20%0A%20%20%20%20%20%20%20%20%20%20%20%20var%20icon_5c51eab918244ea4b79e04f29a15e595%20%3D%20L.AwesomeMarkers.icon%28%0A%20%20%20%20%20%20%20%20%20%20%20%20%20%20%20%20%7B%22extraClasses%22%3A%20%22fa-rotate-0%22%2C%20%22icon%22%3A%20%22info-sign%22%2C%20%22iconColor%22%3A%20%22white%22%2C%20%22markerColor%22%3A%20%22red%22%2C%20%22prefix%22%3A%20%22glyphicon%22%7D%0A%20%20%20%20%20%20%20%20%20%20%20%20%29%3B%0A%20%20%20%20%20%20%20%20%20%20%20%20marker_cd3b573f14d84895a7f18215c11815d3.setIcon%28icon_5c51eab918244ea4b79e04f29a15e595%29%3B%0A%20%20%20%20%20%20%20%20%0A%20%20%20%20%0A%20%20%20%20%20%20%20%20var%20popup_fff14530cd524320b2db7a3627c66903%20%3D%20L.popup%28%7B%22maxWidth%22%3A%20%22100%25%22%7D%29%3B%0A%0A%20%20%20%20%20%20%20%20%0A%20%20%20%20%20%20%20%20%20%20%20%20var%20html_b289543af20c49d290a848e020df82ff%20%3D%20%24%28%60%3Cdiv%20id%3D%22html_b289543af20c49d290a848e020df82ff%22%20style%3D%22width%3A%20100.0%25%3B%20height%3A%20100.0%25%3B%22%3EA%20empresa%20CAMILA%20IMOBILIARIOS%20%28CNPJ%2050761301000146%29%2C%20relacionada%20ao%20PEP%20GILSON%20MONFORT%20GOEGA%2C%20recebeu%20R%24%20511890.79%3C/div%3E%60%29%5B0%5D%3B%0A%20%20%20%20%20%20%20%20%20%20%20%20popup_fff14530cd524320b2db7a3627c66903.setContent%28html_b289543af20c49d290a848e020df82ff%29%3B%0A%20%20%20%20%20%20%20%20%0A%0A%20%20%20%20%20%20%20%20marker_cd3b573f14d84895a7f18215c11815d3.bindPopup%28popup_fff14530cd524320b2db7a3627c66903%29%0A%20%20%20%20%20%20%20%20%3B%0A%0A%20%20%20%20%20%20%20%20%0A%20%20%20%20%0A%20%20%20%20%0A%20%20%20%20%20%20%20%20%20%20%20%20marker_cd3b573f14d84895a7f18215c11815d3.bindTooltip%28%0A%20%20%20%20%20%20%20%20%20%20%20%20%20%20%20%20%60%3Cdiv%3E%0A%20%20%20%20%20%20%20%20%20%20%20%20%20%20%20%20%20%20%20%20%20A%20empresa%20CAMILA%20IMOBILIARIOS%20%28CNPJ%2050761301000146%29%2C%20relacionada%20ao%20PEP%20GILSON%20MONFORT%20GOEGA%2C%20recebeu%20R%24%20511890.79%0A%20%20%20%20%20%20%20%20%20%20%20%20%20%20%20%20%20%3C/div%3E%60%2C%0A%20%20%20%20%20%20%20%20%20%20%20%20%20%20%20%20%7B%22sticky%22%3A%20true%7D%0A%20%20%20%20%20%20%20%20%20%20%20%20%29%3B%0A%20%20%20%20%20%20%20%20%0A%20%20%20%20%0A%20%20%20%20%20%20%20%20%20%20%20%20var%20marker_2f051082ba11431d89b46914d78f42ba%20%3D%20L.marker%28%0A%20%20%20%20%20%20%20%20%20%20%20%20%20%20%20%20%5B-21.955%2C%20-47.997%5D%2C%0A%20%20%20%20%20%20%20%20%20%20%20%20%20%20%20%20%7B%7D%0A%20%20%20%20%20%20%20%20%20%20%20%20%29.addTo%28map_9816868a223e4fedaefc8dac49e0faf5%29%3B%0A%20%20%20%20%20%20%20%20%0A%20%20%20%20%0A%20%20%20%20%20%20%20%20%20%20%20%20var%20icon_531fd9348f6149aa9f05abc7c4c9a83f%20%3D%20L.AwesomeMarkers.icon%28%0A%20%20%20%20%20%20%20%20%20%20%20%20%20%20%20%20%7B%22extraClasses%22%3A%20%22fa-rotate-0%22%2C%20%22icon%22%3A%20%22info-sign%22%2C%20%22iconColor%22%3A%20%22white%22%2C%20%22markerColor%22%3A%20%22red%22%2C%20%22prefix%22%3A%20%22glyphicon%22%7D%0A%20%20%20%20%20%20%20%20%20%20%20%20%29%3B%0A%20%20%20%20%20%20%20%20%20%20%20%20marker_2f051082ba11431d89b46914d78f42ba.setIcon%28icon_531fd9348f6149aa9f05abc7c4c9a83f%29%3B%0A%20%20%20%20%20%20%20%20%0A%20%20%20%20%0A%20%20%20%20%20%20%20%20var%20popup_465c7da71d0c4ab8acde8960520c5e12%20%3D%20L.popup%28%7B%22maxWidth%22%3A%20%22100%25%22%7D%29%3B%0A%0A%20%20%20%20%20%20%20%20%0A%20%20%20%20%20%20%20%20%20%20%20%20var%20html_aa2f39cf8fa2473883769cdc6b53ad80%20%3D%20%24%28%60%3Cdiv%20id%3D%22html_aa2f39cf8fa2473883769cdc6b53ad80%22%20style%3D%22width%3A%20100.0%25%3B%20height%3A%20100.0%25%3B%22%3EA%20empresa%20AMINE%20IMOBILIARIOS%20%28CNPJ%2055815300000475%29%2C%20relacionada%20ao%20PEP%20AMARILDO%20SABATE%20KAILER%2C%20recebeu%20R%24%20459756.62%3C/div%3E%60%29%5B0%5D%3B%0A%20%20%20%20%20%20%20%20%20%20%20%20popup_465c7da71d0c4ab8acde8960520c5e12.setContent%28html_aa2f39cf8fa2473883769cdc6b53ad80%29%3B%0A%20%20%20%20%20%20%20%20%0A%0A%20%20%20%20%20%20%20%20marker_2f051082ba11431d89b46914d78f42ba.bindPopup%28popup_465c7da71d0c4ab8acde8960520c5e12%29%0A%20%20%20%20%20%20%20%20%3B%0A%0A%20%20%20%20%20%20%20%20%0A%20%20%20%20%0A%20%20%20%20%0A%20%20%20%20%20%20%20%20%20%20%20%20marker_2f051082ba11431d89b46914d78f42ba.bindTooltip%28%0A%20%20%20%20%20%20%20%20%20%20%20%20%20%20%20%20%60%3Cdiv%3E%0A%20%20%20%20%20%20%20%20%20%20%20%20%20%20%20%20%20%20%20%20%20A%20empresa%20AMINE%20IMOBILIARIOS%20%28CNPJ%2055815300000475%29%2C%20relacionada%20ao%20PEP%20AMARILDO%20SABATE%20KAILER%2C%20recebeu%20R%24%20459756.62%0A%20%20%20%20%20%20%20%20%20%20%20%20%20%20%20%20%20%3C/div%3E%60%2C%0A%20%20%20%20%20%20%20%20%20%20%20%20%20%20%20%20%7B%22sticky%22%3A%20true%7D%0A%20%20%20%20%20%20%20%20%20%20%20%20%29%3B%0A%20%20%20%20%20%20%20%20%0A%20%20%20%20%0A%20%20%20%20%20%20%20%20%20%20%20%20var%20marker_c5a9c270b75f411f8b6845316bb3e40d%20%3D%20L.marker%28%0A%20%20%20%20%20%20%20%20%20%20%20%20%20%20%20%20%5B-20.967%2C%20-50.224%5D%2C%0A%20%20%20%20%20%20%20%20%20%20%20%20%20%20%20%20%7B%7D%0A%20%20%20%20%20%20%20%20%20%20%20%20%29.addTo%28map_9816868a223e4fedaefc8dac49e0faf5%29%3B%0A%20%20%20%20%20%20%20%20%0A%20%20%20%20%0A%20%20%20%20%20%20%20%20%20%20%20%20var%20icon_9e2d930f7d484a04bf711555f8f89d24%20%3D%20L.AwesomeMarkers.icon%28%0A%20%20%20%20%20%20%20%20%20%20%20%20%20%20%20%20%7B%22extraClasses%22%3A%20%22fa-rotate-0%22%2C%20%22icon%22%3A%20%22info-sign%22%2C%20%22iconColor%22%3A%20%22white%22%2C%20%22markerColor%22%3A%20%22red%22%2C%20%22prefix%22%3A%20%22glyphicon%22%7D%0A%20%20%20%20%20%20%20%20%20%20%20%20%29%3B%0A%20%20%20%20%20%20%20%20%20%20%20%20marker_c5a9c270b75f411f8b6845316bb3e40d.setIcon%28icon_9e2d930f7d484a04bf711555f8f89d24%29%3B%0A%20%20%20%20%20%20%20%20%0A%20%20%20%20%0A%20%20%20%20%20%20%20%20var%20popup_22ac3fe2bae44282937032d404e4f48f%20%3D%20L.popup%28%7B%22maxWidth%22%3A%20%22100%25%22%7D%29%3B%0A%0A%20%20%20%20%20%20%20%20%0A%20%20%20%20%20%20%20%20%20%20%20%20var%20html_92e62753379240e4880fd81c0315ed1a%20%3D%20%24%28%60%3Cdiv%20id%3D%22html_92e62753379240e4880fd81c0315ed1a%22%20style%3D%22width%3A%20100.0%25%3B%20height%3A%20100.0%25%3B%22%3EA%20empresa%20MARTINA%20ENGENHARIA%20EPP%20%28CNPJ%2069669464000188%29%2C%20relacionada%20ao%20PEP%20UNAIDE%20ALBERTO%20CALIANDRA%2C%20recebeu%20R%24%20423179.55%3C/div%3E%60%29%5B0%5D%3B%0A%20%20%20%20%20%20%20%20%20%20%20%20popup_22ac3fe2bae44282937032d404e4f48f.setContent%28html_92e62753379240e4880fd81c0315ed1a%29%3B%0A%20%20%20%20%20%20%20%20%0A%0A%20%20%20%20%20%20%20%20marker_c5a9c270b75f411f8b6845316bb3e40d.bindPopup%28popup_22ac3fe2bae44282937032d404e4f48f%29%0A%20%20%20%20%20%20%20%20%3B%0A%0A%20%20%20%20%20%20%20%20%0A%20%20%20%20%0A%20%20%20%20%0A%20%20%20%20%20%20%20%20%20%20%20%20marker_c5a9c270b75f411f8b6845316bb3e40d.bindTooltip%28%0A%20%20%20%20%20%20%20%20%20%20%20%20%20%20%20%20%60%3Cdiv%3E%0A%20%20%20%20%20%20%20%20%20%20%20%20%20%20%20%20%20%20%20%20%20A%20empresa%20MARTINA%20ENGENHARIA%20EPP%20%28CNPJ%2069669464000188%29%2C%20relacionada%20ao%20PEP%20UNAIDE%20ALBERTO%20CALIANDRA%2C%20recebeu%20R%24%20423179.55%0A%20%20%20%20%20%20%20%20%20%20%20%20%20%20%20%20%20%3C/div%3E%60%2C%0A%20%20%20%20%20%20%20%20%20%20%20%20%20%20%20%20%7B%22sticky%22%3A%20true%7D%0A%20%20%20%20%20%20%20%20%20%20%20%20%29%3B%0A%20%20%20%20%20%20%20%20%0A%20%20%20%20%0A%20%20%20%20%20%20%20%20%20%20%20%20var%20marker_2894c6ad8cf44c5eb4edfb1739755a3a%20%3D%20L.marker%28%0A%20%20%20%20%20%20%20%20%20%20%20%20%20%20%20%20%5B-20.933%2C%20-50.108%5D%2C%0A%20%20%20%20%20%20%20%20%20%20%20%20%20%20%20%20%7B%7D%0A%20%20%20%20%20%20%20%20%20%20%20%20%29.addTo%28map_9816868a223e4fedaefc8dac49e0faf5%29%3B%0A%20%20%20%20%20%20%20%20%0A%20%20%20%20%0A%20%20%20%20%20%20%20%20%20%20%20%20var%20icon_40548df14bc5428dac60474c107003a2%20%3D%20L.AwesomeMarkers.icon%28%0A%20%20%20%20%20%20%20%20%20%20%20%20%20%20%20%20%7B%22extraClasses%22%3A%20%22fa-rotate-0%22%2C%20%22icon%22%3A%20%22info-sign%22%2C%20%22iconColor%22%3A%20%22white%22%2C%20%22markerColor%22%3A%20%22red%22%2C%20%22prefix%22%3A%20%22glyphicon%22%7D%0A%20%20%20%20%20%20%20%20%20%20%20%20%29%3B%0A%20%20%20%20%20%20%20%20%20%20%20%20marker_2894c6ad8cf44c5eb4edfb1739755a3a.setIcon%28icon_40548df14bc5428dac60474c107003a2%29%3B%0A%20%20%20%20%20%20%20%20%0A%20%20%20%20%0A%20%20%20%20%20%20%20%20var%20popup_514148a0e03246638e5111bedb0187c3%20%3D%20L.popup%28%7B%22maxWidth%22%3A%20%22100%25%22%7D%29%3B%0A%0A%20%20%20%20%20%20%20%20%0A%20%20%20%20%20%20%20%20%20%20%20%20var%20html_cc1c217b461b492b997f3085306792cb%20%3D%20%24%28%60%3Cdiv%20id%3D%22html_cc1c217b461b492b997f3085306792cb%22%20style%3D%22width%3A%20100.0%25%3B%20height%3A%20100.0%25%3B%22%3EA%20empresa%20MOMOKA%20ARTISTICAS%20LTDA%20%28CNPJ%2006273922000124%29%2C%20relacionada%20ao%20PEP%20GEOVANISA%20TERSINHA%20BERTASSONI%2C%20recebeu%20R%24%20421712.59%3C/div%3E%60%29%5B0%5D%3B%0A%20%20%20%20%20%20%20%20%20%20%20%20popup_514148a0e03246638e5111bedb0187c3.setContent%28html_cc1c217b461b492b997f3085306792cb%29%3B%0A%20%20%20%20%20%20%20%20%0A%0A%20%20%20%20%20%20%20%20marker_2894c6ad8cf44c5eb4edfb1739755a3a.bindPopup%28popup_514148a0e03246638e5111bedb0187c3%29%0A%20%20%20%20%20%20%20%20%3B%0A%0A%20%20%20%20%20%20%20%20%0A%20%20%20%20%0A%20%20%20%20%0A%20%20%20%20%20%20%20%20%20%20%20%20marker_2894c6ad8cf44c5eb4edfb1739755a3a.bindTooltip%28%0A%20%20%20%20%20%20%20%20%20%20%20%20%20%20%20%20%60%3Cdiv%3E%0A%20%20%20%20%20%20%20%20%20%20%20%20%20%20%20%20%20%20%20%20%20A%20empresa%20MOMOKA%20ARTISTICAS%20LTDA%20%28CNPJ%2006273922000124%29%2C%20relacionada%20ao%20PEP%20GEOVANISA%20TERSINHA%20BERTASSONI%2C%20recebeu%20R%24%20421712.59%0A%20%20%20%20%20%20%20%20%20%20%20%20%20%20%20%20%20%3C/div%3E%60%2C%0A%20%20%20%20%20%20%20%20%20%20%20%20%20%20%20%20%7B%22sticky%22%3A%20true%7D%0A%20%20%20%20%20%20%20%20%20%20%20%20%29%3B%0A%20%20%20%20%20%20%20%20%0A%20%20%20%20%0A%20%20%20%20%20%20%20%20%20%20%20%20var%20marker_7bbf60301b5142bd8eefb291e5663b79%20%3D%20L.marker%28%0A%20%20%20%20%20%20%20%20%20%20%20%20%20%20%20%20%5B-22.706%2C%20-46.986%5D%2C%0A%20%20%20%20%20%20%20%20%20%20%20%20%20%20%20%20%7B%7D%0A%20%20%20%20%20%20%20%20%20%20%20%20%29.addTo%28map_9816868a223e4fedaefc8dac49e0faf5%29%3B%0A%20%20%20%20%20%20%20%20%0A%20%20%20%20%0A%20%20%20%20%20%20%20%20%20%20%20%20var%20icon_5a9ab525e8b0419985fcce441f7d65a5%20%3D%20L.AwesomeMarkers.icon%28%0A%20%20%20%20%20%20%20%20%20%20%20%20%20%20%20%20%7B%22extraClasses%22%3A%20%22fa-rotate-0%22%2C%20%22icon%22%3A%20%22info-sign%22%2C%20%22iconColor%22%3A%20%22white%22%2C%20%22markerColor%22%3A%20%22red%22%2C%20%22prefix%22%3A%20%22glyphicon%22%7D%0A%20%20%20%20%20%20%20%20%20%20%20%20%29%3B%0A%20%20%20%20%20%20%20%20%20%20%20%20marker_7bbf60301b5142bd8eefb291e5663b79.setIcon%28icon_5a9ab525e8b0419985fcce441f7d65a5%29%3B%0A%20%20%20%20%20%20%20%20%0A%20%20%20%20%0A%20%20%20%20%20%20%20%20var%20popup_8454ca6213ce4677a874eafc60828223%20%3D%20L.popup%28%7B%22maxWidth%22%3A%20%22100%25%22%7D%29%3B%0A%0A%20%20%20%20%20%20%20%20%0A%20%20%20%20%20%20%20%20%20%20%20%20var%20html_c3ed4aaa40574cde905e8121e3641212%20%3D%20%24%28%60%3Cdiv%20id%3D%22html_c3ed4aaa40574cde905e8121e3641212%22%20style%3D%22width%3A%20100.0%25%3B%20height%3A%20100.0%25%3B%22%3EA%20empresa%20JOSHUA%20SEGUROS%20%28CNPJ%2006380418000123%29%2C%20relacionada%20ao%20PEP%20UNAIDE%20ALBERTO%20CALIANDRA%2C%20recebeu%20R%24%20418912.16%3C/div%3E%60%29%5B0%5D%3B%0A%20%20%20%20%20%20%20%20%20%20%20%20popup_8454ca6213ce4677a874eafc60828223.setContent%28html_c3ed4aaa40574cde905e8121e3641212%29%3B%0A%20%20%20%20%20%20%20%20%0A%0A%20%20%20%20%20%20%20%20marker_7bbf60301b5142bd8eefb291e5663b79.bindPopup%28popup_8454ca6213ce4677a874eafc60828223%29%0A%20%20%20%20%20%20%20%20%3B%0A%0A%20%20%20%20%20%20%20%20%0A%20%20%20%20%0A%20%20%20%20%0A%20%20%20%20%20%20%20%20%20%20%20%20marker_7bbf60301b5142bd8eefb291e5663b79.bindTooltip%28%0A%20%20%20%20%20%20%20%20%20%20%20%20%20%20%20%20%60%3Cdiv%3E%0A%20%20%20%20%20%20%20%20%20%20%20%20%20%20%20%20%20%20%20%20%20A%20empresa%20JOSHUA%20SEGUROS%20%28CNPJ%2006380418000123%29%2C%20relacionada%20ao%20PEP%20UNAIDE%20ALBERTO%20CALIANDRA%2C%20recebeu%20R%24%20418912.16%0A%20%20%20%20%20%20%20%20%20%20%20%20%20%20%20%20%20%3C/div%3E%60%2C%0A%20%20%20%20%20%20%20%20%20%20%20%20%20%20%20%20%7B%22sticky%22%3A%20true%7D%0A%20%20%20%20%20%20%20%20%20%20%20%20%29%3B%0A%20%20%20%20%20%20%20%20%0A%20%20%20%20%0A%20%20%20%20%20%20%20%20%20%20%20%20var%20marker_aa635fc3c4b5474abaeecf88e3eccb95%20%3D%20L.marker%28%0A%20%20%20%20%20%20%20%20%20%20%20%20%20%20%20%20%5B-24.289%2C%20-47.174%5D%2C%0A%20%20%20%20%20%20%20%20%20%20%20%20%20%20%20%20%7B%7D%0A%20%20%20%20%20%20%20%20%20%20%20%20%29.addTo%28map_9816868a223e4fedaefc8dac49e0faf5%29%3B%0A%20%20%20%20%20%20%20%20%0A%20%20%20%20%0A%20%20%20%20%20%20%20%20%20%20%20%20var%20icon_e4f428765987422bbe28cfffeffe7fda%20%3D%20L.AwesomeMarkers.icon%28%0A%20%20%20%20%20%20%20%20%20%20%20%20%20%20%20%20%7B%22extraClasses%22%3A%20%22fa-rotate-0%22%2C%20%22icon%22%3A%20%22info-sign%22%2C%20%22iconColor%22%3A%20%22white%22%2C%20%22markerColor%22%3A%20%22red%22%2C%20%22prefix%22%3A%20%22glyphicon%22%7D%0A%20%20%20%20%20%20%20%20%20%20%20%20%29%3B%0A%20%20%20%20%20%20%20%20%20%20%20%20marker_aa635fc3c4b5474abaeecf88e3eccb95.setIcon%28icon_e4f428765987422bbe28cfffeffe7fda%29%3B%0A%20%20%20%20%20%20%20%20%0A%20%20%20%20%0A%20%20%20%20%20%20%20%20var%20popup_11d5d583677f45a8beecddd41d3fb637%20%3D%20L.popup%28%7B%22maxWidth%22%3A%20%22100%25%22%7D%29%3B%0A%0A%20%20%20%20%20%20%20%20%0A%20%20%20%20%20%20%20%20%20%20%20%20var%20html_41ab397f61464d739f2d30af6e1d54ae%20%3D%20%24%28%60%3Cdiv%20id%3D%22html_41ab397f61464d739f2d30af6e1d54ae%22%20style%3D%22width%3A%20100.0%25%3B%20height%3A%20100.0%25%3B%22%3EA%20empresa%20AMINE%20LIMPEZA%20EPP%20%28CNPJ%2007815964000138%29%2C%20relacionada%20ao%20PEP%20FABIO%20MUSSY%20DE%20BOYDE%2C%20recebeu%20R%24%20425778.13%3C/div%3E%60%29%5B0%5D%3B%0A%20%20%20%20%20%20%20%20%20%20%20%20popup_11d5d583677f45a8beecddd41d3fb637.setContent%28html_41ab397f61464d739f2d30af6e1d54ae%29%3B%0A%20%20%20%20%20%20%20%20%0A%0A%20%20%20%20%20%20%20%20marker_aa635fc3c4b5474abaeecf88e3eccb95.bindPopup%28popup_11d5d583677f45a8beecddd41d3fb637%29%0A%20%20%20%20%20%20%20%20%3B%0A%0A%20%20%20%20%20%20%20%20%0A%20%20%20%20%0A%20%20%20%20%0A%20%20%20%20%20%20%20%20%20%20%20%20marker_aa635fc3c4b5474abaeecf88e3eccb95.bindTooltip%28%0A%20%20%20%20%20%20%20%20%20%20%20%20%20%20%20%20%60%3Cdiv%3E%0A%20%20%20%20%20%20%20%20%20%20%20%20%20%20%20%20%20%20%20%20%20A%20empresa%20AMINE%20LIMPEZA%20EPP%20%28CNPJ%2007815964000138%29%2C%20relacionada%20ao%20PEP%20FABIO%20MUSSY%20DE%20BOYDE%2C%20recebeu%20R%24%20425778.13%0A%20%20%20%20%20%20%20%20%20%20%20%20%20%20%20%20%20%3C/div%3E%60%2C%0A%20%20%20%20%20%20%20%20%20%20%20%20%20%20%20%20%7B%22sticky%22%3A%20true%7D%0A%20%20%20%20%20%20%20%20%20%20%20%20%29%3B%0A%20%20%20%20%20%20%20%20%0A%20%20%20%20%0A%20%20%20%20%20%20%20%20%20%20%20%20var%20marker_b4ea82c864684808925a1e8ccc3db3c5%20%3D%20L.marker%28%0A%20%20%20%20%20%20%20%20%20%20%20%20%20%20%20%20%5B-22.429%2C%20-50.201%5D%2C%0A%20%20%20%20%20%20%20%20%20%20%20%20%20%20%20%20%7B%7D%0A%20%20%20%20%20%20%20%20%20%20%20%20%29.addTo%28map_9816868a223e4fedaefc8dac49e0faf5%29%3B%0A%20%20%20%20%20%20%20%20%0A%20%20%20%20%0A%20%20%20%20%20%20%20%20%20%20%20%20var%20icon_f6dd696b48ec426cb55ff7061e89c135%20%3D%20L.AwesomeMarkers.icon%28%0A%20%20%20%20%20%20%20%20%20%20%20%20%20%20%20%20%7B%22extraClasses%22%3A%20%22fa-rotate-0%22%2C%20%22icon%22%3A%20%22info-sign%22%2C%20%22iconColor%22%3A%20%22white%22%2C%20%22markerColor%22%3A%20%22red%22%2C%20%22prefix%22%3A%20%22glyphicon%22%7D%0A%20%20%20%20%20%20%20%20%20%20%20%20%29%3B%0A%20%20%20%20%20%20%20%20%20%20%20%20marker_b4ea82c864684808925a1e8ccc3db3c5.setIcon%28icon_f6dd696b48ec426cb55ff7061e89c135%29%3B%0A%20%20%20%20%20%20%20%20%0A%20%20%20%20%0A%20%20%20%20%20%20%20%20var%20popup_a73c664096ca44eaac9156c097e5fad2%20%3D%20L.popup%28%7B%22maxWidth%22%3A%20%22100%25%22%7D%29%3B%0A%0A%20%20%20%20%20%20%20%20%0A%20%20%20%20%20%20%20%20%20%20%20%20var%20html_9e9d33e20ee246d9bde57c9460f778de%20%3D%20%24%28%60%3Cdiv%20id%3D%22html_9e9d33e20ee246d9bde57c9460f778de%22%20style%3D%22width%3A%20100.0%25%3B%20height%3A%20100.0%25%3B%22%3EA%20empresa%20MARIA%20CECILIA%20MERCEARIA%20EIRELLI%20%28CNPJ%2008111025000132%29%2C%20relacionada%20ao%20PEP%20DIRLEI%20GOSSER%20LOIVAL%2C%20recebeu%20R%24%20348972.38%3C/div%3E%60%29%5B0%5D%3B%0A%20%20%20%20%20%20%20%20%20%20%20%20popup_a73c664096ca44eaac9156c097e5fad2.setContent%28html_9e9d33e20ee246d9bde57c9460f778de%29%3B%0A%20%20%20%20%20%20%20%20%0A%0A%20%20%20%20%20%20%20%20marker_b4ea82c864684808925a1e8ccc3db3c5.bindPopup%28popup_a73c664096ca44eaac9156c097e5fad2%29%0A%20%20%20%20%20%20%20%20%3B%0A%0A%20%20%20%20%20%20%20%20%0A%20%20%20%20%0A%20%20%20%20%0A%20%20%20%20%20%20%20%20%20%20%20%20marker_b4ea82c864684808925a1e8ccc3db3c5.bindTooltip%28%0A%20%20%20%20%20%20%20%20%20%20%20%20%20%20%20%20%60%3Cdiv%3E%0A%20%20%20%20%20%20%20%20%20%20%20%20%20%20%20%20%20%20%20%20%20A%20empresa%20MARIA%20CECILIA%20MERCEARIA%20EIRELLI%20%28CNPJ%2008111025000132%29%2C%20relacionada%20ao%20PEP%20DIRLEI%20GOSSER%20LOIVAL%2C%20recebeu%20R%24%20348972.38%0A%20%20%20%20%20%20%20%20%20%20%20%20%20%20%20%20%20%3C/div%3E%60%2C%0A%20%20%20%20%20%20%20%20%20%20%20%20%20%20%20%20%7B%22sticky%22%3A%20true%7D%0A%20%20%20%20%20%20%20%20%20%20%20%20%29%3B%0A%20%20%20%20%20%20%20%20%0A%20%20%20%20%0A%20%20%20%20%20%20%20%20%20%20%20%20var%20marker_db3c8f5d04e1479997ac435628bda970%20%3D%20L.marker%28%0A%20%20%20%20%20%20%20%20%20%20%20%20%20%20%20%20%5B-20.359%2C%20-50.697%5D%2C%0A%20%20%20%20%20%20%20%20%20%20%20%20%20%20%20%20%7B%7D%0A%20%20%20%20%20%20%20%20%20%20%20%20%29.addTo%28map_9816868a223e4fedaefc8dac49e0faf5%29%3B%0A%20%20%20%20%20%20%20%20%0A%20%20%20%20%0A%20%20%20%20%20%20%20%20%20%20%20%20var%20icon_ecac81e13b044383882c12fe31aaf85f%20%3D%20L.AwesomeMarkers.icon%28%0A%20%20%20%20%20%20%20%20%20%20%20%20%20%20%20%20%7B%22extraClasses%22%3A%20%22fa-rotate-0%22%2C%20%22icon%22%3A%20%22info-sign%22%2C%20%22iconColor%22%3A%20%22white%22%2C%20%22markerColor%22%3A%20%22red%22%2C%20%22prefix%22%3A%20%22glyphicon%22%7D%0A%20%20%20%20%20%20%20%20%20%20%20%20%29%3B%0A%20%20%20%20%20%20%20%20%20%20%20%20marker_db3c8f5d04e1479997ac435628bda970.setIcon%28icon_ecac81e13b044383882c12fe31aaf85f%29%3B%0A%20%20%20%20%20%20%20%20%0A%20%20%20%20%0A%20%20%20%20%20%20%20%20var%20popup_80d68e76fd5a4eada6f5f32a78b42486%20%3D%20L.popup%28%7B%22maxWidth%22%3A%20%22100%25%22%7D%29%3B%0A%0A%20%20%20%20%20%20%20%20%0A%20%20%20%20%20%20%20%20%20%20%20%20var%20html_8392865ff3d2492ca538f4e8f9c72766%20%3D%20%24%28%60%3Cdiv%20id%3D%22html_8392865ff3d2492ca538f4e8f9c72766%22%20style%3D%22width%3A%20100.0%25%3B%20height%3A%20100.0%25%3B%22%3EA%20empresa%20IBAI%20VESTUARIO%20%28CNPJ%2049524688000199%29%2C%20relacionada%20ao%20PEP%20JAIME%20BONAVOGLIA%20DA%20TEVEIRA%2C%20recebeu%20R%24%20339078.9%3C/div%3E%60%29%5B0%5D%3B%0A%20%20%20%20%20%20%20%20%20%20%20%20popup_80d68e76fd5a4eada6f5f32a78b42486.setContent%28html_8392865ff3d2492ca538f4e8f9c72766%29%3B%0A%20%20%20%20%20%20%20%20%0A%0A%20%20%20%20%20%20%20%20marker_db3c8f5d04e1479997ac435628bda970.bindPopup%28popup_80d68e76fd5a4eada6f5f32a78b42486%29%0A%20%20%20%20%20%20%20%20%3B%0A%0A%20%20%20%20%20%20%20%20%0A%20%20%20%20%0A%20%20%20%20%0A%20%20%20%20%20%20%20%20%20%20%20%20marker_db3c8f5d04e1479997ac435628bda970.bindTooltip%28%0A%20%20%20%20%20%20%20%20%20%20%20%20%20%20%20%20%60%3Cdiv%3E%0A%20%20%20%20%20%20%20%20%20%20%20%20%20%20%20%20%20%20%20%20%20A%20empresa%20IBAI%20VESTUARIO%20%28CNPJ%2049524688000199%29%2C%20relacionada%20ao%20PEP%20JAIME%20BONAVOGLIA%20DA%20TEVEIRA%2C%20recebeu%20R%24%20339078.9%0A%20%20%20%20%20%20%20%20%20%20%20%20%20%20%20%20%20%3C/div%3E%60%2C%0A%20%20%20%20%20%20%20%20%20%20%20%20%20%20%20%20%7B%22sticky%22%3A%20true%7D%0A%20%20%20%20%20%20%20%20%20%20%20%20%29%3B%0A%20%20%20%20%20%20%20%20%0A%20%20%20%20%0A%20%20%20%20%20%20%20%20%20%20%20%20var%20marker_fffe7de071914ea2b4018ff07634c8ca%20%3D%20L.marker%28%0A%20%20%20%20%20%20%20%20%20%20%20%20%20%20%20%20%5B-20.359%2C%20-50.697%5D%2C%0A%20%20%20%20%20%20%20%20%20%20%20%20%20%20%20%20%7B%7D%0A%20%20%20%20%20%20%20%20%20%20%20%20%29.addTo%28map_9816868a223e4fedaefc8dac49e0faf5%29%3B%0A%20%20%20%20%20%20%20%20%0A%20%20%20%20%0A%20%20%20%20%20%20%20%20%20%20%20%20var%20icon_a6dabc49c2494002b1da927407544c38%20%3D%20L.AwesomeMarkers.icon%28%0A%20%20%20%20%20%20%20%20%20%20%20%20%20%20%20%20%7B%22extraClasses%22%3A%20%22fa-rotate-0%22%2C%20%22icon%22%3A%20%22info-sign%22%2C%20%22iconColor%22%3A%20%22white%22%2C%20%22markerColor%22%3A%20%22red%22%2C%20%22prefix%22%3A%20%22glyphicon%22%7D%0A%20%20%20%20%20%20%20%20%20%20%20%20%29%3B%0A%20%20%20%20%20%20%20%20%20%20%20%20marker_fffe7de071914ea2b4018ff07634c8ca.setIcon%28icon_a6dabc49c2494002b1da927407544c38%29%3B%0A%20%20%20%20%20%20%20%20%0A%20%20%20%20%0A%20%20%20%20%20%20%20%20var%20popup_9c94dc35f1f240279dc89cf0e30f2300%20%3D%20L.popup%28%7B%22maxWidth%22%3A%20%22100%25%22%7D%29%3B%0A%0A%20%20%20%20%20%20%20%20%0A%20%20%20%20%20%20%20%20%20%20%20%20var%20html_71c9862e51404f08980bb3a2a72f5ded%20%3D%20%24%28%60%3Cdiv%20id%3D%22html_71c9862e51404f08980bb3a2a72f5ded%22%20style%3D%22width%3A%20100.0%25%3B%20height%3A%20100.0%25%3B%22%3EA%20empresa%20IBAI%20VESTUARIO%20%28CNPJ%2049524688000199%29%2C%20relacionada%20ao%20PEP%20LUZENICE%20LANUZIA%20DE%20PALKOSKI%2C%20recebeu%20R%24%20339078.9%3C/div%3E%60%29%5B0%5D%3B%0A%20%20%20%20%20%20%20%20%20%20%20%20popup_9c94dc35f1f240279dc89cf0e30f2300.setContent%28html_71c9862e51404f08980bb3a2a72f5ded%29%3B%0A%20%20%20%20%20%20%20%20%0A%0A%20%20%20%20%20%20%20%20marker_fffe7de071914ea2b4018ff07634c8ca.bindPopup%28popup_9c94dc35f1f240279dc89cf0e30f2300%29%0A%20%20%20%20%20%20%20%20%3B%0A%0A%20%20%20%20%20%20%20%20%0A%20%20%20%20%0A%20%20%20%20%0A%20%20%20%20%20%20%20%20%20%20%20%20marker_fffe7de071914ea2b4018ff07634c8ca.bindTooltip%28%0A%20%20%20%20%20%20%20%20%20%20%20%20%20%20%20%20%60%3Cdiv%3E%0A%20%20%20%20%20%20%20%20%20%20%20%20%20%20%20%20%20%20%20%20%20A%20empresa%20IBAI%20VESTUARIO%20%28CNPJ%2049524688000199%29%2C%20relacionada%20ao%20PEP%20LUZENICE%20LANUZIA%20DE%20PALKOSKI%2C%20recebeu%20R%24%20339078.9%0A%20%20%20%20%20%20%20%20%20%20%20%20%20%20%20%20%20%3C/div%3E%60%2C%0A%20%20%20%20%20%20%20%20%20%20%20%20%20%20%20%20%7B%22sticky%22%3A%20true%7D%0A%20%20%20%20%20%20%20%20%20%20%20%20%29%3B%0A%20%20%20%20%20%20%20%20%0A%20%20%20%20%0A%20%20%20%20%20%20%20%20%20%20%20%20var%20marker_35939d78aad6419497f3e059721e4b23%20%3D%20L.marker%28%0A%20%20%20%20%20%20%20%20%20%20%20%20%20%20%20%20%5B-20.359%2C%20-50.697%5D%2C%0A%20%20%20%20%20%20%20%20%20%20%20%20%20%20%20%20%7B%7D%0A%20%20%20%20%20%20%20%20%20%20%20%20%29.addTo%28map_9816868a223e4fedaefc8dac49e0faf5%29%3B%0A%20%20%20%20%20%20%20%20%0A%20%20%20%20%0A%20%20%20%20%20%20%20%20%20%20%20%20var%20icon_ffcfeea5cebc4c5abb35620320ac133c%20%3D%20L.AwesomeMarkers.icon%28%0A%20%20%20%20%20%20%20%20%20%20%20%20%20%20%20%20%7B%22extraClasses%22%3A%20%22fa-rotate-0%22%2C%20%22icon%22%3A%20%22info-sign%22%2C%20%22iconColor%22%3A%20%22white%22%2C%20%22markerColor%22%3A%20%22red%22%2C%20%22prefix%22%3A%20%22glyphicon%22%7D%0A%20%20%20%20%20%20%20%20%20%20%20%20%29%3B%0A%20%20%20%20%20%20%20%20%20%20%20%20marker_35939d78aad6419497f3e059721e4b23.setIcon%28icon_ffcfeea5cebc4c5abb35620320ac133c%29%3B%0A%20%20%20%20%20%20%20%20%0A%20%20%20%20%0A%20%20%20%20%20%20%20%20var%20popup_24a93cb36ca54359892e07136ef87b1f%20%3D%20L.popup%28%7B%22maxWidth%22%3A%20%22100%25%22%7D%29%3B%0A%0A%20%20%20%20%20%20%20%20%0A%20%20%20%20%20%20%20%20%20%20%20%20var%20html_5fb302df9325416eb87dc0d9795c6311%20%3D%20%24%28%60%3Cdiv%20id%3D%22html_5fb302df9325416eb87dc0d9795c6311%22%20style%3D%22width%3A%20100.0%25%3B%20height%3A%20100.0%25%3B%22%3EA%20empresa%20IBAI%20VESTUARIO%20%28CNPJ%2049524688000199%29%2C%20relacionada%20ao%20PEP%20SAVIOLO%20LUYTEN%20SMERIERI%2C%20recebeu%20R%24%20339078.9%3C/div%3E%60%29%5B0%5D%3B%0A%20%20%20%20%20%20%20%20%20%20%20%20popup_24a93cb36ca54359892e07136ef87b1f.setContent%28html_5fb302df9325416eb87dc0d9795c6311%29%3B%0A%20%20%20%20%20%20%20%20%0A%0A%20%20%20%20%20%20%20%20marker_35939d78aad6419497f3e059721e4b23.bindPopup%28popup_24a93cb36ca54359892e07136ef87b1f%29%0A%20%20%20%20%20%20%20%20%3B%0A%0A%20%20%20%20%20%20%20%20%0A%20%20%20%20%0A%20%20%20%20%0A%20%20%20%20%20%20%20%20%20%20%20%20marker_35939d78aad6419497f3e059721e4b23.bindTooltip%28%0A%20%20%20%20%20%20%20%20%20%20%20%20%20%20%20%20%60%3Cdiv%3E%0A%20%20%20%20%20%20%20%20%20%20%20%20%20%20%20%20%20%20%20%20%20A%20empresa%20IBAI%20VESTUARIO%20%28CNPJ%2049524688000199%29%2C%20relacionada%20ao%20PEP%20SAVIOLO%20LUYTEN%20SMERIERI%2C%20recebeu%20R%24%20339078.9%0A%20%20%20%20%20%20%20%20%20%20%20%20%20%20%20%20%20%3C/div%3E%60%2C%0A%20%20%20%20%20%20%20%20%20%20%20%20%20%20%20%20%7B%22sticky%22%3A%20true%7D%0A%20%20%20%20%20%20%20%20%20%20%20%20%29%3B%0A%20%20%20%20%20%20%20%20%0A%20%20%20%20%0A%20%20%20%20%20%20%20%20%20%20%20%20var%20marker_4aa961a2e512478d99a7d04ae959a1c7%20%3D%20L.marker%28%0A%20%20%20%20%20%20%20%20%20%20%20%20%20%20%20%20%5B-24.006%2C%20-46.403%5D%2C%0A%20%20%20%20%20%20%20%20%20%20%20%20%20%20%20%20%7B%7D%0A%20%20%20%20%20%20%20%20%20%20%20%20%29.addTo%28map_9816868a223e4fedaefc8dac49e0faf5%29%3B%0A%20%20%20%20%20%20%20%20%0A%20%20%20%20%0A%20%20%20%20%20%20%20%20%20%20%20%20var%20icon_b509c31843264ff4989b5ffba7495c9e%20%3D%20L.AwesomeMarkers.icon%28%0A%20%20%20%20%20%20%20%20%20%20%20%20%20%20%20%20%7B%22extraClasses%22%3A%20%22fa-rotate-0%22%2C%20%22icon%22%3A%20%22info-sign%22%2C%20%22iconColor%22%3A%20%22white%22%2C%20%22markerColor%22%3A%20%22red%22%2C%20%22prefix%22%3A%20%22glyphicon%22%7D%0A%20%20%20%20%20%20%20%20%20%20%20%20%29%3B%0A%20%20%20%20%20%20%20%20%20%20%20%20marker_4aa961a2e512478d99a7d04ae959a1c7.setIcon%28icon_b509c31843264ff4989b5ffba7495c9e%29%3B%0A%20%20%20%20%20%20%20%20%0A%20%20%20%20%0A%20%20%20%20%20%20%20%20var%20popup_4d584cd6cf7241ea9ea3e820ad721291%20%3D%20L.popup%28%7B%22maxWidth%22%3A%20%22100%25%22%7D%29%3B%0A%0A%20%20%20%20%20%20%20%20%0A%20%20%20%20%20%20%20%20%20%20%20%20var%20html_e6a782cd56b140f895656ddaede73911%20%3D%20%24%28%60%3Cdiv%20id%3D%22html_e6a782cd56b140f895656ddaede73911%22%20style%3D%22width%3A%20100.0%25%3B%20height%3A%20100.0%25%3B%22%3EA%20empresa%20VICENTE%20MODAS%20%28CNPJ%2012480500000115%29%2C%20relacionada%20ao%20PEP%20JOAO%20YPEI%20DE%20KAARA%2C%20recebeu%20R%24%20306932.06%3C/div%3E%60%29%5B0%5D%3B%0A%20%20%20%20%20%20%20%20%20%20%20%20popup_4d584cd6cf7241ea9ea3e820ad721291.setContent%28html_e6a782cd56b140f895656ddaede73911%29%3B%0A%20%20%20%20%20%20%20%20%0A%0A%20%20%20%20%20%20%20%20marker_4aa961a2e512478d99a7d04ae959a1c7.bindPopup%28popup_4d584cd6cf7241ea9ea3e820ad721291%29%0A%20%20%20%20%20%20%20%20%3B%0A%0A%20%20%20%20%20%20%20%20%0A%20%20%20%20%0A%20%20%20%20%0A%20%20%20%20%20%20%20%20%20%20%20%20marker_4aa961a2e512478d99a7d04ae959a1c7.bindTooltip%28%0A%20%20%20%20%20%20%20%20%20%20%20%20%20%20%20%20%60%3Cdiv%3E%0A%20%20%20%20%20%20%20%20%20%20%20%20%20%20%20%20%20%20%20%20%20A%20empresa%20VICENTE%20MODAS%20%28CNPJ%2012480500000115%29%2C%20relacionada%20ao%20PEP%20JOAO%20YPEI%20DE%20KAARA%2C%20recebeu%20R%24%20306932.06%0A%20%20%20%20%20%20%20%20%20%20%20%20%20%20%20%20%20%3C/div%3E%60%2C%0A%20%20%20%20%20%20%20%20%20%20%20%20%20%20%20%20%7B%22sticky%22%3A%20true%7D%0A%20%20%20%20%20%20%20%20%20%20%20%20%29%3B%0A%20%20%20%20%20%20%20%20%0A%20%20%20%20%0A%20%20%20%20%20%20%20%20%20%20%20%20var%20marker_1375727e2c7b4711adf8385fc12aae98%20%3D%20L.marker%28%0A%20%20%20%20%20%20%20%20%20%20%20%20%20%20%20%20%5B-23.541%2C%20-46.369%5D%2C%0A%20%20%20%20%20%20%20%20%20%20%20%20%20%20%20%20%7B%7D%0A%20%20%20%20%20%20%20%20%20%20%20%20%29.addTo%28map_9816868a223e4fedaefc8dac49e0faf5%29%3B%0A%20%20%20%20%20%20%20%20%0A%20%20%20%20%0A%20%20%20%20%20%20%20%20%20%20%20%20var%20icon_3e6ecf188ad64945ac93b3a91b122637%20%3D%20L.AwesomeMarkers.icon%28%0A%20%20%20%20%20%20%20%20%20%20%20%20%20%20%20%20%7B%22extraClasses%22%3A%20%22fa-rotate-0%22%2C%20%22icon%22%3A%20%22info-sign%22%2C%20%22iconColor%22%3A%20%22white%22%2C%20%22markerColor%22%3A%20%22red%22%2C%20%22prefix%22%3A%20%22glyphicon%22%7D%0A%20%20%20%20%20%20%20%20%20%20%20%20%29%3B%0A%20%20%20%20%20%20%20%20%20%20%20%20marker_1375727e2c7b4711adf8385fc12aae98.setIcon%28icon_3e6ecf188ad64945ac93b3a91b122637%29%3B%0A%20%20%20%20%20%20%20%20%0A%20%20%20%20%0A%20%20%20%20%20%20%20%20var%20popup_df292c3ad6d5435aa3d40b68a7a15f1e%20%3D%20L.popup%28%7B%22maxWidth%22%3A%20%22100%25%22%7D%29%3B%0A%0A%20%20%20%20%20%20%20%20%0A%20%20%20%20%20%20%20%20%20%20%20%20var%20html_f5abd94656d1496c8daca35a90727018%20%3D%20%24%28%60%3Cdiv%20id%3D%22html_f5abd94656d1496c8daca35a90727018%22%20style%3D%22width%3A%20100.0%25%3B%20height%3A%20100.0%25%3B%22%3EA%20empresa%20ALEKSANDRA%20INDUSTRIAS%20%28CNPJ%2001379160000172%29%2C%20relacionada%20ao%20PEP%20SANDRA%20PLANCKE%20DALTOM%20DIFANTE%20ITUE%2C%20recebeu%20R%24%20285251.53%3C/div%3E%60%29%5B0%5D%3B%0A%20%20%20%20%20%20%20%20%20%20%20%20popup_df292c3ad6d5435aa3d40b68a7a15f1e.setContent%28html_f5abd94656d1496c8daca35a90727018%29%3B%0A%20%20%20%20%20%20%20%20%0A%0A%20%20%20%20%20%20%20%20marker_1375727e2c7b4711adf8385fc12aae98.bindPopup%28popup_df292c3ad6d5435aa3d40b68a7a15f1e%29%0A%20%20%20%20%20%20%20%20%3B%0A%0A%20%20%20%20%20%20%20%20%0A%20%20%20%20%0A%20%20%20%20%0A%20%20%20%20%20%20%20%20%20%20%20%20marker_1375727e2c7b4711adf8385fc12aae98.bindTooltip%28%0A%20%20%20%20%20%20%20%20%20%20%20%20%20%20%20%20%60%3Cdiv%3E%0A%20%20%20%20%20%20%20%20%20%20%20%20%20%20%20%20%20%20%20%20%20A%20empresa%20ALEKSANDRA%20INDUSTRIAS%20%28CNPJ%2001379160000172%29%2C%20relacionada%20ao%20PEP%20SANDRA%20PLANCKE%20DALTOM%20DIFANTE%20ITUE%2C%20recebeu%20R%24%20285251.53%0A%20%20%20%20%20%20%20%20%20%20%20%20%20%20%20%20%20%3C/div%3E%60%2C%0A%20%20%20%20%20%20%20%20%20%20%20%20%20%20%20%20%7B%22sticky%22%3A%20true%7D%0A%20%20%20%20%20%20%20%20%20%20%20%20%29%3B%0A%20%20%20%20%20%20%20%20%0A%20%20%20%20%0A%20%20%20%20%20%20%20%20%20%20%20%20var%20marker_9c5b0c2816de4f6aa5e87eeb522ca0b5%20%3D%20L.marker%28%0A%20%20%20%20%20%20%20%20%20%20%20%20%20%20%20%20%5B-23.541%2C%20-46.369%5D%2C%0A%20%20%20%20%20%20%20%20%20%20%20%20%20%20%20%20%7B%7D%0A%20%20%20%20%20%20%20%20%20%20%20%20%29.addTo%28map_9816868a223e4fedaefc8dac49e0faf5%29%3B%0A%20%20%20%20%20%20%20%20%0A%20%20%20%20%0A%20%20%20%20%20%20%20%20%20%20%20%20var%20icon_a5c1c6eed734496b91347b95174dd78b%20%3D%20L.AwesomeMarkers.icon%28%0A%20%20%20%20%20%20%20%20%20%20%20%20%20%20%20%20%7B%22extraClasses%22%3A%20%22fa-rotate-0%22%2C%20%22icon%22%3A%20%22info-sign%22%2C%20%22iconColor%22%3A%20%22white%22%2C%20%22markerColor%22%3A%20%22red%22%2C%20%22prefix%22%3A%20%22glyphicon%22%7D%0A%20%20%20%20%20%20%20%20%20%20%20%20%29%3B%0A%20%20%20%20%20%20%20%20%20%20%20%20marker_9c5b0c2816de4f6aa5e87eeb522ca0b5.setIcon%28icon_a5c1c6eed734496b91347b95174dd78b%29%3B%0A%20%20%20%20%20%20%20%20%0A%20%20%20%20%0A%20%20%20%20%20%20%20%20var%20popup_2931e1e496044c97b3be7ac40a74b515%20%3D%20L.popup%28%7B%22maxWidth%22%3A%20%22100%25%22%7D%29%3B%0A%0A%20%20%20%20%20%20%20%20%0A%20%20%20%20%20%20%20%20%20%20%20%20var%20html_f9dd139e47474b6b89c466c24952d0c4%20%3D%20%24%28%60%3Cdiv%20id%3D%22html_f9dd139e47474b6b89c466c24952d0c4%22%20style%3D%22width%3A%20100.0%25%3B%20height%3A%20100.0%25%3B%22%3EA%20empresa%20MARIUS%20CONTABIL%20EIRELLI%20%28CNPJ%2008262075000137%29%2C%20relacionada%20ao%20PEP%20GOSSON%20LEGNANNE%20GONDOREK%2C%20recebeu%20R%24%20142082.22%3C/div%3E%60%29%5B0%5D%3B%0A%20%20%20%20%20%20%20%20%20%20%20%20popup_2931e1e496044c97b3be7ac40a74b515.setContent%28html_f9dd139e47474b6b89c466c24952d0c4%29%3B%0A%20%20%20%20%20%20%20%20%0A%0A%20%20%20%20%20%20%20%20marker_9c5b0c2816de4f6aa5e87eeb522ca0b5.bindPopup%28popup_2931e1e496044c97b3be7ac40a74b515%29%0A%20%20%20%20%20%20%20%20%3B%0A%0A%20%20%20%20%20%20%20%20%0A%20%20%20%20%0A%20%20%20%20%0A%20%20%20%20%20%20%20%20%20%20%20%20marker_9c5b0c2816de4f6aa5e87eeb522ca0b5.bindTooltip%28%0A%20%20%20%20%20%20%20%20%20%20%20%20%20%20%20%20%60%3Cdiv%3E%0A%20%20%20%20%20%20%20%20%20%20%20%20%20%20%20%20%20%20%20%20%20A%20empresa%20MARIUS%20CONTABIL%20EIRELLI%20%28CNPJ%2008262075000137%29%2C%20relacionada%20ao%20PEP%20GOSSON%20LEGNANNE%20GONDOREK%2C%20recebeu%20R%24%20142082.22%0A%20%20%20%20%20%20%20%20%20%20%20%20%20%20%20%20%20%3C/div%3E%60%2C%0A%20%20%20%20%20%20%20%20%20%20%20%20%20%20%20%20%7B%22sticky%22%3A%20true%7D%0A%20%20%20%20%20%20%20%20%20%20%20%20%29%3B%0A%20%20%20%20%20%20%20%20%0A%20%20%20%20%0A%20%20%20%20%20%20%20%20%20%20%20%20var%20marker_d410c8dddf284926896cfd389f7dbfda%20%3D%20L.marker%28%0A%20%20%20%20%20%20%20%20%20%20%20%20%20%20%20%20%5B-23.264%2C%20-47.299%5D%2C%0A%20%20%20%20%20%20%20%20%20%20%20%20%20%20%20%20%7B%7D%0A%20%20%20%20%20%20%20%20%20%20%20%20%29.addTo%28map_9816868a223e4fedaefc8dac49e0faf5%29%3B%0A%20%20%20%20%20%20%20%20%0A%20%20%20%20%0A%20%20%20%20%20%20%20%20%20%20%20%20var%20icon_96f0b0bdf8244bcca6ed6ce075d5468c%20%3D%20L.AwesomeMarkers.icon%28%0A%20%20%20%20%20%20%20%20%20%20%20%20%20%20%20%20%7B%22extraClasses%22%3A%20%22fa-rotate-0%22%2C%20%22icon%22%3A%20%22info-sign%22%2C%20%22iconColor%22%3A%20%22white%22%2C%20%22markerColor%22%3A%20%22red%22%2C%20%22prefix%22%3A%20%22glyphicon%22%7D%0A%20%20%20%20%20%20%20%20%20%20%20%20%29%3B%0A%20%20%20%20%20%20%20%20%20%20%20%20marker_d410c8dddf284926896cfd389f7dbfda.setIcon%28icon_96f0b0bdf8244bcca6ed6ce075d5468c%29%3B%0A%20%20%20%20%20%20%20%20%0A%20%20%20%20%0A%20%20%20%20%20%20%20%20var%20popup_39e5053f18e1490483bf4a69c9418d37%20%3D%20L.popup%28%7B%22maxWidth%22%3A%20%22100%25%22%7D%29%3B%0A%0A%20%20%20%20%20%20%20%20%0A%20%20%20%20%20%20%20%20%20%20%20%20var%20html_6ac7503012764edca834b384f3b77f9e%20%3D%20%24%28%60%3Cdiv%20id%3D%22html_6ac7503012764edca834b384f3b77f9e%22%20style%3D%22width%3A%20100.0%25%3B%20height%3A%20100.0%25%3B%22%3EA%20empresa%20AMINE%20IMOBILIARIOS%20%28CNPJ%2055815300000213%29%2C%20relacionada%20ao%20PEP%20AMARILDO%20SABATE%20KAILER%2C%20recebeu%20R%24%20271389.01%3C/div%3E%60%29%5B0%5D%3B%0A%20%20%20%20%20%20%20%20%20%20%20%20popup_39e5053f18e1490483bf4a69c9418d37.setContent%28html_6ac7503012764edca834b384f3b77f9e%29%3B%0A%20%20%20%20%20%20%20%20%0A%0A%20%20%20%20%20%20%20%20marker_d410c8dddf284926896cfd389f7dbfda.bindPopup%28popup_39e5053f18e1490483bf4a69c9418d37%29%0A%20%20%20%20%20%20%20%20%3B%0A%0A%20%20%20%20%20%20%20%20%0A%20%20%20%20%0A%20%20%20%20%0A%20%20%20%20%20%20%20%20%20%20%20%20marker_d410c8dddf284926896cfd389f7dbfda.bindTooltip%28%0A%20%20%20%20%20%20%20%20%20%20%20%20%20%20%20%20%60%3Cdiv%3E%0A%20%20%20%20%20%20%20%20%20%20%20%20%20%20%20%20%20%20%20%20%20A%20empresa%20AMINE%20IMOBILIARIOS%20%28CNPJ%2055815300000213%29%2C%20relacionada%20ao%20PEP%20AMARILDO%20SABATE%20KAILER%2C%20recebeu%20R%24%20271389.01%0A%20%20%20%20%20%20%20%20%20%20%20%20%20%20%20%20%20%3C/div%3E%60%2C%0A%20%20%20%20%20%20%20%20%20%20%20%20%20%20%20%20%7B%22sticky%22%3A%20true%7D%0A%20%20%20%20%20%20%20%20%20%20%20%20%29%3B%0A%20%20%20%20%20%20%20%20%0A%20%20%20%20%0A%20%20%20%20%20%20%20%20%20%20%20%20var%20marker_cdd52bd4bd8f44a896a4e1e57b40b19f%20%3D%20L.marker%28%0A%20%20%20%20%20%20%20%20%20%20%20%20%20%20%20%20%5B-21.581%2C%20-50.164%5D%2C%0A%20%20%20%20%20%20%20%20%20%20%20%20%20%20%20%20%7B%7D%0A%20%20%20%20%20%20%20%20%20%20%20%20%29.addTo%28map_9816868a223e4fedaefc8dac49e0faf5%29%3B%0A%20%20%20%20%20%20%20%20%0A%20%20%20%20%0A%20%20%20%20%20%20%20%20%20%20%20%20var%20icon_4304ad4bfd6244c2b28d26974df9056f%20%3D%20L.AwesomeMarkers.icon%28%0A%20%20%20%20%20%20%20%20%20%20%20%20%20%20%20%20%7B%22extraClasses%22%3A%20%22fa-rotate-0%22%2C%20%22icon%22%3A%20%22info-sign%22%2C%20%22iconColor%22%3A%20%22white%22%2C%20%22markerColor%22%3A%20%22red%22%2C%20%22prefix%22%3A%20%22glyphicon%22%7D%0A%20%20%20%20%20%20%20%20%20%20%20%20%29%3B%0A%20%20%20%20%20%20%20%20%20%20%20%20marker_cdd52bd4bd8f44a896a4e1e57b40b19f.setIcon%28icon_4304ad4bfd6244c2b28d26974df9056f%29%3B%0A%20%20%20%20%20%20%20%20%0A%20%20%20%20%0A%20%20%20%20%20%20%20%20var%20popup_8809d29b8c5d4deaa8707c421dcaa917%20%3D%20L.popup%28%7B%22maxWidth%22%3A%20%22100%25%22%7D%29%3B%0A%0A%20%20%20%20%20%20%20%20%0A%20%20%20%20%20%20%20%20%20%20%20%20var%20html_c7dbdb69860c459cbecb35175a79f500%20%3D%20%24%28%60%3Cdiv%20id%3D%22html_c7dbdb69860c459cbecb35175a79f500%22%20style%3D%22width%3A%20100.0%25%3B%20height%3A%20100.0%25%3B%22%3EA%20empresa%20CLAIRE%20SUPERMERCADO%20%28CNPJ%2047817109002513%29%2C%20relacionada%20ao%20PEP%20UNAIDE%20ALBERTO%20DAMAR%2C%20recebeu%20R%24%20311980.65%3C/div%3E%60%29%5B0%5D%3B%0A%20%20%20%20%20%20%20%20%20%20%20%20popup_8809d29b8c5d4deaa8707c421dcaa917.setContent%28html_c7dbdb69860c459cbecb35175a79f500%29%3B%0A%20%20%20%20%20%20%20%20%0A%0A%20%20%20%20%20%20%20%20marker_cdd52bd4bd8f44a896a4e1e57b40b19f.bindPopup%28popup_8809d29b8c5d4deaa8707c421dcaa917%29%0A%20%20%20%20%20%20%20%20%3B%0A%0A%20%20%20%20%20%20%20%20%0A%20%20%20%20%0A%20%20%20%20%0A%20%20%20%20%20%20%20%20%20%20%20%20marker_cdd52bd4bd8f44a896a4e1e57b40b19f.bindTooltip%28%0A%20%20%20%20%20%20%20%20%20%20%20%20%20%20%20%20%60%3Cdiv%3E%0A%20%20%20%20%20%20%20%20%20%20%20%20%20%20%20%20%20%20%20%20%20A%20empresa%20CLAIRE%20SUPERMERCADO%20%28CNPJ%2047817109002513%29%2C%20relacionada%20ao%20PEP%20UNAIDE%20ALBERTO%20DAMAR%2C%20recebeu%20R%24%20311980.65%0A%20%20%20%20%20%20%20%20%20%20%20%20%20%20%20%20%20%3C/div%3E%60%2C%0A%20%20%20%20%20%20%20%20%20%20%20%20%20%20%20%20%7B%22sticky%22%3A%20true%7D%0A%20%20%20%20%20%20%20%20%20%20%20%20%29%3B%0A%20%20%20%20%20%20%20%20%0A%20%20%20%20%0A%20%20%20%20%20%20%20%20%20%20%20%20var%20marker_8be73750fcee4ecfb52ced9788eb249d%20%3D%20L.marker%28%0A%20%20%20%20%20%20%20%20%20%20%20%20%20%20%20%20%5B-23.244%2C%20-48.195%5D%2C%0A%20%20%20%20%20%20%20%20%20%20%20%20%20%20%20%20%7B%7D%0A%20%20%20%20%20%20%20%20%20%20%20%20%29.addTo%28map_9816868a223e4fedaefc8dac49e0faf5%29%3B%0A%20%20%20%20%20%20%20%20%0A%20%20%20%20%0A%20%20%20%20%20%20%20%20%20%20%20%20var%20icon_0a36fd5285b74cdd888620c82d884a21%20%3D%20L.AwesomeMarkers.icon%28%0A%20%20%20%20%20%20%20%20%20%20%20%20%20%20%20%20%7B%22extraClasses%22%3A%20%22fa-rotate-0%22%2C%20%22icon%22%3A%20%22info-sign%22%2C%20%22iconColor%22%3A%20%22white%22%2C%20%22markerColor%22%3A%20%22red%22%2C%20%22prefix%22%3A%20%22glyphicon%22%7D%0A%20%20%20%20%20%20%20%20%20%20%20%20%29%3B%0A%20%20%20%20%20%20%20%20%20%20%20%20marker_8be73750fcee4ecfb52ced9788eb249d.setIcon%28icon_0a36fd5285b74cdd888620c82d884a21%29%3B%0A%20%20%20%20%20%20%20%20%0A%20%20%20%20%0A%20%20%20%20%20%20%20%20var%20popup_0b7a05960ede41639ddafbe9820dccef%20%3D%20L.popup%28%7B%22maxWidth%22%3A%20%22100%25%22%7D%29%3B%0A%0A%20%20%20%20%20%20%20%20%0A%20%20%20%20%20%20%20%20%20%20%20%20var%20html_2b2dc085a5c1469cba48bfdb7a6bade6%20%3D%20%24%28%60%3Cdiv%20id%3D%22html_2b2dc085a5c1469cba48bfdb7a6bade6%22%20style%3D%22width%3A%20100.0%25%3B%20height%3A%20100.0%25%3B%22%3EA%20empresa%20IBAI%20VESTUARIO%20%28CNPJ%2049524688000199%29%2C%20relacionada%20ao%20PEP%20JAIME%20BONAVOGLIA%20DA%20TEVEIRA%2C%20recebeu%20R%24%20290768.45%3C/div%3E%60%29%5B0%5D%3B%0A%20%20%20%20%20%20%20%20%20%20%20%20popup_0b7a05960ede41639ddafbe9820dccef.setContent%28html_2b2dc085a5c1469cba48bfdb7a6bade6%29%3B%0A%20%20%20%20%20%20%20%20%0A%0A%20%20%20%20%20%20%20%20marker_8be73750fcee4ecfb52ced9788eb249d.bindPopup%28popup_0b7a05960ede41639ddafbe9820dccef%29%0A%20%20%20%20%20%20%20%20%3B%0A%0A%20%20%20%20%20%20%20%20%0A%20%20%20%20%0A%20%20%20%20%0A%20%20%20%20%20%20%20%20%20%20%20%20marker_8be73750fcee4ecfb52ced9788eb249d.bindTooltip%28%0A%20%20%20%20%20%20%20%20%20%20%20%20%20%20%20%20%60%3Cdiv%3E%0A%20%20%20%20%20%20%20%20%20%20%20%20%20%20%20%20%20%20%20%20%20A%20empresa%20IBAI%20VESTUARIO%20%28CNPJ%2049524688000199%29%2C%20relacionada%20ao%20PEP%20JAIME%20BONAVOGLIA%20DA%20TEVEIRA%2C%20recebeu%20R%24%20290768.45%0A%20%20%20%20%20%20%20%20%20%20%20%20%20%20%20%20%20%3C/div%3E%60%2C%0A%20%20%20%20%20%20%20%20%20%20%20%20%20%20%20%20%7B%22sticky%22%3A%20true%7D%0A%20%20%20%20%20%20%20%20%20%20%20%20%29%3B%0A%20%20%20%20%20%20%20%20%0A%20%20%20%20%0A%20%20%20%20%20%20%20%20%20%20%20%20var%20marker_e4f6f59952f44bd8984a9252b15bc07b%20%3D%20L.marker%28%0A%20%20%20%20%20%20%20%20%20%20%20%20%20%20%20%20%5B-23.244%2C%20-48.195%5D%2C%0A%20%20%20%20%20%20%20%20%20%20%20%20%20%20%20%20%7B%7D%0A%20%20%20%20%20%20%20%20%20%20%20%20%29.addTo%28map_9816868a223e4fedaefc8dac49e0faf5%29%3B%0A%20%20%20%20%20%20%20%20%0A%20%20%20%20%0A%20%20%20%20%20%20%20%20%20%20%20%20var%20icon_fbf28546ca9f4846b25a28849712ecda%20%3D%20L.AwesomeMarkers.icon%28%0A%20%20%20%20%20%20%20%20%20%20%20%20%20%20%20%20%7B%22extraClasses%22%3A%20%22fa-rotate-0%22%2C%20%22icon%22%3A%20%22info-sign%22%2C%20%22iconColor%22%3A%20%22white%22%2C%20%22markerColor%22%3A%20%22red%22%2C%20%22prefix%22%3A%20%22glyphicon%22%7D%0A%20%20%20%20%20%20%20%20%20%20%20%20%29%3B%0A%20%20%20%20%20%20%20%20%20%20%20%20marker_e4f6f59952f44bd8984a9252b15bc07b.setIcon%28icon_fbf28546ca9f4846b25a28849712ecda%29%3B%0A%20%20%20%20%20%20%20%20%0A%20%20%20%20%0A%20%20%20%20%20%20%20%20var%20popup_0ad1fe20bb2147efbd7f78c77de33d86%20%3D%20L.popup%28%7B%22maxWidth%22%3A%20%22100%25%22%7D%29%3B%0A%0A%20%20%20%20%20%20%20%20%0A%20%20%20%20%20%20%20%20%20%20%20%20var%20html_f80c98e80b4e41a395f3c79be689eba0%20%3D%20%24%28%60%3Cdiv%20id%3D%22html_f80c98e80b4e41a395f3c79be689eba0%22%20style%3D%22width%3A%20100.0%25%3B%20height%3A%20100.0%25%3B%22%3EA%20empresa%20IBAI%20VESTUARIO%20%28CNPJ%2049524688000199%29%2C%20relacionada%20ao%20PEP%20LUZENICE%20LANUZIA%20DE%20PALKOSKI%2C%20recebeu%20R%24%20290768.45%3C/div%3E%60%29%5B0%5D%3B%0A%20%20%20%20%20%20%20%20%20%20%20%20popup_0ad1fe20bb2147efbd7f78c77de33d86.setContent%28html_f80c98e80b4e41a395f3c79be689eba0%29%3B%0A%20%20%20%20%20%20%20%20%0A%0A%20%20%20%20%20%20%20%20marker_e4f6f59952f44bd8984a9252b15bc07b.bindPopup%28popup_0ad1fe20bb2147efbd7f78c77de33d86%29%0A%20%20%20%20%20%20%20%20%3B%0A%0A%20%20%20%20%20%20%20%20%0A%20%20%20%20%0A%20%20%20%20%0A%20%20%20%20%20%20%20%20%20%20%20%20marker_e4f6f59952f44bd8984a9252b15bc07b.bindTooltip%28%0A%20%20%20%20%20%20%20%20%20%20%20%20%20%20%20%20%60%3Cdiv%3E%0A%20%20%20%20%20%20%20%20%20%20%20%20%20%20%20%20%20%20%20%20%20A%20empresa%20IBAI%20VESTUARIO%20%28CNPJ%2049524688000199%29%2C%20relacionada%20ao%20PEP%20LUZENICE%20LANUZIA%20DE%20PALKOSKI%2C%20recebeu%20R%24%20290768.45%0A%20%20%20%20%20%20%20%20%20%20%20%20%20%20%20%20%20%3C/div%3E%60%2C%0A%20%20%20%20%20%20%20%20%20%20%20%20%20%20%20%20%7B%22sticky%22%3A%20true%7D%0A%20%20%20%20%20%20%20%20%20%20%20%20%29%3B%0A%20%20%20%20%20%20%20%20%0A%20%20%20%20%0A%20%20%20%20%20%20%20%20%20%20%20%20var%20marker_a6535544b6e84dcd93422d195771ce9d%20%3D%20L.marker%28%0A%20%20%20%20%20%20%20%20%20%20%20%20%20%20%20%20%5B-23.244%2C%20-48.195%5D%2C%0A%20%20%20%20%20%20%20%20%20%20%20%20%20%20%20%20%7B%7D%0A%20%20%20%20%20%20%20%20%20%20%20%20%29.addTo%28map_9816868a223e4fedaefc8dac49e0faf5%29%3B%0A%20%20%20%20%20%20%20%20%0A%20%20%20%20%0A%20%20%20%20%20%20%20%20%20%20%20%20var%20icon_ee4d5a3e74714320b2c521eff02607f0%20%3D%20L.AwesomeMarkers.icon%28%0A%20%20%20%20%20%20%20%20%20%20%20%20%20%20%20%20%7B%22extraClasses%22%3A%20%22fa-rotate-0%22%2C%20%22icon%22%3A%20%22info-sign%22%2C%20%22iconColor%22%3A%20%22white%22%2C%20%22markerColor%22%3A%20%22red%22%2C%20%22prefix%22%3A%20%22glyphicon%22%7D%0A%20%20%20%20%20%20%20%20%20%20%20%20%29%3B%0A%20%20%20%20%20%20%20%20%20%20%20%20marker_a6535544b6e84dcd93422d195771ce9d.setIcon%28icon_ee4d5a3e74714320b2c521eff02607f0%29%3B%0A%20%20%20%20%20%20%20%20%0A%20%20%20%20%0A%20%20%20%20%20%20%20%20var%20popup_9df7ee32118241c2874eb42e350a04b0%20%3D%20L.popup%28%7B%22maxWidth%22%3A%20%22100%25%22%7D%29%3B%0A%0A%20%20%20%20%20%20%20%20%0A%20%20%20%20%20%20%20%20%20%20%20%20var%20html_c37507d4298840e194fb117747b1e942%20%3D%20%24%28%60%3Cdiv%20id%3D%22html_c37507d4298840e194fb117747b1e942%22%20style%3D%22width%3A%20100.0%25%3B%20height%3A%20100.0%25%3B%22%3EA%20empresa%20IBAI%20VESTUARIO%20%28CNPJ%2049524688000199%29%2C%20relacionada%20ao%20PEP%20SAVIOLO%20LUYTEN%20SMERIERI%2C%20recebeu%20R%24%20290768.45%3C/div%3E%60%29%5B0%5D%3B%0A%20%20%20%20%20%20%20%20%20%20%20%20popup_9df7ee32118241c2874eb42e350a04b0.setContent%28html_c37507d4298840e194fb117747b1e942%29%3B%0A%20%20%20%20%20%20%20%20%0A%0A%20%20%20%20%20%20%20%20marker_a6535544b6e84dcd93422d195771ce9d.bindPopup%28popup_9df7ee32118241c2874eb42e350a04b0%29%0A%20%20%20%20%20%20%20%20%3B%0A%0A%20%20%20%20%20%20%20%20%0A%20%20%20%20%0A%20%20%20%20%0A%20%20%20%20%20%20%20%20%20%20%20%20marker_a6535544b6e84dcd93422d195771ce9d.bindTooltip%28%0A%20%20%20%20%20%20%20%20%20%20%20%20%20%20%20%20%60%3Cdiv%3E%0A%20%20%20%20%20%20%20%20%20%20%20%20%20%20%20%20%20%20%20%20%20A%20empresa%20IBAI%20VESTUARIO%20%28CNPJ%2049524688000199%29%2C%20relacionada%20ao%20PEP%20SAVIOLO%20LUYTEN%20SMERIERI%2C%20recebeu%20R%24%20290768.45%0A%20%20%20%20%20%20%20%20%20%20%20%20%20%20%20%20%20%3C/div%3E%60%2C%0A%20%20%20%20%20%20%20%20%20%20%20%20%20%20%20%20%7B%22sticky%22%3A%20true%7D%0A%20%20%20%20%20%20%20%20%20%20%20%20%29%3B%0A%20%20%20%20%20%20%20%20%0A%20%20%20%20%0A%20%20%20%20%20%20%20%20%20%20%20%20var%20marker_0b31aae029444a1c9ee66daa730baed3%20%3D%20L.marker%28%0A%20%20%20%20%20%20%20%20%20%20%20%20%20%20%20%20%5B-23.244%2C%20-48.195%5D%2C%0A%20%20%20%20%20%20%20%20%20%20%20%20%20%20%20%20%7B%7D%0A%20%20%20%20%20%20%20%20%20%20%20%20%29.addTo%28map_9816868a223e4fedaefc8dac49e0faf5%29%3B%0A%20%20%20%20%20%20%20%20%0A%20%20%20%20%0A%20%20%20%20%20%20%20%20%20%20%20%20var%20icon_607365eec311403d8ee99df083ae2958%20%3D%20L.AwesomeMarkers.icon%28%0A%20%20%20%20%20%20%20%20%20%20%20%20%20%20%20%20%7B%22extraClasses%22%3A%20%22fa-rotate-0%22%2C%20%22icon%22%3A%20%22info-sign%22%2C%20%22iconColor%22%3A%20%22white%22%2C%20%22markerColor%22%3A%20%22red%22%2C%20%22prefix%22%3A%20%22glyphicon%22%7D%0A%20%20%20%20%20%20%20%20%20%20%20%20%29%3B%0A%20%20%20%20%20%20%20%20%20%20%20%20marker_0b31aae029444a1c9ee66daa730baed3.setIcon%28icon_607365eec311403d8ee99df083ae2958%29%3B%0A%20%20%20%20%20%20%20%20%0A%20%20%20%20%0A%20%20%20%20%20%20%20%20var%20popup_d8f09fa8954b4b1fb2c8a01b26eab1c8%20%3D%20L.popup%28%7B%22maxWidth%22%3A%20%22100%25%22%7D%29%3B%0A%0A%20%20%20%20%20%20%20%20%0A%20%20%20%20%20%20%20%20%20%20%20%20var%20html_2cbc4d277cda48e39eb6ec2fd6e02088%20%3D%20%24%28%60%3Cdiv%20id%3D%22html_2cbc4d277cda48e39eb6ec2fd6e02088%22%20style%3D%22width%3A%20100.0%25%3B%20height%3A%20100.0%25%3B%22%3EA%20empresa%20LOUISE%20ADMINISTRATIVOS%20%28CNPJ%2059442647000146%29%2C%20relacionada%20ao%20PEP%20BENJAMIM%20HOSCHITAKE%20OBERLEITENER%20DE%20MOLIMAROLI%2C%20recebeu%20R%24%20119054.63%3C/div%3E%60%29%5B0%5D%3B%0A%20%20%20%20%20%20%20%20%20%20%20%20popup_d8f09fa8954b4b1fb2c8a01b26eab1c8.setContent%28html_2cbc4d277cda48e39eb6ec2fd6e02088%29%3B%0A%20%20%20%20%20%20%20%20%0A%0A%20%20%20%20%20%20%20%20marker_0b31aae029444a1c9ee66daa730baed3.bindPopup%28popup_d8f09fa8954b4b1fb2c8a01b26eab1c8%29%0A%20%20%20%20%20%20%20%20%3B%0A%0A%20%20%20%20%20%20%20%20%0A%20%20%20%20%0A%20%20%20%20%0A%20%20%20%20%20%20%20%20%20%20%20%20marker_0b31aae029444a1c9ee66daa730baed3.bindTooltip%28%0A%20%20%20%20%20%20%20%20%20%20%20%20%20%20%20%20%60%3Cdiv%3E%0A%20%20%20%20%20%20%20%20%20%20%20%20%20%20%20%20%20%20%20%20%20A%20empresa%20LOUISE%20ADMINISTRATIVOS%20%28CNPJ%2059442647000146%29%2C%20relacionada%20ao%20PEP%20BENJAMIM%20HOSCHITAKE%20OBERLEITENER%20DE%20MOLIMAROLI%2C%20recebeu%20R%24%20119054.63%0A%20%20%20%20%20%20%20%20%20%20%20%20%20%20%20%20%20%3C/div%3E%60%2C%0A%20%20%20%20%20%20%20%20%20%20%20%20%20%20%20%20%7B%22sticky%22%3A%20true%7D%0A%20%20%20%20%20%20%20%20%20%20%20%20%29%3B%0A%20%20%20%20%20%20%20%20%0A%20%20%20%20%0A%20%20%20%20%20%20%20%20%20%20%20%20var%20marker_102b34c0235a4a11aa600b1c8248e05d%20%3D%20L.marker%28%0A%20%20%20%20%20%20%20%20%20%20%20%20%20%20%20%20%5B-20.257%2C%20-47.477%5D%2C%0A%20%20%20%20%20%20%20%20%20%20%20%20%20%20%20%20%7B%7D%0A%20%20%20%20%20%20%20%20%20%20%20%20%29.addTo%28map_9816868a223e4fedaefc8dac49e0faf5%29%3B%0A%20%20%20%20%20%20%20%20%0A%20%20%20%20%0A%20%20%20%20%20%20%20%20%20%20%20%20var%20icon_a4e8ca5ad4bc4d9bbbf6e39ab26f3e79%20%3D%20L.AwesomeMarkers.icon%28%0A%20%20%20%20%20%20%20%20%20%20%20%20%20%20%20%20%7B%22extraClasses%22%3A%20%22fa-rotate-0%22%2C%20%22icon%22%3A%20%22info-sign%22%2C%20%22iconColor%22%3A%20%22white%22%2C%20%22markerColor%22%3A%20%22red%22%2C%20%22prefix%22%3A%20%22glyphicon%22%7D%0A%20%20%20%20%20%20%20%20%20%20%20%20%29%3B%0A%20%20%20%20%20%20%20%20%20%20%20%20marker_102b34c0235a4a11aa600b1c8248e05d.setIcon%28icon_a4e8ca5ad4bc4d9bbbf6e39ab26f3e79%29%3B%0A%20%20%20%20%20%20%20%20%0A%20%20%20%20%0A%20%20%20%20%20%20%20%20var%20popup_c27c8d71904c462aa5cf1147b744109a%20%3D%20L.popup%28%7B%22maxWidth%22%3A%20%22100%25%22%7D%29%3B%0A%0A%20%20%20%20%20%20%20%20%0A%20%20%20%20%20%20%20%20%20%20%20%20var%20html_60071bba9afc43d3ad3c4d204df44b55%20%3D%20%24%28%60%3Cdiv%20id%3D%22html_60071bba9afc43d3ad3c4d204df44b55%22%20style%3D%22width%3A%20100.0%25%3B%20height%3A%20100.0%25%3B%22%3EA%20empresa%20MOMOKA%20ARTISTICAS%20LTDA%20%28CNPJ%2006273922000124%29%2C%20relacionada%20ao%20PEP%20GEOVANISA%20TERSINHA%20BERTASSONI%2C%20recebeu%20R%24%20272285.94%3C/div%3E%60%29%5B0%5D%3B%0A%20%20%20%20%20%20%20%20%20%20%20%20popup_c27c8d71904c462aa5cf1147b744109a.setContent%28html_60071bba9afc43d3ad3c4d204df44b55%29%3B%0A%20%20%20%20%20%20%20%20%0A%0A%20%20%20%20%20%20%20%20marker_102b34c0235a4a11aa600b1c8248e05d.bindPopup%28popup_c27c8d71904c462aa5cf1147b744109a%29%0A%20%20%20%20%20%20%20%20%3B%0A%0A%20%20%20%20%20%20%20%20%0A%20%20%20%20%0A%20%20%20%20%0A%20%20%20%20%20%20%20%20%20%20%20%20marker_102b34c0235a4a11aa600b1c8248e05d.bindTooltip%28%0A%20%20%20%20%20%20%20%20%20%20%20%20%20%20%20%20%60%3Cdiv%3E%0A%20%20%20%20%20%20%20%20%20%20%20%20%20%20%20%20%20%20%20%20%20A%20empresa%20MOMOKA%20ARTISTICAS%20LTDA%20%28CNPJ%2006273922000124%29%2C%20relacionada%20ao%20PEP%20GEOVANISA%20TERSINHA%20BERTASSONI%2C%20recebeu%20R%24%20272285.94%0A%20%20%20%20%20%20%20%20%20%20%20%20%20%20%20%20%20%3C/div%3E%60%2C%0A%20%20%20%20%20%20%20%20%20%20%20%20%20%20%20%20%7B%22sticky%22%3A%20true%7D%0A%20%20%20%20%20%20%20%20%20%20%20%20%29%3B%0A%20%20%20%20%20%20%20%20%0A%20%20%20%20%0A%20%20%20%20%20%20%20%20%20%20%20%20var%20marker_36b9fbb990ef4f099d49c0ebe70f156d%20%3D%20L.marker%28%0A%20%20%20%20%20%20%20%20%20%20%20%20%20%20%20%20%5B-24.715%2C%20-47.881%5D%2C%0A%20%20%20%20%20%20%20%20%20%20%20%20%20%20%20%20%7B%7D%0A%20%20%20%20%20%20%20%20%20%20%20%20%29.addTo%28map_9816868a223e4fedaefc8dac49e0faf5%29%3B%0A%20%20%20%20%20%20%20%20%0A%20%20%20%20%0A%20%20%20%20%20%20%20%20%20%20%20%20var%20icon_c35d111b8b354bd7875f0990afff8859%20%3D%20L.AwesomeMarkers.icon%28%0A%20%20%20%20%20%20%20%20%20%20%20%20%20%20%20%20%7B%22extraClasses%22%3A%20%22fa-rotate-0%22%2C%20%22icon%22%3A%20%22info-sign%22%2C%20%22iconColor%22%3A%20%22white%22%2C%20%22markerColor%22%3A%20%22red%22%2C%20%22prefix%22%3A%20%22glyphicon%22%7D%0A%20%20%20%20%20%20%20%20%20%20%20%20%29%3B%0A%20%20%20%20%20%20%20%20%20%20%20%20marker_36b9fbb990ef4f099d49c0ebe70f156d.setIcon%28icon_c35d111b8b354bd7875f0990afff8859%29%3B%0A%20%20%20%20%20%20%20%20%0A%20%20%20%20%0A%20%20%20%20%20%20%20%20var%20popup_291bb91dcd2b4371a18832b38757979f%20%3D%20L.popup%28%7B%22maxWidth%22%3A%20%22100%25%22%7D%29%3B%0A%0A%20%20%20%20%20%20%20%20%0A%20%20%20%20%20%20%20%20%20%20%20%20var%20html_d770e353e2ac4e409df27ee6b6d89e70%20%3D%20%24%28%60%3Cdiv%20id%3D%22html_d770e353e2ac4e409df27ee6b6d89e70%22%20style%3D%22width%3A%20100.0%25%3B%20height%3A%20100.0%25%3B%22%3EA%20empresa%20MAYA%20BRASIL%20%28CNPJ%2055336339000149%29%2C%20relacionada%20ao%20PEP%20DOUGLAS%20SPERETA%20PITTINI%2C%20recebeu%20R%24%20235324.58%3C/div%3E%60%29%5B0%5D%3B%0A%20%20%20%20%20%20%20%20%20%20%20%20popup_291bb91dcd2b4371a18832b38757979f.setContent%28html_d770e353e2ac4e409df27ee6b6d89e70%29%3B%0A%20%20%20%20%20%20%20%20%0A%0A%20%20%20%20%20%20%20%20marker_36b9fbb990ef4f099d49c0ebe70f156d.bindPopup%28popup_291bb91dcd2b4371a18832b38757979f%29%0A%20%20%20%20%20%20%20%20%3B%0A%0A%20%20%20%20%20%20%20%20%0A%20%20%20%20%0A%20%20%20%20%0A%20%20%20%20%20%20%20%20%20%20%20%20marker_36b9fbb990ef4f099d49c0ebe70f156d.bindTooltip%28%0A%20%20%20%20%20%20%20%20%20%20%20%20%20%20%20%20%60%3Cdiv%3E%0A%20%20%20%20%20%20%20%20%20%20%20%20%20%20%20%20%20%20%20%20%20A%20empresa%20MAYA%20BRASIL%20%28CNPJ%2055336339000149%29%2C%20relacionada%20ao%20PEP%20DOUGLAS%20SPERETA%20PITTINI%2C%20recebeu%20R%24%20235324.58%0A%20%20%20%20%20%20%20%20%20%20%20%20%20%20%20%20%20%3C/div%3E%60%2C%0A%20%20%20%20%20%20%20%20%20%20%20%20%20%20%20%20%7B%22sticky%22%3A%20true%7D%0A%20%20%20%20%20%20%20%20%20%20%20%20%29%3B%0A%20%20%20%20%20%20%20%20%0A%20%20%20%20%0A%20%20%20%20%20%20%20%20%20%20%20%20var%20marker_726a5e6815884bad86294178c1a662ff%20%3D%20L.marker%28%0A%20%20%20%20%20%20%20%20%20%20%20%20%20%20%20%20%5B-23.012%2C%20-47.527%5D%2C%0A%20%20%20%20%20%20%20%20%20%20%20%20%20%20%20%20%7B%7D%0A%20%20%20%20%20%20%20%20%20%20%20%20%29.addTo%28map_9816868a223e4fedaefc8dac49e0faf5%29%3B%0A%20%20%20%20%20%20%20%20%0A%20%20%20%20%0A%20%20%20%20%20%20%20%20%20%20%20%20var%20icon_2e3f305d2c6e46f599beda8d504be0fa%20%3D%20L.AwesomeMarkers.icon%28%0A%20%20%20%20%20%20%20%20%20%20%20%20%20%20%20%20%7B%22extraClasses%22%3A%20%22fa-rotate-0%22%2C%20%22icon%22%3A%20%22info-sign%22%2C%20%22iconColor%22%3A%20%22white%22%2C%20%22markerColor%22%3A%20%22red%22%2C%20%22prefix%22%3A%20%22glyphicon%22%7D%0A%20%20%20%20%20%20%20%20%20%20%20%20%29%3B%0A%20%20%20%20%20%20%20%20%20%20%20%20marker_726a5e6815884bad86294178c1a662ff.setIcon%28icon_2e3f305d2c6e46f599beda8d504be0fa%29%3B%0A%20%20%20%20%20%20%20%20%0A%20%20%20%20%0A%20%20%20%20%20%20%20%20var%20popup_90b948685431442b8222ca20326e198d%20%3D%20L.popup%28%7B%22maxWidth%22%3A%20%22100%25%22%7D%29%3B%0A%0A%20%20%20%20%20%20%20%20%0A%20%20%20%20%20%20%20%20%20%20%20%20var%20html_9438255b29f74a208552690539f09f9f%20%3D%20%24%28%60%3Cdiv%20id%3D%22html_9438255b29f74a208552690539f09f9f%22%20style%3D%22width%3A%20100.0%25%3B%20height%3A%20100.0%25%3B%22%3EA%20empresa%20NIKITA%20PRESENTES%20EIRELLI%20%28CNPJ%2005605785000141%29%2C%20relacionada%20ao%20PEP%20ANDERSON%20PHREDERICO%20ZIELAK%20RAGO%2C%20recebeu%20R%24%20238680.05%3C/div%3E%60%29%5B0%5D%3B%0A%20%20%20%20%20%20%20%20%20%20%20%20popup_90b948685431442b8222ca20326e198d.setContent%28html_9438255b29f74a208552690539f09f9f%29%3B%0A%20%20%20%20%20%20%20%20%0A%0A%20%20%20%20%20%20%20%20marker_726a5e6815884bad86294178c1a662ff.bindPopup%28popup_90b948685431442b8222ca20326e198d%29%0A%20%20%20%20%20%20%20%20%3B%0A%0A%20%20%20%20%20%20%20%20%0A%20%20%20%20%0A%20%20%20%20%0A%20%20%20%20%20%20%20%20%20%20%20%20marker_726a5e6815884bad86294178c1a662ff.bindTooltip%28%0A%20%20%20%20%20%20%20%20%20%20%20%20%20%20%20%20%60%3Cdiv%3E%0A%20%20%20%20%20%20%20%20%20%20%20%20%20%20%20%20%20%20%20%20%20A%20empresa%20NIKITA%20PRESENTES%20EIRELLI%20%28CNPJ%2005605785000141%29%2C%20relacionada%20ao%20PEP%20ANDERSON%20PHREDERICO%20ZIELAK%20RAGO%2C%20recebeu%20R%24%20238680.05%0A%20%20%20%20%20%20%20%20%20%20%20%20%20%20%20%20%20%3C/div%3E%60%2C%0A%20%20%20%20%20%20%20%20%20%20%20%20%20%20%20%20%7B%22sticky%22%3A%20true%7D%0A%20%20%20%20%20%20%20%20%20%20%20%20%29%3B%0A%20%20%20%20%20%20%20%20%0A%20%20%20%20%0A%20%20%20%20%20%20%20%20%20%20%20%20var%20marker_36d580877b24450783b209f62e765e25%20%3D%20L.marker%28%0A%20%20%20%20%20%20%20%20%20%20%20%20%20%20%20%20%5B-20.167%2C%20-49.703%5D%2C%0A%20%20%20%20%20%20%20%20%20%20%20%20%20%20%20%20%7B%7D%0A%20%20%20%20%20%20%20%20%20%20%20%20%29.addTo%28map_9816868a223e4fedaefc8dac49e0faf5%29%3B%0A%20%20%20%20%20%20%20%20%0A%20%20%20%20%0A%20%20%20%20%20%20%20%20%20%20%20%20var%20icon_5aab2d4a0fcb484bb119ea3fdb83f611%20%3D%20L.AwesomeMarkers.icon%28%0A%20%20%20%20%20%20%20%20%20%20%20%20%20%20%20%20%7B%22extraClasses%22%3A%20%22fa-rotate-0%22%2C%20%22icon%22%3A%20%22info-sign%22%2C%20%22iconColor%22%3A%20%22white%22%2C%20%22markerColor%22%3A%20%22red%22%2C%20%22prefix%22%3A%20%22glyphicon%22%7D%0A%20%20%20%20%20%20%20%20%20%20%20%20%29%3B%0A%20%20%20%20%20%20%20%20%20%20%20%20marker_36d580877b24450783b209f62e765e25.setIcon%28icon_5aab2d4a0fcb484bb119ea3fdb83f611%29%3B%0A%20%20%20%20%20%20%20%20%0A%20%20%20%20%0A%20%20%20%20%20%20%20%20var%20popup_d7e7b2872aa04302ba345f6b39a4697f%20%3D%20L.popup%28%7B%22maxWidth%22%3A%20%22100%25%22%7D%29%3B%0A%0A%20%20%20%20%20%20%20%20%0A%20%20%20%20%20%20%20%20%20%20%20%20var%20html_a31f5acbcab44a15a40c7e67c2d4bac5%20%3D%20%24%28%60%3Cdiv%20id%3D%22html_a31f5acbcab44a15a40c7e67c2d4bac5%22%20style%3D%22width%3A%20100.0%25%3B%20height%3A%20100.0%25%3B%22%3EA%20empresa%20JOAO%20LUCAS%20ELETRONICOS%20SA%20%28CNPJ%2010240793000137%29%2C%20relacionada%20ao%20PEP%20CAUME%20UNAIDE%20ABASILIA%20PHREDERICO%20ZIELAK%2C%20recebeu%20R%24%20231545.38%3C/div%3E%60%29%5B0%5D%3B%0A%20%20%20%20%20%20%20%20%20%20%20%20popup_d7e7b2872aa04302ba345f6b39a4697f.setContent%28html_a31f5acbcab44a15a40c7e67c2d4bac5%29%3B%0A%20%20%20%20%20%20%20%20%0A%0A%20%20%20%20%20%20%20%20marker_36d580877b24450783b209f62e765e25.bindPopup%28popup_d7e7b2872aa04302ba345f6b39a4697f%29%0A%20%20%20%20%20%20%20%20%3B%0A%0A%20%20%20%20%20%20%20%20%0A%20%20%20%20%0A%20%20%20%20%0A%20%20%20%20%20%20%20%20%20%20%20%20marker_36d580877b24450783b209f62e765e25.bindTooltip%28%0A%20%20%20%20%20%20%20%20%20%20%20%20%20%20%20%20%60%3Cdiv%3E%0A%20%20%20%20%20%20%20%20%20%20%20%20%20%20%20%20%20%20%20%20%20A%20empresa%20JOAO%20LUCAS%20ELETRONICOS%20SA%20%28CNPJ%2010240793000137%29%2C%20relacionada%20ao%20PEP%20CAUME%20UNAIDE%20ABASILIA%20PHREDERICO%20ZIELAK%2C%20recebeu%20R%24%20231545.38%0A%20%20%20%20%20%20%20%20%20%20%20%20%20%20%20%20%20%3C/div%3E%60%2C%0A%20%20%20%20%20%20%20%20%20%20%20%20%20%20%20%20%7B%22sticky%22%3A%20true%7D%0A%20%20%20%20%20%20%20%20%20%20%20%20%29%3B%0A%20%20%20%20%20%20%20%20%0A%20%20%20%20%0A%20%20%20%20%20%20%20%20%20%20%20%20var%20marker_866d7e7fa3d2407e9b1a8adc18518fda%20%3D%20L.marker%28%0A%20%20%20%20%20%20%20%20%20%20%20%20%20%20%20%20%5B-22.827%2C%20-45.663%5D%2C%0A%20%20%20%20%20%20%20%20%20%20%20%20%20%20%20%20%7B%7D%0A%20%20%20%20%20%20%20%20%20%20%20%20%29.addTo%28map_9816868a223e4fedaefc8dac49e0faf5%29%3B%0A%20%20%20%20%20%20%20%20%0A%20%20%20%20%0A%20%20%20%20%20%20%20%20%20%20%20%20var%20icon_72d132f0ab1b402fbaf2abc1e16ae6c5%20%3D%20L.AwesomeMarkers.icon%28%0A%20%20%20%20%20%20%20%20%20%20%20%20%20%20%20%20%7B%22extraClasses%22%3A%20%22fa-rotate-0%22%2C%20%22icon%22%3A%20%22info-sign%22%2C%20%22iconColor%22%3A%20%22white%22%2C%20%22markerColor%22%3A%20%22red%22%2C%20%22prefix%22%3A%20%22glyphicon%22%7D%0A%20%20%20%20%20%20%20%20%20%20%20%20%29%3B%0A%20%20%20%20%20%20%20%20%20%20%20%20marker_866d7e7fa3d2407e9b1a8adc18518fda.setIcon%28icon_72d132f0ab1b402fbaf2abc1e16ae6c5%29%3B%0A%20%20%20%20%20%20%20%20%0A%20%20%20%20%0A%20%20%20%20%20%20%20%20var%20popup_032d2470f8bb4e1eb5c644f590a2b5c3%20%3D%20L.popup%28%7B%22maxWidth%22%3A%20%22100%25%22%7D%29%3B%0A%0A%20%20%20%20%20%20%20%20%0A%20%20%20%20%20%20%20%20%20%20%20%20var%20html_433170434df845729c12cd5b4e380494%20%3D%20%24%28%60%3Cdiv%20id%3D%22html_433170434df845729c12cd5b4e380494%22%20style%3D%22width%3A%20100.0%25%3B%20height%3A%20100.0%25%3B%22%3EA%20empresa%20JOAO%20LUCAS%20ELETRONICOS%20SA%20%28CNPJ%2010240793000137%29%2C%20relacionada%20ao%20PEP%20CAUME%20UNAIDE%20ABASILIA%20PHREDERICO%20ZIELAK%2C%20recebeu%20R%24%20214387.51%3C/div%3E%60%29%5B0%5D%3B%0A%20%20%20%20%20%20%20%20%20%20%20%20popup_032d2470f8bb4e1eb5c644f590a2b5c3.setContent%28html_433170434df845729c12cd5b4e380494%29%3B%0A%20%20%20%20%20%20%20%20%0A%0A%20%20%20%20%20%20%20%20marker_866d7e7fa3d2407e9b1a8adc18518fda.bindPopup%28popup_032d2470f8bb4e1eb5c644f590a2b5c3%29%0A%20%20%20%20%20%20%20%20%3B%0A%0A%20%20%20%20%20%20%20%20%0A%20%20%20%20%0A%20%20%20%20%0A%20%20%20%20%20%20%20%20%20%20%20%20marker_866d7e7fa3d2407e9b1a8adc18518fda.bindTooltip%28%0A%20%20%20%20%20%20%20%20%20%20%20%20%20%20%20%20%60%3Cdiv%3E%0A%20%20%20%20%20%20%20%20%20%20%20%20%20%20%20%20%20%20%20%20%20A%20empresa%20JOAO%20LUCAS%20ELETRONICOS%20SA%20%28CNPJ%2010240793000137%29%2C%20relacionada%20ao%20PEP%20CAUME%20UNAIDE%20ABASILIA%20PHREDERICO%20ZIELAK%2C%20recebeu%20R%24%20214387.51%0A%20%20%20%20%20%20%20%20%20%20%20%20%20%20%20%20%20%3C/div%3E%60%2C%0A%20%20%20%20%20%20%20%20%20%20%20%20%20%20%20%20%7B%22sticky%22%3A%20true%7D%0A%20%20%20%20%20%20%20%20%20%20%20%20%29%3B%0A%20%20%20%20%20%20%20%20%0A%20%20%20%20%0A%20%20%20%20%20%20%20%20%20%20%20%20var%20marker_7cece5ff82514380b7cf48f1d14be575%20%3D%20L.marker%28%0A%20%20%20%20%20%20%20%20%20%20%20%20%20%20%20%20%5B-21.499%2C%20-50.316%5D%2C%0A%20%20%20%20%20%20%20%20%20%20%20%20%20%20%20%20%7B%7D%0A%20%20%20%20%20%20%20%20%20%20%20%20%29.addTo%28map_9816868a223e4fedaefc8dac49e0faf5%29%3B%0A%20%20%20%20%20%20%20%20%0A%20%20%20%20%0A%20%20%20%20%20%20%20%20%20%20%20%20var%20icon_3724b7bdb1f64864bc4d995ab14fa6b7%20%3D%20L.AwesomeMarkers.icon%28%0A%20%20%20%20%20%20%20%20%20%20%20%20%20%20%20%20%7B%22extraClasses%22%3A%20%22fa-rotate-0%22%2C%20%22icon%22%3A%20%22info-sign%22%2C%20%22iconColor%22%3A%20%22white%22%2C%20%22markerColor%22%3A%20%22red%22%2C%20%22prefix%22%3A%20%22glyphicon%22%7D%0A%20%20%20%20%20%20%20%20%20%20%20%20%29%3B%0A%20%20%20%20%20%20%20%20%20%20%20%20marker_7cece5ff82514380b7cf48f1d14be575.setIcon%28icon_3724b7bdb1f64864bc4d995ab14fa6b7%29%3B%0A%20%20%20%20%20%20%20%20%0A%20%20%20%20%0A%20%20%20%20%20%20%20%20var%20popup_03c432edc4004bf4bb9e232c6cd7b044%20%3D%20L.popup%28%7B%22maxWidth%22%3A%20%22100%25%22%7D%29%3B%0A%0A%20%20%20%20%20%20%20%20%0A%20%20%20%20%20%20%20%20%20%20%20%20var%20html_1a5075a666ea430aad3bdf74da8ae57d%20%3D%20%24%28%60%3Cdiv%20id%3D%22html_1a5075a666ea430aad3bdf74da8ae57d%22%20style%3D%22width%3A%20100.0%25%3B%20height%3A%20100.0%25%3B%22%3EA%20empresa%20JOAO%20LUCAS%20ELETRONICOS%20SA%20%28CNPJ%2010240793000137%29%2C%20relacionada%20ao%20PEP%20CAUME%20UNAIDE%20ABASILIA%20PHREDERICO%20ZIELAK%2C%20recebeu%20R%24%20225281.82%3C/div%3E%60%29%5B0%5D%3B%0A%20%20%20%20%20%20%20%20%20%20%20%20popup_03c432edc4004bf4bb9e232c6cd7b044.setContent%28html_1a5075a666ea430aad3bdf74da8ae57d%29%3B%0A%20%20%20%20%20%20%20%20%0A%0A%20%20%20%20%20%20%20%20marker_7cece5ff82514380b7cf48f1d14be575.bindPopup%28popup_03c432edc4004bf4bb9e232c6cd7b044%29%0A%20%20%20%20%20%20%20%20%3B%0A%0A%20%20%20%20%20%20%20%20%0A%20%20%20%20%0A%20%20%20%20%0A%20%20%20%20%20%20%20%20%20%20%20%20marker_7cece5ff82514380b7cf48f1d14be575.bindTooltip%28%0A%20%20%20%20%20%20%20%20%20%20%20%20%20%20%20%20%60%3Cdiv%3E%0A%20%20%20%20%20%20%20%20%20%20%20%20%20%20%20%20%20%20%20%20%20A%20empresa%20JOAO%20LUCAS%20ELETRONICOS%20SA%20%28CNPJ%2010240793000137%29%2C%20relacionada%20ao%20PEP%20CAUME%20UNAIDE%20ABASILIA%20PHREDERICO%20ZIELAK%2C%20recebeu%20R%24%20225281.82%0A%20%20%20%20%20%20%20%20%20%20%20%20%20%20%20%20%20%3C/div%3E%60%2C%0A%20%20%20%20%20%20%20%20%20%20%20%20%20%20%20%20%7B%22sticky%22%3A%20true%7D%0A%20%20%20%20%20%20%20%20%20%20%20%20%29%3B%0A%20%20%20%20%20%20%20%20%0A%20%20%20%20%0A%20%20%20%20%20%20%20%20%20%20%20%20var%20marker_310212ad3e384aca9cc5c345f8816649%20%3D%20L.marker%28%0A%20%20%20%20%20%20%20%20%20%20%20%20%20%20%20%20%5B-20.789%2C%20-48.33%5D%2C%0A%20%20%20%20%20%20%20%20%20%20%20%20%20%20%20%20%7B%7D%0A%20%20%20%20%20%20%20%20%20%20%20%20%29.addTo%28map_9816868a223e4fedaefc8dac49e0faf5%29%3B%0A%20%20%20%20%20%20%20%20%0A%20%20%20%20%0A%20%20%20%20%20%20%20%20%20%20%20%20var%20icon_33ff5c8076b64885b4d710f30f06025d%20%3D%20L.AwesomeMarkers.icon%28%0A%20%20%20%20%20%20%20%20%20%20%20%20%20%20%20%20%7B%22extraClasses%22%3A%20%22fa-rotate-0%22%2C%20%22icon%22%3A%20%22info-sign%22%2C%20%22iconColor%22%3A%20%22white%22%2C%20%22markerColor%22%3A%20%22red%22%2C%20%22prefix%22%3A%20%22glyphicon%22%7D%0A%20%20%20%20%20%20%20%20%20%20%20%20%29%3B%0A%20%20%20%20%20%20%20%20%20%20%20%20marker_310212ad3e384aca9cc5c345f8816649.setIcon%28icon_33ff5c8076b64885b4d710f30f06025d%29%3B%0A%20%20%20%20%20%20%20%20%0A%20%20%20%20%0A%20%20%20%20%20%20%20%20var%20popup_96e2f04336dc4cf18231cfe46a48f741%20%3D%20L.popup%28%7B%22maxWidth%22%3A%20%22100%25%22%7D%29%3B%0A%0A%20%20%20%20%20%20%20%20%0A%20%20%20%20%20%20%20%20%20%20%20%20var%20html_7aa4ee832103415ebec561a50f138590%20%3D%20%24%28%60%3Cdiv%20id%3D%22html_7aa4ee832103415ebec561a50f138590%22%20style%3D%22width%3A%20100.0%25%3B%20height%3A%20100.0%25%3B%22%3EA%20empresa%20MOHAMED%20DECORACOES%20EPP%20%28CNPJ%2013753624000188%29%2C%20relacionada%20ao%20PEP%20ZAPPAZ%20CAMINAGA%20EUTIMIA%2C%20recebeu%20R%24%20213973.22%3C/div%3E%60%29%5B0%5D%3B%0A%20%20%20%20%20%20%20%20%20%20%20%20popup_96e2f04336dc4cf18231cfe46a48f741.setContent%28html_7aa4ee832103415ebec561a50f138590%29%3B%0A%20%20%20%20%20%20%20%20%0A%0A%20%20%20%20%20%20%20%20marker_310212ad3e384aca9cc5c345f8816649.bindPopup%28popup_96e2f04336dc4cf18231cfe46a48f741%29%0A%20%20%20%20%20%20%20%20%3B%0A%0A%20%20%20%20%20%20%20%20%0A%20%20%20%20%0A%20%20%20%20%0A%20%20%20%20%20%20%20%20%20%20%20%20marker_310212ad3e384aca9cc5c345f8816649.bindTooltip%28%0A%20%20%20%20%20%20%20%20%20%20%20%20%20%20%20%20%60%3Cdiv%3E%0A%20%20%20%20%20%20%20%20%20%20%20%20%20%20%20%20%20%20%20%20%20A%20empresa%20MOHAMED%20DECORACOES%20EPP%20%28CNPJ%2013753624000188%29%2C%20relacionada%20ao%20PEP%20ZAPPAZ%20CAMINAGA%20EUTIMIA%2C%20recebeu%20R%24%20213973.22%0A%20%20%20%20%20%20%20%20%20%20%20%20%20%20%20%20%20%3C/div%3E%60%2C%0A%20%20%20%20%20%20%20%20%20%20%20%20%20%20%20%20%7B%22sticky%22%3A%20true%7D%0A%20%20%20%20%20%20%20%20%20%20%20%20%29%3B%0A%20%20%20%20%20%20%20%20%0A%20%20%20%20%0A%20%20%20%20%20%20%20%20%20%20%20%20var%20marker_ee11702c80ff4c03a644b5900b8417ec%20%3D%20L.marker%28%0A%20%20%20%20%20%20%20%20%20%20%20%20%20%20%20%20%5B-21.676%2C%20-51.384%5D%2C%0A%20%20%20%20%20%20%20%20%20%20%20%20%20%20%20%20%7B%7D%0A%20%20%20%20%20%20%20%20%20%20%20%20%29.addTo%28map_9816868a223e4fedaefc8dac49e0faf5%29%3B%0A%20%20%20%20%20%20%20%20%0A%20%20%20%20%0A%20%20%20%20%20%20%20%20%20%20%20%20var%20icon_812c6f1655444659837cea0614a8b7fc%20%3D%20L.AwesomeMarkers.icon%28%0A%20%20%20%20%20%20%20%20%20%20%20%20%20%20%20%20%7B%22extraClasses%22%3A%20%22fa-rotate-0%22%2C%20%22icon%22%3A%20%22info-sign%22%2C%20%22iconColor%22%3A%20%22white%22%2C%20%22markerColor%22%3A%20%22red%22%2C%20%22prefix%22%3A%20%22glyphicon%22%7D%0A%20%20%20%20%20%20%20%20%20%20%20%20%29%3B%0A%20%20%20%20%20%20%20%20%20%20%20%20marker_ee11702c80ff4c03a644b5900b8417ec.setIcon%28icon_812c6f1655444659837cea0614a8b7fc%29%3B%0A%20%20%20%20%20%20%20%20%0A%20%20%20%20%0A%20%20%20%20%20%20%20%20var%20popup_eeeb2a8c25614a279939acbb95a3e09b%20%3D%20L.popup%28%7B%22maxWidth%22%3A%20%22100%25%22%7D%29%3B%0A%0A%20%20%20%20%20%20%20%20%0A%20%20%20%20%20%20%20%20%20%20%20%20var%20html_a081901e1d374f309c449b7906cb2b57%20%3D%20%24%28%60%3Cdiv%20id%3D%22html_a081901e1d374f309c449b7906cb2b57%22%20style%3D%22width%3A%20100.0%25%3B%20height%3A%20100.0%25%3B%22%3EA%20empresa%20JOAO%20LUCAS%20ELETRONICOS%20SA%20%28CNPJ%2010240793000137%29%2C%20relacionada%20ao%20PEP%20CAUME%20UNAIDE%20ABASILIA%20PHREDERICO%20ZIELAK%2C%20recebeu%20R%24%20221294.85%3C/div%3E%60%29%5B0%5D%3B%0A%20%20%20%20%20%20%20%20%20%20%20%20popup_eeeb2a8c25614a279939acbb95a3e09b.setContent%28html_a081901e1d374f309c449b7906cb2b57%29%3B%0A%20%20%20%20%20%20%20%20%0A%0A%20%20%20%20%20%20%20%20marker_ee11702c80ff4c03a644b5900b8417ec.bindPopup%28popup_eeeb2a8c25614a279939acbb95a3e09b%29%0A%20%20%20%20%20%20%20%20%3B%0A%0A%20%20%20%20%20%20%20%20%0A%20%20%20%20%0A%20%20%20%20%0A%20%20%20%20%20%20%20%20%20%20%20%20marker_ee11702c80ff4c03a644b5900b8417ec.bindTooltip%28%0A%20%20%20%20%20%20%20%20%20%20%20%20%20%20%20%20%60%3Cdiv%3E%0A%20%20%20%20%20%20%20%20%20%20%20%20%20%20%20%20%20%20%20%20%20A%20empresa%20JOAO%20LUCAS%20ELETRONICOS%20SA%20%28CNPJ%2010240793000137%29%2C%20relacionada%20ao%20PEP%20CAUME%20UNAIDE%20ABASILIA%20PHREDERICO%20ZIELAK%2C%20recebeu%20R%24%20221294.85%0A%20%20%20%20%20%20%20%20%20%20%20%20%20%20%20%20%20%3C/div%3E%60%2C%0A%20%20%20%20%20%20%20%20%20%20%20%20%20%20%20%20%7B%22sticky%22%3A%20true%7D%0A%20%20%20%20%20%20%20%20%20%20%20%20%29%3B%0A%20%20%20%20%20%20%20%20%0A%20%20%20%20%0A%20%20%20%20%20%20%20%20%20%20%20%20var%20marker_b76418455eef43368f8196865f82689a%20%3D%20L.marker%28%0A%20%20%20%20%20%20%20%20%20%20%20%20%20%20%20%20%5B-23.712%2C%20-47.428%5D%2C%0A%20%20%20%20%20%20%20%20%20%20%20%20%20%20%20%20%7B%7D%0A%20%20%20%20%20%20%20%20%20%20%20%20%29.addTo%28map_9816868a223e4fedaefc8dac49e0faf5%29%3B%0A%20%20%20%20%20%20%20%20%0A%20%20%20%20%0A%20%20%20%20%20%20%20%20%20%20%20%20var%20icon_4a46787a7eb94145b74b958cd20585a5%20%3D%20L.AwesomeMarkers.icon%28%0A%20%20%20%20%20%20%20%20%20%20%20%20%20%20%20%20%7B%22extraClasses%22%3A%20%22fa-rotate-0%22%2C%20%22icon%22%3A%20%22info-sign%22%2C%20%22iconColor%22%3A%20%22white%22%2C%20%22markerColor%22%3A%20%22red%22%2C%20%22prefix%22%3A%20%22glyphicon%22%7D%0A%20%20%20%20%20%20%20%20%20%20%20%20%29%3B%0A%20%20%20%20%20%20%20%20%20%20%20%20marker_b76418455eef43368f8196865f82689a.setIcon%28icon_4a46787a7eb94145b74b958cd20585a5%29%3B%0A%20%20%20%20%20%20%20%20%0A%20%20%20%20%0A%20%20%20%20%20%20%20%20var%20popup_4a085db802e94bcd8f79ec8a8ee3eb6f%20%3D%20L.popup%28%7B%22maxWidth%22%3A%20%22100%25%22%7D%29%3B%0A%0A%20%20%20%20%20%20%20%20%0A%20%20%20%20%20%20%20%20%20%20%20%20var%20html_2a4693d44db940a1976c63d153dc214b%20%3D%20%24%28%60%3Cdiv%20id%3D%22html_2a4693d44db940a1976c63d153dc214b%22%20style%3D%22width%3A%20100.0%25%3B%20height%3A%20100.0%25%3B%22%3EA%20empresa%20MOMOKA%20ARTISTICAS%20LTDA%20%28CNPJ%2006273922000124%29%2C%20relacionada%20ao%20PEP%20GEOVANISA%20TERSINHA%20BERTASSONI%2C%20recebeu%20R%24%20195474.65%3C/div%3E%60%29%5B0%5D%3B%0A%20%20%20%20%20%20%20%20%20%20%20%20popup_4a085db802e94bcd8f79ec8a8ee3eb6f.setContent%28html_2a4693d44db940a1976c63d153dc214b%29%3B%0A%20%20%20%20%20%20%20%20%0A%0A%20%20%20%20%20%20%20%20marker_b76418455eef43368f8196865f82689a.bindPopup%28popup_4a085db802e94bcd8f79ec8a8ee3eb6f%29%0A%20%20%20%20%20%20%20%20%3B%0A%0A%20%20%20%20%20%20%20%20%0A%20%20%20%20%0A%20%20%20%20%0A%20%20%20%20%20%20%20%20%20%20%20%20marker_b76418455eef43368f8196865f82689a.bindTooltip%28%0A%20%20%20%20%20%20%20%20%20%20%20%20%20%20%20%20%60%3Cdiv%3E%0A%20%20%20%20%20%20%20%20%20%20%20%20%20%20%20%20%20%20%20%20%20A%20empresa%20MOMOKA%20ARTISTICAS%20LTDA%20%28CNPJ%2006273922000124%29%2C%20relacionada%20ao%20PEP%20GEOVANISA%20TERSINHA%20BERTASSONI%2C%20recebeu%20R%24%20195474.65%0A%20%20%20%20%20%20%20%20%20%20%20%20%20%20%20%20%20%3C/div%3E%60%2C%0A%20%20%20%20%20%20%20%20%20%20%20%20%20%20%20%20%7B%22sticky%22%3A%20true%7D%0A%20%20%20%20%20%20%20%20%20%20%20%20%29%3B%0A%20%20%20%20%20%20%20%20%0A%20%20%20%20%0A%20%20%20%20%20%20%20%20%20%20%20%20var%20marker_c6f72fcd8db54d19bbec6ad0a8b9a1c5%20%3D%20L.marker%28%0A%20%20%20%20%20%20%20%20%20%20%20%20%20%20%20%20%5B-20.466%2C%20-50.606%5D%2C%0A%20%20%20%20%20%20%20%20%20%20%20%20%20%20%20%20%7B%7D%0A%20%20%20%20%20%20%20%20%20%20%20%20%29.addTo%28map_9816868a223e4fedaefc8dac49e0faf5%29%3B%0A%20%20%20%20%20%20%20%20%0A%20%20%20%20%0A%20%20%20%20%20%20%20%20%20%20%20%20var%20icon_40d1f072b2494bf18c142a006cde9a26%20%3D%20L.AwesomeMarkers.icon%28%0A%20%20%20%20%20%20%20%20%20%20%20%20%20%20%20%20%7B%22extraClasses%22%3A%20%22fa-rotate-0%22%2C%20%22icon%22%3A%20%22info-sign%22%2C%20%22iconColor%22%3A%20%22white%22%2C%20%22markerColor%22%3A%20%22red%22%2C%20%22prefix%22%3A%20%22glyphicon%22%7D%0A%20%20%20%20%20%20%20%20%20%20%20%20%29%3B%0A%20%20%20%20%20%20%20%20%20%20%20%20marker_c6f72fcd8db54d19bbec6ad0a8b9a1c5.setIcon%28icon_40d1f072b2494bf18c142a006cde9a26%29%3B%0A%20%20%20%20%20%20%20%20%0A%20%20%20%20%0A%20%20%20%20%20%20%20%20var%20popup_ec380b41e98a45ae93cf122f5e8f476b%20%3D%20L.popup%28%7B%22maxWidth%22%3A%20%22100%25%22%7D%29%3B%0A%0A%20%20%20%20%20%20%20%20%0A%20%20%20%20%20%20%20%20%20%20%20%20var%20html_4ba10419be6c4a1d839cb9e3ab51365e%20%3D%20%24%28%60%3Cdiv%20id%3D%22html_4ba10419be6c4a1d839cb9e3ab51365e%22%20style%3D%22width%3A%20100.0%25%3B%20height%3A%20100.0%25%3B%22%3EA%20empresa%20MOMOKA%20ARTISTICAS%20LTDA%20%28CNPJ%2006273922000124%29%2C%20relacionada%20ao%20PEP%20GEOVANISA%20TERSINHA%20BERTASSONI%2C%20recebeu%20R%24%20184133.3%3C/div%3E%60%29%5B0%5D%3B%0A%20%20%20%20%20%20%20%20%20%20%20%20popup_ec380b41e98a45ae93cf122f5e8f476b.setContent%28html_4ba10419be6c4a1d839cb9e3ab51365e%29%3B%0A%20%20%20%20%20%20%20%20%0A%0A%20%20%20%20%20%20%20%20marker_c6f72fcd8db54d19bbec6ad0a8b9a1c5.bindPopup%28popup_ec380b41e98a45ae93cf122f5e8f476b%29%0A%20%20%20%20%20%20%20%20%3B%0A%0A%20%20%20%20%20%20%20%20%0A%20%20%20%20%0A%20%20%20%20%0A%20%20%20%20%20%20%20%20%20%20%20%20marker_c6f72fcd8db54d19bbec6ad0a8b9a1c5.bindTooltip%28%0A%20%20%20%20%20%20%20%20%20%20%20%20%20%20%20%20%60%3Cdiv%3E%0A%20%20%20%20%20%20%20%20%20%20%20%20%20%20%20%20%20%20%20%20%20A%20empresa%20MOMOKA%20ARTISTICAS%20LTDA%20%28CNPJ%2006273922000124%29%2C%20relacionada%20ao%20PEP%20GEOVANISA%20TERSINHA%20BERTASSONI%2C%20recebeu%20R%24%20184133.3%0A%20%20%20%20%20%20%20%20%20%20%20%20%20%20%20%20%20%3C/div%3E%60%2C%0A%20%20%20%20%20%20%20%20%20%20%20%20%20%20%20%20%7B%22sticky%22%3A%20true%7D%0A%20%20%20%20%20%20%20%20%20%20%20%20%29%3B%0A%20%20%20%20%20%20%20%20%0A%20%20%20%20%0A%20%20%20%20%20%20%20%20%20%20%20%20var%20marker_fccc11438450449a95ccfa1b3ea7ddea%20%3D%20L.marker%28%0A%20%20%20%20%20%20%20%20%20%20%20%20%20%20%20%20%5B-22.012%2C%20-51.236%5D%2C%0A%20%20%20%20%20%20%20%20%20%20%20%20%20%20%20%20%7B%7D%0A%20%20%20%20%20%20%20%20%20%20%20%20%29.addTo%28map_9816868a223e4fedaefc8dac49e0faf5%29%3B%0A%20%20%20%20%20%20%20%20%0A%20%20%20%20%0A%20%20%20%20%20%20%20%20%20%20%20%20var%20icon_275dcd44bed14185908d7884d5b0b7eb%20%3D%20L.AwesomeMarkers.icon%28%0A%20%20%20%20%20%20%20%20%20%20%20%20%20%20%20%20%7B%22extraClasses%22%3A%20%22fa-rotate-0%22%2C%20%22icon%22%3A%20%22info-sign%22%2C%20%22iconColor%22%3A%20%22white%22%2C%20%22markerColor%22%3A%20%22red%22%2C%20%22prefix%22%3A%20%22glyphicon%22%7D%0A%20%20%20%20%20%20%20%20%20%20%20%20%29%3B%0A%20%20%20%20%20%20%20%20%20%20%20%20marker_fccc11438450449a95ccfa1b3ea7ddea.setIcon%28icon_275dcd44bed14185908d7884d5b0b7eb%29%3B%0A%20%20%20%20%20%20%20%20%0A%20%20%20%20%0A%20%20%20%20%20%20%20%20var%20popup_0a6e92c4b9c24274a2cb50a2e6383402%20%3D%20L.popup%28%7B%22maxWidth%22%3A%20%22100%25%22%7D%29%3B%0A%0A%20%20%20%20%20%20%20%20%0A%20%20%20%20%20%20%20%20%20%20%20%20var%20html_93cb48c293524ee88afbaac8750498e9%20%3D%20%24%28%60%3Cdiv%20id%3D%22html_93cb48c293524ee88afbaac8750498e9%22%20style%3D%22width%3A%20100.0%25%3B%20height%3A%20100.0%25%3B%22%3EA%20empresa%20LOUISE%20ADMINISTRATIVOS%20%28CNPJ%2059442647000146%29%2C%20relacionada%20ao%20PEP%20BENJAMIM%20HOSCHITAKE%20OBERLEITENER%20DE%20MOLIMAROLI%2C%20recebeu%20R%24%20178798.02%3C/div%3E%60%29%5B0%5D%3B%0A%20%20%20%20%20%20%20%20%20%20%20%20popup_0a6e92c4b9c24274a2cb50a2e6383402.setContent%28html_93cb48c293524ee88afbaac8750498e9%29%3B%0A%20%20%20%20%20%20%20%20%0A%0A%20%20%20%20%20%20%20%20marker_fccc11438450449a95ccfa1b3ea7ddea.bindPopup%28popup_0a6e92c4b9c24274a2cb50a2e6383402%29%0A%20%20%20%20%20%20%20%20%3B%0A%0A%20%20%20%20%20%20%20%20%0A%20%20%20%20%0A%20%20%20%20%0A%20%20%20%20%20%20%20%20%20%20%20%20marker_fccc11438450449a95ccfa1b3ea7ddea.bindTooltip%28%0A%20%20%20%20%20%20%20%20%20%20%20%20%20%20%20%20%60%3Cdiv%3E%0A%20%20%20%20%20%20%20%20%20%20%20%20%20%20%20%20%20%20%20%20%20A%20empresa%20LOUISE%20ADMINISTRATIVOS%20%28CNPJ%2059442647000146%29%2C%20relacionada%20ao%20PEP%20BENJAMIM%20HOSCHITAKE%20OBERLEITENER%20DE%20MOLIMAROLI%2C%20recebeu%20R%24%20178798.02%0A%20%20%20%20%20%20%20%20%20%20%20%20%20%20%20%20%20%3C/div%3E%60%2C%0A%20%20%20%20%20%20%20%20%20%20%20%20%20%20%20%20%7B%22sticky%22%3A%20true%7D%0A%20%20%20%20%20%20%20%20%20%20%20%20%29%3B%0A%20%20%20%20%20%20%20%20%0A%20%20%20%20%0A%20%20%20%20%20%20%20%20%20%20%20%20var%20marker_23576a60b7a64e97b5073181c4377fc6%20%3D%20L.marker%28%0A%20%20%20%20%20%20%20%20%20%20%20%20%20%20%20%20%5B-21.888%2C%20-49.225%5D%2C%0A%20%20%20%20%20%20%20%20%20%20%20%20%20%20%20%20%7B%7D%0A%20%20%20%20%20%20%20%20%20%20%20%20%29.addTo%28map_9816868a223e4fedaefc8dac49e0faf5%29%3B%0A%20%20%20%20%20%20%20%20%0A%20%20%20%20%0A%20%20%20%20%20%20%20%20%20%20%20%20var%20icon_ce40197ccbbe44a4936c2e5ffcf3a131%20%3D%20L.AwesomeMarkers.icon%28%0A%20%20%20%20%20%20%20%20%20%20%20%20%20%20%20%20%7B%22extraClasses%22%3A%20%22fa-rotate-0%22%2C%20%22icon%22%3A%20%22info-sign%22%2C%20%22iconColor%22%3A%20%22white%22%2C%20%22markerColor%22%3A%20%22red%22%2C%20%22prefix%22%3A%20%22glyphicon%22%7D%0A%20%20%20%20%20%20%20%20%20%20%20%20%29%3B%0A%20%20%20%20%20%20%20%20%20%20%20%20marker_23576a60b7a64e97b5073181c4377fc6.setIcon%28icon_ce40197ccbbe44a4936c2e5ffcf3a131%29%3B%0A%20%20%20%20%20%20%20%20%0A%20%20%20%20%0A%20%20%20%20%20%20%20%20var%20popup_2943400822a14f5f8a5c63a9290ea70a%20%3D%20L.popup%28%7B%22maxWidth%22%3A%20%22100%25%22%7D%29%3B%0A%0A%20%20%20%20%20%20%20%20%0A%20%20%20%20%20%20%20%20%20%20%20%20var%20html_b9755bc674984242925a560088e34da4%20%3D%20%24%28%60%3Cdiv%20id%3D%22html_b9755bc674984242925a560088e34da4%22%20style%3D%22width%3A%20100.0%25%3B%20height%3A%20100.0%25%3B%22%3EA%20empresa%20MOMOKA%20ARTISTICAS%20LTDA%20%28CNPJ%2006273922000124%29%2C%20relacionada%20ao%20PEP%20GEOVANISA%20TERSINHA%20BERTASSONI%2C%20recebeu%20R%24%20175083.62%3C/div%3E%60%29%5B0%5D%3B%0A%20%20%20%20%20%20%20%20%20%20%20%20popup_2943400822a14f5f8a5c63a9290ea70a.setContent%28html_b9755bc674984242925a560088e34da4%29%3B%0A%20%20%20%20%20%20%20%20%0A%0A%20%20%20%20%20%20%20%20marker_23576a60b7a64e97b5073181c4377fc6.bindPopup%28popup_2943400822a14f5f8a5c63a9290ea70a%29%0A%20%20%20%20%20%20%20%20%3B%0A%0A%20%20%20%20%20%20%20%20%0A%20%20%20%20%0A%20%20%20%20%0A%20%20%20%20%20%20%20%20%20%20%20%20marker_23576a60b7a64e97b5073181c4377fc6.bindTooltip%28%0A%20%20%20%20%20%20%20%20%20%20%20%20%20%20%20%20%60%3Cdiv%3E%0A%20%20%20%20%20%20%20%20%20%20%20%20%20%20%20%20%20%20%20%20%20A%20empresa%20MOMOKA%20ARTISTICAS%20LTDA%20%28CNPJ%2006273922000124%29%2C%20relacionada%20ao%20PEP%20GEOVANISA%20TERSINHA%20BERTASSONI%2C%20recebeu%20R%24%20175083.62%0A%20%20%20%20%20%20%20%20%20%20%20%20%20%20%20%20%20%3C/div%3E%60%2C%0A%20%20%20%20%20%20%20%20%20%20%20%20%20%20%20%20%7B%22sticky%22%3A%20true%7D%0A%20%20%20%20%20%20%20%20%20%20%20%20%29%3B%0A%20%20%20%20%20%20%20%20%0A%20%20%20%20%0A%20%20%20%20%20%20%20%20%20%20%20%20var%20marker_f75913438d6e4bfcac28e4abfe424fa6%20%3D%20L.marker%28%0A%20%20%20%20%20%20%20%20%20%20%20%20%20%20%20%20%5B-23.523%2C%20-46.836%5D%2C%0A%20%20%20%20%20%20%20%20%20%20%20%20%20%20%20%20%7B%7D%0A%20%20%20%20%20%20%20%20%20%20%20%20%29.addTo%28map_9816868a223e4fedaefc8dac49e0faf5%29%3B%0A%20%20%20%20%20%20%20%20%0A%20%20%20%20%0A%20%20%20%20%20%20%20%20%20%20%20%20var%20icon_bfbeea4d41f04e0d93f9b76e9b1d1cf2%20%3D%20L.AwesomeMarkers.icon%28%0A%20%20%20%20%20%20%20%20%20%20%20%20%20%20%20%20%7B%22extraClasses%22%3A%20%22fa-rotate-0%22%2C%20%22icon%22%3A%20%22info-sign%22%2C%20%22iconColor%22%3A%20%22white%22%2C%20%22markerColor%22%3A%20%22red%22%2C%20%22prefix%22%3A%20%22glyphicon%22%7D%0A%20%20%20%20%20%20%20%20%20%20%20%20%29%3B%0A%20%20%20%20%20%20%20%20%20%20%20%20marker_f75913438d6e4bfcac28e4abfe424fa6.setIcon%28icon_bfbeea4d41f04e0d93f9b76e9b1d1cf2%29%3B%0A%20%20%20%20%20%20%20%20%0A%20%20%20%20%0A%20%20%20%20%20%20%20%20var%20popup_27a196f88c8842869e20c473be9ed22d%20%3D%20L.popup%28%7B%22maxWidth%22%3A%20%22100%25%22%7D%29%3B%0A%0A%20%20%20%20%20%20%20%20%0A%20%20%20%20%20%20%20%20%20%20%20%20var%20html_765f317fcf6d4752b3a6b61fc8702bc1%20%3D%20%24%28%60%3Cdiv%20id%3D%22html_765f317fcf6d4752b3a6b61fc8702bc1%22%20style%3D%22width%3A%20100.0%25%3B%20height%3A%20100.0%25%3B%22%3EA%20empresa%20JOAO%20LUCAS%20ELETRONICOS%20SA%20%28CNPJ%2010240793000137%29%2C%20relacionada%20ao%20PEP%20CAUME%20UNAIDE%20ABASILIA%20PHREDERICO%20ZIELAK%2C%20recebeu%20R%24%20147613.61%3C/div%3E%60%29%5B0%5D%3B%0A%20%20%20%20%20%20%20%20%20%20%20%20popup_27a196f88c8842869e20c473be9ed22d.setContent%28html_765f317fcf6d4752b3a6b61fc8702bc1%29%3B%0A%20%20%20%20%20%20%20%20%0A%0A%20%20%20%20%20%20%20%20marker_f75913438d6e4bfcac28e4abfe424fa6.bindPopup%28popup_27a196f88c8842869e20c473be9ed22d%29%0A%20%20%20%20%20%20%20%20%3B%0A%0A%20%20%20%20%20%20%20%20%0A%20%20%20%20%0A%20%20%20%20%0A%20%20%20%20%20%20%20%20%20%20%20%20marker_f75913438d6e4bfcac28e4abfe424fa6.bindTooltip%28%0A%20%20%20%20%20%20%20%20%20%20%20%20%20%20%20%20%60%3Cdiv%3E%0A%20%20%20%20%20%20%20%20%20%20%20%20%20%20%20%20%20%20%20%20%20A%20empresa%20JOAO%20LUCAS%20ELETRONICOS%20SA%20%28CNPJ%2010240793000137%29%2C%20relacionada%20ao%20PEP%20CAUME%20UNAIDE%20ABASILIA%20PHREDERICO%20ZIELAK%2C%20recebeu%20R%24%20147613.61%0A%20%20%20%20%20%20%20%20%20%20%20%20%20%20%20%20%20%3C/div%3E%60%2C%0A%20%20%20%20%20%20%20%20%20%20%20%20%20%20%20%20%7B%22sticky%22%3A%20true%7D%0A%20%20%20%20%20%20%20%20%20%20%20%20%29%3B%0A%20%20%20%20%20%20%20%20%0A%20%20%20%20%0A%20%20%20%20%20%20%20%20%20%20%20%20var%20marker_6bbc6cf8c8f74aafac0060b198f53c14%20%3D%20L.marker%28%0A%20%20%20%20%20%20%20%20%20%20%20%20%20%20%20%20%5B-22.292%2C%20-51.906%5D%2C%0A%20%20%20%20%20%20%20%20%20%20%20%20%20%20%20%20%7B%7D%0A%20%20%20%20%20%20%20%20%20%20%20%20%29.addTo%28map_9816868a223e4fedaefc8dac49e0faf5%29%3B%0A%20%20%20%20%20%20%20%20%0A%20%20%20%20%0A%20%20%20%20%20%20%20%20%20%20%20%20var%20icon_255fd5c47532402db1e8a446590c3760%20%3D%20L.AwesomeMarkers.icon%28%0A%20%20%20%20%20%20%20%20%20%20%20%20%20%20%20%20%7B%22extraClasses%22%3A%20%22fa-rotate-0%22%2C%20%22icon%22%3A%20%22info-sign%22%2C%20%22iconColor%22%3A%20%22white%22%2C%20%22markerColor%22%3A%20%22red%22%2C%20%22prefix%22%3A%20%22glyphicon%22%7D%0A%20%20%20%20%20%20%20%20%20%20%20%20%29%3B%0A%20%20%20%20%20%20%20%20%20%20%20%20marker_6bbc6cf8c8f74aafac0060b198f53c14.setIcon%28icon_255fd5c47532402db1e8a446590c3760%29%3B%0A%20%20%20%20%20%20%20%20%0A%20%20%20%20%0A%20%20%20%20%20%20%20%20var%20popup_9c5bcb5e304749ee8e91f6166c2c3665%20%3D%20L.popup%28%7B%22maxWidth%22%3A%20%22100%25%22%7D%29%3B%0A%0A%20%20%20%20%20%20%20%20%0A%20%20%20%20%20%20%20%20%20%20%20%20var%20html_f10d5321412a40958fb509e8491524ec%20%3D%20%24%28%60%3Cdiv%20id%3D%22html_f10d5321412a40958fb509e8491524ec%22%20style%3D%22width%3A%20100.0%25%3B%20height%3A%20100.0%25%3B%22%3EA%20empresa%20IZAN%20INDUSTRIAL%20%28CNPJ%2049057710000187%29%2C%20relacionada%20ao%20PEP%20RADANOVIC%20ASCENCIANO%2C%20recebeu%20R%24%20137730.11%3C/div%3E%60%29%5B0%5D%3B%0A%20%20%20%20%20%20%20%20%20%20%20%20popup_9c5bcb5e304749ee8e91f6166c2c3665.setContent%28html_f10d5321412a40958fb509e8491524ec%29%3B%0A%20%20%20%20%20%20%20%20%0A%0A%20%20%20%20%20%20%20%20marker_6bbc6cf8c8f74aafac0060b198f53c14.bindPopup%28popup_9c5bcb5e304749ee8e91f6166c2c3665%29%0A%20%20%20%20%20%20%20%20%3B%0A%0A%20%20%20%20%20%20%20%20%0A%20%20%20%20%0A%20%20%20%20%0A%20%20%20%20%20%20%20%20%20%20%20%20marker_6bbc6cf8c8f74aafac0060b198f53c14.bindTooltip%28%0A%20%20%20%20%20%20%20%20%20%20%20%20%20%20%20%20%60%3Cdiv%3E%0A%20%20%20%20%20%20%20%20%20%20%20%20%20%20%20%20%20%20%20%20%20A%20empresa%20IZAN%20INDUSTRIAL%20%28CNPJ%2049057710000187%29%2C%20relacionada%20ao%20PEP%20RADANOVIC%20ASCENCIANO%2C%20recebeu%20R%24%20137730.11%0A%20%20%20%20%20%20%20%20%20%20%20%20%20%20%20%20%20%3C/div%3E%60%2C%0A%20%20%20%20%20%20%20%20%20%20%20%20%20%20%20%20%7B%22sticky%22%3A%20true%7D%0A%20%20%20%20%20%20%20%20%20%20%20%20%29%3B%0A%20%20%20%20%20%20%20%20%0A%20%20%20%20%0A%20%20%20%20%20%20%20%20%20%20%20%20var%20marker_89993399c213412fa17399b2fda73de0%20%3D%20L.marker%28%0A%20%20%20%20%20%20%20%20%20%20%20%20%20%20%20%20%5B-23.373%2C%20-48.184%5D%2C%0A%20%20%20%20%20%20%20%20%20%20%20%20%20%20%20%20%7B%7D%0A%20%20%20%20%20%20%20%20%20%20%20%20%29.addTo%28map_9816868a223e4fedaefc8dac49e0faf5%29%3B%0A%20%20%20%20%20%20%20%20%0A%20%20%20%20%0A%20%20%20%20%20%20%20%20%20%20%20%20var%20icon_6406502ebd8c42b0ab55d686876e1943%20%3D%20L.AwesomeMarkers.icon%28%0A%20%20%20%20%20%20%20%20%20%20%20%20%20%20%20%20%7B%22extraClasses%22%3A%20%22fa-rotate-0%22%2C%20%22icon%22%3A%20%22info-sign%22%2C%20%22iconColor%22%3A%20%22white%22%2C%20%22markerColor%22%3A%20%22red%22%2C%20%22prefix%22%3A%20%22glyphicon%22%7D%0A%20%20%20%20%20%20%20%20%20%20%20%20%29%3B%0A%20%20%20%20%20%20%20%20%20%20%20%20marker_89993399c213412fa17399b2fda73de0.setIcon%28icon_6406502ebd8c42b0ab55d686876e1943%29%3B%0A%20%20%20%20%20%20%20%20%0A%20%20%20%20%0A%20%20%20%20%20%20%20%20var%20popup_0d67806db8a34d999cdffa2ff3472f50%20%3D%20L.popup%28%7B%22maxWidth%22%3A%20%22100%25%22%7D%29%3B%0A%0A%20%20%20%20%20%20%20%20%0A%20%20%20%20%20%20%20%20%20%20%20%20var%20html_6a3db004995447d885574cb91ac1c79b%20%3D%20%24%28%60%3Cdiv%20id%3D%22html_6a3db004995447d885574cb91ac1c79b%22%20style%3D%22width%3A%20100.0%25%3B%20height%3A%20100.0%25%3B%22%3EA%20empresa%20MOMOKA%20ARTISTICAS%20LTDA%20%28CNPJ%2006273922000124%29%2C%20relacionada%20ao%20PEP%20GEOVANISA%20TERSINHA%20BERTASSONI%2C%20recebeu%20R%24%20139626.42%3C/div%3E%60%29%5B0%5D%3B%0A%20%20%20%20%20%20%20%20%20%20%20%20popup_0d67806db8a34d999cdffa2ff3472f50.setContent%28html_6a3db004995447d885574cb91ac1c79b%29%3B%0A%20%20%20%20%20%20%20%20%0A%0A%20%20%20%20%20%20%20%20marker_89993399c213412fa17399b2fda73de0.bindPopup%28popup_0d67806db8a34d999cdffa2ff3472f50%29%0A%20%20%20%20%20%20%20%20%3B%0A%0A%20%20%20%20%20%20%20%20%0A%20%20%20%20%0A%20%20%20%20%0A%20%20%20%20%20%20%20%20%20%20%20%20marker_89993399c213412fa17399b2fda73de0.bindTooltip%28%0A%20%20%20%20%20%20%20%20%20%20%20%20%20%20%20%20%60%3Cdiv%3E%0A%20%20%20%20%20%20%20%20%20%20%20%20%20%20%20%20%20%20%20%20%20A%20empresa%20MOMOKA%20ARTISTICAS%20LTDA%20%28CNPJ%2006273922000124%29%2C%20relacionada%20ao%20PEP%20GEOVANISA%20TERSINHA%20BERTASSONI%2C%20recebeu%20R%24%20139626.42%0A%20%20%20%20%20%20%20%20%20%20%20%20%20%20%20%20%20%3C/div%3E%60%2C%0A%20%20%20%20%20%20%20%20%20%20%20%20%20%20%20%20%7B%22sticky%22%3A%20true%7D%0A%20%20%20%20%20%20%20%20%20%20%20%20%29%3B%0A%20%20%20%20%20%20%20%20%0A%20%20%20%20%0A%20%20%20%20%20%20%20%20%20%20%20%20var%20marker_9676314df972454086382a0725de5dd3%20%3D%20L.marker%28%0A%20%20%20%20%20%20%20%20%20%20%20%20%20%20%20%20%5B-23.201%2C%20-47.287%5D%2C%0A%20%20%20%20%20%20%20%20%20%20%20%20%20%20%20%20%7B%7D%0A%20%20%20%20%20%20%20%20%20%20%20%20%29.addTo%28map_9816868a223e4fedaefc8dac49e0faf5%29%3B%0A%20%20%20%20%20%20%20%20%0A%20%20%20%20%0A%20%20%20%20%20%20%20%20%20%20%20%20var%20icon_4353f94075c74730adb0f060984d28ff%20%3D%20L.AwesomeMarkers.icon%28%0A%20%20%20%20%20%20%20%20%20%20%20%20%20%20%20%20%7B%22extraClasses%22%3A%20%22fa-rotate-0%22%2C%20%22icon%22%3A%20%22info-sign%22%2C%20%22iconColor%22%3A%20%22white%22%2C%20%22markerColor%22%3A%20%22red%22%2C%20%22prefix%22%3A%20%22glyphicon%22%7D%0A%20%20%20%20%20%20%20%20%20%20%20%20%29%3B%0A%20%20%20%20%20%20%20%20%20%20%20%20marker_9676314df972454086382a0725de5dd3.setIcon%28icon_4353f94075c74730adb0f060984d28ff%29%3B%0A%20%20%20%20%20%20%20%20%0A%20%20%20%20%0A%20%20%20%20%20%20%20%20var%20popup_637fd186fbb94baea54447117cfc26d6%20%3D%20L.popup%28%7B%22maxWidth%22%3A%20%22100%25%22%7D%29%3B%0A%0A%20%20%20%20%20%20%20%20%0A%20%20%20%20%20%20%20%20%20%20%20%20var%20html_7c732007e2174944a45ada576275af51%20%3D%20%24%28%60%3Cdiv%20id%3D%22html_7c732007e2174944a45ada576275af51%22%20style%3D%22width%3A%20100.0%25%3B%20height%3A%20100.0%25%3B%22%3EA%20empresa%20MARIUS%20CONTABIL%20EIRELLI%20%28CNPJ%2008262075000137%29%2C%20relacionada%20ao%20PEP%20GOSSON%20LEGNANNE%20GONDOREK%2C%20recebeu%20R%24%20135193.38%3C/div%3E%60%29%5B0%5D%3B%0A%20%20%20%20%20%20%20%20%20%20%20%20popup_637fd186fbb94baea54447117cfc26d6.setContent%28html_7c732007e2174944a45ada576275af51%29%3B%0A%20%20%20%20%20%20%20%20%0A%0A%20%20%20%20%20%20%20%20marker_9676314df972454086382a0725de5dd3.bindPopup%28popup_637fd186fbb94baea54447117cfc26d6%29%0A%20%20%20%20%20%20%20%20%3B%0A%0A%20%20%20%20%20%20%20%20%0A%20%20%20%20%0A%20%20%20%20%0A%20%20%20%20%20%20%20%20%20%20%20%20marker_9676314df972454086382a0725de5dd3.bindTooltip%28%0A%20%20%20%20%20%20%20%20%20%20%20%20%20%20%20%20%60%3Cdiv%3E%0A%20%20%20%20%20%20%20%20%20%20%20%20%20%20%20%20%20%20%20%20%20A%20empresa%20MARIUS%20CONTABIL%20EIRELLI%20%28CNPJ%2008262075000137%29%2C%20relacionada%20ao%20PEP%20GOSSON%20LEGNANNE%20GONDOREK%2C%20recebeu%20R%24%20135193.38%0A%20%20%20%20%20%20%20%20%20%20%20%20%20%20%20%20%20%3C/div%3E%60%2C%0A%20%20%20%20%20%20%20%20%20%20%20%20%20%20%20%20%7B%22sticky%22%3A%20true%7D%0A%20%20%20%20%20%20%20%20%20%20%20%20%29%3B%0A%20%20%20%20%20%20%20%20%0A%20%20%20%20%0A%20%20%20%20%20%20%20%20%20%20%20%20var%20marker_23a6a76100df4b08be4bfacc549e6c61%20%3D%20L.marker%28%0A%20%20%20%20%20%20%20%20%20%20%20%20%20%20%20%20%5B-22.303%2C%20-51.559%5D%2C%0A%20%20%20%20%20%20%20%20%20%20%20%20%20%20%20%20%7B%7D%0A%20%20%20%20%20%20%20%20%20%20%20%20%29.addTo%28map_9816868a223e4fedaefc8dac49e0faf5%29%3B%0A%20%20%20%20%20%20%20%20%0A%20%20%20%20%0A%20%20%20%20%20%20%20%20%20%20%20%20var%20icon_e947cd24c24d461cb201345e50529e69%20%3D%20L.AwesomeMarkers.icon%28%0A%20%20%20%20%20%20%20%20%20%20%20%20%20%20%20%20%7B%22extraClasses%22%3A%20%22fa-rotate-0%22%2C%20%22icon%22%3A%20%22info-sign%22%2C%20%22iconColor%22%3A%20%22white%22%2C%20%22markerColor%22%3A%20%22red%22%2C%20%22prefix%22%3A%20%22glyphicon%22%7D%0A%20%20%20%20%20%20%20%20%20%20%20%20%29%3B%0A%20%20%20%20%20%20%20%20%20%20%20%20marker_23a6a76100df4b08be4bfacc549e6c61.setIcon%28icon_e947cd24c24d461cb201345e50529e69%29%3B%0A%20%20%20%20%20%20%20%20%0A%20%20%20%20%0A%20%20%20%20%20%20%20%20var%20popup_829687c2a1884612ad410dc27d5fa998%20%3D%20L.popup%28%7B%22maxWidth%22%3A%20%22100%25%22%7D%29%3B%0A%0A%20%20%20%20%20%20%20%20%0A%20%20%20%20%20%20%20%20%20%20%20%20var%20html_8f471538029549ac8490a5c4507930b0%20%3D%20%24%28%60%3Cdiv%20id%3D%22html_8f471538029549ac8490a5c4507930b0%22%20style%3D%22width%3A%20100.0%25%3B%20height%3A%20100.0%25%3B%22%3EA%20empresa%20JOAO%20LUCAS%20ELETRONICOS%20SA%20%28CNPJ%2010240793000137%29%2C%20relacionada%20ao%20PEP%20CAUME%20UNAIDE%20ABASILIA%20PHREDERICO%20ZIELAK%2C%20recebeu%20R%24%20140473.55%3C/div%3E%60%29%5B0%5D%3B%0A%20%20%20%20%20%20%20%20%20%20%20%20popup_829687c2a1884612ad410dc27d5fa998.setContent%28html_8f471538029549ac8490a5c4507930b0%29%3B%0A%20%20%20%20%20%20%20%20%0A%0A%20%20%20%20%20%20%20%20marker_23a6a76100df4b08be4bfacc549e6c61.bindPopup%28popup_829687c2a1884612ad410dc27d5fa998%29%0A%20%20%20%20%20%20%20%20%3B%0A%0A%20%20%20%20%20%20%20%20%0A%20%20%20%20%0A%20%20%20%20%0A%20%20%20%20%20%20%20%20%20%20%20%20marker_23a6a76100df4b08be4bfacc549e6c61.bindTooltip%28%0A%20%20%20%20%20%20%20%20%20%20%20%20%20%20%20%20%60%3Cdiv%3E%0A%20%20%20%20%20%20%20%20%20%20%20%20%20%20%20%20%20%20%20%20%20A%20empresa%20JOAO%20LUCAS%20ELETRONICOS%20SA%20%28CNPJ%2010240793000137%29%2C%20relacionada%20ao%20PEP%20CAUME%20UNAIDE%20ABASILIA%20PHREDERICO%20ZIELAK%2C%20recebeu%20R%24%20140473.55%0A%20%20%20%20%20%20%20%20%20%20%20%20%20%20%20%20%20%3C/div%3E%60%2C%0A%20%20%20%20%20%20%20%20%20%20%20%20%20%20%20%20%7B%22sticky%22%3A%20true%7D%0A%20%20%20%20%20%20%20%20%20%20%20%20%29%3B%0A%20%20%20%20%20%20%20%20%0A%20%20%20%20%0A%20%20%20%20%20%20%20%20%20%20%20%20var%20marker_2175058f5eb941bbac26fc570d519ef2%20%3D%20L.marker%28%0A%20%20%20%20%20%20%20%20%20%20%20%20%20%20%20%20%5B-20.032%2C%20-50.728%5D%2C%0A%20%20%20%20%20%20%20%20%20%20%20%20%20%20%20%20%7B%7D%0A%20%20%20%20%20%20%20%20%20%20%20%20%29.addTo%28map_9816868a223e4fedaefc8dac49e0faf5%29%3B%0A%20%20%20%20%20%20%20%20%0A%20%20%20%20%0A%20%20%20%20%20%20%20%20%20%20%20%20var%20icon_8e7f778203874e11acd35d1a06dec9bd%20%3D%20L.AwesomeMarkers.icon%28%0A%20%20%20%20%20%20%20%20%20%20%20%20%20%20%20%20%7B%22extraClasses%22%3A%20%22fa-rotate-0%22%2C%20%22icon%22%3A%20%22info-sign%22%2C%20%22iconColor%22%3A%20%22white%22%2C%20%22markerColor%22%3A%20%22red%22%2C%20%22prefix%22%3A%20%22glyphicon%22%7D%0A%20%20%20%20%20%20%20%20%20%20%20%20%29%3B%0A%20%20%20%20%20%20%20%20%20%20%20%20marker_2175058f5eb941bbac26fc570d519ef2.setIcon%28icon_8e7f778203874e11acd35d1a06dec9bd%29%3B%0A%20%20%20%20%20%20%20%20%0A%20%20%20%20%0A%20%20%20%20%20%20%20%20var%20popup_3c98803e37004408ac359d6a731ea398%20%3D%20L.popup%28%7B%22maxWidth%22%3A%20%22100%25%22%7D%29%3B%0A%0A%20%20%20%20%20%20%20%20%0A%20%20%20%20%20%20%20%20%20%20%20%20var%20html_f2a93aa10a8d4bfe97d71ba659088fdc%20%3D%20%24%28%60%3Cdiv%20id%3D%22html_f2a93aa10a8d4bfe97d71ba659088fdc%22%20style%3D%22width%3A%20100.0%25%3B%20height%3A%20100.0%25%3B%22%3EA%20empresa%20MOMOKA%20ARTISTICAS%20LTDA%20%28CNPJ%2006273922000124%29%2C%20relacionada%20ao%20PEP%20GEOVANISA%20TERSINHA%20BERTASSONI%2C%20recebeu%20R%24%20141497.58%3C/div%3E%60%29%5B0%5D%3B%0A%20%20%20%20%20%20%20%20%20%20%20%20popup_3c98803e37004408ac359d6a731ea398.setContent%28html_f2a93aa10a8d4bfe97d71ba659088fdc%29%3B%0A%20%20%20%20%20%20%20%20%0A%0A%20%20%20%20%20%20%20%20marker_2175058f5eb941bbac26fc570d519ef2.bindPopup%28popup_3c98803e37004408ac359d6a731ea398%29%0A%20%20%20%20%20%20%20%20%3B%0A%0A%20%20%20%20%20%20%20%20%0A%20%20%20%20%0A%20%20%20%20%0A%20%20%20%20%20%20%20%20%20%20%20%20marker_2175058f5eb941bbac26fc570d519ef2.bindTooltip%28%0A%20%20%20%20%20%20%20%20%20%20%20%20%20%20%20%20%60%3Cdiv%3E%0A%20%20%20%20%20%20%20%20%20%20%20%20%20%20%20%20%20%20%20%20%20A%20empresa%20MOMOKA%20ARTISTICAS%20LTDA%20%28CNPJ%2006273922000124%29%2C%20relacionada%20ao%20PEP%20GEOVANISA%20TERSINHA%20BERTASSONI%2C%20recebeu%20R%24%20141497.58%0A%20%20%20%20%20%20%20%20%20%20%20%20%20%20%20%20%20%3C/div%3E%60%2C%0A%20%20%20%20%20%20%20%20%20%20%20%20%20%20%20%20%7B%22sticky%22%3A%20true%7D%0A%20%20%20%20%20%20%20%20%20%20%20%20%29%3B%0A%20%20%20%20%20%20%20%20%0A%20%20%20%20%0A%20%20%20%20%20%20%20%20%20%20%20%20var%20marker_43d554bd4b65446281dbb52f85541e1b%20%3D%20L.marker%28%0A%20%20%20%20%20%20%20%20%20%20%20%20%20%20%20%20%5B-21.483%2C%20-51.533%5D%2C%0A%20%20%20%20%20%20%20%20%20%20%20%20%20%20%20%20%7B%7D%0A%20%20%20%20%20%20%20%20%20%20%20%20%29.addTo%28map_9816868a223e4fedaefc8dac49e0faf5%29%3B%0A%20%20%20%20%20%20%20%20%0A%20%20%20%20%0A%20%20%20%20%20%20%20%20%20%20%20%20var%20icon_3fa00a0258234dc08b57c3be45e01cbf%20%3D%20L.AwesomeMarkers.icon%28%0A%20%20%20%20%20%20%20%20%20%20%20%20%20%20%20%20%7B%22extraClasses%22%3A%20%22fa-rotate-0%22%2C%20%22icon%22%3A%20%22info-sign%22%2C%20%22iconColor%22%3A%20%22white%22%2C%20%22markerColor%22%3A%20%22red%22%2C%20%22prefix%22%3A%20%22glyphicon%22%7D%0A%20%20%20%20%20%20%20%20%20%20%20%20%29%3B%0A%20%20%20%20%20%20%20%20%20%20%20%20marker_43d554bd4b65446281dbb52f85541e1b.setIcon%28icon_3fa00a0258234dc08b57c3be45e01cbf%29%3B%0A%20%20%20%20%20%20%20%20%0A%20%20%20%20%0A%20%20%20%20%20%20%20%20var%20popup_94770a57397b49648b47bf925edda08a%20%3D%20L.popup%28%7B%22maxWidth%22%3A%20%22100%25%22%7D%29%3B%0A%0A%20%20%20%20%20%20%20%20%0A%20%20%20%20%20%20%20%20%20%20%20%20var%20html_39522ae44b6b435387682e6d5d004cdb%20%3D%20%24%28%60%3Cdiv%20id%3D%22html_39522ae44b6b435387682e6d5d004cdb%22%20style%3D%22width%3A%20100.0%25%3B%20height%3A%20100.0%25%3B%22%3EA%20empresa%20JOAO%20LUCAS%20ELETRONICOS%20SA%20%28CNPJ%2010240793000137%29%2C%20relacionada%20ao%20PEP%20CAUME%20UNAIDE%20ABASILIA%20PHREDERICO%20ZIELAK%2C%20recebeu%20R%24%20135392.02%3C/div%3E%60%29%5B0%5D%3B%0A%20%20%20%20%20%20%20%20%20%20%20%20popup_94770a57397b49648b47bf925edda08a.setContent%28html_39522ae44b6b435387682e6d5d004cdb%29%3B%0A%20%20%20%20%20%20%20%20%0A%0A%20%20%20%20%20%20%20%20marker_43d554bd4b65446281dbb52f85541e1b.bindPopup%28popup_94770a57397b49648b47bf925edda08a%29%0A%20%20%20%20%20%20%20%20%3B%0A%0A%20%20%20%20%20%20%20%20%0A%20%20%20%20%0A%20%20%20%20%0A%20%20%20%20%20%20%20%20%20%20%20%20marker_43d554bd4b65446281dbb52f85541e1b.bindTooltip%28%0A%20%20%20%20%20%20%20%20%20%20%20%20%20%20%20%20%60%3Cdiv%3E%0A%20%20%20%20%20%20%20%20%20%20%20%20%20%20%20%20%20%20%20%20%20A%20empresa%20JOAO%20LUCAS%20ELETRONICOS%20SA%20%28CNPJ%2010240793000137%29%2C%20relacionada%20ao%20PEP%20CAUME%20UNAIDE%20ABASILIA%20PHREDERICO%20ZIELAK%2C%20recebeu%20R%24%20135392.02%0A%20%20%20%20%20%20%20%20%20%20%20%20%20%20%20%20%20%3C/div%3E%60%2C%0A%20%20%20%20%20%20%20%20%20%20%20%20%20%20%20%20%7B%22sticky%22%3A%20true%7D%0A%20%20%20%20%20%20%20%20%20%20%20%20%29%3B%0A%20%20%20%20%20%20%20%20%0A%20%20%20%20%0A%20%20%20%20%20%20%20%20%20%20%20%20var%20marker_d958d6a377c34eb7a13b1f2146ca0481%20%3D%20L.marker%28%0A%20%20%20%20%20%20%20%20%20%20%20%20%20%20%20%20%5B-21.468%2C%20-47.005%5D%2C%0A%20%20%20%20%20%20%20%20%20%20%20%20%20%20%20%20%7B%7D%0A%20%20%20%20%20%20%20%20%20%20%20%20%29.addTo%28map_9816868a223e4fedaefc8dac49e0faf5%29%3B%0A%20%20%20%20%20%20%20%20%0A%20%20%20%20%0A%20%20%20%20%20%20%20%20%20%20%20%20var%20icon_a454d6147e7e447faaa026ac743ffc7d%20%3D%20L.AwesomeMarkers.icon%28%0A%20%20%20%20%20%20%20%20%20%20%20%20%20%20%20%20%7B%22extraClasses%22%3A%20%22fa-rotate-0%22%2C%20%22icon%22%3A%20%22info-sign%22%2C%20%22iconColor%22%3A%20%22white%22%2C%20%22markerColor%22%3A%20%22red%22%2C%20%22prefix%22%3A%20%22glyphicon%22%7D%0A%20%20%20%20%20%20%20%20%20%20%20%20%29%3B%0A%20%20%20%20%20%20%20%20%20%20%20%20marker_d958d6a377c34eb7a13b1f2146ca0481.setIcon%28icon_a454d6147e7e447faaa026ac743ffc7d%29%3B%0A%20%20%20%20%20%20%20%20%0A%20%20%20%20%0A%20%20%20%20%20%20%20%20var%20popup_a76d43c78b42476488f3059816385e71%20%3D%20L.popup%28%7B%22maxWidth%22%3A%20%22100%25%22%7D%29%3B%0A%0A%20%20%20%20%20%20%20%20%0A%20%20%20%20%20%20%20%20%20%20%20%20var%20html_9aa23cd3fd574edbb6f948ea8c9a80c8%20%3D%20%24%28%60%3Cdiv%20id%3D%22html_9aa23cd3fd574edbb6f948ea8c9a80c8%22%20style%3D%22width%3A%20100.0%25%3B%20height%3A%20100.0%25%3B%22%3EA%20empresa%20MOMOKA%20ARTISTICAS%20LTDA%20%28CNPJ%2006273922000124%29%2C%20relacionada%20ao%20PEP%20GEOVANISA%20TERSINHA%20BERTASSONI%2C%20recebeu%20R%24%20126743.63%3C/div%3E%60%29%5B0%5D%3B%0A%20%20%20%20%20%20%20%20%20%20%20%20popup_a76d43c78b42476488f3059816385e71.setContent%28html_9aa23cd3fd574edbb6f948ea8c9a80c8%29%3B%0A%20%20%20%20%20%20%20%20%0A%0A%20%20%20%20%20%20%20%20marker_d958d6a377c34eb7a13b1f2146ca0481.bindPopup%28popup_a76d43c78b42476488f3059816385e71%29%0A%20%20%20%20%20%20%20%20%3B%0A%0A%20%20%20%20%20%20%20%20%0A%20%20%20%20%0A%20%20%20%20%0A%20%20%20%20%20%20%20%20%20%20%20%20marker_d958d6a377c34eb7a13b1f2146ca0481.bindTooltip%28%0A%20%20%20%20%20%20%20%20%20%20%20%20%20%20%20%20%60%3Cdiv%3E%0A%20%20%20%20%20%20%20%20%20%20%20%20%20%20%20%20%20%20%20%20%20A%20empresa%20MOMOKA%20ARTISTICAS%20LTDA%20%28CNPJ%2006273922000124%29%2C%20relacionada%20ao%20PEP%20GEOVANISA%20TERSINHA%20BERTASSONI%2C%20recebeu%20R%24%20126743.63%0A%20%20%20%20%20%20%20%20%20%20%20%20%20%20%20%20%20%3C/div%3E%60%2C%0A%20%20%20%20%20%20%20%20%20%20%20%20%20%20%20%20%7B%22sticky%22%3A%20true%7D%0A%20%20%20%20%20%20%20%20%20%20%20%20%29%3B%0A%20%20%20%20%20%20%20%20%0A%20%20%20%20%0A%20%20%20%20%20%20%20%20%20%20%20%20var%20marker_fffcee1f776a4cbfa7a3a497a5619af3%20%3D%20L.marker%28%0A%20%20%20%20%20%20%20%20%20%20%20%20%20%20%20%20%5B-24.509%2C%20-48.843%5D%2C%0A%20%20%20%20%20%20%20%20%20%20%20%20%20%20%20%20%7B%7D%0A%20%20%20%20%20%20%20%20%20%20%20%20%29.addTo%28map_9816868a223e4fedaefc8dac49e0faf5%29%3B%0A%20%20%20%20%20%20%20%20%0A%20%20%20%20%0A%20%20%20%20%20%20%20%20%20%20%20%20var%20icon_cfbf9c84f9be48f1ae0334901db6ee0a%20%3D%20L.AwesomeMarkers.icon%28%0A%20%20%20%20%20%20%20%20%20%20%20%20%20%20%20%20%7B%22extraClasses%22%3A%20%22fa-rotate-0%22%2C%20%22icon%22%3A%20%22info-sign%22%2C%20%22iconColor%22%3A%20%22white%22%2C%20%22markerColor%22%3A%20%22red%22%2C%20%22prefix%22%3A%20%22glyphicon%22%7D%0A%20%20%20%20%20%20%20%20%20%20%20%20%29%3B%0A%20%20%20%20%20%20%20%20%20%20%20%20marker_fffcee1f776a4cbfa7a3a497a5619af3.setIcon%28icon_cfbf9c84f9be48f1ae0334901db6ee0a%29%3B%0A%20%20%20%20%20%20%20%20%0A%20%20%20%20%0A%20%20%20%20%20%20%20%20var%20popup_bffe30b10f0a43a888b6640318fd9a77%20%3D%20L.popup%28%7B%22maxWidth%22%3A%20%22100%25%22%7D%29%3B%0A%0A%20%20%20%20%20%20%20%20%0A%20%20%20%20%20%20%20%20%20%20%20%20var%20html_0931d6acfd6b44ba820b5c9bbbc75937%20%3D%20%24%28%60%3Cdiv%20id%3D%22html_0931d6acfd6b44ba820b5c9bbbc75937%22%20style%3D%22width%3A%20100.0%25%3B%20height%3A%20100.0%25%3B%22%3EA%20empresa%20IBAI%20VESTUARIO%20%28CNPJ%2049524688000199%29%2C%20relacionada%20ao%20PEP%20JAIME%20BONAVOGLIA%20DA%20TEVEIRA%2C%20recebeu%20R%24%20120062.11%3C/div%3E%60%29%5B0%5D%3B%0A%20%20%20%20%20%20%20%20%20%20%20%20popup_bffe30b10f0a43a888b6640318fd9a77.setContent%28html_0931d6acfd6b44ba820b5c9bbbc75937%29%3B%0A%20%20%20%20%20%20%20%20%0A%0A%20%20%20%20%20%20%20%20marker_fffcee1f776a4cbfa7a3a497a5619af3.bindPopup%28popup_bffe30b10f0a43a888b6640318fd9a77%29%0A%20%20%20%20%20%20%20%20%3B%0A%0A%20%20%20%20%20%20%20%20%0A%20%20%20%20%0A%20%20%20%20%0A%20%20%20%20%20%20%20%20%20%20%20%20marker_fffcee1f776a4cbfa7a3a497a5619af3.bindTooltip%28%0A%20%20%20%20%20%20%20%20%20%20%20%20%20%20%20%20%60%3Cdiv%3E%0A%20%20%20%20%20%20%20%20%20%20%20%20%20%20%20%20%20%20%20%20%20A%20empresa%20IBAI%20VESTUARIO%20%28CNPJ%2049524688000199%29%2C%20relacionada%20ao%20PEP%20JAIME%20BONAVOGLIA%20DA%20TEVEIRA%2C%20recebeu%20R%24%20120062.11%0A%20%20%20%20%20%20%20%20%20%20%20%20%20%20%20%20%20%3C/div%3E%60%2C%0A%20%20%20%20%20%20%20%20%20%20%20%20%20%20%20%20%7B%22sticky%22%3A%20true%7D%0A%20%20%20%20%20%20%20%20%20%20%20%20%29%3B%0A%20%20%20%20%20%20%20%20%0A%20%20%20%20%0A%20%20%20%20%20%20%20%20%20%20%20%20var%20marker_a26df64e91154e2d9e99bbc50071e4f6%20%3D%20L.marker%28%0A%20%20%20%20%20%20%20%20%20%20%20%20%20%20%20%20%5B-24.509%2C%20-48.843%5D%2C%0A%20%20%20%20%20%20%20%20%20%20%20%20%20%20%20%20%7B%7D%0A%20%20%20%20%20%20%20%20%20%20%20%20%29.addTo%28map_9816868a223e4fedaefc8dac49e0faf5%29%3B%0A%20%20%20%20%20%20%20%20%0A%20%20%20%20%0A%20%20%20%20%20%20%20%20%20%20%20%20var%20icon_c35901b3b057499f8ae9091b6379fc8f%20%3D%20L.AwesomeMarkers.icon%28%0A%20%20%20%20%20%20%20%20%20%20%20%20%20%20%20%20%7B%22extraClasses%22%3A%20%22fa-rotate-0%22%2C%20%22icon%22%3A%20%22info-sign%22%2C%20%22iconColor%22%3A%20%22white%22%2C%20%22markerColor%22%3A%20%22red%22%2C%20%22prefix%22%3A%20%22glyphicon%22%7D%0A%20%20%20%20%20%20%20%20%20%20%20%20%29%3B%0A%20%20%20%20%20%20%20%20%20%20%20%20marker_a26df64e91154e2d9e99bbc50071e4f6.setIcon%28icon_c35901b3b057499f8ae9091b6379fc8f%29%3B%0A%20%20%20%20%20%20%20%20%0A%20%20%20%20%0A%20%20%20%20%20%20%20%20var%20popup_c8114d444d8c4a348f1fc6a9c0be7d96%20%3D%20L.popup%28%7B%22maxWidth%22%3A%20%22100%25%22%7D%29%3B%0A%0A%20%20%20%20%20%20%20%20%0A%20%20%20%20%20%20%20%20%20%20%20%20var%20html_11e2efb7f7174ad589597e3179f11533%20%3D%20%24%28%60%3Cdiv%20id%3D%22html_11e2efb7f7174ad589597e3179f11533%22%20style%3D%22width%3A%20100.0%25%3B%20height%3A%20100.0%25%3B%22%3EA%20empresa%20IBAI%20VESTUARIO%20%28CNPJ%2049524688000199%29%2C%20relacionada%20ao%20PEP%20LUZENICE%20LANUZIA%20DE%20PALKOSKI%2C%20recebeu%20R%24%20120062.11%3C/div%3E%60%29%5B0%5D%3B%0A%20%20%20%20%20%20%20%20%20%20%20%20popup_c8114d444d8c4a348f1fc6a9c0be7d96.setContent%28html_11e2efb7f7174ad589597e3179f11533%29%3B%0A%20%20%20%20%20%20%20%20%0A%0A%20%20%20%20%20%20%20%20marker_a26df64e91154e2d9e99bbc50071e4f6.bindPopup%28popup_c8114d444d8c4a348f1fc6a9c0be7d96%29%0A%20%20%20%20%20%20%20%20%3B%0A%0A%20%20%20%20%20%20%20%20%0A%20%20%20%20%0A%20%20%20%20%0A%20%20%20%20%20%20%20%20%20%20%20%20marker_a26df64e91154e2d9e99bbc50071e4f6.bindTooltip%28%0A%20%20%20%20%20%20%20%20%20%20%20%20%20%20%20%20%60%3Cdiv%3E%0A%20%20%20%20%20%20%20%20%20%20%20%20%20%20%20%20%20%20%20%20%20A%20empresa%20IBAI%20VESTUARIO%20%28CNPJ%2049524688000199%29%2C%20relacionada%20ao%20PEP%20LUZENICE%20LANUZIA%20DE%20PALKOSKI%2C%20recebeu%20R%24%20120062.11%0A%20%20%20%20%20%20%20%20%20%20%20%20%20%20%20%20%20%3C/div%3E%60%2C%0A%20%20%20%20%20%20%20%20%20%20%20%20%20%20%20%20%7B%22sticky%22%3A%20true%7D%0A%20%20%20%20%20%20%20%20%20%20%20%20%29%3B%0A%20%20%20%20%20%20%20%20%0A%20%20%20%20%0A%20%20%20%20%20%20%20%20%20%20%20%20var%20marker_f683e95d65184dac96f793d3daca6f9c%20%3D%20L.marker%28%0A%20%20%20%20%20%20%20%20%20%20%20%20%20%20%20%20%5B-24.509%2C%20-48.843%5D%2C%0A%20%20%20%20%20%20%20%20%20%20%20%20%20%20%20%20%7B%7D%0A%20%20%20%20%20%20%20%20%20%20%20%20%29.addTo%28map_9816868a223e4fedaefc8dac49e0faf5%29%3B%0A%20%20%20%20%20%20%20%20%0A%20%20%20%20%0A%20%20%20%20%20%20%20%20%20%20%20%20var%20icon_d5facc9bcbb44c6ca0e8a5ae62dc0747%20%3D%20L.AwesomeMarkers.icon%28%0A%20%20%20%20%20%20%20%20%20%20%20%20%20%20%20%20%7B%22extraClasses%22%3A%20%22fa-rotate-0%22%2C%20%22icon%22%3A%20%22info-sign%22%2C%20%22iconColor%22%3A%20%22white%22%2C%20%22markerColor%22%3A%20%22red%22%2C%20%22prefix%22%3A%20%22glyphicon%22%7D%0A%20%20%20%20%20%20%20%20%20%20%20%20%29%3B%0A%20%20%20%20%20%20%20%20%20%20%20%20marker_f683e95d65184dac96f793d3daca6f9c.setIcon%28icon_d5facc9bcbb44c6ca0e8a5ae62dc0747%29%3B%0A%20%20%20%20%20%20%20%20%0A%20%20%20%20%0A%20%20%20%20%20%20%20%20var%20popup_67145ccee2524c8a8e68c93225c4390b%20%3D%20L.popup%28%7B%22maxWidth%22%3A%20%22100%25%22%7D%29%3B%0A%0A%20%20%20%20%20%20%20%20%0A%20%20%20%20%20%20%20%20%20%20%20%20var%20html_8fc4453c60a44540ba843c4a829c80fa%20%3D%20%24%28%60%3Cdiv%20id%3D%22html_8fc4453c60a44540ba843c4a829c80fa%22%20style%3D%22width%3A%20100.0%25%3B%20height%3A%20100.0%25%3B%22%3EA%20empresa%20IBAI%20VESTUARIO%20%28CNPJ%2049524688000199%29%2C%20relacionada%20ao%20PEP%20SAVIOLO%20LUYTEN%20SMERIERI%2C%20recebeu%20R%24%20120062.11%3C/div%3E%60%29%5B0%5D%3B%0A%20%20%20%20%20%20%20%20%20%20%20%20popup_67145ccee2524c8a8e68c93225c4390b.setContent%28html_8fc4453c60a44540ba843c4a829c80fa%29%3B%0A%20%20%20%20%20%20%20%20%0A%0A%20%20%20%20%20%20%20%20marker_f683e95d65184dac96f793d3daca6f9c.bindPopup%28popup_67145ccee2524c8a8e68c93225c4390b%29%0A%20%20%20%20%20%20%20%20%3B%0A%0A%20%20%20%20%20%20%20%20%0A%20%20%20%20%0A%20%20%20%20%0A%20%20%20%20%20%20%20%20%20%20%20%20marker_f683e95d65184dac96f793d3daca6f9c.bindTooltip%28%0A%20%20%20%20%20%20%20%20%20%20%20%20%20%20%20%20%60%3Cdiv%3E%0A%20%20%20%20%20%20%20%20%20%20%20%20%20%20%20%20%20%20%20%20%20A%20empresa%20IBAI%20VESTUARIO%20%28CNPJ%2049524688000199%29%2C%20relacionada%20ao%20PEP%20SAVIOLO%20LUYTEN%20SMERIERI%2C%20recebeu%20R%24%20120062.11%0A%20%20%20%20%20%20%20%20%20%20%20%20%20%20%20%20%20%3C/div%3E%60%2C%0A%20%20%20%20%20%20%20%20%20%20%20%20%20%20%20%20%7B%22sticky%22%3A%20true%7D%0A%20%20%20%20%20%20%20%20%20%20%20%20%29%3B%0A%20%20%20%20%20%20%20%20%0A%20%20%20%20%0A%20%20%20%20%20%20%20%20%20%20%20%20var%20marker_8a7b5a572fdd4e8e97bbd43f65bf16a4%20%3D%20L.marker%28%0A%20%20%20%20%20%20%20%20%20%20%20%20%20%20%20%20%5B-22.603%2C%20-50.003%5D%2C%0A%20%20%20%20%20%20%20%20%20%20%20%20%20%20%20%20%7B%7D%0A%20%20%20%20%20%20%20%20%20%20%20%20%29.addTo%28map_9816868a223e4fedaefc8dac49e0faf5%29%3B%0A%20%20%20%20%20%20%20%20%0A%20%20%20%20%0A%20%20%20%20%20%20%20%20%20%20%20%20var%20icon_281aa19b180e47f7b39eec39af9b5b1f%20%3D%20L.AwesomeMarkers.icon%28%0A%20%20%20%20%20%20%20%20%20%20%20%20%20%20%20%20%7B%22extraClasses%22%3A%20%22fa-rotate-0%22%2C%20%22icon%22%3A%20%22info-sign%22%2C%20%22iconColor%22%3A%20%22white%22%2C%20%22markerColor%22%3A%20%22red%22%2C%20%22prefix%22%3A%20%22glyphicon%22%7D%0A%20%20%20%20%20%20%20%20%20%20%20%20%29%3B%0A%20%20%20%20%20%20%20%20%20%20%20%20marker_8a7b5a572fdd4e8e97bbd43f65bf16a4.setIcon%28icon_281aa19b180e47f7b39eec39af9b5b1f%29%3B%0A%20%20%20%20%20%20%20%20%0A%20%20%20%20%0A%20%20%20%20%20%20%20%20var%20popup_822f2b7638e142e593b85aafdb092ea8%20%3D%20L.popup%28%7B%22maxWidth%22%3A%20%22100%25%22%7D%29%3B%0A%0A%20%20%20%20%20%20%20%20%0A%20%20%20%20%20%20%20%20%20%20%20%20var%20html_92872ed378964a868a311fce4539ef60%20%3D%20%24%28%60%3Cdiv%20id%3D%22html_92872ed378964a868a311fce4539ef60%22%20style%3D%22width%3A%20100.0%25%3B%20height%3A%20100.0%25%3B%22%3EA%20empresa%20JOAO%20LUCAS%20ELETRONICOS%20SA%20%28CNPJ%2010240793000137%29%2C%20relacionada%20ao%20PEP%20CAUME%20UNAIDE%20ABASILIA%20PHREDERICO%20ZIELAK%2C%20recebeu%20R%24%20122131.48%3C/div%3E%60%29%5B0%5D%3B%0A%20%20%20%20%20%20%20%20%20%20%20%20popup_822f2b7638e142e593b85aafdb092ea8.setContent%28html_92872ed378964a868a311fce4539ef60%29%3B%0A%20%20%20%20%20%20%20%20%0A%0A%20%20%20%20%20%20%20%20marker_8a7b5a572fdd4e8e97bbd43f65bf16a4.bindPopup%28popup_822f2b7638e142e593b85aafdb092ea8%29%0A%20%20%20%20%20%20%20%20%3B%0A%0A%20%20%20%20%20%20%20%20%0A%20%20%20%20%0A%20%20%20%20%0A%20%20%20%20%20%20%20%20%20%20%20%20marker_8a7b5a572fdd4e8e97bbd43f65bf16a4.bindTooltip%28%0A%20%20%20%20%20%20%20%20%20%20%20%20%20%20%20%20%60%3Cdiv%3E%0A%20%20%20%20%20%20%20%20%20%20%20%20%20%20%20%20%20%20%20%20%20A%20empresa%20JOAO%20LUCAS%20ELETRONICOS%20SA%20%28CNPJ%2010240793000137%29%2C%20relacionada%20ao%20PEP%20CAUME%20UNAIDE%20ABASILIA%20PHREDERICO%20ZIELAK%2C%20recebeu%20R%24%20122131.48%0A%20%20%20%20%20%20%20%20%20%20%20%20%20%20%20%20%20%3C/div%3E%60%2C%0A%20%20%20%20%20%20%20%20%20%20%20%20%20%20%20%20%7B%22sticky%22%3A%20true%7D%0A%20%20%20%20%20%20%20%20%20%20%20%20%29%3B%0A%20%20%20%20%20%20%20%20%0A%20%20%20%20%0A%20%20%20%20%20%20%20%20%20%20%20%20var%20marker_f6c93bb3d6d24b6d99f264b90d2c34cb%20%3D%20L.marker%28%0A%20%20%20%20%20%20%20%20%20%20%20%20%20%20%20%20%5B-21.562%2C%20-51.261%5D%2C%0A%20%20%20%20%20%20%20%20%20%20%20%20%20%20%20%20%7B%7D%0A%20%20%20%20%20%20%20%20%20%20%20%20%29.addTo%28map_9816868a223e4fedaefc8dac49e0faf5%29%3B%0A%20%20%20%20%20%20%20%20%0A%20%20%20%20%0A%20%20%20%20%20%20%20%20%20%20%20%20var%20icon_2d452075e36047e6a7562268b4c86fcb%20%3D%20L.AwesomeMarkers.icon%28%0A%20%20%20%20%20%20%20%20%20%20%20%20%20%20%20%20%7B%22extraClasses%22%3A%20%22fa-rotate-0%22%2C%20%22icon%22%3A%20%22info-sign%22%2C%20%22iconColor%22%3A%20%22white%22%2C%20%22markerColor%22%3A%20%22red%22%2C%20%22prefix%22%3A%20%22glyphicon%22%7D%0A%20%20%20%20%20%20%20%20%20%20%20%20%29%3B%0A%20%20%20%20%20%20%20%20%20%20%20%20marker_f6c93bb3d6d24b6d99f264b90d2c34cb.setIcon%28icon_2d452075e36047e6a7562268b4c86fcb%29%3B%0A%20%20%20%20%20%20%20%20%0A%20%20%20%20%0A%20%20%20%20%20%20%20%20var%20popup_ef62e3fddb61427389bde8b1dfe96a3e%20%3D%20L.popup%28%7B%22maxWidth%22%3A%20%22100%25%22%7D%29%3B%0A%0A%20%20%20%20%20%20%20%20%0A%20%20%20%20%20%20%20%20%20%20%20%20var%20html_7d236f2343a4473fa46c67758ddeb5f5%20%3D%20%24%28%60%3Cdiv%20id%3D%22html_7d236f2343a4473fa46c67758ddeb5f5%22%20style%3D%22width%3A%20100.0%25%3B%20height%3A%20100.0%25%3B%22%3EA%20empresa%20VICENTE%20MODAS%20%28CNPJ%2012480500000115%29%2C%20relacionada%20ao%20PEP%20JOAO%20YPEI%20DE%20KAARA%2C%20recebeu%20R%24%20131687.01%3C/div%3E%60%29%5B0%5D%3B%0A%20%20%20%20%20%20%20%20%20%20%20%20popup_ef62e3fddb61427389bde8b1dfe96a3e.setContent%28html_7d236f2343a4473fa46c67758ddeb5f5%29%3B%0A%20%20%20%20%20%20%20%20%0A%0A%20%20%20%20%20%20%20%20marker_f6c93bb3d6d24b6d99f264b90d2c34cb.bindPopup%28popup_ef62e3fddb61427389bde8b1dfe96a3e%29%0A%20%20%20%20%20%20%20%20%3B%0A%0A%20%20%20%20%20%20%20%20%0A%20%20%20%20%0A%20%20%20%20%0A%20%20%20%20%20%20%20%20%20%20%20%20marker_f6c93bb3d6d24b6d99f264b90d2c34cb.bindTooltip%28%0A%20%20%20%20%20%20%20%20%20%20%20%20%20%20%20%20%60%3Cdiv%3E%0A%20%20%20%20%20%20%20%20%20%20%20%20%20%20%20%20%20%20%20%20%20A%20empresa%20VICENTE%20MODAS%20%28CNPJ%2012480500000115%29%2C%20relacionada%20ao%20PEP%20JOAO%20YPEI%20DE%20KAARA%2C%20recebeu%20R%24%20131687.01%0A%20%20%20%20%20%20%20%20%20%20%20%20%20%20%20%20%20%3C/div%3E%60%2C%0A%20%20%20%20%20%20%20%20%20%20%20%20%20%20%20%20%7B%22sticky%22%3A%20true%7D%0A%20%20%20%20%20%20%20%20%20%20%20%20%29%3B%0A%20%20%20%20%20%20%20%20%0A%20%20%20%20%0A%20%20%20%20%20%20%20%20%20%20%20%20var%20marker_c99a8664aeac4f4484007bee5c29626a%20%3D%20L.marker%28%0A%20%20%20%20%20%20%20%20%20%20%20%20%20%20%20%20%5B-22.067%2C%20-48.176%5D%2C%0A%20%20%20%20%20%20%20%20%20%20%20%20%20%20%20%20%7B%7D%0A%20%20%20%20%20%20%20%20%20%20%20%20%29.addTo%28map_9816868a223e4fedaefc8dac49e0faf5%29%3B%0A%20%20%20%20%20%20%20%20%0A%20%20%20%20%0A%20%20%20%20%20%20%20%20%20%20%20%20var%20icon_329bf6a496f9462a82f3c88eb1715226%20%3D%20L.AwesomeMarkers.icon%28%0A%20%20%20%20%20%20%20%20%20%20%20%20%20%20%20%20%7B%22extraClasses%22%3A%20%22fa-rotate-0%22%2C%20%22icon%22%3A%20%22info-sign%22%2C%20%22iconColor%22%3A%20%22white%22%2C%20%22markerColor%22%3A%20%22red%22%2C%20%22prefix%22%3A%20%22glyphicon%22%7D%0A%20%20%20%20%20%20%20%20%20%20%20%20%29%3B%0A%20%20%20%20%20%20%20%20%20%20%20%20marker_c99a8664aeac4f4484007bee5c29626a.setIcon%28icon_329bf6a496f9462a82f3c88eb1715226%29%3B%0A%20%20%20%20%20%20%20%20%0A%20%20%20%20%0A%20%20%20%20%20%20%20%20var%20popup_71a7601a031941e7a089439b4ba3121f%20%3D%20L.popup%28%7B%22maxWidth%22%3A%20%22100%25%22%7D%29%3B%0A%0A%20%20%20%20%20%20%20%20%0A%20%20%20%20%20%20%20%20%20%20%20%20var%20html_bb1a6bd698ce41a9b9f5482b0f03dbfc%20%3D%20%24%28%60%3Cdiv%20id%3D%22html_bb1a6bd698ce41a9b9f5482b0f03dbfc%22%20style%3D%22width%3A%20100.0%25%3B%20height%3A%20100.0%25%3B%22%3EA%20empresa%20MARIUS%20CONTABIL%20EIRELLI%20%28CNPJ%2008262075000137%29%2C%20relacionada%20ao%20PEP%20GOSSON%20LEGNANNE%20GONDOREK%2C%20recebeu%20R%24%20123420.27%3C/div%3E%60%29%5B0%5D%3B%0A%20%20%20%20%20%20%20%20%20%20%20%20popup_71a7601a031941e7a089439b4ba3121f.setContent%28html_bb1a6bd698ce41a9b9f5482b0f03dbfc%29%3B%0A%20%20%20%20%20%20%20%20%0A%0A%20%20%20%20%20%20%20%20marker_c99a8664aeac4f4484007bee5c29626a.bindPopup%28popup_71a7601a031941e7a089439b4ba3121f%29%0A%20%20%20%20%20%20%20%20%3B%0A%0A%20%20%20%20%20%20%20%20%0A%20%20%20%20%0A%20%20%20%20%0A%20%20%20%20%20%20%20%20%20%20%20%20marker_c99a8664aeac4f4484007bee5c29626a.bindTooltip%28%0A%20%20%20%20%20%20%20%20%20%20%20%20%20%20%20%20%60%3Cdiv%3E%0A%20%20%20%20%20%20%20%20%20%20%20%20%20%20%20%20%20%20%20%20%20A%20empresa%20MARIUS%20CONTABIL%20EIRELLI%20%28CNPJ%2008262075000137%29%2C%20relacionada%20ao%20PEP%20GOSSON%20LEGNANNE%20GONDOREK%2C%20recebeu%20R%24%20123420.27%0A%20%20%20%20%20%20%20%20%20%20%20%20%20%20%20%20%20%3C/div%3E%60%2C%0A%20%20%20%20%20%20%20%20%20%20%20%20%20%20%20%20%7B%22sticky%22%3A%20true%7D%0A%20%20%20%20%20%20%20%20%20%20%20%20%29%3B%0A%20%20%20%20%20%20%20%20%0A%20%20%20%20%0A%20%20%20%20%20%20%20%20%20%20%20%20var%20marker_2303b1eec111419ab263831be3ec3536%20%3D%20L.marker%28%0A%20%20%20%20%20%20%20%20%20%20%20%20%20%20%20%20%5B-23.205%2C%20-49.607%5D%2C%0A%20%20%20%20%20%20%20%20%20%20%20%20%20%20%20%20%7B%7D%0A%20%20%20%20%20%20%20%20%20%20%20%20%29.addTo%28map_9816868a223e4fedaefc8dac49e0faf5%29%3B%0A%20%20%20%20%20%20%20%20%0A%20%20%20%20%0A%20%20%20%20%20%20%20%20%20%20%20%20var%20icon_8541f12083324c4ebdbfcae3fe9fa1de%20%3D%20L.AwesomeMarkers.icon%28%0A%20%20%20%20%20%20%20%20%20%20%20%20%20%20%20%20%7B%22extraClasses%22%3A%20%22fa-rotate-0%22%2C%20%22icon%22%3A%20%22info-sign%22%2C%20%22iconColor%22%3A%20%22white%22%2C%20%22markerColor%22%3A%20%22red%22%2C%20%22prefix%22%3A%20%22glyphicon%22%7D%0A%20%20%20%20%20%20%20%20%20%20%20%20%29%3B%0A%20%20%20%20%20%20%20%20%20%20%20%20marker_2303b1eec111419ab263831be3ec3536.setIcon%28icon_8541f12083324c4ebdbfcae3fe9fa1de%29%3B%0A%20%20%20%20%20%20%20%20%0A%20%20%20%20%0A%20%20%20%20%20%20%20%20var%20popup_5f90f9587aed47a2809992e80b18dfb9%20%3D%20L.popup%28%7B%22maxWidth%22%3A%20%22100%25%22%7D%29%3B%0A%0A%20%20%20%20%20%20%20%20%0A%20%20%20%20%20%20%20%20%20%20%20%20var%20html_a9f8e630916b4e9d80011a75539ed957%20%3D%20%24%28%60%3Cdiv%20id%3D%22html_a9f8e630916b4e9d80011a75539ed957%22%20style%3D%22width%3A%20100.0%25%3B%20height%3A%20100.0%25%3B%22%3EA%20empresa%20MARIUS%20CONTABIL%20EIRELLI%20%28CNPJ%2008262075000137%29%2C%20relacionada%20ao%20PEP%20GOSSON%20LEGNANNE%20GONDOREK%2C%20recebeu%20R%24%20112998.16%3C/div%3E%60%29%5B0%5D%3B%0A%20%20%20%20%20%20%20%20%20%20%20%20popup_5f90f9587aed47a2809992e80b18dfb9.setContent%28html_a9f8e630916b4e9d80011a75539ed957%29%3B%0A%20%20%20%20%20%20%20%20%0A%0A%20%20%20%20%20%20%20%20marker_2303b1eec111419ab263831be3ec3536.bindPopup%28popup_5f90f9587aed47a2809992e80b18dfb9%29%0A%20%20%20%20%20%20%20%20%3B%0A%0A%20%20%20%20%20%20%20%20%0A%20%20%20%20%0A%20%20%20%20%0A%20%20%20%20%20%20%20%20%20%20%20%20marker_2303b1eec111419ab263831be3ec3536.bindTooltip%28%0A%20%20%20%20%20%20%20%20%20%20%20%20%20%20%20%20%60%3Cdiv%3E%0A%20%20%20%20%20%20%20%20%20%20%20%20%20%20%20%20%20%20%20%20%20A%20empresa%20MARIUS%20CONTABIL%20EIRELLI%20%28CNPJ%2008262075000137%29%2C%20relacionada%20ao%20PEP%20GOSSON%20LEGNANNE%20GONDOREK%2C%20recebeu%20R%24%20112998.16%0A%20%20%20%20%20%20%20%20%20%20%20%20%20%20%20%20%20%3C/div%3E%60%2C%0A%20%20%20%20%20%20%20%20%20%20%20%20%20%20%20%20%7B%22sticky%22%3A%20true%7D%0A%20%20%20%20%20%20%20%20%20%20%20%20%29%3B%0A%20%20%20%20%20%20%20%20%0A%20%20%20%20%0A%20%20%20%20%20%20%20%20%20%20%20%20var%20marker_0a86a98980ee49c4b50c4c1df3a4ffeb%20%3D%20L.marker%28%0A%20%20%20%20%20%20%20%20%20%20%20%20%20%20%20%20%5B-22.253%2C%20-47.823%5D%2C%0A%20%20%20%20%20%20%20%20%20%20%20%20%20%20%20%20%7B%7D%0A%20%20%20%20%20%20%20%20%20%20%20%20%29.addTo%28map_9816868a223e4fedaefc8dac49e0faf5%29%3B%0A%20%20%20%20%20%20%20%20%0A%20%20%20%20%0A%20%20%20%20%20%20%20%20%20%20%20%20var%20icon_110af7ac8e334adfab228252eec9d806%20%3D%20L.AwesomeMarkers.icon%28%0A%20%20%20%20%20%20%20%20%20%20%20%20%20%20%20%20%7B%22extraClasses%22%3A%20%22fa-rotate-0%22%2C%20%22icon%22%3A%20%22info-sign%22%2C%20%22iconColor%22%3A%20%22white%22%2C%20%22markerColor%22%3A%20%22red%22%2C%20%22prefix%22%3A%20%22glyphicon%22%7D%0A%20%20%20%20%20%20%20%20%20%20%20%20%29%3B%0A%20%20%20%20%20%20%20%20%20%20%20%20marker_0a86a98980ee49c4b50c4c1df3a4ffeb.setIcon%28icon_110af7ac8e334adfab228252eec9d806%29%3B%0A%20%20%20%20%20%20%20%20%0A%20%20%20%20%0A%20%20%20%20%20%20%20%20var%20popup_c283a3b9d9884d2c95a196ae6a879b68%20%3D%20L.popup%28%7B%22maxWidth%22%3A%20%22100%25%22%7D%29%3B%0A%0A%20%20%20%20%20%20%20%20%0A%20%20%20%20%20%20%20%20%20%20%20%20var%20html_f6bc0a9be71646de880d3d3b5393a658%20%3D%20%24%28%60%3Cdiv%20id%3D%22html_f6bc0a9be71646de880d3d3b5393a658%22%20style%3D%22width%3A%20100.0%25%3B%20height%3A%20100.0%25%3B%22%3EA%20empresa%20MARIUS%20CONTABIL%20EIRELLI%20%28CNPJ%2008262075000137%29%2C%20relacionada%20ao%20PEP%20GOSSON%20LEGNANNE%20GONDOREK%2C%20recebeu%20R%24%20108360.82%3C/div%3E%60%29%5B0%5D%3B%0A%20%20%20%20%20%20%20%20%20%20%20%20popup_c283a3b9d9884d2c95a196ae6a879b68.setContent%28html_f6bc0a9be71646de880d3d3b5393a658%29%3B%0A%20%20%20%20%20%20%20%20%0A%0A%20%20%20%20%20%20%20%20marker_0a86a98980ee49c4b50c4c1df3a4ffeb.bindPopup%28popup_c283a3b9d9884d2c95a196ae6a879b68%29%0A%20%20%20%20%20%20%20%20%3B%0A%0A%20%20%20%20%20%20%20%20%0A%20%20%20%20%0A%20%20%20%20%0A%20%20%20%20%20%20%20%20%20%20%20%20marker_0a86a98980ee49c4b50c4c1df3a4ffeb.bindTooltip%28%0A%20%20%20%20%20%20%20%20%20%20%20%20%20%20%20%20%60%3Cdiv%3E%0A%20%20%20%20%20%20%20%20%20%20%20%20%20%20%20%20%20%20%20%20%20A%20empresa%20MARIUS%20CONTABIL%20EIRELLI%20%28CNPJ%2008262075000137%29%2C%20relacionada%20ao%20PEP%20GOSSON%20LEGNANNE%20GONDOREK%2C%20recebeu%20R%24%20108360.82%0A%20%20%20%20%20%20%20%20%20%20%20%20%20%20%20%20%20%3C/div%3E%60%2C%0A%20%20%20%20%20%20%20%20%20%20%20%20%20%20%20%20%7B%22sticky%22%3A%20true%7D%0A%20%20%20%20%20%20%20%20%20%20%20%20%29%3B%0A%20%20%20%20%20%20%20%20%0A%20%20%20%20%0A%20%20%20%20%20%20%20%20%20%20%20%20var%20marker_74666fa6107242bcb61f03ee11d8eb26%20%3D%20L.marker%28%0A%20%20%20%20%20%20%20%20%20%20%20%20%20%20%20%20%5B-21.186%2C%20-48.907%5D%2C%0A%20%20%20%20%20%20%20%20%20%20%20%20%20%20%20%20%7B%7D%0A%20%20%20%20%20%20%20%20%20%20%20%20%29.addTo%28map_9816868a223e4fedaefc8dac49e0faf5%29%3B%0A%20%20%20%20%20%20%20%20%0A%20%20%20%20%0A%20%20%20%20%20%20%20%20%20%20%20%20var%20icon_baadb01f0d4b4644b59aa05335e5f252%20%3D%20L.AwesomeMarkers.icon%28%0A%20%20%20%20%20%20%20%20%20%20%20%20%20%20%20%20%7B%22extraClasses%22%3A%20%22fa-rotate-0%22%2C%20%22icon%22%3A%20%22info-sign%22%2C%20%22iconColor%22%3A%20%22white%22%2C%20%22markerColor%22%3A%20%22red%22%2C%20%22prefix%22%3A%20%22glyphicon%22%7D%0A%20%20%20%20%20%20%20%20%20%20%20%20%29%3B%0A%20%20%20%20%20%20%20%20%20%20%20%20marker_74666fa6107242bcb61f03ee11d8eb26.setIcon%28icon_baadb01f0d4b4644b59aa05335e5f252%29%3B%0A%20%20%20%20%20%20%20%20%0A%20%20%20%20%0A%20%20%20%20%20%20%20%20var%20popup_4a6da96c752f4b7c901b7c9558526b57%20%3D%20L.popup%28%7B%22maxWidth%22%3A%20%22100%25%22%7D%29%3B%0A%0A%20%20%20%20%20%20%20%20%0A%20%20%20%20%20%20%20%20%20%20%20%20var%20html_7d9e0349150249d8a5a004f8b13ddd57%20%3D%20%24%28%60%3Cdiv%20id%3D%22html_7d9e0349150249d8a5a004f8b13ddd57%22%20style%3D%22width%3A%20100.0%25%3B%20height%3A%20100.0%25%3B%22%3EA%20empresa%20MARIA%20CECILIA%20MERCEARIA%20EIRELLI%20%28CNPJ%2008111025000132%29%2C%20relacionada%20ao%20PEP%20DIRLEI%20GOSSER%20LOIVAL%2C%20recebeu%20R%24%20103509.54%3C/div%3E%60%29%5B0%5D%3B%0A%20%20%20%20%20%20%20%20%20%20%20%20popup_4a6da96c752f4b7c901b7c9558526b57.setContent%28html_7d9e0349150249d8a5a004f8b13ddd57%29%3B%0A%20%20%20%20%20%20%20%20%0A%0A%20%20%20%20%20%20%20%20marker_74666fa6107242bcb61f03ee11d8eb26.bindPopup%28popup_4a6da96c752f4b7c901b7c9558526b57%29%0A%20%20%20%20%20%20%20%20%3B%0A%0A%20%20%20%20%20%20%20%20%0A%20%20%20%20%0A%20%20%20%20%0A%20%20%20%20%20%20%20%20%20%20%20%20marker_74666fa6107242bcb61f03ee11d8eb26.bindTooltip%28%0A%20%20%20%20%20%20%20%20%20%20%20%20%20%20%20%20%60%3Cdiv%3E%0A%20%20%20%20%20%20%20%20%20%20%20%20%20%20%20%20%20%20%20%20%20A%20empresa%20MARIA%20CECILIA%20MERCEARIA%20EIRELLI%20%28CNPJ%2008111025000132%29%2C%20relacionada%20ao%20PEP%20DIRLEI%20GOSSER%20LOIVAL%2C%20recebeu%20R%24%20103509.54%0A%20%20%20%20%20%20%20%20%20%20%20%20%20%20%20%20%20%3C/div%3E%60%2C%0A%20%20%20%20%20%20%20%20%20%20%20%20%20%20%20%20%7B%22sticky%22%3A%20true%7D%0A%20%20%20%20%20%20%20%20%20%20%20%20%29%3B%0A%20%20%20%20%20%20%20%20%0A%20%20%20%20%0A%20%20%20%20%20%20%20%20%20%20%20%20var%20marker_c2fb2f2b239149dba18d9775999db49e%20%3D%20L.marker%28%0A%20%20%20%20%20%20%20%20%20%20%20%20%20%20%20%20%5B-22.674%2C%20-44.448%5D%2C%0A%20%20%20%20%20%20%20%20%20%20%20%20%20%20%20%20%7B%7D%0A%20%20%20%20%20%20%20%20%20%20%20%20%29.addTo%28map_9816868a223e4fedaefc8dac49e0faf5%29%3B%0A%20%20%20%20%20%20%20%20%0A%20%20%20%20%0A%20%20%20%20%20%20%20%20%20%20%20%20var%20icon_45469bb6be1c42809c0213186f7cc247%20%3D%20L.AwesomeMarkers.icon%28%0A%20%20%20%20%20%20%20%20%20%20%20%20%20%20%20%20%7B%22extraClasses%22%3A%20%22fa-rotate-0%22%2C%20%22icon%22%3A%20%22info-sign%22%2C%20%22iconColor%22%3A%20%22white%22%2C%20%22markerColor%22%3A%20%22red%22%2C%20%22prefix%22%3A%20%22glyphicon%22%7D%0A%20%20%20%20%20%20%20%20%20%20%20%20%29%3B%0A%20%20%20%20%20%20%20%20%20%20%20%20marker_c2fb2f2b239149dba18d9775999db49e.setIcon%28icon_45469bb6be1c42809c0213186f7cc247%29%3B%0A%20%20%20%20%20%20%20%20%0A%20%20%20%20%0A%20%20%20%20%20%20%20%20var%20popup_f9d50f09fd63467fb52d88423988073d%20%3D%20L.popup%28%7B%22maxWidth%22%3A%20%22100%25%22%7D%29%3B%0A%0A%20%20%20%20%20%20%20%20%0A%20%20%20%20%20%20%20%20%20%20%20%20var%20html_e5b05b488d58462bab1ea1c62dacdf27%20%3D%20%24%28%60%3Cdiv%20id%3D%22html_e5b05b488d58462bab1ea1c62dacdf27%22%20style%3D%22width%3A%20100.0%25%3B%20height%3A%20100.0%25%3B%22%3EA%20empresa%20IBAI%20VESTUARIO%20%28CNPJ%2049524688000199%29%2C%20relacionada%20ao%20PEP%20JAIME%20BONAVOGLIA%20DA%20TEVEIRA%2C%20recebeu%20R%24%20113162.42%3C/div%3E%60%29%5B0%5D%3B%0A%20%20%20%20%20%20%20%20%20%20%20%20popup_f9d50f09fd63467fb52d88423988073d.setContent%28html_e5b05b488d58462bab1ea1c62dacdf27%29%3B%0A%20%20%20%20%20%20%20%20%0A%0A%20%20%20%20%20%20%20%20marker_c2fb2f2b239149dba18d9775999db49e.bindPopup%28popup_f9d50f09fd63467fb52d88423988073d%29%0A%20%20%20%20%20%20%20%20%3B%0A%0A%20%20%20%20%20%20%20%20%0A%20%20%20%20%0A%20%20%20%20%0A%20%20%20%20%20%20%20%20%20%20%20%20marker_c2fb2f2b239149dba18d9775999db49e.bindTooltip%28%0A%20%20%20%20%20%20%20%20%20%20%20%20%20%20%20%20%60%3Cdiv%3E%0A%20%20%20%20%20%20%20%20%20%20%20%20%20%20%20%20%20%20%20%20%20A%20empresa%20IBAI%20VESTUARIO%20%28CNPJ%2049524688000199%29%2C%20relacionada%20ao%20PEP%20JAIME%20BONAVOGLIA%20DA%20TEVEIRA%2C%20recebeu%20R%24%20113162.42%0A%20%20%20%20%20%20%20%20%20%20%20%20%20%20%20%20%20%3C/div%3E%60%2C%0A%20%20%20%20%20%20%20%20%20%20%20%20%20%20%20%20%7B%22sticky%22%3A%20true%7D%0A%20%20%20%20%20%20%20%20%20%20%20%20%29%3B%0A%20%20%20%20%20%20%20%20%0A%20%20%20%20%0A%20%20%20%20%20%20%20%20%20%20%20%20var%20marker_55a91c6ec3a148c5b88d6737495db11d%20%3D%20L.marker%28%0A%20%20%20%20%20%20%20%20%20%20%20%20%20%20%20%20%5B-22.674%2C%20-44.448%5D%2C%0A%20%20%20%20%20%20%20%20%20%20%20%20%20%20%20%20%7B%7D%0A%20%20%20%20%20%20%20%20%20%20%20%20%29.addTo%28map_9816868a223e4fedaefc8dac49e0faf5%29%3B%0A%20%20%20%20%20%20%20%20%0A%20%20%20%20%0A%20%20%20%20%20%20%20%20%20%20%20%20var%20icon_fc611a5d5c16498f88ad98ccb8355b18%20%3D%20L.AwesomeMarkers.icon%28%0A%20%20%20%20%20%20%20%20%20%20%20%20%20%20%20%20%7B%22extraClasses%22%3A%20%22fa-rotate-0%22%2C%20%22icon%22%3A%20%22info-sign%22%2C%20%22iconColor%22%3A%20%22white%22%2C%20%22markerColor%22%3A%20%22red%22%2C%20%22prefix%22%3A%20%22glyphicon%22%7D%0A%20%20%20%20%20%20%20%20%20%20%20%20%29%3B%0A%20%20%20%20%20%20%20%20%20%20%20%20marker_55a91c6ec3a148c5b88d6737495db11d.setIcon%28icon_fc611a5d5c16498f88ad98ccb8355b18%29%3B%0A%20%20%20%20%20%20%20%20%0A%20%20%20%20%0A%20%20%20%20%20%20%20%20var%20popup_9c33a58436024cdfb3288fb71c3614df%20%3D%20L.popup%28%7B%22maxWidth%22%3A%20%22100%25%22%7D%29%3B%0A%0A%20%20%20%20%20%20%20%20%0A%20%20%20%20%20%20%20%20%20%20%20%20var%20html_a089a5446d7a4965ab73d09b46e6b774%20%3D%20%24%28%60%3Cdiv%20id%3D%22html_a089a5446d7a4965ab73d09b46e6b774%22%20style%3D%22width%3A%20100.0%25%3B%20height%3A%20100.0%25%3B%22%3EA%20empresa%20IBAI%20VESTUARIO%20%28CNPJ%2049524688000199%29%2C%20relacionada%20ao%20PEP%20LUZENICE%20LANUZIA%20DE%20PALKOSKI%2C%20recebeu%20R%24%20113162.42%3C/div%3E%60%29%5B0%5D%3B%0A%20%20%20%20%20%20%20%20%20%20%20%20popup_9c33a58436024cdfb3288fb71c3614df.setContent%28html_a089a5446d7a4965ab73d09b46e6b774%29%3B%0A%20%20%20%20%20%20%20%20%0A%0A%20%20%20%20%20%20%20%20marker_55a91c6ec3a148c5b88d6737495db11d.bindPopup%28popup_9c33a58436024cdfb3288fb71c3614df%29%0A%20%20%20%20%20%20%20%20%3B%0A%0A%20%20%20%20%20%20%20%20%0A%20%20%20%20%0A%20%20%20%20%0A%20%20%20%20%20%20%20%20%20%20%20%20marker_55a91c6ec3a148c5b88d6737495db11d.bindTooltip%28%0A%20%20%20%20%20%20%20%20%20%20%20%20%20%20%20%20%60%3Cdiv%3E%0A%20%20%20%20%20%20%20%20%20%20%20%20%20%20%20%20%20%20%20%20%20A%20empresa%20IBAI%20VESTUARIO%20%28CNPJ%2049524688000199%29%2C%20relacionada%20ao%20PEP%20LUZENICE%20LANUZIA%20DE%20PALKOSKI%2C%20recebeu%20R%24%20113162.42%0A%20%20%20%20%20%20%20%20%20%20%20%20%20%20%20%20%20%3C/div%3E%60%2C%0A%20%20%20%20%20%20%20%20%20%20%20%20%20%20%20%20%7B%22sticky%22%3A%20true%7D%0A%20%20%20%20%20%20%20%20%20%20%20%20%29%3B%0A%20%20%20%20%20%20%20%20%0A%20%20%20%20%0A%20%20%20%20%20%20%20%20%20%20%20%20var%20marker_0c708db50816427b9ebfe30d93aa6707%20%3D%20L.marker%28%0A%20%20%20%20%20%20%20%20%20%20%20%20%20%20%20%20%5B-22.674%2C%20-44.448%5D%2C%0A%20%20%20%20%20%20%20%20%20%20%20%20%20%20%20%20%7B%7D%0A%20%20%20%20%20%20%20%20%20%20%20%20%29.addTo%28map_9816868a223e4fedaefc8dac49e0faf5%29%3B%0A%20%20%20%20%20%20%20%20%0A%20%20%20%20%0A%20%20%20%20%20%20%20%20%20%20%20%20var%20icon_f5be60da28ea465b9adfbffd8f86b5b3%20%3D%20L.AwesomeMarkers.icon%28%0A%20%20%20%20%20%20%20%20%20%20%20%20%20%20%20%20%7B%22extraClasses%22%3A%20%22fa-rotate-0%22%2C%20%22icon%22%3A%20%22info-sign%22%2C%20%22iconColor%22%3A%20%22white%22%2C%20%22markerColor%22%3A%20%22red%22%2C%20%22prefix%22%3A%20%22glyphicon%22%7D%0A%20%20%20%20%20%20%20%20%20%20%20%20%29%3B%0A%20%20%20%20%20%20%20%20%20%20%20%20marker_0c708db50816427b9ebfe30d93aa6707.setIcon%28icon_f5be60da28ea465b9adfbffd8f86b5b3%29%3B%0A%20%20%20%20%20%20%20%20%0A%20%20%20%20%0A%20%20%20%20%20%20%20%20var%20popup_9cd22d40b5994c90b2ebe90d557fc266%20%3D%20L.popup%28%7B%22maxWidth%22%3A%20%22100%25%22%7D%29%3B%0A%0A%20%20%20%20%20%20%20%20%0A%20%20%20%20%20%20%20%20%20%20%20%20var%20html_32f22b9de9c14f56bc11c38ae5eecd8b%20%3D%20%24%28%60%3Cdiv%20id%3D%22html_32f22b9de9c14f56bc11c38ae5eecd8b%22%20style%3D%22width%3A%20100.0%25%3B%20height%3A%20100.0%25%3B%22%3EA%20empresa%20IBAI%20VESTUARIO%20%28CNPJ%2049524688000199%29%2C%20relacionada%20ao%20PEP%20SAVIOLO%20LUYTEN%20SMERIERI%2C%20recebeu%20R%24%20113162.42%3C/div%3E%60%29%5B0%5D%3B%0A%20%20%20%20%20%20%20%20%20%20%20%20popup_9cd22d40b5994c90b2ebe90d557fc266.setContent%28html_32f22b9de9c14f56bc11c38ae5eecd8b%29%3B%0A%20%20%20%20%20%20%20%20%0A%0A%20%20%20%20%20%20%20%20marker_0c708db50816427b9ebfe30d93aa6707.bindPopup%28popup_9cd22d40b5994c90b2ebe90d557fc266%29%0A%20%20%20%20%20%20%20%20%3B%0A%0A%20%20%20%20%20%20%20%20%0A%20%20%20%20%0A%20%20%20%20%0A%20%20%20%20%20%20%20%20%20%20%20%20marker_0c708db50816427b9ebfe30d93aa6707.bindTooltip%28%0A%20%20%20%20%20%20%20%20%20%20%20%20%20%20%20%20%60%3Cdiv%3E%0A%20%20%20%20%20%20%20%20%20%20%20%20%20%20%20%20%20%20%20%20%20A%20empresa%20IBAI%20VESTUARIO%20%28CNPJ%2049524688000199%29%2C%20relacionada%20ao%20PEP%20SAVIOLO%20LUYTEN%20SMERIERI%2C%20recebeu%20R%24%20113162.42%0A%20%20%20%20%20%20%20%20%20%20%20%20%20%20%20%20%20%3C/div%3E%60%2C%0A%20%20%20%20%20%20%20%20%20%20%20%20%20%20%20%20%7B%22sticky%22%3A%20true%7D%0A%20%20%20%20%20%20%20%20%20%20%20%20%29%3B%0A%20%20%20%20%20%20%20%20%0A%20%20%20%20%0A%20%20%20%20%20%20%20%20%20%20%20%20var%20marker_9d2c637c715d4c21bc2edef554d67934%20%3D%20L.marker%28%0A%20%20%20%20%20%20%20%20%20%20%20%20%20%20%20%20%5B-22.569%2C%20-48.971%5D%2C%0A%20%20%20%20%20%20%20%20%20%20%20%20%20%20%20%20%7B%7D%0A%20%20%20%20%20%20%20%20%20%20%20%20%29.addTo%28map_9816868a223e4fedaefc8dac49e0faf5%29%3B%0A%20%20%20%20%20%20%20%20%0A%20%20%20%20%0A%20%20%20%20%20%20%20%20%20%20%20%20var%20icon_233398d772e84c31b48b35cd8ddd1b7b%20%3D%20L.AwesomeMarkers.icon%28%0A%20%20%20%20%20%20%20%20%20%20%20%20%20%20%20%20%7B%22extraClasses%22%3A%20%22fa-rotate-0%22%2C%20%22icon%22%3A%20%22info-sign%22%2C%20%22iconColor%22%3A%20%22white%22%2C%20%22markerColor%22%3A%20%22red%22%2C%20%22prefix%22%3A%20%22glyphicon%22%7D%0A%20%20%20%20%20%20%20%20%20%20%20%20%29%3B%0A%20%20%20%20%20%20%20%20%20%20%20%20marker_9d2c637c715d4c21bc2edef554d67934.setIcon%28icon_233398d772e84c31b48b35cd8ddd1b7b%29%3B%0A%20%20%20%20%20%20%20%20%0A%20%20%20%20%0A%20%20%20%20%20%20%20%20var%20popup_2e8e518a7db54a3aaeed6eed29fa0210%20%3D%20L.popup%28%7B%22maxWidth%22%3A%20%22100%25%22%7D%29%3B%0A%0A%20%20%20%20%20%20%20%20%0A%20%20%20%20%20%20%20%20%20%20%20%20var%20html_75ed9b66acff4b82969c3e541997e786%20%3D%20%24%28%60%3Cdiv%20id%3D%22html_75ed9b66acff4b82969c3e541997e786%22%20style%3D%22width%3A%20100.0%25%3B%20height%3A%20100.0%25%3B%22%3EA%20empresa%20JOAO%20LUCAS%20ELETRONICOS%20SA%20%28CNPJ%2010240793000137%29%2C%20relacionada%20ao%20PEP%20CAUME%20UNAIDE%20ABASILIA%20PHREDERICO%20ZIELAK%2C%20recebeu%20R%24%20102755.9%3C/div%3E%60%29%5B0%5D%3B%0A%20%20%20%20%20%20%20%20%20%20%20%20popup_2e8e518a7db54a3aaeed6eed29fa0210.setContent%28html_75ed9b66acff4b82969c3e541997e786%29%3B%0A%20%20%20%20%20%20%20%20%0A%0A%20%20%20%20%20%20%20%20marker_9d2c637c715d4c21bc2edef554d67934.bindPopup%28popup_2e8e518a7db54a3aaeed6eed29fa0210%29%0A%20%20%20%20%20%20%20%20%3B%0A%0A%20%20%20%20%20%20%20%20%0A%20%20%20%20%0A%20%20%20%20%0A%20%20%20%20%20%20%20%20%20%20%20%20marker_9d2c637c715d4c21bc2edef554d67934.bindTooltip%28%0A%20%20%20%20%20%20%20%20%20%20%20%20%20%20%20%20%60%3Cdiv%3E%0A%20%20%20%20%20%20%20%20%20%20%20%20%20%20%20%20%20%20%20%20%20A%20empresa%20JOAO%20LUCAS%20ELETRONICOS%20SA%20%28CNPJ%2010240793000137%29%2C%20relacionada%20ao%20PEP%20CAUME%20UNAIDE%20ABASILIA%20PHREDERICO%20ZIELAK%2C%20recebeu%20R%24%20102755.9%0A%20%20%20%20%20%20%20%20%20%20%20%20%20%20%20%20%20%3C/div%3E%60%2C%0A%20%20%20%20%20%20%20%20%20%20%20%20%20%20%20%20%7B%22sticky%22%3A%20true%7D%0A%20%20%20%20%20%20%20%20%20%20%20%20%29%3B%0A%20%20%20%20%20%20%20%20%0A%3C/script%3E onload=\"this.contentDocument.open();this.contentDocument.write(    decodeURIComponent(this.getAttribute('data-html')));this.contentDocument.close();\" allowfullscreen webkitallowfullscreen mozallowfullscreen></iframe></div></div>"
      ],
      "text/plain": [
       "<folium.folium.Map at 0x7f7ea2770250>"
      ]
     },
     "execution_count": 59,
     "metadata": {},
     "output_type": "execute_result"
    }
   ],
   "source": [
    "mapa_plot = folium.Map(location=[empresas_peps_coord.Latitude.mean(), empresas_peps_coord.Longitude.mean()], zoom_start=7, control_scale=True)\n",
    "for index, location_info in empresas_peps_coord.iterrows():\n",
    "    description = \"A empresa \" + location_info[\"Razao_Social_Empresa_Beneficiaria\"] + \" (CNPJ \" + location_info[\"CNPJ_Empresa_Beneficiaria\"] + \"), relacionada ao PEP \" + location_info[\"Nome_PEP\"] + \", recebeu R$ \" + str(location_info[\"Valor_Total\"])\n",
    "    description.splitlines(True)\n",
    "    folium.Marker(\n",
    "        [location_info[\"Latitude\"], location_info[\"Longitude\"]],\n",
    "        popup=description,\n",
    "        tooltip=description,\n",
    "        icon=folium.Icon(color=\"red\", icon=\"info-sign\")\n",
    "    ).add_to(mapa_plot)\n",
    "title_html = '''\n",
    "             <h3 align=\"center\" style=\"font-size:20px\"><b>Mapa (fictício) de empresas relacionadas com PEPs</b></h3>\n",
    "             '''\n",
    "mapa_plot.get_root().html.add_child(folium.Element(title_html))\n",
    "mapa_plot"
   ]
  },
  {
   "cell_type": "code",
   "execution_count": null,
   "metadata": {},
   "outputs": [],
   "source": []
  }
 ],
 "metadata": {
  "kernelspec": {
   "display_name": "Python 3 (ipykernel)",
   "language": "python",
   "name": "python3"
  },
  "language_info": {
   "codemirror_mode": {
    "name": "ipython",
    "version": 3
   },
   "file_extension": ".py",
   "mimetype": "text/x-python",
   "name": "python",
   "nbconvert_exporter": "python",
   "pygments_lexer": "ipython3",
   "version": "3.8.10"
  }
 },
 "nbformat": 4,
 "nbformat_minor": 4
}
