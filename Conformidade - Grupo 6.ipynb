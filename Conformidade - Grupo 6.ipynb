{
 "cells": [
  {
   "cell_type": "markdown",
   "metadata": {},
   "source": [
    "# Trabalho de Conformidade do Curso de Dados Abertos para Controle Social"
   ]
  },
  {
   "cell_type": "markdown",
   "metadata": {},
   "source": [
    "O objetivo do presente trabalho é verificar quais empresas de pessoas politicamente expostas que receberam recursos dos próprios municípios em que têm mandatos.\n",
    "\n",
    "Para isso serão utilizado dados do Portal de Transparência Municipal do TCESP, base de dados públicos de CNPJ da SRF e dados do Portal da Transparência da CGU."
   ]
  },
  {
   "cell_type": "markdown",
   "metadata": {},
   "source": [
    "**Atenção:** Como o presente trabalho é para fins educacionais, os nomes, CPFs e CNPJs foram alterados, mas as estruturas são idênticas às das tabelas originais."
   ]
  },
  {
   "cell_type": "markdown",
   "metadata": {},
   "source": [
    "## Importar as bibliotecas utilizadas"
   ]
  },
  {
   "cell_type": "code",
   "execution_count": 49,
   "metadata": {},
   "outputs": [],
   "source": [
    "import os\n",
    "import shutil\n",
    "\n",
    "import folium\n",
    "import pandas as pd\n",
    "import sqlalchemy"
   ]
  },
  {
   "cell_type": "markdown",
   "metadata": {},
   "source": [
    "## Carregar Dados"
   ]
  },
  {
   "cell_type": "code",
   "execution_count": 2,
   "metadata": {},
   "outputs": [],
   "source": [
    "diretorio_dados = 'dados'"
   ]
  },
  {
   "cell_type": "markdown",
   "metadata": {
    "tags": []
   },
   "source": [
    "### Carregar dados de banco\n",
    "\n",
    "O banco de dados possui três tabelas: despesas_consolidado, empresas e sócios"
   ]
  },
  {
   "cell_type": "code",
   "execution_count": 3,
   "metadata": {},
   "outputs": [],
   "source": [
    "arquivo_sqlite = 'banco_trabalho06.db'\n",
    "filepath_arquivo_sqlite = os.path.join(diretorio_dados, arquivo_sqlite)"
   ]
  },
  {
   "cell_type": "code",
   "execution_count": 4,
   "metadata": {},
   "outputs": [],
   "source": [
    "url_banco = \"sqlite:///{}\".format(filepath_arquivo_sqlite)\n",
    "engine = sqlalchemy.create_engine(url_banco)"
   ]
  },
  {
   "cell_type": "markdown",
   "metadata": {},
   "source": [
    "#### Despesas \n",
    "É a totalização de valores pagos a empresas por município, valores aproximadamente acima de 100 mil reais.\n",
    "\n",
    "A consolidação foi realizada a partir da tabela despesas do TCE/SP. Os nomes de empresas, cnpjs e municípios foram alterados.\n",
    "\n",
    "A coluna **ds_municipio** é o nome do município fictício, **nr_identificador_despesa** o CNPJ da empresa que recebeu o valor da coluna soma e **ds_despesa** a razão social fictícia da empresa."
   ]
  },
  {
   "cell_type": "code",
   "execution_count": 5,
   "metadata": {},
   "outputs": [],
   "source": [
    "sql = 'SELECT * FROM despesas_consolidado'\n",
    "despesas = pd.read_sql(sql, engine, index_col=None)"
   ]
  },
  {
   "cell_type": "markdown",
   "metadata": {},
   "source": [
    "Aqui podemos visualizar uma amostra dos dados"
   ]
  },
  {
   "cell_type": "code",
   "execution_count": 6,
   "metadata": {},
   "outputs": [
    {
     "data": {
      "text/html": [
       "<div>\n",
       "<style scoped>\n",
       "    .dataframe tbody tr th:only-of-type {\n",
       "        vertical-align: middle;\n",
       "    }\n",
       "\n",
       "    .dataframe tbody tr th {\n",
       "        vertical-align: top;\n",
       "    }\n",
       "\n",
       "    .dataframe thead th {\n",
       "        text-align: right;\n",
       "    }\n",
       "</style>\n",
       "<table border=\"1\" class=\"dataframe\">\n",
       "  <thead>\n",
       "    <tr style=\"text-align: right;\">\n",
       "      <th></th>\n",
       "      <th>ds_municipio</th>\n",
       "      <th>nr_identificador_despesa</th>\n",
       "      <th>ds_despesa</th>\n",
       "      <th>soma</th>\n",
       "    </tr>\n",
       "  </thead>\n",
       "  <tbody>\n",
       "    <tr>\n",
       "      <th>3100</th>\n",
       "      <td>AMANTE</td>\n",
       "      <td>00466957000174</td>\n",
       "      <td>LAIA SISTEMAS</td>\n",
       "      <td>1303111.87</td>\n",
       "    </tr>\n",
       "    <tr>\n",
       "      <th>3993</th>\n",
       "      <td>CHIZZOTTI</td>\n",
       "      <td>08966092000208</td>\n",
       "      <td>EDGAR GAS LTDA</td>\n",
       "      <td>1132683.60</td>\n",
       "    </tr>\n",
       "    <tr>\n",
       "      <th>17551</th>\n",
       "      <td>NEJELSKI</td>\n",
       "      <td>37143239000115</td>\n",
       "      <td>HADRIEN PARTICIPACOES</td>\n",
       "      <td>173656.40</td>\n",
       "    </tr>\n",
       "    <tr>\n",
       "      <th>24485</th>\n",
       "      <td>LIENSTADT</td>\n",
       "      <td>65036061000103</td>\n",
       "      <td>IMRE CONTABILIDADE</td>\n",
       "      <td>98721.81</td>\n",
       "    </tr>\n",
       "    <tr>\n",
       "      <th>6754</th>\n",
       "      <td>COSTIM</td>\n",
       "      <td>03182500000100</td>\n",
       "      <td>ALLISON MODAS</td>\n",
       "      <td>552861.74</td>\n",
       "    </tr>\n",
       "  </tbody>\n",
       "</table>\n",
       "</div>"
      ],
      "text/plain": [
       "      ds_municipio nr_identificador_despesa             ds_despesa        soma\n",
       "3100        AMANTE           00466957000174          LAIA SISTEMAS  1303111.87\n",
       "3993     CHIZZOTTI           08966092000208         EDGAR GAS LTDA  1132683.60\n",
       "17551     NEJELSKI           37143239000115  HADRIEN PARTICIPACOES   173656.40\n",
       "24485    LIENSTADT           65036061000103     IMRE CONTABILIDADE    98721.81\n",
       "6754        COSTIM           03182500000100          ALLISON MODAS   552861.74"
      ]
     },
     "execution_count": 6,
     "metadata": {},
     "output_type": "execute_result"
    }
   ],
   "source": [
    "despesas.sample(5)"
   ]
  },
  {
   "cell_type": "markdown",
   "metadata": {},
   "source": [
    "Com o comando abaixo, podemos ver que a tabela possui 25.885 registros; não possui dados nulos e há apenas uma coluna com dados numéricos."
   ]
  },
  {
   "cell_type": "code",
   "execution_count": 7,
   "metadata": {},
   "outputs": [
    {
     "name": "stdout",
     "output_type": "stream",
     "text": [
      "<class 'pandas.core.frame.DataFrame'>\n",
      "RangeIndex: 25885 entries, 0 to 25884\n",
      "Data columns (total 4 columns):\n",
      " #   Column                    Non-Null Count  Dtype  \n",
      "---  ------                    --------------  -----  \n",
      " 0   ds_municipio              25885 non-null  object \n",
      " 1   nr_identificador_despesa  25885 non-null  object \n",
      " 2   ds_despesa                25885 non-null  object \n",
      " 3   soma                      25885 non-null  float64\n",
      "dtypes: float64(1), object(3)\n",
      "memory usage: 809.0+ KB\n"
     ]
    }
   ],
   "source": [
    "despesas.info()"
   ]
  },
  {
   "cell_type": "markdown",
   "metadata": {},
   "source": [
    "#### Empresas \n",
    "Tabela de empresas da receita federal.\n",
    "\n",
    "Possui dados alterados, mas a estrutura das colunas é semelhante a base pública da Receita Federal."
   ]
  },
  {
   "cell_type": "code",
   "execution_count": 8,
   "metadata": {},
   "outputs": [],
   "source": [
    "sql = 'SELECT * FROM empresas'\n",
    "empresas = pd.read_sql(sql, engine, index_col=None)"
   ]
  },
  {
   "cell_type": "markdown",
   "metadata": {},
   "source": [
    "Aqui podemos visualizar uma amostra dos dados"
   ]
  },
  {
   "cell_type": "code",
   "execution_count": 9,
   "metadata": {},
   "outputs": [
    {
     "data": {
      "text/html": [
       "<div>\n",
       "<style scoped>\n",
       "    .dataframe tbody tr th:only-of-type {\n",
       "        vertical-align: middle;\n",
       "    }\n",
       "\n",
       "    .dataframe tbody tr th {\n",
       "        vertical-align: top;\n",
       "    }\n",
       "\n",
       "    .dataframe thead th {\n",
       "        text-align: right;\n",
       "    }\n",
       "</style>\n",
       "<table border=\"1\" class=\"dataframe\">\n",
       "  <thead>\n",
       "    <tr style=\"text-align: right;\">\n",
       "      <th></th>\n",
       "      <th>cnpj</th>\n",
       "      <th>matriz_filial</th>\n",
       "      <th>razao_social</th>\n",
       "      <th>nome_fantasia</th>\n",
       "      <th>situacao</th>\n",
       "      <th>data_situacao</th>\n",
       "      <th>motivo_situacao</th>\n",
       "      <th>nm_cidade_exterior</th>\n",
       "      <th>cod_pais</th>\n",
       "      <th>nome_pais</th>\n",
       "      <th>...</th>\n",
       "      <th>email</th>\n",
       "      <th>qualif_resp</th>\n",
       "      <th>capital_social</th>\n",
       "      <th>porte</th>\n",
       "      <th>opc_simples</th>\n",
       "      <th>data_opc_simples</th>\n",
       "      <th>data_exc_simples</th>\n",
       "      <th>opc_mei</th>\n",
       "      <th>sit_especial</th>\n",
       "      <th>data_sit_especial</th>\n",
       "    </tr>\n",
       "  </thead>\n",
       "  <tbody>\n",
       "    <tr>\n",
       "      <th>1395</th>\n",
       "      <td>53490452000338</td>\n",
       "      <td>2</td>\n",
       "      <td>JADE ACESSORIOS LTDA</td>\n",
       "      <td></td>\n",
       "      <td>02</td>\n",
       "      <td>20200101</td>\n",
       "      <td>00</td>\n",
       "      <td></td>\n",
       "      <td></td>\n",
       "      <td></td>\n",
       "      <td>...</td>\n",
       "      <td></td>\n",
       "      <td></td>\n",
       "      <td>0.000000e+00</td>\n",
       "      <td>05</td>\n",
       "      <td>0</td>\n",
       "      <td></td>\n",
       "      <td></td>\n",
       "      <td></td>\n",
       "      <td></td>\n",
       "      <td></td>\n",
       "    </tr>\n",
       "    <tr>\n",
       "      <th>3649</th>\n",
       "      <td>02522238000106</td>\n",
       "      <td>1</td>\n",
       "      <td>CAMILLA PARTICIPACOES</td>\n",
       "      <td></td>\n",
       "      <td>02</td>\n",
       "      <td>20200101</td>\n",
       "      <td>37</td>\n",
       "      <td></td>\n",
       "      <td></td>\n",
       "      <td></td>\n",
       "      <td>...</td>\n",
       "      <td></td>\n",
       "      <td></td>\n",
       "      <td>0.000000e+00</td>\n",
       "      <td>05</td>\n",
       "      <td>0</td>\n",
       "      <td></td>\n",
       "      <td></td>\n",
       "      <td>N</td>\n",
       "      <td></td>\n",
       "      <td></td>\n",
       "    </tr>\n",
       "    <tr>\n",
       "      <th>1509</th>\n",
       "      <td>04697232000148</td>\n",
       "      <td>1</td>\n",
       "      <td>JIMENA PARTICIPACOES LTDA</td>\n",
       "      <td></td>\n",
       "      <td>02</td>\n",
       "      <td>20200101</td>\n",
       "      <td>01</td>\n",
       "      <td></td>\n",
       "      <td></td>\n",
       "      <td></td>\n",
       "      <td>...</td>\n",
       "      <td></td>\n",
       "      <td></td>\n",
       "      <td>0.000000e+00</td>\n",
       "      <td>01</td>\n",
       "      <td>0</td>\n",
       "      <td></td>\n",
       "      <td></td>\n",
       "      <td>N</td>\n",
       "      <td></td>\n",
       "      <td></td>\n",
       "    </tr>\n",
       "    <tr>\n",
       "      <th>4587</th>\n",
       "      <td>05060838000169</td>\n",
       "      <td>1</td>\n",
       "      <td>RAPHAEL AGROPECUARIA</td>\n",
       "      <td></td>\n",
       "      <td>02</td>\n",
       "      <td>20200101</td>\n",
       "      <td>00</td>\n",
       "      <td></td>\n",
       "      <td></td>\n",
       "      <td></td>\n",
       "      <td>...</td>\n",
       "      <td></td>\n",
       "      <td></td>\n",
       "      <td>1.191487e+07</td>\n",
       "      <td>05</td>\n",
       "      <td>0</td>\n",
       "      <td></td>\n",
       "      <td></td>\n",
       "      <td>N</td>\n",
       "      <td></td>\n",
       "      <td></td>\n",
       "    </tr>\n",
       "    <tr>\n",
       "      <th>5363</th>\n",
       "      <td>05259724000177</td>\n",
       "      <td>1</td>\n",
       "      <td>CARLOS SAUDE EPP</td>\n",
       "      <td></td>\n",
       "      <td>02</td>\n",
       "      <td>20200101</td>\n",
       "      <td>00</td>\n",
       "      <td></td>\n",
       "      <td></td>\n",
       "      <td></td>\n",
       "      <td>...</td>\n",
       "      <td></td>\n",
       "      <td></td>\n",
       "      <td>0.000000e+00</td>\n",
       "      <td>05</td>\n",
       "      <td>0</td>\n",
       "      <td></td>\n",
       "      <td></td>\n",
       "      <td>N</td>\n",
       "      <td></td>\n",
       "      <td></td>\n",
       "    </tr>\n",
       "  </tbody>\n",
       "</table>\n",
       "<p>5 rows × 38 columns</p>\n",
       "</div>"
      ],
      "text/plain": [
       "                cnpj matriz_filial               razao_social nome_fantasia  \\\n",
       "1395  53490452000338             2       JADE ACESSORIOS LTDA                 \n",
       "3649  02522238000106             1      CAMILLA PARTICIPACOES                 \n",
       "1509  04697232000148             1  JIMENA PARTICIPACOES LTDA                 \n",
       "4587  05060838000169             1       RAPHAEL AGROPECUARIA                 \n",
       "5363  05259724000177             1           CARLOS SAUDE EPP                 \n",
       "\n",
       "     situacao data_situacao motivo_situacao nm_cidade_exterior cod_pais  \\\n",
       "1395       02      20200101              00                               \n",
       "3649       02      20200101              37                               \n",
       "1509       02      20200101              01                               \n",
       "4587       02      20200101              00                               \n",
       "5363       02      20200101              00                               \n",
       "\n",
       "     nome_pais  ... email qualif_resp capital_social porte opc_simples  \\\n",
       "1395            ...                     0.000000e+00    05           0   \n",
       "3649            ...                     0.000000e+00    05           0   \n",
       "1509            ...                     0.000000e+00    01           0   \n",
       "4587            ...                     1.191487e+07    05           0   \n",
       "5363            ...                     0.000000e+00    05           0   \n",
       "\n",
       "     data_opc_simples data_exc_simples opc_mei sit_especial data_sit_especial  \n",
       "1395                                                                           \n",
       "3649                                         N                                 \n",
       "1509                                         N                                 \n",
       "4587                                         N                                 \n",
       "5363                                         N                                 \n",
       "\n",
       "[5 rows x 38 columns]"
      ]
     },
     "execution_count": 9,
     "metadata": {},
     "output_type": "execute_result"
    }
   ],
   "source": [
    "empresas.sample(5)"
   ]
  },
  {
   "cell_type": "markdown",
   "metadata": {},
   "source": [
    "Com o comando abaixo, podemos ver que a tabela possui 5.779 registros; não possui dados nulos e há apenas uma coluna com dados numéricos."
   ]
  },
  {
   "cell_type": "code",
   "execution_count": 10,
   "metadata": {},
   "outputs": [
    {
     "name": "stdout",
     "output_type": "stream",
     "text": [
      "<class 'pandas.core.frame.DataFrame'>\n",
      "RangeIndex: 5779 entries, 0 to 5778\n",
      "Data columns (total 38 columns):\n",
      " #   Column              Non-Null Count  Dtype  \n",
      "---  ------              --------------  -----  \n",
      " 0   cnpj                5779 non-null   object \n",
      " 1   matriz_filial       5779 non-null   object \n",
      " 2   razao_social        5779 non-null   object \n",
      " 3   nome_fantasia       5779 non-null   object \n",
      " 4   situacao            5779 non-null   object \n",
      " 5   data_situacao       5779 non-null   object \n",
      " 6   motivo_situacao     5779 non-null   object \n",
      " 7   nm_cidade_exterior  5779 non-null   object \n",
      " 8   cod_pais            5779 non-null   object \n",
      " 9   nome_pais           5779 non-null   object \n",
      " 10  cod_nat_juridica    5779 non-null   object \n",
      " 11  data_inicio_ativ    5779 non-null   object \n",
      " 12  cnae_fiscal         5779 non-null   object \n",
      " 13  tipo_logradouro     5779 non-null   object \n",
      " 14  logradouro          5779 non-null   object \n",
      " 15  numero              5779 non-null   object \n",
      " 16  complemento         5779 non-null   object \n",
      " 17  bairro              5779 non-null   object \n",
      " 18  cep                 5779 non-null   object \n",
      " 19  uf                  5779 non-null   object \n",
      " 20  cod_municipio       5779 non-null   object \n",
      " 21  municipio           5779 non-null   object \n",
      " 22  ddd_1               5779 non-null   object \n",
      " 23  telefone_1          5779 non-null   object \n",
      " 24  ddd_2               5779 non-null   object \n",
      " 25  telefone_2          5779 non-null   object \n",
      " 26  ddd_fax             5779 non-null   object \n",
      " 27  num_fax             5779 non-null   object \n",
      " 28  email               5779 non-null   object \n",
      " 29  qualif_resp         5779 non-null   object \n",
      " 30  capital_social      5779 non-null   float64\n",
      " 31  porte               5779 non-null   object \n",
      " 32  opc_simples         5779 non-null   object \n",
      " 33  data_opc_simples    5779 non-null   object \n",
      " 34  data_exc_simples    5779 non-null   object \n",
      " 35  opc_mei             5779 non-null   object \n",
      " 36  sit_especial        5779 non-null   object \n",
      " 37  data_sit_especial   5779 non-null   object \n",
      "dtypes: float64(1), object(37)\n",
      "memory usage: 1.7+ MB\n"
     ]
    }
   ],
   "source": [
    "empresas.info()"
   ]
  },
  {
   "cell_type": "markdown",
   "metadata": {},
   "source": [
    "#### Sócios\n",
    "Tabela de sócios da receita federal.\n",
    "\n",
    "Possui dados alterados, mas a estrutura das colunas é semelhante a base pública da Receita Federal."
   ]
  },
  {
   "cell_type": "code",
   "execution_count": 11,
   "metadata": {},
   "outputs": [],
   "source": [
    "sql = 'SELECT * FROM socios'\n",
    "socios = pd.read_sql(sql, engine, index_col=None)"
   ]
  },
  {
   "cell_type": "markdown",
   "metadata": {},
   "source": [
    "Aqui podemos visualizar uma amostra dos dados"
   ]
  },
  {
   "cell_type": "code",
   "execution_count": 12,
   "metadata": {},
   "outputs": [
    {
     "data": {
      "text/html": [
       "<div>\n",
       "<style scoped>\n",
       "    .dataframe tbody tr th:only-of-type {\n",
       "        vertical-align: middle;\n",
       "    }\n",
       "\n",
       "    .dataframe tbody tr th {\n",
       "        vertical-align: top;\n",
       "    }\n",
       "\n",
       "    .dataframe thead th {\n",
       "        text-align: right;\n",
       "    }\n",
       "</style>\n",
       "<table border=\"1\" class=\"dataframe\">\n",
       "  <thead>\n",
       "    <tr style=\"text-align: right;\">\n",
       "      <th></th>\n",
       "      <th>cnpj</th>\n",
       "      <th>tipo_socio</th>\n",
       "      <th>nome_socio</th>\n",
       "      <th>cnpj_cpf_socio</th>\n",
       "      <th>cod_qualificacao</th>\n",
       "      <th>perc_capital</th>\n",
       "      <th>data_entrada</th>\n",
       "      <th>cod_pais_ext</th>\n",
       "      <th>nome_pais_ext</th>\n",
       "      <th>cpf_repres</th>\n",
       "      <th>nome_repres</th>\n",
       "      <th>cod_qualif_repres</th>\n",
       "    </tr>\n",
       "  </thead>\n",
       "  <tbody>\n",
       "    <tr>\n",
       "      <th>1711</th>\n",
       "      <td>52429387000171</td>\n",
       "      <td>2</td>\n",
       "      <td>EDISON FREJDA FRALANJE</td>\n",
       "      <td>***072018**</td>\n",
       "      <td>49</td>\n",
       "      <td>0.0</td>\n",
       "      <td>20200101</td>\n",
       "      <td></td>\n",
       "      <td></td>\n",
       "      <td></td>\n",
       "      <td></td>\n",
       "      <td>00</td>\n",
       "    </tr>\n",
       "    <tr>\n",
       "      <th>803</th>\n",
       "      <td>74233517000151</td>\n",
       "      <td>2</td>\n",
       "      <td>SPERETA RHANDS RUVAMAN</td>\n",
       "      <td>***564808**</td>\n",
       "      <td>22</td>\n",
       "      <td>0.0</td>\n",
       "      <td>20200101</td>\n",
       "      <td></td>\n",
       "      <td></td>\n",
       "      <td></td>\n",
       "      <td></td>\n",
       "      <td>00</td>\n",
       "    </tr>\n",
       "    <tr>\n",
       "      <th>5774</th>\n",
       "      <td>15448396000131</td>\n",
       "      <td>2</td>\n",
       "      <td>WILLAN EVANDRO ALBERTINSKY RAGO</td>\n",
       "      <td>***202288**</td>\n",
       "      <td>49</td>\n",
       "      <td>0.0</td>\n",
       "      <td>20200101</td>\n",
       "      <td></td>\n",
       "      <td></td>\n",
       "      <td></td>\n",
       "      <td></td>\n",
       "      <td>00</td>\n",
       "    </tr>\n",
       "    <tr>\n",
       "      <th>591</th>\n",
       "      <td>55610968000123</td>\n",
       "      <td>2</td>\n",
       "      <td>SPERETA UNAIDE ESTAVAS</td>\n",
       "      <td>***184928**</td>\n",
       "      <td>16</td>\n",
       "      <td>0.0</td>\n",
       "      <td>20200101</td>\n",
       "      <td></td>\n",
       "      <td></td>\n",
       "      <td></td>\n",
       "      <td></td>\n",
       "      <td>00</td>\n",
       "    </tr>\n",
       "    <tr>\n",
       "      <th>2494</th>\n",
       "      <td>02145121000568</td>\n",
       "      <td>2</td>\n",
       "      <td>HELIO RUSHANSKY CORAT</td>\n",
       "      <td>***331538**</td>\n",
       "      <td>59</td>\n",
       "      <td>0.0</td>\n",
       "      <td>20200101</td>\n",
       "      <td></td>\n",
       "      <td></td>\n",
       "      <td></td>\n",
       "      <td></td>\n",
       "      <td>00</td>\n",
       "    </tr>\n",
       "  </tbody>\n",
       "</table>\n",
       "</div>"
      ],
      "text/plain": [
       "                cnpj tipo_socio                       nome_socio  \\\n",
       "1711  52429387000171          2           EDISON FREJDA FRALANJE   \n",
       "803   74233517000151          2           SPERETA RHANDS RUVAMAN   \n",
       "5774  15448396000131          2  WILLAN EVANDRO ALBERTINSKY RAGO   \n",
       "591   55610968000123          2           SPERETA UNAIDE ESTAVAS   \n",
       "2494  02145121000568          2            HELIO RUSHANSKY CORAT   \n",
       "\n",
       "     cnpj_cpf_socio cod_qualificacao  perc_capital data_entrada cod_pais_ext  \\\n",
       "1711    ***072018**               49           0.0     20200101                \n",
       "803     ***564808**               22           0.0     20200101                \n",
       "5774    ***202288**               49           0.0     20200101                \n",
       "591     ***184928**               16           0.0     20200101                \n",
       "2494    ***331538**               59           0.0     20200101                \n",
       "\n",
       "     nome_pais_ext cpf_repres nome_repres cod_qualif_repres  \n",
       "1711                                                     00  \n",
       "803                                                      00  \n",
       "5774                                                     00  \n",
       "591                                                      00  \n",
       "2494                                                     00  "
      ]
     },
     "execution_count": 12,
     "metadata": {},
     "output_type": "execute_result"
    }
   ],
   "source": [
    "socios.sample(5)"
   ]
  },
  {
   "cell_type": "markdown",
   "metadata": {},
   "source": [
    "Com o comando abaixo, podemos ver que a tabela possui 5.825 registros; não possui dados nulos e há apenas uma coluna com dados numéricos."
   ]
  },
  {
   "cell_type": "code",
   "execution_count": 13,
   "metadata": {},
   "outputs": [
    {
     "name": "stdout",
     "output_type": "stream",
     "text": [
      "<class 'pandas.core.frame.DataFrame'>\n",
      "RangeIndex: 5825 entries, 0 to 5824\n",
      "Data columns (total 12 columns):\n",
      " #   Column             Non-Null Count  Dtype  \n",
      "---  ------             --------------  -----  \n",
      " 0   cnpj               5825 non-null   object \n",
      " 1   tipo_socio         5825 non-null   object \n",
      " 2   nome_socio         5825 non-null   object \n",
      " 3   cnpj_cpf_socio     5825 non-null   object \n",
      " 4   cod_qualificacao   5825 non-null   object \n",
      " 5   perc_capital       5825 non-null   float64\n",
      " 6   data_entrada       5825 non-null   object \n",
      " 7   cod_pais_ext       5825 non-null   object \n",
      " 8   nome_pais_ext      5825 non-null   object \n",
      " 9   cpf_repres         5825 non-null   object \n",
      " 10  nome_repres        5825 non-null   object \n",
      " 11  cod_qualif_repres  5825 non-null   object \n",
      "dtypes: float64(1), object(11)\n",
      "memory usage: 546.2+ KB\n"
     ]
    }
   ],
   "source": [
    "socios.info()"
   ]
  },
  {
   "cell_type": "markdown",
   "metadata": {
    "tags": []
   },
   "source": [
    "### Carregar dados de Prefeitos e Vereadores de São Paulo"
   ]
  },
  {
   "cell_type": "code",
   "execution_count": 14,
   "metadata": {},
   "outputs": [],
   "source": [
    "arquivo_peps = 'PEP_SP.csv'\n",
    "filepath_arquivo_pep = os.path.join(diretorio_dados, arquivo_peps)"
   ]
  },
  {
   "cell_type": "code",
   "execution_count": 15,
   "metadata": {},
   "outputs": [],
   "source": [
    "peps = pd.read_csv(filepath_arquivo_pep, sep=';')"
   ]
  },
  {
   "cell_type": "markdown",
   "metadata": {},
   "source": [
    "Aqui podemos visualizar uma amostra dos dados"
   ]
  },
  {
   "cell_type": "code",
   "execution_count": 16,
   "metadata": {},
   "outputs": [
    {
     "data": {
      "text/html": [
       "<div>\n",
       "<style scoped>\n",
       "    .dataframe tbody tr th:only-of-type {\n",
       "        vertical-align: middle;\n",
       "    }\n",
       "\n",
       "    .dataframe tbody tr th {\n",
       "        vertical-align: top;\n",
       "    }\n",
       "\n",
       "    .dataframe thead th {\n",
       "        text-align: right;\n",
       "    }\n",
       "</style>\n",
       "<table border=\"1\" class=\"dataframe\">\n",
       "  <thead>\n",
       "    <tr style=\"text-align: right;\">\n",
       "      <th></th>\n",
       "      <th>CPF</th>\n",
       "      <th>Nome_PEP</th>\n",
       "      <th>Sigla_Função</th>\n",
       "      <th>Descrição_Função</th>\n",
       "      <th>Nível_Função</th>\n",
       "      <th>Nome_Órgão</th>\n",
       "      <th>Data_Início_Exercício</th>\n",
       "      <th>Data_Fim_Exercício</th>\n",
       "      <th>Data_Fim_Carência</th>\n",
       "      <th>uf_orgao</th>\n",
       "    </tr>\n",
       "  </thead>\n",
       "  <tbody>\n",
       "    <tr>\n",
       "      <th>3791</th>\n",
       "      <td>***.483.568-**</td>\n",
       "      <td>PIRASSOLLI PHREDERICO HAUACH COLPAERT</td>\n",
       "      <td>VEREAD</td>\n",
       "      <td>VEREADOR</td>\n",
       "      <td>NaN</td>\n",
       "      <td>MUN. DE IALONGO-SP</td>\n",
       "      <td>01/01/2017</td>\n",
       "      <td>31/12/2020</td>\n",
       "      <td>31/12/2025</td>\n",
       "      <td>SP</td>\n",
       "    </tr>\n",
       "    <tr>\n",
       "      <th>5921</th>\n",
       "      <td>***.764.618-**</td>\n",
       "      <td>MARCO SPERETA DE DINHEIRO</td>\n",
       "      <td>VEREAD</td>\n",
       "      <td>VEREADOR</td>\n",
       "      <td>NaN</td>\n",
       "      <td>MUN. DE CALMANOVICI-SP</td>\n",
       "      <td>01/01/2017</td>\n",
       "      <td>31/12/2020</td>\n",
       "      <td>31/12/2025</td>\n",
       "      <td>SP</td>\n",
       "    </tr>\n",
       "    <tr>\n",
       "      <th>6337</th>\n",
       "      <td>***.819.168-**</td>\n",
       "      <td>ROMILDO BENEDITO CESTONE</td>\n",
       "      <td>VEREAD</td>\n",
       "      <td>VEREADOR</td>\n",
       "      <td>NaN</td>\n",
       "      <td>MUN. DE MINARELLI-SP</td>\n",
       "      <td>01/01/2017</td>\n",
       "      <td>31/12/2020</td>\n",
       "      <td>31/12/2025</td>\n",
       "      <td>SP</td>\n",
       "    </tr>\n",
       "    <tr>\n",
       "      <th>1133</th>\n",
       "      <td>***.140.633-**</td>\n",
       "      <td>SPERETA EISSAKU SUSAKO NIRISMAR</td>\n",
       "      <td>VEREAD</td>\n",
       "      <td>VEREADOR</td>\n",
       "      <td>NaN</td>\n",
       "      <td>MUN. DE LEUTPRECHT-SP</td>\n",
       "      <td>01/01/2017</td>\n",
       "      <td>31/12/2020</td>\n",
       "      <td>31/12/2025</td>\n",
       "      <td>SP</td>\n",
       "    </tr>\n",
       "    <tr>\n",
       "      <th>2022</th>\n",
       "      <td>***.248.328-**</td>\n",
       "      <td>CATARINA ZIELAK COMNENE</td>\n",
       "      <td>VEREAD</td>\n",
       "      <td>VEREADOR</td>\n",
       "      <td>NaN</td>\n",
       "      <td>MUN. DE TOMPOROWSKI-SP</td>\n",
       "      <td>01/01/2017</td>\n",
       "      <td>31/12/2020</td>\n",
       "      <td>31/12/2025</td>\n",
       "      <td>SP</td>\n",
       "    </tr>\n",
       "  </tbody>\n",
       "</table>\n",
       "</div>"
      ],
      "text/plain": [
       "                 CPF                               Nome_PEP Sigla_Função  \\\n",
       "3791  ***.483.568-**  PIRASSOLLI PHREDERICO HAUACH COLPAERT       VEREAD   \n",
       "5921  ***.764.618-**              MARCO SPERETA DE DINHEIRO       VEREAD   \n",
       "6337  ***.819.168-**               ROMILDO BENEDITO CESTONE       VEREAD   \n",
       "1133  ***.140.633-**        SPERETA EISSAKU SUSAKO NIRISMAR       VEREAD   \n",
       "2022  ***.248.328-**                CATARINA ZIELAK COMNENE       VEREAD   \n",
       "\n",
       "     Descrição_Função  Nível_Função              Nome_Órgão  \\\n",
       "3791         VEREADOR           NaN      MUN. DE IALONGO-SP   \n",
       "5921         VEREADOR           NaN  MUN. DE CALMANOVICI-SP   \n",
       "6337         VEREADOR           NaN    MUN. DE MINARELLI-SP   \n",
       "1133         VEREADOR           NaN   MUN. DE LEUTPRECHT-SP   \n",
       "2022         VEREADOR           NaN  MUN. DE TOMPOROWSKI-SP   \n",
       "\n",
       "     Data_Início_Exercício Data_Fim_Exercício Data_Fim_Carência uf_orgao  \n",
       "3791            01/01/2017         31/12/2020        31/12/2025       SP  \n",
       "5921            01/01/2017         31/12/2020        31/12/2025       SP  \n",
       "6337            01/01/2017         31/12/2020        31/12/2025       SP  \n",
       "1133            01/01/2017         31/12/2020        31/12/2025       SP  \n",
       "2022            01/01/2017         31/12/2020        31/12/2025       SP  "
      ]
     },
     "execution_count": 16,
     "metadata": {},
     "output_type": "execute_result"
    }
   ],
   "source": [
    "peps.sample(5)"
   ]
  },
  {
   "cell_type": "markdown",
   "metadata": {},
   "source": [
    "Com o comando abaixo, podemos ver que a tabela possui 7.690 registros; possui apenas o coluna **Nível_Função** com dados nulos."
   ]
  },
  {
   "cell_type": "code",
   "execution_count": 17,
   "metadata": {},
   "outputs": [
    {
     "name": "stdout",
     "output_type": "stream",
     "text": [
      "<class 'pandas.core.frame.DataFrame'>\n",
      "RangeIndex: 7690 entries, 0 to 7689\n",
      "Data columns (total 10 columns):\n",
      " #   Column                 Non-Null Count  Dtype  \n",
      "---  ------                 --------------  -----  \n",
      " 0   CPF                    7690 non-null   object \n",
      " 1   Nome_PEP               7690 non-null   object \n",
      " 2   Sigla_Função           7690 non-null   object \n",
      " 3   Descrição_Função       7690 non-null   object \n",
      " 4   Nível_Função           0 non-null      float64\n",
      " 5   Nome_Órgão             7690 non-null   object \n",
      " 6   Data_Início_Exercício  7690 non-null   object \n",
      " 7   Data_Fim_Exercício     7690 non-null   object \n",
      " 8   Data_Fim_Carência      7690 non-null   object \n",
      " 9   uf_orgao               7690 non-null   object \n",
      "dtypes: float64(1), object(9)\n",
      "memory usage: 600.9+ KB\n"
     ]
    }
   ],
   "source": [
    "peps.info()"
   ]
  },
  {
   "cell_type": "markdown",
   "metadata": {},
   "source": [
    "## Execução"
   ]
  },
  {
   "cell_type": "code",
   "execution_count": 18,
   "metadata": {},
   "outputs": [],
   "source": [
    "# Definir diretorio saida\n",
    "diretorio_saida_dados = 'saida'\n",
    "\n",
    "# Remover diretorio saida, se houver\n",
    "shutil.rmtree(diretorio_saida_dados, ignore_errors=True)\n",
    "\n",
    "# Criar diretorio saida\n",
    "os.makedirs(diretorio_saida_dados, exist_ok=True)"
   ]
  },
  {
   "cell_type": "markdown",
   "metadata": {},
   "source": [
    "### Tratamento dos dados\n",
    "\n",
    "Alguns dados precisam ser tratados antes da análise."
   ]
  },
  {
   "cell_type": "markdown",
   "metadata": {},
   "source": [
    "#### Empresa"
   ]
  },
  {
   "cell_type": "markdown",
   "metadata": {},
   "source": [
    "A coluna **data_situacao** está no formato YYYMMDD, para facilitar a análise, vamos criar a coluna **data_situacao_normalizado** com o formato YYYY-MM-DD"
   ]
  },
  {
   "cell_type": "code",
   "execution_count": 19,
   "metadata": {},
   "outputs": [
    {
     "data": {
      "text/plain": [
       "377     20200101\n",
       "4145    20200101\n",
       "2933    20200101\n",
       "360     20200101\n",
       "2079    20200101\n",
       "Name: data_situacao, dtype: object"
      ]
     },
     "execution_count": 19,
     "metadata": {},
     "output_type": "execute_result"
    }
   ],
   "source": [
    "empresas['data_situacao'].sample(5)"
   ]
  },
  {
   "cell_type": "code",
   "execution_count": 20,
   "metadata": {},
   "outputs": [],
   "source": [
    "empresas['data_situacao_normalizado'] = pd.to_datetime(empresas['data_situacao']).dt.date"
   ]
  },
  {
   "cell_type": "code",
   "execution_count": 21,
   "metadata": {},
   "outputs": [
    {
     "data": {
      "text/plain": [
       "248     2020-01-01\n",
       "809     2020-01-01\n",
       "5121    2020-01-01\n",
       "4971    2020-01-01\n",
       "4371    2020-01-01\n",
       "Name: data_situacao_normalizado, dtype: object"
      ]
     },
     "execution_count": 21,
     "metadata": {},
     "output_type": "execute_result"
    }
   ],
   "source": [
    "empresas['data_situacao_normalizado'].sample(5)"
   ]
  },
  {
   "cell_type": "markdown",
   "metadata": {},
   "source": [
    "#### Socios"
   ]
  },
  {
   "cell_type": "markdown",
   "metadata": {},
   "source": [
    "A coluna **data_entrada** está no formato YYYMMDD, para facilitar a análise, vamos criar a coluna **data_entrada_normalizado** com o formato YYYY-MM-DD"
   ]
  },
  {
   "cell_type": "code",
   "execution_count": 22,
   "metadata": {},
   "outputs": [
    {
     "data": {
      "text/plain": [
       "4003    20200101\n",
       "4709    20200101\n",
       "1376    20200101\n",
       "1329    20200101\n",
       "249     20200101\n",
       "Name: data_entrada, dtype: object"
      ]
     },
     "execution_count": 22,
     "metadata": {},
     "output_type": "execute_result"
    }
   ],
   "source": [
    "socios['data_entrada'].sample(5)"
   ]
  },
  {
   "cell_type": "code",
   "execution_count": 23,
   "metadata": {},
   "outputs": [],
   "source": [
    "socios['data_entrada_normalizado'] = pd.to_datetime(socios['data_entrada']).dt.date"
   ]
  },
  {
   "cell_type": "code",
   "execution_count": 24,
   "metadata": {},
   "outputs": [
    {
     "data": {
      "text/plain": [
       "4315    2020-01-01\n",
       "3430    2020-01-01\n",
       "3989    2020-01-01\n",
       "4875    2020-01-01\n",
       "146     2020-01-01\n",
       "Name: data_entrada_normalizado, dtype: object"
      ]
     },
     "execution_count": 24,
     "metadata": {},
     "output_type": "execute_result"
    }
   ],
   "source": [
    "socios['data_entrada_normalizado'].sample(5)"
   ]
  },
  {
   "cell_type": "markdown",
   "metadata": {},
   "source": [
    "### Pessoas Politicamente Expostas"
   ]
  },
  {
   "cell_type": "markdown",
   "metadata": {},
   "source": [
    "A coluna **CPF** possuem pontuação, vamos criar a coluna **CPF_normalizado** sem elas."
   ]
  },
  {
   "cell_type": "code",
   "execution_count": 25,
   "metadata": {},
   "outputs": [
    {
     "data": {
      "text/plain": [
       "6518    ***.846.308-**\n",
       "1566    ***.190.168-**\n",
       "3191    ***.394.678-**\n",
       "7519    ***.977.968-**\n",
       "2827    ***.344.098-**\n",
       "Name: CPF, dtype: object"
      ]
     },
     "execution_count": 25,
     "metadata": {},
     "output_type": "execute_result"
    }
   ],
   "source": [
    "peps['CPF'].sample(5)"
   ]
  },
  {
   "cell_type": "code",
   "execution_count": 26,
   "metadata": {},
   "outputs": [],
   "source": [
    "peps['CPF_normalizado'] = peps['CPF'].str.replace(\".\", \"\", regex=False).str.replace(\"-\", \"\", regex=False)"
   ]
  },
  {
   "cell_type": "code",
   "execution_count": 27,
   "metadata": {},
   "outputs": [
    {
     "data": {
      "text/plain": [
       "5949    ***767478**\n",
       "4126    ***527148**\n",
       "5479    ***708538**\n",
       "1253    ***154988**\n",
       "2219    ***273648**\n",
       "Name: CPF_normalizado, dtype: object"
      ]
     },
     "execution_count": 27,
     "metadata": {},
     "output_type": "execute_result"
    }
   ],
   "source": [
    "peps['CPF_normalizado'].sample(5)"
   ]
  },
  {
   "cell_type": "markdown",
   "metadata": {},
   "source": [
    "Na coluna **Nome_Órgão** vamos filtrar dados extras e manter apenas o nome do município na coluna **Municipio_normalizado**"
   ]
  },
  {
   "cell_type": "code",
   "execution_count": 28,
   "metadata": {},
   "outputs": [
    {
     "data": {
      "text/plain": [
       "208     MUN. DE CRESCENTE-SP\n",
       "4245       MUN. DE DALAGO-SP\n",
       "333      MUN. DE HIROHARA-SP\n",
       "3783      MUN. DE COMETTI-SP\n",
       "5917      MUN. DE NEDEHER-SP\n",
       "Name: Nome_Órgão, dtype: object"
      ]
     },
     "execution_count": 28,
     "metadata": {},
     "output_type": "execute_result"
    }
   ],
   "source": [
    "peps['Nome_Órgão'].sample(5)"
   ]
  },
  {
   "cell_type": "code",
   "execution_count": 29,
   "metadata": {},
   "outputs": [],
   "source": [
    "peps['Municipio_normalizado'] = peps['Nome_Órgão'].str.replace(\"MUN. DE \", \"\", regex=False).str.replace(\"-SP\", \"\", regex=False)"
   ]
  },
  {
   "cell_type": "code",
   "execution_count": 30,
   "metadata": {},
   "outputs": [
    {
     "data": {
      "text/plain": [
       "273          MOO\n",
       "1569        ALLO\n",
       "7166    RICOMINI\n",
       "7226    BETIOLLO\n",
       "759        MAFIA\n",
       "Name: Municipio_normalizado, dtype: object"
      ]
     },
     "execution_count": 30,
     "metadata": {},
     "output_type": "execute_result"
    }
   ],
   "source": [
    "peps['Municipio_normalizado'].sample(5)"
   ]
  },
  {
   "cell_type": "markdown",
   "metadata": {},
   "source": [
    "As coluna **Data_Início_Exercício**, **Data_Fim_Exercício** e **Data_Fim_Carência** estão no formato YYYY/MM/DD, para facilitar a análise, vamos criar a colunas **Data_Inicio_Exercicio_normalizado**, **Data_Fim_Exercicio_normalizado** e **Data_Fim_Carência_normalizado** com o formato YYYY-MM-DD"
   ]
  },
  {
   "cell_type": "code",
   "execution_count": 31,
   "metadata": {},
   "outputs": [
    {
     "data": {
      "text/plain": [
       "1397    01/01/2017\n",
       "5624    01/01/2017\n",
       "176     01/01/2017\n",
       "582     01/01/2017\n",
       "6727    01/01/2017\n",
       "Name: Data_Início_Exercício, dtype: object"
      ]
     },
     "execution_count": 31,
     "metadata": {},
     "output_type": "execute_result"
    }
   ],
   "source": [
    "peps['Data_Início_Exercício'].sample(5)"
   ]
  },
  {
   "cell_type": "code",
   "execution_count": 32,
   "metadata": {},
   "outputs": [
    {
     "data": {
      "text/plain": [
       "1324    31/12/2020\n",
       "5281    31/12/2020\n",
       "5967    31/12/2020\n",
       "5474    31/12/2020\n",
       "5321    31/12/2020\n",
       "Name: Data_Fim_Exercício, dtype: object"
      ]
     },
     "execution_count": 32,
     "metadata": {},
     "output_type": "execute_result"
    }
   ],
   "source": [
    "peps['Data_Fim_Exercício'].sample(5)"
   ]
  },
  {
   "cell_type": "code",
   "execution_count": 33,
   "metadata": {},
   "outputs": [
    {
     "data": {
      "text/plain": [
       "877     31/12/2025\n",
       "263     31/12/2025\n",
       "6513    31/12/2025\n",
       "974     31/12/2025\n",
       "1064    31/12/2025\n",
       "Name: Data_Fim_Carência, dtype: object"
      ]
     },
     "execution_count": 33,
     "metadata": {},
     "output_type": "execute_result"
    }
   ],
   "source": [
    "peps['Data_Fim_Carência'].sample(5)"
   ]
  },
  {
   "cell_type": "code",
   "execution_count": 34,
   "metadata": {},
   "outputs": [],
   "source": [
    "peps['Data_Inicio_Exercicio_normalizado'] = pd.to_datetime(peps['Data_Início_Exercício']).dt.date\n",
    "peps['Data_Fim_Exercicio_normalizado'] = pd.to_datetime(peps['Data_Fim_Exercício']).dt.date\n",
    "peps['Data_Fim_Carência_normalizado'] = pd.to_datetime(peps['Data_Fim_Carência']).dt.date"
   ]
  },
  {
   "cell_type": "code",
   "execution_count": 35,
   "metadata": {},
   "outputs": [
    {
     "data": {
      "text/plain": [
       "1540    2017-01-01\n",
       "7094    2017-01-01\n",
       "5596    2017-01-01\n",
       "2464    2017-01-01\n",
       "6526    2017-01-01\n",
       "Name: Data_Inicio_Exercicio_normalizado, dtype: object"
      ]
     },
     "execution_count": 35,
     "metadata": {},
     "output_type": "execute_result"
    }
   ],
   "source": [
    "peps['Data_Inicio_Exercicio_normalizado'].sample(5)"
   ]
  },
  {
   "cell_type": "code",
   "execution_count": 36,
   "metadata": {},
   "outputs": [
    {
     "data": {
      "text/plain": [
       "3234    2020-12-31\n",
       "6381    2020-12-31\n",
       "4109    2020-12-31\n",
       "1565    2020-12-31\n",
       "3414    2020-12-31\n",
       "Name: Data_Fim_Exercicio_normalizado, dtype: object"
      ]
     },
     "execution_count": 36,
     "metadata": {},
     "output_type": "execute_result"
    }
   ],
   "source": [
    "peps['Data_Fim_Exercicio_normalizado'].sample(5)"
   ]
  },
  {
   "cell_type": "code",
   "execution_count": 37,
   "metadata": {},
   "outputs": [
    {
     "data": {
      "text/plain": [
       "3632    2025-12-31\n",
       "6474    2025-12-31\n",
       "2369    2025-12-31\n",
       "6117    2025-12-31\n",
       "5005    2025-12-31\n",
       "Name: Data_Fim_Carência_normalizado, dtype: object"
      ]
     },
     "execution_count": 37,
     "metadata": {},
     "output_type": "execute_result"
    }
   ],
   "source": [
    "peps['Data_Fim_Carência_normalizado'].sample(5)"
   ]
  },
  {
   "cell_type": "markdown",
   "metadata": {},
   "source": [
    "### Gerar Banco de Dados"
   ]
  },
  {
   "cell_type": "markdown",
   "metadata": {},
   "source": [
    "#### Copiar banco original para diretorio de saida"
   ]
  },
  {
   "cell_type": "code",
   "execution_count": 38,
   "metadata": {},
   "outputs": [
    {
     "data": {
      "text/plain": [
       "'saida\\\\output.db'"
      ]
     },
     "execution_count": 38,
     "metadata": {},
     "output_type": "execute_result"
    }
   ],
   "source": [
    "arquivo_banco_saida = 'output.db'\n",
    "filepath_arquivo_banco_saida = os.path.join(diretorio_saida_dados, arquivo_banco_saida)\n",
    "shutil.copyfile(filepath_arquivo_sqlite, filepath_arquivo_banco_saida)"
   ]
  },
  {
   "cell_type": "markdown",
   "metadata": {},
   "source": [
    "#### Gravar tabela de prefeitos_vereadores em banco gerado"
   ]
  },
  {
   "cell_type": "code",
   "execution_count": 39,
   "metadata": {},
   "outputs": [],
   "source": [
    "url_banco = \"sqlite:///{}\".format(filepath_arquivo_banco_saida)\n",
    "engine_banco_saida = sqlalchemy.create_engine(url_banco)"
   ]
  },
  {
   "cell_type": "code",
   "execution_count": 40,
   "metadata": {},
   "outputs": [],
   "source": [
    "peps.to_sql('peps', con=engine_banco_saida)"
   ]
  },
  {
   "cell_type": "markdown",
   "metadata": {},
   "source": [
    "### Consultar Empresas Relacionadas com Pessoas Politicamente Expostas que Receberam Recursos"
   ]
  },
  {
   "cell_type": "code",
   "execution_count": 41,
   "metadata": {},
   "outputs": [],
   "source": [
    "sql = 'SELECT \\\n",
    "  des.ds_municipio AS [Nome_Municipio_Ficticio], \\\n",
    "  des.nr_identificador_despesa AS [CNPJ_Empresa_Beneficiaria], \\\n",
    "  des.ds_despesa AS [Razao_Social_Empresa_Beneficiaria], \\\n",
    "  des.soma AS [Valor_Total], \\\n",
    "  emp.cnpj AS [CNPJ_RFB], \\\n",
    "  emp.razao_social AS [Razao_Social_RFB], \\\n",
    "  CASE emp.situacao \\\n",
    "    WHEN \"01\" THEN \"NULA\" \\\n",
    "    WHEN \"02\" THEN \"ATIVA\" \\\n",
    "    WHEN \"03\" THEN \"SUSPENSA\" \\\n",
    "    WHEN \"04\" THEN \"INAPTA\" \\\n",
    "    WHEN \"08\" THEN \"BAIXADA\" \\\n",
    "  END AS [Situacao_Cadastral_RFB], \\\n",
    "  CAST(emp.data_situacao AS DATE) AS [Data_Situacao_Cadastral_RFB], \\\n",
    "  emp.cod_nat_juridica AS [Codigo_Natureza_Juridica_RFB], \\\n",
    "  CAST(emp.data_inicio_ativ AS DATE) AS [Data_Inicio_Atividade_RFB], \\\n",
    "  emp.cnae_fiscal AS [CNAE_Fiscal_RFB], \\\n",
    "  emp.municipio AS [Municipio_RFB], \\\n",
    "  emp.uf AS [UF_RFB], \\\n",
    "  soc.nome_socio AS [Nome_Socio_RFB], \\\n",
    "  soc.cnpj_cpf_socio AS [CPF_Socio_RFB], \\\n",
    "  CAST(soc.data_entrada AS DATE) AS [Data_Entrada_Socio_RFB], \\\n",
    "  pep.Nome_PEP AS [Nome_PEP], \\\n",
    "  pep.CPF_normalizado AS [CPF_PEP], \\\n",
    "  pep.Descrição_Função AS [Funcao_PEP], \\\n",
    "  pep.Data_Inicio_Exercicio_normalizado AS [Data_Inicio_PEP], \\\n",
    "  pep.Data_Fim_Exercicio_normalizado AS [Data_Fim_PEP], \\\n",
    "  pep.Data_Fim_Carência_normalizado AS [Data_Carencia_PEP], \\\n",
    "  pep.Municipio_normalizado AS [Municipio_PEP], \\\n",
    "  pep.uf_orgao AS [UF_PEP] \\\n",
    "FROM despesas_consolidado des \\\n",
    "JOIN empresas emp ON emp.cnpj = des.nr_identificador_despesa \\\n",
    "JOIN socios soc ON soc.cnpj = emp.cnpj \\\n",
    "JOIN peps pep ON pep.CPF_normalizado = soc.cnpj_cpf_socio AND pep.Nome_PEP = soc.nome_socio'"
   ]
  },
  {
   "cell_type": "code",
   "execution_count": 42,
   "metadata": {},
   "outputs": [],
   "source": [
    "empresas_peps = pd.read_sql(sql, engine_banco_saida, index_col=None)"
   ]
  },
  {
   "cell_type": "code",
   "execution_count": 43,
   "metadata": {},
   "outputs": [
    {
     "data": {
      "text/html": [
       "<div>\n",
       "<style scoped>\n",
       "    .dataframe tbody tr th:only-of-type {\n",
       "        vertical-align: middle;\n",
       "    }\n",
       "\n",
       "    .dataframe tbody tr th {\n",
       "        vertical-align: top;\n",
       "    }\n",
       "\n",
       "    .dataframe thead th {\n",
       "        text-align: right;\n",
       "    }\n",
       "</style>\n",
       "<table border=\"1\" class=\"dataframe\">\n",
       "  <thead>\n",
       "    <tr style=\"text-align: right;\">\n",
       "      <th></th>\n",
       "      <th>Nome_Municipio_Ficticio</th>\n",
       "      <th>CNPJ_Empresa_Beneficiaria</th>\n",
       "      <th>Razao_Social_Empresa_Beneficiaria</th>\n",
       "      <th>Valor_Total</th>\n",
       "      <th>CNPJ_RFB</th>\n",
       "      <th>Razao_Social_RFB</th>\n",
       "      <th>Situacao_Cadastral_RFB</th>\n",
       "      <th>Data_Situacao_Cadastral_RFB</th>\n",
       "      <th>Codigo_Natureza_Juridica_RFB</th>\n",
       "      <th>Data_Inicio_Atividade_RFB</th>\n",
       "      <th>...</th>\n",
       "      <th>CPF_Socio_RFB</th>\n",
       "      <th>Data_Entrada_Socio_RFB</th>\n",
       "      <th>Nome_PEP</th>\n",
       "      <th>CPF_PEP</th>\n",
       "      <th>Funcao_PEP</th>\n",
       "      <th>Data_Inicio_PEP</th>\n",
       "      <th>Data_Fim_PEP</th>\n",
       "      <th>Data_Carencia_PEP</th>\n",
       "      <th>Municipio_PEP</th>\n",
       "      <th>UF_PEP</th>\n",
       "    </tr>\n",
       "  </thead>\n",
       "  <tbody>\n",
       "    <tr>\n",
       "      <th>8</th>\n",
       "      <td>VALLIS</td>\n",
       "      <td>55815300000213</td>\n",
       "      <td>AMINE IMOBILIARIOS</td>\n",
       "      <td>747080.25</td>\n",
       "      <td>55815300000213</td>\n",
       "      <td>AMINE IMOBILIARIOS</td>\n",
       "      <td>ATIVA</td>\n",
       "      <td>20200101</td>\n",
       "      <td>3999</td>\n",
       "      <td>19870728</td>\n",
       "      <td>...</td>\n",
       "      <td>***890658**</td>\n",
       "      <td>20200101</td>\n",
       "      <td>AMARILDO SABATE KAILER</td>\n",
       "      <td>***890658**</td>\n",
       "      <td>PREFEITO</td>\n",
       "      <td>2017-01-01</td>\n",
       "      <td>2020-12-31</td>\n",
       "      <td>2025-12-31</td>\n",
       "      <td>SOLIZ</td>\n",
       "      <td>SP</td>\n",
       "    </tr>\n",
       "    <tr>\n",
       "      <th>44</th>\n",
       "      <td>NIELAND</td>\n",
       "      <td>06273922000124</td>\n",
       "      <td>MOMOKA ARTISTICAS LTDA</td>\n",
       "      <td>195474.65</td>\n",
       "      <td>06273922000124</td>\n",
       "      <td>MOMOKA ARTISTICAS LTDA</td>\n",
       "      <td>ATIVA</td>\n",
       "      <td>20200101</td>\n",
       "      <td>3999</td>\n",
       "      <td>20000214</td>\n",
       "      <td>...</td>\n",
       "      <td>***923478**</td>\n",
       "      <td>20200101</td>\n",
       "      <td>GEOVANISA TERSINHA BERTASSONI</td>\n",
       "      <td>***923478**</td>\n",
       "      <td>PREFEITO</td>\n",
       "      <td>2017-01-01</td>\n",
       "      <td>2020-12-31</td>\n",
       "      <td>2025-12-31</td>\n",
       "      <td>SACCOL</td>\n",
       "      <td>SP</td>\n",
       "    </tr>\n",
       "    <tr>\n",
       "      <th>43</th>\n",
       "      <td>DALO</td>\n",
       "      <td>10240793000137</td>\n",
       "      <td>JOAO LUCAS ELETRONICOS SA</td>\n",
       "      <td>221294.85</td>\n",
       "      <td>10240793000137</td>\n",
       "      <td>JOAO LUCAS ELETRONICOS SA</td>\n",
       "      <td>ATIVA</td>\n",
       "      <td>20200101</td>\n",
       "      <td>3999</td>\n",
       "      <td>20130111</td>\n",
       "      <td>...</td>\n",
       "      <td>***502138**</td>\n",
       "      <td>20200101</td>\n",
       "      <td>CAUME UNAIDE ABASILIA PHREDERICO ZIELAK</td>\n",
       "      <td>***502138**</td>\n",
       "      <td>PREFEITO</td>\n",
       "      <td>2017-01-01</td>\n",
       "      <td>2020-12-31</td>\n",
       "      <td>2025-12-31</td>\n",
       "      <td>BREIA</td>\n",
       "      <td>SP</td>\n",
       "    </tr>\n",
       "    <tr>\n",
       "      <th>22</th>\n",
       "      <td>VITT</td>\n",
       "      <td>06273922000124</td>\n",
       "      <td>MOMOKA ARTISTICAS LTDA</td>\n",
       "      <td>421712.59</td>\n",
       "      <td>06273922000124</td>\n",
       "      <td>MOMOKA ARTISTICAS LTDA</td>\n",
       "      <td>ATIVA</td>\n",
       "      <td>20200101</td>\n",
       "      <td>3999</td>\n",
       "      <td>20000214</td>\n",
       "      <td>...</td>\n",
       "      <td>***923478**</td>\n",
       "      <td>20200101</td>\n",
       "      <td>GEOVANISA TERSINHA BERTASSONI</td>\n",
       "      <td>***923478**</td>\n",
       "      <td>PREFEITO</td>\n",
       "      <td>2017-01-01</td>\n",
       "      <td>2020-12-31</td>\n",
       "      <td>2025-12-31</td>\n",
       "      <td>SACCOL</td>\n",
       "      <td>SP</td>\n",
       "    </tr>\n",
       "    <tr>\n",
       "      <th>28</th>\n",
       "      <td>SITA</td>\n",
       "      <td>49524688000199</td>\n",
       "      <td>IBAI VESTUARIO</td>\n",
       "      <td>339078.90</td>\n",
       "      <td>49524688000199</td>\n",
       "      <td>IBAI VESTUARIO</td>\n",
       "      <td>ATIVA</td>\n",
       "      <td>20200101</td>\n",
       "      <td>2038</td>\n",
       "      <td>20201019</td>\n",
       "      <td>...</td>\n",
       "      <td>***460278**</td>\n",
       "      <td>20200101</td>\n",
       "      <td>SAVIOLO LUYTEN SMERIERI</td>\n",
       "      <td>***460278**</td>\n",
       "      <td>PREFEITO</td>\n",
       "      <td>2017-01-01</td>\n",
       "      <td>2020-12-31</td>\n",
       "      <td>2025-12-31</td>\n",
       "      <td>SITA</td>\n",
       "      <td>SP</td>\n",
       "    </tr>\n",
       "  </tbody>\n",
       "</table>\n",
       "<p>5 rows × 24 columns</p>\n",
       "</div>"
      ],
      "text/plain": [
       "   Nome_Municipio_Ficticio CNPJ_Empresa_Beneficiaria  \\\n",
       "8                   VALLIS            55815300000213   \n",
       "44                 NIELAND            06273922000124   \n",
       "43                    DALO            10240793000137   \n",
       "22                    VITT            06273922000124   \n",
       "28                    SITA            49524688000199   \n",
       "\n",
       "   Razao_Social_Empresa_Beneficiaria  Valor_Total        CNPJ_RFB  \\\n",
       "8                 AMINE IMOBILIARIOS    747080.25  55815300000213   \n",
       "44            MOMOKA ARTISTICAS LTDA    195474.65  06273922000124   \n",
       "43         JOAO LUCAS ELETRONICOS SA    221294.85  10240793000137   \n",
       "22            MOMOKA ARTISTICAS LTDA    421712.59  06273922000124   \n",
       "28                    IBAI VESTUARIO    339078.90  49524688000199   \n",
       "\n",
       "             Razao_Social_RFB Situacao_Cadastral_RFB  \\\n",
       "8          AMINE IMOBILIARIOS                  ATIVA   \n",
       "44     MOMOKA ARTISTICAS LTDA                  ATIVA   \n",
       "43  JOAO LUCAS ELETRONICOS SA                  ATIVA   \n",
       "22     MOMOKA ARTISTICAS LTDA                  ATIVA   \n",
       "28             IBAI VESTUARIO                  ATIVA   \n",
       "\n",
       "    Data_Situacao_Cadastral_RFB Codigo_Natureza_Juridica_RFB  \\\n",
       "8                      20200101                         3999   \n",
       "44                     20200101                         3999   \n",
       "43                     20200101                         3999   \n",
       "22                     20200101                         3999   \n",
       "28                     20200101                         2038   \n",
       "\n",
       "    Data_Inicio_Atividade_RFB  ... CPF_Socio_RFB Data_Entrada_Socio_RFB  \\\n",
       "8                    19870728  ...   ***890658**               20200101   \n",
       "44                   20000214  ...   ***923478**               20200101   \n",
       "43                   20130111  ...   ***502138**               20200101   \n",
       "22                   20000214  ...   ***923478**               20200101   \n",
       "28                   20201019  ...   ***460278**               20200101   \n",
       "\n",
       "                                   Nome_PEP      CPF_PEP Funcao_PEP  \\\n",
       "8                    AMARILDO SABATE KAILER  ***890658**   PREFEITO   \n",
       "44            GEOVANISA TERSINHA BERTASSONI  ***923478**   PREFEITO   \n",
       "43  CAUME UNAIDE ABASILIA PHREDERICO ZIELAK  ***502138**   PREFEITO   \n",
       "22            GEOVANISA TERSINHA BERTASSONI  ***923478**   PREFEITO   \n",
       "28                  SAVIOLO LUYTEN SMERIERI  ***460278**   PREFEITO   \n",
       "\n",
       "    Data_Inicio_PEP Data_Fim_PEP Data_Carencia_PEP Municipio_PEP UF_PEP  \n",
       "8        2017-01-01   2020-12-31        2025-12-31         SOLIZ     SP  \n",
       "44       2017-01-01   2020-12-31        2025-12-31        SACCOL     SP  \n",
       "43       2017-01-01   2020-12-31        2025-12-31         BREIA     SP  \n",
       "22       2017-01-01   2020-12-31        2025-12-31        SACCOL     SP  \n",
       "28       2017-01-01   2020-12-31        2025-12-31          SITA     SP  \n",
       "\n",
       "[5 rows x 24 columns]"
      ]
     },
     "execution_count": 43,
     "metadata": {},
     "output_type": "execute_result"
    }
   ],
   "source": [
    "empresas_peps.sample(5)"
   ]
  },
  {
   "cell_type": "markdown",
   "metadata": {
    "tags": []
   },
   "source": [
    "#### Salvar dados"
   ]
  },
  {
   "cell_type": "code",
   "execution_count": 44,
   "metadata": {},
   "outputs": [],
   "source": [
    "arquivo_saida = 'empresas_peps.csv'\n",
    "filepath = os.path.join(diretorio_saida_dados, arquivo_saida)\n",
    "empresas_peps.to_csv(filepath, index=False)"
   ]
  },
  {
   "cell_type": "markdown",
   "metadata": {},
   "source": [
    "### Consultar Empresas Relacionadas com Pessoas Politicamente Expostas que Receberam Recursos dos Municípios que Possuem Mandatos"
   ]
  },
  {
   "cell_type": "code",
   "execution_count": 45,
   "metadata": {},
   "outputs": [],
   "source": [
    "sql = 'SELECT \\\n",
    "  des.ds_municipio AS [Nome_Municipio_Ficticio], \\\n",
    "  des.nr_identificador_despesa AS [CNPJ_Empresa_Beneficiaria], \\\n",
    "  des.ds_despesa AS [Razao_Social_Empresa_Beneficiaria], \\\n",
    "  des.soma AS [Valor_Total], \\\n",
    "  emp.cnpj AS [CNPJ_RFB], \\\n",
    "  emp.razao_social AS [Razao_Social_RFB], \\\n",
    "  CASE emp.situacao \\\n",
    "    WHEN \"01\" THEN \"NULA\" \\\n",
    "    WHEN \"02\" THEN \"ATIVA\" \\\n",
    "    WHEN \"03\" THEN \"SUSPENSA\" \\\n",
    "    WHEN \"04\" THEN \"INAPTA\" \\\n",
    "    WHEN \"08\" THEN \"BAIXADA\" \\\n",
    "  END AS [Situacao_Cadastral_RFB], \\\n",
    "  CAST(emp.data_situacao AS DATE) AS [Data_Situacao_Cadastral_RFB], \\\n",
    "  emp.cod_nat_juridica AS [Codigo_Natureza_Juridica_RFB], \\\n",
    "  CAST(emp.data_inicio_ativ AS DATE) AS [Data_Inicio_Atividade_RFB], \\\n",
    "  emp.cnae_fiscal AS [CNAE_Fiscal_RFB], \\\n",
    "  emp.municipio AS [Municipio_RFB], \\\n",
    "  emp.uf AS [UF_RFB], \\\n",
    "  soc.nome_socio AS [Nome_Socio_RFB], \\\n",
    "  soc.cnpj_cpf_socio AS [CPF_Socio_RFB], \\\n",
    "  CAST(soc.data_entrada AS DATE) AS [Data_Entrada_Socio_RFB], \\\n",
    "  pep.Nome_PEP AS [Nome_PEP], \\\n",
    "  pep.CPF_normalizado AS [CPF_PEP], \\\n",
    "  pep.Descrição_Função AS [Funcao_PEP], \\\n",
    "  pep.Data_Inicio_Exercicio_normalizado AS [Data_Inicio_PEP], \\\n",
    "  pep.Data_Fim_Exercicio_normalizado AS [Data_Fim_PEP], \\\n",
    "  pep.Data_Fim_Carência_normalizado AS [Data_Carencia_PEP], \\\n",
    "  pep.Municipio_normalizado AS [Municipio_PEP], \\\n",
    "  pep.uf_orgao AS [UF_PEP] \\\n",
    "FROM despesas_consolidado des \\\n",
    "JOIN empresas emp ON emp.cnpj = des.nr_identificador_despesa \\\n",
    "JOIN socios soc ON soc.cnpj = emp.cnpj \\\n",
    "JOIN peps pep ON pep.CPF_normalizado = soc.cnpj_cpf_socio AND pep.Nome_PEP = soc.nome_socio \\\n",
    "WHERE emp.uf = pep.uf_orgao AND emp.municipio = pep.Municipio_normalizado'"
   ]
  },
  {
   "cell_type": "code",
   "execution_count": 46,
   "metadata": {},
   "outputs": [],
   "source": [
    "empresas_peps_mesmo_municipio = pd.read_sql(sql, engine_banco_saida, index_col=None)"
   ]
  },
  {
   "cell_type": "code",
   "execution_count": 47,
   "metadata": {},
   "outputs": [
    {
     "data": {
      "text/html": [
       "<div>\n",
       "<style scoped>\n",
       "    .dataframe tbody tr th:only-of-type {\n",
       "        vertical-align: middle;\n",
       "    }\n",
       "\n",
       "    .dataframe tbody tr th {\n",
       "        vertical-align: top;\n",
       "    }\n",
       "\n",
       "    .dataframe thead th {\n",
       "        text-align: right;\n",
       "    }\n",
       "</style>\n",
       "<table border=\"1\" class=\"dataframe\">\n",
       "  <thead>\n",
       "    <tr style=\"text-align: right;\">\n",
       "      <th></th>\n",
       "      <th>Nome_Municipio_Ficticio</th>\n",
       "      <th>CNPJ_Empresa_Beneficiaria</th>\n",
       "      <th>Razao_Social_Empresa_Beneficiaria</th>\n",
       "      <th>Valor_Total</th>\n",
       "      <th>CNPJ_RFB</th>\n",
       "      <th>Razao_Social_RFB</th>\n",
       "      <th>Situacao_Cadastral_RFB</th>\n",
       "      <th>Data_Situacao_Cadastral_RFB</th>\n",
       "      <th>Codigo_Natureza_Juridica_RFB</th>\n",
       "      <th>Data_Inicio_Atividade_RFB</th>\n",
       "      <th>...</th>\n",
       "      <th>CPF_Socio_RFB</th>\n",
       "      <th>Data_Entrada_Socio_RFB</th>\n",
       "      <th>Nome_PEP</th>\n",
       "      <th>CPF_PEP</th>\n",
       "      <th>Funcao_PEP</th>\n",
       "      <th>Data_Inicio_PEP</th>\n",
       "      <th>Data_Fim_PEP</th>\n",
       "      <th>Data_Carencia_PEP</th>\n",
       "      <th>Municipio_PEP</th>\n",
       "      <th>UF_PEP</th>\n",
       "    </tr>\n",
       "  </thead>\n",
       "  <tbody>\n",
       "    <tr>\n",
       "      <th>5</th>\n",
       "      <td>PATRUCCO</td>\n",
       "      <td>12480500000115</td>\n",
       "      <td>VICENTE MODAS</td>\n",
       "      <td>306932.06</td>\n",
       "      <td>12480500000115</td>\n",
       "      <td>VICENTE MODAS</td>\n",
       "      <td>BAIXADA</td>\n",
       "      <td>20200101</td>\n",
       "      <td>2305</td>\n",
       "      <td>20140218</td>\n",
       "      <td>...</td>\n",
       "      <td>***178358**</td>\n",
       "      <td>20200101</td>\n",
       "      <td>JOAO YPEI DE KAARA</td>\n",
       "      <td>***178358**</td>\n",
       "      <td>PREFEITO</td>\n",
       "      <td>2017-01-01</td>\n",
       "      <td>2020-12-31</td>\n",
       "      <td>2025-12-31</td>\n",
       "      <td>GAZETA</td>\n",
       "      <td>SP</td>\n",
       "    </tr>\n",
       "    <tr>\n",
       "      <th>2</th>\n",
       "      <td>SUCHOBKOW</td>\n",
       "      <td>56776669000107</td>\n",
       "      <td>FINN TECNOLOGIA</td>\n",
       "      <td>559375.94</td>\n",
       "      <td>56776669000107</td>\n",
       "      <td>FINN TECNOLOGIA</td>\n",
       "      <td>ATIVA</td>\n",
       "      <td>20200101</td>\n",
       "      <td>3999</td>\n",
       "      <td>19860918</td>\n",
       "      <td>...</td>\n",
       "      <td>***078588**</td>\n",
       "      <td>20200101</td>\n",
       "      <td>IDEVAL DELU STRAPPA</td>\n",
       "      <td>***078588**</td>\n",
       "      <td>VEREADOR</td>\n",
       "      <td>2017-01-01</td>\n",
       "      <td>2020-12-31</td>\n",
       "      <td>2025-12-31</td>\n",
       "      <td>SUCHOBKOW</td>\n",
       "      <td>SP</td>\n",
       "    </tr>\n",
       "    <tr>\n",
       "      <th>3</th>\n",
       "      <td>HACKEL</td>\n",
       "      <td>04578574000175</td>\n",
       "      <td>SOMA TURISMO EPP</td>\n",
       "      <td>513335.60</td>\n",
       "      <td>04578574000175</td>\n",
       "      <td>SOMA TURISMO EPP</td>\n",
       "      <td>ATIVA</td>\n",
       "      <td>20200101</td>\n",
       "      <td>2062</td>\n",
       "      <td>19960117</td>\n",
       "      <td>...</td>\n",
       "      <td>***149208**</td>\n",
       "      <td>20200101</td>\n",
       "      <td>CLOZOE SPERETA DANIEL</td>\n",
       "      <td>***149208**</td>\n",
       "      <td>PREFEITO</td>\n",
       "      <td>2017-01-01</td>\n",
       "      <td>2020-12-31</td>\n",
       "      <td>2025-12-31</td>\n",
       "      <td>HACKEL</td>\n",
       "      <td>SP</td>\n",
       "    </tr>\n",
       "    <tr>\n",
       "      <th>0</th>\n",
       "      <td>KANDELMAN</td>\n",
       "      <td>51653764000156</td>\n",
       "      <td>ROBERTS INFORMACAO EPP</td>\n",
       "      <td>14121381.99</td>\n",
       "      <td>51653764000156</td>\n",
       "      <td>ROBERTS INFORMACAO EPP</td>\n",
       "      <td>ATIVA</td>\n",
       "      <td>20200101</td>\n",
       "      <td>3999</td>\n",
       "      <td>19661022</td>\n",
       "      <td>...</td>\n",
       "      <td>***708958**</td>\n",
       "      <td>20200101</td>\n",
       "      <td>ADEMIR FABRISIA</td>\n",
       "      <td>***708958**</td>\n",
       "      <td>VEREADOR</td>\n",
       "      <td>2017-01-01</td>\n",
       "      <td>2020-12-31</td>\n",
       "      <td>2025-12-31</td>\n",
       "      <td>KANDELMAN</td>\n",
       "      <td>SP</td>\n",
       "    </tr>\n",
       "    <tr>\n",
       "      <th>6</th>\n",
       "      <td>ALVERNE</td>\n",
       "      <td>47817109002513</td>\n",
       "      <td>CLAIRE SUPERMERCADO</td>\n",
       "      <td>311980.65</td>\n",
       "      <td>47817109002513</td>\n",
       "      <td>CLAIRE SUPERMERCADO</td>\n",
       "      <td>ATIVA</td>\n",
       "      <td>20200101</td>\n",
       "      <td>2062</td>\n",
       "      <td>20050723</td>\n",
       "      <td>...</td>\n",
       "      <td>***199388**</td>\n",
       "      <td>20200101</td>\n",
       "      <td>UNAIDE ALBERTO DAMAR</td>\n",
       "      <td>***199388**</td>\n",
       "      <td>VEREADOR</td>\n",
       "      <td>2017-01-01</td>\n",
       "      <td>2020-12-31</td>\n",
       "      <td>2025-12-31</td>\n",
       "      <td>ALVERNE</td>\n",
       "      <td>SP</td>\n",
       "    </tr>\n",
       "  </tbody>\n",
       "</table>\n",
       "<p>5 rows × 24 columns</p>\n",
       "</div>"
      ],
      "text/plain": [
       "  Nome_Municipio_Ficticio CNPJ_Empresa_Beneficiaria  \\\n",
       "5                PATRUCCO            12480500000115   \n",
       "2               SUCHOBKOW            56776669000107   \n",
       "3                  HACKEL            04578574000175   \n",
       "0               KANDELMAN            51653764000156   \n",
       "6                 ALVERNE            47817109002513   \n",
       "\n",
       "  Razao_Social_Empresa_Beneficiaria  Valor_Total        CNPJ_RFB  \\\n",
       "5                     VICENTE MODAS    306932.06  12480500000115   \n",
       "2                   FINN TECNOLOGIA    559375.94  56776669000107   \n",
       "3                  SOMA TURISMO EPP    513335.60  04578574000175   \n",
       "0            ROBERTS INFORMACAO EPP  14121381.99  51653764000156   \n",
       "6               CLAIRE SUPERMERCADO    311980.65  47817109002513   \n",
       "\n",
       "         Razao_Social_RFB Situacao_Cadastral_RFB  Data_Situacao_Cadastral_RFB  \\\n",
       "5           VICENTE MODAS                BAIXADA                     20200101   \n",
       "2         FINN TECNOLOGIA                  ATIVA                     20200101   \n",
       "3        SOMA TURISMO EPP                  ATIVA                     20200101   \n",
       "0  ROBERTS INFORMACAO EPP                  ATIVA                     20200101   \n",
       "6     CLAIRE SUPERMERCADO                  ATIVA                     20200101   \n",
       "\n",
       "  Codigo_Natureza_Juridica_RFB  Data_Inicio_Atividade_RFB  ... CPF_Socio_RFB  \\\n",
       "5                         2305                   20140218  ...   ***178358**   \n",
       "2                         3999                   19860918  ...   ***078588**   \n",
       "3                         2062                   19960117  ...   ***149208**   \n",
       "0                         3999                   19661022  ...   ***708958**   \n",
       "6                         2062                   20050723  ...   ***199388**   \n",
       "\n",
       "  Data_Entrada_Socio_RFB               Nome_PEP      CPF_PEP Funcao_PEP  \\\n",
       "5               20200101     JOAO YPEI DE KAARA  ***178358**   PREFEITO   \n",
       "2               20200101    IDEVAL DELU STRAPPA  ***078588**   VEREADOR   \n",
       "3               20200101  CLOZOE SPERETA DANIEL  ***149208**   PREFEITO   \n",
       "0               20200101        ADEMIR FABRISIA  ***708958**   VEREADOR   \n",
       "6               20200101   UNAIDE ALBERTO DAMAR  ***199388**   VEREADOR   \n",
       "\n",
       "   Data_Inicio_PEP Data_Fim_PEP Data_Carencia_PEP Municipio_PEP UF_PEP  \n",
       "5       2017-01-01   2020-12-31        2025-12-31        GAZETA     SP  \n",
       "2       2017-01-01   2020-12-31        2025-12-31     SUCHOBKOW     SP  \n",
       "3       2017-01-01   2020-12-31        2025-12-31        HACKEL     SP  \n",
       "0       2017-01-01   2020-12-31        2025-12-31     KANDELMAN     SP  \n",
       "6       2017-01-01   2020-12-31        2025-12-31       ALVERNE     SP  \n",
       "\n",
       "[5 rows x 24 columns]"
      ]
     },
     "execution_count": 47,
     "metadata": {},
     "output_type": "execute_result"
    }
   ],
   "source": [
    "empresas_peps_mesmo_municipio.sample(5)"
   ]
  },
  {
   "cell_type": "markdown",
   "metadata": {
    "tags": []
   },
   "source": [
    "#### Salvar dados"
   ]
  },
  {
   "cell_type": "code",
   "execution_count": 48,
   "metadata": {},
   "outputs": [],
   "source": [
    "arquivo_saida = 'empresas_peps_mesmo_municipio.csv'\n",
    "filepath = os.path.join(diretorio_saida_dados, arquivo_saida)\n",
    "empresas_peps_mesmo_municipio.to_csv(filepath, index=False)"
   ]
  },
  {
   "cell_type": "code",
   "execution_count": null,
   "metadata": {},
   "outputs": [],
   "source": []
  },
  {
   "cell_type": "code",
   "execution_count": 51,
   "metadata": {},
   "outputs": [],
   "source": [
    "arquivo_municipios = 'Municipios_SP_paridade.csv'\n",
    "filepath_arquivo_municipios = os.path.join(diretorio_dados, arquivo_municipios)"
   ]
  },
  {
   "cell_type": "code",
   "execution_count": 52,
   "metadata": {},
   "outputs": [],
   "source": [
    "municipios = pd.read_csv(filepath_arquivo_municipios, sep='|')"
   ]
  },
  {
   "cell_type": "code",
   "execution_count": 54,
   "metadata": {},
   "outputs": [],
   "source": [
    "empresas_peps_coord = pd.merge(empresas_peps, municipios, how=\"inner\", left_on='Nome_Municipio_Ficticio', right_on='Municipio_ficticio')"
   ]
  },
  {
   "cell_type": "code",
   "execution_count": 55,
   "metadata": {},
   "outputs": [
    {
     "name": "stdout",
     "output_type": "stream",
     "text": [
      "<class 'pandas.core.frame.DataFrame'>\n",
      "Int64Index: 73 entries, 0 to 72\n",
      "Data columns (total 32 columns):\n",
      " #   Column                             Non-Null Count  Dtype  \n",
      "---  ------                             --------------  -----  \n",
      " 0   Nome_Municipio_Ficticio            73 non-null     object \n",
      " 1   CNPJ_Empresa_Beneficiaria          73 non-null     object \n",
      " 2   Razao_Social_Empresa_Beneficiaria  73 non-null     object \n",
      " 3   Valor_Total                        73 non-null     float64\n",
      " 4   CNPJ_RFB                           73 non-null     object \n",
      " 5   Razao_Social_RFB                   73 non-null     object \n",
      " 6   Situacao_Cadastral_RFB             73 non-null     object \n",
      " 7   Data_Situacao_Cadastral_RFB        73 non-null     int64  \n",
      " 8   Codigo_Natureza_Juridica_RFB       73 non-null     object \n",
      " 9   Data_Inicio_Atividade_RFB          73 non-null     int64  \n",
      " 10  CNAE_Fiscal_RFB                    73 non-null     object \n",
      " 11  Municipio_RFB                      73 non-null     object \n",
      " 12  UF_RFB                             73 non-null     object \n",
      " 13  Nome_Socio_RFB                     73 non-null     object \n",
      " 14  CPF_Socio_RFB                      73 non-null     object \n",
      " 15  Data_Entrada_Socio_RFB             73 non-null     int64  \n",
      " 16  Nome_PEP                           73 non-null     object \n",
      " 17  CPF_PEP                            73 non-null     object \n",
      " 18  Funcao_PEP                         73 non-null     object \n",
      " 19  Data_Inicio_PEP                    73 non-null     object \n",
      " 20  Data_Fim_PEP                       73 non-null     object \n",
      " 21  Data_Carencia_PEP                  73 non-null     object \n",
      " 22  Municipio_PEP                      73 non-null     object \n",
      " 23  UF_PEP                             73 non-null     object \n",
      " 24  ID                                 73 non-null     int64  \n",
      " 25  IBGE_7                             73 non-null     int64  \n",
      " 26  IBGE_6                             73 non-null     int64  \n",
      " 27  Municipio_real                     73 non-null     object \n",
      " 28  UF                                 73 non-null     object \n",
      " 29  Latitude                           73 non-null     float64\n",
      " 30  Longitude                          73 non-null     float64\n",
      " 31  Municipio_ficticio                 73 non-null     object \n",
      "dtypes: float64(3), int64(6), object(23)\n",
      "memory usage: 18.8+ KB\n"
     ]
    }
   ],
   "source": [
    "empresas_peps_coord.info()"
   ]
  },
  {
   "cell_type": "code",
   "execution_count": 56,
   "metadata": {},
   "outputs": [
    {
     "data": {
      "text/html": [
       "<div>\n",
       "<style scoped>\n",
       "    .dataframe tbody tr th:only-of-type {\n",
       "        vertical-align: middle;\n",
       "    }\n",
       "\n",
       "    .dataframe tbody tr th {\n",
       "        vertical-align: top;\n",
       "    }\n",
       "\n",
       "    .dataframe thead th {\n",
       "        text-align: right;\n",
       "    }\n",
       "</style>\n",
       "<table border=\"1\" class=\"dataframe\">\n",
       "  <thead>\n",
       "    <tr style=\"text-align: right;\">\n",
       "      <th></th>\n",
       "      <th>Nome_Municipio_Ficticio</th>\n",
       "      <th>CNPJ_Empresa_Beneficiaria</th>\n",
       "      <th>Razao_Social_Empresa_Beneficiaria</th>\n",
       "      <th>Valor_Total</th>\n",
       "      <th>CNPJ_RFB</th>\n",
       "      <th>Razao_Social_RFB</th>\n",
       "      <th>Situacao_Cadastral_RFB</th>\n",
       "      <th>Data_Situacao_Cadastral_RFB</th>\n",
       "      <th>Codigo_Natureza_Juridica_RFB</th>\n",
       "      <th>Data_Inicio_Atividade_RFB</th>\n",
       "      <th>...</th>\n",
       "      <th>Municipio_PEP</th>\n",
       "      <th>UF_PEP</th>\n",
       "      <th>ID</th>\n",
       "      <th>IBGE_7</th>\n",
       "      <th>IBGE_6</th>\n",
       "      <th>Municipio_real</th>\n",
       "      <th>UF</th>\n",
       "      <th>Latitude</th>\n",
       "      <th>Longitude</th>\n",
       "      <th>Municipio_ficticio</th>\n",
       "    </tr>\n",
       "  </thead>\n",
       "  <tbody>\n",
       "    <tr>\n",
       "      <th>12</th>\n",
       "      <td>CAVICHIOLI</td>\n",
       "      <td>55815300000213</td>\n",
       "      <td>AMINE IMOBILIARIOS</td>\n",
       "      <td>568608.30</td>\n",
       "      <td>55815300000213</td>\n",
       "      <td>AMINE IMOBILIARIOS</td>\n",
       "      <td>ATIVA</td>\n",
       "      <td>20200101</td>\n",
       "      <td>3999</td>\n",
       "      <td>19870728</td>\n",
       "      <td>...</td>\n",
       "      <td>SOLIZ</td>\n",
       "      <td>SP</td>\n",
       "      <td>132</td>\n",
       "      <td>3511607</td>\n",
       "      <td>351160</td>\n",
       "      <td>CESARIO LANGE</td>\n",
       "      <td>SP</td>\n",
       "      <td>-23.227</td>\n",
       "      <td>-47.953</td>\n",
       "      <td>CAVICHIOLI</td>\n",
       "    </tr>\n",
       "    <tr>\n",
       "      <th>32</th>\n",
       "      <td>DALAGO</td>\n",
       "      <td>01379160000172</td>\n",
       "      <td>ALEKSANDRA INDUSTRIAS</td>\n",
       "      <td>285251.53</td>\n",
       "      <td>01379160000172</td>\n",
       "      <td>ALEKSANDRA INDUSTRIAS</td>\n",
       "      <td>ATIVA</td>\n",
       "      <td>20200101</td>\n",
       "      <td>2062</td>\n",
       "      <td>20070307</td>\n",
       "      <td>...</td>\n",
       "      <td>SAO PAULO</td>\n",
       "      <td>SP</td>\n",
       "      <td>181</td>\n",
       "      <td>3515707</td>\n",
       "      <td>351570</td>\n",
       "      <td>FERRAZ DE VASCONCELOS</td>\n",
       "      <td>SP</td>\n",
       "      <td>-23.541</td>\n",
       "      <td>-46.369</td>\n",
       "      <td>DALAGO</td>\n",
       "    </tr>\n",
       "    <tr>\n",
       "      <th>9</th>\n",
       "      <td>COSLOVSKY</td>\n",
       "      <td>55815300000213</td>\n",
       "      <td>AMINE IMOBILIARIOS</td>\n",
       "      <td>747635.06</td>\n",
       "      <td>55815300000213</td>\n",
       "      <td>AMINE IMOBILIARIOS</td>\n",
       "      <td>ATIVA</td>\n",
       "      <td>20200101</td>\n",
       "      <td>3999</td>\n",
       "      <td>19870728</td>\n",
       "      <td>...</td>\n",
       "      <td>SOLIZ</td>\n",
       "      <td>SP</td>\n",
       "      <td>171</td>\n",
       "      <td>3515152</td>\n",
       "      <td>351515</td>\n",
       "      <td>ENGENHEIRO COELHO</td>\n",
       "      <td>SP</td>\n",
       "      <td>-22.488</td>\n",
       "      <td>-47.215</td>\n",
       "      <td>COSLOVSKY</td>\n",
       "    </tr>\n",
       "    <tr>\n",
       "      <th>23</th>\n",
       "      <td>KASTROPIL</td>\n",
       "      <td>69669464000188</td>\n",
       "      <td>MARTINA ENGENHARIA EPP</td>\n",
       "      <td>423179.55</td>\n",
       "      <td>69669464000188</td>\n",
       "      <td>MARTINA ENGENHARIA EPP</td>\n",
       "      <td>ATIVA</td>\n",
       "      <td>20200101</td>\n",
       "      <td>2062</td>\n",
       "      <td>19910518</td>\n",
       "      <td>...</td>\n",
       "      <td>UJIHARA</td>\n",
       "      <td>SP</td>\n",
       "      <td>308</td>\n",
       "      <td>3527256</td>\n",
       "      <td>352725</td>\n",
       "      <td>LOURDES</td>\n",
       "      <td>SP</td>\n",
       "      <td>-20.967</td>\n",
       "      <td>-50.224</td>\n",
       "      <td>KASTROPIL</td>\n",
       "    </tr>\n",
       "    <tr>\n",
       "      <th>25</th>\n",
       "      <td>HORST</td>\n",
       "      <td>06380418000123</td>\n",
       "      <td>JOSHUA SEGUROS</td>\n",
       "      <td>418912.16</td>\n",
       "      <td>06380418000123</td>\n",
       "      <td>JOSHUA SEGUROS</td>\n",
       "      <td>ATIVA</td>\n",
       "      <td>20200101</td>\n",
       "      <td>2062</td>\n",
       "      <td>20000423</td>\n",
       "      <td>...</td>\n",
       "      <td>UJIHARA</td>\n",
       "      <td>SP</td>\n",
       "      <td>281</td>\n",
       "      <td>3524709</td>\n",
       "      <td>352470</td>\n",
       "      <td>JAGUARIUNA</td>\n",
       "      <td>SP</td>\n",
       "      <td>-22.706</td>\n",
       "      <td>-46.986</td>\n",
       "      <td>HORST</td>\n",
       "    </tr>\n",
       "  </tbody>\n",
       "</table>\n",
       "<p>5 rows × 32 columns</p>\n",
       "</div>"
      ],
      "text/plain": [
       "   Nome_Municipio_Ficticio CNPJ_Empresa_Beneficiaria  \\\n",
       "12              CAVICHIOLI            55815300000213   \n",
       "32                  DALAGO            01379160000172   \n",
       "9                COSLOVSKY            55815300000213   \n",
       "23               KASTROPIL            69669464000188   \n",
       "25                   HORST            06380418000123   \n",
       "\n",
       "   Razao_Social_Empresa_Beneficiaria  Valor_Total        CNPJ_RFB  \\\n",
       "12                AMINE IMOBILIARIOS    568608.30  55815300000213   \n",
       "32             ALEKSANDRA INDUSTRIAS    285251.53  01379160000172   \n",
       "9                 AMINE IMOBILIARIOS    747635.06  55815300000213   \n",
       "23            MARTINA ENGENHARIA EPP    423179.55  69669464000188   \n",
       "25                    JOSHUA SEGUROS    418912.16  06380418000123   \n",
       "\n",
       "          Razao_Social_RFB Situacao_Cadastral_RFB  \\\n",
       "12      AMINE IMOBILIARIOS                  ATIVA   \n",
       "32   ALEKSANDRA INDUSTRIAS                  ATIVA   \n",
       "9       AMINE IMOBILIARIOS                  ATIVA   \n",
       "23  MARTINA ENGENHARIA EPP                  ATIVA   \n",
       "25          JOSHUA SEGUROS                  ATIVA   \n",
       "\n",
       "    Data_Situacao_Cadastral_RFB Codigo_Natureza_Juridica_RFB  \\\n",
       "12                     20200101                         3999   \n",
       "32                     20200101                         2062   \n",
       "9                      20200101                         3999   \n",
       "23                     20200101                         2062   \n",
       "25                     20200101                         2062   \n",
       "\n",
       "    Data_Inicio_Atividade_RFB  ... Municipio_PEP UF_PEP   ID   IBGE_7  IBGE_6  \\\n",
       "12                   19870728  ...         SOLIZ     SP  132  3511607  351160   \n",
       "32                   20070307  ...     SAO PAULO     SP  181  3515707  351570   \n",
       "9                    19870728  ...         SOLIZ     SP  171  3515152  351515   \n",
       "23                   19910518  ...       UJIHARA     SP  308  3527256  352725   \n",
       "25                   20000423  ...       UJIHARA     SP  281  3524709  352470   \n",
       "\n",
       "           Municipio_real  UF Latitude Longitude Municipio_ficticio  \n",
       "12          CESARIO LANGE  SP  -23.227   -47.953         CAVICHIOLI  \n",
       "32  FERRAZ DE VASCONCELOS  SP  -23.541   -46.369             DALAGO  \n",
       "9       ENGENHEIRO COELHO  SP  -22.488   -47.215          COSLOVSKY  \n",
       "23                LOURDES  SP  -20.967   -50.224          KASTROPIL  \n",
       "25             JAGUARIUNA  SP  -22.706   -46.986              HORST  \n",
       "\n",
       "[5 rows x 32 columns]"
      ]
     },
     "execution_count": 56,
     "metadata": {},
     "output_type": "execute_result"
    }
   ],
   "source": [
    "empresas_peps_coord.sample(5)"
   ]
  },
  {
   "cell_type": "code",
   "execution_count": 61,
   "metadata": {},
   "outputs": [
    {
     "data": {
      "text/html": [
       "<div style=\"width:100%;\"><div style=\"position:relative;width:100%;height:0;padding-bottom:60%;\"><span style=\"color:#565656\">Make this Notebook Trusted to load map: File -> Trust Notebook</span><iframe src=\"about:blank\" style=\"position:absolute;width:100%;height:100%;left:0;top:0;border:none !important;\" data-html=%3C%21DOCTYPE%20html%3E%0A%3Chead%3E%20%20%20%20%0A%20%20%20%20%3Cmeta%20http-equiv%3D%22content-type%22%20content%3D%22text/html%3B%20charset%3DUTF-8%22%20/%3E%0A%20%20%20%20%0A%20%20%20%20%20%20%20%20%3Cscript%3E%0A%20%20%20%20%20%20%20%20%20%20%20%20L_NO_TOUCH%20%3D%20false%3B%0A%20%20%20%20%20%20%20%20%20%20%20%20L_DISABLE_3D%20%3D%20false%3B%0A%20%20%20%20%20%20%20%20%3C/script%3E%0A%20%20%20%20%0A%20%20%20%20%3Cstyle%3Ehtml%2C%20body%20%7Bwidth%3A%20100%25%3Bheight%3A%20100%25%3Bmargin%3A%200%3Bpadding%3A%200%3B%7D%3C/style%3E%0A%20%20%20%20%3Cstyle%3E%23map%20%7Bposition%3Aabsolute%3Btop%3A0%3Bbottom%3A0%3Bright%3A0%3Bleft%3A0%3B%7D%3C/style%3E%0A%20%20%20%20%3Cscript%20src%3D%22https%3A//cdn.jsdelivr.net/npm/leaflet%401.6.0/dist/leaflet.js%22%3E%3C/script%3E%0A%20%20%20%20%3Cscript%20src%3D%22https%3A//code.jquery.com/jquery-1.12.4.min.js%22%3E%3C/script%3E%0A%20%20%20%20%3Cscript%20src%3D%22https%3A//maxcdn.bootstrapcdn.com/bootstrap/3.2.0/js/bootstrap.min.js%22%3E%3C/script%3E%0A%20%20%20%20%3Cscript%20src%3D%22https%3A//cdnjs.cloudflare.com/ajax/libs/Leaflet.awesome-markers/2.0.2/leaflet.awesome-markers.js%22%3E%3C/script%3E%0A%20%20%20%20%3Clink%20rel%3D%22stylesheet%22%20href%3D%22https%3A//cdn.jsdelivr.net/npm/leaflet%401.6.0/dist/leaflet.css%22/%3E%0A%20%20%20%20%3Clink%20rel%3D%22stylesheet%22%20href%3D%22https%3A//maxcdn.bootstrapcdn.com/bootstrap/3.2.0/css/bootstrap.min.css%22/%3E%0A%20%20%20%20%3Clink%20rel%3D%22stylesheet%22%20href%3D%22https%3A//maxcdn.bootstrapcdn.com/bootstrap/3.2.0/css/bootstrap-theme.min.css%22/%3E%0A%20%20%20%20%3Clink%20rel%3D%22stylesheet%22%20href%3D%22https%3A//maxcdn.bootstrapcdn.com/font-awesome/4.6.3/css/font-awesome.min.css%22/%3E%0A%20%20%20%20%3Clink%20rel%3D%22stylesheet%22%20href%3D%22https%3A//cdnjs.cloudflare.com/ajax/libs/Leaflet.awesome-markers/2.0.2/leaflet.awesome-markers.css%22/%3E%0A%20%20%20%20%3Clink%20rel%3D%22stylesheet%22%20href%3D%22https%3A//cdn.jsdelivr.net/gh/python-visualization/folium/folium/templates/leaflet.awesome.rotate.min.css%22/%3E%0A%20%20%20%20%0A%20%20%20%20%20%20%20%20%20%20%20%20%3Cmeta%20name%3D%22viewport%22%20content%3D%22width%3Ddevice-width%2C%0A%20%20%20%20%20%20%20%20%20%20%20%20%20%20%20%20initial-scale%3D1.0%2C%20maximum-scale%3D1.0%2C%20user-scalable%3Dno%22%20/%3E%0A%20%20%20%20%20%20%20%20%20%20%20%20%3Cstyle%3E%0A%20%20%20%20%20%20%20%20%20%20%20%20%20%20%20%20%23map_cfd19d50440e4e359889414eb5531ff9%20%7B%0A%20%20%20%20%20%20%20%20%20%20%20%20%20%20%20%20%20%20%20%20position%3A%20relative%3B%0A%20%20%20%20%20%20%20%20%20%20%20%20%20%20%20%20%20%20%20%20width%3A%20100.0%25%3B%0A%20%20%20%20%20%20%20%20%20%20%20%20%20%20%20%20%20%20%20%20height%3A%20100.0%25%3B%0A%20%20%20%20%20%20%20%20%20%20%20%20%20%20%20%20%20%20%20%20left%3A%200.0%25%3B%0A%20%20%20%20%20%20%20%20%20%20%20%20%20%20%20%20%20%20%20%20top%3A%200.0%25%3B%0A%20%20%20%20%20%20%20%20%20%20%20%20%20%20%20%20%7D%0A%20%20%20%20%20%20%20%20%20%20%20%20%3C/style%3E%0A%20%20%20%20%20%20%20%20%0A%3C/head%3E%0A%3Cbody%3E%20%20%20%20%0A%20%20%20%20%0A%20%20%20%20%20%20%20%20%20%20%20%20%20%3Ch3%20align%3D%22center%22%20style%3D%22font-size%3A20px%22%3E%3Cb%3EMapa%20%28fict%C3%ADcio%29%20de%20empresas%20relacionadas%20a%20PEPs%3C/b%3E%3C/h3%3E%0A%20%20%20%20%20%20%20%20%20%20%20%20%20%0A%20%20%20%20%0A%20%20%20%20%20%20%20%20%20%20%20%20%3Cdiv%20class%3D%22folium-map%22%20id%3D%22map_cfd19d50440e4e359889414eb5531ff9%22%20%3E%3C/div%3E%0A%20%20%20%20%20%20%20%20%0A%3C/body%3E%0A%3Cscript%3E%20%20%20%20%0A%20%20%20%20%0A%20%20%20%20%20%20%20%20%20%20%20%20var%20map_cfd19d50440e4e359889414eb5531ff9%20%3D%20L.map%28%0A%20%20%20%20%20%20%20%20%20%20%20%20%20%20%20%20%22map_cfd19d50440e4e359889414eb5531ff9%22%2C%0A%20%20%20%20%20%20%20%20%20%20%20%20%20%20%20%20%7B%0A%20%20%20%20%20%20%20%20%20%20%20%20%20%20%20%20%20%20%20%20center%3A%20%5B-22.38395890410958%2C%20-48.59801369863011%5D%2C%0A%20%20%20%20%20%20%20%20%20%20%20%20%20%20%20%20%20%20%20%20crs%3A%20L.CRS.EPSG3857%2C%0A%20%20%20%20%20%20%20%20%20%20%20%20%20%20%20%20%20%20%20%20zoom%3A%207%2C%0A%20%20%20%20%20%20%20%20%20%20%20%20%20%20%20%20%20%20%20%20zoomControl%3A%20true%2C%0A%20%20%20%20%20%20%20%20%20%20%20%20%20%20%20%20%20%20%20%20preferCanvas%3A%20false%2C%0A%20%20%20%20%20%20%20%20%20%20%20%20%20%20%20%20%7D%0A%20%20%20%20%20%20%20%20%20%20%20%20%29%3B%0A%20%20%20%20%20%20%20%20%20%20%20%20L.control.scale%28%29.addTo%28map_cfd19d50440e4e359889414eb5531ff9%29%3B%0A%0A%20%20%20%20%20%20%20%20%20%20%20%20%0A%0A%20%20%20%20%20%20%20%20%0A%20%20%20%20%0A%20%20%20%20%20%20%20%20%20%20%20%20var%20tile_layer_ca286787e08a453a937290015a05a468%20%3D%20L.tileLayer%28%0A%20%20%20%20%20%20%20%20%20%20%20%20%20%20%20%20%22https%3A//%7Bs%7D.tile.openstreetmap.org/%7Bz%7D/%7Bx%7D/%7By%7D.png%22%2C%0A%20%20%20%20%20%20%20%20%20%20%20%20%20%20%20%20%7B%22attribution%22%3A%20%22Data%20by%20%5Cu0026copy%3B%20%5Cu003ca%20href%3D%5C%22http%3A//openstreetmap.org%5C%22%5Cu003eOpenStreetMap%5Cu003c/a%5Cu003e%2C%20under%20%5Cu003ca%20href%3D%5C%22http%3A//www.openstreetmap.org/copyright%5C%22%5Cu003eODbL%5Cu003c/a%5Cu003e.%22%2C%20%22detectRetina%22%3A%20false%2C%20%22maxNativeZoom%22%3A%2018%2C%20%22maxZoom%22%3A%2018%2C%20%22minZoom%22%3A%200%2C%20%22noWrap%22%3A%20false%2C%20%22opacity%22%3A%201%2C%20%22subdomains%22%3A%20%22abc%22%2C%20%22tms%22%3A%20false%7D%0A%20%20%20%20%20%20%20%20%20%20%20%20%29.addTo%28map_cfd19d50440e4e359889414eb5531ff9%29%3B%0A%20%20%20%20%20%20%20%20%0A%20%20%20%20%0A%20%20%20%20%20%20%20%20%20%20%20%20var%20marker_c35337ae34414d9699475870b3f71d84%20%3D%20L.marker%28%0A%20%20%20%20%20%20%20%20%20%20%20%20%20%20%20%20%5B-22.730999999999998%2C%20-45.125%5D%2C%0A%20%20%20%20%20%20%20%20%20%20%20%20%20%20%20%20%7B%7D%0A%20%20%20%20%20%20%20%20%20%20%20%20%29.addTo%28map_cfd19d50440e4e359889414eb5531ff9%29%3B%0A%20%20%20%20%20%20%20%20%0A%20%20%20%20%0A%20%20%20%20%20%20%20%20%20%20%20%20var%20icon_3428ae5380b94692890ce86f6a4e5246%20%3D%20L.AwesomeMarkers.icon%28%0A%20%20%20%20%20%20%20%20%20%20%20%20%20%20%20%20%7B%22extraClasses%22%3A%20%22fa-rotate-0%22%2C%20%22icon%22%3A%20%22info-sign%22%2C%20%22iconColor%22%3A%20%22white%22%2C%20%22markerColor%22%3A%20%22red%22%2C%20%22prefix%22%3A%20%22glyphicon%22%7D%0A%20%20%20%20%20%20%20%20%20%20%20%20%29%3B%0A%20%20%20%20%20%20%20%20%20%20%20%20marker_c35337ae34414d9699475870b3f71d84.setIcon%28icon_3428ae5380b94692890ce86f6a4e5246%29%3B%0A%20%20%20%20%20%20%20%20%0A%20%20%20%20%0A%20%20%20%20%20%20%20%20var%20popup_7aa1b30d9ab74672b26c8e48c258a086%20%3D%20L.popup%28%7B%22maxWidth%22%3A%20%22100%25%22%7D%29%3B%0A%0A%20%20%20%20%20%20%20%20%0A%20%20%20%20%20%20%20%20%20%20%20%20var%20html_2d00dd520a9c48c88385e31aa5a5abe1%20%3D%20%24%28%60%3Cdiv%20id%3D%22html_2d00dd520a9c48c88385e31aa5a5abe1%22%20style%3D%22width%3A%20100.0%25%3B%20height%3A%20100.0%25%3B%22%3EA%20empresa%20ROBERTS%20INFORMACAO%20EPP%20%28CNPJ%2051653764000156%29%2C%20relacionada%20ao%20PEP%20ADEMIR%20FABRISIA%2C%20recebeu%20R%24%2014121381.99%3C/div%3E%60%29%5B0%5D%3B%0A%20%20%20%20%20%20%20%20%20%20%20%20popup_7aa1b30d9ab74672b26c8e48c258a086.setContent%28html_2d00dd520a9c48c88385e31aa5a5abe1%29%3B%0A%20%20%20%20%20%20%20%20%0A%0A%20%20%20%20%20%20%20%20marker_c35337ae34414d9699475870b3f71d84.bindPopup%28popup_7aa1b30d9ab74672b26c8e48c258a086%29%0A%20%20%20%20%20%20%20%20%3B%0A%0A%20%20%20%20%20%20%20%20%0A%20%20%20%20%0A%20%20%20%20%0A%20%20%20%20%20%20%20%20%20%20%20%20marker_c35337ae34414d9699475870b3f71d84.bindTooltip%28%0A%20%20%20%20%20%20%20%20%20%20%20%20%20%20%20%20%60%3Cdiv%3E%0A%20%20%20%20%20%20%20%20%20%20%20%20%20%20%20%20%20%20%20%20%20A%20empresa%20ROBERTS%20INFORMACAO%20EPP%20%28CNPJ%2051653764000156%29%2C%20relacionada%20ao%20PEP%20ADEMIR%20FABRISIA%2C%20recebeu%20R%24%2014121381.99%0A%20%20%20%20%20%20%20%20%20%20%20%20%20%20%20%20%20%3C/div%3E%60%2C%0A%20%20%20%20%20%20%20%20%20%20%20%20%20%20%20%20%7B%22sticky%22%3A%20true%7D%0A%20%20%20%20%20%20%20%20%20%20%20%20%29%3B%0A%20%20%20%20%20%20%20%20%0A%20%20%20%20%0A%20%20%20%20%20%20%20%20%20%20%20%20var%20marker_19e6bc8c8af5422eba5a81cf2003c2ae%20%3D%20L.marker%28%0A%20%20%20%20%20%20%20%20%20%20%20%20%20%20%20%20%5B-24.488000000000003%2C%20-47.843999999999994%5D%2C%0A%20%20%20%20%20%20%20%20%20%20%20%20%20%20%20%20%7B%7D%0A%20%20%20%20%20%20%20%20%20%20%20%20%29.addTo%28map_cfd19d50440e4e359889414eb5531ff9%29%3B%0A%20%20%20%20%20%20%20%20%0A%20%20%20%20%0A%20%20%20%20%20%20%20%20%20%20%20%20var%20icon_4576be6f261f4305afe507137faf93bc%20%3D%20L.AwesomeMarkers.icon%28%0A%20%20%20%20%20%20%20%20%20%20%20%20%20%20%20%20%7B%22extraClasses%22%3A%20%22fa-rotate-0%22%2C%20%22icon%22%3A%20%22info-sign%22%2C%20%22iconColor%22%3A%20%22white%22%2C%20%22markerColor%22%3A%20%22red%22%2C%20%22prefix%22%3A%20%22glyphicon%22%7D%0A%20%20%20%20%20%20%20%20%20%20%20%20%29%3B%0A%20%20%20%20%20%20%20%20%20%20%20%20marker_19e6bc8c8af5422eba5a81cf2003c2ae.setIcon%28icon_4576be6f261f4305afe507137faf93bc%29%3B%0A%20%20%20%20%20%20%20%20%0A%20%20%20%20%0A%20%20%20%20%20%20%20%20var%20popup_b0a8798fdb20440090eb45a3b727d81f%20%3D%20L.popup%28%7B%22maxWidth%22%3A%20%22100%25%22%7D%29%3B%0A%0A%20%20%20%20%20%20%20%20%0A%20%20%20%20%20%20%20%20%20%20%20%20var%20html_9eb312a0696f4c98a0cf96f7d9fbef0a%20%3D%20%24%28%60%3Cdiv%20id%3D%22html_9eb312a0696f4c98a0cf96f7d9fbef0a%22%20style%3D%22width%3A%20100.0%25%3B%20height%3A%20100.0%25%3B%22%3EA%20empresa%20JONA%20SPE%20%28CNPJ%2003195017000178%29%2C%20relacionada%20ao%20PEP%20FREJDA%20MARBLE%2C%20recebeu%20R%24%208875293.18%3C/div%3E%60%29%5B0%5D%3B%0A%20%20%20%20%20%20%20%20%20%20%20%20popup_b0a8798fdb20440090eb45a3b727d81f.setContent%28html_9eb312a0696f4c98a0cf96f7d9fbef0a%29%3B%0A%20%20%20%20%20%20%20%20%0A%0A%20%20%20%20%20%20%20%20marker_19e6bc8c8af5422eba5a81cf2003c2ae.bindPopup%28popup_b0a8798fdb20440090eb45a3b727d81f%29%0A%20%20%20%20%20%20%20%20%3B%0A%0A%20%20%20%20%20%20%20%20%0A%20%20%20%20%0A%20%20%20%20%0A%20%20%20%20%20%20%20%20%20%20%20%20marker_19e6bc8c8af5422eba5a81cf2003c2ae.bindTooltip%28%0A%20%20%20%20%20%20%20%20%20%20%20%20%20%20%20%20%60%3Cdiv%3E%0A%20%20%20%20%20%20%20%20%20%20%20%20%20%20%20%20%20%20%20%20%20A%20empresa%20JONA%20SPE%20%28CNPJ%2003195017000178%29%2C%20relacionada%20ao%20PEP%20FREJDA%20MARBLE%2C%20recebeu%20R%24%208875293.18%0A%20%20%20%20%20%20%20%20%20%20%20%20%20%20%20%20%20%3C/div%3E%60%2C%0A%20%20%20%20%20%20%20%20%20%20%20%20%20%20%20%20%7B%22sticky%22%3A%20true%7D%0A%20%20%20%20%20%20%20%20%20%20%20%20%29%3B%0A%20%20%20%20%20%20%20%20%0A%20%20%20%20%0A%20%20%20%20%20%20%20%20%20%20%20%20var%20marker_8f17bba523444aa7b5a08a436c7bb9ce%20%3D%20L.marker%28%0A%20%20%20%20%20%20%20%20%20%20%20%20%20%20%20%20%5B-24.488000000000003%2C%20-47.843999999999994%5D%2C%0A%20%20%20%20%20%20%20%20%20%20%20%20%20%20%20%20%7B%7D%0A%20%20%20%20%20%20%20%20%20%20%20%20%29.addTo%28map_cfd19d50440e4e359889414eb5531ff9%29%3B%0A%20%20%20%20%20%20%20%20%0A%20%20%20%20%0A%20%20%20%20%20%20%20%20%20%20%20%20var%20icon_fb44fc4bdd204a39a024d9d3ad5e7213%20%3D%20L.AwesomeMarkers.icon%28%0A%20%20%20%20%20%20%20%20%20%20%20%20%20%20%20%20%7B%22extraClasses%22%3A%20%22fa-rotate-0%22%2C%20%22icon%22%3A%20%22info-sign%22%2C%20%22iconColor%22%3A%20%22white%22%2C%20%22markerColor%22%3A%20%22red%22%2C%20%22prefix%22%3A%20%22glyphicon%22%7D%0A%20%20%20%20%20%20%20%20%20%20%20%20%29%3B%0A%20%20%20%20%20%20%20%20%20%20%20%20marker_8f17bba523444aa7b5a08a436c7bb9ce.setIcon%28icon_fb44fc4bdd204a39a024d9d3ad5e7213%29%3B%0A%20%20%20%20%20%20%20%20%0A%20%20%20%20%0A%20%20%20%20%20%20%20%20var%20popup_70c778fa4e4b4619b9d3d889169d99df%20%3D%20L.popup%28%7B%22maxWidth%22%3A%20%22100%25%22%7D%29%3B%0A%0A%20%20%20%20%20%20%20%20%0A%20%20%20%20%20%20%20%20%20%20%20%20var%20html_502e5c38fcb64a31ae2dc03e38be280c%20%3D%20%24%28%60%3Cdiv%20id%3D%22html_502e5c38fcb64a31ae2dc03e38be280c%22%20style%3D%22width%3A%20100.0%25%3B%20height%3A%20100.0%25%3B%22%3EA%20empresa%20JONA%20SPE%20%28CNPJ%2003195017000178%29%2C%20relacionada%20ao%20PEP%20INFANCIA%20COFAN%20BLAGOJEVIC%20PRANTEL%20MAREZE%2C%20recebeu%20R%24%208875293.18%3C/div%3E%60%29%5B0%5D%3B%0A%20%20%20%20%20%20%20%20%20%20%20%20popup_70c778fa4e4b4619b9d3d889169d99df.setContent%28html_502e5c38fcb64a31ae2dc03e38be280c%29%3B%0A%20%20%20%20%20%20%20%20%0A%0A%20%20%20%20%20%20%20%20marker_8f17bba523444aa7b5a08a436c7bb9ce.bindPopup%28popup_70c778fa4e4b4619b9d3d889169d99df%29%0A%20%20%20%20%20%20%20%20%3B%0A%0A%20%20%20%20%20%20%20%20%0A%20%20%20%20%0A%20%20%20%20%0A%20%20%20%20%20%20%20%20%20%20%20%20marker_8f17bba523444aa7b5a08a436c7bb9ce.bindTooltip%28%0A%20%20%20%20%20%20%20%20%20%20%20%20%20%20%20%20%60%3Cdiv%3E%0A%20%20%20%20%20%20%20%20%20%20%20%20%20%20%20%20%20%20%20%20%20A%20empresa%20JONA%20SPE%20%28CNPJ%2003195017000178%29%2C%20relacionada%20ao%20PEP%20INFANCIA%20COFAN%20BLAGOJEVIC%20PRANTEL%20MAREZE%2C%20recebeu%20R%24%208875293.18%0A%20%20%20%20%20%20%20%20%20%20%20%20%20%20%20%20%20%3C/div%3E%60%2C%0A%20%20%20%20%20%20%20%20%20%20%20%20%20%20%20%20%7B%22sticky%22%3A%20true%7D%0A%20%20%20%20%20%20%20%20%20%20%20%20%29%3B%0A%20%20%20%20%20%20%20%20%0A%20%20%20%20%0A%20%20%20%20%20%20%20%20%20%20%20%20var%20marker_2fa91e15f85540de9742aaedb2d69e01%20%3D%20L.marker%28%0A%20%20%20%20%20%20%20%20%20%20%20%20%20%20%20%20%5B-24.488000000000003%2C%20-47.843999999999994%5D%2C%0A%20%20%20%20%20%20%20%20%20%20%20%20%20%20%20%20%7B%7D%0A%20%20%20%20%20%20%20%20%20%20%20%20%29.addTo%28map_cfd19d50440e4e359889414eb5531ff9%29%3B%0A%20%20%20%20%20%20%20%20%0A%20%20%20%20%0A%20%20%20%20%20%20%20%20%20%20%20%20var%20icon_28e2c57c76104581bd9010df98ac6bd5%20%3D%20L.AwesomeMarkers.icon%28%0A%20%20%20%20%20%20%20%20%20%20%20%20%20%20%20%20%7B%22extraClasses%22%3A%20%22fa-rotate-0%22%2C%20%22icon%22%3A%20%22info-sign%22%2C%20%22iconColor%22%3A%20%22white%22%2C%20%22markerColor%22%3A%20%22red%22%2C%20%22prefix%22%3A%20%22glyphicon%22%7D%0A%20%20%20%20%20%20%20%20%20%20%20%20%29%3B%0A%20%20%20%20%20%20%20%20%20%20%20%20marker_2fa91e15f85540de9742aaedb2d69e01.setIcon%28icon_28e2c57c76104581bd9010df98ac6bd5%29%3B%0A%20%20%20%20%20%20%20%20%0A%20%20%20%20%0A%20%20%20%20%20%20%20%20var%20popup_72eba671c01341dba74caf1d9ca77ebf%20%3D%20L.popup%28%7B%22maxWidth%22%3A%20%22100%25%22%7D%29%3B%0A%0A%20%20%20%20%20%20%20%20%0A%20%20%20%20%20%20%20%20%20%20%20%20var%20html_8334647f317048d6af049d354191ade5%20%3D%20%24%28%60%3Cdiv%20id%3D%22html_8334647f317048d6af049d354191ade5%22%20style%3D%22width%3A%20100.0%25%3B%20height%3A%20100.0%25%3B%22%3EA%20empresa%20JONA%20SPE%20%28CNPJ%2003195017000178%29%2C%20relacionada%20ao%20PEP%20TOSHIO%20MARIOSI%2C%20recebeu%20R%24%208875293.18%3C/div%3E%60%29%5B0%5D%3B%0A%20%20%20%20%20%20%20%20%20%20%20%20popup_72eba671c01341dba74caf1d9ca77ebf.setContent%28html_8334647f317048d6af049d354191ade5%29%3B%0A%20%20%20%20%20%20%20%20%0A%0A%20%20%20%20%20%20%20%20marker_2fa91e15f85540de9742aaedb2d69e01.bindPopup%28popup_72eba671c01341dba74caf1d9ca77ebf%29%0A%20%20%20%20%20%20%20%20%3B%0A%0A%20%20%20%20%20%20%20%20%0A%20%20%20%20%0A%20%20%20%20%0A%20%20%20%20%20%20%20%20%20%20%20%20marker_2fa91e15f85540de9742aaedb2d69e01.bindTooltip%28%0A%20%20%20%20%20%20%20%20%20%20%20%20%20%20%20%20%60%3Cdiv%3E%0A%20%20%20%20%20%20%20%20%20%20%20%20%20%20%20%20%20%20%20%20%20A%20empresa%20JONA%20SPE%20%28CNPJ%2003195017000178%29%2C%20relacionada%20ao%20PEP%20TOSHIO%20MARIOSI%2C%20recebeu%20R%24%208875293.18%0A%20%20%20%20%20%20%20%20%20%20%20%20%20%20%20%20%20%3C/div%3E%60%2C%0A%20%20%20%20%20%20%20%20%20%20%20%20%20%20%20%20%7B%22sticky%22%3A%20true%7D%0A%20%20%20%20%20%20%20%20%20%20%20%20%29%3B%0A%20%20%20%20%20%20%20%20%0A%20%20%20%20%0A%20%20%20%20%20%20%20%20%20%20%20%20var%20marker_badaa2d6c1bd4ab99cc273ce65048caf%20%3D%20L.marker%28%0A%20%20%20%20%20%20%20%20%20%20%20%20%20%20%20%20%5B-20.855999999999998%2C%20-50.262%5D%2C%0A%20%20%20%20%20%20%20%20%20%20%20%20%20%20%20%20%7B%7D%0A%20%20%20%20%20%20%20%20%20%20%20%20%29.addTo%28map_cfd19d50440e4e359889414eb5531ff9%29%3B%0A%20%20%20%20%20%20%20%20%0A%20%20%20%20%0A%20%20%20%20%20%20%20%20%20%20%20%20var%20icon_f62a524af0814418a303e02f67711551%20%3D%20L.AwesomeMarkers.icon%28%0A%20%20%20%20%20%20%20%20%20%20%20%20%20%20%20%20%7B%22extraClasses%22%3A%20%22fa-rotate-0%22%2C%20%22icon%22%3A%20%22info-sign%22%2C%20%22iconColor%22%3A%20%22white%22%2C%20%22markerColor%22%3A%20%22red%22%2C%20%22prefix%22%3A%20%22glyphicon%22%7D%0A%20%20%20%20%20%20%20%20%20%20%20%20%29%3B%0A%20%20%20%20%20%20%20%20%20%20%20%20marker_badaa2d6c1bd4ab99cc273ce65048caf.setIcon%28icon_f62a524af0814418a303e02f67711551%29%3B%0A%20%20%20%20%20%20%20%20%0A%20%20%20%20%0A%20%20%20%20%20%20%20%20var%20popup_b0cd52cd228346bc8149bea06c596653%20%3D%20L.popup%28%7B%22maxWidth%22%3A%20%22100%25%22%7D%29%3B%0A%0A%20%20%20%20%20%20%20%20%0A%20%20%20%20%20%20%20%20%20%20%20%20var%20html_4bda7be3dc69456f8d572cc0a43f7af1%20%3D%20%24%28%60%3Cdiv%20id%3D%22html_4bda7be3dc69456f8d572cc0a43f7af1%22%20style%3D%22width%3A%20100.0%25%3B%20height%3A%20100.0%25%3B%22%3EA%20empresa%20IZAN%20INDUSTRIAL%20%28CNPJ%2049057710000187%29%2C%20relacionada%20ao%20PEP%20RADANOVIC%20ASCENCIANO%2C%20recebeu%20R%24%204777742.82%3C/div%3E%60%29%5B0%5D%3B%0A%20%20%20%20%20%20%20%20%20%20%20%20popup_b0cd52cd228346bc8149bea06c596653.setContent%28html_4bda7be3dc69456f8d572cc0a43f7af1%29%3B%0A%20%20%20%20%20%20%20%20%0A%0A%20%20%20%20%20%20%20%20marker_badaa2d6c1bd4ab99cc273ce65048caf.bindPopup%28popup_b0cd52cd228346bc8149bea06c596653%29%0A%20%20%20%20%20%20%20%20%3B%0A%0A%20%20%20%20%20%20%20%20%0A%20%20%20%20%0A%20%20%20%20%0A%20%20%20%20%20%20%20%20%20%20%20%20marker_badaa2d6c1bd4ab99cc273ce65048caf.bindTooltip%28%0A%20%20%20%20%20%20%20%20%20%20%20%20%20%20%20%20%60%3Cdiv%3E%0A%20%20%20%20%20%20%20%20%20%20%20%20%20%20%20%20%20%20%20%20%20A%20empresa%20IZAN%20INDUSTRIAL%20%28CNPJ%2049057710000187%29%2C%20relacionada%20ao%20PEP%20RADANOVIC%20ASCENCIANO%2C%20recebeu%20R%24%204777742.82%0A%20%20%20%20%20%20%20%20%20%20%20%20%20%20%20%20%20%3C/div%3E%60%2C%0A%20%20%20%20%20%20%20%20%20%20%20%20%20%20%20%20%7B%22sticky%22%3A%20true%7D%0A%20%20%20%20%20%20%20%20%20%20%20%20%29%3B%0A%20%20%20%20%20%20%20%20%0A%20%20%20%20%0A%20%20%20%20%20%20%20%20%20%20%20%20var%20marker_b9077b85afe14e5ab8ef50f170c12062%20%3D%20L.marker%28%0A%20%20%20%20%20%20%20%20%20%20%20%20%20%20%20%20%5B-20.299%2C%20-49.732%5D%2C%0A%20%20%20%20%20%20%20%20%20%20%20%20%20%20%20%20%7B%7D%0A%20%20%20%20%20%20%20%20%20%20%20%20%29.addTo%28map_cfd19d50440e4e359889414eb5531ff9%29%3B%0A%20%20%20%20%20%20%20%20%0A%20%20%20%20%0A%20%20%20%20%20%20%20%20%20%20%20%20var%20icon_5f443f4f83bf47a9959484e915469a55%20%3D%20L.AwesomeMarkers.icon%28%0A%20%20%20%20%20%20%20%20%20%20%20%20%20%20%20%20%7B%22extraClasses%22%3A%20%22fa-rotate-0%22%2C%20%22icon%22%3A%20%22info-sign%22%2C%20%22iconColor%22%3A%20%22white%22%2C%20%22markerColor%22%3A%20%22red%22%2C%20%22prefix%22%3A%20%22glyphicon%22%7D%0A%20%20%20%20%20%20%20%20%20%20%20%20%29%3B%0A%20%20%20%20%20%20%20%20%20%20%20%20marker_b9077b85afe14e5ab8ef50f170c12062.setIcon%28icon_5f443f4f83bf47a9959484e915469a55%29%3B%0A%20%20%20%20%20%20%20%20%0A%20%20%20%20%0A%20%20%20%20%20%20%20%20var%20popup_62c9e34629f747edb1f87775f0df518d%20%3D%20L.popup%28%7B%22maxWidth%22%3A%20%22100%25%22%7D%29%3B%0A%0A%20%20%20%20%20%20%20%20%0A%20%20%20%20%20%20%20%20%20%20%20%20var%20html_e6703af003d44e779268341c31ca6c89%20%3D%20%24%28%60%3Cdiv%20id%3D%22html_e6703af003d44e779268341c31ca6c89%22%20style%3D%22width%3A%20100.0%25%3B%20height%3A%20100.0%25%3B%22%3EA%20empresa%20AMINE%20IMOBILIARIOS%20%28CNPJ%2055815300000213%29%2C%20relacionada%20ao%20PEP%20AMARILDO%20SABATE%20KAILER%2C%20recebeu%20R%24%202085342.25%3C/div%3E%60%29%5B0%5D%3B%0A%20%20%20%20%20%20%20%20%20%20%20%20popup_62c9e34629f747edb1f87775f0df518d.setContent%28html_e6703af003d44e779268341c31ca6c89%29%3B%0A%20%20%20%20%20%20%20%20%0A%0A%20%20%20%20%20%20%20%20marker_b9077b85afe14e5ab8ef50f170c12062.bindPopup%28popup_62c9e34629f747edb1f87775f0df518d%29%0A%20%20%20%20%20%20%20%20%3B%0A%0A%20%20%20%20%20%20%20%20%0A%20%20%20%20%0A%20%20%20%20%0A%20%20%20%20%20%20%20%20%20%20%20%20marker_b9077b85afe14e5ab8ef50f170c12062.bindTooltip%28%0A%20%20%20%20%20%20%20%20%20%20%20%20%20%20%20%20%60%3Cdiv%3E%0A%20%20%20%20%20%20%20%20%20%20%20%20%20%20%20%20%20%20%20%20%20A%20empresa%20AMINE%20IMOBILIARIOS%20%28CNPJ%2055815300000213%29%2C%20relacionada%20ao%20PEP%20AMARILDO%20SABATE%20KAILER%2C%20recebeu%20R%24%202085342.25%0A%20%20%20%20%20%20%20%20%20%20%20%20%20%20%20%20%20%3C/div%3E%60%2C%0A%20%20%20%20%20%20%20%20%20%20%20%20%20%20%20%20%7B%22sticky%22%3A%20true%7D%0A%20%20%20%20%20%20%20%20%20%20%20%20%29%3B%0A%20%20%20%20%20%20%20%20%0A%20%20%20%20%0A%20%20%20%20%20%20%20%20%20%20%20%20var%20marker_8d6a5396e4af466c92ef5ab5f90a87d1%20%3D%20L.marker%28%0A%20%20%20%20%20%20%20%20%20%20%20%20%20%20%20%20%5B-20.581%2C%20-47.855%5D%2C%0A%20%20%20%20%20%20%20%20%20%20%20%20%20%20%20%20%7B%7D%0A%20%20%20%20%20%20%20%20%20%20%20%20%29.addTo%28map_cfd19d50440e4e359889414eb5531ff9%29%3B%0A%20%20%20%20%20%20%20%20%0A%20%20%20%20%0A%20%20%20%20%20%20%20%20%20%20%20%20var%20icon_3f355a6cd94643928a8b6c09f1f29af7%20%3D%20L.AwesomeMarkers.icon%28%0A%20%20%20%20%20%20%20%20%20%20%20%20%20%20%20%20%7B%22extraClasses%22%3A%20%22fa-rotate-0%22%2C%20%22icon%22%3A%20%22info-sign%22%2C%20%22iconColor%22%3A%20%22white%22%2C%20%22markerColor%22%3A%20%22red%22%2C%20%22prefix%22%3A%20%22glyphicon%22%7D%0A%20%20%20%20%20%20%20%20%20%20%20%20%29%3B%0A%20%20%20%20%20%20%20%20%20%20%20%20marker_8d6a5396e4af466c92ef5ab5f90a87d1.setIcon%28icon_3f355a6cd94643928a8b6c09f1f29af7%29%3B%0A%20%20%20%20%20%20%20%20%0A%20%20%20%20%0A%20%20%20%20%20%20%20%20var%20popup_c6f730ad764f401fbb2d57231dcc751d%20%3D%20L.popup%28%7B%22maxWidth%22%3A%20%22100%25%22%7D%29%3B%0A%0A%20%20%20%20%20%20%20%20%0A%20%20%20%20%20%20%20%20%20%20%20%20var%20html_8217c26df41f4bb582c06636d3eb5202%20%3D%20%24%28%60%3Cdiv%20id%3D%22html_8217c26df41f4bb582c06636d3eb5202%22%20style%3D%22width%3A%20100.0%25%3B%20height%3A%20100.0%25%3B%22%3EA%20empresa%20AMINE%20IMOBILIARIOS%20%28CNPJ%2055815300000213%29%2C%20relacionada%20ao%20PEP%20AMARILDO%20SABATE%20KAILER%2C%20recebeu%20R%24%201193598.13%3C/div%3E%60%29%5B0%5D%3B%0A%20%20%20%20%20%20%20%20%20%20%20%20popup_c6f730ad764f401fbb2d57231dcc751d.setContent%28html_8217c26df41f4bb582c06636d3eb5202%29%3B%0A%20%20%20%20%20%20%20%20%0A%0A%20%20%20%20%20%20%20%20marker_8d6a5396e4af466c92ef5ab5f90a87d1.bindPopup%28popup_c6f730ad764f401fbb2d57231dcc751d%29%0A%20%20%20%20%20%20%20%20%3B%0A%0A%20%20%20%20%20%20%20%20%0A%20%20%20%20%0A%20%20%20%20%0A%20%20%20%20%20%20%20%20%20%20%20%20marker_8d6a5396e4af466c92ef5ab5f90a87d1.bindTooltip%28%0A%20%20%20%20%20%20%20%20%20%20%20%20%20%20%20%20%60%3Cdiv%3E%0A%20%20%20%20%20%20%20%20%20%20%20%20%20%20%20%20%20%20%20%20%20A%20empresa%20AMINE%20IMOBILIARIOS%20%28CNPJ%2055815300000213%29%2C%20relacionada%20ao%20PEP%20AMARILDO%20SABATE%20KAILER%2C%20recebeu%20R%24%201193598.13%0A%20%20%20%20%20%20%20%20%20%20%20%20%20%20%20%20%20%3C/div%3E%60%2C%0A%20%20%20%20%20%20%20%20%20%20%20%20%20%20%20%20%7B%22sticky%22%3A%20true%7D%0A%20%20%20%20%20%20%20%20%20%20%20%20%29%3B%0A%20%20%20%20%20%20%20%20%0A%20%20%20%20%0A%20%20%20%20%20%20%20%20%20%20%20%20var%20marker_a93c0fcfa5194a2790854f117a291166%20%3D%20L.marker%28%0A%20%20%20%20%20%20%20%20%20%20%20%20%20%20%20%20%5B-20.075%2C%20-50.339%5D%2C%0A%20%20%20%20%20%20%20%20%20%20%20%20%20%20%20%20%7B%7D%0A%20%20%20%20%20%20%20%20%20%20%20%20%29.addTo%28map_cfd19d50440e4e359889414eb5531ff9%29%3B%0A%20%20%20%20%20%20%20%20%0A%20%20%20%20%0A%20%20%20%20%20%20%20%20%20%20%20%20var%20icon_a4fca44019d84c039c6253997de56dde%20%3D%20L.AwesomeMarkers.icon%28%0A%20%20%20%20%20%20%20%20%20%20%20%20%20%20%20%20%7B%22extraClasses%22%3A%20%22fa-rotate-0%22%2C%20%22icon%22%3A%20%22info-sign%22%2C%20%22iconColor%22%3A%20%22white%22%2C%20%22markerColor%22%3A%20%22red%22%2C%20%22prefix%22%3A%20%22glyphicon%22%7D%0A%20%20%20%20%20%20%20%20%20%20%20%20%29%3B%0A%20%20%20%20%20%20%20%20%20%20%20%20marker_a93c0fcfa5194a2790854f117a291166.setIcon%28icon_a4fca44019d84c039c6253997de56dde%29%3B%0A%20%20%20%20%20%20%20%20%0A%20%20%20%20%0A%20%20%20%20%20%20%20%20var%20popup_59d0309e88dc484291b82cf494d0f927%20%3D%20L.popup%28%7B%22maxWidth%22%3A%20%22100%25%22%7D%29%3B%0A%0A%20%20%20%20%20%20%20%20%0A%20%20%20%20%20%20%20%20%20%20%20%20var%20html_48a62771f7c645a2bd34184fb0330253%20%3D%20%24%28%60%3Cdiv%20id%3D%22html_48a62771f7c645a2bd34184fb0330253%22%20style%3D%22width%3A%20100.0%25%3B%20height%3A%20100.0%25%3B%22%3EA%20empresa%20AMINE%20IMOBILIARIOS%20%28CNPJ%2055815300000475%29%2C%20relacionada%20ao%20PEP%20AMARILDO%20SABATE%20KAILER%2C%20recebeu%20R%24%20978748.92%3C/div%3E%60%29%5B0%5D%3B%0A%20%20%20%20%20%20%20%20%20%20%20%20popup_59d0309e88dc484291b82cf494d0f927.setContent%28html_48a62771f7c645a2bd34184fb0330253%29%3B%0A%20%20%20%20%20%20%20%20%0A%0A%20%20%20%20%20%20%20%20marker_a93c0fcfa5194a2790854f117a291166.bindPopup%28popup_59d0309e88dc484291b82cf494d0f927%29%0A%20%20%20%20%20%20%20%20%3B%0A%0A%20%20%20%20%20%20%20%20%0A%20%20%20%20%0A%20%20%20%20%0A%20%20%20%20%20%20%20%20%20%20%20%20marker_a93c0fcfa5194a2790854f117a291166.bindTooltip%28%0A%20%20%20%20%20%20%20%20%20%20%20%20%20%20%20%20%60%3Cdiv%3E%0A%20%20%20%20%20%20%20%20%20%20%20%20%20%20%20%20%20%20%20%20%20A%20empresa%20AMINE%20IMOBILIARIOS%20%28CNPJ%2055815300000475%29%2C%20relacionada%20ao%20PEP%20AMARILDO%20SABATE%20KAILER%2C%20recebeu%20R%24%20978748.92%0A%20%20%20%20%20%20%20%20%20%20%20%20%20%20%20%20%20%3C/div%3E%60%2C%0A%20%20%20%20%20%20%20%20%20%20%20%20%20%20%20%20%7B%22sticky%22%3A%20true%7D%0A%20%20%20%20%20%20%20%20%20%20%20%20%29%3B%0A%20%20%20%20%20%20%20%20%0A%20%20%20%20%0A%20%20%20%20%20%20%20%20%20%20%20%20var%20marker_8c86bbbae5dc4e93a0cd03b7da6ba798%20%3D%20L.marker%28%0A%20%20%20%20%20%20%20%20%20%20%20%20%20%20%20%20%5B-23.026%2C%20-45.555%5D%2C%0A%20%20%20%20%20%20%20%20%20%20%20%20%20%20%20%20%7B%7D%0A%20%20%20%20%20%20%20%20%20%20%20%20%29.addTo%28map_cfd19d50440e4e359889414eb5531ff9%29%3B%0A%20%20%20%20%20%20%20%20%0A%20%20%20%20%0A%20%20%20%20%20%20%20%20%20%20%20%20var%20icon_2e19d7938e6c4b0c90896a4506988a63%20%3D%20L.AwesomeMarkers.icon%28%0A%20%20%20%20%20%20%20%20%20%20%20%20%20%20%20%20%7B%22extraClasses%22%3A%20%22fa-rotate-0%22%2C%20%22icon%22%3A%20%22info-sign%22%2C%20%22iconColor%22%3A%20%22white%22%2C%20%22markerColor%22%3A%20%22red%22%2C%20%22prefix%22%3A%20%22glyphicon%22%7D%0A%20%20%20%20%20%20%20%20%20%20%20%20%29%3B%0A%20%20%20%20%20%20%20%20%20%20%20%20marker_8c86bbbae5dc4e93a0cd03b7da6ba798.setIcon%28icon_2e19d7938e6c4b0c90896a4506988a63%29%3B%0A%20%20%20%20%20%20%20%20%0A%20%20%20%20%0A%20%20%20%20%20%20%20%20var%20popup_12f7fc6940c546d0bd258bee74f06469%20%3D%20L.popup%28%7B%22maxWidth%22%3A%20%22100%25%22%7D%29%3B%0A%0A%20%20%20%20%20%20%20%20%0A%20%20%20%20%20%20%20%20%20%20%20%20var%20html_da81ff5774e14b8490010da5442244a3%20%3D%20%24%28%60%3Cdiv%20id%3D%22html_da81ff5774e14b8490010da5442244a3%22%20style%3D%22width%3A%20100.0%25%3B%20height%3A%20100.0%25%3B%22%3EA%20empresa%20AMINE%20IMOBILIARIOS%20%28CNPJ%2055815300000213%29%2C%20relacionada%20ao%20PEP%20AMARILDO%20SABATE%20KAILER%2C%20recebeu%20R%24%20747080.25%3C/div%3E%60%29%5B0%5D%3B%0A%20%20%20%20%20%20%20%20%20%20%20%20popup_12f7fc6940c546d0bd258bee74f06469.setContent%28html_da81ff5774e14b8490010da5442244a3%29%3B%0A%20%20%20%20%20%20%20%20%0A%0A%20%20%20%20%20%20%20%20marker_8c86bbbae5dc4e93a0cd03b7da6ba798.bindPopup%28popup_12f7fc6940c546d0bd258bee74f06469%29%0A%20%20%20%20%20%20%20%20%3B%0A%0A%20%20%20%20%20%20%20%20%0A%20%20%20%20%0A%20%20%20%20%0A%20%20%20%20%20%20%20%20%20%20%20%20marker_8c86bbbae5dc4e93a0cd03b7da6ba798.bindTooltip%28%0A%20%20%20%20%20%20%20%20%20%20%20%20%20%20%20%20%60%3Cdiv%3E%0A%20%20%20%20%20%20%20%20%20%20%20%20%20%20%20%20%20%20%20%20%20A%20empresa%20AMINE%20IMOBILIARIOS%20%28CNPJ%2055815300000213%29%2C%20relacionada%20ao%20PEP%20AMARILDO%20SABATE%20KAILER%2C%20recebeu%20R%24%20747080.25%0A%20%20%20%20%20%20%20%20%20%20%20%20%20%20%20%20%20%3C/div%3E%60%2C%0A%20%20%20%20%20%20%20%20%20%20%20%20%20%20%20%20%7B%22sticky%22%3A%20true%7D%0A%20%20%20%20%20%20%20%20%20%20%20%20%29%3B%0A%20%20%20%20%20%20%20%20%0A%20%20%20%20%0A%20%20%20%20%20%20%20%20%20%20%20%20var%20marker_f348ed7e94e84a30b3d6db9880773adc%20%3D%20L.marker%28%0A%20%20%20%20%20%20%20%20%20%20%20%20%20%20%20%20%5B-22.488000000000003%2C%20-47.215%5D%2C%0A%20%20%20%20%20%20%20%20%20%20%20%20%20%20%20%20%7B%7D%0A%20%20%20%20%20%20%20%20%20%20%20%20%29.addTo%28map_cfd19d50440e4e359889414eb5531ff9%29%3B%0A%20%20%20%20%20%20%20%20%0A%20%20%20%20%0A%20%20%20%20%20%20%20%20%20%20%20%20var%20icon_adaa0744f79e4e2690322c04b43987a3%20%3D%20L.AwesomeMarkers.icon%28%0A%20%20%20%20%20%20%20%20%20%20%20%20%20%20%20%20%7B%22extraClasses%22%3A%20%22fa-rotate-0%22%2C%20%22icon%22%3A%20%22info-sign%22%2C%20%22iconColor%22%3A%20%22white%22%2C%20%22markerColor%22%3A%20%22red%22%2C%20%22prefix%22%3A%20%22glyphicon%22%7D%0A%20%20%20%20%20%20%20%20%20%20%20%20%29%3B%0A%20%20%20%20%20%20%20%20%20%20%20%20marker_f348ed7e94e84a30b3d6db9880773adc.setIcon%28icon_adaa0744f79e4e2690322c04b43987a3%29%3B%0A%20%20%20%20%20%20%20%20%0A%20%20%20%20%0A%20%20%20%20%20%20%20%20var%20popup_ddaca7de84254607b142a0fb2146a198%20%3D%20L.popup%28%7B%22maxWidth%22%3A%20%22100%25%22%7D%29%3B%0A%0A%20%20%20%20%20%20%20%20%0A%20%20%20%20%20%20%20%20%20%20%20%20var%20html_e0dc13cd002e4332b9fd9b1d6b61e179%20%3D%20%24%28%60%3Cdiv%20id%3D%22html_e0dc13cd002e4332b9fd9b1d6b61e179%22%20style%3D%22width%3A%20100.0%25%3B%20height%3A%20100.0%25%3B%22%3EA%20empresa%20AMINE%20IMOBILIARIOS%20%28CNPJ%2055815300000213%29%2C%20relacionada%20ao%20PEP%20AMARILDO%20SABATE%20KAILER%2C%20recebeu%20R%24%20747635.06%3C/div%3E%60%29%5B0%5D%3B%0A%20%20%20%20%20%20%20%20%20%20%20%20popup_ddaca7de84254607b142a0fb2146a198.setContent%28html_e0dc13cd002e4332b9fd9b1d6b61e179%29%3B%0A%20%20%20%20%20%20%20%20%0A%0A%20%20%20%20%20%20%20%20marker_f348ed7e94e84a30b3d6db9880773adc.bindPopup%28popup_ddaca7de84254607b142a0fb2146a198%29%0A%20%20%20%20%20%20%20%20%3B%0A%0A%20%20%20%20%20%20%20%20%0A%20%20%20%20%0A%20%20%20%20%0A%20%20%20%20%20%20%20%20%20%20%20%20marker_f348ed7e94e84a30b3d6db9880773adc.bindTooltip%28%0A%20%20%20%20%20%20%20%20%20%20%20%20%20%20%20%20%60%3Cdiv%3E%0A%20%20%20%20%20%20%20%20%20%20%20%20%20%20%20%20%20%20%20%20%20A%20empresa%20AMINE%20IMOBILIARIOS%20%28CNPJ%2055815300000213%29%2C%20relacionada%20ao%20PEP%20AMARILDO%20SABATE%20KAILER%2C%20recebeu%20R%24%20747635.06%0A%20%20%20%20%20%20%20%20%20%20%20%20%20%20%20%20%20%3C/div%3E%60%2C%0A%20%20%20%20%20%20%20%20%20%20%20%20%20%20%20%20%7B%22sticky%22%3A%20true%7D%0A%20%20%20%20%20%20%20%20%20%20%20%20%29%3B%0A%20%20%20%20%20%20%20%20%0A%20%20%20%20%0A%20%20%20%20%20%20%20%20%20%20%20%20var%20marker_bf3de98b1cdf4b51a3c64681b6b32cfe%20%3D%20L.marker%28%0A%20%20%20%20%20%20%20%20%20%20%20%20%20%20%20%20%5B-22.488000000000003%2C%20-47.215%5D%2C%0A%20%20%20%20%20%20%20%20%20%20%20%20%20%20%20%20%7B%7D%0A%20%20%20%20%20%20%20%20%20%20%20%20%29.addTo%28map_cfd19d50440e4e359889414eb5531ff9%29%3B%0A%20%20%20%20%20%20%20%20%0A%20%20%20%20%0A%20%20%20%20%20%20%20%20%20%20%20%20var%20icon_bfa5fb8e8ed54dfda6cf80f503011569%20%3D%20L.AwesomeMarkers.icon%28%0A%20%20%20%20%20%20%20%20%20%20%20%20%20%20%20%20%7B%22extraClasses%22%3A%20%22fa-rotate-0%22%2C%20%22icon%22%3A%20%22info-sign%22%2C%20%22iconColor%22%3A%20%22white%22%2C%20%22markerColor%22%3A%20%22red%22%2C%20%22prefix%22%3A%20%22glyphicon%22%7D%0A%20%20%20%20%20%20%20%20%20%20%20%20%29%3B%0A%20%20%20%20%20%20%20%20%20%20%20%20marker_bf3de98b1cdf4b51a3c64681b6b32cfe.setIcon%28icon_bfa5fb8e8ed54dfda6cf80f503011569%29%3B%0A%20%20%20%20%20%20%20%20%0A%20%20%20%20%0A%20%20%20%20%20%20%20%20var%20popup_5e5697a1b248428ab2fe692a8ab73615%20%3D%20L.popup%28%7B%22maxWidth%22%3A%20%22100%25%22%7D%29%3B%0A%0A%20%20%20%20%20%20%20%20%0A%20%20%20%20%20%20%20%20%20%20%20%20var%20html_8040dfdafbf04190845e09320d05e23e%20%3D%20%24%28%60%3Cdiv%20id%3D%22html_8040dfdafbf04190845e09320d05e23e%22%20style%3D%22width%3A%20100.0%25%3B%20height%3A%20100.0%25%3B%22%3EA%20empresa%20AMINE%20IMOBILIARIOS%20%28CNPJ%2055815300000475%29%2C%20relacionada%20ao%20PEP%20AMARILDO%20SABATE%20KAILER%2C%20recebeu%20R%24%20554663.54%3C/div%3E%60%29%5B0%5D%3B%0A%20%20%20%20%20%20%20%20%20%20%20%20popup_5e5697a1b248428ab2fe692a8ab73615.setContent%28html_8040dfdafbf04190845e09320d05e23e%29%3B%0A%20%20%20%20%20%20%20%20%0A%0A%20%20%20%20%20%20%20%20marker_bf3de98b1cdf4b51a3c64681b6b32cfe.bindPopup%28popup_5e5697a1b248428ab2fe692a8ab73615%29%0A%20%20%20%20%20%20%20%20%3B%0A%0A%20%20%20%20%20%20%20%20%0A%20%20%20%20%0A%20%20%20%20%0A%20%20%20%20%20%20%20%20%20%20%20%20marker_bf3de98b1cdf4b51a3c64681b6b32cfe.bindTooltip%28%0A%20%20%20%20%20%20%20%20%20%20%20%20%20%20%20%20%60%3Cdiv%3E%0A%20%20%20%20%20%20%20%20%20%20%20%20%20%20%20%20%20%20%20%20%20A%20empresa%20AMINE%20IMOBILIARIOS%20%28CNPJ%2055815300000475%29%2C%20relacionada%20ao%20PEP%20AMARILDO%20SABATE%20KAILER%2C%20recebeu%20R%24%20554663.54%0A%20%20%20%20%20%20%20%20%20%20%20%20%20%20%20%20%20%3C/div%3E%60%2C%0A%20%20%20%20%20%20%20%20%20%20%20%20%20%20%20%20%7B%22sticky%22%3A%20true%7D%0A%20%20%20%20%20%20%20%20%20%20%20%20%29%3B%0A%20%20%20%20%20%20%20%20%0A%20%20%20%20%0A%20%20%20%20%20%20%20%20%20%20%20%20var%20marker_8c6217ac61434e638b438338ee0dc563%20%3D%20L.marker%28%0A%20%20%20%20%20%20%20%20%20%20%20%20%20%20%20%20%5B-24.099%2C%20-48.365%5D%2C%0A%20%20%20%20%20%20%20%20%20%20%20%20%20%20%20%20%7B%7D%0A%20%20%20%20%20%20%20%20%20%20%20%20%29.addTo%28map_cfd19d50440e4e359889414eb5531ff9%29%3B%0A%20%20%20%20%20%20%20%20%0A%20%20%20%20%0A%20%20%20%20%20%20%20%20%20%20%20%20var%20icon_03dbaf75305d4340a37b2367c9eb1d2d%20%3D%20L.AwesomeMarkers.icon%28%0A%20%20%20%20%20%20%20%20%20%20%20%20%20%20%20%20%7B%22extraClasses%22%3A%20%22fa-rotate-0%22%2C%20%22icon%22%3A%20%22info-sign%22%2C%20%22iconColor%22%3A%20%22white%22%2C%20%22markerColor%22%3A%20%22red%22%2C%20%22prefix%22%3A%20%22glyphicon%22%7D%0A%20%20%20%20%20%20%20%20%20%20%20%20%29%3B%0A%20%20%20%20%20%20%20%20%20%20%20%20marker_8c6217ac61434e638b438338ee0dc563.setIcon%28icon_03dbaf75305d4340a37b2367c9eb1d2d%29%3B%0A%20%20%20%20%20%20%20%20%0A%20%20%20%20%0A%20%20%20%20%20%20%20%20var%20popup_9b86a35bed344508b1ac3a9d9ada54ae%20%3D%20L.popup%28%7B%22maxWidth%22%3A%20%22100%25%22%7D%29%3B%0A%0A%20%20%20%20%20%20%20%20%0A%20%20%20%20%20%20%20%20%20%20%20%20var%20html_862be1bc8cca460fb8036620eaac8cc1%20%3D%20%24%28%60%3Cdiv%20id%3D%22html_862be1bc8cca460fb8036620eaac8cc1%22%20style%3D%22width%3A%20100.0%25%3B%20height%3A%20100.0%25%3B%22%3EA%20empresa%20MARIA%20CECILIA%20MERCEARIA%20EIRELLI%20%28CNPJ%2008111025000132%29%2C%20relacionada%20ao%20PEP%20DIRLEI%20GOSSER%20LOIVAL%2C%20recebeu%20R%24%20691811.88%3C/div%3E%60%29%5B0%5D%3B%0A%20%20%20%20%20%20%20%20%20%20%20%20popup_9b86a35bed344508b1ac3a9d9ada54ae.setContent%28html_862be1bc8cca460fb8036620eaac8cc1%29%3B%0A%20%20%20%20%20%20%20%20%0A%0A%20%20%20%20%20%20%20%20marker_8c6217ac61434e638b438338ee0dc563.bindPopup%28popup_9b86a35bed344508b1ac3a9d9ada54ae%29%0A%20%20%20%20%20%20%20%20%3B%0A%0A%20%20%20%20%20%20%20%20%0A%20%20%20%20%0A%20%20%20%20%0A%20%20%20%20%20%20%20%20%20%20%20%20marker_8c6217ac61434e638b438338ee0dc563.bindTooltip%28%0A%20%20%20%20%20%20%20%20%20%20%20%20%20%20%20%20%60%3Cdiv%3E%0A%20%20%20%20%20%20%20%20%20%20%20%20%20%20%20%20%20%20%20%20%20A%20empresa%20MARIA%20CECILIA%20MERCEARIA%20EIRELLI%20%28CNPJ%2008111025000132%29%2C%20relacionada%20ao%20PEP%20DIRLEI%20GOSSER%20LOIVAL%2C%20recebeu%20R%24%20691811.88%0A%20%20%20%20%20%20%20%20%20%20%20%20%20%20%20%20%20%3C/div%3E%60%2C%0A%20%20%20%20%20%20%20%20%20%20%20%20%20%20%20%20%7B%22sticky%22%3A%20true%7D%0A%20%20%20%20%20%20%20%20%20%20%20%20%29%3B%0A%20%20%20%20%20%20%20%20%0A%20%20%20%20%0A%20%20%20%20%20%20%20%20%20%20%20%20var%20marker_0d9967ff7b9247cdbf6c56d756bcb62d%20%3D%20L.marker%28%0A%20%20%20%20%20%20%20%20%20%20%20%20%20%20%20%20%5B-23.226999999999997%2C%20-47.953%5D%2C%0A%20%20%20%20%20%20%20%20%20%20%20%20%20%20%20%20%7B%7D%0A%20%20%20%20%20%20%20%20%20%20%20%20%29.addTo%28map_cfd19d50440e4e359889414eb5531ff9%29%3B%0A%20%20%20%20%20%20%20%20%0A%20%20%20%20%0A%20%20%20%20%20%20%20%20%20%20%20%20var%20icon_2a7f975290d546798c7eacc6d16ff986%20%3D%20L.AwesomeMarkers.icon%28%0A%20%20%20%20%20%20%20%20%20%20%20%20%20%20%20%20%7B%22extraClasses%22%3A%20%22fa-rotate-0%22%2C%20%22icon%22%3A%20%22info-sign%22%2C%20%22iconColor%22%3A%20%22white%22%2C%20%22markerColor%22%3A%20%22red%22%2C%20%22prefix%22%3A%20%22glyphicon%22%7D%0A%20%20%20%20%20%20%20%20%20%20%20%20%29%3B%0A%20%20%20%20%20%20%20%20%20%20%20%20marker_0d9967ff7b9247cdbf6c56d756bcb62d.setIcon%28icon_2a7f975290d546798c7eacc6d16ff986%29%3B%0A%20%20%20%20%20%20%20%20%0A%20%20%20%20%0A%20%20%20%20%20%20%20%20var%20popup_d64d97ec211948969ab21f1aa4aaa1c7%20%3D%20L.popup%28%7B%22maxWidth%22%3A%20%22100%25%22%7D%29%3B%0A%0A%20%20%20%20%20%20%20%20%0A%20%20%20%20%20%20%20%20%20%20%20%20var%20html_318a5d24195c49a6a823577dea187b7b%20%3D%20%24%28%60%3Cdiv%20id%3D%22html_318a5d24195c49a6a823577dea187b7b%22%20style%3D%22width%3A%20100.0%25%3B%20height%3A%20100.0%25%3B%22%3EA%20empresa%20AMINE%20IMOBILIARIOS%20%28CNPJ%2055815300000213%29%2C%20relacionada%20ao%20PEP%20AMARILDO%20SABATE%20KAILER%2C%20recebeu%20R%24%20568608.3%3C/div%3E%60%29%5B0%5D%3B%0A%20%20%20%20%20%20%20%20%20%20%20%20popup_d64d97ec211948969ab21f1aa4aaa1c7.setContent%28html_318a5d24195c49a6a823577dea187b7b%29%3B%0A%20%20%20%20%20%20%20%20%0A%0A%20%20%20%20%20%20%20%20marker_0d9967ff7b9247cdbf6c56d756bcb62d.bindPopup%28popup_d64d97ec211948969ab21f1aa4aaa1c7%29%0A%20%20%20%20%20%20%20%20%3B%0A%0A%20%20%20%20%20%20%20%20%0A%20%20%20%20%0A%20%20%20%20%0A%20%20%20%20%20%20%20%20%20%20%20%20marker_0d9967ff7b9247cdbf6c56d756bcb62d.bindTooltip%28%0A%20%20%20%20%20%20%20%20%20%20%20%20%20%20%20%20%60%3Cdiv%3E%0A%20%20%20%20%20%20%20%20%20%20%20%20%20%20%20%20%20%20%20%20%20A%20empresa%20AMINE%20IMOBILIARIOS%20%28CNPJ%2055815300000213%29%2C%20relacionada%20ao%20PEP%20AMARILDO%20SABATE%20KAILER%2C%20recebeu%20R%24%20568608.3%0A%20%20%20%20%20%20%20%20%20%20%20%20%20%20%20%20%20%3C/div%3E%60%2C%0A%20%20%20%20%20%20%20%20%20%20%20%20%20%20%20%20%7B%22sticky%22%3A%20true%7D%0A%20%20%20%20%20%20%20%20%20%20%20%20%29%3B%0A%20%20%20%20%20%20%20%20%0A%20%20%20%20%0A%20%20%20%20%20%20%20%20%20%20%20%20var%20marker_5b66668418c84d80b6aa5c750f926cca%20%3D%20L.marker%28%0A%20%20%20%20%20%20%20%20%20%20%20%20%20%20%20%20%5B-23.226999999999997%2C%20-47.953%5D%2C%0A%20%20%20%20%20%20%20%20%20%20%20%20%20%20%20%20%7B%7D%0A%20%20%20%20%20%20%20%20%20%20%20%20%29.addTo%28map_cfd19d50440e4e359889414eb5531ff9%29%3B%0A%20%20%20%20%20%20%20%20%0A%20%20%20%20%0A%20%20%20%20%20%20%20%20%20%20%20%20var%20icon_195f29b95f1d49dcb148256bae497fea%20%3D%20L.AwesomeMarkers.icon%28%0A%20%20%20%20%20%20%20%20%20%20%20%20%20%20%20%20%7B%22extraClasses%22%3A%20%22fa-rotate-0%22%2C%20%22icon%22%3A%20%22info-sign%22%2C%20%22iconColor%22%3A%20%22white%22%2C%20%22markerColor%22%3A%20%22red%22%2C%20%22prefix%22%3A%20%22glyphicon%22%7D%0A%20%20%20%20%20%20%20%20%20%20%20%20%29%3B%0A%20%20%20%20%20%20%20%20%20%20%20%20marker_5b66668418c84d80b6aa5c750f926cca.setIcon%28icon_195f29b95f1d49dcb148256bae497fea%29%3B%0A%20%20%20%20%20%20%20%20%0A%20%20%20%20%0A%20%20%20%20%20%20%20%20var%20popup_23c7c96722aa4c2ab32d7ba7c43fa30c%20%3D%20L.popup%28%7B%22maxWidth%22%3A%20%22100%25%22%7D%29%3B%0A%0A%20%20%20%20%20%20%20%20%0A%20%20%20%20%20%20%20%20%20%20%20%20var%20html_096635b75d164bd1b478cec02b2b6374%20%3D%20%24%28%60%3Cdiv%20id%3D%22html_096635b75d164bd1b478cec02b2b6374%22%20style%3D%22width%3A%20100.0%25%3B%20height%3A%20100.0%25%3B%22%3EA%20empresa%20AMINE%20IMOBILIARIOS%20%28CNPJ%2055815300000475%29%2C%20relacionada%20ao%20PEP%20AMARILDO%20SABATE%20KAILER%2C%20recebeu%20R%24%20139074.12%3C/div%3E%60%29%5B0%5D%3B%0A%20%20%20%20%20%20%20%20%20%20%20%20popup_23c7c96722aa4c2ab32d7ba7c43fa30c.setContent%28html_096635b75d164bd1b478cec02b2b6374%29%3B%0A%20%20%20%20%20%20%20%20%0A%0A%20%20%20%20%20%20%20%20marker_5b66668418c84d80b6aa5c750f926cca.bindPopup%28popup_23c7c96722aa4c2ab32d7ba7c43fa30c%29%0A%20%20%20%20%20%20%20%20%3B%0A%0A%20%20%20%20%20%20%20%20%0A%20%20%20%20%0A%20%20%20%20%0A%20%20%20%20%20%20%20%20%20%20%20%20marker_5b66668418c84d80b6aa5c750f926cca.bindTooltip%28%0A%20%20%20%20%20%20%20%20%20%20%20%20%20%20%20%20%60%3Cdiv%3E%0A%20%20%20%20%20%20%20%20%20%20%20%20%20%20%20%20%20%20%20%20%20A%20empresa%20AMINE%20IMOBILIARIOS%20%28CNPJ%2055815300000475%29%2C%20relacionada%20ao%20PEP%20AMARILDO%20SABATE%20KAILER%2C%20recebeu%20R%24%20139074.12%0A%20%20%20%20%20%20%20%20%20%20%20%20%20%20%20%20%20%3C/div%3E%60%2C%0A%20%20%20%20%20%20%20%20%20%20%20%20%20%20%20%20%7B%22sticky%22%3A%20true%7D%0A%20%20%20%20%20%20%20%20%20%20%20%20%29%3B%0A%20%20%20%20%20%20%20%20%0A%20%20%20%20%0A%20%20%20%20%20%20%20%20%20%20%20%20var%20marker_5cd006a3a62c43d1a89d4ba5f67ae6b4%20%3D%20L.marker%28%0A%20%20%20%20%20%20%20%20%20%20%20%20%20%20%20%20%5B-23.081%2C%20-48.373999999999995%5D%2C%0A%20%20%20%20%20%20%20%20%20%20%20%20%20%20%20%20%7B%7D%0A%20%20%20%20%20%20%20%20%20%20%20%20%29.addTo%28map_cfd19d50440e4e359889414eb5531ff9%29%3B%0A%20%20%20%20%20%20%20%20%0A%20%20%20%20%0A%20%20%20%20%20%20%20%20%20%20%20%20var%20icon_0f05e3e527d3433aadf45eaa6df8b7c2%20%3D%20L.AwesomeMarkers.icon%28%0A%20%20%20%20%20%20%20%20%20%20%20%20%20%20%20%20%7B%22extraClasses%22%3A%20%22fa-rotate-0%22%2C%20%22icon%22%3A%20%22info-sign%22%2C%20%22iconColor%22%3A%20%22white%22%2C%20%22markerColor%22%3A%20%22red%22%2C%20%22prefix%22%3A%20%22glyphicon%22%7D%0A%20%20%20%20%20%20%20%20%20%20%20%20%29%3B%0A%20%20%20%20%20%20%20%20%20%20%20%20marker_5cd006a3a62c43d1a89d4ba5f67ae6b4.setIcon%28icon_0f05e3e527d3433aadf45eaa6df8b7c2%29%3B%0A%20%20%20%20%20%20%20%20%0A%20%20%20%20%0A%20%20%20%20%20%20%20%20var%20popup_2dc0520529b3494ead53bb4b83b9297e%20%3D%20L.popup%28%7B%22maxWidth%22%3A%20%22100%25%22%7D%29%3B%0A%0A%20%20%20%20%20%20%20%20%0A%20%20%20%20%20%20%20%20%20%20%20%20var%20html_8c5ce6ce3caf477aaad77380725c758a%20%3D%20%24%28%60%3Cdiv%20id%3D%22html_8c5ce6ce3caf477aaad77380725c758a%22%20style%3D%22width%3A%20100.0%25%3B%20height%3A%20100.0%25%3B%22%3EA%20empresa%20ARTUR%20SANTOS%20LTDA%20%28CNPJ%2000130932000170%29%2C%20relacionada%20ao%20PEP%20AMARILDO%20EMENDABILI%20ERIVANO%2C%20recebeu%20R%24%20607988.2%3C/div%3E%60%29%5B0%5D%3B%0A%20%20%20%20%20%20%20%20%20%20%20%20popup_2dc0520529b3494ead53bb4b83b9297e.setContent%28html_8c5ce6ce3caf477aaad77380725c758a%29%3B%0A%20%20%20%20%20%20%20%20%0A%0A%20%20%20%20%20%20%20%20marker_5cd006a3a62c43d1a89d4ba5f67ae6b4.bindPopup%28popup_2dc0520529b3494ead53bb4b83b9297e%29%0A%20%20%20%20%20%20%20%20%3B%0A%0A%20%20%20%20%20%20%20%20%0A%20%20%20%20%0A%20%20%20%20%0A%20%20%20%20%20%20%20%20%20%20%20%20marker_5cd006a3a62c43d1a89d4ba5f67ae6b4.bindTooltip%28%0A%20%20%20%20%20%20%20%20%20%20%20%20%20%20%20%20%60%3Cdiv%3E%0A%20%20%20%20%20%20%20%20%20%20%20%20%20%20%20%20%20%20%20%20%20A%20empresa%20ARTUR%20SANTOS%20LTDA%20%28CNPJ%2000130932000170%29%2C%20relacionada%20ao%20PEP%20AMARILDO%20EMENDABILI%20ERIVANO%2C%20recebeu%20R%24%20607988.2%0A%20%20%20%20%20%20%20%20%20%20%20%20%20%20%20%20%20%3C/div%3E%60%2C%0A%20%20%20%20%20%20%20%20%20%20%20%20%20%20%20%20%7B%22sticky%22%3A%20true%7D%0A%20%20%20%20%20%20%20%20%20%20%20%20%29%3B%0A%20%20%20%20%20%20%20%20%0A%20%20%20%20%0A%20%20%20%20%20%20%20%20%20%20%20%20var%20marker_7e954495774141d1a60d2e56236e1bf1%20%3D%20L.marker%28%0A%20%20%20%20%20%20%20%20%20%20%20%20%20%20%20%20%5B-23.601999999999997%2C%20-46.753%5D%2C%0A%20%20%20%20%20%20%20%20%20%20%20%20%20%20%20%20%7B%7D%0A%20%20%20%20%20%20%20%20%20%20%20%20%29.addTo%28map_cfd19d50440e4e359889414eb5531ff9%29%3B%0A%20%20%20%20%20%20%20%20%0A%20%20%20%20%0A%20%20%20%20%20%20%20%20%20%20%20%20var%20icon_ce0efdfc14d2444488365b754792aa20%20%3D%20L.AwesomeMarkers.icon%28%0A%20%20%20%20%20%20%20%20%20%20%20%20%20%20%20%20%7B%22extraClasses%22%3A%20%22fa-rotate-0%22%2C%20%22icon%22%3A%20%22info-sign%22%2C%20%22iconColor%22%3A%20%22white%22%2C%20%22markerColor%22%3A%20%22red%22%2C%20%22prefix%22%3A%20%22glyphicon%22%7D%0A%20%20%20%20%20%20%20%20%20%20%20%20%29%3B%0A%20%20%20%20%20%20%20%20%20%20%20%20marker_7e954495774141d1a60d2e56236e1bf1.setIcon%28icon_ce0efdfc14d2444488365b754792aa20%29%3B%0A%20%20%20%20%20%20%20%20%0A%20%20%20%20%0A%20%20%20%20%20%20%20%20var%20popup_b23028ec5cfb49a0bff08230f7e5bdfb%20%3D%20L.popup%28%7B%22maxWidth%22%3A%20%22100%25%22%7D%29%3B%0A%0A%20%20%20%20%20%20%20%20%0A%20%20%20%20%20%20%20%20%20%20%20%20var%20html_718cb73f33c14254b3edb52ae5851eb2%20%3D%20%24%28%60%3Cdiv%20id%3D%22html_718cb73f33c14254b3edb52ae5851eb2%22%20style%3D%22width%3A%20100.0%25%3B%20height%3A%20100.0%25%3B%22%3EA%20empresa%20AMINE%20IMOBILIARIOS%20%28CNPJ%2055815300000213%29%2C%20relacionada%20ao%20PEP%20AMARILDO%20SABATE%20KAILER%2C%20recebeu%20R%24%20574964.89%3C/div%3E%60%29%5B0%5D%3B%0A%20%20%20%20%20%20%20%20%20%20%20%20popup_b23028ec5cfb49a0bff08230f7e5bdfb.setContent%28html_718cb73f33c14254b3edb52ae5851eb2%29%3B%0A%20%20%20%20%20%20%20%20%0A%0A%20%20%20%20%20%20%20%20marker_7e954495774141d1a60d2e56236e1bf1.bindPopup%28popup_b23028ec5cfb49a0bff08230f7e5bdfb%29%0A%20%20%20%20%20%20%20%20%3B%0A%0A%20%20%20%20%20%20%20%20%0A%20%20%20%20%0A%20%20%20%20%0A%20%20%20%20%20%20%20%20%20%20%20%20marker_7e954495774141d1a60d2e56236e1bf1.bindTooltip%28%0A%20%20%20%20%20%20%20%20%20%20%20%20%20%20%20%20%60%3Cdiv%3E%0A%20%20%20%20%20%20%20%20%20%20%20%20%20%20%20%20%20%20%20%20%20A%20empresa%20AMINE%20IMOBILIARIOS%20%28CNPJ%2055815300000213%29%2C%20relacionada%20ao%20PEP%20AMARILDO%20SABATE%20KAILER%2C%20recebeu%20R%24%20574964.89%0A%20%20%20%20%20%20%20%20%20%20%20%20%20%20%20%20%20%3C/div%3E%60%2C%0A%20%20%20%20%20%20%20%20%20%20%20%20%20%20%20%20%7B%22sticky%22%3A%20true%7D%0A%20%20%20%20%20%20%20%20%20%20%20%20%29%3B%0A%20%20%20%20%20%20%20%20%0A%20%20%20%20%0A%20%20%20%20%20%20%20%20%20%20%20%20var%20marker_6c9753825fea4ee4a8679529bdd281ab%20%3D%20L.marker%28%0A%20%20%20%20%20%20%20%20%20%20%20%20%20%20%20%20%5B-20.805999999999997%2C%20-49.964%5D%2C%0A%20%20%20%20%20%20%20%20%20%20%20%20%20%20%20%20%7B%7D%0A%20%20%20%20%20%20%20%20%20%20%20%20%29.addTo%28map_cfd19d50440e4e359889414eb5531ff9%29%3B%0A%20%20%20%20%20%20%20%20%0A%20%20%20%20%0A%20%20%20%20%20%20%20%20%20%20%20%20var%20icon_0fa31f8a64e540198e142e25f6a6ecbb%20%3D%20L.AwesomeMarkers.icon%28%0A%20%20%20%20%20%20%20%20%20%20%20%20%20%20%20%20%7B%22extraClasses%22%3A%20%22fa-rotate-0%22%2C%20%22icon%22%3A%20%22info-sign%22%2C%20%22iconColor%22%3A%20%22white%22%2C%20%22markerColor%22%3A%20%22red%22%2C%20%22prefix%22%3A%20%22glyphicon%22%7D%0A%20%20%20%20%20%20%20%20%20%20%20%20%29%3B%0A%20%20%20%20%20%20%20%20%20%20%20%20marker_6c9753825fea4ee4a8679529bdd281ab.setIcon%28icon_0fa31f8a64e540198e142e25f6a6ecbb%29%3B%0A%20%20%20%20%20%20%20%20%0A%20%20%20%20%0A%20%20%20%20%20%20%20%20var%20popup_c82dae15f7874146a9cd4a3df42273da%20%3D%20L.popup%28%7B%22maxWidth%22%3A%20%22100%25%22%7D%29%3B%0A%0A%20%20%20%20%20%20%20%20%0A%20%20%20%20%20%20%20%20%20%20%20%20var%20html_a17990e3dd1c492d937b05c9c7f74b87%20%3D%20%24%28%60%3Cdiv%20id%3D%22html_a17990e3dd1c492d937b05c9c7f74b87%22%20style%3D%22width%3A%20100.0%25%3B%20height%3A%20100.0%25%3B%22%3EA%20empresa%20CSENGE%20CONFECCOES%20EIRELLI%20%28CNPJ%2018941225000172%29%2C%20relacionada%20ao%20PEP%20JUNOR%20RUITA%20CHIMANGO%2C%20recebeu%20R%24%20555209.93%3C/div%3E%60%29%5B0%5D%3B%0A%20%20%20%20%20%20%20%20%20%20%20%20popup_c82dae15f7874146a9cd4a3df42273da.setContent%28html_a17990e3dd1c492d937b05c9c7f74b87%29%3B%0A%20%20%20%20%20%20%20%20%0A%0A%20%20%20%20%20%20%20%20marker_6c9753825fea4ee4a8679529bdd281ab.bindPopup%28popup_c82dae15f7874146a9cd4a3df42273da%29%0A%20%20%20%20%20%20%20%20%3B%0A%0A%20%20%20%20%20%20%20%20%0A%20%20%20%20%0A%20%20%20%20%0A%20%20%20%20%20%20%20%20%20%20%20%20marker_6c9753825fea4ee4a8679529bdd281ab.bindTooltip%28%0A%20%20%20%20%20%20%20%20%20%20%20%20%20%20%20%20%60%3Cdiv%3E%0A%20%20%20%20%20%20%20%20%20%20%20%20%20%20%20%20%20%20%20%20%20A%20empresa%20CSENGE%20CONFECCOES%20EIRELLI%20%28CNPJ%2018941225000172%29%2C%20relacionada%20ao%20PEP%20JUNOR%20RUITA%20CHIMANGO%2C%20recebeu%20R%24%20555209.93%0A%20%20%20%20%20%20%20%20%20%20%20%20%20%20%20%20%20%3C/div%3E%60%2C%0A%20%20%20%20%20%20%20%20%20%20%20%20%20%20%20%20%7B%22sticky%22%3A%20true%7D%0A%20%20%20%20%20%20%20%20%20%20%20%20%29%3B%0A%20%20%20%20%20%20%20%20%0A%20%20%20%20%0A%20%20%20%20%20%20%20%20%20%20%20%20var%20marker_f3751e36c9294d75bdc60ad34b8419e1%20%3D%20L.marker%28%0A%20%20%20%20%20%20%20%20%20%20%20%20%20%20%20%20%5B-20.655%2C%20-49.92100000000001%5D%2C%0A%20%20%20%20%20%20%20%20%20%20%20%20%20%20%20%20%7B%7D%0A%20%20%20%20%20%20%20%20%20%20%20%20%29.addTo%28map_cfd19d50440e4e359889414eb5531ff9%29%3B%0A%20%20%20%20%20%20%20%20%0A%20%20%20%20%0A%20%20%20%20%20%20%20%20%20%20%20%20var%20icon_d10660648d754ccbb27af0fdb7e20a39%20%3D%20L.AwesomeMarkers.icon%28%0A%20%20%20%20%20%20%20%20%20%20%20%20%20%20%20%20%7B%22extraClasses%22%3A%20%22fa-rotate-0%22%2C%20%22icon%22%3A%20%22info-sign%22%2C%20%22iconColor%22%3A%20%22white%22%2C%20%22markerColor%22%3A%20%22red%22%2C%20%22prefix%22%3A%20%22glyphicon%22%7D%0A%20%20%20%20%20%20%20%20%20%20%20%20%29%3B%0A%20%20%20%20%20%20%20%20%20%20%20%20marker_f3751e36c9294d75bdc60ad34b8419e1.setIcon%28icon_d10660648d754ccbb27af0fdb7e20a39%29%3B%0A%20%20%20%20%20%20%20%20%0A%20%20%20%20%0A%20%20%20%20%20%20%20%20var%20popup_effc0e1310d04ba1a172a5eca6fe458d%20%3D%20L.popup%28%7B%22maxWidth%22%3A%20%22100%25%22%7D%29%3B%0A%0A%20%20%20%20%20%20%20%20%0A%20%20%20%20%20%20%20%20%20%20%20%20var%20html_a647e15d0c5a45289d1cec16c45ea5f3%20%3D%20%24%28%60%3Cdiv%20id%3D%22html_a647e15d0c5a45289d1cec16c45ea5f3%22%20style%3D%22width%3A%20100.0%25%3B%20height%3A%20100.0%25%3B%22%3EA%20empresa%20FINN%20TECNOLOGIA%20%28CNPJ%2056776669000107%29%2C%20relacionada%20ao%20PEP%20IDEVAL%20DELU%20STRAPPA%2C%20recebeu%20R%24%20559375.94%3C/div%3E%60%29%5B0%5D%3B%0A%20%20%20%20%20%20%20%20%20%20%20%20popup_effc0e1310d04ba1a172a5eca6fe458d.setContent%28html_a647e15d0c5a45289d1cec16c45ea5f3%29%3B%0A%20%20%20%20%20%20%20%20%0A%0A%20%20%20%20%20%20%20%20marker_f3751e36c9294d75bdc60ad34b8419e1.bindPopup%28popup_effc0e1310d04ba1a172a5eca6fe458d%29%0A%20%20%20%20%20%20%20%20%3B%0A%0A%20%20%20%20%20%20%20%20%0A%20%20%20%20%0A%20%20%20%20%0A%20%20%20%20%20%20%20%20%20%20%20%20marker_f3751e36c9294d75bdc60ad34b8419e1.bindTooltip%28%0A%20%20%20%20%20%20%20%20%20%20%20%20%20%20%20%20%60%3Cdiv%3E%0A%20%20%20%20%20%20%20%20%20%20%20%20%20%20%20%20%20%20%20%20%20A%20empresa%20FINN%20TECNOLOGIA%20%28CNPJ%2056776669000107%29%2C%20relacionada%20ao%20PEP%20IDEVAL%20DELU%20STRAPPA%2C%20recebeu%20R%24%20559375.94%0A%20%20%20%20%20%20%20%20%20%20%20%20%20%20%20%20%20%3C/div%3E%60%2C%0A%20%20%20%20%20%20%20%20%20%20%20%20%20%20%20%20%7B%22sticky%22%3A%20true%7D%0A%20%20%20%20%20%20%20%20%20%20%20%20%29%3B%0A%20%20%20%20%20%20%20%20%0A%20%20%20%20%0A%20%20%20%20%20%20%20%20%20%20%20%20var%20marker_61868ec0a48443a9bf3b8872732a1379%20%3D%20L.marker%28%0A%20%20%20%20%20%20%20%20%20%20%20%20%20%20%20%20%5B-23.486%2C%20-46.348%5D%2C%0A%20%20%20%20%20%20%20%20%20%20%20%20%20%20%20%20%7B%7D%0A%20%20%20%20%20%20%20%20%20%20%20%20%29.addTo%28map_cfd19d50440e4e359889414eb5531ff9%29%3B%0A%20%20%20%20%20%20%20%20%0A%20%20%20%20%0A%20%20%20%20%20%20%20%20%20%20%20%20var%20icon_7dabf89243024a6380ba375cda30bc9e%20%3D%20L.AwesomeMarkers.icon%28%0A%20%20%20%20%20%20%20%20%20%20%20%20%20%20%20%20%7B%22extraClasses%22%3A%20%22fa-rotate-0%22%2C%20%22icon%22%3A%20%22info-sign%22%2C%20%22iconColor%22%3A%20%22white%22%2C%20%22markerColor%22%3A%20%22red%22%2C%20%22prefix%22%3A%20%22glyphicon%22%7D%0A%20%20%20%20%20%20%20%20%20%20%20%20%29%3B%0A%20%20%20%20%20%20%20%20%20%20%20%20marker_61868ec0a48443a9bf3b8872732a1379.setIcon%28icon_7dabf89243024a6380ba375cda30bc9e%29%3B%0A%20%20%20%20%20%20%20%20%0A%20%20%20%20%0A%20%20%20%20%20%20%20%20var%20popup_0b1a40ff7eeb47e69064140a28d820bb%20%3D%20L.popup%28%7B%22maxWidth%22%3A%20%22100%25%22%7D%29%3B%0A%0A%20%20%20%20%20%20%20%20%0A%20%20%20%20%20%20%20%20%20%20%20%20var%20html_a660b003a24c49bca2b595b04f0b5979%20%3D%20%24%28%60%3Cdiv%20id%3D%22html_a660b003a24c49bca2b595b04f0b5979%22%20style%3D%22width%3A%20100.0%25%3B%20height%3A%20100.0%25%3B%22%3EA%20empresa%20SOMA%20TURISMO%20EPP%20%28CNPJ%2004578574000175%29%2C%20relacionada%20ao%20PEP%20CLOZOE%20SPERETA%20DANIEL%2C%20recebeu%20R%24%20513335.6%3C/div%3E%60%29%5B0%5D%3B%0A%20%20%20%20%20%20%20%20%20%20%20%20popup_0b1a40ff7eeb47e69064140a28d820bb.setContent%28html_a660b003a24c49bca2b595b04f0b5979%29%3B%0A%20%20%20%20%20%20%20%20%0A%0A%20%20%20%20%20%20%20%20marker_61868ec0a48443a9bf3b8872732a1379.bindPopup%28popup_0b1a40ff7eeb47e69064140a28d820bb%29%0A%20%20%20%20%20%20%20%20%3B%0A%0A%20%20%20%20%20%20%20%20%0A%20%20%20%20%0A%20%20%20%20%0A%20%20%20%20%20%20%20%20%20%20%20%20marker_61868ec0a48443a9bf3b8872732a1379.bindTooltip%28%0A%20%20%20%20%20%20%20%20%20%20%20%20%20%20%20%20%60%3Cdiv%3E%0A%20%20%20%20%20%20%20%20%20%20%20%20%20%20%20%20%20%20%20%20%20A%20empresa%20SOMA%20TURISMO%20EPP%20%28CNPJ%2004578574000175%29%2C%20relacionada%20ao%20PEP%20CLOZOE%20SPERETA%20DANIEL%2C%20recebeu%20R%24%20513335.6%0A%20%20%20%20%20%20%20%20%20%20%20%20%20%20%20%20%20%3C/div%3E%60%2C%0A%20%20%20%20%20%20%20%20%20%20%20%20%20%20%20%20%7B%22sticky%22%3A%20true%7D%0A%20%20%20%20%20%20%20%20%20%20%20%20%29%3B%0A%20%20%20%20%20%20%20%20%0A%20%20%20%20%0A%20%20%20%20%20%20%20%20%20%20%20%20var%20marker_2e16c4aa01094aeba937c0abfc44e14f%20%3D%20L.marker%28%0A%20%20%20%20%20%20%20%20%20%20%20%20%20%20%20%20%5B-22.006%2C%20-51.553000000000004%5D%2C%0A%20%20%20%20%20%20%20%20%20%20%20%20%20%20%20%20%7B%7D%0A%20%20%20%20%20%20%20%20%20%20%20%20%29.addTo%28map_cfd19d50440e4e359889414eb5531ff9%29%3B%0A%20%20%20%20%20%20%20%20%0A%20%20%20%20%0A%20%20%20%20%20%20%20%20%20%20%20%20var%20icon_7e97ec4bae62409cbb1f3146019aa365%20%3D%20L.AwesomeMarkers.icon%28%0A%20%20%20%20%20%20%20%20%20%20%20%20%20%20%20%20%7B%22extraClasses%22%3A%20%22fa-rotate-0%22%2C%20%22icon%22%3A%20%22info-sign%22%2C%20%22iconColor%22%3A%20%22white%22%2C%20%22markerColor%22%3A%20%22red%22%2C%20%22prefix%22%3A%20%22glyphicon%22%7D%0A%20%20%20%20%20%20%20%20%20%20%20%20%29%3B%0A%20%20%20%20%20%20%20%20%20%20%20%20marker_2e16c4aa01094aeba937c0abfc44e14f.setIcon%28icon_7e97ec4bae62409cbb1f3146019aa365%29%3B%0A%20%20%20%20%20%20%20%20%0A%20%20%20%20%0A%20%20%20%20%20%20%20%20var%20popup_2c1c63edc3c64c4984ab3d45a60f45f2%20%3D%20L.popup%28%7B%22maxWidth%22%3A%20%22100%25%22%7D%29%3B%0A%0A%20%20%20%20%20%20%20%20%0A%20%20%20%20%20%20%20%20%20%20%20%20var%20html_cf75eb8be134420d822ab4b3de634cd3%20%3D%20%24%28%60%3Cdiv%20id%3D%22html_cf75eb8be134420d822ab4b3de634cd3%22%20style%3D%22width%3A%20100.0%25%3B%20height%3A%20100.0%25%3B%22%3EA%20empresa%20AMINE%20IMOBILIARIOS%20%28CNPJ%2055815300000213%29%2C%20relacionada%20ao%20PEP%20AMARILDO%20SABATE%20KAILER%2C%20recebeu%20R%24%20529737.13%3C/div%3E%60%29%5B0%5D%3B%0A%20%20%20%20%20%20%20%20%20%20%20%20popup_2c1c63edc3c64c4984ab3d45a60f45f2.setContent%28html_cf75eb8be134420d822ab4b3de634cd3%29%3B%0A%20%20%20%20%20%20%20%20%0A%0A%20%20%20%20%20%20%20%20marker_2e16c4aa01094aeba937c0abfc44e14f.bindPopup%28popup_2c1c63edc3c64c4984ab3d45a60f45f2%29%0A%20%20%20%20%20%20%20%20%3B%0A%0A%20%20%20%20%20%20%20%20%0A%20%20%20%20%0A%20%20%20%20%0A%20%20%20%20%20%20%20%20%20%20%20%20marker_2e16c4aa01094aeba937c0abfc44e14f.bindTooltip%28%0A%20%20%20%20%20%20%20%20%20%20%20%20%20%20%20%20%60%3Cdiv%3E%0A%20%20%20%20%20%20%20%20%20%20%20%20%20%20%20%20%20%20%20%20%20A%20empresa%20AMINE%20IMOBILIARIOS%20%28CNPJ%2055815300000213%29%2C%20relacionada%20ao%20PEP%20AMARILDO%20SABATE%20KAILER%2C%20recebeu%20R%24%20529737.13%0A%20%20%20%20%20%20%20%20%20%20%20%20%20%20%20%20%20%3C/div%3E%60%2C%0A%20%20%20%20%20%20%20%20%20%20%20%20%20%20%20%20%7B%22sticky%22%3A%20true%7D%0A%20%20%20%20%20%20%20%20%20%20%20%20%29%3B%0A%20%20%20%20%20%20%20%20%0A%20%20%20%20%0A%20%20%20%20%20%20%20%20%20%20%20%20var%20marker_5622757b99164386aa40b894e2f72fab%20%3D%20L.marker%28%0A%20%20%20%20%20%20%20%20%20%20%20%20%20%20%20%20%5B-22.006%2C%20-51.553000000000004%5D%2C%0A%20%20%20%20%20%20%20%20%20%20%20%20%20%20%20%20%7B%7D%0A%20%20%20%20%20%20%20%20%20%20%20%20%29.addTo%28map_cfd19d50440e4e359889414eb5531ff9%29%3B%0A%20%20%20%20%20%20%20%20%0A%20%20%20%20%0A%20%20%20%20%20%20%20%20%20%20%20%20var%20icon_965d287bfd4c4fce8d492ed3a521db49%20%3D%20L.AwesomeMarkers.icon%28%0A%20%20%20%20%20%20%20%20%20%20%20%20%20%20%20%20%7B%22extraClasses%22%3A%20%22fa-rotate-0%22%2C%20%22icon%22%3A%20%22info-sign%22%2C%20%22iconColor%22%3A%20%22white%22%2C%20%22markerColor%22%3A%20%22red%22%2C%20%22prefix%22%3A%20%22glyphicon%22%7D%0A%20%20%20%20%20%20%20%20%20%20%20%20%29%3B%0A%20%20%20%20%20%20%20%20%20%20%20%20marker_5622757b99164386aa40b894e2f72fab.setIcon%28icon_965d287bfd4c4fce8d492ed3a521db49%29%3B%0A%20%20%20%20%20%20%20%20%0A%20%20%20%20%0A%20%20%20%20%20%20%20%20var%20popup_0ed40bcbc9494f98be59db42d160ec92%20%3D%20L.popup%28%7B%22maxWidth%22%3A%20%22100%25%22%7D%29%3B%0A%0A%20%20%20%20%20%20%20%20%0A%20%20%20%20%20%20%20%20%20%20%20%20var%20html_a26a29bce8b84d4a9b5cf8c9b51d2de3%20%3D%20%24%28%60%3Cdiv%20id%3D%22html_a26a29bce8b84d4a9b5cf8c9b51d2de3%22%20style%3D%22width%3A%20100.0%25%3B%20height%3A%20100.0%25%3B%22%3EA%20empresa%20AMINE%20IMOBILIARIOS%20%28CNPJ%2055815300000475%29%2C%20relacionada%20ao%20PEP%20AMARILDO%20SABATE%20KAILER%2C%20recebeu%20R%24%20179707.06%3C/div%3E%60%29%5B0%5D%3B%0A%20%20%20%20%20%20%20%20%20%20%20%20popup_0ed40bcbc9494f98be59db42d160ec92.setContent%28html_a26a29bce8b84d4a9b5cf8c9b51d2de3%29%3B%0A%20%20%20%20%20%20%20%20%0A%0A%20%20%20%20%20%20%20%20marker_5622757b99164386aa40b894e2f72fab.bindPopup%28popup_0ed40bcbc9494f98be59db42d160ec92%29%0A%20%20%20%20%20%20%20%20%3B%0A%0A%20%20%20%20%20%20%20%20%0A%20%20%20%20%0A%20%20%20%20%0A%20%20%20%20%20%20%20%20%20%20%20%20marker_5622757b99164386aa40b894e2f72fab.bindTooltip%28%0A%20%20%20%20%20%20%20%20%20%20%20%20%20%20%20%20%60%3Cdiv%3E%0A%20%20%20%20%20%20%20%20%20%20%20%20%20%20%20%20%20%20%20%20%20A%20empresa%20AMINE%20IMOBILIARIOS%20%28CNPJ%2055815300000475%29%2C%20relacionada%20ao%20PEP%20AMARILDO%20SABATE%20KAILER%2C%20recebeu%20R%24%20179707.06%0A%20%20%20%20%20%20%20%20%20%20%20%20%20%20%20%20%20%3C/div%3E%60%2C%0A%20%20%20%20%20%20%20%20%20%20%20%20%20%20%20%20%7B%22sticky%22%3A%20true%7D%0A%20%20%20%20%20%20%20%20%20%20%20%20%29%3B%0A%20%20%20%20%20%20%20%20%0A%20%20%20%20%0A%20%20%20%20%20%20%20%20%20%20%20%20var%20marker_3bc96da5ffb44badb9b300fb3e11b8ba%20%3D%20L.marker%28%0A%20%20%20%20%20%20%20%20%20%20%20%20%20%20%20%20%5B-20.872%2C%20-51.488%5D%2C%0A%20%20%20%20%20%20%20%20%20%20%20%20%20%20%20%20%7B%7D%0A%20%20%20%20%20%20%20%20%20%20%20%20%29.addTo%28map_cfd19d50440e4e359889414eb5531ff9%29%3B%0A%20%20%20%20%20%20%20%20%0A%20%20%20%20%0A%20%20%20%20%20%20%20%20%20%20%20%20var%20icon_ec90081b661544f48f69f2310c3315b0%20%3D%20L.AwesomeMarkers.icon%28%0A%20%20%20%20%20%20%20%20%20%20%20%20%20%20%20%20%7B%22extraClasses%22%3A%20%22fa-rotate-0%22%2C%20%22icon%22%3A%20%22info-sign%22%2C%20%22iconColor%22%3A%20%22white%22%2C%20%22markerColor%22%3A%20%22red%22%2C%20%22prefix%22%3A%20%22glyphicon%22%7D%0A%20%20%20%20%20%20%20%20%20%20%20%20%29%3B%0A%20%20%20%20%20%20%20%20%20%20%20%20marker_3bc96da5ffb44badb9b300fb3e11b8ba.setIcon%28icon_ec90081b661544f48f69f2310c3315b0%29%3B%0A%20%20%20%20%20%20%20%20%0A%20%20%20%20%0A%20%20%20%20%20%20%20%20var%20popup_092af79a5c9543adacc81938b8197fe5%20%3D%20L.popup%28%7B%22maxWidth%22%3A%20%22100%25%22%7D%29%3B%0A%0A%20%20%20%20%20%20%20%20%0A%20%20%20%20%20%20%20%20%20%20%20%20var%20html_db35721c2c6d4650b7585f0a733656e5%20%3D%20%24%28%60%3Cdiv%20id%3D%22html_db35721c2c6d4650b7585f0a733656e5%22%20style%3D%22width%3A%20100.0%25%3B%20height%3A%20100.0%25%3B%22%3EA%20empresa%20CAMILA%20IMOBILIARIOS%20%28CNPJ%2050761301000146%29%2C%20relacionada%20ao%20PEP%20GILSON%20MONFORT%20GOEGA%2C%20recebeu%20R%24%20511890.79%3C/div%3E%60%29%5B0%5D%3B%0A%20%20%20%20%20%20%20%20%20%20%20%20popup_092af79a5c9543adacc81938b8197fe5.setContent%28html_db35721c2c6d4650b7585f0a733656e5%29%3B%0A%20%20%20%20%20%20%20%20%0A%0A%20%20%20%20%20%20%20%20marker_3bc96da5ffb44badb9b300fb3e11b8ba.bindPopup%28popup_092af79a5c9543adacc81938b8197fe5%29%0A%20%20%20%20%20%20%20%20%3B%0A%0A%20%20%20%20%20%20%20%20%0A%20%20%20%20%0A%20%20%20%20%0A%20%20%20%20%20%20%20%20%20%20%20%20marker_3bc96da5ffb44badb9b300fb3e11b8ba.bindTooltip%28%0A%20%20%20%20%20%20%20%20%20%20%20%20%20%20%20%20%60%3Cdiv%3E%0A%20%20%20%20%20%20%20%20%20%20%20%20%20%20%20%20%20%20%20%20%20A%20empresa%20CAMILA%20IMOBILIARIOS%20%28CNPJ%2050761301000146%29%2C%20relacionada%20ao%20PEP%20GILSON%20MONFORT%20GOEGA%2C%20recebeu%20R%24%20511890.79%0A%20%20%20%20%20%20%20%20%20%20%20%20%20%20%20%20%20%3C/div%3E%60%2C%0A%20%20%20%20%20%20%20%20%20%20%20%20%20%20%20%20%7B%22sticky%22%3A%20true%7D%0A%20%20%20%20%20%20%20%20%20%20%20%20%29%3B%0A%20%20%20%20%20%20%20%20%0A%20%20%20%20%0A%20%20%20%20%20%20%20%20%20%20%20%20var%20marker_2ba096b7a09a4ea88a870f4425e21489%20%3D%20L.marker%28%0A%20%20%20%20%20%20%20%20%20%20%20%20%20%20%20%20%5B-21.955%2C%20-47.997%5D%2C%0A%20%20%20%20%20%20%20%20%20%20%20%20%20%20%20%20%7B%7D%0A%20%20%20%20%20%20%20%20%20%20%20%20%29.addTo%28map_cfd19d50440e4e359889414eb5531ff9%29%3B%0A%20%20%20%20%20%20%20%20%0A%20%20%20%20%0A%20%20%20%20%20%20%20%20%20%20%20%20var%20icon_182c3bdbfd1946c7b8b83cb37c71f073%20%3D%20L.AwesomeMarkers.icon%28%0A%20%20%20%20%20%20%20%20%20%20%20%20%20%20%20%20%7B%22extraClasses%22%3A%20%22fa-rotate-0%22%2C%20%22icon%22%3A%20%22info-sign%22%2C%20%22iconColor%22%3A%20%22white%22%2C%20%22markerColor%22%3A%20%22red%22%2C%20%22prefix%22%3A%20%22glyphicon%22%7D%0A%20%20%20%20%20%20%20%20%20%20%20%20%29%3B%0A%20%20%20%20%20%20%20%20%20%20%20%20marker_2ba096b7a09a4ea88a870f4425e21489.setIcon%28icon_182c3bdbfd1946c7b8b83cb37c71f073%29%3B%0A%20%20%20%20%20%20%20%20%0A%20%20%20%20%0A%20%20%20%20%20%20%20%20var%20popup_1f5ab198125b47d887e8f692c9b2b2ae%20%3D%20L.popup%28%7B%22maxWidth%22%3A%20%22100%25%22%7D%29%3B%0A%0A%20%20%20%20%20%20%20%20%0A%20%20%20%20%20%20%20%20%20%20%20%20var%20html_5333c8eb86584e789cc1aca6fc4082e4%20%3D%20%24%28%60%3Cdiv%20id%3D%22html_5333c8eb86584e789cc1aca6fc4082e4%22%20style%3D%22width%3A%20100.0%25%3B%20height%3A%20100.0%25%3B%22%3EA%20empresa%20AMINE%20IMOBILIARIOS%20%28CNPJ%2055815300000475%29%2C%20relacionada%20ao%20PEP%20AMARILDO%20SABATE%20KAILER%2C%20recebeu%20R%24%20459756.62%3C/div%3E%60%29%5B0%5D%3B%0A%20%20%20%20%20%20%20%20%20%20%20%20popup_1f5ab198125b47d887e8f692c9b2b2ae.setContent%28html_5333c8eb86584e789cc1aca6fc4082e4%29%3B%0A%20%20%20%20%20%20%20%20%0A%0A%20%20%20%20%20%20%20%20marker_2ba096b7a09a4ea88a870f4425e21489.bindPopup%28popup_1f5ab198125b47d887e8f692c9b2b2ae%29%0A%20%20%20%20%20%20%20%20%3B%0A%0A%20%20%20%20%20%20%20%20%0A%20%20%20%20%0A%20%20%20%20%0A%20%20%20%20%20%20%20%20%20%20%20%20marker_2ba096b7a09a4ea88a870f4425e21489.bindTooltip%28%0A%20%20%20%20%20%20%20%20%20%20%20%20%20%20%20%20%60%3Cdiv%3E%0A%20%20%20%20%20%20%20%20%20%20%20%20%20%20%20%20%20%20%20%20%20A%20empresa%20AMINE%20IMOBILIARIOS%20%28CNPJ%2055815300000475%29%2C%20relacionada%20ao%20PEP%20AMARILDO%20SABATE%20KAILER%2C%20recebeu%20R%24%20459756.62%0A%20%20%20%20%20%20%20%20%20%20%20%20%20%20%20%20%20%3C/div%3E%60%2C%0A%20%20%20%20%20%20%20%20%20%20%20%20%20%20%20%20%7B%22sticky%22%3A%20true%7D%0A%20%20%20%20%20%20%20%20%20%20%20%20%29%3B%0A%20%20%20%20%20%20%20%20%0A%20%20%20%20%0A%20%20%20%20%20%20%20%20%20%20%20%20var%20marker_fd33a6a33eb3436194f26a8583513e11%20%3D%20L.marker%28%0A%20%20%20%20%20%20%20%20%20%20%20%20%20%20%20%20%5B-20.967%2C%20-50.224%5D%2C%0A%20%20%20%20%20%20%20%20%20%20%20%20%20%20%20%20%7B%7D%0A%20%20%20%20%20%20%20%20%20%20%20%20%29.addTo%28map_cfd19d50440e4e359889414eb5531ff9%29%3B%0A%20%20%20%20%20%20%20%20%0A%20%20%20%20%0A%20%20%20%20%20%20%20%20%20%20%20%20var%20icon_51e04724535e49f38388fbe63aead6ee%20%3D%20L.AwesomeMarkers.icon%28%0A%20%20%20%20%20%20%20%20%20%20%20%20%20%20%20%20%7B%22extraClasses%22%3A%20%22fa-rotate-0%22%2C%20%22icon%22%3A%20%22info-sign%22%2C%20%22iconColor%22%3A%20%22white%22%2C%20%22markerColor%22%3A%20%22red%22%2C%20%22prefix%22%3A%20%22glyphicon%22%7D%0A%20%20%20%20%20%20%20%20%20%20%20%20%29%3B%0A%20%20%20%20%20%20%20%20%20%20%20%20marker_fd33a6a33eb3436194f26a8583513e11.setIcon%28icon_51e04724535e49f38388fbe63aead6ee%29%3B%0A%20%20%20%20%20%20%20%20%0A%20%20%20%20%0A%20%20%20%20%20%20%20%20var%20popup_c1796d8f0df244b980ff539245a05fca%20%3D%20L.popup%28%7B%22maxWidth%22%3A%20%22100%25%22%7D%29%3B%0A%0A%20%20%20%20%20%20%20%20%0A%20%20%20%20%20%20%20%20%20%20%20%20var%20html_98a5857a5238422d986448991718694c%20%3D%20%24%28%60%3Cdiv%20id%3D%22html_98a5857a5238422d986448991718694c%22%20style%3D%22width%3A%20100.0%25%3B%20height%3A%20100.0%25%3B%22%3EA%20empresa%20MARTINA%20ENGENHARIA%20EPP%20%28CNPJ%2069669464000188%29%2C%20relacionada%20ao%20PEP%20UNAIDE%20ALBERTO%20CALIANDRA%2C%20recebeu%20R%24%20423179.55%3C/div%3E%60%29%5B0%5D%3B%0A%20%20%20%20%20%20%20%20%20%20%20%20popup_c1796d8f0df244b980ff539245a05fca.setContent%28html_98a5857a5238422d986448991718694c%29%3B%0A%20%20%20%20%20%20%20%20%0A%0A%20%20%20%20%20%20%20%20marker_fd33a6a33eb3436194f26a8583513e11.bindPopup%28popup_c1796d8f0df244b980ff539245a05fca%29%0A%20%20%20%20%20%20%20%20%3B%0A%0A%20%20%20%20%20%20%20%20%0A%20%20%20%20%0A%20%20%20%20%0A%20%20%20%20%20%20%20%20%20%20%20%20marker_fd33a6a33eb3436194f26a8583513e11.bindTooltip%28%0A%20%20%20%20%20%20%20%20%20%20%20%20%20%20%20%20%60%3Cdiv%3E%0A%20%20%20%20%20%20%20%20%20%20%20%20%20%20%20%20%20%20%20%20%20A%20empresa%20MARTINA%20ENGENHARIA%20EPP%20%28CNPJ%2069669464000188%29%2C%20relacionada%20ao%20PEP%20UNAIDE%20ALBERTO%20CALIANDRA%2C%20recebeu%20R%24%20423179.55%0A%20%20%20%20%20%20%20%20%20%20%20%20%20%20%20%20%20%3C/div%3E%60%2C%0A%20%20%20%20%20%20%20%20%20%20%20%20%20%20%20%20%7B%22sticky%22%3A%20true%7D%0A%20%20%20%20%20%20%20%20%20%20%20%20%29%3B%0A%20%20%20%20%20%20%20%20%0A%20%20%20%20%0A%20%20%20%20%20%20%20%20%20%20%20%20var%20marker_e783b762278a4899b645aa3dea4a067f%20%3D%20L.marker%28%0A%20%20%20%20%20%20%20%20%20%20%20%20%20%20%20%20%5B-20.933000000000003%2C%20-50.108000000000004%5D%2C%0A%20%20%20%20%20%20%20%20%20%20%20%20%20%20%20%20%7B%7D%0A%20%20%20%20%20%20%20%20%20%20%20%20%29.addTo%28map_cfd19d50440e4e359889414eb5531ff9%29%3B%0A%20%20%20%20%20%20%20%20%0A%20%20%20%20%0A%20%20%20%20%20%20%20%20%20%20%20%20var%20icon_3cc8b9da831447b2b05f66337d97b4a4%20%3D%20L.AwesomeMarkers.icon%28%0A%20%20%20%20%20%20%20%20%20%20%20%20%20%20%20%20%7B%22extraClasses%22%3A%20%22fa-rotate-0%22%2C%20%22icon%22%3A%20%22info-sign%22%2C%20%22iconColor%22%3A%20%22white%22%2C%20%22markerColor%22%3A%20%22red%22%2C%20%22prefix%22%3A%20%22glyphicon%22%7D%0A%20%20%20%20%20%20%20%20%20%20%20%20%29%3B%0A%20%20%20%20%20%20%20%20%20%20%20%20marker_e783b762278a4899b645aa3dea4a067f.setIcon%28icon_3cc8b9da831447b2b05f66337d97b4a4%29%3B%0A%20%20%20%20%20%20%20%20%0A%20%20%20%20%0A%20%20%20%20%20%20%20%20var%20popup_c4b3a9e06ef34b55a9277d851ab95301%20%3D%20L.popup%28%7B%22maxWidth%22%3A%20%22100%25%22%7D%29%3B%0A%0A%20%20%20%20%20%20%20%20%0A%20%20%20%20%20%20%20%20%20%20%20%20var%20html_e47ad2fadd8242ff884cc3867592bd52%20%3D%20%24%28%60%3Cdiv%20id%3D%22html_e47ad2fadd8242ff884cc3867592bd52%22%20style%3D%22width%3A%20100.0%25%3B%20height%3A%20100.0%25%3B%22%3EA%20empresa%20MOMOKA%20ARTISTICAS%20LTDA%20%28CNPJ%2006273922000124%29%2C%20relacionada%20ao%20PEP%20GEOVANISA%20TERSINHA%20BERTASSONI%2C%20recebeu%20R%24%20421712.59%3C/div%3E%60%29%5B0%5D%3B%0A%20%20%20%20%20%20%20%20%20%20%20%20popup_c4b3a9e06ef34b55a9277d851ab95301.setContent%28html_e47ad2fadd8242ff884cc3867592bd52%29%3B%0A%20%20%20%20%20%20%20%20%0A%0A%20%20%20%20%20%20%20%20marker_e783b762278a4899b645aa3dea4a067f.bindPopup%28popup_c4b3a9e06ef34b55a9277d851ab95301%29%0A%20%20%20%20%20%20%20%20%3B%0A%0A%20%20%20%20%20%20%20%20%0A%20%20%20%20%0A%20%20%20%20%0A%20%20%20%20%20%20%20%20%20%20%20%20marker_e783b762278a4899b645aa3dea4a067f.bindTooltip%28%0A%20%20%20%20%20%20%20%20%20%20%20%20%20%20%20%20%60%3Cdiv%3E%0A%20%20%20%20%20%20%20%20%20%20%20%20%20%20%20%20%20%20%20%20%20A%20empresa%20MOMOKA%20ARTISTICAS%20LTDA%20%28CNPJ%2006273922000124%29%2C%20relacionada%20ao%20PEP%20GEOVANISA%20TERSINHA%20BERTASSONI%2C%20recebeu%20R%24%20421712.59%0A%20%20%20%20%20%20%20%20%20%20%20%20%20%20%20%20%20%3C/div%3E%60%2C%0A%20%20%20%20%20%20%20%20%20%20%20%20%20%20%20%20%7B%22sticky%22%3A%20true%7D%0A%20%20%20%20%20%20%20%20%20%20%20%20%29%3B%0A%20%20%20%20%20%20%20%20%0A%20%20%20%20%0A%20%20%20%20%20%20%20%20%20%20%20%20var%20marker_0bd9decde7d349efa95e920749706dc4%20%3D%20L.marker%28%0A%20%20%20%20%20%20%20%20%20%20%20%20%20%20%20%20%5B-22.706%2C%20-46.986000000000004%5D%2C%0A%20%20%20%20%20%20%20%20%20%20%20%20%20%20%20%20%7B%7D%0A%20%20%20%20%20%20%20%20%20%20%20%20%29.addTo%28map_cfd19d50440e4e359889414eb5531ff9%29%3B%0A%20%20%20%20%20%20%20%20%0A%20%20%20%20%0A%20%20%20%20%20%20%20%20%20%20%20%20var%20icon_df5d6e4a09d64fad9cf5ea08a4f53b8e%20%3D%20L.AwesomeMarkers.icon%28%0A%20%20%20%20%20%20%20%20%20%20%20%20%20%20%20%20%7B%22extraClasses%22%3A%20%22fa-rotate-0%22%2C%20%22icon%22%3A%20%22info-sign%22%2C%20%22iconColor%22%3A%20%22white%22%2C%20%22markerColor%22%3A%20%22red%22%2C%20%22prefix%22%3A%20%22glyphicon%22%7D%0A%20%20%20%20%20%20%20%20%20%20%20%20%29%3B%0A%20%20%20%20%20%20%20%20%20%20%20%20marker_0bd9decde7d349efa95e920749706dc4.setIcon%28icon_df5d6e4a09d64fad9cf5ea08a4f53b8e%29%3B%0A%20%20%20%20%20%20%20%20%0A%20%20%20%20%0A%20%20%20%20%20%20%20%20var%20popup_abbe6283c0184457b1e107e5ee8e96e8%20%3D%20L.popup%28%7B%22maxWidth%22%3A%20%22100%25%22%7D%29%3B%0A%0A%20%20%20%20%20%20%20%20%0A%20%20%20%20%20%20%20%20%20%20%20%20var%20html_b33d486560d04b90ab3986007fd1a6b6%20%3D%20%24%28%60%3Cdiv%20id%3D%22html_b33d486560d04b90ab3986007fd1a6b6%22%20style%3D%22width%3A%20100.0%25%3B%20height%3A%20100.0%25%3B%22%3EA%20empresa%20JOSHUA%20SEGUROS%20%28CNPJ%2006380418000123%29%2C%20relacionada%20ao%20PEP%20UNAIDE%20ALBERTO%20CALIANDRA%2C%20recebeu%20R%24%20418912.16%3C/div%3E%60%29%5B0%5D%3B%0A%20%20%20%20%20%20%20%20%20%20%20%20popup_abbe6283c0184457b1e107e5ee8e96e8.setContent%28html_b33d486560d04b90ab3986007fd1a6b6%29%3B%0A%20%20%20%20%20%20%20%20%0A%0A%20%20%20%20%20%20%20%20marker_0bd9decde7d349efa95e920749706dc4.bindPopup%28popup_abbe6283c0184457b1e107e5ee8e96e8%29%0A%20%20%20%20%20%20%20%20%3B%0A%0A%20%20%20%20%20%20%20%20%0A%20%20%20%20%0A%20%20%20%20%0A%20%20%20%20%20%20%20%20%20%20%20%20marker_0bd9decde7d349efa95e920749706dc4.bindTooltip%28%0A%20%20%20%20%20%20%20%20%20%20%20%20%20%20%20%20%60%3Cdiv%3E%0A%20%20%20%20%20%20%20%20%20%20%20%20%20%20%20%20%20%20%20%20%20A%20empresa%20JOSHUA%20SEGUROS%20%28CNPJ%2006380418000123%29%2C%20relacionada%20ao%20PEP%20UNAIDE%20ALBERTO%20CALIANDRA%2C%20recebeu%20R%24%20418912.16%0A%20%20%20%20%20%20%20%20%20%20%20%20%20%20%20%20%20%3C/div%3E%60%2C%0A%20%20%20%20%20%20%20%20%20%20%20%20%20%20%20%20%7B%22sticky%22%3A%20true%7D%0A%20%20%20%20%20%20%20%20%20%20%20%20%29%3B%0A%20%20%20%20%20%20%20%20%0A%20%20%20%20%0A%20%20%20%20%20%20%20%20%20%20%20%20var%20marker_315e0a6d75b14277a76acc9078d90568%20%3D%20L.marker%28%0A%20%20%20%20%20%20%20%20%20%20%20%20%20%20%20%20%5B-24.289%2C%20-47.174%5D%2C%0A%20%20%20%20%20%20%20%20%20%20%20%20%20%20%20%20%7B%7D%0A%20%20%20%20%20%20%20%20%20%20%20%20%29.addTo%28map_cfd19d50440e4e359889414eb5531ff9%29%3B%0A%20%20%20%20%20%20%20%20%0A%20%20%20%20%0A%20%20%20%20%20%20%20%20%20%20%20%20var%20icon_6d58bb3edfb3442ba703e3e016a385cf%20%3D%20L.AwesomeMarkers.icon%28%0A%20%20%20%20%20%20%20%20%20%20%20%20%20%20%20%20%7B%22extraClasses%22%3A%20%22fa-rotate-0%22%2C%20%22icon%22%3A%20%22info-sign%22%2C%20%22iconColor%22%3A%20%22white%22%2C%20%22markerColor%22%3A%20%22red%22%2C%20%22prefix%22%3A%20%22glyphicon%22%7D%0A%20%20%20%20%20%20%20%20%20%20%20%20%29%3B%0A%20%20%20%20%20%20%20%20%20%20%20%20marker_315e0a6d75b14277a76acc9078d90568.setIcon%28icon_6d58bb3edfb3442ba703e3e016a385cf%29%3B%0A%20%20%20%20%20%20%20%20%0A%20%20%20%20%0A%20%20%20%20%20%20%20%20var%20popup_decc7e94286948f3a0267b3086f1c820%20%3D%20L.popup%28%7B%22maxWidth%22%3A%20%22100%25%22%7D%29%3B%0A%0A%20%20%20%20%20%20%20%20%0A%20%20%20%20%20%20%20%20%20%20%20%20var%20html_5ad979d4b5c64695a958240b015e3467%20%3D%20%24%28%60%3Cdiv%20id%3D%22html_5ad979d4b5c64695a958240b015e3467%22%20style%3D%22width%3A%20100.0%25%3B%20height%3A%20100.0%25%3B%22%3EA%20empresa%20AMINE%20LIMPEZA%20EPP%20%28CNPJ%2007815964000138%29%2C%20relacionada%20ao%20PEP%20FABIO%20MUSSY%20DE%20BOYDE%2C%20recebeu%20R%24%20425778.13%3C/div%3E%60%29%5B0%5D%3B%0A%20%20%20%20%20%20%20%20%20%20%20%20popup_decc7e94286948f3a0267b3086f1c820.setContent%28html_5ad979d4b5c64695a958240b015e3467%29%3B%0A%20%20%20%20%20%20%20%20%0A%0A%20%20%20%20%20%20%20%20marker_315e0a6d75b14277a76acc9078d90568.bindPopup%28popup_decc7e94286948f3a0267b3086f1c820%29%0A%20%20%20%20%20%20%20%20%3B%0A%0A%20%20%20%20%20%20%20%20%0A%20%20%20%20%0A%20%20%20%20%0A%20%20%20%20%20%20%20%20%20%20%20%20marker_315e0a6d75b14277a76acc9078d90568.bindTooltip%28%0A%20%20%20%20%20%20%20%20%20%20%20%20%20%20%20%20%60%3Cdiv%3E%0A%20%20%20%20%20%20%20%20%20%20%20%20%20%20%20%20%20%20%20%20%20A%20empresa%20AMINE%20LIMPEZA%20EPP%20%28CNPJ%2007815964000138%29%2C%20relacionada%20ao%20PEP%20FABIO%20MUSSY%20DE%20BOYDE%2C%20recebeu%20R%24%20425778.13%0A%20%20%20%20%20%20%20%20%20%20%20%20%20%20%20%20%20%3C/div%3E%60%2C%0A%20%20%20%20%20%20%20%20%20%20%20%20%20%20%20%20%7B%22sticky%22%3A%20true%7D%0A%20%20%20%20%20%20%20%20%20%20%20%20%29%3B%0A%20%20%20%20%20%20%20%20%0A%20%20%20%20%0A%20%20%20%20%20%20%20%20%20%20%20%20var%20marker_d3564b5bf8ff4458b0f408db30c1eaca%20%3D%20L.marker%28%0A%20%20%20%20%20%20%20%20%20%20%20%20%20%20%20%20%5B-22.429000000000002%2C%20-50.201%5D%2C%0A%20%20%20%20%20%20%20%20%20%20%20%20%20%20%20%20%7B%7D%0A%20%20%20%20%20%20%20%20%20%20%20%20%29.addTo%28map_cfd19d50440e4e359889414eb5531ff9%29%3B%0A%20%20%20%20%20%20%20%20%0A%20%20%20%20%0A%20%20%20%20%20%20%20%20%20%20%20%20var%20icon_8efb6477520d4f79872dd17544a1c274%20%3D%20L.AwesomeMarkers.icon%28%0A%20%20%20%20%20%20%20%20%20%20%20%20%20%20%20%20%7B%22extraClasses%22%3A%20%22fa-rotate-0%22%2C%20%22icon%22%3A%20%22info-sign%22%2C%20%22iconColor%22%3A%20%22white%22%2C%20%22markerColor%22%3A%20%22red%22%2C%20%22prefix%22%3A%20%22glyphicon%22%7D%0A%20%20%20%20%20%20%20%20%20%20%20%20%29%3B%0A%20%20%20%20%20%20%20%20%20%20%20%20marker_d3564b5bf8ff4458b0f408db30c1eaca.setIcon%28icon_8efb6477520d4f79872dd17544a1c274%29%3B%0A%20%20%20%20%20%20%20%20%0A%20%20%20%20%0A%20%20%20%20%20%20%20%20var%20popup_09cf03e55aae499688bc09038efe1885%20%3D%20L.popup%28%7B%22maxWidth%22%3A%20%22100%25%22%7D%29%3B%0A%0A%20%20%20%20%20%20%20%20%0A%20%20%20%20%20%20%20%20%20%20%20%20var%20html_da24c9db72d14bddb4aab826d1772c3e%20%3D%20%24%28%60%3Cdiv%20id%3D%22html_da24c9db72d14bddb4aab826d1772c3e%22%20style%3D%22width%3A%20100.0%25%3B%20height%3A%20100.0%25%3B%22%3EA%20empresa%20MARIA%20CECILIA%20MERCEARIA%20EIRELLI%20%28CNPJ%2008111025000132%29%2C%20relacionada%20ao%20PEP%20DIRLEI%20GOSSER%20LOIVAL%2C%20recebeu%20R%24%20348972.38%3C/div%3E%60%29%5B0%5D%3B%0A%20%20%20%20%20%20%20%20%20%20%20%20popup_09cf03e55aae499688bc09038efe1885.setContent%28html_da24c9db72d14bddb4aab826d1772c3e%29%3B%0A%20%20%20%20%20%20%20%20%0A%0A%20%20%20%20%20%20%20%20marker_d3564b5bf8ff4458b0f408db30c1eaca.bindPopup%28popup_09cf03e55aae499688bc09038efe1885%29%0A%20%20%20%20%20%20%20%20%3B%0A%0A%20%20%20%20%20%20%20%20%0A%20%20%20%20%0A%20%20%20%20%0A%20%20%20%20%20%20%20%20%20%20%20%20marker_d3564b5bf8ff4458b0f408db30c1eaca.bindTooltip%28%0A%20%20%20%20%20%20%20%20%20%20%20%20%20%20%20%20%60%3Cdiv%3E%0A%20%20%20%20%20%20%20%20%20%20%20%20%20%20%20%20%20%20%20%20%20A%20empresa%20MARIA%20CECILIA%20MERCEARIA%20EIRELLI%20%28CNPJ%2008111025000132%29%2C%20relacionada%20ao%20PEP%20DIRLEI%20GOSSER%20LOIVAL%2C%20recebeu%20R%24%20348972.38%0A%20%20%20%20%20%20%20%20%20%20%20%20%20%20%20%20%20%3C/div%3E%60%2C%0A%20%20%20%20%20%20%20%20%20%20%20%20%20%20%20%20%7B%22sticky%22%3A%20true%7D%0A%20%20%20%20%20%20%20%20%20%20%20%20%29%3B%0A%20%20%20%20%20%20%20%20%0A%20%20%20%20%0A%20%20%20%20%20%20%20%20%20%20%20%20var%20marker_d61dbda9b4b14ac5abaf4d5a229a3cd2%20%3D%20L.marker%28%0A%20%20%20%20%20%20%20%20%20%20%20%20%20%20%20%20%5B-20.359%2C%20-50.696999999999996%5D%2C%0A%20%20%20%20%20%20%20%20%20%20%20%20%20%20%20%20%7B%7D%0A%20%20%20%20%20%20%20%20%20%20%20%20%29.addTo%28map_cfd19d50440e4e359889414eb5531ff9%29%3B%0A%20%20%20%20%20%20%20%20%0A%20%20%20%20%0A%20%20%20%20%20%20%20%20%20%20%20%20var%20icon_5331f97d29a84c858db384e114367f87%20%3D%20L.AwesomeMarkers.icon%28%0A%20%20%20%20%20%20%20%20%20%20%20%20%20%20%20%20%7B%22extraClasses%22%3A%20%22fa-rotate-0%22%2C%20%22icon%22%3A%20%22info-sign%22%2C%20%22iconColor%22%3A%20%22white%22%2C%20%22markerColor%22%3A%20%22red%22%2C%20%22prefix%22%3A%20%22glyphicon%22%7D%0A%20%20%20%20%20%20%20%20%20%20%20%20%29%3B%0A%20%20%20%20%20%20%20%20%20%20%20%20marker_d61dbda9b4b14ac5abaf4d5a229a3cd2.setIcon%28icon_5331f97d29a84c858db384e114367f87%29%3B%0A%20%20%20%20%20%20%20%20%0A%20%20%20%20%0A%20%20%20%20%20%20%20%20var%20popup_848f2327ea0f43febd47a71be47068ee%20%3D%20L.popup%28%7B%22maxWidth%22%3A%20%22100%25%22%7D%29%3B%0A%0A%20%20%20%20%20%20%20%20%0A%20%20%20%20%20%20%20%20%20%20%20%20var%20html_263c057b5d824b949bb0514ef7a15a72%20%3D%20%24%28%60%3Cdiv%20id%3D%22html_263c057b5d824b949bb0514ef7a15a72%22%20style%3D%22width%3A%20100.0%25%3B%20height%3A%20100.0%25%3B%22%3EA%20empresa%20IBAI%20VESTUARIO%20%28CNPJ%2049524688000199%29%2C%20relacionada%20ao%20PEP%20JAIME%20BONAVOGLIA%20DA%20TEVEIRA%2C%20recebeu%20R%24%20339078.9%3C/div%3E%60%29%5B0%5D%3B%0A%20%20%20%20%20%20%20%20%20%20%20%20popup_848f2327ea0f43febd47a71be47068ee.setContent%28html_263c057b5d824b949bb0514ef7a15a72%29%3B%0A%20%20%20%20%20%20%20%20%0A%0A%20%20%20%20%20%20%20%20marker_d61dbda9b4b14ac5abaf4d5a229a3cd2.bindPopup%28popup_848f2327ea0f43febd47a71be47068ee%29%0A%20%20%20%20%20%20%20%20%3B%0A%0A%20%20%20%20%20%20%20%20%0A%20%20%20%20%0A%20%20%20%20%0A%20%20%20%20%20%20%20%20%20%20%20%20marker_d61dbda9b4b14ac5abaf4d5a229a3cd2.bindTooltip%28%0A%20%20%20%20%20%20%20%20%20%20%20%20%20%20%20%20%60%3Cdiv%3E%0A%20%20%20%20%20%20%20%20%20%20%20%20%20%20%20%20%20%20%20%20%20A%20empresa%20IBAI%20VESTUARIO%20%28CNPJ%2049524688000199%29%2C%20relacionada%20ao%20PEP%20JAIME%20BONAVOGLIA%20DA%20TEVEIRA%2C%20recebeu%20R%24%20339078.9%0A%20%20%20%20%20%20%20%20%20%20%20%20%20%20%20%20%20%3C/div%3E%60%2C%0A%20%20%20%20%20%20%20%20%20%20%20%20%20%20%20%20%7B%22sticky%22%3A%20true%7D%0A%20%20%20%20%20%20%20%20%20%20%20%20%29%3B%0A%20%20%20%20%20%20%20%20%0A%20%20%20%20%0A%20%20%20%20%20%20%20%20%20%20%20%20var%20marker_157aef67118b48648cca6b4e16cc3cfb%20%3D%20L.marker%28%0A%20%20%20%20%20%20%20%20%20%20%20%20%20%20%20%20%5B-20.359%2C%20-50.696999999999996%5D%2C%0A%20%20%20%20%20%20%20%20%20%20%20%20%20%20%20%20%7B%7D%0A%20%20%20%20%20%20%20%20%20%20%20%20%29.addTo%28map_cfd19d50440e4e359889414eb5531ff9%29%3B%0A%20%20%20%20%20%20%20%20%0A%20%20%20%20%0A%20%20%20%20%20%20%20%20%20%20%20%20var%20icon_2da03291bf394bbc89688b1e6debe26d%20%3D%20L.AwesomeMarkers.icon%28%0A%20%20%20%20%20%20%20%20%20%20%20%20%20%20%20%20%7B%22extraClasses%22%3A%20%22fa-rotate-0%22%2C%20%22icon%22%3A%20%22info-sign%22%2C%20%22iconColor%22%3A%20%22white%22%2C%20%22markerColor%22%3A%20%22red%22%2C%20%22prefix%22%3A%20%22glyphicon%22%7D%0A%20%20%20%20%20%20%20%20%20%20%20%20%29%3B%0A%20%20%20%20%20%20%20%20%20%20%20%20marker_157aef67118b48648cca6b4e16cc3cfb.setIcon%28icon_2da03291bf394bbc89688b1e6debe26d%29%3B%0A%20%20%20%20%20%20%20%20%0A%20%20%20%20%0A%20%20%20%20%20%20%20%20var%20popup_cf97468f2c2a4fc0985b7f635c70d42c%20%3D%20L.popup%28%7B%22maxWidth%22%3A%20%22100%25%22%7D%29%3B%0A%0A%20%20%20%20%20%20%20%20%0A%20%20%20%20%20%20%20%20%20%20%20%20var%20html_3f58bc6e35b24abb8548d1f840330850%20%3D%20%24%28%60%3Cdiv%20id%3D%22html_3f58bc6e35b24abb8548d1f840330850%22%20style%3D%22width%3A%20100.0%25%3B%20height%3A%20100.0%25%3B%22%3EA%20empresa%20IBAI%20VESTUARIO%20%28CNPJ%2049524688000199%29%2C%20relacionada%20ao%20PEP%20LUZENICE%20LANUZIA%20DE%20PALKOSKI%2C%20recebeu%20R%24%20339078.9%3C/div%3E%60%29%5B0%5D%3B%0A%20%20%20%20%20%20%20%20%20%20%20%20popup_cf97468f2c2a4fc0985b7f635c70d42c.setContent%28html_3f58bc6e35b24abb8548d1f840330850%29%3B%0A%20%20%20%20%20%20%20%20%0A%0A%20%20%20%20%20%20%20%20marker_157aef67118b48648cca6b4e16cc3cfb.bindPopup%28popup_cf97468f2c2a4fc0985b7f635c70d42c%29%0A%20%20%20%20%20%20%20%20%3B%0A%0A%20%20%20%20%20%20%20%20%0A%20%20%20%20%0A%20%20%20%20%0A%20%20%20%20%20%20%20%20%20%20%20%20marker_157aef67118b48648cca6b4e16cc3cfb.bindTooltip%28%0A%20%20%20%20%20%20%20%20%20%20%20%20%20%20%20%20%60%3Cdiv%3E%0A%20%20%20%20%20%20%20%20%20%20%20%20%20%20%20%20%20%20%20%20%20A%20empresa%20IBAI%20VESTUARIO%20%28CNPJ%2049524688000199%29%2C%20relacionada%20ao%20PEP%20LUZENICE%20LANUZIA%20DE%20PALKOSKI%2C%20recebeu%20R%24%20339078.9%0A%20%20%20%20%20%20%20%20%20%20%20%20%20%20%20%20%20%3C/div%3E%60%2C%0A%20%20%20%20%20%20%20%20%20%20%20%20%20%20%20%20%7B%22sticky%22%3A%20true%7D%0A%20%20%20%20%20%20%20%20%20%20%20%20%29%3B%0A%20%20%20%20%20%20%20%20%0A%20%20%20%20%0A%20%20%20%20%20%20%20%20%20%20%20%20var%20marker_365d7576ff95454ab6df4d2befc3cf63%20%3D%20L.marker%28%0A%20%20%20%20%20%20%20%20%20%20%20%20%20%20%20%20%5B-20.359%2C%20-50.696999999999996%5D%2C%0A%20%20%20%20%20%20%20%20%20%20%20%20%20%20%20%20%7B%7D%0A%20%20%20%20%20%20%20%20%20%20%20%20%29.addTo%28map_cfd19d50440e4e359889414eb5531ff9%29%3B%0A%20%20%20%20%20%20%20%20%0A%20%20%20%20%0A%20%20%20%20%20%20%20%20%20%20%20%20var%20icon_def3f29af6c24b3aa70b4be002a8adc0%20%3D%20L.AwesomeMarkers.icon%28%0A%20%20%20%20%20%20%20%20%20%20%20%20%20%20%20%20%7B%22extraClasses%22%3A%20%22fa-rotate-0%22%2C%20%22icon%22%3A%20%22info-sign%22%2C%20%22iconColor%22%3A%20%22white%22%2C%20%22markerColor%22%3A%20%22red%22%2C%20%22prefix%22%3A%20%22glyphicon%22%7D%0A%20%20%20%20%20%20%20%20%20%20%20%20%29%3B%0A%20%20%20%20%20%20%20%20%20%20%20%20marker_365d7576ff95454ab6df4d2befc3cf63.setIcon%28icon_def3f29af6c24b3aa70b4be002a8adc0%29%3B%0A%20%20%20%20%20%20%20%20%0A%20%20%20%20%0A%20%20%20%20%20%20%20%20var%20popup_31374cf31b7740acad44e315c225126c%20%3D%20L.popup%28%7B%22maxWidth%22%3A%20%22100%25%22%7D%29%3B%0A%0A%20%20%20%20%20%20%20%20%0A%20%20%20%20%20%20%20%20%20%20%20%20var%20html_b5cb486a7d1441498eb3dadcecc4b87b%20%3D%20%24%28%60%3Cdiv%20id%3D%22html_b5cb486a7d1441498eb3dadcecc4b87b%22%20style%3D%22width%3A%20100.0%25%3B%20height%3A%20100.0%25%3B%22%3EA%20empresa%20IBAI%20VESTUARIO%20%28CNPJ%2049524688000199%29%2C%20relacionada%20ao%20PEP%20SAVIOLO%20LUYTEN%20SMERIERI%2C%20recebeu%20R%24%20339078.9%3C/div%3E%60%29%5B0%5D%3B%0A%20%20%20%20%20%20%20%20%20%20%20%20popup_31374cf31b7740acad44e315c225126c.setContent%28html_b5cb486a7d1441498eb3dadcecc4b87b%29%3B%0A%20%20%20%20%20%20%20%20%0A%0A%20%20%20%20%20%20%20%20marker_365d7576ff95454ab6df4d2befc3cf63.bindPopup%28popup_31374cf31b7740acad44e315c225126c%29%0A%20%20%20%20%20%20%20%20%3B%0A%0A%20%20%20%20%20%20%20%20%0A%20%20%20%20%0A%20%20%20%20%0A%20%20%20%20%20%20%20%20%20%20%20%20marker_365d7576ff95454ab6df4d2befc3cf63.bindTooltip%28%0A%20%20%20%20%20%20%20%20%20%20%20%20%20%20%20%20%60%3Cdiv%3E%0A%20%20%20%20%20%20%20%20%20%20%20%20%20%20%20%20%20%20%20%20%20A%20empresa%20IBAI%20VESTUARIO%20%28CNPJ%2049524688000199%29%2C%20relacionada%20ao%20PEP%20SAVIOLO%20LUYTEN%20SMERIERI%2C%20recebeu%20R%24%20339078.9%0A%20%20%20%20%20%20%20%20%20%20%20%20%20%20%20%20%20%3C/div%3E%60%2C%0A%20%20%20%20%20%20%20%20%20%20%20%20%20%20%20%20%7B%22sticky%22%3A%20true%7D%0A%20%20%20%20%20%20%20%20%20%20%20%20%29%3B%0A%20%20%20%20%20%20%20%20%0A%20%20%20%20%0A%20%20%20%20%20%20%20%20%20%20%20%20var%20marker_236307725d04461e87e9662185ca7f21%20%3D%20L.marker%28%0A%20%20%20%20%20%20%20%20%20%20%20%20%20%20%20%20%5B-24.006%2C%20-46.403%5D%2C%0A%20%20%20%20%20%20%20%20%20%20%20%20%20%20%20%20%7B%7D%0A%20%20%20%20%20%20%20%20%20%20%20%20%29.addTo%28map_cfd19d50440e4e359889414eb5531ff9%29%3B%0A%20%20%20%20%20%20%20%20%0A%20%20%20%20%0A%20%20%20%20%20%20%20%20%20%20%20%20var%20icon_0289493d2d9b4f99bd6c2364eabbeccc%20%3D%20L.AwesomeMarkers.icon%28%0A%20%20%20%20%20%20%20%20%20%20%20%20%20%20%20%20%7B%22extraClasses%22%3A%20%22fa-rotate-0%22%2C%20%22icon%22%3A%20%22info-sign%22%2C%20%22iconColor%22%3A%20%22white%22%2C%20%22markerColor%22%3A%20%22red%22%2C%20%22prefix%22%3A%20%22glyphicon%22%7D%0A%20%20%20%20%20%20%20%20%20%20%20%20%29%3B%0A%20%20%20%20%20%20%20%20%20%20%20%20marker_236307725d04461e87e9662185ca7f21.setIcon%28icon_0289493d2d9b4f99bd6c2364eabbeccc%29%3B%0A%20%20%20%20%20%20%20%20%0A%20%20%20%20%0A%20%20%20%20%20%20%20%20var%20popup_050db6499919414796da469e0977e9a2%20%3D%20L.popup%28%7B%22maxWidth%22%3A%20%22100%25%22%7D%29%3B%0A%0A%20%20%20%20%20%20%20%20%0A%20%20%20%20%20%20%20%20%20%20%20%20var%20html_8416c5de8b7c4805abc8f4915788e364%20%3D%20%24%28%60%3Cdiv%20id%3D%22html_8416c5de8b7c4805abc8f4915788e364%22%20style%3D%22width%3A%20100.0%25%3B%20height%3A%20100.0%25%3B%22%3EA%20empresa%20VICENTE%20MODAS%20%28CNPJ%2012480500000115%29%2C%20relacionada%20ao%20PEP%20JOAO%20YPEI%20DE%20KAARA%2C%20recebeu%20R%24%20306932.06%3C/div%3E%60%29%5B0%5D%3B%0A%20%20%20%20%20%20%20%20%20%20%20%20popup_050db6499919414796da469e0977e9a2.setContent%28html_8416c5de8b7c4805abc8f4915788e364%29%3B%0A%20%20%20%20%20%20%20%20%0A%0A%20%20%20%20%20%20%20%20marker_236307725d04461e87e9662185ca7f21.bindPopup%28popup_050db6499919414796da469e0977e9a2%29%0A%20%20%20%20%20%20%20%20%3B%0A%0A%20%20%20%20%20%20%20%20%0A%20%20%20%20%0A%20%20%20%20%0A%20%20%20%20%20%20%20%20%20%20%20%20marker_236307725d04461e87e9662185ca7f21.bindTooltip%28%0A%20%20%20%20%20%20%20%20%20%20%20%20%20%20%20%20%60%3Cdiv%3E%0A%20%20%20%20%20%20%20%20%20%20%20%20%20%20%20%20%20%20%20%20%20A%20empresa%20VICENTE%20MODAS%20%28CNPJ%2012480500000115%29%2C%20relacionada%20ao%20PEP%20JOAO%20YPEI%20DE%20KAARA%2C%20recebeu%20R%24%20306932.06%0A%20%20%20%20%20%20%20%20%20%20%20%20%20%20%20%20%20%3C/div%3E%60%2C%0A%20%20%20%20%20%20%20%20%20%20%20%20%20%20%20%20%7B%22sticky%22%3A%20true%7D%0A%20%20%20%20%20%20%20%20%20%20%20%20%29%3B%0A%20%20%20%20%20%20%20%20%0A%20%20%20%20%0A%20%20%20%20%20%20%20%20%20%20%20%20var%20marker_27b635f1a93f4554849c3a4cc5d25a7c%20%3D%20L.marker%28%0A%20%20%20%20%20%20%20%20%20%20%20%20%20%20%20%20%5B-23.541%2C%20-46.369%5D%2C%0A%20%20%20%20%20%20%20%20%20%20%20%20%20%20%20%20%7B%7D%0A%20%20%20%20%20%20%20%20%20%20%20%20%29.addTo%28map_cfd19d50440e4e359889414eb5531ff9%29%3B%0A%20%20%20%20%20%20%20%20%0A%20%20%20%20%0A%20%20%20%20%20%20%20%20%20%20%20%20var%20icon_c63ef0967a9b455b8028c193332c98f3%20%3D%20L.AwesomeMarkers.icon%28%0A%20%20%20%20%20%20%20%20%20%20%20%20%20%20%20%20%7B%22extraClasses%22%3A%20%22fa-rotate-0%22%2C%20%22icon%22%3A%20%22info-sign%22%2C%20%22iconColor%22%3A%20%22white%22%2C%20%22markerColor%22%3A%20%22red%22%2C%20%22prefix%22%3A%20%22glyphicon%22%7D%0A%20%20%20%20%20%20%20%20%20%20%20%20%29%3B%0A%20%20%20%20%20%20%20%20%20%20%20%20marker_27b635f1a93f4554849c3a4cc5d25a7c.setIcon%28icon_c63ef0967a9b455b8028c193332c98f3%29%3B%0A%20%20%20%20%20%20%20%20%0A%20%20%20%20%0A%20%20%20%20%20%20%20%20var%20popup_1bb342018e604786aa384b9a4d0ec1ca%20%3D%20L.popup%28%7B%22maxWidth%22%3A%20%22100%25%22%7D%29%3B%0A%0A%20%20%20%20%20%20%20%20%0A%20%20%20%20%20%20%20%20%20%20%20%20var%20html_418fbd491479464d97216395a8b84ccc%20%3D%20%24%28%60%3Cdiv%20id%3D%22html_418fbd491479464d97216395a8b84ccc%22%20style%3D%22width%3A%20100.0%25%3B%20height%3A%20100.0%25%3B%22%3EA%20empresa%20ALEKSANDRA%20INDUSTRIAS%20%28CNPJ%2001379160000172%29%2C%20relacionada%20ao%20PEP%20SANDRA%20PLANCKE%20DALTOM%20DIFANTE%20ITUE%2C%20recebeu%20R%24%20285251.53%3C/div%3E%60%29%5B0%5D%3B%0A%20%20%20%20%20%20%20%20%20%20%20%20popup_1bb342018e604786aa384b9a4d0ec1ca.setContent%28html_418fbd491479464d97216395a8b84ccc%29%3B%0A%20%20%20%20%20%20%20%20%0A%0A%20%20%20%20%20%20%20%20marker_27b635f1a93f4554849c3a4cc5d25a7c.bindPopup%28popup_1bb342018e604786aa384b9a4d0ec1ca%29%0A%20%20%20%20%20%20%20%20%3B%0A%0A%20%20%20%20%20%20%20%20%0A%20%20%20%20%0A%20%20%20%20%0A%20%20%20%20%20%20%20%20%20%20%20%20marker_27b635f1a93f4554849c3a4cc5d25a7c.bindTooltip%28%0A%20%20%20%20%20%20%20%20%20%20%20%20%20%20%20%20%60%3Cdiv%3E%0A%20%20%20%20%20%20%20%20%20%20%20%20%20%20%20%20%20%20%20%20%20A%20empresa%20ALEKSANDRA%20INDUSTRIAS%20%28CNPJ%2001379160000172%29%2C%20relacionada%20ao%20PEP%20SANDRA%20PLANCKE%20DALTOM%20DIFANTE%20ITUE%2C%20recebeu%20R%24%20285251.53%0A%20%20%20%20%20%20%20%20%20%20%20%20%20%20%20%20%20%3C/div%3E%60%2C%0A%20%20%20%20%20%20%20%20%20%20%20%20%20%20%20%20%7B%22sticky%22%3A%20true%7D%0A%20%20%20%20%20%20%20%20%20%20%20%20%29%3B%0A%20%20%20%20%20%20%20%20%0A%20%20%20%20%0A%20%20%20%20%20%20%20%20%20%20%20%20var%20marker_7836052d5ff345fcb99c6ac0b5a254e0%20%3D%20L.marker%28%0A%20%20%20%20%20%20%20%20%20%20%20%20%20%20%20%20%5B-23.541%2C%20-46.369%5D%2C%0A%20%20%20%20%20%20%20%20%20%20%20%20%20%20%20%20%7B%7D%0A%20%20%20%20%20%20%20%20%20%20%20%20%29.addTo%28map_cfd19d50440e4e359889414eb5531ff9%29%3B%0A%20%20%20%20%20%20%20%20%0A%20%20%20%20%0A%20%20%20%20%20%20%20%20%20%20%20%20var%20icon_6e38d7a3d6ee4d4793b43ccdde286e33%20%3D%20L.AwesomeMarkers.icon%28%0A%20%20%20%20%20%20%20%20%20%20%20%20%20%20%20%20%7B%22extraClasses%22%3A%20%22fa-rotate-0%22%2C%20%22icon%22%3A%20%22info-sign%22%2C%20%22iconColor%22%3A%20%22white%22%2C%20%22markerColor%22%3A%20%22red%22%2C%20%22prefix%22%3A%20%22glyphicon%22%7D%0A%20%20%20%20%20%20%20%20%20%20%20%20%29%3B%0A%20%20%20%20%20%20%20%20%20%20%20%20marker_7836052d5ff345fcb99c6ac0b5a254e0.setIcon%28icon_6e38d7a3d6ee4d4793b43ccdde286e33%29%3B%0A%20%20%20%20%20%20%20%20%0A%20%20%20%20%0A%20%20%20%20%20%20%20%20var%20popup_5664a3bc672340b7a59d4b0350dca6ba%20%3D%20L.popup%28%7B%22maxWidth%22%3A%20%22100%25%22%7D%29%3B%0A%0A%20%20%20%20%20%20%20%20%0A%20%20%20%20%20%20%20%20%20%20%20%20var%20html_b1524b230fe64abe846321f4469769a0%20%3D%20%24%28%60%3Cdiv%20id%3D%22html_b1524b230fe64abe846321f4469769a0%22%20style%3D%22width%3A%20100.0%25%3B%20height%3A%20100.0%25%3B%22%3EA%20empresa%20MARIUS%20CONTABIL%20EIRELLI%20%28CNPJ%2008262075000137%29%2C%20relacionada%20ao%20PEP%20GOSSON%20LEGNANNE%20GONDOREK%2C%20recebeu%20R%24%20142082.22%3C/div%3E%60%29%5B0%5D%3B%0A%20%20%20%20%20%20%20%20%20%20%20%20popup_5664a3bc672340b7a59d4b0350dca6ba.setContent%28html_b1524b230fe64abe846321f4469769a0%29%3B%0A%20%20%20%20%20%20%20%20%0A%0A%20%20%20%20%20%20%20%20marker_7836052d5ff345fcb99c6ac0b5a254e0.bindPopup%28popup_5664a3bc672340b7a59d4b0350dca6ba%29%0A%20%20%20%20%20%20%20%20%3B%0A%0A%20%20%20%20%20%20%20%20%0A%20%20%20%20%0A%20%20%20%20%0A%20%20%20%20%20%20%20%20%20%20%20%20marker_7836052d5ff345fcb99c6ac0b5a254e0.bindTooltip%28%0A%20%20%20%20%20%20%20%20%20%20%20%20%20%20%20%20%60%3Cdiv%3E%0A%20%20%20%20%20%20%20%20%20%20%20%20%20%20%20%20%20%20%20%20%20A%20empresa%20MARIUS%20CONTABIL%20EIRELLI%20%28CNPJ%2008262075000137%29%2C%20relacionada%20ao%20PEP%20GOSSON%20LEGNANNE%20GONDOREK%2C%20recebeu%20R%24%20142082.22%0A%20%20%20%20%20%20%20%20%20%20%20%20%20%20%20%20%20%3C/div%3E%60%2C%0A%20%20%20%20%20%20%20%20%20%20%20%20%20%20%20%20%7B%22sticky%22%3A%20true%7D%0A%20%20%20%20%20%20%20%20%20%20%20%20%29%3B%0A%20%20%20%20%20%20%20%20%0A%20%20%20%20%0A%20%20%20%20%20%20%20%20%20%20%20%20var%20marker_8347b2e253d047d08f8ee87e1b38e2bb%20%3D%20L.marker%28%0A%20%20%20%20%20%20%20%20%20%20%20%20%20%20%20%20%5B-23.264%2C%20-47.299%5D%2C%0A%20%20%20%20%20%20%20%20%20%20%20%20%20%20%20%20%7B%7D%0A%20%20%20%20%20%20%20%20%20%20%20%20%29.addTo%28map_cfd19d50440e4e359889414eb5531ff9%29%3B%0A%20%20%20%20%20%20%20%20%0A%20%20%20%20%0A%20%20%20%20%20%20%20%20%20%20%20%20var%20icon_5cd84e5283994e2f81a6635efd102f7b%20%3D%20L.AwesomeMarkers.icon%28%0A%20%20%20%20%20%20%20%20%20%20%20%20%20%20%20%20%7B%22extraClasses%22%3A%20%22fa-rotate-0%22%2C%20%22icon%22%3A%20%22info-sign%22%2C%20%22iconColor%22%3A%20%22white%22%2C%20%22markerColor%22%3A%20%22red%22%2C%20%22prefix%22%3A%20%22glyphicon%22%7D%0A%20%20%20%20%20%20%20%20%20%20%20%20%29%3B%0A%20%20%20%20%20%20%20%20%20%20%20%20marker_8347b2e253d047d08f8ee87e1b38e2bb.setIcon%28icon_5cd84e5283994e2f81a6635efd102f7b%29%3B%0A%20%20%20%20%20%20%20%20%0A%20%20%20%20%0A%20%20%20%20%20%20%20%20var%20popup_19841f16ee7040a9b8cd7c3c606b9e4f%20%3D%20L.popup%28%7B%22maxWidth%22%3A%20%22100%25%22%7D%29%3B%0A%0A%20%20%20%20%20%20%20%20%0A%20%20%20%20%20%20%20%20%20%20%20%20var%20html_f2f37f6bf68f421bb91ffcef7f00e0ba%20%3D%20%24%28%60%3Cdiv%20id%3D%22html_f2f37f6bf68f421bb91ffcef7f00e0ba%22%20style%3D%22width%3A%20100.0%25%3B%20height%3A%20100.0%25%3B%22%3EA%20empresa%20AMINE%20IMOBILIARIOS%20%28CNPJ%2055815300000213%29%2C%20relacionada%20ao%20PEP%20AMARILDO%20SABATE%20KAILER%2C%20recebeu%20R%24%20271389.01%3C/div%3E%60%29%5B0%5D%3B%0A%20%20%20%20%20%20%20%20%20%20%20%20popup_19841f16ee7040a9b8cd7c3c606b9e4f.setContent%28html_f2f37f6bf68f421bb91ffcef7f00e0ba%29%3B%0A%20%20%20%20%20%20%20%20%0A%0A%20%20%20%20%20%20%20%20marker_8347b2e253d047d08f8ee87e1b38e2bb.bindPopup%28popup_19841f16ee7040a9b8cd7c3c606b9e4f%29%0A%20%20%20%20%20%20%20%20%3B%0A%0A%20%20%20%20%20%20%20%20%0A%20%20%20%20%0A%20%20%20%20%0A%20%20%20%20%20%20%20%20%20%20%20%20marker_8347b2e253d047d08f8ee87e1b38e2bb.bindTooltip%28%0A%20%20%20%20%20%20%20%20%20%20%20%20%20%20%20%20%60%3Cdiv%3E%0A%20%20%20%20%20%20%20%20%20%20%20%20%20%20%20%20%20%20%20%20%20A%20empresa%20AMINE%20IMOBILIARIOS%20%28CNPJ%2055815300000213%29%2C%20relacionada%20ao%20PEP%20AMARILDO%20SABATE%20KAILER%2C%20recebeu%20R%24%20271389.01%0A%20%20%20%20%20%20%20%20%20%20%20%20%20%20%20%20%20%3C/div%3E%60%2C%0A%20%20%20%20%20%20%20%20%20%20%20%20%20%20%20%20%7B%22sticky%22%3A%20true%7D%0A%20%20%20%20%20%20%20%20%20%20%20%20%29%3B%0A%20%20%20%20%20%20%20%20%0A%20%20%20%20%0A%20%20%20%20%20%20%20%20%20%20%20%20var%20marker_3e4a98dc659e4f82aa0c91137fa8063f%20%3D%20L.marker%28%0A%20%20%20%20%20%20%20%20%20%20%20%20%20%20%20%20%5B-21.581%2C%20-50.163999999999994%5D%2C%0A%20%20%20%20%20%20%20%20%20%20%20%20%20%20%20%20%7B%7D%0A%20%20%20%20%20%20%20%20%20%20%20%20%29.addTo%28map_cfd19d50440e4e359889414eb5531ff9%29%3B%0A%20%20%20%20%20%20%20%20%0A%20%20%20%20%0A%20%20%20%20%20%20%20%20%20%20%20%20var%20icon_245bfc7b98354f07b26b8331a7cb32e0%20%3D%20L.AwesomeMarkers.icon%28%0A%20%20%20%20%20%20%20%20%20%20%20%20%20%20%20%20%7B%22extraClasses%22%3A%20%22fa-rotate-0%22%2C%20%22icon%22%3A%20%22info-sign%22%2C%20%22iconColor%22%3A%20%22white%22%2C%20%22markerColor%22%3A%20%22red%22%2C%20%22prefix%22%3A%20%22glyphicon%22%7D%0A%20%20%20%20%20%20%20%20%20%20%20%20%29%3B%0A%20%20%20%20%20%20%20%20%20%20%20%20marker_3e4a98dc659e4f82aa0c91137fa8063f.setIcon%28icon_245bfc7b98354f07b26b8331a7cb32e0%29%3B%0A%20%20%20%20%20%20%20%20%0A%20%20%20%20%0A%20%20%20%20%20%20%20%20var%20popup_b82a0abf926340e382cc5cc5f1aff61a%20%3D%20L.popup%28%7B%22maxWidth%22%3A%20%22100%25%22%7D%29%3B%0A%0A%20%20%20%20%20%20%20%20%0A%20%20%20%20%20%20%20%20%20%20%20%20var%20html_a5414bf5c14e4ab2aa3c106317ded525%20%3D%20%24%28%60%3Cdiv%20id%3D%22html_a5414bf5c14e4ab2aa3c106317ded525%22%20style%3D%22width%3A%20100.0%25%3B%20height%3A%20100.0%25%3B%22%3EA%20empresa%20CLAIRE%20SUPERMERCADO%20%28CNPJ%2047817109002513%29%2C%20relacionada%20ao%20PEP%20UNAIDE%20ALBERTO%20DAMAR%2C%20recebeu%20R%24%20311980.65%3C/div%3E%60%29%5B0%5D%3B%0A%20%20%20%20%20%20%20%20%20%20%20%20popup_b82a0abf926340e382cc5cc5f1aff61a.setContent%28html_a5414bf5c14e4ab2aa3c106317ded525%29%3B%0A%20%20%20%20%20%20%20%20%0A%0A%20%20%20%20%20%20%20%20marker_3e4a98dc659e4f82aa0c91137fa8063f.bindPopup%28popup_b82a0abf926340e382cc5cc5f1aff61a%29%0A%20%20%20%20%20%20%20%20%3B%0A%0A%20%20%20%20%20%20%20%20%0A%20%20%20%20%0A%20%20%20%20%0A%20%20%20%20%20%20%20%20%20%20%20%20marker_3e4a98dc659e4f82aa0c91137fa8063f.bindTooltip%28%0A%20%20%20%20%20%20%20%20%20%20%20%20%20%20%20%20%60%3Cdiv%3E%0A%20%20%20%20%20%20%20%20%20%20%20%20%20%20%20%20%20%20%20%20%20A%20empresa%20CLAIRE%20SUPERMERCADO%20%28CNPJ%2047817109002513%29%2C%20relacionada%20ao%20PEP%20UNAIDE%20ALBERTO%20DAMAR%2C%20recebeu%20R%24%20311980.65%0A%20%20%20%20%20%20%20%20%20%20%20%20%20%20%20%20%20%3C/div%3E%60%2C%0A%20%20%20%20%20%20%20%20%20%20%20%20%20%20%20%20%7B%22sticky%22%3A%20true%7D%0A%20%20%20%20%20%20%20%20%20%20%20%20%29%3B%0A%20%20%20%20%20%20%20%20%0A%20%20%20%20%0A%20%20%20%20%20%20%20%20%20%20%20%20var%20marker_980023e999274fa487c80dfd75081283%20%3D%20L.marker%28%0A%20%20%20%20%20%20%20%20%20%20%20%20%20%20%20%20%5B-23.244%2C%20-48.195%5D%2C%0A%20%20%20%20%20%20%20%20%20%20%20%20%20%20%20%20%7B%7D%0A%20%20%20%20%20%20%20%20%20%20%20%20%29.addTo%28map_cfd19d50440e4e359889414eb5531ff9%29%3B%0A%20%20%20%20%20%20%20%20%0A%20%20%20%20%0A%20%20%20%20%20%20%20%20%20%20%20%20var%20icon_d5ecc054794742df830539ac6d7c74e0%20%3D%20L.AwesomeMarkers.icon%28%0A%20%20%20%20%20%20%20%20%20%20%20%20%20%20%20%20%7B%22extraClasses%22%3A%20%22fa-rotate-0%22%2C%20%22icon%22%3A%20%22info-sign%22%2C%20%22iconColor%22%3A%20%22white%22%2C%20%22markerColor%22%3A%20%22red%22%2C%20%22prefix%22%3A%20%22glyphicon%22%7D%0A%20%20%20%20%20%20%20%20%20%20%20%20%29%3B%0A%20%20%20%20%20%20%20%20%20%20%20%20marker_980023e999274fa487c80dfd75081283.setIcon%28icon_d5ecc054794742df830539ac6d7c74e0%29%3B%0A%20%20%20%20%20%20%20%20%0A%20%20%20%20%0A%20%20%20%20%20%20%20%20var%20popup_ce9b473e37e3424894675e84567122d2%20%3D%20L.popup%28%7B%22maxWidth%22%3A%20%22100%25%22%7D%29%3B%0A%0A%20%20%20%20%20%20%20%20%0A%20%20%20%20%20%20%20%20%20%20%20%20var%20html_6f24c7816ab74ab6addbdec4bf38bbdf%20%3D%20%24%28%60%3Cdiv%20id%3D%22html_6f24c7816ab74ab6addbdec4bf38bbdf%22%20style%3D%22width%3A%20100.0%25%3B%20height%3A%20100.0%25%3B%22%3EA%20empresa%20IBAI%20VESTUARIO%20%28CNPJ%2049524688000199%29%2C%20relacionada%20ao%20PEP%20JAIME%20BONAVOGLIA%20DA%20TEVEIRA%2C%20recebeu%20R%24%20290768.45%3C/div%3E%60%29%5B0%5D%3B%0A%20%20%20%20%20%20%20%20%20%20%20%20popup_ce9b473e37e3424894675e84567122d2.setContent%28html_6f24c7816ab74ab6addbdec4bf38bbdf%29%3B%0A%20%20%20%20%20%20%20%20%0A%0A%20%20%20%20%20%20%20%20marker_980023e999274fa487c80dfd75081283.bindPopup%28popup_ce9b473e37e3424894675e84567122d2%29%0A%20%20%20%20%20%20%20%20%3B%0A%0A%20%20%20%20%20%20%20%20%0A%20%20%20%20%0A%20%20%20%20%0A%20%20%20%20%20%20%20%20%20%20%20%20marker_980023e999274fa487c80dfd75081283.bindTooltip%28%0A%20%20%20%20%20%20%20%20%20%20%20%20%20%20%20%20%60%3Cdiv%3E%0A%20%20%20%20%20%20%20%20%20%20%20%20%20%20%20%20%20%20%20%20%20A%20empresa%20IBAI%20VESTUARIO%20%28CNPJ%2049524688000199%29%2C%20relacionada%20ao%20PEP%20JAIME%20BONAVOGLIA%20DA%20TEVEIRA%2C%20recebeu%20R%24%20290768.45%0A%20%20%20%20%20%20%20%20%20%20%20%20%20%20%20%20%20%3C/div%3E%60%2C%0A%20%20%20%20%20%20%20%20%20%20%20%20%20%20%20%20%7B%22sticky%22%3A%20true%7D%0A%20%20%20%20%20%20%20%20%20%20%20%20%29%3B%0A%20%20%20%20%20%20%20%20%0A%20%20%20%20%0A%20%20%20%20%20%20%20%20%20%20%20%20var%20marker_ffcd913a6b304920b66f04f6c780ae24%20%3D%20L.marker%28%0A%20%20%20%20%20%20%20%20%20%20%20%20%20%20%20%20%5B-23.244%2C%20-48.195%5D%2C%0A%20%20%20%20%20%20%20%20%20%20%20%20%20%20%20%20%7B%7D%0A%20%20%20%20%20%20%20%20%20%20%20%20%29.addTo%28map_cfd19d50440e4e359889414eb5531ff9%29%3B%0A%20%20%20%20%20%20%20%20%0A%20%20%20%20%0A%20%20%20%20%20%20%20%20%20%20%20%20var%20icon_19f0e3eb6efe48ff949066d94ed32ed7%20%3D%20L.AwesomeMarkers.icon%28%0A%20%20%20%20%20%20%20%20%20%20%20%20%20%20%20%20%7B%22extraClasses%22%3A%20%22fa-rotate-0%22%2C%20%22icon%22%3A%20%22info-sign%22%2C%20%22iconColor%22%3A%20%22white%22%2C%20%22markerColor%22%3A%20%22red%22%2C%20%22prefix%22%3A%20%22glyphicon%22%7D%0A%20%20%20%20%20%20%20%20%20%20%20%20%29%3B%0A%20%20%20%20%20%20%20%20%20%20%20%20marker_ffcd913a6b304920b66f04f6c780ae24.setIcon%28icon_19f0e3eb6efe48ff949066d94ed32ed7%29%3B%0A%20%20%20%20%20%20%20%20%0A%20%20%20%20%0A%20%20%20%20%20%20%20%20var%20popup_5bc3686d6c7041a8967ee485620d6dc1%20%3D%20L.popup%28%7B%22maxWidth%22%3A%20%22100%25%22%7D%29%3B%0A%0A%20%20%20%20%20%20%20%20%0A%20%20%20%20%20%20%20%20%20%20%20%20var%20html_869979451dd4475982e19228b7df29c3%20%3D%20%24%28%60%3Cdiv%20id%3D%22html_869979451dd4475982e19228b7df29c3%22%20style%3D%22width%3A%20100.0%25%3B%20height%3A%20100.0%25%3B%22%3EA%20empresa%20IBAI%20VESTUARIO%20%28CNPJ%2049524688000199%29%2C%20relacionada%20ao%20PEP%20LUZENICE%20LANUZIA%20DE%20PALKOSKI%2C%20recebeu%20R%24%20290768.45%3C/div%3E%60%29%5B0%5D%3B%0A%20%20%20%20%20%20%20%20%20%20%20%20popup_5bc3686d6c7041a8967ee485620d6dc1.setContent%28html_869979451dd4475982e19228b7df29c3%29%3B%0A%20%20%20%20%20%20%20%20%0A%0A%20%20%20%20%20%20%20%20marker_ffcd913a6b304920b66f04f6c780ae24.bindPopup%28popup_5bc3686d6c7041a8967ee485620d6dc1%29%0A%20%20%20%20%20%20%20%20%3B%0A%0A%20%20%20%20%20%20%20%20%0A%20%20%20%20%0A%20%20%20%20%0A%20%20%20%20%20%20%20%20%20%20%20%20marker_ffcd913a6b304920b66f04f6c780ae24.bindTooltip%28%0A%20%20%20%20%20%20%20%20%20%20%20%20%20%20%20%20%60%3Cdiv%3E%0A%20%20%20%20%20%20%20%20%20%20%20%20%20%20%20%20%20%20%20%20%20A%20empresa%20IBAI%20VESTUARIO%20%28CNPJ%2049524688000199%29%2C%20relacionada%20ao%20PEP%20LUZENICE%20LANUZIA%20DE%20PALKOSKI%2C%20recebeu%20R%24%20290768.45%0A%20%20%20%20%20%20%20%20%20%20%20%20%20%20%20%20%20%3C/div%3E%60%2C%0A%20%20%20%20%20%20%20%20%20%20%20%20%20%20%20%20%7B%22sticky%22%3A%20true%7D%0A%20%20%20%20%20%20%20%20%20%20%20%20%29%3B%0A%20%20%20%20%20%20%20%20%0A%20%20%20%20%0A%20%20%20%20%20%20%20%20%20%20%20%20var%20marker_f62d5e529bf547329abf2080e7846f3d%20%3D%20L.marker%28%0A%20%20%20%20%20%20%20%20%20%20%20%20%20%20%20%20%5B-23.244%2C%20-48.195%5D%2C%0A%20%20%20%20%20%20%20%20%20%20%20%20%20%20%20%20%7B%7D%0A%20%20%20%20%20%20%20%20%20%20%20%20%29.addTo%28map_cfd19d50440e4e359889414eb5531ff9%29%3B%0A%20%20%20%20%20%20%20%20%0A%20%20%20%20%0A%20%20%20%20%20%20%20%20%20%20%20%20var%20icon_9f42782968da468b8aaab07b5ecb23bb%20%3D%20L.AwesomeMarkers.icon%28%0A%20%20%20%20%20%20%20%20%20%20%20%20%20%20%20%20%7B%22extraClasses%22%3A%20%22fa-rotate-0%22%2C%20%22icon%22%3A%20%22info-sign%22%2C%20%22iconColor%22%3A%20%22white%22%2C%20%22markerColor%22%3A%20%22red%22%2C%20%22prefix%22%3A%20%22glyphicon%22%7D%0A%20%20%20%20%20%20%20%20%20%20%20%20%29%3B%0A%20%20%20%20%20%20%20%20%20%20%20%20marker_f62d5e529bf547329abf2080e7846f3d.setIcon%28icon_9f42782968da468b8aaab07b5ecb23bb%29%3B%0A%20%20%20%20%20%20%20%20%0A%20%20%20%20%0A%20%20%20%20%20%20%20%20var%20popup_ef4e81362e504a1484fa365f5c2d30a9%20%3D%20L.popup%28%7B%22maxWidth%22%3A%20%22100%25%22%7D%29%3B%0A%0A%20%20%20%20%20%20%20%20%0A%20%20%20%20%20%20%20%20%20%20%20%20var%20html_4f9d0455f8d74f66a52804118933c142%20%3D%20%24%28%60%3Cdiv%20id%3D%22html_4f9d0455f8d74f66a52804118933c142%22%20style%3D%22width%3A%20100.0%25%3B%20height%3A%20100.0%25%3B%22%3EA%20empresa%20IBAI%20VESTUARIO%20%28CNPJ%2049524688000199%29%2C%20relacionada%20ao%20PEP%20SAVIOLO%20LUYTEN%20SMERIERI%2C%20recebeu%20R%24%20290768.45%3C/div%3E%60%29%5B0%5D%3B%0A%20%20%20%20%20%20%20%20%20%20%20%20popup_ef4e81362e504a1484fa365f5c2d30a9.setContent%28html_4f9d0455f8d74f66a52804118933c142%29%3B%0A%20%20%20%20%20%20%20%20%0A%0A%20%20%20%20%20%20%20%20marker_f62d5e529bf547329abf2080e7846f3d.bindPopup%28popup_ef4e81362e504a1484fa365f5c2d30a9%29%0A%20%20%20%20%20%20%20%20%3B%0A%0A%20%20%20%20%20%20%20%20%0A%20%20%20%20%0A%20%20%20%20%0A%20%20%20%20%20%20%20%20%20%20%20%20marker_f62d5e529bf547329abf2080e7846f3d.bindTooltip%28%0A%20%20%20%20%20%20%20%20%20%20%20%20%20%20%20%20%60%3Cdiv%3E%0A%20%20%20%20%20%20%20%20%20%20%20%20%20%20%20%20%20%20%20%20%20A%20empresa%20IBAI%20VESTUARIO%20%28CNPJ%2049524688000199%29%2C%20relacionada%20ao%20PEP%20SAVIOLO%20LUYTEN%20SMERIERI%2C%20recebeu%20R%24%20290768.45%0A%20%20%20%20%20%20%20%20%20%20%20%20%20%20%20%20%20%3C/div%3E%60%2C%0A%20%20%20%20%20%20%20%20%20%20%20%20%20%20%20%20%7B%22sticky%22%3A%20true%7D%0A%20%20%20%20%20%20%20%20%20%20%20%20%29%3B%0A%20%20%20%20%20%20%20%20%0A%20%20%20%20%0A%20%20%20%20%20%20%20%20%20%20%20%20var%20marker_f7b9be49c6314d2e97ee837334e100ad%20%3D%20L.marker%28%0A%20%20%20%20%20%20%20%20%20%20%20%20%20%20%20%20%5B-23.244%2C%20-48.195%5D%2C%0A%20%20%20%20%20%20%20%20%20%20%20%20%20%20%20%20%7B%7D%0A%20%20%20%20%20%20%20%20%20%20%20%20%29.addTo%28map_cfd19d50440e4e359889414eb5531ff9%29%3B%0A%20%20%20%20%20%20%20%20%0A%20%20%20%20%0A%20%20%20%20%20%20%20%20%20%20%20%20var%20icon_753de29cfae14865867ce747419f36ab%20%3D%20L.AwesomeMarkers.icon%28%0A%20%20%20%20%20%20%20%20%20%20%20%20%20%20%20%20%7B%22extraClasses%22%3A%20%22fa-rotate-0%22%2C%20%22icon%22%3A%20%22info-sign%22%2C%20%22iconColor%22%3A%20%22white%22%2C%20%22markerColor%22%3A%20%22red%22%2C%20%22prefix%22%3A%20%22glyphicon%22%7D%0A%20%20%20%20%20%20%20%20%20%20%20%20%29%3B%0A%20%20%20%20%20%20%20%20%20%20%20%20marker_f7b9be49c6314d2e97ee837334e100ad.setIcon%28icon_753de29cfae14865867ce747419f36ab%29%3B%0A%20%20%20%20%20%20%20%20%0A%20%20%20%20%0A%20%20%20%20%20%20%20%20var%20popup_4bd31507a9cf416da0a7b8cb212aa74a%20%3D%20L.popup%28%7B%22maxWidth%22%3A%20%22100%25%22%7D%29%3B%0A%0A%20%20%20%20%20%20%20%20%0A%20%20%20%20%20%20%20%20%20%20%20%20var%20html_15a10ed8c6304c14abf1cf597e1c2486%20%3D%20%24%28%60%3Cdiv%20id%3D%22html_15a10ed8c6304c14abf1cf597e1c2486%22%20style%3D%22width%3A%20100.0%25%3B%20height%3A%20100.0%25%3B%22%3EA%20empresa%20LOUISE%20ADMINISTRATIVOS%20%28CNPJ%2059442647000146%29%2C%20relacionada%20ao%20PEP%20BENJAMIM%20HOSCHITAKE%20OBERLEITENER%20DE%20MOLIMAROLI%2C%20recebeu%20R%24%20119054.63%3C/div%3E%60%29%5B0%5D%3B%0A%20%20%20%20%20%20%20%20%20%20%20%20popup_4bd31507a9cf416da0a7b8cb212aa74a.setContent%28html_15a10ed8c6304c14abf1cf597e1c2486%29%3B%0A%20%20%20%20%20%20%20%20%0A%0A%20%20%20%20%20%20%20%20marker_f7b9be49c6314d2e97ee837334e100ad.bindPopup%28popup_4bd31507a9cf416da0a7b8cb212aa74a%29%0A%20%20%20%20%20%20%20%20%3B%0A%0A%20%20%20%20%20%20%20%20%0A%20%20%20%20%0A%20%20%20%20%0A%20%20%20%20%20%20%20%20%20%20%20%20marker_f7b9be49c6314d2e97ee837334e100ad.bindTooltip%28%0A%20%20%20%20%20%20%20%20%20%20%20%20%20%20%20%20%60%3Cdiv%3E%0A%20%20%20%20%20%20%20%20%20%20%20%20%20%20%20%20%20%20%20%20%20A%20empresa%20LOUISE%20ADMINISTRATIVOS%20%28CNPJ%2059442647000146%29%2C%20relacionada%20ao%20PEP%20BENJAMIM%20HOSCHITAKE%20OBERLEITENER%20DE%20MOLIMAROLI%2C%20recebeu%20R%24%20119054.63%0A%20%20%20%20%20%20%20%20%20%20%20%20%20%20%20%20%20%3C/div%3E%60%2C%0A%20%20%20%20%20%20%20%20%20%20%20%20%20%20%20%20%7B%22sticky%22%3A%20true%7D%0A%20%20%20%20%20%20%20%20%20%20%20%20%29%3B%0A%20%20%20%20%20%20%20%20%0A%20%20%20%20%0A%20%20%20%20%20%20%20%20%20%20%20%20var%20marker_cee5cbdb36d243f98c4a037621792a96%20%3D%20L.marker%28%0A%20%20%20%20%20%20%20%20%20%20%20%20%20%20%20%20%5B-20.257%2C%20-47.477%5D%2C%0A%20%20%20%20%20%20%20%20%20%20%20%20%20%20%20%20%7B%7D%0A%20%20%20%20%20%20%20%20%20%20%20%20%29.addTo%28map_cfd19d50440e4e359889414eb5531ff9%29%3B%0A%20%20%20%20%20%20%20%20%0A%20%20%20%20%0A%20%20%20%20%20%20%20%20%20%20%20%20var%20icon_7f94012be143455e9fb2ab38f29d7b80%20%3D%20L.AwesomeMarkers.icon%28%0A%20%20%20%20%20%20%20%20%20%20%20%20%20%20%20%20%7B%22extraClasses%22%3A%20%22fa-rotate-0%22%2C%20%22icon%22%3A%20%22info-sign%22%2C%20%22iconColor%22%3A%20%22white%22%2C%20%22markerColor%22%3A%20%22red%22%2C%20%22prefix%22%3A%20%22glyphicon%22%7D%0A%20%20%20%20%20%20%20%20%20%20%20%20%29%3B%0A%20%20%20%20%20%20%20%20%20%20%20%20marker_cee5cbdb36d243f98c4a037621792a96.setIcon%28icon_7f94012be143455e9fb2ab38f29d7b80%29%3B%0A%20%20%20%20%20%20%20%20%0A%20%20%20%20%0A%20%20%20%20%20%20%20%20var%20popup_9e5168a1e3474558adb3a2e6b8ca4e0f%20%3D%20L.popup%28%7B%22maxWidth%22%3A%20%22100%25%22%7D%29%3B%0A%0A%20%20%20%20%20%20%20%20%0A%20%20%20%20%20%20%20%20%20%20%20%20var%20html_6dcf6259ebe9488b975080cc706bf0b2%20%3D%20%24%28%60%3Cdiv%20id%3D%22html_6dcf6259ebe9488b975080cc706bf0b2%22%20style%3D%22width%3A%20100.0%25%3B%20height%3A%20100.0%25%3B%22%3EA%20empresa%20MOMOKA%20ARTISTICAS%20LTDA%20%28CNPJ%2006273922000124%29%2C%20relacionada%20ao%20PEP%20GEOVANISA%20TERSINHA%20BERTASSONI%2C%20recebeu%20R%24%20272285.94%3C/div%3E%60%29%5B0%5D%3B%0A%20%20%20%20%20%20%20%20%20%20%20%20popup_9e5168a1e3474558adb3a2e6b8ca4e0f.setContent%28html_6dcf6259ebe9488b975080cc706bf0b2%29%3B%0A%20%20%20%20%20%20%20%20%0A%0A%20%20%20%20%20%20%20%20marker_cee5cbdb36d243f98c4a037621792a96.bindPopup%28popup_9e5168a1e3474558adb3a2e6b8ca4e0f%29%0A%20%20%20%20%20%20%20%20%3B%0A%0A%20%20%20%20%20%20%20%20%0A%20%20%20%20%0A%20%20%20%20%0A%20%20%20%20%20%20%20%20%20%20%20%20marker_cee5cbdb36d243f98c4a037621792a96.bindTooltip%28%0A%20%20%20%20%20%20%20%20%20%20%20%20%20%20%20%20%60%3Cdiv%3E%0A%20%20%20%20%20%20%20%20%20%20%20%20%20%20%20%20%20%20%20%20%20A%20empresa%20MOMOKA%20ARTISTICAS%20LTDA%20%28CNPJ%2006273922000124%29%2C%20relacionada%20ao%20PEP%20GEOVANISA%20TERSINHA%20BERTASSONI%2C%20recebeu%20R%24%20272285.94%0A%20%20%20%20%20%20%20%20%20%20%20%20%20%20%20%20%20%3C/div%3E%60%2C%0A%20%20%20%20%20%20%20%20%20%20%20%20%20%20%20%20%7B%22sticky%22%3A%20true%7D%0A%20%20%20%20%20%20%20%20%20%20%20%20%29%3B%0A%20%20%20%20%20%20%20%20%0A%20%20%20%20%0A%20%20%20%20%20%20%20%20%20%20%20%20var%20marker_3c1849c82b994fd2a9f0114e5127a146%20%3D%20L.marker%28%0A%20%20%20%20%20%20%20%20%20%20%20%20%20%20%20%20%5B-24.715%2C%20-47.881%5D%2C%0A%20%20%20%20%20%20%20%20%20%20%20%20%20%20%20%20%7B%7D%0A%20%20%20%20%20%20%20%20%20%20%20%20%29.addTo%28map_cfd19d50440e4e359889414eb5531ff9%29%3B%0A%20%20%20%20%20%20%20%20%0A%20%20%20%20%0A%20%20%20%20%20%20%20%20%20%20%20%20var%20icon_37f3c2c314f5469ab528dff7c6727f57%20%3D%20L.AwesomeMarkers.icon%28%0A%20%20%20%20%20%20%20%20%20%20%20%20%20%20%20%20%7B%22extraClasses%22%3A%20%22fa-rotate-0%22%2C%20%22icon%22%3A%20%22info-sign%22%2C%20%22iconColor%22%3A%20%22white%22%2C%20%22markerColor%22%3A%20%22red%22%2C%20%22prefix%22%3A%20%22glyphicon%22%7D%0A%20%20%20%20%20%20%20%20%20%20%20%20%29%3B%0A%20%20%20%20%20%20%20%20%20%20%20%20marker_3c1849c82b994fd2a9f0114e5127a146.setIcon%28icon_37f3c2c314f5469ab528dff7c6727f57%29%3B%0A%20%20%20%20%20%20%20%20%0A%20%20%20%20%0A%20%20%20%20%20%20%20%20var%20popup_f35ad7973dcf41ec8ea41abb34f8177b%20%3D%20L.popup%28%7B%22maxWidth%22%3A%20%22100%25%22%7D%29%3B%0A%0A%20%20%20%20%20%20%20%20%0A%20%20%20%20%20%20%20%20%20%20%20%20var%20html_72ae3197dd40418698153fdba9b71601%20%3D%20%24%28%60%3Cdiv%20id%3D%22html_72ae3197dd40418698153fdba9b71601%22%20style%3D%22width%3A%20100.0%25%3B%20height%3A%20100.0%25%3B%22%3EA%20empresa%20MAYA%20BRASIL%20%28CNPJ%2055336339000149%29%2C%20relacionada%20ao%20PEP%20DOUGLAS%20SPERETA%20PITTINI%2C%20recebeu%20R%24%20235324.58%3C/div%3E%60%29%5B0%5D%3B%0A%20%20%20%20%20%20%20%20%20%20%20%20popup_f35ad7973dcf41ec8ea41abb34f8177b.setContent%28html_72ae3197dd40418698153fdba9b71601%29%3B%0A%20%20%20%20%20%20%20%20%0A%0A%20%20%20%20%20%20%20%20marker_3c1849c82b994fd2a9f0114e5127a146.bindPopup%28popup_f35ad7973dcf41ec8ea41abb34f8177b%29%0A%20%20%20%20%20%20%20%20%3B%0A%0A%20%20%20%20%20%20%20%20%0A%20%20%20%20%0A%20%20%20%20%0A%20%20%20%20%20%20%20%20%20%20%20%20marker_3c1849c82b994fd2a9f0114e5127a146.bindTooltip%28%0A%20%20%20%20%20%20%20%20%20%20%20%20%20%20%20%20%60%3Cdiv%3E%0A%20%20%20%20%20%20%20%20%20%20%20%20%20%20%20%20%20%20%20%20%20A%20empresa%20MAYA%20BRASIL%20%28CNPJ%2055336339000149%29%2C%20relacionada%20ao%20PEP%20DOUGLAS%20SPERETA%20PITTINI%2C%20recebeu%20R%24%20235324.58%0A%20%20%20%20%20%20%20%20%20%20%20%20%20%20%20%20%20%3C/div%3E%60%2C%0A%20%20%20%20%20%20%20%20%20%20%20%20%20%20%20%20%7B%22sticky%22%3A%20true%7D%0A%20%20%20%20%20%20%20%20%20%20%20%20%29%3B%0A%20%20%20%20%20%20%20%20%0A%20%20%20%20%0A%20%20%20%20%20%20%20%20%20%20%20%20var%20marker_24f50d9988214f2e8cf73edf2ae43616%20%3D%20L.marker%28%0A%20%20%20%20%20%20%20%20%20%20%20%20%20%20%20%20%5B-23.011999999999997%2C%20-47.527%5D%2C%0A%20%20%20%20%20%20%20%20%20%20%20%20%20%20%20%20%7B%7D%0A%20%20%20%20%20%20%20%20%20%20%20%20%29.addTo%28map_cfd19d50440e4e359889414eb5531ff9%29%3B%0A%20%20%20%20%20%20%20%20%0A%20%20%20%20%0A%20%20%20%20%20%20%20%20%20%20%20%20var%20icon_0aad8d632531438ab6e1aa9b96e38170%20%3D%20L.AwesomeMarkers.icon%28%0A%20%20%20%20%20%20%20%20%20%20%20%20%20%20%20%20%7B%22extraClasses%22%3A%20%22fa-rotate-0%22%2C%20%22icon%22%3A%20%22info-sign%22%2C%20%22iconColor%22%3A%20%22white%22%2C%20%22markerColor%22%3A%20%22red%22%2C%20%22prefix%22%3A%20%22glyphicon%22%7D%0A%20%20%20%20%20%20%20%20%20%20%20%20%29%3B%0A%20%20%20%20%20%20%20%20%20%20%20%20marker_24f50d9988214f2e8cf73edf2ae43616.setIcon%28icon_0aad8d632531438ab6e1aa9b96e38170%29%3B%0A%20%20%20%20%20%20%20%20%0A%20%20%20%20%0A%20%20%20%20%20%20%20%20var%20popup_166c6f98b1a74fcba79a2fdb22f148fd%20%3D%20L.popup%28%7B%22maxWidth%22%3A%20%22100%25%22%7D%29%3B%0A%0A%20%20%20%20%20%20%20%20%0A%20%20%20%20%20%20%20%20%20%20%20%20var%20html_bf8152e9b15b46169ed7631a99805d32%20%3D%20%24%28%60%3Cdiv%20id%3D%22html_bf8152e9b15b46169ed7631a99805d32%22%20style%3D%22width%3A%20100.0%25%3B%20height%3A%20100.0%25%3B%22%3EA%20empresa%20NIKITA%20PRESENTES%20EIRELLI%20%28CNPJ%2005605785000141%29%2C%20relacionada%20ao%20PEP%20ANDERSON%20PHREDERICO%20ZIELAK%20RAGO%2C%20recebeu%20R%24%20238680.05%3C/div%3E%60%29%5B0%5D%3B%0A%20%20%20%20%20%20%20%20%20%20%20%20popup_166c6f98b1a74fcba79a2fdb22f148fd.setContent%28html_bf8152e9b15b46169ed7631a99805d32%29%3B%0A%20%20%20%20%20%20%20%20%0A%0A%20%20%20%20%20%20%20%20marker_24f50d9988214f2e8cf73edf2ae43616.bindPopup%28popup_166c6f98b1a74fcba79a2fdb22f148fd%29%0A%20%20%20%20%20%20%20%20%3B%0A%0A%20%20%20%20%20%20%20%20%0A%20%20%20%20%0A%20%20%20%20%0A%20%20%20%20%20%20%20%20%20%20%20%20marker_24f50d9988214f2e8cf73edf2ae43616.bindTooltip%28%0A%20%20%20%20%20%20%20%20%20%20%20%20%20%20%20%20%60%3Cdiv%3E%0A%20%20%20%20%20%20%20%20%20%20%20%20%20%20%20%20%20%20%20%20%20A%20empresa%20NIKITA%20PRESENTES%20EIRELLI%20%28CNPJ%2005605785000141%29%2C%20relacionada%20ao%20PEP%20ANDERSON%20PHREDERICO%20ZIELAK%20RAGO%2C%20recebeu%20R%24%20238680.05%0A%20%20%20%20%20%20%20%20%20%20%20%20%20%20%20%20%20%3C/div%3E%60%2C%0A%20%20%20%20%20%20%20%20%20%20%20%20%20%20%20%20%7B%22sticky%22%3A%20true%7D%0A%20%20%20%20%20%20%20%20%20%20%20%20%29%3B%0A%20%20%20%20%20%20%20%20%0A%20%20%20%20%0A%20%20%20%20%20%20%20%20%20%20%20%20var%20marker_95e12b803e744ca19f47f02a0551a1e5%20%3D%20L.marker%28%0A%20%20%20%20%20%20%20%20%20%20%20%20%20%20%20%20%5B-20.167%2C%20-49.703%5D%2C%0A%20%20%20%20%20%20%20%20%20%20%20%20%20%20%20%20%7B%7D%0A%20%20%20%20%20%20%20%20%20%20%20%20%29.addTo%28map_cfd19d50440e4e359889414eb5531ff9%29%3B%0A%20%20%20%20%20%20%20%20%0A%20%20%20%20%0A%20%20%20%20%20%20%20%20%20%20%20%20var%20icon_63785df00dde46a6a6b24916c229dcd4%20%3D%20L.AwesomeMarkers.icon%28%0A%20%20%20%20%20%20%20%20%20%20%20%20%20%20%20%20%7B%22extraClasses%22%3A%20%22fa-rotate-0%22%2C%20%22icon%22%3A%20%22info-sign%22%2C%20%22iconColor%22%3A%20%22white%22%2C%20%22markerColor%22%3A%20%22red%22%2C%20%22prefix%22%3A%20%22glyphicon%22%7D%0A%20%20%20%20%20%20%20%20%20%20%20%20%29%3B%0A%20%20%20%20%20%20%20%20%20%20%20%20marker_95e12b803e744ca19f47f02a0551a1e5.setIcon%28icon_63785df00dde46a6a6b24916c229dcd4%29%3B%0A%20%20%20%20%20%20%20%20%0A%20%20%20%20%0A%20%20%20%20%20%20%20%20var%20popup_d34a73751398414f9eb60af3c20271ea%20%3D%20L.popup%28%7B%22maxWidth%22%3A%20%22100%25%22%7D%29%3B%0A%0A%20%20%20%20%20%20%20%20%0A%20%20%20%20%20%20%20%20%20%20%20%20var%20html_d8084c999f1d46e896aed965de3e3cec%20%3D%20%24%28%60%3Cdiv%20id%3D%22html_d8084c999f1d46e896aed965de3e3cec%22%20style%3D%22width%3A%20100.0%25%3B%20height%3A%20100.0%25%3B%22%3EA%20empresa%20JOAO%20LUCAS%20ELETRONICOS%20SA%20%28CNPJ%2010240793000137%29%2C%20relacionada%20ao%20PEP%20CAUME%20UNAIDE%20ABASILIA%20PHREDERICO%20ZIELAK%2C%20recebeu%20R%24%20231545.38%3C/div%3E%60%29%5B0%5D%3B%0A%20%20%20%20%20%20%20%20%20%20%20%20popup_d34a73751398414f9eb60af3c20271ea.setContent%28html_d8084c999f1d46e896aed965de3e3cec%29%3B%0A%20%20%20%20%20%20%20%20%0A%0A%20%20%20%20%20%20%20%20marker_95e12b803e744ca19f47f02a0551a1e5.bindPopup%28popup_d34a73751398414f9eb60af3c20271ea%29%0A%20%20%20%20%20%20%20%20%3B%0A%0A%20%20%20%20%20%20%20%20%0A%20%20%20%20%0A%20%20%20%20%0A%20%20%20%20%20%20%20%20%20%20%20%20marker_95e12b803e744ca19f47f02a0551a1e5.bindTooltip%28%0A%20%20%20%20%20%20%20%20%20%20%20%20%20%20%20%20%60%3Cdiv%3E%0A%20%20%20%20%20%20%20%20%20%20%20%20%20%20%20%20%20%20%20%20%20A%20empresa%20JOAO%20LUCAS%20ELETRONICOS%20SA%20%28CNPJ%2010240793000137%29%2C%20relacionada%20ao%20PEP%20CAUME%20UNAIDE%20ABASILIA%20PHREDERICO%20ZIELAK%2C%20recebeu%20R%24%20231545.38%0A%20%20%20%20%20%20%20%20%20%20%20%20%20%20%20%20%20%3C/div%3E%60%2C%0A%20%20%20%20%20%20%20%20%20%20%20%20%20%20%20%20%7B%22sticky%22%3A%20true%7D%0A%20%20%20%20%20%20%20%20%20%20%20%20%29%3B%0A%20%20%20%20%20%20%20%20%0A%20%20%20%20%0A%20%20%20%20%20%20%20%20%20%20%20%20var%20marker_1ef69fbdb01240e0a0276595161520fb%20%3D%20L.marker%28%0A%20%20%20%20%20%20%20%20%20%20%20%20%20%20%20%20%5B-22.826999999999998%2C%20-45.663000000000004%5D%2C%0A%20%20%20%20%20%20%20%20%20%20%20%20%20%20%20%20%7B%7D%0A%20%20%20%20%20%20%20%20%20%20%20%20%29.addTo%28map_cfd19d50440e4e359889414eb5531ff9%29%3B%0A%20%20%20%20%20%20%20%20%0A%20%20%20%20%0A%20%20%20%20%20%20%20%20%20%20%20%20var%20icon_980710e74ba74e6d82e1e76f14d2572f%20%3D%20L.AwesomeMarkers.icon%28%0A%20%20%20%20%20%20%20%20%20%20%20%20%20%20%20%20%7B%22extraClasses%22%3A%20%22fa-rotate-0%22%2C%20%22icon%22%3A%20%22info-sign%22%2C%20%22iconColor%22%3A%20%22white%22%2C%20%22markerColor%22%3A%20%22red%22%2C%20%22prefix%22%3A%20%22glyphicon%22%7D%0A%20%20%20%20%20%20%20%20%20%20%20%20%29%3B%0A%20%20%20%20%20%20%20%20%20%20%20%20marker_1ef69fbdb01240e0a0276595161520fb.setIcon%28icon_980710e74ba74e6d82e1e76f14d2572f%29%3B%0A%20%20%20%20%20%20%20%20%0A%20%20%20%20%0A%20%20%20%20%20%20%20%20var%20popup_7bd5106d212b4816a4d12d5ce8180c85%20%3D%20L.popup%28%7B%22maxWidth%22%3A%20%22100%25%22%7D%29%3B%0A%0A%20%20%20%20%20%20%20%20%0A%20%20%20%20%20%20%20%20%20%20%20%20var%20html_bf6189f9155142c8aa740ac5d81359c5%20%3D%20%24%28%60%3Cdiv%20id%3D%22html_bf6189f9155142c8aa740ac5d81359c5%22%20style%3D%22width%3A%20100.0%25%3B%20height%3A%20100.0%25%3B%22%3EA%20empresa%20JOAO%20LUCAS%20ELETRONICOS%20SA%20%28CNPJ%2010240793000137%29%2C%20relacionada%20ao%20PEP%20CAUME%20UNAIDE%20ABASILIA%20PHREDERICO%20ZIELAK%2C%20recebeu%20R%24%20214387.51%3C/div%3E%60%29%5B0%5D%3B%0A%20%20%20%20%20%20%20%20%20%20%20%20popup_7bd5106d212b4816a4d12d5ce8180c85.setContent%28html_bf6189f9155142c8aa740ac5d81359c5%29%3B%0A%20%20%20%20%20%20%20%20%0A%0A%20%20%20%20%20%20%20%20marker_1ef69fbdb01240e0a0276595161520fb.bindPopup%28popup_7bd5106d212b4816a4d12d5ce8180c85%29%0A%20%20%20%20%20%20%20%20%3B%0A%0A%20%20%20%20%20%20%20%20%0A%20%20%20%20%0A%20%20%20%20%0A%20%20%20%20%20%20%20%20%20%20%20%20marker_1ef69fbdb01240e0a0276595161520fb.bindTooltip%28%0A%20%20%20%20%20%20%20%20%20%20%20%20%20%20%20%20%60%3Cdiv%3E%0A%20%20%20%20%20%20%20%20%20%20%20%20%20%20%20%20%20%20%20%20%20A%20empresa%20JOAO%20LUCAS%20ELETRONICOS%20SA%20%28CNPJ%2010240793000137%29%2C%20relacionada%20ao%20PEP%20CAUME%20UNAIDE%20ABASILIA%20PHREDERICO%20ZIELAK%2C%20recebeu%20R%24%20214387.51%0A%20%20%20%20%20%20%20%20%20%20%20%20%20%20%20%20%20%3C/div%3E%60%2C%0A%20%20%20%20%20%20%20%20%20%20%20%20%20%20%20%20%7B%22sticky%22%3A%20true%7D%0A%20%20%20%20%20%20%20%20%20%20%20%20%29%3B%0A%20%20%20%20%20%20%20%20%0A%20%20%20%20%0A%20%20%20%20%20%20%20%20%20%20%20%20var%20marker_ca1b1f7577974f439e487bb9e4ed8b60%20%3D%20L.marker%28%0A%20%20%20%20%20%20%20%20%20%20%20%20%20%20%20%20%5B-21.499000000000002%2C%20-50.316%5D%2C%0A%20%20%20%20%20%20%20%20%20%20%20%20%20%20%20%20%7B%7D%0A%20%20%20%20%20%20%20%20%20%20%20%20%29.addTo%28map_cfd19d50440e4e359889414eb5531ff9%29%3B%0A%20%20%20%20%20%20%20%20%0A%20%20%20%20%0A%20%20%20%20%20%20%20%20%20%20%20%20var%20icon_915de0eadd844452a253b9a2100239b3%20%3D%20L.AwesomeMarkers.icon%28%0A%20%20%20%20%20%20%20%20%20%20%20%20%20%20%20%20%7B%22extraClasses%22%3A%20%22fa-rotate-0%22%2C%20%22icon%22%3A%20%22info-sign%22%2C%20%22iconColor%22%3A%20%22white%22%2C%20%22markerColor%22%3A%20%22red%22%2C%20%22prefix%22%3A%20%22glyphicon%22%7D%0A%20%20%20%20%20%20%20%20%20%20%20%20%29%3B%0A%20%20%20%20%20%20%20%20%20%20%20%20marker_ca1b1f7577974f439e487bb9e4ed8b60.setIcon%28icon_915de0eadd844452a253b9a2100239b3%29%3B%0A%20%20%20%20%20%20%20%20%0A%20%20%20%20%0A%20%20%20%20%20%20%20%20var%20popup_1566ecbf183e423b8a8045ea6d484235%20%3D%20L.popup%28%7B%22maxWidth%22%3A%20%22100%25%22%7D%29%3B%0A%0A%20%20%20%20%20%20%20%20%0A%20%20%20%20%20%20%20%20%20%20%20%20var%20html_b54550d492ed4c00948f12d29672e830%20%3D%20%24%28%60%3Cdiv%20id%3D%22html_b54550d492ed4c00948f12d29672e830%22%20style%3D%22width%3A%20100.0%25%3B%20height%3A%20100.0%25%3B%22%3EA%20empresa%20JOAO%20LUCAS%20ELETRONICOS%20SA%20%28CNPJ%2010240793000137%29%2C%20relacionada%20ao%20PEP%20CAUME%20UNAIDE%20ABASILIA%20PHREDERICO%20ZIELAK%2C%20recebeu%20R%24%20225281.82%3C/div%3E%60%29%5B0%5D%3B%0A%20%20%20%20%20%20%20%20%20%20%20%20popup_1566ecbf183e423b8a8045ea6d484235.setContent%28html_b54550d492ed4c00948f12d29672e830%29%3B%0A%20%20%20%20%20%20%20%20%0A%0A%20%20%20%20%20%20%20%20marker_ca1b1f7577974f439e487bb9e4ed8b60.bindPopup%28popup_1566ecbf183e423b8a8045ea6d484235%29%0A%20%20%20%20%20%20%20%20%3B%0A%0A%20%20%20%20%20%20%20%20%0A%20%20%20%20%0A%20%20%20%20%0A%20%20%20%20%20%20%20%20%20%20%20%20marker_ca1b1f7577974f439e487bb9e4ed8b60.bindTooltip%28%0A%20%20%20%20%20%20%20%20%20%20%20%20%20%20%20%20%60%3Cdiv%3E%0A%20%20%20%20%20%20%20%20%20%20%20%20%20%20%20%20%20%20%20%20%20A%20empresa%20JOAO%20LUCAS%20ELETRONICOS%20SA%20%28CNPJ%2010240793000137%29%2C%20relacionada%20ao%20PEP%20CAUME%20UNAIDE%20ABASILIA%20PHREDERICO%20ZIELAK%2C%20recebeu%20R%24%20225281.82%0A%20%20%20%20%20%20%20%20%20%20%20%20%20%20%20%20%20%3C/div%3E%60%2C%0A%20%20%20%20%20%20%20%20%20%20%20%20%20%20%20%20%7B%22sticky%22%3A%20true%7D%0A%20%20%20%20%20%20%20%20%20%20%20%20%29%3B%0A%20%20%20%20%20%20%20%20%0A%20%20%20%20%0A%20%20%20%20%20%20%20%20%20%20%20%20var%20marker_3eda7b6a914a4cd7a5f70ebd4bf2bb35%20%3D%20L.marker%28%0A%20%20%20%20%20%20%20%20%20%20%20%20%20%20%20%20%5B-20.789%2C%20-48.33%5D%2C%0A%20%20%20%20%20%20%20%20%20%20%20%20%20%20%20%20%7B%7D%0A%20%20%20%20%20%20%20%20%20%20%20%20%29.addTo%28map_cfd19d50440e4e359889414eb5531ff9%29%3B%0A%20%20%20%20%20%20%20%20%0A%20%20%20%20%0A%20%20%20%20%20%20%20%20%20%20%20%20var%20icon_b54e6f36676f4f02becac667dacc766d%20%3D%20L.AwesomeMarkers.icon%28%0A%20%20%20%20%20%20%20%20%20%20%20%20%20%20%20%20%7B%22extraClasses%22%3A%20%22fa-rotate-0%22%2C%20%22icon%22%3A%20%22info-sign%22%2C%20%22iconColor%22%3A%20%22white%22%2C%20%22markerColor%22%3A%20%22red%22%2C%20%22prefix%22%3A%20%22glyphicon%22%7D%0A%20%20%20%20%20%20%20%20%20%20%20%20%29%3B%0A%20%20%20%20%20%20%20%20%20%20%20%20marker_3eda7b6a914a4cd7a5f70ebd4bf2bb35.setIcon%28icon_b54e6f36676f4f02becac667dacc766d%29%3B%0A%20%20%20%20%20%20%20%20%0A%20%20%20%20%0A%20%20%20%20%20%20%20%20var%20popup_85815ca2e57b46e0ae9e58e4ec3a926d%20%3D%20L.popup%28%7B%22maxWidth%22%3A%20%22100%25%22%7D%29%3B%0A%0A%20%20%20%20%20%20%20%20%0A%20%20%20%20%20%20%20%20%20%20%20%20var%20html_db1454eb5a0f4114afaabf23ee7c60a8%20%3D%20%24%28%60%3Cdiv%20id%3D%22html_db1454eb5a0f4114afaabf23ee7c60a8%22%20style%3D%22width%3A%20100.0%25%3B%20height%3A%20100.0%25%3B%22%3EA%20empresa%20MOHAMED%20DECORACOES%20EPP%20%28CNPJ%2013753624000188%29%2C%20relacionada%20ao%20PEP%20ZAPPAZ%20CAMINAGA%20EUTIMIA%2C%20recebeu%20R%24%20213973.22%3C/div%3E%60%29%5B0%5D%3B%0A%20%20%20%20%20%20%20%20%20%20%20%20popup_85815ca2e57b46e0ae9e58e4ec3a926d.setContent%28html_db1454eb5a0f4114afaabf23ee7c60a8%29%3B%0A%20%20%20%20%20%20%20%20%0A%0A%20%20%20%20%20%20%20%20marker_3eda7b6a914a4cd7a5f70ebd4bf2bb35.bindPopup%28popup_85815ca2e57b46e0ae9e58e4ec3a926d%29%0A%20%20%20%20%20%20%20%20%3B%0A%0A%20%20%20%20%20%20%20%20%0A%20%20%20%20%0A%20%20%20%20%0A%20%20%20%20%20%20%20%20%20%20%20%20marker_3eda7b6a914a4cd7a5f70ebd4bf2bb35.bindTooltip%28%0A%20%20%20%20%20%20%20%20%20%20%20%20%20%20%20%20%60%3Cdiv%3E%0A%20%20%20%20%20%20%20%20%20%20%20%20%20%20%20%20%20%20%20%20%20A%20empresa%20MOHAMED%20DECORACOES%20EPP%20%28CNPJ%2013753624000188%29%2C%20relacionada%20ao%20PEP%20ZAPPAZ%20CAMINAGA%20EUTIMIA%2C%20recebeu%20R%24%20213973.22%0A%20%20%20%20%20%20%20%20%20%20%20%20%20%20%20%20%20%3C/div%3E%60%2C%0A%20%20%20%20%20%20%20%20%20%20%20%20%20%20%20%20%7B%22sticky%22%3A%20true%7D%0A%20%20%20%20%20%20%20%20%20%20%20%20%29%3B%0A%20%20%20%20%20%20%20%20%0A%20%20%20%20%0A%20%20%20%20%20%20%20%20%20%20%20%20var%20marker_649dd7cf2fb241dc9ee2373e166fe997%20%3D%20L.marker%28%0A%20%20%20%20%20%20%20%20%20%20%20%20%20%20%20%20%5B-21.676%2C%20-51.38399999999999%5D%2C%0A%20%20%20%20%20%20%20%20%20%20%20%20%20%20%20%20%7B%7D%0A%20%20%20%20%20%20%20%20%20%20%20%20%29.addTo%28map_cfd19d50440e4e359889414eb5531ff9%29%3B%0A%20%20%20%20%20%20%20%20%0A%20%20%20%20%0A%20%20%20%20%20%20%20%20%20%20%20%20var%20icon_1742bfae9e7949e690c61d1df4056e86%20%3D%20L.AwesomeMarkers.icon%28%0A%20%20%20%20%20%20%20%20%20%20%20%20%20%20%20%20%7B%22extraClasses%22%3A%20%22fa-rotate-0%22%2C%20%22icon%22%3A%20%22info-sign%22%2C%20%22iconColor%22%3A%20%22white%22%2C%20%22markerColor%22%3A%20%22red%22%2C%20%22prefix%22%3A%20%22glyphicon%22%7D%0A%20%20%20%20%20%20%20%20%20%20%20%20%29%3B%0A%20%20%20%20%20%20%20%20%20%20%20%20marker_649dd7cf2fb241dc9ee2373e166fe997.setIcon%28icon_1742bfae9e7949e690c61d1df4056e86%29%3B%0A%20%20%20%20%20%20%20%20%0A%20%20%20%20%0A%20%20%20%20%20%20%20%20var%20popup_a21fec5e04d94ae79ab5a60d51be2fe3%20%3D%20L.popup%28%7B%22maxWidth%22%3A%20%22100%25%22%7D%29%3B%0A%0A%20%20%20%20%20%20%20%20%0A%20%20%20%20%20%20%20%20%20%20%20%20var%20html_c6496e3342c14b3c8e9a64630aa09c52%20%3D%20%24%28%60%3Cdiv%20id%3D%22html_c6496e3342c14b3c8e9a64630aa09c52%22%20style%3D%22width%3A%20100.0%25%3B%20height%3A%20100.0%25%3B%22%3EA%20empresa%20JOAO%20LUCAS%20ELETRONICOS%20SA%20%28CNPJ%2010240793000137%29%2C%20relacionada%20ao%20PEP%20CAUME%20UNAIDE%20ABASILIA%20PHREDERICO%20ZIELAK%2C%20recebeu%20R%24%20221294.85%3C/div%3E%60%29%5B0%5D%3B%0A%20%20%20%20%20%20%20%20%20%20%20%20popup_a21fec5e04d94ae79ab5a60d51be2fe3.setContent%28html_c6496e3342c14b3c8e9a64630aa09c52%29%3B%0A%20%20%20%20%20%20%20%20%0A%0A%20%20%20%20%20%20%20%20marker_649dd7cf2fb241dc9ee2373e166fe997.bindPopup%28popup_a21fec5e04d94ae79ab5a60d51be2fe3%29%0A%20%20%20%20%20%20%20%20%3B%0A%0A%20%20%20%20%20%20%20%20%0A%20%20%20%20%0A%20%20%20%20%0A%20%20%20%20%20%20%20%20%20%20%20%20marker_649dd7cf2fb241dc9ee2373e166fe997.bindTooltip%28%0A%20%20%20%20%20%20%20%20%20%20%20%20%20%20%20%20%60%3Cdiv%3E%0A%20%20%20%20%20%20%20%20%20%20%20%20%20%20%20%20%20%20%20%20%20A%20empresa%20JOAO%20LUCAS%20ELETRONICOS%20SA%20%28CNPJ%2010240793000137%29%2C%20relacionada%20ao%20PEP%20CAUME%20UNAIDE%20ABASILIA%20PHREDERICO%20ZIELAK%2C%20recebeu%20R%24%20221294.85%0A%20%20%20%20%20%20%20%20%20%20%20%20%20%20%20%20%20%3C/div%3E%60%2C%0A%20%20%20%20%20%20%20%20%20%20%20%20%20%20%20%20%7B%22sticky%22%3A%20true%7D%0A%20%20%20%20%20%20%20%20%20%20%20%20%29%3B%0A%20%20%20%20%20%20%20%20%0A%20%20%20%20%0A%20%20%20%20%20%20%20%20%20%20%20%20var%20marker_9a2d0073bc2c42ecbf548858029bc174%20%3D%20L.marker%28%0A%20%20%20%20%20%20%20%20%20%20%20%20%20%20%20%20%5B-23.712%2C%20-47.428000000000004%5D%2C%0A%20%20%20%20%20%20%20%20%20%20%20%20%20%20%20%20%7B%7D%0A%20%20%20%20%20%20%20%20%20%20%20%20%29.addTo%28map_cfd19d50440e4e359889414eb5531ff9%29%3B%0A%20%20%20%20%20%20%20%20%0A%20%20%20%20%0A%20%20%20%20%20%20%20%20%20%20%20%20var%20icon_7c467b7ac3974ababde25595a42a53b6%20%3D%20L.AwesomeMarkers.icon%28%0A%20%20%20%20%20%20%20%20%20%20%20%20%20%20%20%20%7B%22extraClasses%22%3A%20%22fa-rotate-0%22%2C%20%22icon%22%3A%20%22info-sign%22%2C%20%22iconColor%22%3A%20%22white%22%2C%20%22markerColor%22%3A%20%22red%22%2C%20%22prefix%22%3A%20%22glyphicon%22%7D%0A%20%20%20%20%20%20%20%20%20%20%20%20%29%3B%0A%20%20%20%20%20%20%20%20%20%20%20%20marker_9a2d0073bc2c42ecbf548858029bc174.setIcon%28icon_7c467b7ac3974ababde25595a42a53b6%29%3B%0A%20%20%20%20%20%20%20%20%0A%20%20%20%20%0A%20%20%20%20%20%20%20%20var%20popup_435d3cd296324db3abf73c82dfabea1a%20%3D%20L.popup%28%7B%22maxWidth%22%3A%20%22100%25%22%7D%29%3B%0A%0A%20%20%20%20%20%20%20%20%0A%20%20%20%20%20%20%20%20%20%20%20%20var%20html_ead4ea0b3b924498bb83962e9b7dc417%20%3D%20%24%28%60%3Cdiv%20id%3D%22html_ead4ea0b3b924498bb83962e9b7dc417%22%20style%3D%22width%3A%20100.0%25%3B%20height%3A%20100.0%25%3B%22%3EA%20empresa%20MOMOKA%20ARTISTICAS%20LTDA%20%28CNPJ%2006273922000124%29%2C%20relacionada%20ao%20PEP%20GEOVANISA%20TERSINHA%20BERTASSONI%2C%20recebeu%20R%24%20195474.65%3C/div%3E%60%29%5B0%5D%3B%0A%20%20%20%20%20%20%20%20%20%20%20%20popup_435d3cd296324db3abf73c82dfabea1a.setContent%28html_ead4ea0b3b924498bb83962e9b7dc417%29%3B%0A%20%20%20%20%20%20%20%20%0A%0A%20%20%20%20%20%20%20%20marker_9a2d0073bc2c42ecbf548858029bc174.bindPopup%28popup_435d3cd296324db3abf73c82dfabea1a%29%0A%20%20%20%20%20%20%20%20%3B%0A%0A%20%20%20%20%20%20%20%20%0A%20%20%20%20%0A%20%20%20%20%0A%20%20%20%20%20%20%20%20%20%20%20%20marker_9a2d0073bc2c42ecbf548858029bc174.bindTooltip%28%0A%20%20%20%20%20%20%20%20%20%20%20%20%20%20%20%20%60%3Cdiv%3E%0A%20%20%20%20%20%20%20%20%20%20%20%20%20%20%20%20%20%20%20%20%20A%20empresa%20MOMOKA%20ARTISTICAS%20LTDA%20%28CNPJ%2006273922000124%29%2C%20relacionada%20ao%20PEP%20GEOVANISA%20TERSINHA%20BERTASSONI%2C%20recebeu%20R%24%20195474.65%0A%20%20%20%20%20%20%20%20%20%20%20%20%20%20%20%20%20%3C/div%3E%60%2C%0A%20%20%20%20%20%20%20%20%20%20%20%20%20%20%20%20%7B%22sticky%22%3A%20true%7D%0A%20%20%20%20%20%20%20%20%20%20%20%20%29%3B%0A%20%20%20%20%20%20%20%20%0A%20%20%20%20%0A%20%20%20%20%20%20%20%20%20%20%20%20var%20marker_d9c4b5aa3b6c41bd83b77bddf4839dda%20%3D%20L.marker%28%0A%20%20%20%20%20%20%20%20%20%20%20%20%20%20%20%20%5B-20.465999999999998%2C%20-50.606%5D%2C%0A%20%20%20%20%20%20%20%20%20%20%20%20%20%20%20%20%7B%7D%0A%20%20%20%20%20%20%20%20%20%20%20%20%29.addTo%28map_cfd19d50440e4e359889414eb5531ff9%29%3B%0A%20%20%20%20%20%20%20%20%0A%20%20%20%20%0A%20%20%20%20%20%20%20%20%20%20%20%20var%20icon_1f29c71635064bf183b81829e647a9df%20%3D%20L.AwesomeMarkers.icon%28%0A%20%20%20%20%20%20%20%20%20%20%20%20%20%20%20%20%7B%22extraClasses%22%3A%20%22fa-rotate-0%22%2C%20%22icon%22%3A%20%22info-sign%22%2C%20%22iconColor%22%3A%20%22white%22%2C%20%22markerColor%22%3A%20%22red%22%2C%20%22prefix%22%3A%20%22glyphicon%22%7D%0A%20%20%20%20%20%20%20%20%20%20%20%20%29%3B%0A%20%20%20%20%20%20%20%20%20%20%20%20marker_d9c4b5aa3b6c41bd83b77bddf4839dda.setIcon%28icon_1f29c71635064bf183b81829e647a9df%29%3B%0A%20%20%20%20%20%20%20%20%0A%20%20%20%20%0A%20%20%20%20%20%20%20%20var%20popup_efde255ce3d643ea99258162941dea70%20%3D%20L.popup%28%7B%22maxWidth%22%3A%20%22100%25%22%7D%29%3B%0A%0A%20%20%20%20%20%20%20%20%0A%20%20%20%20%20%20%20%20%20%20%20%20var%20html_578e64441e3f440f8858c36184e2cf09%20%3D%20%24%28%60%3Cdiv%20id%3D%22html_578e64441e3f440f8858c36184e2cf09%22%20style%3D%22width%3A%20100.0%25%3B%20height%3A%20100.0%25%3B%22%3EA%20empresa%20MOMOKA%20ARTISTICAS%20LTDA%20%28CNPJ%2006273922000124%29%2C%20relacionada%20ao%20PEP%20GEOVANISA%20TERSINHA%20BERTASSONI%2C%20recebeu%20R%24%20184133.3%3C/div%3E%60%29%5B0%5D%3B%0A%20%20%20%20%20%20%20%20%20%20%20%20popup_efde255ce3d643ea99258162941dea70.setContent%28html_578e64441e3f440f8858c36184e2cf09%29%3B%0A%20%20%20%20%20%20%20%20%0A%0A%20%20%20%20%20%20%20%20marker_d9c4b5aa3b6c41bd83b77bddf4839dda.bindPopup%28popup_efde255ce3d643ea99258162941dea70%29%0A%20%20%20%20%20%20%20%20%3B%0A%0A%20%20%20%20%20%20%20%20%0A%20%20%20%20%0A%20%20%20%20%0A%20%20%20%20%20%20%20%20%20%20%20%20marker_d9c4b5aa3b6c41bd83b77bddf4839dda.bindTooltip%28%0A%20%20%20%20%20%20%20%20%20%20%20%20%20%20%20%20%60%3Cdiv%3E%0A%20%20%20%20%20%20%20%20%20%20%20%20%20%20%20%20%20%20%20%20%20A%20empresa%20MOMOKA%20ARTISTICAS%20LTDA%20%28CNPJ%2006273922000124%29%2C%20relacionada%20ao%20PEP%20GEOVANISA%20TERSINHA%20BERTASSONI%2C%20recebeu%20R%24%20184133.3%0A%20%20%20%20%20%20%20%20%20%20%20%20%20%20%20%20%20%3C/div%3E%60%2C%0A%20%20%20%20%20%20%20%20%20%20%20%20%20%20%20%20%7B%22sticky%22%3A%20true%7D%0A%20%20%20%20%20%20%20%20%20%20%20%20%29%3B%0A%20%20%20%20%20%20%20%20%0A%20%20%20%20%0A%20%20%20%20%20%20%20%20%20%20%20%20var%20marker_67b38ad68dea422c83487a0e48a8efb1%20%3D%20L.marker%28%0A%20%20%20%20%20%20%20%20%20%20%20%20%20%20%20%20%5B-22.011999999999997%2C%20-51.236000000000004%5D%2C%0A%20%20%20%20%20%20%20%20%20%20%20%20%20%20%20%20%7B%7D%0A%20%20%20%20%20%20%20%20%20%20%20%20%29.addTo%28map_cfd19d50440e4e359889414eb5531ff9%29%3B%0A%20%20%20%20%20%20%20%20%0A%20%20%20%20%0A%20%20%20%20%20%20%20%20%20%20%20%20var%20icon_023208a721704a8db3023ff20b95db4e%20%3D%20L.AwesomeMarkers.icon%28%0A%20%20%20%20%20%20%20%20%20%20%20%20%20%20%20%20%7B%22extraClasses%22%3A%20%22fa-rotate-0%22%2C%20%22icon%22%3A%20%22info-sign%22%2C%20%22iconColor%22%3A%20%22white%22%2C%20%22markerColor%22%3A%20%22red%22%2C%20%22prefix%22%3A%20%22glyphicon%22%7D%0A%20%20%20%20%20%20%20%20%20%20%20%20%29%3B%0A%20%20%20%20%20%20%20%20%20%20%20%20marker_67b38ad68dea422c83487a0e48a8efb1.setIcon%28icon_023208a721704a8db3023ff20b95db4e%29%3B%0A%20%20%20%20%20%20%20%20%0A%20%20%20%20%0A%20%20%20%20%20%20%20%20var%20popup_e78c942cd3ae42279754d178b7ee6e8a%20%3D%20L.popup%28%7B%22maxWidth%22%3A%20%22100%25%22%7D%29%3B%0A%0A%20%20%20%20%20%20%20%20%0A%20%20%20%20%20%20%20%20%20%20%20%20var%20html_7d34e7017f0b4fd9a5ffc5be34a1efa4%20%3D%20%24%28%60%3Cdiv%20id%3D%22html_7d34e7017f0b4fd9a5ffc5be34a1efa4%22%20style%3D%22width%3A%20100.0%25%3B%20height%3A%20100.0%25%3B%22%3EA%20empresa%20LOUISE%20ADMINISTRATIVOS%20%28CNPJ%2059442647000146%29%2C%20relacionada%20ao%20PEP%20BENJAMIM%20HOSCHITAKE%20OBERLEITENER%20DE%20MOLIMAROLI%2C%20recebeu%20R%24%20178798.02%3C/div%3E%60%29%5B0%5D%3B%0A%20%20%20%20%20%20%20%20%20%20%20%20popup_e78c942cd3ae42279754d178b7ee6e8a.setContent%28html_7d34e7017f0b4fd9a5ffc5be34a1efa4%29%3B%0A%20%20%20%20%20%20%20%20%0A%0A%20%20%20%20%20%20%20%20marker_67b38ad68dea422c83487a0e48a8efb1.bindPopup%28popup_e78c942cd3ae42279754d178b7ee6e8a%29%0A%20%20%20%20%20%20%20%20%3B%0A%0A%20%20%20%20%20%20%20%20%0A%20%20%20%20%0A%20%20%20%20%0A%20%20%20%20%20%20%20%20%20%20%20%20marker_67b38ad68dea422c83487a0e48a8efb1.bindTooltip%28%0A%20%20%20%20%20%20%20%20%20%20%20%20%20%20%20%20%60%3Cdiv%3E%0A%20%20%20%20%20%20%20%20%20%20%20%20%20%20%20%20%20%20%20%20%20A%20empresa%20LOUISE%20ADMINISTRATIVOS%20%28CNPJ%2059442647000146%29%2C%20relacionada%20ao%20PEP%20BENJAMIM%20HOSCHITAKE%20OBERLEITENER%20DE%20MOLIMAROLI%2C%20recebeu%20R%24%20178798.02%0A%20%20%20%20%20%20%20%20%20%20%20%20%20%20%20%20%20%3C/div%3E%60%2C%0A%20%20%20%20%20%20%20%20%20%20%20%20%20%20%20%20%7B%22sticky%22%3A%20true%7D%0A%20%20%20%20%20%20%20%20%20%20%20%20%29%3B%0A%20%20%20%20%20%20%20%20%0A%20%20%20%20%0A%20%20%20%20%20%20%20%20%20%20%20%20var%20marker_fabb5bff93c441ba8b79a49e92a58b84%20%3D%20L.marker%28%0A%20%20%20%20%20%20%20%20%20%20%20%20%20%20%20%20%5B-21.888%2C%20-49.225%5D%2C%0A%20%20%20%20%20%20%20%20%20%20%20%20%20%20%20%20%7B%7D%0A%20%20%20%20%20%20%20%20%20%20%20%20%29.addTo%28map_cfd19d50440e4e359889414eb5531ff9%29%3B%0A%20%20%20%20%20%20%20%20%0A%20%20%20%20%0A%20%20%20%20%20%20%20%20%20%20%20%20var%20icon_826cfc052fbb485ca094f9e760068bd7%20%3D%20L.AwesomeMarkers.icon%28%0A%20%20%20%20%20%20%20%20%20%20%20%20%20%20%20%20%7B%22extraClasses%22%3A%20%22fa-rotate-0%22%2C%20%22icon%22%3A%20%22info-sign%22%2C%20%22iconColor%22%3A%20%22white%22%2C%20%22markerColor%22%3A%20%22red%22%2C%20%22prefix%22%3A%20%22glyphicon%22%7D%0A%20%20%20%20%20%20%20%20%20%20%20%20%29%3B%0A%20%20%20%20%20%20%20%20%20%20%20%20marker_fabb5bff93c441ba8b79a49e92a58b84.setIcon%28icon_826cfc052fbb485ca094f9e760068bd7%29%3B%0A%20%20%20%20%20%20%20%20%0A%20%20%20%20%0A%20%20%20%20%20%20%20%20var%20popup_bacf2c9fac324dce9b61ea012d8d0895%20%3D%20L.popup%28%7B%22maxWidth%22%3A%20%22100%25%22%7D%29%3B%0A%0A%20%20%20%20%20%20%20%20%0A%20%20%20%20%20%20%20%20%20%20%20%20var%20html_4c7f33609a464a8cac699311e8df9099%20%3D%20%24%28%60%3Cdiv%20id%3D%22html_4c7f33609a464a8cac699311e8df9099%22%20style%3D%22width%3A%20100.0%25%3B%20height%3A%20100.0%25%3B%22%3EA%20empresa%20MOMOKA%20ARTISTICAS%20LTDA%20%28CNPJ%2006273922000124%29%2C%20relacionada%20ao%20PEP%20GEOVANISA%20TERSINHA%20BERTASSONI%2C%20recebeu%20R%24%20175083.62%3C/div%3E%60%29%5B0%5D%3B%0A%20%20%20%20%20%20%20%20%20%20%20%20popup_bacf2c9fac324dce9b61ea012d8d0895.setContent%28html_4c7f33609a464a8cac699311e8df9099%29%3B%0A%20%20%20%20%20%20%20%20%0A%0A%20%20%20%20%20%20%20%20marker_fabb5bff93c441ba8b79a49e92a58b84.bindPopup%28popup_bacf2c9fac324dce9b61ea012d8d0895%29%0A%20%20%20%20%20%20%20%20%3B%0A%0A%20%20%20%20%20%20%20%20%0A%20%20%20%20%0A%20%20%20%20%0A%20%20%20%20%20%20%20%20%20%20%20%20marker_fabb5bff93c441ba8b79a49e92a58b84.bindTooltip%28%0A%20%20%20%20%20%20%20%20%20%20%20%20%20%20%20%20%60%3Cdiv%3E%0A%20%20%20%20%20%20%20%20%20%20%20%20%20%20%20%20%20%20%20%20%20A%20empresa%20MOMOKA%20ARTISTICAS%20LTDA%20%28CNPJ%2006273922000124%29%2C%20relacionada%20ao%20PEP%20GEOVANISA%20TERSINHA%20BERTASSONI%2C%20recebeu%20R%24%20175083.62%0A%20%20%20%20%20%20%20%20%20%20%20%20%20%20%20%20%20%3C/div%3E%60%2C%0A%20%20%20%20%20%20%20%20%20%20%20%20%20%20%20%20%7B%22sticky%22%3A%20true%7D%0A%20%20%20%20%20%20%20%20%20%20%20%20%29%3B%0A%20%20%20%20%20%20%20%20%0A%20%20%20%20%0A%20%20%20%20%20%20%20%20%20%20%20%20var%20marker_61171d2b34a24dfa9c2816dff2dfdce8%20%3D%20L.marker%28%0A%20%20%20%20%20%20%20%20%20%20%20%20%20%20%20%20%5B-23.523000000000003%2C%20-46.836000000000006%5D%2C%0A%20%20%20%20%20%20%20%20%20%20%20%20%20%20%20%20%7B%7D%0A%20%20%20%20%20%20%20%20%20%20%20%20%29.addTo%28map_cfd19d50440e4e359889414eb5531ff9%29%3B%0A%20%20%20%20%20%20%20%20%0A%20%20%20%20%0A%20%20%20%20%20%20%20%20%20%20%20%20var%20icon_fc70225512524d3cb4337b9b0721a686%20%3D%20L.AwesomeMarkers.icon%28%0A%20%20%20%20%20%20%20%20%20%20%20%20%20%20%20%20%7B%22extraClasses%22%3A%20%22fa-rotate-0%22%2C%20%22icon%22%3A%20%22info-sign%22%2C%20%22iconColor%22%3A%20%22white%22%2C%20%22markerColor%22%3A%20%22red%22%2C%20%22prefix%22%3A%20%22glyphicon%22%7D%0A%20%20%20%20%20%20%20%20%20%20%20%20%29%3B%0A%20%20%20%20%20%20%20%20%20%20%20%20marker_61171d2b34a24dfa9c2816dff2dfdce8.setIcon%28icon_fc70225512524d3cb4337b9b0721a686%29%3B%0A%20%20%20%20%20%20%20%20%0A%20%20%20%20%0A%20%20%20%20%20%20%20%20var%20popup_bc394766b15f41b7928d8df313d2411b%20%3D%20L.popup%28%7B%22maxWidth%22%3A%20%22100%25%22%7D%29%3B%0A%0A%20%20%20%20%20%20%20%20%0A%20%20%20%20%20%20%20%20%20%20%20%20var%20html_b8e2fec7578c40b2b8b6f7ae6add0d08%20%3D%20%24%28%60%3Cdiv%20id%3D%22html_b8e2fec7578c40b2b8b6f7ae6add0d08%22%20style%3D%22width%3A%20100.0%25%3B%20height%3A%20100.0%25%3B%22%3EA%20empresa%20JOAO%20LUCAS%20ELETRONICOS%20SA%20%28CNPJ%2010240793000137%29%2C%20relacionada%20ao%20PEP%20CAUME%20UNAIDE%20ABASILIA%20PHREDERICO%20ZIELAK%2C%20recebeu%20R%24%20147613.61%3C/div%3E%60%29%5B0%5D%3B%0A%20%20%20%20%20%20%20%20%20%20%20%20popup_bc394766b15f41b7928d8df313d2411b.setContent%28html_b8e2fec7578c40b2b8b6f7ae6add0d08%29%3B%0A%20%20%20%20%20%20%20%20%0A%0A%20%20%20%20%20%20%20%20marker_61171d2b34a24dfa9c2816dff2dfdce8.bindPopup%28popup_bc394766b15f41b7928d8df313d2411b%29%0A%20%20%20%20%20%20%20%20%3B%0A%0A%20%20%20%20%20%20%20%20%0A%20%20%20%20%0A%20%20%20%20%0A%20%20%20%20%20%20%20%20%20%20%20%20marker_61171d2b34a24dfa9c2816dff2dfdce8.bindTooltip%28%0A%20%20%20%20%20%20%20%20%20%20%20%20%20%20%20%20%60%3Cdiv%3E%0A%20%20%20%20%20%20%20%20%20%20%20%20%20%20%20%20%20%20%20%20%20A%20empresa%20JOAO%20LUCAS%20ELETRONICOS%20SA%20%28CNPJ%2010240793000137%29%2C%20relacionada%20ao%20PEP%20CAUME%20UNAIDE%20ABASILIA%20PHREDERICO%20ZIELAK%2C%20recebeu%20R%24%20147613.61%0A%20%20%20%20%20%20%20%20%20%20%20%20%20%20%20%20%20%3C/div%3E%60%2C%0A%20%20%20%20%20%20%20%20%20%20%20%20%20%20%20%20%7B%22sticky%22%3A%20true%7D%0A%20%20%20%20%20%20%20%20%20%20%20%20%29%3B%0A%20%20%20%20%20%20%20%20%0A%20%20%20%20%0A%20%20%20%20%20%20%20%20%20%20%20%20var%20marker_6d705847b7564dc28c7f0693036a8547%20%3D%20L.marker%28%0A%20%20%20%20%20%20%20%20%20%20%20%20%20%20%20%20%5B-22.291999999999998%2C%20-51.906000000000006%5D%2C%0A%20%20%20%20%20%20%20%20%20%20%20%20%20%20%20%20%7B%7D%0A%20%20%20%20%20%20%20%20%20%20%20%20%29.addTo%28map_cfd19d50440e4e359889414eb5531ff9%29%3B%0A%20%20%20%20%20%20%20%20%0A%20%20%20%20%0A%20%20%20%20%20%20%20%20%20%20%20%20var%20icon_f563e7ffabe94d92b9491a0b36af4b21%20%3D%20L.AwesomeMarkers.icon%28%0A%20%20%20%20%20%20%20%20%20%20%20%20%20%20%20%20%7B%22extraClasses%22%3A%20%22fa-rotate-0%22%2C%20%22icon%22%3A%20%22info-sign%22%2C%20%22iconColor%22%3A%20%22white%22%2C%20%22markerColor%22%3A%20%22red%22%2C%20%22prefix%22%3A%20%22glyphicon%22%7D%0A%20%20%20%20%20%20%20%20%20%20%20%20%29%3B%0A%20%20%20%20%20%20%20%20%20%20%20%20marker_6d705847b7564dc28c7f0693036a8547.setIcon%28icon_f563e7ffabe94d92b9491a0b36af4b21%29%3B%0A%20%20%20%20%20%20%20%20%0A%20%20%20%20%0A%20%20%20%20%20%20%20%20var%20popup_95634909269e47cbb364fc77fe1cc295%20%3D%20L.popup%28%7B%22maxWidth%22%3A%20%22100%25%22%7D%29%3B%0A%0A%20%20%20%20%20%20%20%20%0A%20%20%20%20%20%20%20%20%20%20%20%20var%20html_f9821f82ba494396b037d631504a68ed%20%3D%20%24%28%60%3Cdiv%20id%3D%22html_f9821f82ba494396b037d631504a68ed%22%20style%3D%22width%3A%20100.0%25%3B%20height%3A%20100.0%25%3B%22%3EA%20empresa%20IZAN%20INDUSTRIAL%20%28CNPJ%2049057710000187%29%2C%20relacionada%20ao%20PEP%20RADANOVIC%20ASCENCIANO%2C%20recebeu%20R%24%20137730.11%3C/div%3E%60%29%5B0%5D%3B%0A%20%20%20%20%20%20%20%20%20%20%20%20popup_95634909269e47cbb364fc77fe1cc295.setContent%28html_f9821f82ba494396b037d631504a68ed%29%3B%0A%20%20%20%20%20%20%20%20%0A%0A%20%20%20%20%20%20%20%20marker_6d705847b7564dc28c7f0693036a8547.bindPopup%28popup_95634909269e47cbb364fc77fe1cc295%29%0A%20%20%20%20%20%20%20%20%3B%0A%0A%20%20%20%20%20%20%20%20%0A%20%20%20%20%0A%20%20%20%20%0A%20%20%20%20%20%20%20%20%20%20%20%20marker_6d705847b7564dc28c7f0693036a8547.bindTooltip%28%0A%20%20%20%20%20%20%20%20%20%20%20%20%20%20%20%20%60%3Cdiv%3E%0A%20%20%20%20%20%20%20%20%20%20%20%20%20%20%20%20%20%20%20%20%20A%20empresa%20IZAN%20INDUSTRIAL%20%28CNPJ%2049057710000187%29%2C%20relacionada%20ao%20PEP%20RADANOVIC%20ASCENCIANO%2C%20recebeu%20R%24%20137730.11%0A%20%20%20%20%20%20%20%20%20%20%20%20%20%20%20%20%20%3C/div%3E%60%2C%0A%20%20%20%20%20%20%20%20%20%20%20%20%20%20%20%20%7B%22sticky%22%3A%20true%7D%0A%20%20%20%20%20%20%20%20%20%20%20%20%29%3B%0A%20%20%20%20%20%20%20%20%0A%20%20%20%20%0A%20%20%20%20%20%20%20%20%20%20%20%20var%20marker_0f8cdeb0e90049a1a05fe74c1a766066%20%3D%20L.marker%28%0A%20%20%20%20%20%20%20%20%20%20%20%20%20%20%20%20%5B-23.373%2C%20-48.184%5D%2C%0A%20%20%20%20%20%20%20%20%20%20%20%20%20%20%20%20%7B%7D%0A%20%20%20%20%20%20%20%20%20%20%20%20%29.addTo%28map_cfd19d50440e4e359889414eb5531ff9%29%3B%0A%20%20%20%20%20%20%20%20%0A%20%20%20%20%0A%20%20%20%20%20%20%20%20%20%20%20%20var%20icon_7222567bf2ea4e7880e626a498b0607d%20%3D%20L.AwesomeMarkers.icon%28%0A%20%20%20%20%20%20%20%20%20%20%20%20%20%20%20%20%7B%22extraClasses%22%3A%20%22fa-rotate-0%22%2C%20%22icon%22%3A%20%22info-sign%22%2C%20%22iconColor%22%3A%20%22white%22%2C%20%22markerColor%22%3A%20%22red%22%2C%20%22prefix%22%3A%20%22glyphicon%22%7D%0A%20%20%20%20%20%20%20%20%20%20%20%20%29%3B%0A%20%20%20%20%20%20%20%20%20%20%20%20marker_0f8cdeb0e90049a1a05fe74c1a766066.setIcon%28icon_7222567bf2ea4e7880e626a498b0607d%29%3B%0A%20%20%20%20%20%20%20%20%0A%20%20%20%20%0A%20%20%20%20%20%20%20%20var%20popup_241e40e387a14d1c93dd4fe96683d0fd%20%3D%20L.popup%28%7B%22maxWidth%22%3A%20%22100%25%22%7D%29%3B%0A%0A%20%20%20%20%20%20%20%20%0A%20%20%20%20%20%20%20%20%20%20%20%20var%20html_60366f8a8b204593946ed4420d467d0e%20%3D%20%24%28%60%3Cdiv%20id%3D%22html_60366f8a8b204593946ed4420d467d0e%22%20style%3D%22width%3A%20100.0%25%3B%20height%3A%20100.0%25%3B%22%3EA%20empresa%20MOMOKA%20ARTISTICAS%20LTDA%20%28CNPJ%2006273922000124%29%2C%20relacionada%20ao%20PEP%20GEOVANISA%20TERSINHA%20BERTASSONI%2C%20recebeu%20R%24%20139626.42%3C/div%3E%60%29%5B0%5D%3B%0A%20%20%20%20%20%20%20%20%20%20%20%20popup_241e40e387a14d1c93dd4fe96683d0fd.setContent%28html_60366f8a8b204593946ed4420d467d0e%29%3B%0A%20%20%20%20%20%20%20%20%0A%0A%20%20%20%20%20%20%20%20marker_0f8cdeb0e90049a1a05fe74c1a766066.bindPopup%28popup_241e40e387a14d1c93dd4fe96683d0fd%29%0A%20%20%20%20%20%20%20%20%3B%0A%0A%20%20%20%20%20%20%20%20%0A%20%20%20%20%0A%20%20%20%20%0A%20%20%20%20%20%20%20%20%20%20%20%20marker_0f8cdeb0e90049a1a05fe74c1a766066.bindTooltip%28%0A%20%20%20%20%20%20%20%20%20%20%20%20%20%20%20%20%60%3Cdiv%3E%0A%20%20%20%20%20%20%20%20%20%20%20%20%20%20%20%20%20%20%20%20%20A%20empresa%20MOMOKA%20ARTISTICAS%20LTDA%20%28CNPJ%2006273922000124%29%2C%20relacionada%20ao%20PEP%20GEOVANISA%20TERSINHA%20BERTASSONI%2C%20recebeu%20R%24%20139626.42%0A%20%20%20%20%20%20%20%20%20%20%20%20%20%20%20%20%20%3C/div%3E%60%2C%0A%20%20%20%20%20%20%20%20%20%20%20%20%20%20%20%20%7B%22sticky%22%3A%20true%7D%0A%20%20%20%20%20%20%20%20%20%20%20%20%29%3B%0A%20%20%20%20%20%20%20%20%0A%20%20%20%20%0A%20%20%20%20%20%20%20%20%20%20%20%20var%20marker_13681481143c405f9462b071a270c678%20%3D%20L.marker%28%0A%20%20%20%20%20%20%20%20%20%20%20%20%20%20%20%20%5B-23.201%2C%20-47.287%5D%2C%0A%20%20%20%20%20%20%20%20%20%20%20%20%20%20%20%20%7B%7D%0A%20%20%20%20%20%20%20%20%20%20%20%20%29.addTo%28map_cfd19d50440e4e359889414eb5531ff9%29%3B%0A%20%20%20%20%20%20%20%20%0A%20%20%20%20%0A%20%20%20%20%20%20%20%20%20%20%20%20var%20icon_27129cd6aa3541d69bce5df8b07b4a67%20%3D%20L.AwesomeMarkers.icon%28%0A%20%20%20%20%20%20%20%20%20%20%20%20%20%20%20%20%7B%22extraClasses%22%3A%20%22fa-rotate-0%22%2C%20%22icon%22%3A%20%22info-sign%22%2C%20%22iconColor%22%3A%20%22white%22%2C%20%22markerColor%22%3A%20%22red%22%2C%20%22prefix%22%3A%20%22glyphicon%22%7D%0A%20%20%20%20%20%20%20%20%20%20%20%20%29%3B%0A%20%20%20%20%20%20%20%20%20%20%20%20marker_13681481143c405f9462b071a270c678.setIcon%28icon_27129cd6aa3541d69bce5df8b07b4a67%29%3B%0A%20%20%20%20%20%20%20%20%0A%20%20%20%20%0A%20%20%20%20%20%20%20%20var%20popup_c18edfa7fa2a451b8ac6f80f70730666%20%3D%20L.popup%28%7B%22maxWidth%22%3A%20%22100%25%22%7D%29%3B%0A%0A%20%20%20%20%20%20%20%20%0A%20%20%20%20%20%20%20%20%20%20%20%20var%20html_81eaba70c9094ab89ff13e5c55db993f%20%3D%20%24%28%60%3Cdiv%20id%3D%22html_81eaba70c9094ab89ff13e5c55db993f%22%20style%3D%22width%3A%20100.0%25%3B%20height%3A%20100.0%25%3B%22%3EA%20empresa%20MARIUS%20CONTABIL%20EIRELLI%20%28CNPJ%2008262075000137%29%2C%20relacionada%20ao%20PEP%20GOSSON%20LEGNANNE%20GONDOREK%2C%20recebeu%20R%24%20135193.38%3C/div%3E%60%29%5B0%5D%3B%0A%20%20%20%20%20%20%20%20%20%20%20%20popup_c18edfa7fa2a451b8ac6f80f70730666.setContent%28html_81eaba70c9094ab89ff13e5c55db993f%29%3B%0A%20%20%20%20%20%20%20%20%0A%0A%20%20%20%20%20%20%20%20marker_13681481143c405f9462b071a270c678.bindPopup%28popup_c18edfa7fa2a451b8ac6f80f70730666%29%0A%20%20%20%20%20%20%20%20%3B%0A%0A%20%20%20%20%20%20%20%20%0A%20%20%20%20%0A%20%20%20%20%0A%20%20%20%20%20%20%20%20%20%20%20%20marker_13681481143c405f9462b071a270c678.bindTooltip%28%0A%20%20%20%20%20%20%20%20%20%20%20%20%20%20%20%20%60%3Cdiv%3E%0A%20%20%20%20%20%20%20%20%20%20%20%20%20%20%20%20%20%20%20%20%20A%20empresa%20MARIUS%20CONTABIL%20EIRELLI%20%28CNPJ%2008262075000137%29%2C%20relacionada%20ao%20PEP%20GOSSON%20LEGNANNE%20GONDOREK%2C%20recebeu%20R%24%20135193.38%0A%20%20%20%20%20%20%20%20%20%20%20%20%20%20%20%20%20%3C/div%3E%60%2C%0A%20%20%20%20%20%20%20%20%20%20%20%20%20%20%20%20%7B%22sticky%22%3A%20true%7D%0A%20%20%20%20%20%20%20%20%20%20%20%20%29%3B%0A%20%20%20%20%20%20%20%20%0A%20%20%20%20%0A%20%20%20%20%20%20%20%20%20%20%20%20var%20marker_a63b1d1e63ba437a805cd89530122fcb%20%3D%20L.marker%28%0A%20%20%20%20%20%20%20%20%20%20%20%20%20%20%20%20%5B-22.303%2C%20-51.559%5D%2C%0A%20%20%20%20%20%20%20%20%20%20%20%20%20%20%20%20%7B%7D%0A%20%20%20%20%20%20%20%20%20%20%20%20%29.addTo%28map_cfd19d50440e4e359889414eb5531ff9%29%3B%0A%20%20%20%20%20%20%20%20%0A%20%20%20%20%0A%20%20%20%20%20%20%20%20%20%20%20%20var%20icon_ae4471b3cd574dc4976966e3eb11673d%20%3D%20L.AwesomeMarkers.icon%28%0A%20%20%20%20%20%20%20%20%20%20%20%20%20%20%20%20%7B%22extraClasses%22%3A%20%22fa-rotate-0%22%2C%20%22icon%22%3A%20%22info-sign%22%2C%20%22iconColor%22%3A%20%22white%22%2C%20%22markerColor%22%3A%20%22red%22%2C%20%22prefix%22%3A%20%22glyphicon%22%7D%0A%20%20%20%20%20%20%20%20%20%20%20%20%29%3B%0A%20%20%20%20%20%20%20%20%20%20%20%20marker_a63b1d1e63ba437a805cd89530122fcb.setIcon%28icon_ae4471b3cd574dc4976966e3eb11673d%29%3B%0A%20%20%20%20%20%20%20%20%0A%20%20%20%20%0A%20%20%20%20%20%20%20%20var%20popup_45baabb9114d43f0915bea17ec55f103%20%3D%20L.popup%28%7B%22maxWidth%22%3A%20%22100%25%22%7D%29%3B%0A%0A%20%20%20%20%20%20%20%20%0A%20%20%20%20%20%20%20%20%20%20%20%20var%20html_6505f042043e48a9b85a9ea2d01dc5c9%20%3D%20%24%28%60%3Cdiv%20id%3D%22html_6505f042043e48a9b85a9ea2d01dc5c9%22%20style%3D%22width%3A%20100.0%25%3B%20height%3A%20100.0%25%3B%22%3EA%20empresa%20JOAO%20LUCAS%20ELETRONICOS%20SA%20%28CNPJ%2010240793000137%29%2C%20relacionada%20ao%20PEP%20CAUME%20UNAIDE%20ABASILIA%20PHREDERICO%20ZIELAK%2C%20recebeu%20R%24%20140473.55%3C/div%3E%60%29%5B0%5D%3B%0A%20%20%20%20%20%20%20%20%20%20%20%20popup_45baabb9114d43f0915bea17ec55f103.setContent%28html_6505f042043e48a9b85a9ea2d01dc5c9%29%3B%0A%20%20%20%20%20%20%20%20%0A%0A%20%20%20%20%20%20%20%20marker_a63b1d1e63ba437a805cd89530122fcb.bindPopup%28popup_45baabb9114d43f0915bea17ec55f103%29%0A%20%20%20%20%20%20%20%20%3B%0A%0A%20%20%20%20%20%20%20%20%0A%20%20%20%20%0A%20%20%20%20%0A%20%20%20%20%20%20%20%20%20%20%20%20marker_a63b1d1e63ba437a805cd89530122fcb.bindTooltip%28%0A%20%20%20%20%20%20%20%20%20%20%20%20%20%20%20%20%60%3Cdiv%3E%0A%20%20%20%20%20%20%20%20%20%20%20%20%20%20%20%20%20%20%20%20%20A%20empresa%20JOAO%20LUCAS%20ELETRONICOS%20SA%20%28CNPJ%2010240793000137%29%2C%20relacionada%20ao%20PEP%20CAUME%20UNAIDE%20ABASILIA%20PHREDERICO%20ZIELAK%2C%20recebeu%20R%24%20140473.55%0A%20%20%20%20%20%20%20%20%20%20%20%20%20%20%20%20%20%3C/div%3E%60%2C%0A%20%20%20%20%20%20%20%20%20%20%20%20%20%20%20%20%7B%22sticky%22%3A%20true%7D%0A%20%20%20%20%20%20%20%20%20%20%20%20%29%3B%0A%20%20%20%20%20%20%20%20%0A%20%20%20%20%0A%20%20%20%20%20%20%20%20%20%20%20%20var%20marker_88b1c6ff630947f59358c5fe20e28362%20%3D%20L.marker%28%0A%20%20%20%20%20%20%20%20%20%20%20%20%20%20%20%20%5B-20.032%2C%20-50.728%5D%2C%0A%20%20%20%20%20%20%20%20%20%20%20%20%20%20%20%20%7B%7D%0A%20%20%20%20%20%20%20%20%20%20%20%20%29.addTo%28map_cfd19d50440e4e359889414eb5531ff9%29%3B%0A%20%20%20%20%20%20%20%20%0A%20%20%20%20%0A%20%20%20%20%20%20%20%20%20%20%20%20var%20icon_960b53a6bb3644fd9614149a7160c910%20%3D%20L.AwesomeMarkers.icon%28%0A%20%20%20%20%20%20%20%20%20%20%20%20%20%20%20%20%7B%22extraClasses%22%3A%20%22fa-rotate-0%22%2C%20%22icon%22%3A%20%22info-sign%22%2C%20%22iconColor%22%3A%20%22white%22%2C%20%22markerColor%22%3A%20%22red%22%2C%20%22prefix%22%3A%20%22glyphicon%22%7D%0A%20%20%20%20%20%20%20%20%20%20%20%20%29%3B%0A%20%20%20%20%20%20%20%20%20%20%20%20marker_88b1c6ff630947f59358c5fe20e28362.setIcon%28icon_960b53a6bb3644fd9614149a7160c910%29%3B%0A%20%20%20%20%20%20%20%20%0A%20%20%20%20%0A%20%20%20%20%20%20%20%20var%20popup_c835856afd3e442984c462bcef7d58bf%20%3D%20L.popup%28%7B%22maxWidth%22%3A%20%22100%25%22%7D%29%3B%0A%0A%20%20%20%20%20%20%20%20%0A%20%20%20%20%20%20%20%20%20%20%20%20var%20html_4dff49a5774c4691ad53bf010f1a2881%20%3D%20%24%28%60%3Cdiv%20id%3D%22html_4dff49a5774c4691ad53bf010f1a2881%22%20style%3D%22width%3A%20100.0%25%3B%20height%3A%20100.0%25%3B%22%3EA%20empresa%20MOMOKA%20ARTISTICAS%20LTDA%20%28CNPJ%2006273922000124%29%2C%20relacionada%20ao%20PEP%20GEOVANISA%20TERSINHA%20BERTASSONI%2C%20recebeu%20R%24%20141497.58%3C/div%3E%60%29%5B0%5D%3B%0A%20%20%20%20%20%20%20%20%20%20%20%20popup_c835856afd3e442984c462bcef7d58bf.setContent%28html_4dff49a5774c4691ad53bf010f1a2881%29%3B%0A%20%20%20%20%20%20%20%20%0A%0A%20%20%20%20%20%20%20%20marker_88b1c6ff630947f59358c5fe20e28362.bindPopup%28popup_c835856afd3e442984c462bcef7d58bf%29%0A%20%20%20%20%20%20%20%20%3B%0A%0A%20%20%20%20%20%20%20%20%0A%20%20%20%20%0A%20%20%20%20%0A%20%20%20%20%20%20%20%20%20%20%20%20marker_88b1c6ff630947f59358c5fe20e28362.bindTooltip%28%0A%20%20%20%20%20%20%20%20%20%20%20%20%20%20%20%20%60%3Cdiv%3E%0A%20%20%20%20%20%20%20%20%20%20%20%20%20%20%20%20%20%20%20%20%20A%20empresa%20MOMOKA%20ARTISTICAS%20LTDA%20%28CNPJ%2006273922000124%29%2C%20relacionada%20ao%20PEP%20GEOVANISA%20TERSINHA%20BERTASSONI%2C%20recebeu%20R%24%20141497.58%0A%20%20%20%20%20%20%20%20%20%20%20%20%20%20%20%20%20%3C/div%3E%60%2C%0A%20%20%20%20%20%20%20%20%20%20%20%20%20%20%20%20%7B%22sticky%22%3A%20true%7D%0A%20%20%20%20%20%20%20%20%20%20%20%20%29%3B%0A%20%20%20%20%20%20%20%20%0A%20%20%20%20%0A%20%20%20%20%20%20%20%20%20%20%20%20var%20marker_6f5dc126673f4f8ab8f9a6f0cfffd849%20%3D%20L.marker%28%0A%20%20%20%20%20%20%20%20%20%20%20%20%20%20%20%20%5B-21.483%2C%20-51.533%5D%2C%0A%20%20%20%20%20%20%20%20%20%20%20%20%20%20%20%20%7B%7D%0A%20%20%20%20%20%20%20%20%20%20%20%20%29.addTo%28map_cfd19d50440e4e359889414eb5531ff9%29%3B%0A%20%20%20%20%20%20%20%20%0A%20%20%20%20%0A%20%20%20%20%20%20%20%20%20%20%20%20var%20icon_594916ec2b2745ae94f04b70d4fddb16%20%3D%20L.AwesomeMarkers.icon%28%0A%20%20%20%20%20%20%20%20%20%20%20%20%20%20%20%20%7B%22extraClasses%22%3A%20%22fa-rotate-0%22%2C%20%22icon%22%3A%20%22info-sign%22%2C%20%22iconColor%22%3A%20%22white%22%2C%20%22markerColor%22%3A%20%22red%22%2C%20%22prefix%22%3A%20%22glyphicon%22%7D%0A%20%20%20%20%20%20%20%20%20%20%20%20%29%3B%0A%20%20%20%20%20%20%20%20%20%20%20%20marker_6f5dc126673f4f8ab8f9a6f0cfffd849.setIcon%28icon_594916ec2b2745ae94f04b70d4fddb16%29%3B%0A%20%20%20%20%20%20%20%20%0A%20%20%20%20%0A%20%20%20%20%20%20%20%20var%20popup_f89aeaa2721145099876da6433d67f9f%20%3D%20L.popup%28%7B%22maxWidth%22%3A%20%22100%25%22%7D%29%3B%0A%0A%20%20%20%20%20%20%20%20%0A%20%20%20%20%20%20%20%20%20%20%20%20var%20html_2ea805f8d5964fc198394e27b6b9f9ca%20%3D%20%24%28%60%3Cdiv%20id%3D%22html_2ea805f8d5964fc198394e27b6b9f9ca%22%20style%3D%22width%3A%20100.0%25%3B%20height%3A%20100.0%25%3B%22%3EA%20empresa%20JOAO%20LUCAS%20ELETRONICOS%20SA%20%28CNPJ%2010240793000137%29%2C%20relacionada%20ao%20PEP%20CAUME%20UNAIDE%20ABASILIA%20PHREDERICO%20ZIELAK%2C%20recebeu%20R%24%20135392.02%3C/div%3E%60%29%5B0%5D%3B%0A%20%20%20%20%20%20%20%20%20%20%20%20popup_f89aeaa2721145099876da6433d67f9f.setContent%28html_2ea805f8d5964fc198394e27b6b9f9ca%29%3B%0A%20%20%20%20%20%20%20%20%0A%0A%20%20%20%20%20%20%20%20marker_6f5dc126673f4f8ab8f9a6f0cfffd849.bindPopup%28popup_f89aeaa2721145099876da6433d67f9f%29%0A%20%20%20%20%20%20%20%20%3B%0A%0A%20%20%20%20%20%20%20%20%0A%20%20%20%20%0A%20%20%20%20%0A%20%20%20%20%20%20%20%20%20%20%20%20marker_6f5dc126673f4f8ab8f9a6f0cfffd849.bindTooltip%28%0A%20%20%20%20%20%20%20%20%20%20%20%20%20%20%20%20%60%3Cdiv%3E%0A%20%20%20%20%20%20%20%20%20%20%20%20%20%20%20%20%20%20%20%20%20A%20empresa%20JOAO%20LUCAS%20ELETRONICOS%20SA%20%28CNPJ%2010240793000137%29%2C%20relacionada%20ao%20PEP%20CAUME%20UNAIDE%20ABASILIA%20PHREDERICO%20ZIELAK%2C%20recebeu%20R%24%20135392.02%0A%20%20%20%20%20%20%20%20%20%20%20%20%20%20%20%20%20%3C/div%3E%60%2C%0A%20%20%20%20%20%20%20%20%20%20%20%20%20%20%20%20%7B%22sticky%22%3A%20true%7D%0A%20%20%20%20%20%20%20%20%20%20%20%20%29%3B%0A%20%20%20%20%20%20%20%20%0A%20%20%20%20%0A%20%20%20%20%20%20%20%20%20%20%20%20var%20marker_d252c6ac58834938ace5e4f9b8f53447%20%3D%20L.marker%28%0A%20%20%20%20%20%20%20%20%20%20%20%20%20%20%20%20%5B-21.468000000000004%2C%20-47.005%5D%2C%0A%20%20%20%20%20%20%20%20%20%20%20%20%20%20%20%20%7B%7D%0A%20%20%20%20%20%20%20%20%20%20%20%20%29.addTo%28map_cfd19d50440e4e359889414eb5531ff9%29%3B%0A%20%20%20%20%20%20%20%20%0A%20%20%20%20%0A%20%20%20%20%20%20%20%20%20%20%20%20var%20icon_1ba7e8411563477b85d096e6f53a8d21%20%3D%20L.AwesomeMarkers.icon%28%0A%20%20%20%20%20%20%20%20%20%20%20%20%20%20%20%20%7B%22extraClasses%22%3A%20%22fa-rotate-0%22%2C%20%22icon%22%3A%20%22info-sign%22%2C%20%22iconColor%22%3A%20%22white%22%2C%20%22markerColor%22%3A%20%22red%22%2C%20%22prefix%22%3A%20%22glyphicon%22%7D%0A%20%20%20%20%20%20%20%20%20%20%20%20%29%3B%0A%20%20%20%20%20%20%20%20%20%20%20%20marker_d252c6ac58834938ace5e4f9b8f53447.setIcon%28icon_1ba7e8411563477b85d096e6f53a8d21%29%3B%0A%20%20%20%20%20%20%20%20%0A%20%20%20%20%0A%20%20%20%20%20%20%20%20var%20popup_56b8081b74bd43fcb65dca91244c8e07%20%3D%20L.popup%28%7B%22maxWidth%22%3A%20%22100%25%22%7D%29%3B%0A%0A%20%20%20%20%20%20%20%20%0A%20%20%20%20%20%20%20%20%20%20%20%20var%20html_b2a06a576c3a49538a424f0acfc17603%20%3D%20%24%28%60%3Cdiv%20id%3D%22html_b2a06a576c3a49538a424f0acfc17603%22%20style%3D%22width%3A%20100.0%25%3B%20height%3A%20100.0%25%3B%22%3EA%20empresa%20MOMOKA%20ARTISTICAS%20LTDA%20%28CNPJ%2006273922000124%29%2C%20relacionada%20ao%20PEP%20GEOVANISA%20TERSINHA%20BERTASSONI%2C%20recebeu%20R%24%20126743.63%3C/div%3E%60%29%5B0%5D%3B%0A%20%20%20%20%20%20%20%20%20%20%20%20popup_56b8081b74bd43fcb65dca91244c8e07.setContent%28html_b2a06a576c3a49538a424f0acfc17603%29%3B%0A%20%20%20%20%20%20%20%20%0A%0A%20%20%20%20%20%20%20%20marker_d252c6ac58834938ace5e4f9b8f53447.bindPopup%28popup_56b8081b74bd43fcb65dca91244c8e07%29%0A%20%20%20%20%20%20%20%20%3B%0A%0A%20%20%20%20%20%20%20%20%0A%20%20%20%20%0A%20%20%20%20%0A%20%20%20%20%20%20%20%20%20%20%20%20marker_d252c6ac58834938ace5e4f9b8f53447.bindTooltip%28%0A%20%20%20%20%20%20%20%20%20%20%20%20%20%20%20%20%60%3Cdiv%3E%0A%20%20%20%20%20%20%20%20%20%20%20%20%20%20%20%20%20%20%20%20%20A%20empresa%20MOMOKA%20ARTISTICAS%20LTDA%20%28CNPJ%2006273922000124%29%2C%20relacionada%20ao%20PEP%20GEOVANISA%20TERSINHA%20BERTASSONI%2C%20recebeu%20R%24%20126743.63%0A%20%20%20%20%20%20%20%20%20%20%20%20%20%20%20%20%20%3C/div%3E%60%2C%0A%20%20%20%20%20%20%20%20%20%20%20%20%20%20%20%20%7B%22sticky%22%3A%20true%7D%0A%20%20%20%20%20%20%20%20%20%20%20%20%29%3B%0A%20%20%20%20%20%20%20%20%0A%20%20%20%20%0A%20%20%20%20%20%20%20%20%20%20%20%20var%20marker_a226de21ccaa4c1d86b66b8244db1001%20%3D%20L.marker%28%0A%20%20%20%20%20%20%20%20%20%20%20%20%20%20%20%20%5B-24.509%2C%20-48.843%5D%2C%0A%20%20%20%20%20%20%20%20%20%20%20%20%20%20%20%20%7B%7D%0A%20%20%20%20%20%20%20%20%20%20%20%20%29.addTo%28map_cfd19d50440e4e359889414eb5531ff9%29%3B%0A%20%20%20%20%20%20%20%20%0A%20%20%20%20%0A%20%20%20%20%20%20%20%20%20%20%20%20var%20icon_d49e5a53944f45f99e2693f603e9f6db%20%3D%20L.AwesomeMarkers.icon%28%0A%20%20%20%20%20%20%20%20%20%20%20%20%20%20%20%20%7B%22extraClasses%22%3A%20%22fa-rotate-0%22%2C%20%22icon%22%3A%20%22info-sign%22%2C%20%22iconColor%22%3A%20%22white%22%2C%20%22markerColor%22%3A%20%22red%22%2C%20%22prefix%22%3A%20%22glyphicon%22%7D%0A%20%20%20%20%20%20%20%20%20%20%20%20%29%3B%0A%20%20%20%20%20%20%20%20%20%20%20%20marker_a226de21ccaa4c1d86b66b8244db1001.setIcon%28icon_d49e5a53944f45f99e2693f603e9f6db%29%3B%0A%20%20%20%20%20%20%20%20%0A%20%20%20%20%0A%20%20%20%20%20%20%20%20var%20popup_00295fff0f5f4cd2973df9b06f6f155c%20%3D%20L.popup%28%7B%22maxWidth%22%3A%20%22100%25%22%7D%29%3B%0A%0A%20%20%20%20%20%20%20%20%0A%20%20%20%20%20%20%20%20%20%20%20%20var%20html_61f9fcd74c4848f8bc54e591aab1603a%20%3D%20%24%28%60%3Cdiv%20id%3D%22html_61f9fcd74c4848f8bc54e591aab1603a%22%20style%3D%22width%3A%20100.0%25%3B%20height%3A%20100.0%25%3B%22%3EA%20empresa%20IBAI%20VESTUARIO%20%28CNPJ%2049524688000199%29%2C%20relacionada%20ao%20PEP%20JAIME%20BONAVOGLIA%20DA%20TEVEIRA%2C%20recebeu%20R%24%20120062.11%3C/div%3E%60%29%5B0%5D%3B%0A%20%20%20%20%20%20%20%20%20%20%20%20popup_00295fff0f5f4cd2973df9b06f6f155c.setContent%28html_61f9fcd74c4848f8bc54e591aab1603a%29%3B%0A%20%20%20%20%20%20%20%20%0A%0A%20%20%20%20%20%20%20%20marker_a226de21ccaa4c1d86b66b8244db1001.bindPopup%28popup_00295fff0f5f4cd2973df9b06f6f155c%29%0A%20%20%20%20%20%20%20%20%3B%0A%0A%20%20%20%20%20%20%20%20%0A%20%20%20%20%0A%20%20%20%20%0A%20%20%20%20%20%20%20%20%20%20%20%20marker_a226de21ccaa4c1d86b66b8244db1001.bindTooltip%28%0A%20%20%20%20%20%20%20%20%20%20%20%20%20%20%20%20%60%3Cdiv%3E%0A%20%20%20%20%20%20%20%20%20%20%20%20%20%20%20%20%20%20%20%20%20A%20empresa%20IBAI%20VESTUARIO%20%28CNPJ%2049524688000199%29%2C%20relacionada%20ao%20PEP%20JAIME%20BONAVOGLIA%20DA%20TEVEIRA%2C%20recebeu%20R%24%20120062.11%0A%20%20%20%20%20%20%20%20%20%20%20%20%20%20%20%20%20%3C/div%3E%60%2C%0A%20%20%20%20%20%20%20%20%20%20%20%20%20%20%20%20%7B%22sticky%22%3A%20true%7D%0A%20%20%20%20%20%20%20%20%20%20%20%20%29%3B%0A%20%20%20%20%20%20%20%20%0A%20%20%20%20%0A%20%20%20%20%20%20%20%20%20%20%20%20var%20marker_7fcb21f203ca4edabba0ad168dcdc4e2%20%3D%20L.marker%28%0A%20%20%20%20%20%20%20%20%20%20%20%20%20%20%20%20%5B-24.509%2C%20-48.843%5D%2C%0A%20%20%20%20%20%20%20%20%20%20%20%20%20%20%20%20%7B%7D%0A%20%20%20%20%20%20%20%20%20%20%20%20%29.addTo%28map_cfd19d50440e4e359889414eb5531ff9%29%3B%0A%20%20%20%20%20%20%20%20%0A%20%20%20%20%0A%20%20%20%20%20%20%20%20%20%20%20%20var%20icon_6fc1e2f217f248199ae12441484aff6a%20%3D%20L.AwesomeMarkers.icon%28%0A%20%20%20%20%20%20%20%20%20%20%20%20%20%20%20%20%7B%22extraClasses%22%3A%20%22fa-rotate-0%22%2C%20%22icon%22%3A%20%22info-sign%22%2C%20%22iconColor%22%3A%20%22white%22%2C%20%22markerColor%22%3A%20%22red%22%2C%20%22prefix%22%3A%20%22glyphicon%22%7D%0A%20%20%20%20%20%20%20%20%20%20%20%20%29%3B%0A%20%20%20%20%20%20%20%20%20%20%20%20marker_7fcb21f203ca4edabba0ad168dcdc4e2.setIcon%28icon_6fc1e2f217f248199ae12441484aff6a%29%3B%0A%20%20%20%20%20%20%20%20%0A%20%20%20%20%0A%20%20%20%20%20%20%20%20var%20popup_1a65978adf224deba858a1888f3a3028%20%3D%20L.popup%28%7B%22maxWidth%22%3A%20%22100%25%22%7D%29%3B%0A%0A%20%20%20%20%20%20%20%20%0A%20%20%20%20%20%20%20%20%20%20%20%20var%20html_88a89cd47b0d45e38970876198409c41%20%3D%20%24%28%60%3Cdiv%20id%3D%22html_88a89cd47b0d45e38970876198409c41%22%20style%3D%22width%3A%20100.0%25%3B%20height%3A%20100.0%25%3B%22%3EA%20empresa%20IBAI%20VESTUARIO%20%28CNPJ%2049524688000199%29%2C%20relacionada%20ao%20PEP%20LUZENICE%20LANUZIA%20DE%20PALKOSKI%2C%20recebeu%20R%24%20120062.11%3C/div%3E%60%29%5B0%5D%3B%0A%20%20%20%20%20%20%20%20%20%20%20%20popup_1a65978adf224deba858a1888f3a3028.setContent%28html_88a89cd47b0d45e38970876198409c41%29%3B%0A%20%20%20%20%20%20%20%20%0A%0A%20%20%20%20%20%20%20%20marker_7fcb21f203ca4edabba0ad168dcdc4e2.bindPopup%28popup_1a65978adf224deba858a1888f3a3028%29%0A%20%20%20%20%20%20%20%20%3B%0A%0A%20%20%20%20%20%20%20%20%0A%20%20%20%20%0A%20%20%20%20%0A%20%20%20%20%20%20%20%20%20%20%20%20marker_7fcb21f203ca4edabba0ad168dcdc4e2.bindTooltip%28%0A%20%20%20%20%20%20%20%20%20%20%20%20%20%20%20%20%60%3Cdiv%3E%0A%20%20%20%20%20%20%20%20%20%20%20%20%20%20%20%20%20%20%20%20%20A%20empresa%20IBAI%20VESTUARIO%20%28CNPJ%2049524688000199%29%2C%20relacionada%20ao%20PEP%20LUZENICE%20LANUZIA%20DE%20PALKOSKI%2C%20recebeu%20R%24%20120062.11%0A%20%20%20%20%20%20%20%20%20%20%20%20%20%20%20%20%20%3C/div%3E%60%2C%0A%20%20%20%20%20%20%20%20%20%20%20%20%20%20%20%20%7B%22sticky%22%3A%20true%7D%0A%20%20%20%20%20%20%20%20%20%20%20%20%29%3B%0A%20%20%20%20%20%20%20%20%0A%20%20%20%20%0A%20%20%20%20%20%20%20%20%20%20%20%20var%20marker_859cb4ba6e5d4ca8ad6c667f9a2e9420%20%3D%20L.marker%28%0A%20%20%20%20%20%20%20%20%20%20%20%20%20%20%20%20%5B-24.509%2C%20-48.843%5D%2C%0A%20%20%20%20%20%20%20%20%20%20%20%20%20%20%20%20%7B%7D%0A%20%20%20%20%20%20%20%20%20%20%20%20%29.addTo%28map_cfd19d50440e4e359889414eb5531ff9%29%3B%0A%20%20%20%20%20%20%20%20%0A%20%20%20%20%0A%20%20%20%20%20%20%20%20%20%20%20%20var%20icon_fe5f70163f5448deb009e64cc29e6b06%20%3D%20L.AwesomeMarkers.icon%28%0A%20%20%20%20%20%20%20%20%20%20%20%20%20%20%20%20%7B%22extraClasses%22%3A%20%22fa-rotate-0%22%2C%20%22icon%22%3A%20%22info-sign%22%2C%20%22iconColor%22%3A%20%22white%22%2C%20%22markerColor%22%3A%20%22red%22%2C%20%22prefix%22%3A%20%22glyphicon%22%7D%0A%20%20%20%20%20%20%20%20%20%20%20%20%29%3B%0A%20%20%20%20%20%20%20%20%20%20%20%20marker_859cb4ba6e5d4ca8ad6c667f9a2e9420.setIcon%28icon_fe5f70163f5448deb009e64cc29e6b06%29%3B%0A%20%20%20%20%20%20%20%20%0A%20%20%20%20%0A%20%20%20%20%20%20%20%20var%20popup_2050e49e7fb04f849acab656df1aeab1%20%3D%20L.popup%28%7B%22maxWidth%22%3A%20%22100%25%22%7D%29%3B%0A%0A%20%20%20%20%20%20%20%20%0A%20%20%20%20%20%20%20%20%20%20%20%20var%20html_8d73774c83534b898fb30b2f47c53aa7%20%3D%20%24%28%60%3Cdiv%20id%3D%22html_8d73774c83534b898fb30b2f47c53aa7%22%20style%3D%22width%3A%20100.0%25%3B%20height%3A%20100.0%25%3B%22%3EA%20empresa%20IBAI%20VESTUARIO%20%28CNPJ%2049524688000199%29%2C%20relacionada%20ao%20PEP%20SAVIOLO%20LUYTEN%20SMERIERI%2C%20recebeu%20R%24%20120062.11%3C/div%3E%60%29%5B0%5D%3B%0A%20%20%20%20%20%20%20%20%20%20%20%20popup_2050e49e7fb04f849acab656df1aeab1.setContent%28html_8d73774c83534b898fb30b2f47c53aa7%29%3B%0A%20%20%20%20%20%20%20%20%0A%0A%20%20%20%20%20%20%20%20marker_859cb4ba6e5d4ca8ad6c667f9a2e9420.bindPopup%28popup_2050e49e7fb04f849acab656df1aeab1%29%0A%20%20%20%20%20%20%20%20%3B%0A%0A%20%20%20%20%20%20%20%20%0A%20%20%20%20%0A%20%20%20%20%0A%20%20%20%20%20%20%20%20%20%20%20%20marker_859cb4ba6e5d4ca8ad6c667f9a2e9420.bindTooltip%28%0A%20%20%20%20%20%20%20%20%20%20%20%20%20%20%20%20%60%3Cdiv%3E%0A%20%20%20%20%20%20%20%20%20%20%20%20%20%20%20%20%20%20%20%20%20A%20empresa%20IBAI%20VESTUARIO%20%28CNPJ%2049524688000199%29%2C%20relacionada%20ao%20PEP%20SAVIOLO%20LUYTEN%20SMERIERI%2C%20recebeu%20R%24%20120062.11%0A%20%20%20%20%20%20%20%20%20%20%20%20%20%20%20%20%20%3C/div%3E%60%2C%0A%20%20%20%20%20%20%20%20%20%20%20%20%20%20%20%20%7B%22sticky%22%3A%20true%7D%0A%20%20%20%20%20%20%20%20%20%20%20%20%29%3B%0A%20%20%20%20%20%20%20%20%0A%20%20%20%20%0A%20%20%20%20%20%20%20%20%20%20%20%20var%20marker_d77d78cdc890423aa2a1d3410d0cdab8%20%3D%20L.marker%28%0A%20%20%20%20%20%20%20%20%20%20%20%20%20%20%20%20%5B-22.603%2C%20-50.003%5D%2C%0A%20%20%20%20%20%20%20%20%20%20%20%20%20%20%20%20%7B%7D%0A%20%20%20%20%20%20%20%20%20%20%20%20%29.addTo%28map_cfd19d50440e4e359889414eb5531ff9%29%3B%0A%20%20%20%20%20%20%20%20%0A%20%20%20%20%0A%20%20%20%20%20%20%20%20%20%20%20%20var%20icon_7757a823cc744c22bab7feb1acb483e8%20%3D%20L.AwesomeMarkers.icon%28%0A%20%20%20%20%20%20%20%20%20%20%20%20%20%20%20%20%7B%22extraClasses%22%3A%20%22fa-rotate-0%22%2C%20%22icon%22%3A%20%22info-sign%22%2C%20%22iconColor%22%3A%20%22white%22%2C%20%22markerColor%22%3A%20%22red%22%2C%20%22prefix%22%3A%20%22glyphicon%22%7D%0A%20%20%20%20%20%20%20%20%20%20%20%20%29%3B%0A%20%20%20%20%20%20%20%20%20%20%20%20marker_d77d78cdc890423aa2a1d3410d0cdab8.setIcon%28icon_7757a823cc744c22bab7feb1acb483e8%29%3B%0A%20%20%20%20%20%20%20%20%0A%20%20%20%20%0A%20%20%20%20%20%20%20%20var%20popup_022d2b8442144143ab4b86646539cc6d%20%3D%20L.popup%28%7B%22maxWidth%22%3A%20%22100%25%22%7D%29%3B%0A%0A%20%20%20%20%20%20%20%20%0A%20%20%20%20%20%20%20%20%20%20%20%20var%20html_ed208aa289404a7f90b5dbbd2f60500b%20%3D%20%24%28%60%3Cdiv%20id%3D%22html_ed208aa289404a7f90b5dbbd2f60500b%22%20style%3D%22width%3A%20100.0%25%3B%20height%3A%20100.0%25%3B%22%3EA%20empresa%20JOAO%20LUCAS%20ELETRONICOS%20SA%20%28CNPJ%2010240793000137%29%2C%20relacionada%20ao%20PEP%20CAUME%20UNAIDE%20ABASILIA%20PHREDERICO%20ZIELAK%2C%20recebeu%20R%24%20122131.48%3C/div%3E%60%29%5B0%5D%3B%0A%20%20%20%20%20%20%20%20%20%20%20%20popup_022d2b8442144143ab4b86646539cc6d.setContent%28html_ed208aa289404a7f90b5dbbd2f60500b%29%3B%0A%20%20%20%20%20%20%20%20%0A%0A%20%20%20%20%20%20%20%20marker_d77d78cdc890423aa2a1d3410d0cdab8.bindPopup%28popup_022d2b8442144143ab4b86646539cc6d%29%0A%20%20%20%20%20%20%20%20%3B%0A%0A%20%20%20%20%20%20%20%20%0A%20%20%20%20%0A%20%20%20%20%0A%20%20%20%20%20%20%20%20%20%20%20%20marker_d77d78cdc890423aa2a1d3410d0cdab8.bindTooltip%28%0A%20%20%20%20%20%20%20%20%20%20%20%20%20%20%20%20%60%3Cdiv%3E%0A%20%20%20%20%20%20%20%20%20%20%20%20%20%20%20%20%20%20%20%20%20A%20empresa%20JOAO%20LUCAS%20ELETRONICOS%20SA%20%28CNPJ%2010240793000137%29%2C%20relacionada%20ao%20PEP%20CAUME%20UNAIDE%20ABASILIA%20PHREDERICO%20ZIELAK%2C%20recebeu%20R%24%20122131.48%0A%20%20%20%20%20%20%20%20%20%20%20%20%20%20%20%20%20%3C/div%3E%60%2C%0A%20%20%20%20%20%20%20%20%20%20%20%20%20%20%20%20%7B%22sticky%22%3A%20true%7D%0A%20%20%20%20%20%20%20%20%20%20%20%20%29%3B%0A%20%20%20%20%20%20%20%20%0A%20%20%20%20%0A%20%20%20%20%20%20%20%20%20%20%20%20var%20marker_545d75a3177e48d0bd51bd95734a4121%20%3D%20L.marker%28%0A%20%20%20%20%20%20%20%20%20%20%20%20%20%20%20%20%5B-21.561999999999998%2C%20-51.261%5D%2C%0A%20%20%20%20%20%20%20%20%20%20%20%20%20%20%20%20%7B%7D%0A%20%20%20%20%20%20%20%20%20%20%20%20%29.addTo%28map_cfd19d50440e4e359889414eb5531ff9%29%3B%0A%20%20%20%20%20%20%20%20%0A%20%20%20%20%0A%20%20%20%20%20%20%20%20%20%20%20%20var%20icon_88780f61985f45779d41a3a35f75f2cd%20%3D%20L.AwesomeMarkers.icon%28%0A%20%20%20%20%20%20%20%20%20%20%20%20%20%20%20%20%7B%22extraClasses%22%3A%20%22fa-rotate-0%22%2C%20%22icon%22%3A%20%22info-sign%22%2C%20%22iconColor%22%3A%20%22white%22%2C%20%22markerColor%22%3A%20%22red%22%2C%20%22prefix%22%3A%20%22glyphicon%22%7D%0A%20%20%20%20%20%20%20%20%20%20%20%20%29%3B%0A%20%20%20%20%20%20%20%20%20%20%20%20marker_545d75a3177e48d0bd51bd95734a4121.setIcon%28icon_88780f61985f45779d41a3a35f75f2cd%29%3B%0A%20%20%20%20%20%20%20%20%0A%20%20%20%20%0A%20%20%20%20%20%20%20%20var%20popup_488e3d815aa14649ad8985ee72c58f6d%20%3D%20L.popup%28%7B%22maxWidth%22%3A%20%22100%25%22%7D%29%3B%0A%0A%20%20%20%20%20%20%20%20%0A%20%20%20%20%20%20%20%20%20%20%20%20var%20html_79eb2414dd14499698ace830dda446eb%20%3D%20%24%28%60%3Cdiv%20id%3D%22html_79eb2414dd14499698ace830dda446eb%22%20style%3D%22width%3A%20100.0%25%3B%20height%3A%20100.0%25%3B%22%3EA%20empresa%20VICENTE%20MODAS%20%28CNPJ%2012480500000115%29%2C%20relacionada%20ao%20PEP%20JOAO%20YPEI%20DE%20KAARA%2C%20recebeu%20R%24%20131687.01%3C/div%3E%60%29%5B0%5D%3B%0A%20%20%20%20%20%20%20%20%20%20%20%20popup_488e3d815aa14649ad8985ee72c58f6d.setContent%28html_79eb2414dd14499698ace830dda446eb%29%3B%0A%20%20%20%20%20%20%20%20%0A%0A%20%20%20%20%20%20%20%20marker_545d75a3177e48d0bd51bd95734a4121.bindPopup%28popup_488e3d815aa14649ad8985ee72c58f6d%29%0A%20%20%20%20%20%20%20%20%3B%0A%0A%20%20%20%20%20%20%20%20%0A%20%20%20%20%0A%20%20%20%20%0A%20%20%20%20%20%20%20%20%20%20%20%20marker_545d75a3177e48d0bd51bd95734a4121.bindTooltip%28%0A%20%20%20%20%20%20%20%20%20%20%20%20%20%20%20%20%60%3Cdiv%3E%0A%20%20%20%20%20%20%20%20%20%20%20%20%20%20%20%20%20%20%20%20%20A%20empresa%20VICENTE%20MODAS%20%28CNPJ%2012480500000115%29%2C%20relacionada%20ao%20PEP%20JOAO%20YPEI%20DE%20KAARA%2C%20recebeu%20R%24%20131687.01%0A%20%20%20%20%20%20%20%20%20%20%20%20%20%20%20%20%20%3C/div%3E%60%2C%0A%20%20%20%20%20%20%20%20%20%20%20%20%20%20%20%20%7B%22sticky%22%3A%20true%7D%0A%20%20%20%20%20%20%20%20%20%20%20%20%29%3B%0A%20%20%20%20%20%20%20%20%0A%20%20%20%20%0A%20%20%20%20%20%20%20%20%20%20%20%20var%20marker_b2ef42297d5545dfad371209d1782ad8%20%3D%20L.marker%28%0A%20%20%20%20%20%20%20%20%20%20%20%20%20%20%20%20%5B-22.066999999999997%2C%20-48.176%5D%2C%0A%20%20%20%20%20%20%20%20%20%20%20%20%20%20%20%20%7B%7D%0A%20%20%20%20%20%20%20%20%20%20%20%20%29.addTo%28map_cfd19d50440e4e359889414eb5531ff9%29%3B%0A%20%20%20%20%20%20%20%20%0A%20%20%20%20%0A%20%20%20%20%20%20%20%20%20%20%20%20var%20icon_22fa8fa12ecc4f25800821f469b86ffd%20%3D%20L.AwesomeMarkers.icon%28%0A%20%20%20%20%20%20%20%20%20%20%20%20%20%20%20%20%7B%22extraClasses%22%3A%20%22fa-rotate-0%22%2C%20%22icon%22%3A%20%22info-sign%22%2C%20%22iconColor%22%3A%20%22white%22%2C%20%22markerColor%22%3A%20%22red%22%2C%20%22prefix%22%3A%20%22glyphicon%22%7D%0A%20%20%20%20%20%20%20%20%20%20%20%20%29%3B%0A%20%20%20%20%20%20%20%20%20%20%20%20marker_b2ef42297d5545dfad371209d1782ad8.setIcon%28icon_22fa8fa12ecc4f25800821f469b86ffd%29%3B%0A%20%20%20%20%20%20%20%20%0A%20%20%20%20%0A%20%20%20%20%20%20%20%20var%20popup_fc0f1d794171498aa555c45fe83c5459%20%3D%20L.popup%28%7B%22maxWidth%22%3A%20%22100%25%22%7D%29%3B%0A%0A%20%20%20%20%20%20%20%20%0A%20%20%20%20%20%20%20%20%20%20%20%20var%20html_4a05bfacf7a34523b29b0c39b18a6d66%20%3D%20%24%28%60%3Cdiv%20id%3D%22html_4a05bfacf7a34523b29b0c39b18a6d66%22%20style%3D%22width%3A%20100.0%25%3B%20height%3A%20100.0%25%3B%22%3EA%20empresa%20MARIUS%20CONTABIL%20EIRELLI%20%28CNPJ%2008262075000137%29%2C%20relacionada%20ao%20PEP%20GOSSON%20LEGNANNE%20GONDOREK%2C%20recebeu%20R%24%20123420.27%3C/div%3E%60%29%5B0%5D%3B%0A%20%20%20%20%20%20%20%20%20%20%20%20popup_fc0f1d794171498aa555c45fe83c5459.setContent%28html_4a05bfacf7a34523b29b0c39b18a6d66%29%3B%0A%20%20%20%20%20%20%20%20%0A%0A%20%20%20%20%20%20%20%20marker_b2ef42297d5545dfad371209d1782ad8.bindPopup%28popup_fc0f1d794171498aa555c45fe83c5459%29%0A%20%20%20%20%20%20%20%20%3B%0A%0A%20%20%20%20%20%20%20%20%0A%20%20%20%20%0A%20%20%20%20%0A%20%20%20%20%20%20%20%20%20%20%20%20marker_b2ef42297d5545dfad371209d1782ad8.bindTooltip%28%0A%20%20%20%20%20%20%20%20%20%20%20%20%20%20%20%20%60%3Cdiv%3E%0A%20%20%20%20%20%20%20%20%20%20%20%20%20%20%20%20%20%20%20%20%20A%20empresa%20MARIUS%20CONTABIL%20EIRELLI%20%28CNPJ%2008262075000137%29%2C%20relacionada%20ao%20PEP%20GOSSON%20LEGNANNE%20GONDOREK%2C%20recebeu%20R%24%20123420.27%0A%20%20%20%20%20%20%20%20%20%20%20%20%20%20%20%20%20%3C/div%3E%60%2C%0A%20%20%20%20%20%20%20%20%20%20%20%20%20%20%20%20%7B%22sticky%22%3A%20true%7D%0A%20%20%20%20%20%20%20%20%20%20%20%20%29%3B%0A%20%20%20%20%20%20%20%20%0A%20%20%20%20%0A%20%20%20%20%20%20%20%20%20%20%20%20var%20marker_e0a83c89a0534655859f8cb1d8b78e89%20%3D%20L.marker%28%0A%20%20%20%20%20%20%20%20%20%20%20%20%20%20%20%20%5B-23.205%2C%20-49.607%5D%2C%0A%20%20%20%20%20%20%20%20%20%20%20%20%20%20%20%20%7B%7D%0A%20%20%20%20%20%20%20%20%20%20%20%20%29.addTo%28map_cfd19d50440e4e359889414eb5531ff9%29%3B%0A%20%20%20%20%20%20%20%20%0A%20%20%20%20%0A%20%20%20%20%20%20%20%20%20%20%20%20var%20icon_f9d93dd5e6b540d7b79b84dc1d962621%20%3D%20L.AwesomeMarkers.icon%28%0A%20%20%20%20%20%20%20%20%20%20%20%20%20%20%20%20%7B%22extraClasses%22%3A%20%22fa-rotate-0%22%2C%20%22icon%22%3A%20%22info-sign%22%2C%20%22iconColor%22%3A%20%22white%22%2C%20%22markerColor%22%3A%20%22red%22%2C%20%22prefix%22%3A%20%22glyphicon%22%7D%0A%20%20%20%20%20%20%20%20%20%20%20%20%29%3B%0A%20%20%20%20%20%20%20%20%20%20%20%20marker_e0a83c89a0534655859f8cb1d8b78e89.setIcon%28icon_f9d93dd5e6b540d7b79b84dc1d962621%29%3B%0A%20%20%20%20%20%20%20%20%0A%20%20%20%20%0A%20%20%20%20%20%20%20%20var%20popup_887ff32a3bac471c8ac0c41d566ff4a7%20%3D%20L.popup%28%7B%22maxWidth%22%3A%20%22100%25%22%7D%29%3B%0A%0A%20%20%20%20%20%20%20%20%0A%20%20%20%20%20%20%20%20%20%20%20%20var%20html_a849cb49a7884e7ca01251bfbbb6e923%20%3D%20%24%28%60%3Cdiv%20id%3D%22html_a849cb49a7884e7ca01251bfbbb6e923%22%20style%3D%22width%3A%20100.0%25%3B%20height%3A%20100.0%25%3B%22%3EA%20empresa%20MARIUS%20CONTABIL%20EIRELLI%20%28CNPJ%2008262075000137%29%2C%20relacionada%20ao%20PEP%20GOSSON%20LEGNANNE%20GONDOREK%2C%20recebeu%20R%24%20112998.16%3C/div%3E%60%29%5B0%5D%3B%0A%20%20%20%20%20%20%20%20%20%20%20%20popup_887ff32a3bac471c8ac0c41d566ff4a7.setContent%28html_a849cb49a7884e7ca01251bfbbb6e923%29%3B%0A%20%20%20%20%20%20%20%20%0A%0A%20%20%20%20%20%20%20%20marker_e0a83c89a0534655859f8cb1d8b78e89.bindPopup%28popup_887ff32a3bac471c8ac0c41d566ff4a7%29%0A%20%20%20%20%20%20%20%20%3B%0A%0A%20%20%20%20%20%20%20%20%0A%20%20%20%20%0A%20%20%20%20%0A%20%20%20%20%20%20%20%20%20%20%20%20marker_e0a83c89a0534655859f8cb1d8b78e89.bindTooltip%28%0A%20%20%20%20%20%20%20%20%20%20%20%20%20%20%20%20%60%3Cdiv%3E%0A%20%20%20%20%20%20%20%20%20%20%20%20%20%20%20%20%20%20%20%20%20A%20empresa%20MARIUS%20CONTABIL%20EIRELLI%20%28CNPJ%2008262075000137%29%2C%20relacionada%20ao%20PEP%20GOSSON%20LEGNANNE%20GONDOREK%2C%20recebeu%20R%24%20112998.16%0A%20%20%20%20%20%20%20%20%20%20%20%20%20%20%20%20%20%3C/div%3E%60%2C%0A%20%20%20%20%20%20%20%20%20%20%20%20%20%20%20%20%7B%22sticky%22%3A%20true%7D%0A%20%20%20%20%20%20%20%20%20%20%20%20%29%3B%0A%20%20%20%20%20%20%20%20%0A%20%20%20%20%0A%20%20%20%20%20%20%20%20%20%20%20%20var%20marker_b025af1ebc50438f8e1f8bbbdd3012c2%20%3D%20L.marker%28%0A%20%20%20%20%20%20%20%20%20%20%20%20%20%20%20%20%5B-22.253%2C%20-47.823%5D%2C%0A%20%20%20%20%20%20%20%20%20%20%20%20%20%20%20%20%7B%7D%0A%20%20%20%20%20%20%20%20%20%20%20%20%29.addTo%28map_cfd19d50440e4e359889414eb5531ff9%29%3B%0A%20%20%20%20%20%20%20%20%0A%20%20%20%20%0A%20%20%20%20%20%20%20%20%20%20%20%20var%20icon_219315ce05674d7e9d910a404aa04d9a%20%3D%20L.AwesomeMarkers.icon%28%0A%20%20%20%20%20%20%20%20%20%20%20%20%20%20%20%20%7B%22extraClasses%22%3A%20%22fa-rotate-0%22%2C%20%22icon%22%3A%20%22info-sign%22%2C%20%22iconColor%22%3A%20%22white%22%2C%20%22markerColor%22%3A%20%22red%22%2C%20%22prefix%22%3A%20%22glyphicon%22%7D%0A%20%20%20%20%20%20%20%20%20%20%20%20%29%3B%0A%20%20%20%20%20%20%20%20%20%20%20%20marker_b025af1ebc50438f8e1f8bbbdd3012c2.setIcon%28icon_219315ce05674d7e9d910a404aa04d9a%29%3B%0A%20%20%20%20%20%20%20%20%0A%20%20%20%20%0A%20%20%20%20%20%20%20%20var%20popup_8c8efc5410054ffd9976a48e64c622dc%20%3D%20L.popup%28%7B%22maxWidth%22%3A%20%22100%25%22%7D%29%3B%0A%0A%20%20%20%20%20%20%20%20%0A%20%20%20%20%20%20%20%20%20%20%20%20var%20html_4df428af3ddf48a5a56894ef05a018b2%20%3D%20%24%28%60%3Cdiv%20id%3D%22html_4df428af3ddf48a5a56894ef05a018b2%22%20style%3D%22width%3A%20100.0%25%3B%20height%3A%20100.0%25%3B%22%3EA%20empresa%20MARIUS%20CONTABIL%20EIRELLI%20%28CNPJ%2008262075000137%29%2C%20relacionada%20ao%20PEP%20GOSSON%20LEGNANNE%20GONDOREK%2C%20recebeu%20R%24%20108360.82%3C/div%3E%60%29%5B0%5D%3B%0A%20%20%20%20%20%20%20%20%20%20%20%20popup_8c8efc5410054ffd9976a48e64c622dc.setContent%28html_4df428af3ddf48a5a56894ef05a018b2%29%3B%0A%20%20%20%20%20%20%20%20%0A%0A%20%20%20%20%20%20%20%20marker_b025af1ebc50438f8e1f8bbbdd3012c2.bindPopup%28popup_8c8efc5410054ffd9976a48e64c622dc%29%0A%20%20%20%20%20%20%20%20%3B%0A%0A%20%20%20%20%20%20%20%20%0A%20%20%20%20%0A%20%20%20%20%0A%20%20%20%20%20%20%20%20%20%20%20%20marker_b025af1ebc50438f8e1f8bbbdd3012c2.bindTooltip%28%0A%20%20%20%20%20%20%20%20%20%20%20%20%20%20%20%20%60%3Cdiv%3E%0A%20%20%20%20%20%20%20%20%20%20%20%20%20%20%20%20%20%20%20%20%20A%20empresa%20MARIUS%20CONTABIL%20EIRELLI%20%28CNPJ%2008262075000137%29%2C%20relacionada%20ao%20PEP%20GOSSON%20LEGNANNE%20GONDOREK%2C%20recebeu%20R%24%20108360.82%0A%20%20%20%20%20%20%20%20%20%20%20%20%20%20%20%20%20%3C/div%3E%60%2C%0A%20%20%20%20%20%20%20%20%20%20%20%20%20%20%20%20%7B%22sticky%22%3A%20true%7D%0A%20%20%20%20%20%20%20%20%20%20%20%20%29%3B%0A%20%20%20%20%20%20%20%20%0A%20%20%20%20%0A%20%20%20%20%20%20%20%20%20%20%20%20var%20marker_9fbe1e57ea5e4b2691876e57e6433b41%20%3D%20L.marker%28%0A%20%20%20%20%20%20%20%20%20%20%20%20%20%20%20%20%5B-21.186%2C%20-48.907%5D%2C%0A%20%20%20%20%20%20%20%20%20%20%20%20%20%20%20%20%7B%7D%0A%20%20%20%20%20%20%20%20%20%20%20%20%29.addTo%28map_cfd19d50440e4e359889414eb5531ff9%29%3B%0A%20%20%20%20%20%20%20%20%0A%20%20%20%20%0A%20%20%20%20%20%20%20%20%20%20%20%20var%20icon_7b09615cd8324ed5b11f8e8bf49a8623%20%3D%20L.AwesomeMarkers.icon%28%0A%20%20%20%20%20%20%20%20%20%20%20%20%20%20%20%20%7B%22extraClasses%22%3A%20%22fa-rotate-0%22%2C%20%22icon%22%3A%20%22info-sign%22%2C%20%22iconColor%22%3A%20%22white%22%2C%20%22markerColor%22%3A%20%22red%22%2C%20%22prefix%22%3A%20%22glyphicon%22%7D%0A%20%20%20%20%20%20%20%20%20%20%20%20%29%3B%0A%20%20%20%20%20%20%20%20%20%20%20%20marker_9fbe1e57ea5e4b2691876e57e6433b41.setIcon%28icon_7b09615cd8324ed5b11f8e8bf49a8623%29%3B%0A%20%20%20%20%20%20%20%20%0A%20%20%20%20%0A%20%20%20%20%20%20%20%20var%20popup_cf525d10878242afabd3d6bae71cd147%20%3D%20L.popup%28%7B%22maxWidth%22%3A%20%22100%25%22%7D%29%3B%0A%0A%20%20%20%20%20%20%20%20%0A%20%20%20%20%20%20%20%20%20%20%20%20var%20html_9df64241f4a046619de714c0b1acaf95%20%3D%20%24%28%60%3Cdiv%20id%3D%22html_9df64241f4a046619de714c0b1acaf95%22%20style%3D%22width%3A%20100.0%25%3B%20height%3A%20100.0%25%3B%22%3EA%20empresa%20MARIA%20CECILIA%20MERCEARIA%20EIRELLI%20%28CNPJ%2008111025000132%29%2C%20relacionada%20ao%20PEP%20DIRLEI%20GOSSER%20LOIVAL%2C%20recebeu%20R%24%20103509.54%3C/div%3E%60%29%5B0%5D%3B%0A%20%20%20%20%20%20%20%20%20%20%20%20popup_cf525d10878242afabd3d6bae71cd147.setContent%28html_9df64241f4a046619de714c0b1acaf95%29%3B%0A%20%20%20%20%20%20%20%20%0A%0A%20%20%20%20%20%20%20%20marker_9fbe1e57ea5e4b2691876e57e6433b41.bindPopup%28popup_cf525d10878242afabd3d6bae71cd147%29%0A%20%20%20%20%20%20%20%20%3B%0A%0A%20%20%20%20%20%20%20%20%0A%20%20%20%20%0A%20%20%20%20%0A%20%20%20%20%20%20%20%20%20%20%20%20marker_9fbe1e57ea5e4b2691876e57e6433b41.bindTooltip%28%0A%20%20%20%20%20%20%20%20%20%20%20%20%20%20%20%20%60%3Cdiv%3E%0A%20%20%20%20%20%20%20%20%20%20%20%20%20%20%20%20%20%20%20%20%20A%20empresa%20MARIA%20CECILIA%20MERCEARIA%20EIRELLI%20%28CNPJ%2008111025000132%29%2C%20relacionada%20ao%20PEP%20DIRLEI%20GOSSER%20LOIVAL%2C%20recebeu%20R%24%20103509.54%0A%20%20%20%20%20%20%20%20%20%20%20%20%20%20%20%20%20%3C/div%3E%60%2C%0A%20%20%20%20%20%20%20%20%20%20%20%20%20%20%20%20%7B%22sticky%22%3A%20true%7D%0A%20%20%20%20%20%20%20%20%20%20%20%20%29%3B%0A%20%20%20%20%20%20%20%20%0A%20%20%20%20%0A%20%20%20%20%20%20%20%20%20%20%20%20var%20marker_083db6bad0dc4c56bc6c6a8bce32e210%20%3D%20L.marker%28%0A%20%20%20%20%20%20%20%20%20%20%20%20%20%20%20%20%5B-22.674%2C%20-44.448%5D%2C%0A%20%20%20%20%20%20%20%20%20%20%20%20%20%20%20%20%7B%7D%0A%20%20%20%20%20%20%20%20%20%20%20%20%29.addTo%28map_cfd19d50440e4e359889414eb5531ff9%29%3B%0A%20%20%20%20%20%20%20%20%0A%20%20%20%20%0A%20%20%20%20%20%20%20%20%20%20%20%20var%20icon_7b63e886963c40c5aeff29587a92cb64%20%3D%20L.AwesomeMarkers.icon%28%0A%20%20%20%20%20%20%20%20%20%20%20%20%20%20%20%20%7B%22extraClasses%22%3A%20%22fa-rotate-0%22%2C%20%22icon%22%3A%20%22info-sign%22%2C%20%22iconColor%22%3A%20%22white%22%2C%20%22markerColor%22%3A%20%22red%22%2C%20%22prefix%22%3A%20%22glyphicon%22%7D%0A%20%20%20%20%20%20%20%20%20%20%20%20%29%3B%0A%20%20%20%20%20%20%20%20%20%20%20%20marker_083db6bad0dc4c56bc6c6a8bce32e210.setIcon%28icon_7b63e886963c40c5aeff29587a92cb64%29%3B%0A%20%20%20%20%20%20%20%20%0A%20%20%20%20%0A%20%20%20%20%20%20%20%20var%20popup_e64bcea49b1a4f76bc39edc80cc077e1%20%3D%20L.popup%28%7B%22maxWidth%22%3A%20%22100%25%22%7D%29%3B%0A%0A%20%20%20%20%20%20%20%20%0A%20%20%20%20%20%20%20%20%20%20%20%20var%20html_2af8dd0d414147829a30c3236ef8f71c%20%3D%20%24%28%60%3Cdiv%20id%3D%22html_2af8dd0d414147829a30c3236ef8f71c%22%20style%3D%22width%3A%20100.0%25%3B%20height%3A%20100.0%25%3B%22%3EA%20empresa%20IBAI%20VESTUARIO%20%28CNPJ%2049524688000199%29%2C%20relacionada%20ao%20PEP%20JAIME%20BONAVOGLIA%20DA%20TEVEIRA%2C%20recebeu%20R%24%20113162.42%3C/div%3E%60%29%5B0%5D%3B%0A%20%20%20%20%20%20%20%20%20%20%20%20popup_e64bcea49b1a4f76bc39edc80cc077e1.setContent%28html_2af8dd0d414147829a30c3236ef8f71c%29%3B%0A%20%20%20%20%20%20%20%20%0A%0A%20%20%20%20%20%20%20%20marker_083db6bad0dc4c56bc6c6a8bce32e210.bindPopup%28popup_e64bcea49b1a4f76bc39edc80cc077e1%29%0A%20%20%20%20%20%20%20%20%3B%0A%0A%20%20%20%20%20%20%20%20%0A%20%20%20%20%0A%20%20%20%20%0A%20%20%20%20%20%20%20%20%20%20%20%20marker_083db6bad0dc4c56bc6c6a8bce32e210.bindTooltip%28%0A%20%20%20%20%20%20%20%20%20%20%20%20%20%20%20%20%60%3Cdiv%3E%0A%20%20%20%20%20%20%20%20%20%20%20%20%20%20%20%20%20%20%20%20%20A%20empresa%20IBAI%20VESTUARIO%20%28CNPJ%2049524688000199%29%2C%20relacionada%20ao%20PEP%20JAIME%20BONAVOGLIA%20DA%20TEVEIRA%2C%20recebeu%20R%24%20113162.42%0A%20%20%20%20%20%20%20%20%20%20%20%20%20%20%20%20%20%3C/div%3E%60%2C%0A%20%20%20%20%20%20%20%20%20%20%20%20%20%20%20%20%7B%22sticky%22%3A%20true%7D%0A%20%20%20%20%20%20%20%20%20%20%20%20%29%3B%0A%20%20%20%20%20%20%20%20%0A%20%20%20%20%0A%20%20%20%20%20%20%20%20%20%20%20%20var%20marker_e53eae2cb5774d7fbb642c34b0a0966f%20%3D%20L.marker%28%0A%20%20%20%20%20%20%20%20%20%20%20%20%20%20%20%20%5B-22.674%2C%20-44.448%5D%2C%0A%20%20%20%20%20%20%20%20%20%20%20%20%20%20%20%20%7B%7D%0A%20%20%20%20%20%20%20%20%20%20%20%20%29.addTo%28map_cfd19d50440e4e359889414eb5531ff9%29%3B%0A%20%20%20%20%20%20%20%20%0A%20%20%20%20%0A%20%20%20%20%20%20%20%20%20%20%20%20var%20icon_8027902fb5884037b17f1c0e0ed28eb3%20%3D%20L.AwesomeMarkers.icon%28%0A%20%20%20%20%20%20%20%20%20%20%20%20%20%20%20%20%7B%22extraClasses%22%3A%20%22fa-rotate-0%22%2C%20%22icon%22%3A%20%22info-sign%22%2C%20%22iconColor%22%3A%20%22white%22%2C%20%22markerColor%22%3A%20%22red%22%2C%20%22prefix%22%3A%20%22glyphicon%22%7D%0A%20%20%20%20%20%20%20%20%20%20%20%20%29%3B%0A%20%20%20%20%20%20%20%20%20%20%20%20marker_e53eae2cb5774d7fbb642c34b0a0966f.setIcon%28icon_8027902fb5884037b17f1c0e0ed28eb3%29%3B%0A%20%20%20%20%20%20%20%20%0A%20%20%20%20%0A%20%20%20%20%20%20%20%20var%20popup_29b941771f904546866c65346f596795%20%3D%20L.popup%28%7B%22maxWidth%22%3A%20%22100%25%22%7D%29%3B%0A%0A%20%20%20%20%20%20%20%20%0A%20%20%20%20%20%20%20%20%20%20%20%20var%20html_862ce72093664894941cb387847b2e7d%20%3D%20%24%28%60%3Cdiv%20id%3D%22html_862ce72093664894941cb387847b2e7d%22%20style%3D%22width%3A%20100.0%25%3B%20height%3A%20100.0%25%3B%22%3EA%20empresa%20IBAI%20VESTUARIO%20%28CNPJ%2049524688000199%29%2C%20relacionada%20ao%20PEP%20LUZENICE%20LANUZIA%20DE%20PALKOSKI%2C%20recebeu%20R%24%20113162.42%3C/div%3E%60%29%5B0%5D%3B%0A%20%20%20%20%20%20%20%20%20%20%20%20popup_29b941771f904546866c65346f596795.setContent%28html_862ce72093664894941cb387847b2e7d%29%3B%0A%20%20%20%20%20%20%20%20%0A%0A%20%20%20%20%20%20%20%20marker_e53eae2cb5774d7fbb642c34b0a0966f.bindPopup%28popup_29b941771f904546866c65346f596795%29%0A%20%20%20%20%20%20%20%20%3B%0A%0A%20%20%20%20%20%20%20%20%0A%20%20%20%20%0A%20%20%20%20%0A%20%20%20%20%20%20%20%20%20%20%20%20marker_e53eae2cb5774d7fbb642c34b0a0966f.bindTooltip%28%0A%20%20%20%20%20%20%20%20%20%20%20%20%20%20%20%20%60%3Cdiv%3E%0A%20%20%20%20%20%20%20%20%20%20%20%20%20%20%20%20%20%20%20%20%20A%20empresa%20IBAI%20VESTUARIO%20%28CNPJ%2049524688000199%29%2C%20relacionada%20ao%20PEP%20LUZENICE%20LANUZIA%20DE%20PALKOSKI%2C%20recebeu%20R%24%20113162.42%0A%20%20%20%20%20%20%20%20%20%20%20%20%20%20%20%20%20%3C/div%3E%60%2C%0A%20%20%20%20%20%20%20%20%20%20%20%20%20%20%20%20%7B%22sticky%22%3A%20true%7D%0A%20%20%20%20%20%20%20%20%20%20%20%20%29%3B%0A%20%20%20%20%20%20%20%20%0A%20%20%20%20%0A%20%20%20%20%20%20%20%20%20%20%20%20var%20marker_eb0de26e3d414c309d7501e309908e07%20%3D%20L.marker%28%0A%20%20%20%20%20%20%20%20%20%20%20%20%20%20%20%20%5B-22.674%2C%20-44.448%5D%2C%0A%20%20%20%20%20%20%20%20%20%20%20%20%20%20%20%20%7B%7D%0A%20%20%20%20%20%20%20%20%20%20%20%20%29.addTo%28map_cfd19d50440e4e359889414eb5531ff9%29%3B%0A%20%20%20%20%20%20%20%20%0A%20%20%20%20%0A%20%20%20%20%20%20%20%20%20%20%20%20var%20icon_4ade430d2d904c42b7f5308596764b46%20%3D%20L.AwesomeMarkers.icon%28%0A%20%20%20%20%20%20%20%20%20%20%20%20%20%20%20%20%7B%22extraClasses%22%3A%20%22fa-rotate-0%22%2C%20%22icon%22%3A%20%22info-sign%22%2C%20%22iconColor%22%3A%20%22white%22%2C%20%22markerColor%22%3A%20%22red%22%2C%20%22prefix%22%3A%20%22glyphicon%22%7D%0A%20%20%20%20%20%20%20%20%20%20%20%20%29%3B%0A%20%20%20%20%20%20%20%20%20%20%20%20marker_eb0de26e3d414c309d7501e309908e07.setIcon%28icon_4ade430d2d904c42b7f5308596764b46%29%3B%0A%20%20%20%20%20%20%20%20%0A%20%20%20%20%0A%20%20%20%20%20%20%20%20var%20popup_cedd4861eb6e42b2b30df38d65b06f3d%20%3D%20L.popup%28%7B%22maxWidth%22%3A%20%22100%25%22%7D%29%3B%0A%0A%20%20%20%20%20%20%20%20%0A%20%20%20%20%20%20%20%20%20%20%20%20var%20html_b12feed6fb6743db87edfe88dc891961%20%3D%20%24%28%60%3Cdiv%20id%3D%22html_b12feed6fb6743db87edfe88dc891961%22%20style%3D%22width%3A%20100.0%25%3B%20height%3A%20100.0%25%3B%22%3EA%20empresa%20IBAI%20VESTUARIO%20%28CNPJ%2049524688000199%29%2C%20relacionada%20ao%20PEP%20SAVIOLO%20LUYTEN%20SMERIERI%2C%20recebeu%20R%24%20113162.42%3C/div%3E%60%29%5B0%5D%3B%0A%20%20%20%20%20%20%20%20%20%20%20%20popup_cedd4861eb6e42b2b30df38d65b06f3d.setContent%28html_b12feed6fb6743db87edfe88dc891961%29%3B%0A%20%20%20%20%20%20%20%20%0A%0A%20%20%20%20%20%20%20%20marker_eb0de26e3d414c309d7501e309908e07.bindPopup%28popup_cedd4861eb6e42b2b30df38d65b06f3d%29%0A%20%20%20%20%20%20%20%20%3B%0A%0A%20%20%20%20%20%20%20%20%0A%20%20%20%20%0A%20%20%20%20%0A%20%20%20%20%20%20%20%20%20%20%20%20marker_eb0de26e3d414c309d7501e309908e07.bindTooltip%28%0A%20%20%20%20%20%20%20%20%20%20%20%20%20%20%20%20%60%3Cdiv%3E%0A%20%20%20%20%20%20%20%20%20%20%20%20%20%20%20%20%20%20%20%20%20A%20empresa%20IBAI%20VESTUARIO%20%28CNPJ%2049524688000199%29%2C%20relacionada%20ao%20PEP%20SAVIOLO%20LUYTEN%20SMERIERI%2C%20recebeu%20R%24%20113162.42%0A%20%20%20%20%20%20%20%20%20%20%20%20%20%20%20%20%20%3C/div%3E%60%2C%0A%20%20%20%20%20%20%20%20%20%20%20%20%20%20%20%20%7B%22sticky%22%3A%20true%7D%0A%20%20%20%20%20%20%20%20%20%20%20%20%29%3B%0A%20%20%20%20%20%20%20%20%0A%20%20%20%20%0A%20%20%20%20%20%20%20%20%20%20%20%20var%20marker_90ede9f58b2e4158bc0235ddaf96d3ab%20%3D%20L.marker%28%0A%20%20%20%20%20%20%20%20%20%20%20%20%20%20%20%20%5B-22.569000000000003%2C%20-48.971000000000004%5D%2C%0A%20%20%20%20%20%20%20%20%20%20%20%20%20%20%20%20%7B%7D%0A%20%20%20%20%20%20%20%20%20%20%20%20%29.addTo%28map_cfd19d50440e4e359889414eb5531ff9%29%3B%0A%20%20%20%20%20%20%20%20%0A%20%20%20%20%0A%20%20%20%20%20%20%20%20%20%20%20%20var%20icon_99e10e5c00004128a5fd1109dc5996f4%20%3D%20L.AwesomeMarkers.icon%28%0A%20%20%20%20%20%20%20%20%20%20%20%20%20%20%20%20%7B%22extraClasses%22%3A%20%22fa-rotate-0%22%2C%20%22icon%22%3A%20%22info-sign%22%2C%20%22iconColor%22%3A%20%22white%22%2C%20%22markerColor%22%3A%20%22red%22%2C%20%22prefix%22%3A%20%22glyphicon%22%7D%0A%20%20%20%20%20%20%20%20%20%20%20%20%29%3B%0A%20%20%20%20%20%20%20%20%20%20%20%20marker_90ede9f58b2e4158bc0235ddaf96d3ab.setIcon%28icon_99e10e5c00004128a5fd1109dc5996f4%29%3B%0A%20%20%20%20%20%20%20%20%0A%20%20%20%20%0A%20%20%20%20%20%20%20%20var%20popup_7d22a886ab064db185f55946de63b543%20%3D%20L.popup%28%7B%22maxWidth%22%3A%20%22100%25%22%7D%29%3B%0A%0A%20%20%20%20%20%20%20%20%0A%20%20%20%20%20%20%20%20%20%20%20%20var%20html_6d12b5feeb8949bcbd2cd97a16c6feb0%20%3D%20%24%28%60%3Cdiv%20id%3D%22html_6d12b5feeb8949bcbd2cd97a16c6feb0%22%20style%3D%22width%3A%20100.0%25%3B%20height%3A%20100.0%25%3B%22%3EA%20empresa%20JOAO%20LUCAS%20ELETRONICOS%20SA%20%28CNPJ%2010240793000137%29%2C%20relacionada%20ao%20PEP%20CAUME%20UNAIDE%20ABASILIA%20PHREDERICO%20ZIELAK%2C%20recebeu%20R%24%20102755.9%3C/div%3E%60%29%5B0%5D%3B%0A%20%20%20%20%20%20%20%20%20%20%20%20popup_7d22a886ab064db185f55946de63b543.setContent%28html_6d12b5feeb8949bcbd2cd97a16c6feb0%29%3B%0A%20%20%20%20%20%20%20%20%0A%0A%20%20%20%20%20%20%20%20marker_90ede9f58b2e4158bc0235ddaf96d3ab.bindPopup%28popup_7d22a886ab064db185f55946de63b543%29%0A%20%20%20%20%20%20%20%20%3B%0A%0A%20%20%20%20%20%20%20%20%0A%20%20%20%20%0A%20%20%20%20%0A%20%20%20%20%20%20%20%20%20%20%20%20marker_90ede9f58b2e4158bc0235ddaf96d3ab.bindTooltip%28%0A%20%20%20%20%20%20%20%20%20%20%20%20%20%20%20%20%60%3Cdiv%3E%0A%20%20%20%20%20%20%20%20%20%20%20%20%20%20%20%20%20%20%20%20%20A%20empresa%20JOAO%20LUCAS%20ELETRONICOS%20SA%20%28CNPJ%2010240793000137%29%2C%20relacionada%20ao%20PEP%20CAUME%20UNAIDE%20ABASILIA%20PHREDERICO%20ZIELAK%2C%20recebeu%20R%24%20102755.9%0A%20%20%20%20%20%20%20%20%20%20%20%20%20%20%20%20%20%3C/div%3E%60%2C%0A%20%20%20%20%20%20%20%20%20%20%20%20%20%20%20%20%7B%22sticky%22%3A%20true%7D%0A%20%20%20%20%20%20%20%20%20%20%20%20%29%3B%0A%20%20%20%20%20%20%20%20%0A%3C/script%3E onload=\"this.contentDocument.open();this.contentDocument.write(    decodeURIComponent(this.getAttribute('data-html')));this.contentDocument.close();\" allowfullscreen webkitallowfullscreen mozallowfullscreen></iframe></div></div>"
      ],
      "text/plain": [
       "<folium.folium.Map at 0x165ff316bc8>"
      ]
     },
     "execution_count": 61,
     "metadata": {},
     "output_type": "execute_result"
    }
   ],
   "source": [
    "mapa_plot = folium.Map(location=[empresas_peps_coord.Latitude.mean(), empresas_peps_coord.Longitude.mean()], zoom_start=7, control_scale=True)\n",
    "for index, location_info in empresas_peps_coord.iterrows():\n",
    "    description = \"A empresa \" + location_info[\"Razao_Social_Empresa_Beneficiaria\"] + \" (CNPJ \" + location_info[\"CNPJ_Empresa_Beneficiaria\"] + \"), relacionada ao PEP \" + location_info[\"Nome_PEP\"] + \", recebeu R$ \" + str(location_info[\"Valor_Total\"])\n",
    "    description.splitlines(True)\n",
    "    folium.Marker(\n",
    "        [location_info[\"Latitude\"], location_info[\"Longitude\"]],\n",
    "        popup=description,\n",
    "        tooltip=description,\n",
    "        icon=folium.Icon(color=\"red\", icon=\"info-sign\")\n",
    "    ).add_to(mapa_plot)\n",
    "title_html = '''\n",
    "             <h3 align=\"center\" style=\"font-size:20px\"><b>Mapa (fictício) de empresas relacionadas com PEPs</b></h3>\n",
    "             '''\n",
    "mapa_plot.get_root().html.add_child(folium.Element(title_html))\n",
    "mapa_plot"
   ]
  },
  {
   "cell_type": "code",
   "execution_count": null,
   "metadata": {},
   "outputs": [],
   "source": []
  }
 ],
 "metadata": {
  "kernelspec": {
   "display_name": "Python 3",
   "language": "python",
   "name": "python3"
  },
  "language_info": {
   "codemirror_mode": {
    "name": "ipython",
    "version": 3
   },
   "file_extension": ".py",
   "mimetype": "text/x-python",
   "name": "python",
   "nbconvert_exporter": "python",
   "pygments_lexer": "ipython3",
   "version": "3.7.4"
  }
 },
 "nbformat": 4,
 "nbformat_minor": 4
}
