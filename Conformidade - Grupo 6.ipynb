{
 "cells": [
  {
   "cell_type": "markdown",
   "metadata": {},
   "source": [
    "# Trabalho de Conformidade do\n",
    "# Curso de Dados Abertos para Controle Social"
   ]
  },
  {
   "cell_type": "markdown",
   "metadata": {},
   "source": [
    "O objetivo do presente trabalho é verificar quais empresas de pessoas politicamente expostas que receberam recursos dos próprios municípios em que têm mandatos.\n",
    "\n",
    "Para isso serão utilizado dados do Portal de Transparência Municipal do TCESP, base de dados públicos de CNPJ da SRF e dados do Portal da Transparência da CGU."
   ]
  },
  {
   "cell_type": "markdown",
   "metadata": {},
   "source": [
    "**Atenção:** Como o presente trabalho é para fins educacionais, os nomes, CPFs e CNPJs foram alterados, mas as estruturas são idênticas às das tabelas originais."
   ]
  },
  {
   "cell_type": "markdown",
   "metadata": {},
   "source": [
    "## Importar as bibliotecas utilizadas"
   ]
  },
  {
   "cell_type": "code",
   "execution_count": 1,
   "metadata": {},
   "outputs": [],
   "source": [
    "import os\n",
    "import shutil\n",
    "\n",
    "import pandas as pd\n",
    "import sqlalchemy"
   ]
  },
  {
   "cell_type": "markdown",
   "metadata": {},
   "source": [
    "## Carregar Dados"
   ]
  },
  {
   "cell_type": "code",
   "execution_count": 2,
   "metadata": {},
   "outputs": [],
   "source": [
    "diretorio_dados = 'dados'"
   ]
  },
  {
   "cell_type": "markdown",
   "metadata": {
    "tags": []
   },
   "source": [
    "### Carregar dados de banco\n",
    "\n",
    "O banco de dados possui três tabelas: despesas_consolidado, empresas e sócios"
   ]
  },
  {
   "cell_type": "code",
   "execution_count": 3,
   "metadata": {},
   "outputs": [],
   "source": [
    "arquivo_sqlite = 'banco_trabalho06.db'\n",
    "filepath_arquivo_sqlite = os.path.join(diretorio_dados, arquivo_sqlite)"
   ]
  },
  {
   "cell_type": "code",
   "execution_count": 4,
   "metadata": {},
   "outputs": [],
   "source": [
    "url_banco = \"sqlite:///{}\".format(filepath_arquivo_sqlite)\n",
    "engine = sqlalchemy.create_engine(url_banco)"
   ]
  },
  {
   "cell_type": "markdown",
   "metadata": {},
   "source": [
    "#### Despesas \n",
    "É a totalização de valores pagos a empresas por município, valores aproximadamente acima de 100 mil reais.\n",
    "\n",
    "A consolidação foi realizada a partir da tabela despesas do TCE/SP. Os nomes de empresas, cnpjs e municípios foram alterados.\n",
    "\n",
    "A coluna **ds_municipio** é o nome do município fictício, **nr_identificador_despesa** o CNPJ da empresa que recebeu o valor da coluna soma e **ds_despesa** a razão social fictícia da empresa."
   ]
  },
  {
   "cell_type": "code",
   "execution_count": 5,
   "metadata": {},
   "outputs": [],
   "source": [
    "sql = 'SELECT * FROM despesas_consolidado'\n",
    "despesas = pd.read_sql(sql, engine, index_col=None)"
   ]
  },
  {
   "cell_type": "markdown",
   "metadata": {},
   "source": [
    "Aqui podemos visualizar uma amostra dos dados"
   ]
  },
  {
   "cell_type": "code",
   "execution_count": 6,
   "metadata": {},
   "outputs": [
    {
     "data": {
      "text/html": [
       "<div>\n",
       "<style scoped>\n",
       "    .dataframe tbody tr th:only-of-type {\n",
       "        vertical-align: middle;\n",
       "    }\n",
       "\n",
       "    .dataframe tbody tr th {\n",
       "        vertical-align: top;\n",
       "    }\n",
       "\n",
       "    .dataframe thead th {\n",
       "        text-align: right;\n",
       "    }\n",
       "</style>\n",
       "<table border=\"1\" class=\"dataframe\">\n",
       "  <thead>\n",
       "    <tr style=\"text-align: right;\">\n",
       "      <th></th>\n",
       "      <th>ds_municipio</th>\n",
       "      <th>nr_identificador_despesa</th>\n",
       "      <th>ds_despesa</th>\n",
       "      <th>soma</th>\n",
       "    </tr>\n",
       "  </thead>\n",
       "  <tbody>\n",
       "    <tr>\n",
       "      <th>11920</th>\n",
       "      <td>SACCOL</td>\n",
       "      <td>03829447000172</td>\n",
       "      <td>ERIC CONSULTORIA</td>\n",
       "      <td>270435.88</td>\n",
       "    </tr>\n",
       "    <tr>\n",
       "      <th>7724</th>\n",
       "      <td>BAROUCH</td>\n",
       "      <td>07242413000116</td>\n",
       "      <td>AYANE SEGUROS SA</td>\n",
       "      <td>520539.72</td>\n",
       "    </tr>\n",
       "    <tr>\n",
       "      <th>11778</th>\n",
       "      <td>LOTTO</td>\n",
       "      <td>11299478000143</td>\n",
       "      <td>ROSALIE MOVEIS</td>\n",
       "      <td>302115.20</td>\n",
       "    </tr>\n",
       "    <tr>\n",
       "      <th>16488</th>\n",
       "      <td>NAKIRI</td>\n",
       "      <td>27071953000108</td>\n",
       "      <td>CELIA SISTEMAS SA</td>\n",
       "      <td>206873.03</td>\n",
       "    </tr>\n",
       "    <tr>\n",
       "      <th>24834</th>\n",
       "      <td>VALLIS</td>\n",
       "      <td>01433461000133</td>\n",
       "      <td>HANA ENGENHARIA</td>\n",
       "      <td>98952.78</td>\n",
       "    </tr>\n",
       "  </tbody>\n",
       "</table>\n",
       "</div>"
      ],
      "text/plain": [
       "      ds_municipio nr_identificador_despesa         ds_despesa       soma\n",
       "11920       SACCOL           03829447000172   ERIC CONSULTORIA  270435.88\n",
       "7724       BAROUCH           07242413000116   AYANE SEGUROS SA  520539.72\n",
       "11778        LOTTO           11299478000143     ROSALIE MOVEIS  302115.20\n",
       "16488       NAKIRI           27071953000108  CELIA SISTEMAS SA  206873.03\n",
       "24834       VALLIS           01433461000133    HANA ENGENHARIA   98952.78"
      ]
     },
     "execution_count": 6,
     "metadata": {},
     "output_type": "execute_result"
    }
   ],
   "source": [
    "despesas.sample(5)"
   ]
  },
  {
   "cell_type": "markdown",
   "metadata": {},
   "source": [
    "Com o comando abaixo, podemos ver que a tabela possui 25.885 registros; não possui dados nulos e há apenas uma coluna com dados numéricos."
   ]
  },
  {
   "cell_type": "code",
   "execution_count": 7,
   "metadata": {},
   "outputs": [
    {
     "name": "stdout",
     "output_type": "stream",
     "text": [
      "<class 'pandas.core.frame.DataFrame'>\n",
      "RangeIndex: 25885 entries, 0 to 25884\n",
      "Data columns (total 4 columns):\n",
      " #   Column                    Non-Null Count  Dtype  \n",
      "---  ------                    --------------  -----  \n",
      " 0   ds_municipio              25885 non-null  object \n",
      " 1   nr_identificador_despesa  25885 non-null  object \n",
      " 2   ds_despesa                25885 non-null  object \n",
      " 3   soma                      25885 non-null  float64\n",
      "dtypes: float64(1), object(3)\n",
      "memory usage: 809.0+ KB\n"
     ]
    }
   ],
   "source": [
    "despesas.info()"
   ]
  },
  {
   "cell_type": "markdown",
   "metadata": {},
   "source": [
    "#### Empresas \n",
    "Tabela de empresas da receita federal.\n",
    "\n",
    "Possui dados alterados, mas a estrutura das colunas é semelhante a base pública da Receita Federal."
   ]
  },
  {
   "cell_type": "code",
   "execution_count": 8,
   "metadata": {},
   "outputs": [],
   "source": [
    "sql = 'SELECT * FROM empresas'\n",
    "empresas = pd.read_sql(sql, engine, index_col=None)"
   ]
  },
  {
   "cell_type": "markdown",
   "metadata": {},
   "source": [
    "Aqui podemos visualizar uma amostra dos dados"
   ]
  },
  {
   "cell_type": "code",
   "execution_count": 9,
   "metadata": {},
   "outputs": [
    {
     "data": {
      "text/html": [
       "<div>\n",
       "<style scoped>\n",
       "    .dataframe tbody tr th:only-of-type {\n",
       "        vertical-align: middle;\n",
       "    }\n",
       "\n",
       "    .dataframe tbody tr th {\n",
       "        vertical-align: top;\n",
       "    }\n",
       "\n",
       "    .dataframe thead th {\n",
       "        text-align: right;\n",
       "    }\n",
       "</style>\n",
       "<table border=\"1\" class=\"dataframe\">\n",
       "  <thead>\n",
       "    <tr style=\"text-align: right;\">\n",
       "      <th></th>\n",
       "      <th>cnpj</th>\n",
       "      <th>matriz_filial</th>\n",
       "      <th>razao_social</th>\n",
       "      <th>nome_fantasia</th>\n",
       "      <th>situacao</th>\n",
       "      <th>data_situacao</th>\n",
       "      <th>motivo_situacao</th>\n",
       "      <th>nm_cidade_exterior</th>\n",
       "      <th>cod_pais</th>\n",
       "      <th>nome_pais</th>\n",
       "      <th>...</th>\n",
       "      <th>email</th>\n",
       "      <th>qualif_resp</th>\n",
       "      <th>capital_social</th>\n",
       "      <th>porte</th>\n",
       "      <th>opc_simples</th>\n",
       "      <th>data_opc_simples</th>\n",
       "      <th>data_exc_simples</th>\n",
       "      <th>opc_mei</th>\n",
       "      <th>sit_especial</th>\n",
       "      <th>data_sit_especial</th>\n",
       "    </tr>\n",
       "  </thead>\n",
       "  <tbody>\n",
       "    <tr>\n",
       "      <th>5283</th>\n",
       "      <td>06982866000104</td>\n",
       "      <td>1</td>\n",
       "      <td>HIMARI MARKETING ME</td>\n",
       "      <td></td>\n",
       "      <td>02</td>\n",
       "      <td>20200101</td>\n",
       "      <td>00</td>\n",
       "      <td></td>\n",
       "      <td></td>\n",
       "      <td></td>\n",
       "      <td>...</td>\n",
       "      <td></td>\n",
       "      <td></td>\n",
       "      <td>486768.124845</td>\n",
       "      <td>05</td>\n",
       "      <td>0</td>\n",
       "      <td></td>\n",
       "      <td></td>\n",
       "      <td>N</td>\n",
       "      <td></td>\n",
       "      <td></td>\n",
       "    </tr>\n",
       "    <tr>\n",
       "      <th>3783</th>\n",
       "      <td>01791646000378</td>\n",
       "      <td>2</td>\n",
       "      <td>AYAKA ADMINISTRATIVOS ME</td>\n",
       "      <td></td>\n",
       "      <td>02</td>\n",
       "      <td>20200101</td>\n",
       "      <td>37</td>\n",
       "      <td></td>\n",
       "      <td></td>\n",
       "      <td></td>\n",
       "      <td>...</td>\n",
       "      <td></td>\n",
       "      <td></td>\n",
       "      <td>0.000000</td>\n",
       "      <td>05</td>\n",
       "      <td>0</td>\n",
       "      <td></td>\n",
       "      <td></td>\n",
       "      <td></td>\n",
       "      <td></td>\n",
       "      <td></td>\n",
       "    </tr>\n",
       "    <tr>\n",
       "      <th>994</th>\n",
       "      <td>04536152000678</td>\n",
       "      <td>2</td>\n",
       "      <td>RIKUTO CONSULTORIA LTDA</td>\n",
       "      <td></td>\n",
       "      <td>02</td>\n",
       "      <td>20200101</td>\n",
       "      <td>00</td>\n",
       "      <td></td>\n",
       "      <td></td>\n",
       "      <td></td>\n",
       "      <td>...</td>\n",
       "      <td></td>\n",
       "      <td></td>\n",
       "      <td>0.000000</td>\n",
       "      <td>05</td>\n",
       "      <td>0</td>\n",
       "      <td></td>\n",
       "      <td></td>\n",
       "      <td></td>\n",
       "      <td></td>\n",
       "      <td></td>\n",
       "    </tr>\n",
       "    <tr>\n",
       "      <th>2479</th>\n",
       "      <td>02145121000215</td>\n",
       "      <td>2</td>\n",
       "      <td>MARGARITA SERVICOS</td>\n",
       "      <td></td>\n",
       "      <td>02</td>\n",
       "      <td>20200101</td>\n",
       "      <td>37</td>\n",
       "      <td></td>\n",
       "      <td></td>\n",
       "      <td></td>\n",
       "      <td>...</td>\n",
       "      <td></td>\n",
       "      <td></td>\n",
       "      <td>0.000000</td>\n",
       "      <td>05</td>\n",
       "      <td>0</td>\n",
       "      <td></td>\n",
       "      <td></td>\n",
       "      <td></td>\n",
       "      <td></td>\n",
       "      <td></td>\n",
       "    </tr>\n",
       "    <tr>\n",
       "      <th>109</th>\n",
       "      <td>34834117000310</td>\n",
       "      <td>2</td>\n",
       "      <td>URI SHOPPING</td>\n",
       "      <td></td>\n",
       "      <td>02</td>\n",
       "      <td>20200101</td>\n",
       "      <td>00</td>\n",
       "      <td></td>\n",
       "      <td></td>\n",
       "      <td></td>\n",
       "      <td>...</td>\n",
       "      <td></td>\n",
       "      <td></td>\n",
       "      <td>0.000000</td>\n",
       "      <td>05</td>\n",
       "      <td>0</td>\n",
       "      <td></td>\n",
       "      <td></td>\n",
       "      <td></td>\n",
       "      <td></td>\n",
       "      <td></td>\n",
       "    </tr>\n",
       "  </tbody>\n",
       "</table>\n",
       "<p>5 rows × 38 columns</p>\n",
       "</div>"
      ],
      "text/plain": [
       "                cnpj matriz_filial              razao_social nome_fantasia  \\\n",
       "5283  06982866000104             1       HIMARI MARKETING ME                 \n",
       "3783  01791646000378             2  AYAKA ADMINISTRATIVOS ME                 \n",
       "994   04536152000678             2   RIKUTO CONSULTORIA LTDA                 \n",
       "2479  02145121000215             2        MARGARITA SERVICOS                 \n",
       "109   34834117000310             2              URI SHOPPING                 \n",
       "\n",
       "     situacao data_situacao motivo_situacao nm_cidade_exterior cod_pais  \\\n",
       "5283       02      20200101              00                               \n",
       "3783       02      20200101              37                               \n",
       "994        02      20200101              00                               \n",
       "2479       02      20200101              37                               \n",
       "109        02      20200101              00                               \n",
       "\n",
       "     nome_pais  ... email qualif_resp capital_social porte opc_simples  \\\n",
       "5283            ...                    486768.124845    05           0   \n",
       "3783            ...                         0.000000    05           0   \n",
       "994             ...                         0.000000    05           0   \n",
       "2479            ...                         0.000000    05           0   \n",
       "109             ...                         0.000000    05           0   \n",
       "\n",
       "     data_opc_simples data_exc_simples opc_mei sit_especial data_sit_especial  \n",
       "5283                                         N                                 \n",
       "3783                                                                           \n",
       "994                                                                            \n",
       "2479                                                                           \n",
       "109                                                                            \n",
       "\n",
       "[5 rows x 38 columns]"
      ]
     },
     "execution_count": 9,
     "metadata": {},
     "output_type": "execute_result"
    }
   ],
   "source": [
    "empresas.sample(5)"
   ]
  },
  {
   "cell_type": "markdown",
   "metadata": {},
   "source": [
    "Com o comando abaixo, podemos ver que a tabela possui 5.779 registros; não possui dados nulos e há apenas uma coluna com dados numéricos."
   ]
  },
  {
   "cell_type": "code",
   "execution_count": 10,
   "metadata": {},
   "outputs": [
    {
     "name": "stdout",
     "output_type": "stream",
     "text": [
      "<class 'pandas.core.frame.DataFrame'>\n",
      "RangeIndex: 5779 entries, 0 to 5778\n",
      "Data columns (total 38 columns):\n",
      " #   Column              Non-Null Count  Dtype  \n",
      "---  ------              --------------  -----  \n",
      " 0   cnpj                5779 non-null   object \n",
      " 1   matriz_filial       5779 non-null   object \n",
      " 2   razao_social        5779 non-null   object \n",
      " 3   nome_fantasia       5779 non-null   object \n",
      " 4   situacao            5779 non-null   object \n",
      " 5   data_situacao       5779 non-null   object \n",
      " 6   motivo_situacao     5779 non-null   object \n",
      " 7   nm_cidade_exterior  5779 non-null   object \n",
      " 8   cod_pais            5779 non-null   object \n",
      " 9   nome_pais           5779 non-null   object \n",
      " 10  cod_nat_juridica    5779 non-null   object \n",
      " 11  data_inicio_ativ    5779 non-null   object \n",
      " 12  cnae_fiscal         5779 non-null   object \n",
      " 13  tipo_logradouro     5779 non-null   object \n",
      " 14  logradouro          5779 non-null   object \n",
      " 15  numero              5779 non-null   object \n",
      " 16  complemento         5779 non-null   object \n",
      " 17  bairro              5779 non-null   object \n",
      " 18  cep                 5779 non-null   object \n",
      " 19  uf                  5779 non-null   object \n",
      " 20  cod_municipio       5779 non-null   object \n",
      " 21  municipio           5779 non-null   object \n",
      " 22  ddd_1               5779 non-null   object \n",
      " 23  telefone_1          5779 non-null   object \n",
      " 24  ddd_2               5779 non-null   object \n",
      " 25  telefone_2          5779 non-null   object \n",
      " 26  ddd_fax             5779 non-null   object \n",
      " 27  num_fax             5779 non-null   object \n",
      " 28  email               5779 non-null   object \n",
      " 29  qualif_resp         5779 non-null   object \n",
      " 30  capital_social      5779 non-null   float64\n",
      " 31  porte               5779 non-null   object \n",
      " 32  opc_simples         5779 non-null   object \n",
      " 33  data_opc_simples    5779 non-null   object \n",
      " 34  data_exc_simples    5779 non-null   object \n",
      " 35  opc_mei             5779 non-null   object \n",
      " 36  sit_especial        5779 non-null   object \n",
      " 37  data_sit_especial   5779 non-null   object \n",
      "dtypes: float64(1), object(37)\n",
      "memory usage: 1.7+ MB\n"
     ]
    }
   ],
   "source": [
    "empresas.info()"
   ]
  },
  {
   "cell_type": "markdown",
   "metadata": {},
   "source": [
    "#### Sócios\n",
    "Tabela de sócios da receita federal.\n",
    "\n",
    "Possui dados alterados, mas a estrutura das colunas é semelhante a base pública da Receita Federal."
   ]
  },
  {
   "cell_type": "code",
   "execution_count": 11,
   "metadata": {},
   "outputs": [],
   "source": [
    "sql = 'SELECT * FROM socios'\n",
    "socios = pd.read_sql(sql, engine, index_col=None)"
   ]
  },
  {
   "cell_type": "markdown",
   "metadata": {},
   "source": [
    "Aqui podemos visualizar uma amostra dos dados"
   ]
  },
  {
   "cell_type": "code",
   "execution_count": 12,
   "metadata": {},
   "outputs": [
    {
     "data": {
      "text/html": [
       "<div>\n",
       "<style scoped>\n",
       "    .dataframe tbody tr th:only-of-type {\n",
       "        vertical-align: middle;\n",
       "    }\n",
       "\n",
       "    .dataframe tbody tr th {\n",
       "        vertical-align: top;\n",
       "    }\n",
       "\n",
       "    .dataframe thead th {\n",
       "        text-align: right;\n",
       "    }\n",
       "</style>\n",
       "<table border=\"1\" class=\"dataframe\">\n",
       "  <thead>\n",
       "    <tr style=\"text-align: right;\">\n",
       "      <th></th>\n",
       "      <th>cnpj</th>\n",
       "      <th>tipo_socio</th>\n",
       "      <th>nome_socio</th>\n",
       "      <th>cnpj_cpf_socio</th>\n",
       "      <th>cod_qualificacao</th>\n",
       "      <th>perc_capital</th>\n",
       "      <th>data_entrada</th>\n",
       "      <th>cod_pais_ext</th>\n",
       "      <th>nome_pais_ext</th>\n",
       "      <th>cpf_repres</th>\n",
       "      <th>nome_repres</th>\n",
       "      <th>cod_qualif_repres</th>\n",
       "    </tr>\n",
       "  </thead>\n",
       "  <tbody>\n",
       "    <tr>\n",
       "      <th>3579</th>\n",
       "      <td>38830942000179</td>\n",
       "      <td>2</td>\n",
       "      <td>ESTANISLAO BONAVOGLIA ZIELAK</td>\n",
       "      <td>***324688**</td>\n",
       "      <td>49</td>\n",
       "      <td>0.0</td>\n",
       "      <td>20200101</td>\n",
       "      <td></td>\n",
       "      <td></td>\n",
       "      <td></td>\n",
       "      <td></td>\n",
       "      <td>00</td>\n",
       "    </tr>\n",
       "    <tr>\n",
       "      <th>811</th>\n",
       "      <td>15598532000187</td>\n",
       "      <td>2</td>\n",
       "      <td>SPERETA JUNOR SHUMURANI</td>\n",
       "      <td>***243038**</td>\n",
       "      <td>59</td>\n",
       "      <td>0.0</td>\n",
       "      <td>20200101</td>\n",
       "      <td></td>\n",
       "      <td></td>\n",
       "      <td></td>\n",
       "      <td></td>\n",
       "      <td>00</td>\n",
       "    </tr>\n",
       "    <tr>\n",
       "      <th>794</th>\n",
       "      <td>25946534000192</td>\n",
       "      <td>2</td>\n",
       "      <td>SPERETA SALARINE</td>\n",
       "      <td>***724528**</td>\n",
       "      <td>59</td>\n",
       "      <td>0.0</td>\n",
       "      <td>20200101</td>\n",
       "      <td></td>\n",
       "      <td></td>\n",
       "      <td></td>\n",
       "      <td></td>\n",
       "      <td>00</td>\n",
       "    </tr>\n",
       "    <tr>\n",
       "      <th>1954</th>\n",
       "      <td>03676077000120</td>\n",
       "      <td>2</td>\n",
       "      <td>ERIVALDO GHUERREN PRANTEL</td>\n",
       "      <td>***789858**</td>\n",
       "      <td>28</td>\n",
       "      <td>0.0</td>\n",
       "      <td>20200101</td>\n",
       "      <td></td>\n",
       "      <td></td>\n",
       "      <td></td>\n",
       "      <td></td>\n",
       "      <td>00</td>\n",
       "    </tr>\n",
       "    <tr>\n",
       "      <th>4067</th>\n",
       "      <td>12427749000247</td>\n",
       "      <td>2</td>\n",
       "      <td>SANTISSIMO GUSTAVO BEDETTE HAUACH</td>\n",
       "      <td>***439728**</td>\n",
       "      <td>65</td>\n",
       "      <td>0.0</td>\n",
       "      <td>20200101</td>\n",
       "      <td></td>\n",
       "      <td></td>\n",
       "      <td></td>\n",
       "      <td></td>\n",
       "      <td>00</td>\n",
       "    </tr>\n",
       "  </tbody>\n",
       "</table>\n",
       "</div>"
      ],
      "text/plain": [
       "                cnpj tipo_socio                         nome_socio  \\\n",
       "3579  38830942000179          2       ESTANISLAO BONAVOGLIA ZIELAK   \n",
       "811   15598532000187          2            SPERETA JUNOR SHUMURANI   \n",
       "794   25946534000192          2                   SPERETA SALARINE   \n",
       "1954  03676077000120          2          ERIVALDO GHUERREN PRANTEL   \n",
       "4067  12427749000247          2  SANTISSIMO GUSTAVO BEDETTE HAUACH   \n",
       "\n",
       "     cnpj_cpf_socio cod_qualificacao  perc_capital data_entrada cod_pais_ext  \\\n",
       "3579    ***324688**               49           0.0     20200101                \n",
       "811     ***243038**               59           0.0     20200101                \n",
       "794     ***724528**               59           0.0     20200101                \n",
       "1954    ***789858**               28           0.0     20200101                \n",
       "4067    ***439728**               65           0.0     20200101                \n",
       "\n",
       "     nome_pais_ext cpf_repres nome_repres cod_qualif_repres  \n",
       "3579                                                     00  \n",
       "811                                                      00  \n",
       "794                                                      00  \n",
       "1954                                                     00  \n",
       "4067                                                     00  "
      ]
     },
     "execution_count": 12,
     "metadata": {},
     "output_type": "execute_result"
    }
   ],
   "source": [
    "socios.sample(5)"
   ]
  },
  {
   "cell_type": "markdown",
   "metadata": {},
   "source": [
    "Com o comando abaixo, podemos ver que a tabela possui 5.825 registros; não possui dados nulos e há apenas uma coluna com dados numéricos."
   ]
  },
  {
   "cell_type": "code",
   "execution_count": 13,
   "metadata": {},
   "outputs": [
    {
     "name": "stdout",
     "output_type": "stream",
     "text": [
      "<class 'pandas.core.frame.DataFrame'>\n",
      "RangeIndex: 5825 entries, 0 to 5824\n",
      "Data columns (total 12 columns):\n",
      " #   Column             Non-Null Count  Dtype  \n",
      "---  ------             --------------  -----  \n",
      " 0   cnpj               5825 non-null   object \n",
      " 1   tipo_socio         5825 non-null   object \n",
      " 2   nome_socio         5825 non-null   object \n",
      " 3   cnpj_cpf_socio     5825 non-null   object \n",
      " 4   cod_qualificacao   5825 non-null   object \n",
      " 5   perc_capital       5825 non-null   float64\n",
      " 6   data_entrada       5825 non-null   object \n",
      " 7   cod_pais_ext       5825 non-null   object \n",
      " 8   nome_pais_ext      5825 non-null   object \n",
      " 9   cpf_repres         5825 non-null   object \n",
      " 10  nome_repres        5825 non-null   object \n",
      " 11  cod_qualif_repres  5825 non-null   object \n",
      "dtypes: float64(1), object(11)\n",
      "memory usage: 546.2+ KB\n"
     ]
    }
   ],
   "source": [
    "socios.info()"
   ]
  },
  {
   "cell_type": "markdown",
   "metadata": {
    "tags": []
   },
   "source": [
    "### Carregar dados de Prefeitos e Vereadores de São Paulo"
   ]
  },
  {
   "cell_type": "code",
   "execution_count": 14,
   "metadata": {},
   "outputs": [],
   "source": [
    "arquivo_prefeitos_vereadores = 'PEP_SP.csv'\n",
    "filepath_arquivo_prefeitos_vereadores = os.path.join(diretorio_dados, arquivo_prefeitos_vereadores)"
   ]
  },
  {
   "cell_type": "code",
   "execution_count": 15,
   "metadata": {},
   "outputs": [],
   "source": [
    "prefeitos_vereadores = pd.read_csv(filepath_arquivo_prefeitos_vereadores, sep=';')"
   ]
  },
  {
   "cell_type": "markdown",
   "metadata": {},
   "source": [
    "Aqui podemos visualizar uma amostra dos dados"
   ]
  },
  {
   "cell_type": "code",
   "execution_count": 16,
   "metadata": {},
   "outputs": [
    {
     "data": {
      "text/html": [
       "<div>\n",
       "<style scoped>\n",
       "    .dataframe tbody tr th:only-of-type {\n",
       "        vertical-align: middle;\n",
       "    }\n",
       "\n",
       "    .dataframe tbody tr th {\n",
       "        vertical-align: top;\n",
       "    }\n",
       "\n",
       "    .dataframe thead th {\n",
       "        text-align: right;\n",
       "    }\n",
       "</style>\n",
       "<table border=\"1\" class=\"dataframe\">\n",
       "  <thead>\n",
       "    <tr style=\"text-align: right;\">\n",
       "      <th></th>\n",
       "      <th>CPF</th>\n",
       "      <th>Nome_PEP</th>\n",
       "      <th>Sigla_Função</th>\n",
       "      <th>Descrição_Função</th>\n",
       "      <th>Nível_Função</th>\n",
       "      <th>Nome_Órgão</th>\n",
       "      <th>Data_Início_Exercício</th>\n",
       "      <th>Data_Fim_Exercício</th>\n",
       "      <th>Data_Fim_Carência</th>\n",
       "      <th>uf_orgao</th>\n",
       "    </tr>\n",
       "  </thead>\n",
       "  <tbody>\n",
       "    <tr>\n",
       "      <th>6705</th>\n",
       "      <td>***.871.128-**</td>\n",
       "      <td>VARJAL DE NIRISMAR LAINY</td>\n",
       "      <td>VEREAD</td>\n",
       "      <td>VEREADOR</td>\n",
       "      <td>NaN</td>\n",
       "      <td>MUN. DE LEFFA-SP</td>\n",
       "      <td>01/01/2017</td>\n",
       "      <td>31/12/2020</td>\n",
       "      <td>31/12/2025</td>\n",
       "      <td>SP</td>\n",
       "    </tr>\n",
       "    <tr>\n",
       "      <th>5506</th>\n",
       "      <td>***.712.385-**</td>\n",
       "      <td>JOAO DE MOLIMAROLI NETO</td>\n",
       "      <td>VEREAD</td>\n",
       "      <td>VEREADOR</td>\n",
       "      <td>NaN</td>\n",
       "      <td>MUN. DE APOLINARIO-SP</td>\n",
       "      <td>01/01/2017</td>\n",
       "      <td>31/12/2020</td>\n",
       "      <td>31/12/2025</td>\n",
       "      <td>SP</td>\n",
       "    </tr>\n",
       "    <tr>\n",
       "      <th>2144</th>\n",
       "      <td>***.264.288-**</td>\n",
       "      <td>JANETE PIRASSOLLI OSARTCHUK ACHINELIS ALVARIA</td>\n",
       "      <td>VEREAD</td>\n",
       "      <td>VEREADOR</td>\n",
       "      <td>NaN</td>\n",
       "      <td>MUN. DE CHIECON-SP</td>\n",
       "      <td>01/01/2017</td>\n",
       "      <td>31/12/2020</td>\n",
       "      <td>31/12/2025</td>\n",
       "      <td>SP</td>\n",
       "    </tr>\n",
       "    <tr>\n",
       "      <th>6893</th>\n",
       "      <td>***.896.878-**</td>\n",
       "      <td>OTAIR SALARINE</td>\n",
       "      <td>VEREAD</td>\n",
       "      <td>VEREADOR</td>\n",
       "      <td>NaN</td>\n",
       "      <td>MUN. DE HATIDA-SP</td>\n",
       "      <td>01/01/2017</td>\n",
       "      <td>31/12/2020</td>\n",
       "      <td>31/12/2025</td>\n",
       "      <td>SP</td>\n",
       "    </tr>\n",
       "    <tr>\n",
       "      <th>1384</th>\n",
       "      <td>***.170.228-**</td>\n",
       "      <td>CAMPEZINO DINEFAR DO MORISSAWA</td>\n",
       "      <td>VEREAD</td>\n",
       "      <td>VEREADOR</td>\n",
       "      <td>NaN</td>\n",
       "      <td>MUN. DE CAZAROTTI-SP</td>\n",
       "      <td>01/01/2017</td>\n",
       "      <td>31/12/2020</td>\n",
       "      <td>31/12/2025</td>\n",
       "      <td>SP</td>\n",
       "    </tr>\n",
       "  </tbody>\n",
       "</table>\n",
       "</div>"
      ],
      "text/plain": [
       "                 CPF                                       Nome_PEP  \\\n",
       "6705  ***.871.128-**                       VARJAL DE NIRISMAR LAINY   \n",
       "5506  ***.712.385-**                        JOAO DE MOLIMAROLI NETO   \n",
       "2144  ***.264.288-**  JANETE PIRASSOLLI OSARTCHUK ACHINELIS ALVARIA   \n",
       "6893  ***.896.878-**                                 OTAIR SALARINE   \n",
       "1384  ***.170.228-**                 CAMPEZINO DINEFAR DO MORISSAWA   \n",
       "\n",
       "     Sigla_Função Descrição_Função  Nível_Função             Nome_Órgão  \\\n",
       "6705       VEREAD         VEREADOR           NaN       MUN. DE LEFFA-SP   \n",
       "5506       VEREAD         VEREADOR           NaN  MUN. DE APOLINARIO-SP   \n",
       "2144       VEREAD         VEREADOR           NaN     MUN. DE CHIECON-SP   \n",
       "6893       VEREAD         VEREADOR           NaN      MUN. DE HATIDA-SP   \n",
       "1384       VEREAD         VEREADOR           NaN   MUN. DE CAZAROTTI-SP   \n",
       "\n",
       "     Data_Início_Exercício Data_Fim_Exercício Data_Fim_Carência uf_orgao  \n",
       "6705            01/01/2017         31/12/2020        31/12/2025       SP  \n",
       "5506            01/01/2017         31/12/2020        31/12/2025       SP  \n",
       "2144            01/01/2017         31/12/2020        31/12/2025       SP  \n",
       "6893            01/01/2017         31/12/2020        31/12/2025       SP  \n",
       "1384            01/01/2017         31/12/2020        31/12/2025       SP  "
      ]
     },
     "execution_count": 16,
     "metadata": {},
     "output_type": "execute_result"
    }
   ],
   "source": [
    "prefeitos_vereadores.sample(5)"
   ]
  },
  {
   "cell_type": "markdown",
   "metadata": {},
   "source": [
    "Com o comando abaixo, podemos ver que a tabela possui 7.690 registros; não possui dados nulos e há apenas uma coluna com dados numéricos."
   ]
  },
  {
   "cell_type": "code",
   "execution_count": 17,
   "metadata": {},
   "outputs": [
    {
     "name": "stdout",
     "output_type": "stream",
     "text": [
      "<class 'pandas.core.frame.DataFrame'>\n",
      "RangeIndex: 7690 entries, 0 to 7689\n",
      "Data columns (total 10 columns):\n",
      " #   Column                 Non-Null Count  Dtype  \n",
      "---  ------                 --------------  -----  \n",
      " 0   CPF                    7690 non-null   object \n",
      " 1   Nome_PEP               7690 non-null   object \n",
      " 2   Sigla_Função           7690 non-null   object \n",
      " 3   Descrição_Função       7690 non-null   object \n",
      " 4   Nível_Função           0 non-null      float64\n",
      " 5   Nome_Órgão             7690 non-null   object \n",
      " 6   Data_Início_Exercício  7690 non-null   object \n",
      " 7   Data_Fim_Exercício     7690 non-null   object \n",
      " 8   Data_Fim_Carência      7690 non-null   object \n",
      " 9   uf_orgao               7690 non-null   object \n",
      "dtypes: float64(1), object(9)\n",
      "memory usage: 600.9+ KB\n"
     ]
    }
   ],
   "source": [
    "prefeitos_vereadores.info()"
   ]
  },
  {
   "cell_type": "markdown",
   "metadata": {},
   "source": [
    "## Execução"
   ]
  },
  {
   "cell_type": "code",
   "execution_count": 18,
   "metadata": {},
   "outputs": [],
   "source": [
    "# Definir diretorio saida\n",
    "diretorio_saida_dados = 'saida'\n",
    "\n",
    "# Remover diretorio saida, se houver\n",
    "shutil.rmtree(diretorio_saida_dados, ignore_errors=True)\n",
    "\n",
    "# Criar diretorio saida\n",
    "os.makedirs(diretorio_saida_dados, exist_ok=True)"
   ]
  },
  {
   "cell_type": "markdown",
   "metadata": {},
   "source": [
    "### Tratamento dos dados\n",
    "\n",
    "Alguns dados precisam ser tratados antes da análise."
   ]
  },
  {
   "cell_type": "markdown",
   "metadata": {},
   "source": [
    "#### Empresa"
   ]
  },
  {
   "cell_type": "markdown",
   "metadata": {},
   "source": [
    "A coluna **data_situacao** está no formato YYYMMDD, para facilitar a análise, vamos criar a coluna **data_situacao_normalizado** com o formato YYYY-MM-DD"
   ]
  },
  {
   "cell_type": "code",
   "execution_count": 19,
   "metadata": {},
   "outputs": [
    {
     "data": {
      "text/plain": [
       "4124    20200101\n",
       "1576    20200101\n",
       "1899    20200101\n",
       "5653    20200101\n",
       "4851    20200101\n",
       "Name: data_situacao, dtype: object"
      ]
     },
     "execution_count": 19,
     "metadata": {},
     "output_type": "execute_result"
    }
   ],
   "source": [
    "empresas['data_situacao'].sample(5)"
   ]
  },
  {
   "cell_type": "code",
   "execution_count": 20,
   "metadata": {},
   "outputs": [],
   "source": [
    "empresas['data_situacao_normalizado'] = pd.to_datetime(empresas['data_situacao']).dt.date"
   ]
  },
  {
   "cell_type": "code",
   "execution_count": 21,
   "metadata": {},
   "outputs": [
    {
     "data": {
      "text/plain": [
       "198     2020-01-01\n",
       "2505    2020-01-01\n",
       "39      2020-01-01\n",
       "4035    2020-01-01\n",
       "5469    2020-01-01\n",
       "Name: data_situacao_normalizado, dtype: object"
      ]
     },
     "execution_count": 21,
     "metadata": {},
     "output_type": "execute_result"
    }
   ],
   "source": [
    "empresas['data_situacao_normalizado'].sample(5)"
   ]
  },
  {
   "cell_type": "markdown",
   "metadata": {},
   "source": [
    "#### Socios"
   ]
  },
  {
   "cell_type": "markdown",
   "metadata": {},
   "source": [
    "A coluna **data_entrada** está no formato YYYMMDD, para facilitar a análise, vamos criar a coluna **data_entrada_normalizado** com o formato YYYY-MM-DD"
   ]
  },
  {
   "cell_type": "code",
   "execution_count": 22,
   "metadata": {},
   "outputs": [
    {
     "data": {
      "text/plain": [
       "362     20200101\n",
       "2471    20200101\n",
       "1218    20200101\n",
       "4503    20200101\n",
       "2060    20200101\n",
       "Name: data_entrada, dtype: object"
      ]
     },
     "execution_count": 22,
     "metadata": {},
     "output_type": "execute_result"
    }
   ],
   "source": [
    "socios['data_entrada'].sample(5)"
   ]
  },
  {
   "cell_type": "code",
   "execution_count": 23,
   "metadata": {},
   "outputs": [],
   "source": [
    "socios['data_entrada_normalizado'] = pd.to_datetime(socios['data_entrada']).dt.date"
   ]
  },
  {
   "cell_type": "code",
   "execution_count": 24,
   "metadata": {},
   "outputs": [
    {
     "data": {
      "text/plain": [
       "2921    2020-01-01\n",
       "4847    2020-01-01\n",
       "2752    2020-01-01\n",
       "4300    2020-01-01\n",
       "5489    2020-01-01\n",
       "Name: data_entrada_normalizado, dtype: object"
      ]
     },
     "execution_count": 24,
     "metadata": {},
     "output_type": "execute_result"
    }
   ],
   "source": [
    "socios['data_entrada_normalizado'].sample(5)"
   ]
  },
  {
   "cell_type": "markdown",
   "metadata": {},
   "source": [
    "### Prefeitos e Vereadores de SP"
   ]
  },
  {
   "cell_type": "markdown",
   "metadata": {},
   "source": [
    "A coluna **CPF** possuem pontuação, vamos criar a coluna **CPF_normalizado** sem elas."
   ]
  },
  {
   "cell_type": "code",
   "execution_count": 25,
   "metadata": {},
   "outputs": [
    {
     "data": {
      "text/plain": [
       "4767    ***.614.888-**\n",
       "4744    ***.612.198-**\n",
       "4713    ***.607.358-**\n",
       "2667    ***.323.768-**\n",
       "5606    ***.725.928-**\n",
       "Name: CPF, dtype: object"
      ]
     },
     "execution_count": 25,
     "metadata": {},
     "output_type": "execute_result"
    }
   ],
   "source": [
    "prefeitos_vereadores['CPF'].sample(5)"
   ]
  },
  {
   "cell_type": "code",
   "execution_count": 26,
   "metadata": {},
   "outputs": [],
   "source": [
    "prefeitos_vereadores['CPF_normalizado'] = prefeitos_vereadores['CPF'].str.replace(\".\", \"\", regex=False).str.replace(\"-\", \"\", regex=False)"
   ]
  },
  {
   "cell_type": "code",
   "execution_count": 27,
   "metadata": {},
   "outputs": [
    {
     "data": {
      "text/plain": [
       "3464    ***435598**\n",
       "5169    ***669348**\n",
       "2935    ***357908**\n",
       "1517    ***184928**\n",
       "2169    ***267718**\n",
       "Name: CPF_normalizado, dtype: object"
      ]
     },
     "execution_count": 27,
     "metadata": {},
     "output_type": "execute_result"
    }
   ],
   "source": [
    "prefeitos_vereadores['CPF_normalizado'].sample(5)"
   ]
  },
  {
   "cell_type": "markdown",
   "metadata": {},
   "source": [
    "Na coluna **Nome_Órgão** vamos filtrar dados extras e manter apenas o nome do município na coluna **Municipio_normalizado**"
   ]
  },
  {
   "cell_type": "code",
   "execution_count": 28,
   "metadata": {},
   "outputs": [
    {
     "data": {
      "text/plain": [
       "6173    MUN. DE DALPONTE-SP\n",
       "462      MUN. DE CAMPEAN-SP\n",
       "3687    MUN. DE CENCIANI-SP\n",
       "1914     MUN. DE CSILLAG-SP\n",
       "6107    MUN. DE PAULIQUE-SP\n",
       "Name: Nome_Órgão, dtype: object"
      ]
     },
     "execution_count": 28,
     "metadata": {},
     "output_type": "execute_result"
    }
   ],
   "source": [
    "prefeitos_vereadores['Nome_Órgão'].sample(5)"
   ]
  },
  {
   "cell_type": "code",
   "execution_count": 29,
   "metadata": {},
   "outputs": [],
   "source": [
    "prefeitos_vereadores['Municipio_normalizado'] = prefeitos_vereadores['Nome_Órgão'].str.replace(\"MUN. DE \", \"\", regex=False).str.replace(\"-SP\", \"\", regex=False)"
   ]
  },
  {
   "cell_type": "code",
   "execution_count": 30,
   "metadata": {},
   "outputs": [
    {
     "data": {
      "text/plain": [
       "2850      SAO PAULO\n",
       "1908      SAO PAULO\n",
       "4859    CARVALHEIRA\n",
       "3536       BURGADAO\n",
       "3989       FRANSANI\n",
       "Name: Municipio_normalizado, dtype: object"
      ]
     },
     "execution_count": 30,
     "metadata": {},
     "output_type": "execute_result"
    }
   ],
   "source": [
    "prefeitos_vereadores['Municipio_normalizado'].sample(5)"
   ]
  },
  {
   "cell_type": "markdown",
   "metadata": {},
   "source": [
    "As coluna **Data_Início_Exercício**, **Data_Fim_Exercício** e **Data_Fim_Carência** estão no formato YYY/MM/DD, para facilitar a análise, vamos criar a colunas **Data_Inicio_Exercicio_normalizado**, **Data_Fim_Exercicio_normalizado** e **Data_Fim_Carência_normalizado** com o formato YYYY-MM-DD"
   ]
  },
  {
   "cell_type": "code",
   "execution_count": 31,
   "metadata": {},
   "outputs": [
    {
     "data": {
      "text/plain": [
       "5471    01/01/2017\n",
       "2834    01/01/2017\n",
       "1326    01/01/2017\n",
       "390     01/01/2017\n",
       "4284    01/01/2017\n",
       "Name: Data_Início_Exercício, dtype: object"
      ]
     },
     "execution_count": 31,
     "metadata": {},
     "output_type": "execute_result"
    }
   ],
   "source": [
    "prefeitos_vereadores['Data_Início_Exercício'].sample(5)"
   ]
  },
  {
   "cell_type": "code",
   "execution_count": 32,
   "metadata": {},
   "outputs": [
    {
     "data": {
      "text/plain": [
       "3356    31/12/2020\n",
       "6301    31/12/2020\n",
       "673     31/12/2020\n",
       "2485    31/12/2020\n",
       "2852    31/12/2020\n",
       "Name: Data_Fim_Exercício, dtype: object"
      ]
     },
     "execution_count": 32,
     "metadata": {},
     "output_type": "execute_result"
    }
   ],
   "source": [
    "prefeitos_vereadores['Data_Fim_Exercício'].sample(5)"
   ]
  },
  {
   "cell_type": "code",
   "execution_count": 33,
   "metadata": {},
   "outputs": [
    {
     "data": {
      "text/plain": [
       "2503    31/12/2025\n",
       "6409    31/12/2025\n",
       "6967    31/12/2025\n",
       "4872    31/12/2025\n",
       "2363    31/12/2025\n",
       "Name: Data_Fim_Carência, dtype: object"
      ]
     },
     "execution_count": 33,
     "metadata": {},
     "output_type": "execute_result"
    }
   ],
   "source": [
    "prefeitos_vereadores['Data_Fim_Carência'].sample(5)"
   ]
  },
  {
   "cell_type": "code",
   "execution_count": 34,
   "metadata": {},
   "outputs": [],
   "source": [
    "prefeitos_vereadores['Data_Inicio_Exercicio_normalizado'] = pd.to_datetime(prefeitos_vereadores['Data_Início_Exercício']).dt.date\n",
    "prefeitos_vereadores['Data_Fim_Exercicio_normalizado'] = pd.to_datetime(prefeitos_vereadores['Data_Fim_Exercício']).dt.date\n",
    "prefeitos_vereadores['Data_Fim_Carência_normalizado'] = pd.to_datetime(prefeitos_vereadores['Data_Fim_Carência']).dt.date"
   ]
  },
  {
   "cell_type": "code",
   "execution_count": 35,
   "metadata": {},
   "outputs": [
    {
     "data": {
      "text/plain": [
       "2493    2017-01-01\n",
       "3578    2017-01-01\n",
       "788     2017-01-01\n",
       "1622    2017-01-01\n",
       "652     2017-01-01\n",
       "Name: Data_Inicio_Exercicio_normalizado, dtype: object"
      ]
     },
     "execution_count": 35,
     "metadata": {},
     "output_type": "execute_result"
    }
   ],
   "source": [
    "prefeitos_vereadores['Data_Inicio_Exercicio_normalizado'].sample(5)"
   ]
  },
  {
   "cell_type": "code",
   "execution_count": 36,
   "metadata": {},
   "outputs": [
    {
     "data": {
      "text/plain": [
       "6959    2020-12-31\n",
       "5696    2020-12-31\n",
       "6487    2020-12-31\n",
       "7312    2020-12-31\n",
       "6682    2020-12-31\n",
       "Name: Data_Fim_Exercicio_normalizado, dtype: object"
      ]
     },
     "execution_count": 36,
     "metadata": {},
     "output_type": "execute_result"
    }
   ],
   "source": [
    "prefeitos_vereadores['Data_Fim_Exercicio_normalizado'].sample(5)"
   ]
  },
  {
   "cell_type": "code",
   "execution_count": 37,
   "metadata": {},
   "outputs": [
    {
     "data": {
      "text/plain": [
       "2887    2025-12-31\n",
       "5933    2025-12-31\n",
       "1428    2025-12-31\n",
       "3854    2025-12-31\n",
       "1197    2025-12-31\n",
       "Name: Data_Fim_Carência_normalizado, dtype: object"
      ]
     },
     "execution_count": 37,
     "metadata": {},
     "output_type": "execute_result"
    }
   ],
   "source": [
    "prefeitos_vereadores['Data_Fim_Carência_normalizado'].sample(5)"
   ]
  },
  {
   "cell_type": "markdown",
   "metadata": {},
   "source": [
    "### Gerar Banco de Dados"
   ]
  },
  {
   "cell_type": "markdown",
   "metadata": {},
   "source": [
    "#### Copiar banco original para diretorio de saida"
   ]
  },
  {
   "cell_type": "code",
   "execution_count": 38,
   "metadata": {},
   "outputs": [
    {
     "data": {
      "text/plain": [
       "'saida/output.db'"
      ]
     },
     "execution_count": 38,
     "metadata": {},
     "output_type": "execute_result"
    }
   ],
   "source": [
    "arquivo_banco_saida = 'output.db'\n",
    "filepath_arquivo_banco_saida = os.path.join(diretorio_saida_dados, arquivo_banco_saida)\n",
    "shutil.copyfile(filepath_arquivo_sqlite, filepath_arquivo_banco_saida)"
   ]
  },
  {
   "cell_type": "markdown",
   "metadata": {},
   "source": [
    "#### Gravar tabela de prefeitos_vereadores em banco gerado"
   ]
  },
  {
   "cell_type": "code",
   "execution_count": 39,
   "metadata": {},
   "outputs": [],
   "source": [
    "url_banco = \"sqlite:///{}\".format(filepath_arquivo_banco_saida)\n",
    "engine_banco_saida = sqlalchemy.create_engine(url_banco)"
   ]
  },
  {
   "cell_type": "code",
   "execution_count": 40,
   "metadata": {},
   "outputs": [],
   "source": [
    "prefeitos_vereadores.to_sql('peps', con=engine_banco_saida)"
   ]
  },
  {
   "cell_type": "markdown",
   "metadata": {},
   "source": [
    "### Consultar Empresas Relacionadas com Pessoas Politicamente Expostas que Receberam Recursos"
   ]
  },
  {
   "cell_type": "code",
   "execution_count": 41,
   "metadata": {},
   "outputs": [],
   "source": [
    "sql = 'SELECT \\\n",
    "  des.ds_municipio AS [Nome_Municipio_Ficticio], \\\n",
    "  des.nr_identificador_despesa AS [CNPJ_Empresa_Beneficiaria], \\\n",
    "  des.ds_despesa AS [Razao_Social_Empresa_Beneficiaria], \\\n",
    "  des.soma AS [Valor_Total], \\\n",
    "  emp.cnpj AS [CNPJ_RFB], \\\n",
    "  emp.razao_social AS [Razao_Social_RFB], \\\n",
    "  CASE emp.situacao \\\n",
    "    WHEN \"01\" THEN \"NULA\" \\\n",
    "    WHEN \"02\" THEN \"ATIVA\" \\\n",
    "    WHEN \"03\" THEN \"SUSPENSA\" \\\n",
    "    WHEN \"04\" THEN \"INAPTA\" \\\n",
    "    WHEN \"08\" THEN \"BAIXADA\" \\\n",
    "  END AS [Situacao_Cadastral_RFB], \\\n",
    "  CAST(emp.data_situacao AS DATE) AS [Data_Situacao_Cadastral_RFB], \\\n",
    "  emp.cod_nat_juridica AS [Codigo_Natureza_Juridica_RFB], \\\n",
    "  CAST(emp.data_inicio_ativ AS DATE) AS [Data_Inicio_Atividade_RFB], \\\n",
    "  emp.cnae_fiscal AS [CNAE_Fiscal_RFB], \\\n",
    "  emp.municipio AS [Municipio_RFB], \\\n",
    "  emp.uf AS [UF_RFB], \\\n",
    "  soc.nome_socio AS [Nome_Socio_RFB], \\\n",
    "  soc.cnpj_cpf_socio AS [CPF_Socio_RFB], \\\n",
    "  CAST(soc.data_entrada AS DATE) AS [Data_Entrada_Socio_RFB], \\\n",
    "  pep.Nome_PEP AS [Nome_PEP], \\\n",
    "  pep.CPF_normalizado AS [CPF_PEP], \\\n",
    "  pep.Descrição_Função AS [Funcao_PEP], \\\n",
    "  pep.Data_Inicio_Exercicio_normalizado AS [Data_Inicio_PEP], \\\n",
    "  pep.Data_Fim_Exercicio_normalizado AS [Data_Fim_PEP], \\\n",
    "  pep.Data_Fim_Carência_normalizado AS [Data_Carencia_PEP], \\\n",
    "  pep.Municipio_normalizado AS [Municipio_PEP], \\\n",
    "  pep.uf_orgao AS [UF_PEP] \\\n",
    "FROM despesas_consolidado des \\\n",
    "JOIN empresas emp ON emp.cnpj = des.nr_identificador_despesa \\\n",
    "JOIN socios soc ON soc.cnpj = emp.cnpj \\\n",
    "JOIN peps pep ON pep.CPF_normalizado = soc.cnpj_cpf_socio AND pep.Nome_PEP = soc.nome_socio'"
   ]
  },
  {
   "cell_type": "code",
   "execution_count": 42,
   "metadata": {},
   "outputs": [],
   "source": [
    "empresas_prefeitos_vereadores = pd.read_sql(sql, engine_banco_saida, index_col=None)"
   ]
  },
  {
   "cell_type": "code",
   "execution_count": 43,
   "metadata": {},
   "outputs": [
    {
     "data": {
      "text/html": [
       "<div>\n",
       "<style scoped>\n",
       "    .dataframe tbody tr th:only-of-type {\n",
       "        vertical-align: middle;\n",
       "    }\n",
       "\n",
       "    .dataframe tbody tr th {\n",
       "        vertical-align: top;\n",
       "    }\n",
       "\n",
       "    .dataframe thead th {\n",
       "        text-align: right;\n",
       "    }\n",
       "</style>\n",
       "<table border=\"1\" class=\"dataframe\">\n",
       "  <thead>\n",
       "    <tr style=\"text-align: right;\">\n",
       "      <th></th>\n",
       "      <th>Nome_Municipio_Ficticio</th>\n",
       "      <th>CNPJ_Empresa_Beneficiaria</th>\n",
       "      <th>Razao_Social_Empresa_Beneficiaria</th>\n",
       "      <th>Valor_Total</th>\n",
       "      <th>CNPJ_RFB</th>\n",
       "      <th>Razao_Social_RFB</th>\n",
       "      <th>Situacao_Cadastral_RFB</th>\n",
       "      <th>Data_Situacao_Cadastral_RFB</th>\n",
       "      <th>Codigo_Natureza_Juridica_RFB</th>\n",
       "      <th>Data_Inicio_Atividade_RFB</th>\n",
       "      <th>...</th>\n",
       "      <th>CPF_Socio_RFB</th>\n",
       "      <th>Data_Entrada_Socio_RFB</th>\n",
       "      <th>Nome_PEP</th>\n",
       "      <th>CPF_PEP</th>\n",
       "      <th>Funcao_PEP</th>\n",
       "      <th>Data_Inicio_PEP</th>\n",
       "      <th>Data_Fim_PEP</th>\n",
       "      <th>Data_Carencia_PEP</th>\n",
       "      <th>Municipio_PEP</th>\n",
       "      <th>UF_PEP</th>\n",
       "    </tr>\n",
       "  </thead>\n",
       "  <tbody>\n",
       "    <tr>\n",
       "      <th>33</th>\n",
       "      <td>VIGANICO</td>\n",
       "      <td>49524688000199</td>\n",
       "      <td>IBAI VESTUARIO</td>\n",
       "      <td>290768.45</td>\n",
       "      <td>49524688000199</td>\n",
       "      <td>IBAI VESTUARIO</td>\n",
       "      <td>ATIVA</td>\n",
       "      <td>20200101</td>\n",
       "      <td>2038</td>\n",
       "      <td>20201019</td>\n",
       "      <td>...</td>\n",
       "      <td>***271878**</td>\n",
       "      <td>20200101</td>\n",
       "      <td>JAIME BONAVOGLIA DA TEVEIRA</td>\n",
       "      <td>***271878**</td>\n",
       "      <td>PREFEITO</td>\n",
       "      <td>2017-01-01</td>\n",
       "      <td>2020-12-31</td>\n",
       "      <td>2025-12-31</td>\n",
       "      <td>ASSUB</td>\n",
       "      <td>SP</td>\n",
       "    </tr>\n",
       "    <tr>\n",
       "      <th>71</th>\n",
       "      <td>ASSUB</td>\n",
       "      <td>49524688000199</td>\n",
       "      <td>IBAI VESTUARIO</td>\n",
       "      <td>113162.42</td>\n",
       "      <td>49524688000199</td>\n",
       "      <td>IBAI VESTUARIO</td>\n",
       "      <td>ATIVA</td>\n",
       "      <td>20200101</td>\n",
       "      <td>2038</td>\n",
       "      <td>20201019</td>\n",
       "      <td>...</td>\n",
       "      <td>***460278**</td>\n",
       "      <td>20200101</td>\n",
       "      <td>SAVIOLO LUYTEN SMERIERI</td>\n",
       "      <td>***460278**</td>\n",
       "      <td>PREFEITO</td>\n",
       "      <td>2017-01-01</td>\n",
       "      <td>2020-12-31</td>\n",
       "      <td>2025-12-31</td>\n",
       "      <td>SITA</td>\n",
       "      <td>SP</td>\n",
       "    </tr>\n",
       "    <tr>\n",
       "      <th>17</th>\n",
       "      <td>HACKEL</td>\n",
       "      <td>04578574000175</td>\n",
       "      <td>SOMA TURISMO EPP</td>\n",
       "      <td>513335.60</td>\n",
       "      <td>04578574000175</td>\n",
       "      <td>SOMA TURISMO EPP</td>\n",
       "      <td>ATIVA</td>\n",
       "      <td>20200101</td>\n",
       "      <td>2062</td>\n",
       "      <td>19960117</td>\n",
       "      <td>...</td>\n",
       "      <td>***149208**</td>\n",
       "      <td>20200101</td>\n",
       "      <td>CLOZOE SPERETA DANIEL</td>\n",
       "      <td>***149208**</td>\n",
       "      <td>PREFEITO</td>\n",
       "      <td>2017-01-01</td>\n",
       "      <td>2020-12-31</td>\n",
       "      <td>2025-12-31</td>\n",
       "      <td>HACKEL</td>\n",
       "      <td>SP</td>\n",
       "    </tr>\n",
       "    <tr>\n",
       "      <th>42</th>\n",
       "      <td>VEJAM</td>\n",
       "      <td>13753624000188</td>\n",
       "      <td>MOHAMED DECORACOES EPP</td>\n",
       "      <td>213973.22</td>\n",
       "      <td>13753624000188</td>\n",
       "      <td>MOHAMED DECORACOES EPP</td>\n",
       "      <td>ATIVA</td>\n",
       "      <td>20200101</td>\n",
       "      <td>2062</td>\n",
       "      <td>20080529</td>\n",
       "      <td>...</td>\n",
       "      <td>***323128**</td>\n",
       "      <td>20200101</td>\n",
       "      <td>ZAPPAZ CAMINAGA EUTIMIA</td>\n",
       "      <td>***323128**</td>\n",
       "      <td>VEREADOR</td>\n",
       "      <td>2017-01-01</td>\n",
       "      <td>2020-12-31</td>\n",
       "      <td>2025-12-31</td>\n",
       "      <td>TSUKUDA</td>\n",
       "      <td>SP</td>\n",
       "    </tr>\n",
       "    <tr>\n",
       "      <th>28</th>\n",
       "      <td>SITA</td>\n",
       "      <td>49524688000199</td>\n",
       "      <td>IBAI VESTUARIO</td>\n",
       "      <td>339078.90</td>\n",
       "      <td>49524688000199</td>\n",
       "      <td>IBAI VESTUARIO</td>\n",
       "      <td>ATIVA</td>\n",
       "      <td>20200101</td>\n",
       "      <td>2038</td>\n",
       "      <td>20201019</td>\n",
       "      <td>...</td>\n",
       "      <td>***460278**</td>\n",
       "      <td>20200101</td>\n",
       "      <td>SAVIOLO LUYTEN SMERIERI</td>\n",
       "      <td>***460278**</td>\n",
       "      <td>PREFEITO</td>\n",
       "      <td>2017-01-01</td>\n",
       "      <td>2020-12-31</td>\n",
       "      <td>2025-12-31</td>\n",
       "      <td>SITA</td>\n",
       "      <td>SP</td>\n",
       "    </tr>\n",
       "  </tbody>\n",
       "</table>\n",
       "<p>5 rows × 24 columns</p>\n",
       "</div>"
      ],
      "text/plain": [
       "   Nome_Municipio_Ficticio CNPJ_Empresa_Beneficiaria  \\\n",
       "33                VIGANICO            49524688000199   \n",
       "71                   ASSUB            49524688000199   \n",
       "17                  HACKEL            04578574000175   \n",
       "42                   VEJAM            13753624000188   \n",
       "28                    SITA            49524688000199   \n",
       "\n",
       "   Razao_Social_Empresa_Beneficiaria  Valor_Total        CNPJ_RFB  \\\n",
       "33                    IBAI VESTUARIO    290768.45  49524688000199   \n",
       "71                    IBAI VESTUARIO    113162.42  49524688000199   \n",
       "17                  SOMA TURISMO EPP    513335.60  04578574000175   \n",
       "42            MOHAMED DECORACOES EPP    213973.22  13753624000188   \n",
       "28                    IBAI VESTUARIO    339078.90  49524688000199   \n",
       "\n",
       "          Razao_Social_RFB Situacao_Cadastral_RFB  \\\n",
       "33          IBAI VESTUARIO                  ATIVA   \n",
       "71          IBAI VESTUARIO                  ATIVA   \n",
       "17        SOMA TURISMO EPP                  ATIVA   \n",
       "42  MOHAMED DECORACOES EPP                  ATIVA   \n",
       "28          IBAI VESTUARIO                  ATIVA   \n",
       "\n",
       "    Data_Situacao_Cadastral_RFB Codigo_Natureza_Juridica_RFB  \\\n",
       "33                     20200101                         2038   \n",
       "71                     20200101                         2038   \n",
       "17                     20200101                         2062   \n",
       "42                     20200101                         2062   \n",
       "28                     20200101                         2038   \n",
       "\n",
       "    Data_Inicio_Atividade_RFB  ... CPF_Socio_RFB Data_Entrada_Socio_RFB  \\\n",
       "33                   20201019  ...   ***271878**               20200101   \n",
       "71                   20201019  ...   ***460278**               20200101   \n",
       "17                   19960117  ...   ***149208**               20200101   \n",
       "42                   20080529  ...   ***323128**               20200101   \n",
       "28                   20201019  ...   ***460278**               20200101   \n",
       "\n",
       "                       Nome_PEP      CPF_PEP Funcao_PEP  Data_Inicio_PEP  \\\n",
       "33  JAIME BONAVOGLIA DA TEVEIRA  ***271878**   PREFEITO       2017-01-01   \n",
       "71      SAVIOLO LUYTEN SMERIERI  ***460278**   PREFEITO       2017-01-01   \n",
       "17        CLOZOE SPERETA DANIEL  ***149208**   PREFEITO       2017-01-01   \n",
       "42      ZAPPAZ CAMINAGA EUTIMIA  ***323128**   VEREADOR       2017-01-01   \n",
       "28      SAVIOLO LUYTEN SMERIERI  ***460278**   PREFEITO       2017-01-01   \n",
       "\n",
       "   Data_Fim_PEP Data_Carencia_PEP Municipio_PEP UF_PEP  \n",
       "33   2020-12-31        2025-12-31         ASSUB     SP  \n",
       "71   2020-12-31        2025-12-31          SITA     SP  \n",
       "17   2020-12-31        2025-12-31        HACKEL     SP  \n",
       "42   2020-12-31        2025-12-31       TSUKUDA     SP  \n",
       "28   2020-12-31        2025-12-31          SITA     SP  \n",
       "\n",
       "[5 rows x 24 columns]"
      ]
     },
     "execution_count": 43,
     "metadata": {},
     "output_type": "execute_result"
    }
   ],
   "source": [
    "empresas_prefeitos_vereadores.sample(5)"
   ]
  },
  {
   "cell_type": "markdown",
   "metadata": {
    "tags": []
   },
   "source": [
    "#### Salvar dados"
   ]
  },
  {
   "cell_type": "code",
   "execution_count": 44,
   "metadata": {},
   "outputs": [],
   "source": [
    "arquivo_saida = 'empresas_prefeitos_vereadores.csv'\n",
    "filepath = os.path.join(diretorio_saida_dados, arquivo_saida)\n",
    "empresas_prefeitos_vereadores.to_csv(filepath, index=False)"
   ]
  },
  {
   "cell_type": "markdown",
   "metadata": {},
   "source": [
    "### Consultar Empresas Relacionadas com Pessoas Politicamente Expostas que Receberam Recursos dos Municípios que Possuem Mandatos"
   ]
  },
  {
   "cell_type": "code",
   "execution_count": 45,
   "metadata": {},
   "outputs": [],
   "source": [
    "sql = 'SELECT \\\n",
    "  des.ds_municipio AS [Nome_Municipio_Ficticio], \\\n",
    "  des.nr_identificador_despesa AS [CNPJ_Empresa_Beneficiaria], \\\n",
    "  des.ds_despesa AS [Razao_Social_Empresa_Beneficiaria], \\\n",
    "  des.soma AS [Valor_Total], \\\n",
    "  emp.cnpj AS [CNPJ_RFB], \\\n",
    "  emp.razao_social AS [Razao_Social_RFB], \\\n",
    "  CASE emp.situacao \\\n",
    "    WHEN \"01\" THEN \"NULA\" \\\n",
    "    WHEN \"02\" THEN \"ATIVA\" \\\n",
    "    WHEN \"03\" THEN \"SUSPENSA\" \\\n",
    "    WHEN \"04\" THEN \"INAPTA\" \\\n",
    "    WHEN \"08\" THEN \"BAIXADA\" \\\n",
    "  END AS [Situacao_Cadastral_RFB], \\\n",
    "  CAST(emp.data_situacao AS DATE) AS [Data_Situacao_Cadastral_RFB], \\\n",
    "  emp.cod_nat_juridica AS [Codigo_Natureza_Juridica_RFB], \\\n",
    "  CAST(emp.data_inicio_ativ AS DATE) AS [Data_Inicio_Atividade_RFB], \\\n",
    "  emp.cnae_fiscal AS [CNAE_Fiscal_RFB], \\\n",
    "  emp.municipio AS [Municipio_RFB], \\\n",
    "  emp.uf AS [UF_RFB], \\\n",
    "  soc.nome_socio AS [Nome_Socio_RFB], \\\n",
    "  soc.cnpj_cpf_socio AS [CPF_Socio_RFB], \\\n",
    "  CAST(soc.data_entrada AS DATE) AS [Data_Entrada_Socio_RFB], \\\n",
    "  pep.Nome_PEP AS [Nome_PEP], \\\n",
    "  pep.CPF_normalizado AS [CPF_PEP], \\\n",
    "  pep.Descrição_Função AS [Funcao_PEP], \\\n",
    "  pep.Data_Inicio_Exercicio_normalizado AS [Data_Inicio_PEP], \\\n",
    "  pep.Data_Fim_Exercicio_normalizado AS [Data_Fim_PEP], \\\n",
    "  pep.Data_Fim_Carência_normalizado AS [Data_Carencia_PEP], \\\n",
    "  pep.Municipio_normalizado AS [Municipio_PEP], \\\n",
    "  pep.uf_orgao AS [UF_PEP] \\\n",
    "FROM despesas_consolidado des \\\n",
    "JOIN empresas emp ON emp.cnpj = des.nr_identificador_despesa \\\n",
    "JOIN socios soc ON soc.cnpj = emp.cnpj \\\n",
    "JOIN peps pep ON pep.CPF_normalizado = soc.cnpj_cpf_socio AND pep.Nome_PEP = soc.nome_socio \\\n",
    "WHERE emp.uf = pep.uf_orgao AND emp.municipio = pep.Municipio_normalizado'"
   ]
  },
  {
   "cell_type": "code",
   "execution_count": 46,
   "metadata": {},
   "outputs": [],
   "source": [
    "empresas_prefeitos_vereadores_mesmo_municipio = pd.read_sql(sql, engine_banco_saida, index_col=None)"
   ]
  },
  {
   "cell_type": "code",
   "execution_count": 47,
   "metadata": {},
   "outputs": [
    {
     "data": {
      "text/html": [
       "<div>\n",
       "<style scoped>\n",
       "    .dataframe tbody tr th:only-of-type {\n",
       "        vertical-align: middle;\n",
       "    }\n",
       "\n",
       "    .dataframe tbody tr th {\n",
       "        vertical-align: top;\n",
       "    }\n",
       "\n",
       "    .dataframe thead th {\n",
       "        text-align: right;\n",
       "    }\n",
       "</style>\n",
       "<table border=\"1\" class=\"dataframe\">\n",
       "  <thead>\n",
       "    <tr style=\"text-align: right;\">\n",
       "      <th></th>\n",
       "      <th>Nome_Municipio_Ficticio</th>\n",
       "      <th>CNPJ_Empresa_Beneficiaria</th>\n",
       "      <th>Razao_Social_Empresa_Beneficiaria</th>\n",
       "      <th>Valor_Total</th>\n",
       "      <th>CNPJ_RFB</th>\n",
       "      <th>Razao_Social_RFB</th>\n",
       "      <th>Situacao_Cadastral_RFB</th>\n",
       "      <th>Data_Situacao_Cadastral_RFB</th>\n",
       "      <th>Codigo_Natureza_Juridica_RFB</th>\n",
       "      <th>Data_Inicio_Atividade_RFB</th>\n",
       "      <th>...</th>\n",
       "      <th>CPF_Socio_RFB</th>\n",
       "      <th>Data_Entrada_Socio_RFB</th>\n",
       "      <th>Nome_PEP</th>\n",
       "      <th>CPF_PEP</th>\n",
       "      <th>Funcao_PEP</th>\n",
       "      <th>Data_Inicio_PEP</th>\n",
       "      <th>Data_Fim_PEP</th>\n",
       "      <th>Data_Carencia_PEP</th>\n",
       "      <th>Municipio_PEP</th>\n",
       "      <th>UF_PEP</th>\n",
       "    </tr>\n",
       "  </thead>\n",
       "  <tbody>\n",
       "    <tr>\n",
       "      <th>1</th>\n",
       "      <td>KNOLL</td>\n",
       "      <td>18941225000172</td>\n",
       "      <td>CSENGE CONFECCOES EIRELLI</td>\n",
       "      <td>555209.93</td>\n",
       "      <td>18941225000172</td>\n",
       "      <td>CSENGE CONFECCOES EIRELLI</td>\n",
       "      <td>ATIVA</td>\n",
       "      <td>20200101</td>\n",
       "      <td>2232</td>\n",
       "      <td>20120324</td>\n",
       "      <td>...</td>\n",
       "      <td>***969658**</td>\n",
       "      <td>20200101</td>\n",
       "      <td>JUNOR RUITA CHIMANGO</td>\n",
       "      <td>***969658**</td>\n",
       "      <td>VEREADOR</td>\n",
       "      <td>2017-01-01</td>\n",
       "      <td>2020-12-31</td>\n",
       "      <td>2025-12-31</td>\n",
       "      <td>KNOLL</td>\n",
       "      <td>SP</td>\n",
       "    </tr>\n",
       "    <tr>\n",
       "      <th>12</th>\n",
       "      <td>TUMARKIN</td>\n",
       "      <td>10240793000137</td>\n",
       "      <td>JOAO LUCAS ELETRONICOS SA</td>\n",
       "      <td>140473.55</td>\n",
       "      <td>10240793000137</td>\n",
       "      <td>JOAO LUCAS ELETRONICOS SA</td>\n",
       "      <td>ATIVA</td>\n",
       "      <td>20200101</td>\n",
       "      <td>3999</td>\n",
       "      <td>20130111</td>\n",
       "      <td>...</td>\n",
       "      <td>***502138**</td>\n",
       "      <td>20200101</td>\n",
       "      <td>CAUME UNAIDE ABASILIA PHREDERICO ZIELAK</td>\n",
       "      <td>***502138**</td>\n",
       "      <td>PREFEITO</td>\n",
       "      <td>2017-01-01</td>\n",
       "      <td>2020-12-31</td>\n",
       "      <td>2025-12-31</td>\n",
       "      <td>BREIA</td>\n",
       "      <td>SP</td>\n",
       "    </tr>\n",
       "    <tr>\n",
       "      <th>4</th>\n",
       "      <td>HANDA</td>\n",
       "      <td>07815964000138</td>\n",
       "      <td>AMINE LIMPEZA EPP</td>\n",
       "      <td>425778.13</td>\n",
       "      <td>07815964000138</td>\n",
       "      <td>AMINE LIMPEZA EPP</td>\n",
       "      <td>ATIVA</td>\n",
       "      <td>20200101</td>\n",
       "      <td>2305</td>\n",
       "      <td>20200127</td>\n",
       "      <td>...</td>\n",
       "      <td>***396958**</td>\n",
       "      <td>20200101</td>\n",
       "      <td>FABIO MUSSY DE BOYDE</td>\n",
       "      <td>***396958**</td>\n",
       "      <td>VEREADOR</td>\n",
       "      <td>2017-01-01</td>\n",
       "      <td>2020-12-31</td>\n",
       "      <td>2025-12-31</td>\n",
       "      <td>VIJARVA</td>\n",
       "      <td>SP</td>\n",
       "    </tr>\n",
       "    <tr>\n",
       "      <th>6</th>\n",
       "      <td>ALVERNE</td>\n",
       "      <td>47817109002513</td>\n",
       "      <td>CLAIRE SUPERMERCADO</td>\n",
       "      <td>311980.65</td>\n",
       "      <td>47817109002513</td>\n",
       "      <td>CLAIRE SUPERMERCADO</td>\n",
       "      <td>ATIVA</td>\n",
       "      <td>20200101</td>\n",
       "      <td>2062</td>\n",
       "      <td>20050723</td>\n",
       "      <td>...</td>\n",
       "      <td>***199388**</td>\n",
       "      <td>20200101</td>\n",
       "      <td>UNAIDE ALBERTO DAMAR</td>\n",
       "      <td>***199388**</td>\n",
       "      <td>VEREADOR</td>\n",
       "      <td>2017-01-01</td>\n",
       "      <td>2020-12-31</td>\n",
       "      <td>2025-12-31</td>\n",
       "      <td>ALVERNE</td>\n",
       "      <td>SP</td>\n",
       "    </tr>\n",
       "    <tr>\n",
       "      <th>3</th>\n",
       "      <td>HACKEL</td>\n",
       "      <td>04578574000175</td>\n",
       "      <td>SOMA TURISMO EPP</td>\n",
       "      <td>513335.60</td>\n",
       "      <td>04578574000175</td>\n",
       "      <td>SOMA TURISMO EPP</td>\n",
       "      <td>ATIVA</td>\n",
       "      <td>20200101</td>\n",
       "      <td>2062</td>\n",
       "      <td>19960117</td>\n",
       "      <td>...</td>\n",
       "      <td>***149208**</td>\n",
       "      <td>20200101</td>\n",
       "      <td>CLOZOE SPERETA DANIEL</td>\n",
       "      <td>***149208**</td>\n",
       "      <td>PREFEITO</td>\n",
       "      <td>2017-01-01</td>\n",
       "      <td>2020-12-31</td>\n",
       "      <td>2025-12-31</td>\n",
       "      <td>HACKEL</td>\n",
       "      <td>SP</td>\n",
       "    </tr>\n",
       "  </tbody>\n",
       "</table>\n",
       "<p>5 rows × 24 columns</p>\n",
       "</div>"
      ],
      "text/plain": [
       "   Nome_Municipio_Ficticio CNPJ_Empresa_Beneficiaria  \\\n",
       "1                    KNOLL            18941225000172   \n",
       "12                TUMARKIN            10240793000137   \n",
       "4                    HANDA            07815964000138   \n",
       "6                  ALVERNE            47817109002513   \n",
       "3                   HACKEL            04578574000175   \n",
       "\n",
       "   Razao_Social_Empresa_Beneficiaria  Valor_Total        CNPJ_RFB  \\\n",
       "1          CSENGE CONFECCOES EIRELLI    555209.93  18941225000172   \n",
       "12         JOAO LUCAS ELETRONICOS SA    140473.55  10240793000137   \n",
       "4                  AMINE LIMPEZA EPP    425778.13  07815964000138   \n",
       "6                CLAIRE SUPERMERCADO    311980.65  47817109002513   \n",
       "3                   SOMA TURISMO EPP    513335.60  04578574000175   \n",
       "\n",
       "             Razao_Social_RFB Situacao_Cadastral_RFB  \\\n",
       "1   CSENGE CONFECCOES EIRELLI                  ATIVA   \n",
       "12  JOAO LUCAS ELETRONICOS SA                  ATIVA   \n",
       "4           AMINE LIMPEZA EPP                  ATIVA   \n",
       "6         CLAIRE SUPERMERCADO                  ATIVA   \n",
       "3            SOMA TURISMO EPP                  ATIVA   \n",
       "\n",
       "    Data_Situacao_Cadastral_RFB Codigo_Natureza_Juridica_RFB  \\\n",
       "1                      20200101                         2232   \n",
       "12                     20200101                         3999   \n",
       "4                      20200101                         2305   \n",
       "6                      20200101                         2062   \n",
       "3                      20200101                         2062   \n",
       "\n",
       "    Data_Inicio_Atividade_RFB  ... CPF_Socio_RFB Data_Entrada_Socio_RFB  \\\n",
       "1                    20120324  ...   ***969658**               20200101   \n",
       "12                   20130111  ...   ***502138**               20200101   \n",
       "4                    20200127  ...   ***396958**               20200101   \n",
       "6                    20050723  ...   ***199388**               20200101   \n",
       "3                    19960117  ...   ***149208**               20200101   \n",
       "\n",
       "                                   Nome_PEP      CPF_PEP Funcao_PEP  \\\n",
       "1                      JUNOR RUITA CHIMANGO  ***969658**   VEREADOR   \n",
       "12  CAUME UNAIDE ABASILIA PHREDERICO ZIELAK  ***502138**   PREFEITO   \n",
       "4                      FABIO MUSSY DE BOYDE  ***396958**   VEREADOR   \n",
       "6                      UNAIDE ALBERTO DAMAR  ***199388**   VEREADOR   \n",
       "3                     CLOZOE SPERETA DANIEL  ***149208**   PREFEITO   \n",
       "\n",
       "    Data_Inicio_PEP Data_Fim_PEP Data_Carencia_PEP Municipio_PEP UF_PEP  \n",
       "1        2017-01-01   2020-12-31        2025-12-31         KNOLL     SP  \n",
       "12       2017-01-01   2020-12-31        2025-12-31         BREIA     SP  \n",
       "4        2017-01-01   2020-12-31        2025-12-31       VIJARVA     SP  \n",
       "6        2017-01-01   2020-12-31        2025-12-31       ALVERNE     SP  \n",
       "3        2017-01-01   2020-12-31        2025-12-31        HACKEL     SP  \n",
       "\n",
       "[5 rows x 24 columns]"
      ]
     },
     "execution_count": 47,
     "metadata": {},
     "output_type": "execute_result"
    }
   ],
   "source": [
    "empresas_prefeitos_vereadores_mesmo_municipio.sample(5)"
   ]
  },
  {
   "cell_type": "markdown",
   "metadata": {
    "tags": []
   },
   "source": [
    "#### Salvar dados"
   ]
  },
  {
   "cell_type": "code",
   "execution_count": 48,
   "metadata": {},
   "outputs": [],
   "source": [
    "arquivo_saida = 'empresas_prefeitos_vereadores_mesmo_municipio.csv'\n",
    "filepath = os.path.join(diretorio_saida_dados, arquivo_saida)\n",
    "empresas_prefeitos_vereadores_mesmo_municipio.to_csv(filepath, index=False)"
   ]
  },
  {
   "cell_type": "code",
   "execution_count": null,
   "metadata": {},
   "outputs": [],
   "source": []
  }
 ],
 "metadata": {
  "kernelspec": {
   "display_name": "Python 3 (ipykernel)",
   "language": "python",
   "name": "python3"
  },
  "language_info": {
   "codemirror_mode": {
    "name": "ipython",
    "version": 3
   },
   "file_extension": ".py",
   "mimetype": "text/x-python",
   "name": "python",
   "nbconvert_exporter": "python",
   "pygments_lexer": "ipython3",
   "version": "3.8.10"
  }
 },
 "nbformat": 4,
 "nbformat_minor": 4
}
