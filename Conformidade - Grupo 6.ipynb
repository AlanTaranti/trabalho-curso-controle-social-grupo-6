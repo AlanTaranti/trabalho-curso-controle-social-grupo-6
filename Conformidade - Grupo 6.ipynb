{
 "cells": [
  {
   "cell_type": "markdown",
   "metadata": {},
   "source": [
    "# Trabalho de Conformidade do Curso de Dados Abertos para Controle Social"
   ]
  },
  {
   "cell_type": "markdown",
   "metadata": {},
   "source": [
    "O objetivo do presente trabalho é verificar quais empresas de pessoas politicamente expostas que receberam recursos dos próprios municípios em que têm mandatos.\n",
    "\n",
    "Para isso serão utilizado dados do Portal de Transparência Municipal do TCESP, base de dados públicos de CNPJ da SRF e dados do Portal da Transparência da CGU."
   ]
  },
  {
   "cell_type": "markdown",
   "metadata": {},
   "source": [
    "**Atenção:** Como o presente trabalho é para fins educacionais, os nomes, CPFs e CNPJs foram alterados, mas as estruturas são idênticas às das tabelas originais."
   ]
  },
  {
   "cell_type": "markdown",
   "metadata": {},
   "source": [
    "## Importar as bibliotecas utilizadas"
   ]
  },
  {
   "cell_type": "code",
   "execution_count": 1,
   "metadata": {},
   "outputs": [],
   "source": [
    "import os\n",
    "import shutil\n",
    "\n",
    "import pandas as pd\n",
    "import sqlalchemy"
   ]
  },
  {
   "cell_type": "markdown",
   "metadata": {},
   "source": [
    "## Carregar Dados"
   ]
  },
  {
   "cell_type": "code",
   "execution_count": 2,
   "metadata": {},
   "outputs": [],
   "source": [
    "diretorio_dados = 'dados'"
   ]
  },
  {
   "cell_type": "markdown",
   "metadata": {
    "tags": []
   },
   "source": [
    "### Carregar dados de banco\n",
    "\n",
    "O banco de dados possui três tabelas: despesas_consolidado, empresas e sócios"
   ]
  },
  {
   "cell_type": "code",
   "execution_count": 3,
   "metadata": {},
   "outputs": [],
   "source": [
    "arquivo_sqlite = 'banco_trabalho06.db'\n",
    "filepath_arquivo_sqlite = os.path.join(diretorio_dados, arquivo_sqlite)"
   ]
  },
  {
   "cell_type": "code",
   "execution_count": 4,
   "metadata": {},
   "outputs": [],
   "source": [
    "url_banco = \"sqlite:///{}\".format(filepath_arquivo_sqlite)\n",
    "engine = sqlalchemy.create_engine(url_banco)"
   ]
  },
  {
   "cell_type": "markdown",
   "metadata": {},
   "source": [
    "#### Despesas \n",
    "É a totalização de valores pagos a empresas por município, valores aproximadamente acima de 100 mil reais.\n",
    "\n",
    "A consolidação foi realizada a partir da tabela despesas do TCE/SP. Os nomes de empresas, cnpjs e municípios foram alterados.\n",
    "\n",
    "A coluna **ds_municipio** é o nome do município fictício, **nr_identificador_despesa** o CNPJ da empresa que recebeu o valor da coluna soma e **ds_despesa** a razão social fictícia da empresa."
   ]
  },
  {
   "cell_type": "code",
   "execution_count": 5,
   "metadata": {},
   "outputs": [],
   "source": [
    "sql = 'SELECT * FROM despesas_consolidado'\n",
    "despesas = pd.read_sql(sql, engine, index_col=None)"
   ]
  },
  {
   "cell_type": "markdown",
   "metadata": {},
   "source": [
    "Aqui podemos visualizar uma amostra dos dados"
   ]
  },
  {
   "cell_type": "code",
   "execution_count": 6,
   "metadata": {},
   "outputs": [
    {
     "data": {
      "text/html": [
       "<div>\n",
       "<style scoped>\n",
       "    .dataframe tbody tr th:only-of-type {\n",
       "        vertical-align: middle;\n",
       "    }\n",
       "\n",
       "    .dataframe tbody tr th {\n",
       "        vertical-align: top;\n",
       "    }\n",
       "\n",
       "    .dataframe thead th {\n",
       "        text-align: right;\n",
       "    }\n",
       "</style>\n",
       "<table border=\"1\" class=\"dataframe\">\n",
       "  <thead>\n",
       "    <tr style=\"text-align: right;\">\n",
       "      <th></th>\n",
       "      <th>ds_municipio</th>\n",
       "      <th>nr_identificador_despesa</th>\n",
       "      <th>ds_despesa</th>\n",
       "      <th>soma</th>\n",
       "    </tr>\n",
       "  </thead>\n",
       "  <tbody>\n",
       "    <tr>\n",
       "      <th>23104</th>\n",
       "      <td>SNOW</td>\n",
       "      <td>00631983000193</td>\n",
       "      <td>CLEMENCE BAR SA</td>\n",
       "      <td>126879.94</td>\n",
       "    </tr>\n",
       "    <tr>\n",
       "      <th>15282</th>\n",
       "      <td>SUCHOBKOW</td>\n",
       "      <td>16036834000171</td>\n",
       "      <td>IMRE AGROPECUARIA EPP</td>\n",
       "      <td>193346.11</td>\n",
       "    </tr>\n",
       "    <tr>\n",
       "      <th>1972</th>\n",
       "      <td>MARIM</td>\n",
       "      <td>27709938000112</td>\n",
       "      <td>LUCCA SANTOS</td>\n",
       "      <td>2171336.22</td>\n",
       "    </tr>\n",
       "    <tr>\n",
       "      <th>22657</th>\n",
       "      <td>EMERIM</td>\n",
       "      <td>67600840000113</td>\n",
       "      <td>MARIA LUIZA TELECOMUNICACOES</td>\n",
       "      <td>128884.53</td>\n",
       "    </tr>\n",
       "    <tr>\n",
       "      <th>331</th>\n",
       "      <td>ASSUB</td>\n",
       "      <td>00466957000174</td>\n",
       "      <td>LAIA SISTEMAS</td>\n",
       "      <td>13587600.57</td>\n",
       "    </tr>\n",
       "  </tbody>\n",
       "</table>\n",
       "</div>"
      ],
      "text/plain": [
       "      ds_municipio nr_identificador_despesa                    ds_despesa  \\\n",
       "23104         SNOW           00631983000193               CLEMENCE BAR SA   \n",
       "15282    SUCHOBKOW           16036834000171         IMRE AGROPECUARIA EPP   \n",
       "1972         MARIM           27709938000112                  LUCCA SANTOS   \n",
       "22657       EMERIM           67600840000113  MARIA LUIZA TELECOMUNICACOES   \n",
       "331          ASSUB           00466957000174                 LAIA SISTEMAS   \n",
       "\n",
       "              soma  \n",
       "23104    126879.94  \n",
       "15282    193346.11  \n",
       "1972    2171336.22  \n",
       "22657    128884.53  \n",
       "331    13587600.57  "
      ]
     },
     "execution_count": 6,
     "metadata": {},
     "output_type": "execute_result"
    }
   ],
   "source": [
    "despesas.sample(5)"
   ]
  },
  {
   "cell_type": "markdown",
   "metadata": {},
   "source": [
    "Com o comando abaixo, podemos ver que a tabela possui 25.885 registros; não possui dados nulos e há apenas uma coluna com dados numéricos."
   ]
  },
  {
   "cell_type": "code",
   "execution_count": 7,
   "metadata": {},
   "outputs": [
    {
     "name": "stdout",
     "output_type": "stream",
     "text": [
      "<class 'pandas.core.frame.DataFrame'>\n",
      "RangeIndex: 25885 entries, 0 to 25884\n",
      "Data columns (total 4 columns):\n",
      " #   Column                    Non-Null Count  Dtype  \n",
      "---  ------                    --------------  -----  \n",
      " 0   ds_municipio              25885 non-null  object \n",
      " 1   nr_identificador_despesa  25885 non-null  object \n",
      " 2   ds_despesa                25885 non-null  object \n",
      " 3   soma                      25885 non-null  float64\n",
      "dtypes: float64(1), object(3)\n",
      "memory usage: 809.0+ KB\n"
     ]
    }
   ],
   "source": [
    "despesas.info()"
   ]
  },
  {
   "cell_type": "markdown",
   "metadata": {},
   "source": [
    "#### Empresas \n",
    "Tabela de empresas da receita federal.\n",
    "\n",
    "Possui dados alterados, mas a estrutura das colunas é semelhante a base pública da Receita Federal."
   ]
  },
  {
   "cell_type": "code",
   "execution_count": 8,
   "metadata": {},
   "outputs": [],
   "source": [
    "sql = 'SELECT * FROM empresas'\n",
    "empresas = pd.read_sql(sql, engine, index_col=None)"
   ]
  },
  {
   "cell_type": "markdown",
   "metadata": {},
   "source": [
    "Aqui podemos visualizar uma amostra dos dados"
   ]
  },
  {
   "cell_type": "code",
   "execution_count": 9,
   "metadata": {},
   "outputs": [
    {
     "data": {
      "text/html": [
       "<div>\n",
       "<style scoped>\n",
       "    .dataframe tbody tr th:only-of-type {\n",
       "        vertical-align: middle;\n",
       "    }\n",
       "\n",
       "    .dataframe tbody tr th {\n",
       "        vertical-align: top;\n",
       "    }\n",
       "\n",
       "    .dataframe thead th {\n",
       "        text-align: right;\n",
       "    }\n",
       "</style>\n",
       "<table border=\"1\" class=\"dataframe\">\n",
       "  <thead>\n",
       "    <tr style=\"text-align: right;\">\n",
       "      <th></th>\n",
       "      <th>cnpj</th>\n",
       "      <th>matriz_filial</th>\n",
       "      <th>razao_social</th>\n",
       "      <th>nome_fantasia</th>\n",
       "      <th>situacao</th>\n",
       "      <th>data_situacao</th>\n",
       "      <th>motivo_situacao</th>\n",
       "      <th>nm_cidade_exterior</th>\n",
       "      <th>cod_pais</th>\n",
       "      <th>nome_pais</th>\n",
       "      <th>...</th>\n",
       "      <th>email</th>\n",
       "      <th>qualif_resp</th>\n",
       "      <th>capital_social</th>\n",
       "      <th>porte</th>\n",
       "      <th>opc_simples</th>\n",
       "      <th>data_opc_simples</th>\n",
       "      <th>data_exc_simples</th>\n",
       "      <th>opc_mei</th>\n",
       "      <th>sit_especial</th>\n",
       "      <th>data_sit_especial</th>\n",
       "    </tr>\n",
       "  </thead>\n",
       "  <tbody>\n",
       "    <tr>\n",
       "      <th>1444</th>\n",
       "      <td>00398367000153</td>\n",
       "      <td>1</td>\n",
       "      <td>LEYRE ALIMENTOS</td>\n",
       "      <td></td>\n",
       "      <td>02</td>\n",
       "      <td>20200101</td>\n",
       "      <td>63</td>\n",
       "      <td></td>\n",
       "      <td></td>\n",
       "      <td></td>\n",
       "      <td>...</td>\n",
       "      <td></td>\n",
       "      <td></td>\n",
       "      <td>0.0</td>\n",
       "      <td>05</td>\n",
       "      <td>0</td>\n",
       "      <td></td>\n",
       "      <td></td>\n",
       "      <td>N</td>\n",
       "      <td></td>\n",
       "      <td></td>\n",
       "    </tr>\n",
       "    <tr>\n",
       "      <th>1139</th>\n",
       "      <td>56972044000184</td>\n",
       "      <td>1</td>\n",
       "      <td>LEANO PAPELARIA EPP</td>\n",
       "      <td></td>\n",
       "      <td>02</td>\n",
       "      <td>20200101</td>\n",
       "      <td>00</td>\n",
       "      <td></td>\n",
       "      <td></td>\n",
       "      <td></td>\n",
       "      <td>...</td>\n",
       "      <td></td>\n",
       "      <td></td>\n",
       "      <td>0.0</td>\n",
       "      <td>05</td>\n",
       "      <td>0</td>\n",
       "      <td></td>\n",
       "      <td></td>\n",
       "      <td>N</td>\n",
       "      <td></td>\n",
       "      <td></td>\n",
       "    </tr>\n",
       "    <tr>\n",
       "      <th>224</th>\n",
       "      <td>14874243000146</td>\n",
       "      <td>1</td>\n",
       "      <td>SOFIJA INCORPORACAO SA</td>\n",
       "      <td></td>\n",
       "      <td>02</td>\n",
       "      <td>20200101</td>\n",
       "      <td>63</td>\n",
       "      <td></td>\n",
       "      <td></td>\n",
       "      <td></td>\n",
       "      <td>...</td>\n",
       "      <td></td>\n",
       "      <td></td>\n",
       "      <td>0.0</td>\n",
       "      <td>05</td>\n",
       "      <td>0</td>\n",
       "      <td></td>\n",
       "      <td></td>\n",
       "      <td>N</td>\n",
       "      <td></td>\n",
       "      <td></td>\n",
       "    </tr>\n",
       "    <tr>\n",
       "      <th>4017</th>\n",
       "      <td>22373705000199</td>\n",
       "      <td>1</td>\n",
       "      <td>MADISON EQUIPAMENTOS EIRELLI</td>\n",
       "      <td></td>\n",
       "      <td>02</td>\n",
       "      <td>20200101</td>\n",
       "      <td>00</td>\n",
       "      <td></td>\n",
       "      <td></td>\n",
       "      <td></td>\n",
       "      <td>...</td>\n",
       "      <td></td>\n",
       "      <td></td>\n",
       "      <td>0.0</td>\n",
       "      <td>05</td>\n",
       "      <td>0</td>\n",
       "      <td></td>\n",
       "      <td></td>\n",
       "      <td>N</td>\n",
       "      <td></td>\n",
       "      <td></td>\n",
       "    </tr>\n",
       "    <tr>\n",
       "      <th>551</th>\n",
       "      <td>49505918000652</td>\n",
       "      <td>2</td>\n",
       "      <td>NOEMIE ESPORTIVOS</td>\n",
       "      <td></td>\n",
       "      <td>02</td>\n",
       "      <td>20200101</td>\n",
       "      <td>00</td>\n",
       "      <td></td>\n",
       "      <td></td>\n",
       "      <td></td>\n",
       "      <td>...</td>\n",
       "      <td></td>\n",
       "      <td></td>\n",
       "      <td>0.0</td>\n",
       "      <td>05</td>\n",
       "      <td>0</td>\n",
       "      <td></td>\n",
       "      <td></td>\n",
       "      <td></td>\n",
       "      <td></td>\n",
       "      <td></td>\n",
       "    </tr>\n",
       "  </tbody>\n",
       "</table>\n",
       "<p>5 rows × 38 columns</p>\n",
       "</div>"
      ],
      "text/plain": [
       "                cnpj matriz_filial                  razao_social  \\\n",
       "1444  00398367000153             1               LEYRE ALIMENTOS   \n",
       "1139  56972044000184             1           LEANO PAPELARIA EPP   \n",
       "224   14874243000146             1        SOFIJA INCORPORACAO SA   \n",
       "4017  22373705000199             1  MADISON EQUIPAMENTOS EIRELLI   \n",
       "551   49505918000652             2             NOEMIE ESPORTIVOS   \n",
       "\n",
       "     nome_fantasia situacao data_situacao motivo_situacao nm_cidade_exterior  \\\n",
       "1444                     02      20200101              63                      \n",
       "1139                     02      20200101              00                      \n",
       "224                      02      20200101              63                      \n",
       "4017                     02      20200101              00                      \n",
       "551                      02      20200101              00                      \n",
       "\n",
       "     cod_pais nome_pais  ... email qualif_resp capital_social porte  \\\n",
       "1444                     ...                              0.0    05   \n",
       "1139                     ...                              0.0    05   \n",
       "224                      ...                              0.0    05   \n",
       "4017                     ...                              0.0    05   \n",
       "551                      ...                              0.0    05   \n",
       "\n",
       "     opc_simples data_opc_simples data_exc_simples opc_mei sit_especial  \\\n",
       "1444           0                                         N                \n",
       "1139           0                                         N                \n",
       "224            0                                         N                \n",
       "4017           0                                         N                \n",
       "551            0                                                          \n",
       "\n",
       "     data_sit_especial  \n",
       "1444                    \n",
       "1139                    \n",
       "224                     \n",
       "4017                    \n",
       "551                     \n",
       "\n",
       "[5 rows x 38 columns]"
      ]
     },
     "execution_count": 9,
     "metadata": {},
     "output_type": "execute_result"
    }
   ],
   "source": [
    "empresas.sample(5)"
   ]
  },
  {
   "cell_type": "markdown",
   "metadata": {},
   "source": [
    "Com o comando abaixo, podemos ver que a tabela possui 5.779 registros; não possui dados nulos e há apenas uma coluna com dados numéricos."
   ]
  },
  {
   "cell_type": "code",
   "execution_count": 10,
   "metadata": {},
   "outputs": [
    {
     "name": "stdout",
     "output_type": "stream",
     "text": [
      "<class 'pandas.core.frame.DataFrame'>\n",
      "RangeIndex: 5779 entries, 0 to 5778\n",
      "Data columns (total 38 columns):\n",
      " #   Column              Non-Null Count  Dtype  \n",
      "---  ------              --------------  -----  \n",
      " 0   cnpj                5779 non-null   object \n",
      " 1   matriz_filial       5779 non-null   object \n",
      " 2   razao_social        5779 non-null   object \n",
      " 3   nome_fantasia       5779 non-null   object \n",
      " 4   situacao            5779 non-null   object \n",
      " 5   data_situacao       5779 non-null   object \n",
      " 6   motivo_situacao     5779 non-null   object \n",
      " 7   nm_cidade_exterior  5779 non-null   object \n",
      " 8   cod_pais            5779 non-null   object \n",
      " 9   nome_pais           5779 non-null   object \n",
      " 10  cod_nat_juridica    5779 non-null   object \n",
      " 11  data_inicio_ativ    5779 non-null   object \n",
      " 12  cnae_fiscal         5779 non-null   object \n",
      " 13  tipo_logradouro     5779 non-null   object \n",
      " 14  logradouro          5779 non-null   object \n",
      " 15  numero              5779 non-null   object \n",
      " 16  complemento         5779 non-null   object \n",
      " 17  bairro              5779 non-null   object \n",
      " 18  cep                 5779 non-null   object \n",
      " 19  uf                  5779 non-null   object \n",
      " 20  cod_municipio       5779 non-null   object \n",
      " 21  municipio           5779 non-null   object \n",
      " 22  ddd_1               5779 non-null   object \n",
      " 23  telefone_1          5779 non-null   object \n",
      " 24  ddd_2               5779 non-null   object \n",
      " 25  telefone_2          5779 non-null   object \n",
      " 26  ddd_fax             5779 non-null   object \n",
      " 27  num_fax             5779 non-null   object \n",
      " 28  email               5779 non-null   object \n",
      " 29  qualif_resp         5779 non-null   object \n",
      " 30  capital_social      5779 non-null   float64\n",
      " 31  porte               5779 non-null   object \n",
      " 32  opc_simples         5779 non-null   object \n",
      " 33  data_opc_simples    5779 non-null   object \n",
      " 34  data_exc_simples    5779 non-null   object \n",
      " 35  opc_mei             5779 non-null   object \n",
      " 36  sit_especial        5779 non-null   object \n",
      " 37  data_sit_especial   5779 non-null   object \n",
      "dtypes: float64(1), object(37)\n",
      "memory usage: 1.7+ MB\n"
     ]
    }
   ],
   "source": [
    "empresas.info()"
   ]
  },
  {
   "cell_type": "markdown",
   "metadata": {},
   "source": [
    "#### Sócios\n",
    "Tabela de sócios da receita federal.\n",
    "\n",
    "Possui dados alterados, mas a estrutura das colunas é semelhante a base pública da Receita Federal."
   ]
  },
  {
   "cell_type": "code",
   "execution_count": 11,
   "metadata": {},
   "outputs": [],
   "source": [
    "sql = 'SELECT * FROM socios'\n",
    "socios = pd.read_sql(sql, engine, index_col=None)"
   ]
  },
  {
   "cell_type": "markdown",
   "metadata": {},
   "source": [
    "Aqui podemos visualizar uma amostra dos dados"
   ]
  },
  {
   "cell_type": "code",
   "execution_count": 12,
   "metadata": {},
   "outputs": [
    {
     "data": {
      "text/html": [
       "<div>\n",
       "<style scoped>\n",
       "    .dataframe tbody tr th:only-of-type {\n",
       "        vertical-align: middle;\n",
       "    }\n",
       "\n",
       "    .dataframe tbody tr th {\n",
       "        vertical-align: top;\n",
       "    }\n",
       "\n",
       "    .dataframe thead th {\n",
       "        text-align: right;\n",
       "    }\n",
       "</style>\n",
       "<table border=\"1\" class=\"dataframe\">\n",
       "  <thead>\n",
       "    <tr style=\"text-align: right;\">\n",
       "      <th></th>\n",
       "      <th>cnpj</th>\n",
       "      <th>tipo_socio</th>\n",
       "      <th>nome_socio</th>\n",
       "      <th>cnpj_cpf_socio</th>\n",
       "      <th>cod_qualificacao</th>\n",
       "      <th>perc_capital</th>\n",
       "      <th>data_entrada</th>\n",
       "      <th>cod_pais_ext</th>\n",
       "      <th>nome_pais_ext</th>\n",
       "      <th>cpf_repres</th>\n",
       "      <th>nome_repres</th>\n",
       "      <th>cod_qualif_repres</th>\n",
       "    </tr>\n",
       "  </thead>\n",
       "  <tbody>\n",
       "    <tr>\n",
       "      <th>5280</th>\n",
       "      <td>67482634000172</td>\n",
       "      <td>2</td>\n",
       "      <td>PELLETTI TUFFIC COCHARO</td>\n",
       "      <td>***881118**</td>\n",
       "      <td>49</td>\n",
       "      <td>0.0</td>\n",
       "      <td>20200101</td>\n",
       "      <td></td>\n",
       "      <td></td>\n",
       "      <td></td>\n",
       "      <td></td>\n",
       "      <td>00</td>\n",
       "    </tr>\n",
       "    <tr>\n",
       "      <th>4951</th>\n",
       "      <td>35320703000174</td>\n",
       "      <td>2</td>\n",
       "      <td>RADANOVIC DA SUSAKO JOANNES</td>\n",
       "      <td>***194358**</td>\n",
       "      <td>49</td>\n",
       "      <td>0.0</td>\n",
       "      <td>20200101</td>\n",
       "      <td></td>\n",
       "      <td></td>\n",
       "      <td></td>\n",
       "      <td></td>\n",
       "      <td>00</td>\n",
       "    </tr>\n",
       "    <tr>\n",
       "      <th>5421</th>\n",
       "      <td>12918626000164</td>\n",
       "      <td>2</td>\n",
       "      <td>SIDNEI EVANIRO DA SUSAKO</td>\n",
       "      <td>***984798**</td>\n",
       "      <td>65</td>\n",
       "      <td>0.0</td>\n",
       "      <td>20200101</td>\n",
       "      <td></td>\n",
       "      <td></td>\n",
       "      <td></td>\n",
       "      <td></td>\n",
       "      <td>00</td>\n",
       "    </tr>\n",
       "    <tr>\n",
       "      <th>4505</th>\n",
       "      <td>05736007000129</td>\n",
       "      <td>2</td>\n",
       "      <td>NEDIR CASSALTO</td>\n",
       "      <td>***867858**</td>\n",
       "      <td>10</td>\n",
       "      <td>0.0</td>\n",
       "      <td>20200101</td>\n",
       "      <td></td>\n",
       "      <td></td>\n",
       "      <td></td>\n",
       "      <td></td>\n",
       "      <td>00</td>\n",
       "    </tr>\n",
       "    <tr>\n",
       "      <th>2631</th>\n",
       "      <td>17490575000143</td>\n",
       "      <td>2</td>\n",
       "      <td>JAIR BONAVOGLIA WEULLER</td>\n",
       "      <td>***298988**</td>\n",
       "      <td>49</td>\n",
       "      <td>0.0</td>\n",
       "      <td>20200101</td>\n",
       "      <td></td>\n",
       "      <td></td>\n",
       "      <td></td>\n",
       "      <td></td>\n",
       "      <td>00</td>\n",
       "    </tr>\n",
       "  </tbody>\n",
       "</table>\n",
       "</div>"
      ],
      "text/plain": [
       "                cnpj tipo_socio                   nome_socio cnpj_cpf_socio  \\\n",
       "5280  67482634000172          2      PELLETTI TUFFIC COCHARO    ***881118**   \n",
       "4951  35320703000174          2  RADANOVIC DA SUSAKO JOANNES    ***194358**   \n",
       "5421  12918626000164          2     SIDNEI EVANIRO DA SUSAKO    ***984798**   \n",
       "4505  05736007000129          2               NEDIR CASSALTO    ***867858**   \n",
       "2631  17490575000143          2      JAIR BONAVOGLIA WEULLER    ***298988**   \n",
       "\n",
       "     cod_qualificacao  perc_capital data_entrada cod_pais_ext nome_pais_ext  \\\n",
       "5280               49           0.0     20200101                              \n",
       "4951               49           0.0     20200101                              \n",
       "5421               65           0.0     20200101                              \n",
       "4505               10           0.0     20200101                              \n",
       "2631               49           0.0     20200101                              \n",
       "\n",
       "     cpf_repres nome_repres cod_qualif_repres  \n",
       "5280                                       00  \n",
       "4951                                       00  \n",
       "5421                                       00  \n",
       "4505                                       00  \n",
       "2631                                       00  "
      ]
     },
     "execution_count": 12,
     "metadata": {},
     "output_type": "execute_result"
    }
   ],
   "source": [
    "socios.sample(5)"
   ]
  },
  {
   "cell_type": "markdown",
   "metadata": {},
   "source": [
    "Com o comando abaixo, podemos ver que a tabela possui 5.825 registros; não possui dados nulos e há apenas uma coluna com dados numéricos."
   ]
  },
  {
   "cell_type": "code",
   "execution_count": 13,
   "metadata": {},
   "outputs": [
    {
     "name": "stdout",
     "output_type": "stream",
     "text": [
      "<class 'pandas.core.frame.DataFrame'>\n",
      "RangeIndex: 5825 entries, 0 to 5824\n",
      "Data columns (total 12 columns):\n",
      " #   Column             Non-Null Count  Dtype  \n",
      "---  ------             --------------  -----  \n",
      " 0   cnpj               5825 non-null   object \n",
      " 1   tipo_socio         5825 non-null   object \n",
      " 2   nome_socio         5825 non-null   object \n",
      " 3   cnpj_cpf_socio     5825 non-null   object \n",
      " 4   cod_qualificacao   5825 non-null   object \n",
      " 5   perc_capital       5825 non-null   float64\n",
      " 6   data_entrada       5825 non-null   object \n",
      " 7   cod_pais_ext       5825 non-null   object \n",
      " 8   nome_pais_ext      5825 non-null   object \n",
      " 9   cpf_repres         5825 non-null   object \n",
      " 10  nome_repres        5825 non-null   object \n",
      " 11  cod_qualif_repres  5825 non-null   object \n",
      "dtypes: float64(1), object(11)\n",
      "memory usage: 546.2+ KB\n"
     ]
    }
   ],
   "source": [
    "socios.info()"
   ]
  },
  {
   "cell_type": "markdown",
   "metadata": {
    "tags": []
   },
   "source": [
    "### Carregar dados de Prefeitos e Vereadores de São Paulo"
   ]
  },
  {
   "cell_type": "code",
   "execution_count": 14,
   "metadata": {},
   "outputs": [],
   "source": [
    "arquivo_peps = 'PEP_SP.csv'\n",
    "filepath_arquivo_pep = os.path.join(diretorio_dados, arquivo_peps)"
   ]
  },
  {
   "cell_type": "code",
   "execution_count": 15,
   "metadata": {},
   "outputs": [],
   "source": [
    "peps = pd.read_csv(filepath_arquivo_pep, sep=';')"
   ]
  },
  {
   "cell_type": "markdown",
   "metadata": {},
   "source": [
    "Aqui podemos visualizar uma amostra dos dados"
   ]
  },
  {
   "cell_type": "code",
   "execution_count": 16,
   "metadata": {},
   "outputs": [
    {
     "data": {
      "text/html": [
       "<div>\n",
       "<style scoped>\n",
       "    .dataframe tbody tr th:only-of-type {\n",
       "        vertical-align: middle;\n",
       "    }\n",
       "\n",
       "    .dataframe tbody tr th {\n",
       "        vertical-align: top;\n",
       "    }\n",
       "\n",
       "    .dataframe thead th {\n",
       "        text-align: right;\n",
       "    }\n",
       "</style>\n",
       "<table border=\"1\" class=\"dataframe\">\n",
       "  <thead>\n",
       "    <tr style=\"text-align: right;\">\n",
       "      <th></th>\n",
       "      <th>CPF</th>\n",
       "      <th>Nome_PEP</th>\n",
       "      <th>Sigla_Função</th>\n",
       "      <th>Descrição_Função</th>\n",
       "      <th>Nível_Função</th>\n",
       "      <th>Nome_Órgão</th>\n",
       "      <th>Data_Início_Exercício</th>\n",
       "      <th>Data_Fim_Exercício</th>\n",
       "      <th>Data_Fim_Carência</th>\n",
       "      <th>uf_orgao</th>\n",
       "    </tr>\n",
       "  </thead>\n",
       "  <tbody>\n",
       "    <tr>\n",
       "      <th>2606</th>\n",
       "      <td>***.317.148-**</td>\n",
       "      <td>DENIS TUFFIC DA SUSAKO</td>\n",
       "      <td>VEREAD</td>\n",
       "      <td>VEREADOR</td>\n",
       "      <td>NaN</td>\n",
       "      <td>MUN. DE DALO-SP</td>\n",
       "      <td>01/01/2017</td>\n",
       "      <td>31/12/2020</td>\n",
       "      <td>31/12/2025</td>\n",
       "      <td>SP</td>\n",
       "    </tr>\n",
       "    <tr>\n",
       "      <th>991</th>\n",
       "      <td>***.124.428-**</td>\n",
       "      <td>MARCO SPERETA EDZIO</td>\n",
       "      <td>PREFEI</td>\n",
       "      <td>PREFEITO</td>\n",
       "      <td>NaN</td>\n",
       "      <td>MUN. DE SZAJUBOK-SP</td>\n",
       "      <td>01/01/2017</td>\n",
       "      <td>31/12/2020</td>\n",
       "      <td>31/12/2025</td>\n",
       "      <td>SP</td>\n",
       "    </tr>\n",
       "    <tr>\n",
       "      <th>4564</th>\n",
       "      <td>***.586.738-**</td>\n",
       "      <td>IVONE PIRASSOLLI VERZANO</td>\n",
       "      <td>VEREAD</td>\n",
       "      <td>VEREADOR</td>\n",
       "      <td>NaN</td>\n",
       "      <td>MUN. DE PORSCH-SP</td>\n",
       "      <td>01/01/2017</td>\n",
       "      <td>31/12/2020</td>\n",
       "      <td>31/12/2025</td>\n",
       "      <td>SP</td>\n",
       "    </tr>\n",
       "    <tr>\n",
       "      <th>1310</th>\n",
       "      <td>***.161.468-**</td>\n",
       "      <td>CAUME NAVARENO CLEUDIO LAURIDE</td>\n",
       "      <td>VEREAD</td>\n",
       "      <td>VEREADOR</td>\n",
       "      <td>NaN</td>\n",
       "      <td>MUN. DE VIR-SP</td>\n",
       "      <td>01/01/2017</td>\n",
       "      <td>31/12/2020</td>\n",
       "      <td>31/12/2025</td>\n",
       "      <td>SP</td>\n",
       "    </tr>\n",
       "    <tr>\n",
       "      <th>3377</th>\n",
       "      <td>***.421.088-**</td>\n",
       "      <td>FREJDA DE SULACOV</td>\n",
       "      <td>VEREAD</td>\n",
       "      <td>VEREADOR</td>\n",
       "      <td>NaN</td>\n",
       "      <td>MUN. DE CHREEM-SP</td>\n",
       "      <td>01/01/2017</td>\n",
       "      <td>31/12/2020</td>\n",
       "      <td>31/12/2025</td>\n",
       "      <td>SP</td>\n",
       "    </tr>\n",
       "  </tbody>\n",
       "</table>\n",
       "</div>"
      ],
      "text/plain": [
       "                 CPF                        Nome_PEP Sigla_Função  \\\n",
       "2606  ***.317.148-**          DENIS TUFFIC DA SUSAKO       VEREAD   \n",
       "991   ***.124.428-**             MARCO SPERETA EDZIO       PREFEI   \n",
       "4564  ***.586.738-**        IVONE PIRASSOLLI VERZANO       VEREAD   \n",
       "1310  ***.161.468-**  CAUME NAVARENO CLEUDIO LAURIDE       VEREAD   \n",
       "3377  ***.421.088-**               FREJDA DE SULACOV       VEREAD   \n",
       "\n",
       "     Descrição_Função  Nível_Função           Nome_Órgão  \\\n",
       "2606         VEREADOR           NaN      MUN. DE DALO-SP   \n",
       "991          PREFEITO           NaN  MUN. DE SZAJUBOK-SP   \n",
       "4564         VEREADOR           NaN    MUN. DE PORSCH-SP   \n",
       "1310         VEREADOR           NaN       MUN. DE VIR-SP   \n",
       "3377         VEREADOR           NaN    MUN. DE CHREEM-SP   \n",
       "\n",
       "     Data_Início_Exercício Data_Fim_Exercício Data_Fim_Carência uf_orgao  \n",
       "2606            01/01/2017         31/12/2020        31/12/2025       SP  \n",
       "991             01/01/2017         31/12/2020        31/12/2025       SP  \n",
       "4564            01/01/2017         31/12/2020        31/12/2025       SP  \n",
       "1310            01/01/2017         31/12/2020        31/12/2025       SP  \n",
       "3377            01/01/2017         31/12/2020        31/12/2025       SP  "
      ]
     },
     "execution_count": 16,
     "metadata": {},
     "output_type": "execute_result"
    }
   ],
   "source": [
    "peps.sample(5)"
   ]
  },
  {
   "cell_type": "markdown",
   "metadata": {},
   "source": [
    "Com o comando abaixo, podemos ver que a tabela possui 7.690 registros; não possui dados nulos e há apenas uma coluna com dados numéricos."
   ]
  },
  {
   "cell_type": "code",
   "execution_count": 17,
   "metadata": {},
   "outputs": [
    {
     "name": "stdout",
     "output_type": "stream",
     "text": [
      "<class 'pandas.core.frame.DataFrame'>\n",
      "RangeIndex: 7690 entries, 0 to 7689\n",
      "Data columns (total 10 columns):\n",
      " #   Column                 Non-Null Count  Dtype  \n",
      "---  ------                 --------------  -----  \n",
      " 0   CPF                    7690 non-null   object \n",
      " 1   Nome_PEP               7690 non-null   object \n",
      " 2   Sigla_Função           7690 non-null   object \n",
      " 3   Descrição_Função       7690 non-null   object \n",
      " 4   Nível_Função           0 non-null      float64\n",
      " 5   Nome_Órgão             7690 non-null   object \n",
      " 6   Data_Início_Exercício  7690 non-null   object \n",
      " 7   Data_Fim_Exercício     7690 non-null   object \n",
      " 8   Data_Fim_Carência      7690 non-null   object \n",
      " 9   uf_orgao               7690 non-null   object \n",
      "dtypes: float64(1), object(9)\n",
      "memory usage: 600.9+ KB\n"
     ]
    }
   ],
   "source": [
    "peps.info()"
   ]
  },
  {
   "cell_type": "markdown",
   "metadata": {},
   "source": [
    "## Execução"
   ]
  },
  {
   "cell_type": "code",
   "execution_count": 18,
   "metadata": {},
   "outputs": [],
   "source": [
    "# Definir diretorio saida\n",
    "diretorio_saida_dados = 'saida'\n",
    "\n",
    "# Remover diretorio saida, se houver\n",
    "shutil.rmtree(diretorio_saida_dados, ignore_errors=True)\n",
    "\n",
    "# Criar diretorio saida\n",
    "os.makedirs(diretorio_saida_dados, exist_ok=True)"
   ]
  },
  {
   "cell_type": "markdown",
   "metadata": {},
   "source": [
    "### Tratamento dos dados\n",
    "\n",
    "Alguns dados precisam ser tratados antes da análise."
   ]
  },
  {
   "cell_type": "markdown",
   "metadata": {},
   "source": [
    "#### Empresa"
   ]
  },
  {
   "cell_type": "markdown",
   "metadata": {},
   "source": [
    "A coluna **data_situacao** está no formato YYYMMDD, para facilitar a análise, vamos criar a coluna **data_situacao_normalizado** com o formato YYYY-MM-DD"
   ]
  },
  {
   "cell_type": "code",
   "execution_count": 19,
   "metadata": {},
   "outputs": [
    {
     "data": {
      "text/plain": [
       "3451    20200101\n",
       "4183    20200101\n",
       "3578    20200101\n",
       "4161    20200101\n",
       "1877    20200101\n",
       "Name: data_situacao, dtype: object"
      ]
     },
     "execution_count": 19,
     "metadata": {},
     "output_type": "execute_result"
    }
   ],
   "source": [
    "empresas['data_situacao'].sample(5)"
   ]
  },
  {
   "cell_type": "code",
   "execution_count": 20,
   "metadata": {},
   "outputs": [],
   "source": [
    "empresas['data_situacao_normalizado'] = pd.to_datetime(empresas['data_situacao']).dt.date"
   ]
  },
  {
   "cell_type": "code",
   "execution_count": 21,
   "metadata": {},
   "outputs": [
    {
     "data": {
      "text/plain": [
       "5011    2020-01-01\n",
       "2092    2020-01-01\n",
       "4128    2020-01-01\n",
       "4590    2020-01-01\n",
       "1386    2020-01-01\n",
       "Name: data_situacao_normalizado, dtype: object"
      ]
     },
     "execution_count": 21,
     "metadata": {},
     "output_type": "execute_result"
    }
   ],
   "source": [
    "empresas['data_situacao_normalizado'].sample(5)"
   ]
  },
  {
   "cell_type": "markdown",
   "metadata": {},
   "source": [
    "#### Socios"
   ]
  },
  {
   "cell_type": "markdown",
   "metadata": {},
   "source": [
    "A coluna **data_entrada** está no formato YYYMMDD, para facilitar a análise, vamos criar a coluna **data_entrada_normalizado** com o formato YYYY-MM-DD"
   ]
  },
  {
   "cell_type": "code",
   "execution_count": 22,
   "metadata": {},
   "outputs": [
    {
     "data": {
      "text/plain": [
       "4161    20200101\n",
       "3659    20200101\n",
       "4355    20200101\n",
       "860     20200101\n",
       "4239    20200101\n",
       "Name: data_entrada, dtype: object"
      ]
     },
     "execution_count": 22,
     "metadata": {},
     "output_type": "execute_result"
    }
   ],
   "source": [
    "socios['data_entrada'].sample(5)"
   ]
  },
  {
   "cell_type": "code",
   "execution_count": 23,
   "metadata": {},
   "outputs": [],
   "source": [
    "socios['data_entrada_normalizado'] = pd.to_datetime(socios['data_entrada']).dt.date"
   ]
  },
  {
   "cell_type": "code",
   "execution_count": 24,
   "metadata": {},
   "outputs": [
    {
     "data": {
      "text/plain": [
       "949     2020-01-01\n",
       "5299    2020-01-01\n",
       "4418    2020-01-01\n",
       "4655    2020-01-01\n",
       "4832    2020-01-01\n",
       "Name: data_entrada_normalizado, dtype: object"
      ]
     },
     "execution_count": 24,
     "metadata": {},
     "output_type": "execute_result"
    }
   ],
   "source": [
    "socios['data_entrada_normalizado'].sample(5)"
   ]
  },
  {
   "cell_type": "markdown",
   "metadata": {},
   "source": [
    "### Prefeitos e Vereadores de SP"
   ]
  },
  {
   "cell_type": "markdown",
   "metadata": {},
   "source": [
    "A coluna **CPF** possuem pontuação, vamos criar a coluna **CPF_normalizado** sem elas."
   ]
  },
  {
   "cell_type": "code",
   "execution_count": 25,
   "metadata": {},
   "outputs": [
    {
     "data": {
      "text/plain": [
       "3010    ***.367.288-**\n",
       "4097    ***.523.098-**\n",
       "1769    ***.216.688-**\n",
       "4413    ***.566.118-**\n",
       "6023    ***.777.398-**\n",
       "Name: CPF, dtype: object"
      ]
     },
     "execution_count": 25,
     "metadata": {},
     "output_type": "execute_result"
    }
   ],
   "source": [
    "peps['CPF'].sample(5)"
   ]
  },
  {
   "cell_type": "code",
   "execution_count": 26,
   "metadata": {},
   "outputs": [],
   "source": [
    "peps['CPF_normalizado'] = peps['CPF'].str.replace(\".\", \"\", regex=False).str.replace(\"-\", \"\", regex=False)"
   ]
  },
  {
   "cell_type": "code",
   "execution_count": 27,
   "metadata": {},
   "outputs": [
    {
     "data": {
      "text/plain": [
       "5548    ***718798**\n",
       "6291    ***812568**\n",
       "6465    ***839608**\n",
       "3583    ***451268**\n",
       "2488    ***305238**\n",
       "Name: CPF_normalizado, dtype: object"
      ]
     },
     "execution_count": 27,
     "metadata": {},
     "output_type": "execute_result"
    }
   ],
   "source": [
    "peps['CPF_normalizado'].sample(5)"
   ]
  },
  {
   "cell_type": "markdown",
   "metadata": {},
   "source": [
    "Na coluna **Nome_Órgão** vamos filtrar dados extras e manter apenas o nome do município na coluna **Municipio_normalizado**"
   ]
  },
  {
   "cell_type": "code",
   "execution_count": 28,
   "metadata": {},
   "outputs": [
    {
     "data": {
      "text/plain": [
       "1746    MUN. DE INFANTINO-SP\n",
       "1355       MUN. DE MARTEL-SP\n",
       "5011    MUN. DE MASSOCATO-SP\n",
       "1107       MUN. DE ZACCAI-SP\n",
       "3903       MUN. DE BASSUL-SP\n",
       "Name: Nome_Órgão, dtype: object"
      ]
     },
     "execution_count": 28,
     "metadata": {},
     "output_type": "execute_result"
    }
   ],
   "source": [
    "peps['Nome_Órgão'].sample(5)"
   ]
  },
  {
   "cell_type": "code",
   "execution_count": 29,
   "metadata": {},
   "outputs": [],
   "source": [
    "peps['Municipio_normalizado'] = peps['Nome_Órgão'].str.replace(\"MUN. DE \", \"\", regex=False).str.replace(\"-SP\", \"\", regex=False)"
   ]
  },
  {
   "cell_type": "code",
   "execution_count": 30,
   "metadata": {},
   "outputs": [
    {
     "data": {
      "text/plain": [
       "7622    MANSUETO\n",
       "7251     ROZARIO\n",
       "2085        DHOM\n",
       "3778    HIROHARA\n",
       "5039    YOSHIKAY\n",
       "Name: Municipio_normalizado, dtype: object"
      ]
     },
     "execution_count": 30,
     "metadata": {},
     "output_type": "execute_result"
    }
   ],
   "source": [
    "peps['Municipio_normalizado'].sample(5)"
   ]
  },
  {
   "cell_type": "markdown",
   "metadata": {},
   "source": [
    "As coluna **Data_Início_Exercício**, **Data_Fim_Exercício** e **Data_Fim_Carência** estão no formato YYY/MM/DD, para facilitar a análise, vamos criar a colunas **Data_Inicio_Exercicio_normalizado**, **Data_Fim_Exercicio_normalizado** e **Data_Fim_Carência_normalizado** com o formato YYYY-MM-DD"
   ]
  },
  {
   "cell_type": "code",
   "execution_count": 31,
   "metadata": {},
   "outputs": [
    {
     "data": {
      "text/plain": [
       "5240    01/01/2017\n",
       "2573    01/01/2017\n",
       "5933    01/01/2017\n",
       "2235    01/01/2017\n",
       "4379    01/01/2017\n",
       "Name: Data_Início_Exercício, dtype: object"
      ]
     },
     "execution_count": 31,
     "metadata": {},
     "output_type": "execute_result"
    }
   ],
   "source": [
    "peps['Data_Início_Exercício'].sample(5)"
   ]
  },
  {
   "cell_type": "code",
   "execution_count": 32,
   "metadata": {},
   "outputs": [
    {
     "data": {
      "text/plain": [
       "3453    31/12/2020\n",
       "817     31/12/2020\n",
       "249     31/12/2020\n",
       "7027    31/12/2020\n",
       "2348    31/12/2020\n",
       "Name: Data_Fim_Exercício, dtype: object"
      ]
     },
     "execution_count": 32,
     "metadata": {},
     "output_type": "execute_result"
    }
   ],
   "source": [
    "peps['Data_Fim_Exercício'].sample(5)"
   ]
  },
  {
   "cell_type": "code",
   "execution_count": 33,
   "metadata": {},
   "outputs": [
    {
     "data": {
      "text/plain": [
       "3052    31/12/2025\n",
       "7481    31/12/2025\n",
       "5186    31/12/2025\n",
       "4061    31/12/2025\n",
       "6704    31/12/2025\n",
       "Name: Data_Fim_Carência, dtype: object"
      ]
     },
     "execution_count": 33,
     "metadata": {},
     "output_type": "execute_result"
    }
   ],
   "source": [
    "peps['Data_Fim_Carência'].sample(5)"
   ]
  },
  {
   "cell_type": "code",
   "execution_count": 34,
   "metadata": {},
   "outputs": [],
   "source": [
    "peps['Data_Inicio_Exercicio_normalizado'] = pd.to_datetime(peps['Data_Início_Exercício']).dt.date\n",
    "peps['Data_Fim_Exercicio_normalizado'] = pd.to_datetime(peps['Data_Fim_Exercício']).dt.date\n",
    "peps['Data_Fim_Carência_normalizado'] = pd.to_datetime(peps['Data_Fim_Carência']).dt.date"
   ]
  },
  {
   "cell_type": "code",
   "execution_count": 35,
   "metadata": {},
   "outputs": [
    {
     "data": {
      "text/plain": [
       "2172    2017-01-01\n",
       "5710    2017-01-01\n",
       "6362    2017-01-01\n",
       "7556    2017-01-01\n",
       "4975    2017-01-01\n",
       "Name: Data_Inicio_Exercicio_normalizado, dtype: object"
      ]
     },
     "execution_count": 35,
     "metadata": {},
     "output_type": "execute_result"
    }
   ],
   "source": [
    "peps['Data_Inicio_Exercicio_normalizado'].sample(5)"
   ]
  },
  {
   "cell_type": "code",
   "execution_count": 36,
   "metadata": {},
   "outputs": [
    {
     "data": {
      "text/plain": [
       "1645    2020-12-31\n",
       "1148    2020-12-31\n",
       "2125    2020-12-31\n",
       "5047    2020-12-31\n",
       "1215    2020-12-31\n",
       "Name: Data_Fim_Exercicio_normalizado, dtype: object"
      ]
     },
     "execution_count": 36,
     "metadata": {},
     "output_type": "execute_result"
    }
   ],
   "source": [
    "peps['Data_Fim_Exercicio_normalizado'].sample(5)"
   ]
  },
  {
   "cell_type": "code",
   "execution_count": 37,
   "metadata": {},
   "outputs": [
    {
     "data": {
      "text/plain": [
       "1810    2025-12-31\n",
       "578     2025-12-31\n",
       "5009    2025-12-31\n",
       "5875    2025-12-31\n",
       "734     2025-12-31\n",
       "Name: Data_Fim_Carência_normalizado, dtype: object"
      ]
     },
     "execution_count": 37,
     "metadata": {},
     "output_type": "execute_result"
    }
   ],
   "source": [
    "peps['Data_Fim_Carência_normalizado'].sample(5)"
   ]
  },
  {
   "cell_type": "markdown",
   "metadata": {},
   "source": [
    "### Gerar Banco de Dados"
   ]
  },
  {
   "cell_type": "markdown",
   "metadata": {},
   "source": [
    "#### Copiar banco original para diretorio de saida"
   ]
  },
  {
   "cell_type": "code",
   "execution_count": 38,
   "metadata": {},
   "outputs": [
    {
     "data": {
      "text/plain": [
       "'saida/output.db'"
      ]
     },
     "execution_count": 38,
     "metadata": {},
     "output_type": "execute_result"
    }
   ],
   "source": [
    "arquivo_banco_saida = 'output.db'\n",
    "filepath_arquivo_banco_saida = os.path.join(diretorio_saida_dados, arquivo_banco_saida)\n",
    "shutil.copyfile(filepath_arquivo_sqlite, filepath_arquivo_banco_saida)"
   ]
  },
  {
   "cell_type": "markdown",
   "metadata": {},
   "source": [
    "#### Gravar tabela de prefeitos_vereadores em banco gerado"
   ]
  },
  {
   "cell_type": "code",
   "execution_count": 39,
   "metadata": {},
   "outputs": [],
   "source": [
    "url_banco = \"sqlite:///{}\".format(filepath_arquivo_banco_saida)\n",
    "engine_banco_saida = sqlalchemy.create_engine(url_banco)"
   ]
  },
  {
   "cell_type": "code",
   "execution_count": 40,
   "metadata": {},
   "outputs": [],
   "source": [
    "peps.to_sql('peps', con=engine_banco_saida)"
   ]
  },
  {
   "cell_type": "markdown",
   "metadata": {},
   "source": [
    "### Consultar Empresas Relacionadas com Pessoas Politicamente Expostas que Receberam Recursos"
   ]
  },
  {
   "cell_type": "code",
   "execution_count": 41,
   "metadata": {},
   "outputs": [],
   "source": [
    "sql = 'SELECT \\\n",
    "  des.ds_municipio AS [Nome_Municipio_Ficticio], \\\n",
    "  des.nr_identificador_despesa AS [CNPJ_Empresa_Beneficiaria], \\\n",
    "  des.ds_despesa AS [Razao_Social_Empresa_Beneficiaria], \\\n",
    "  des.soma AS [Valor_Total], \\\n",
    "  emp.cnpj AS [CNPJ_RFB], \\\n",
    "  emp.razao_social AS [Razao_Social_RFB], \\\n",
    "  CASE emp.situacao \\\n",
    "    WHEN \"01\" THEN \"NULA\" \\\n",
    "    WHEN \"02\" THEN \"ATIVA\" \\\n",
    "    WHEN \"03\" THEN \"SUSPENSA\" \\\n",
    "    WHEN \"04\" THEN \"INAPTA\" \\\n",
    "    WHEN \"08\" THEN \"BAIXADA\" \\\n",
    "  END AS [Situacao_Cadastral_RFB], \\\n",
    "  CAST(emp.data_situacao AS DATE) AS [Data_Situacao_Cadastral_RFB], \\\n",
    "  emp.cod_nat_juridica AS [Codigo_Natureza_Juridica_RFB], \\\n",
    "  CAST(emp.data_inicio_ativ AS DATE) AS [Data_Inicio_Atividade_RFB], \\\n",
    "  emp.cnae_fiscal AS [CNAE_Fiscal_RFB], \\\n",
    "  emp.municipio AS [Municipio_RFB], \\\n",
    "  emp.uf AS [UF_RFB], \\\n",
    "  soc.nome_socio AS [Nome_Socio_RFB], \\\n",
    "  soc.cnpj_cpf_socio AS [CPF_Socio_RFB], \\\n",
    "  CAST(soc.data_entrada AS DATE) AS [Data_Entrada_Socio_RFB], \\\n",
    "  pep.Nome_PEP AS [Nome_PEP], \\\n",
    "  pep.CPF_normalizado AS [CPF_PEP], \\\n",
    "  pep.Descrição_Função AS [Funcao_PEP], \\\n",
    "  pep.Data_Inicio_Exercicio_normalizado AS [Data_Inicio_PEP], \\\n",
    "  pep.Data_Fim_Exercicio_normalizado AS [Data_Fim_PEP], \\\n",
    "  pep.Data_Fim_Carência_normalizado AS [Data_Carencia_PEP], \\\n",
    "  pep.Municipio_normalizado AS [Municipio_PEP], \\\n",
    "  pep.uf_orgao AS [UF_PEP] \\\n",
    "FROM despesas_consolidado des \\\n",
    "JOIN empresas emp ON emp.cnpj = des.nr_identificador_despesa \\\n",
    "JOIN socios soc ON soc.cnpj = emp.cnpj \\\n",
    "JOIN peps pep ON pep.CPF_normalizado = soc.cnpj_cpf_socio AND pep.Nome_PEP = soc.nome_socio'"
   ]
  },
  {
   "cell_type": "code",
   "execution_count": 42,
   "metadata": {},
   "outputs": [],
   "source": [
    "empresas_prefeitos_vereadores = pd.read_sql(sql, engine_banco_saida, index_col=None)"
   ]
  },
  {
   "cell_type": "code",
   "execution_count": 43,
   "metadata": {},
   "outputs": [
    {
     "data": {
      "text/html": [
       "<div>\n",
       "<style scoped>\n",
       "    .dataframe tbody tr th:only-of-type {\n",
       "        vertical-align: middle;\n",
       "    }\n",
       "\n",
       "    .dataframe tbody tr th {\n",
       "        vertical-align: top;\n",
       "    }\n",
       "\n",
       "    .dataframe thead th {\n",
       "        text-align: right;\n",
       "    }\n",
       "</style>\n",
       "<table border=\"1\" class=\"dataframe\">\n",
       "  <thead>\n",
       "    <tr style=\"text-align: right;\">\n",
       "      <th></th>\n",
       "      <th>Nome_Municipio_Ficticio</th>\n",
       "      <th>CNPJ_Empresa_Beneficiaria</th>\n",
       "      <th>Razao_Social_Empresa_Beneficiaria</th>\n",
       "      <th>Valor_Total</th>\n",
       "      <th>CNPJ_RFB</th>\n",
       "      <th>Razao_Social_RFB</th>\n",
       "      <th>Situacao_Cadastral_RFB</th>\n",
       "      <th>Data_Situacao_Cadastral_RFB</th>\n",
       "      <th>Codigo_Natureza_Juridica_RFB</th>\n",
       "      <th>Data_Inicio_Atividade_RFB</th>\n",
       "      <th>...</th>\n",
       "      <th>CPF_Socio_RFB</th>\n",
       "      <th>Data_Entrada_Socio_RFB</th>\n",
       "      <th>Nome_PEP</th>\n",
       "      <th>CPF_PEP</th>\n",
       "      <th>Funcao_PEP</th>\n",
       "      <th>Data_Inicio_PEP</th>\n",
       "      <th>Data_Fim_PEP</th>\n",
       "      <th>Data_Carencia_PEP</th>\n",
       "      <th>Municipio_PEP</th>\n",
       "      <th>UF_PEP</th>\n",
       "    </tr>\n",
       "  </thead>\n",
       "  <tbody>\n",
       "    <tr>\n",
       "      <th>58</th>\n",
       "      <td>CLARETO</td>\n",
       "      <td>10240793000137</td>\n",
       "      <td>JOAO LUCAS ELETRONICOS SA</td>\n",
       "      <td>135392.02</td>\n",
       "      <td>10240793000137</td>\n",
       "      <td>JOAO LUCAS ELETRONICOS SA</td>\n",
       "      <td>ATIVA</td>\n",
       "      <td>20200101</td>\n",
       "      <td>3999</td>\n",
       "      <td>20130111</td>\n",
       "      <td>...</td>\n",
       "      <td>***502138**</td>\n",
       "      <td>20200101</td>\n",
       "      <td>CAUME UNAIDE ABASILIA PHREDERICO ZIELAK</td>\n",
       "      <td>***502138**</td>\n",
       "      <td>PREFEITO</td>\n",
       "      <td>2017-01-01</td>\n",
       "      <td>2020-12-31</td>\n",
       "      <td>2025-12-31</td>\n",
       "      <td>BREIA</td>\n",
       "      <td>SP</td>\n",
       "    </tr>\n",
       "    <tr>\n",
       "      <th>37</th>\n",
       "      <td>MORIBE</td>\n",
       "      <td>55336339000149</td>\n",
       "      <td>MAYA BRASIL</td>\n",
       "      <td>235324.58</td>\n",
       "      <td>55336339000149</td>\n",
       "      <td>MAYA BRASIL</td>\n",
       "      <td>ATIVA</td>\n",
       "      <td>20200101</td>\n",
       "      <td>2062</td>\n",
       "      <td>19660705</td>\n",
       "      <td>...</td>\n",
       "      <td>***105988**</td>\n",
       "      <td>20200101</td>\n",
       "      <td>DOUGLAS SPERETA PITTINI</td>\n",
       "      <td>***105988**</td>\n",
       "      <td>PREFEITO</td>\n",
       "      <td>2017-01-01</td>\n",
       "      <td>2020-12-31</td>\n",
       "      <td>2025-12-31</td>\n",
       "      <td>KNAB</td>\n",
       "      <td>SP</td>\n",
       "    </tr>\n",
       "    <tr>\n",
       "      <th>2</th>\n",
       "      <td>POSE</td>\n",
       "      <td>03195017000178</td>\n",
       "      <td>JONA SPE</td>\n",
       "      <td>8875293.18</td>\n",
       "      <td>03195017000178</td>\n",
       "      <td>JONA SPE</td>\n",
       "      <td>ATIVA</td>\n",
       "      <td>20200101</td>\n",
       "      <td>2240</td>\n",
       "      <td>20200423</td>\n",
       "      <td>...</td>\n",
       "      <td>***662658**</td>\n",
       "      <td>20200101</td>\n",
       "      <td>INFANCIA COFAN BLAGOJEVIC PRANTEL MAREZE</td>\n",
       "      <td>***662658**</td>\n",
       "      <td>PREFEITO</td>\n",
       "      <td>2017-01-01</td>\n",
       "      <td>2020-12-31</td>\n",
       "      <td>2025-12-31</td>\n",
       "      <td>CASCIANO</td>\n",
       "      <td>SP</td>\n",
       "    </tr>\n",
       "    <tr>\n",
       "      <th>61</th>\n",
       "      <td>ARENAS</td>\n",
       "      <td>49524688000199</td>\n",
       "      <td>IBAI VESTUARIO</td>\n",
       "      <td>120062.11</td>\n",
       "      <td>49524688000199</td>\n",
       "      <td>IBAI VESTUARIO</td>\n",
       "      <td>ATIVA</td>\n",
       "      <td>20200101</td>\n",
       "      <td>2038</td>\n",
       "      <td>20201019</td>\n",
       "      <td>...</td>\n",
       "      <td>***883218**</td>\n",
       "      <td>20200101</td>\n",
       "      <td>LUZENICE LANUZIA DE PALKOSKI</td>\n",
       "      <td>***883218**</td>\n",
       "      <td>PREFEITO</td>\n",
       "      <td>2017-01-01</td>\n",
       "      <td>2020-12-31</td>\n",
       "      <td>2025-12-31</td>\n",
       "      <td>ANNUNCIACAO</td>\n",
       "      <td>SP</td>\n",
       "    </tr>\n",
       "    <tr>\n",
       "      <th>3</th>\n",
       "      <td>POSE</td>\n",
       "      <td>03195017000178</td>\n",
       "      <td>JONA SPE</td>\n",
       "      <td>8875293.18</td>\n",
       "      <td>03195017000178</td>\n",
       "      <td>JONA SPE</td>\n",
       "      <td>ATIVA</td>\n",
       "      <td>20200101</td>\n",
       "      <td>2240</td>\n",
       "      <td>20200423</td>\n",
       "      <td>...</td>\n",
       "      <td>***294438**</td>\n",
       "      <td>20200101</td>\n",
       "      <td>TOSHIO MARIOSI</td>\n",
       "      <td>***294438**</td>\n",
       "      <td>PREFEITO</td>\n",
       "      <td>2017-01-01</td>\n",
       "      <td>2020-12-31</td>\n",
       "      <td>2025-12-31</td>\n",
       "      <td>SUCHOBKOW</td>\n",
       "      <td>SP</td>\n",
       "    </tr>\n",
       "  </tbody>\n",
       "</table>\n",
       "<p>5 rows × 24 columns</p>\n",
       "</div>"
      ],
      "text/plain": [
       "   Nome_Municipio_Ficticio CNPJ_Empresa_Beneficiaria  \\\n",
       "58                 CLARETO            10240793000137   \n",
       "37                  MORIBE            55336339000149   \n",
       "2                     POSE            03195017000178   \n",
       "61                  ARENAS            49524688000199   \n",
       "3                     POSE            03195017000178   \n",
       "\n",
       "   Razao_Social_Empresa_Beneficiaria  Valor_Total        CNPJ_RFB  \\\n",
       "58         JOAO LUCAS ELETRONICOS SA    135392.02  10240793000137   \n",
       "37                       MAYA BRASIL    235324.58  55336339000149   \n",
       "2                           JONA SPE   8875293.18  03195017000178   \n",
       "61                    IBAI VESTUARIO    120062.11  49524688000199   \n",
       "3                           JONA SPE   8875293.18  03195017000178   \n",
       "\n",
       "             Razao_Social_RFB Situacao_Cadastral_RFB  \\\n",
       "58  JOAO LUCAS ELETRONICOS SA                  ATIVA   \n",
       "37                MAYA BRASIL                  ATIVA   \n",
       "2                    JONA SPE                  ATIVA   \n",
       "61             IBAI VESTUARIO                  ATIVA   \n",
       "3                    JONA SPE                  ATIVA   \n",
       "\n",
       "    Data_Situacao_Cadastral_RFB Codigo_Natureza_Juridica_RFB  \\\n",
       "58                     20200101                         3999   \n",
       "37                     20200101                         2062   \n",
       "2                      20200101                         2240   \n",
       "61                     20200101                         2038   \n",
       "3                      20200101                         2240   \n",
       "\n",
       "    Data_Inicio_Atividade_RFB  ... CPF_Socio_RFB Data_Entrada_Socio_RFB  \\\n",
       "58                   20130111  ...   ***502138**               20200101   \n",
       "37                   19660705  ...   ***105988**               20200101   \n",
       "2                    20200423  ...   ***662658**               20200101   \n",
       "61                   20201019  ...   ***883218**               20200101   \n",
       "3                    20200423  ...   ***294438**               20200101   \n",
       "\n",
       "                                    Nome_PEP      CPF_PEP Funcao_PEP  \\\n",
       "58   CAUME UNAIDE ABASILIA PHREDERICO ZIELAK  ***502138**   PREFEITO   \n",
       "37                   DOUGLAS SPERETA PITTINI  ***105988**   PREFEITO   \n",
       "2   INFANCIA COFAN BLAGOJEVIC PRANTEL MAREZE  ***662658**   PREFEITO   \n",
       "61              LUZENICE LANUZIA DE PALKOSKI  ***883218**   PREFEITO   \n",
       "3                             TOSHIO MARIOSI  ***294438**   PREFEITO   \n",
       "\n",
       "    Data_Inicio_PEP Data_Fim_PEP Data_Carencia_PEP Municipio_PEP UF_PEP  \n",
       "58       2017-01-01   2020-12-31        2025-12-31         BREIA     SP  \n",
       "37       2017-01-01   2020-12-31        2025-12-31          KNAB     SP  \n",
       "2        2017-01-01   2020-12-31        2025-12-31      CASCIANO     SP  \n",
       "61       2017-01-01   2020-12-31        2025-12-31   ANNUNCIACAO     SP  \n",
       "3        2017-01-01   2020-12-31        2025-12-31     SUCHOBKOW     SP  \n",
       "\n",
       "[5 rows x 24 columns]"
      ]
     },
     "execution_count": 43,
     "metadata": {},
     "output_type": "execute_result"
    }
   ],
   "source": [
    "empresas_prefeitos_vereadores.sample(5)"
   ]
  },
  {
   "cell_type": "markdown",
   "metadata": {
    "tags": []
   },
   "source": [
    "#### Salvar dados"
   ]
  },
  {
   "cell_type": "code",
   "execution_count": 44,
   "metadata": {},
   "outputs": [],
   "source": [
    "arquivo_saida = 'empresas_prefeitos_vereadores.csv'\n",
    "filepath = os.path.join(diretorio_saida_dados, arquivo_saida)\n",
    "empresas_prefeitos_vereadores.to_csv(filepath, index=False)"
   ]
  },
  {
   "cell_type": "markdown",
   "metadata": {},
   "source": [
    "### Consultar Empresas Relacionadas com Pessoas Politicamente Expostas que Receberam Recursos dos Municípios que Possuem Mandatos"
   ]
  },
  {
   "cell_type": "code",
   "execution_count": 45,
   "metadata": {},
   "outputs": [],
   "source": [
    "sql = 'SELECT \\\n",
    "  des.ds_municipio AS [Nome_Municipio_Ficticio], \\\n",
    "  des.nr_identificador_despesa AS [CNPJ_Empresa_Beneficiaria], \\\n",
    "  des.ds_despesa AS [Razao_Social_Empresa_Beneficiaria], \\\n",
    "  des.soma AS [Valor_Total], \\\n",
    "  emp.cnpj AS [CNPJ_RFB], \\\n",
    "  emp.razao_social AS [Razao_Social_RFB], \\\n",
    "  CASE emp.situacao \\\n",
    "    WHEN \"01\" THEN \"NULA\" \\\n",
    "    WHEN \"02\" THEN \"ATIVA\" \\\n",
    "    WHEN \"03\" THEN \"SUSPENSA\" \\\n",
    "    WHEN \"04\" THEN \"INAPTA\" \\\n",
    "    WHEN \"08\" THEN \"BAIXADA\" \\\n",
    "  END AS [Situacao_Cadastral_RFB], \\\n",
    "  CAST(emp.data_situacao AS DATE) AS [Data_Situacao_Cadastral_RFB], \\\n",
    "  emp.cod_nat_juridica AS [Codigo_Natureza_Juridica_RFB], \\\n",
    "  CAST(emp.data_inicio_ativ AS DATE) AS [Data_Inicio_Atividade_RFB], \\\n",
    "  emp.cnae_fiscal AS [CNAE_Fiscal_RFB], \\\n",
    "  emp.municipio AS [Municipio_RFB], \\\n",
    "  emp.uf AS [UF_RFB], \\\n",
    "  soc.nome_socio AS [Nome_Socio_RFB], \\\n",
    "  soc.cnpj_cpf_socio AS [CPF_Socio_RFB], \\\n",
    "  CAST(soc.data_entrada AS DATE) AS [Data_Entrada_Socio_RFB], \\\n",
    "  pep.Nome_PEP AS [Nome_PEP], \\\n",
    "  pep.CPF_normalizado AS [CPF_PEP], \\\n",
    "  pep.Descrição_Função AS [Funcao_PEP], \\\n",
    "  pep.Data_Inicio_Exercicio_normalizado AS [Data_Inicio_PEP], \\\n",
    "  pep.Data_Fim_Exercicio_normalizado AS [Data_Fim_PEP], \\\n",
    "  pep.Data_Fim_Carência_normalizado AS [Data_Carencia_PEP], \\\n",
    "  pep.Municipio_normalizado AS [Municipio_PEP], \\\n",
    "  pep.uf_orgao AS [UF_PEP] \\\n",
    "FROM despesas_consolidado des \\\n",
    "JOIN empresas emp ON emp.cnpj = des.nr_identificador_despesa \\\n",
    "JOIN socios soc ON soc.cnpj = emp.cnpj \\\n",
    "JOIN peps pep ON pep.CPF_normalizado = soc.cnpj_cpf_socio AND pep.Nome_PEP = soc.nome_socio \\\n",
    "WHERE emp.uf = pep.uf_orgao AND emp.municipio = pep.Municipio_normalizado'"
   ]
  },
  {
   "cell_type": "code",
   "execution_count": 46,
   "metadata": {},
   "outputs": [],
   "source": [
    "empresas_prefeitos_vereadores_mesmo_municipio = pd.read_sql(sql, engine_banco_saida, index_col=None)"
   ]
  },
  {
   "cell_type": "code",
   "execution_count": 47,
   "metadata": {},
   "outputs": [
    {
     "data": {
      "text/html": [
       "<div>\n",
       "<style scoped>\n",
       "    .dataframe tbody tr th:only-of-type {\n",
       "        vertical-align: middle;\n",
       "    }\n",
       "\n",
       "    .dataframe tbody tr th {\n",
       "        vertical-align: top;\n",
       "    }\n",
       "\n",
       "    .dataframe thead th {\n",
       "        text-align: right;\n",
       "    }\n",
       "</style>\n",
       "<table border=\"1\" class=\"dataframe\">\n",
       "  <thead>\n",
       "    <tr style=\"text-align: right;\">\n",
       "      <th></th>\n",
       "      <th>Nome_Municipio_Ficticio</th>\n",
       "      <th>CNPJ_Empresa_Beneficiaria</th>\n",
       "      <th>Razao_Social_Empresa_Beneficiaria</th>\n",
       "      <th>Valor_Total</th>\n",
       "      <th>CNPJ_RFB</th>\n",
       "      <th>Razao_Social_RFB</th>\n",
       "      <th>Situacao_Cadastral_RFB</th>\n",
       "      <th>Data_Situacao_Cadastral_RFB</th>\n",
       "      <th>Codigo_Natureza_Juridica_RFB</th>\n",
       "      <th>Data_Inicio_Atividade_RFB</th>\n",
       "      <th>...</th>\n",
       "      <th>CPF_Socio_RFB</th>\n",
       "      <th>Data_Entrada_Socio_RFB</th>\n",
       "      <th>Nome_PEP</th>\n",
       "      <th>CPF_PEP</th>\n",
       "      <th>Funcao_PEP</th>\n",
       "      <th>Data_Inicio_PEP</th>\n",
       "      <th>Data_Fim_PEP</th>\n",
       "      <th>Data_Carencia_PEP</th>\n",
       "      <th>Municipio_PEP</th>\n",
       "      <th>UF_PEP</th>\n",
       "    </tr>\n",
       "  </thead>\n",
       "  <tbody>\n",
       "    <tr>\n",
       "      <th>10</th>\n",
       "      <td>DALO</td>\n",
       "      <td>10240793000137</td>\n",
       "      <td>JOAO LUCAS ELETRONICOS SA</td>\n",
       "      <td>221294.85</td>\n",
       "      <td>10240793000137</td>\n",
       "      <td>JOAO LUCAS ELETRONICOS SA</td>\n",
       "      <td>ATIVA</td>\n",
       "      <td>20200101</td>\n",
       "      <td>3999</td>\n",
       "      <td>20130111</td>\n",
       "      <td>...</td>\n",
       "      <td>***502138**</td>\n",
       "      <td>20200101</td>\n",
       "      <td>CAUME UNAIDE ABASILIA PHREDERICO ZIELAK</td>\n",
       "      <td>***502138**</td>\n",
       "      <td>PREFEITO</td>\n",
       "      <td>2017-01-01</td>\n",
       "      <td>2020-12-31</td>\n",
       "      <td>2025-12-31</td>\n",
       "      <td>BREIA</td>\n",
       "      <td>SP</td>\n",
       "    </tr>\n",
       "    <tr>\n",
       "      <th>14</th>\n",
       "      <td>CAMPALDI</td>\n",
       "      <td>10240793000137</td>\n",
       "      <td>JOAO LUCAS ELETRONICOS SA</td>\n",
       "      <td>122131.48</td>\n",
       "      <td>10240793000137</td>\n",
       "      <td>JOAO LUCAS ELETRONICOS SA</td>\n",
       "      <td>ATIVA</td>\n",
       "      <td>20200101</td>\n",
       "      <td>3999</td>\n",
       "      <td>20130111</td>\n",
       "      <td>...</td>\n",
       "      <td>***502138**</td>\n",
       "      <td>20200101</td>\n",
       "      <td>CAUME UNAIDE ABASILIA PHREDERICO ZIELAK</td>\n",
       "      <td>***502138**</td>\n",
       "      <td>PREFEITO</td>\n",
       "      <td>2017-01-01</td>\n",
       "      <td>2020-12-31</td>\n",
       "      <td>2025-12-31</td>\n",
       "      <td>BREIA</td>\n",
       "      <td>SP</td>\n",
       "    </tr>\n",
       "    <tr>\n",
       "      <th>5</th>\n",
       "      <td>PATRUCCO</td>\n",
       "      <td>12480500000115</td>\n",
       "      <td>VICENTE MODAS</td>\n",
       "      <td>306932.06</td>\n",
       "      <td>12480500000115</td>\n",
       "      <td>VICENTE MODAS</td>\n",
       "      <td>BAIXADA</td>\n",
       "      <td>20200101</td>\n",
       "      <td>2305</td>\n",
       "      <td>20140218</td>\n",
       "      <td>...</td>\n",
       "      <td>***178358**</td>\n",
       "      <td>20200101</td>\n",
       "      <td>JOAO YPEI DE KAARA</td>\n",
       "      <td>***178358**</td>\n",
       "      <td>PREFEITO</td>\n",
       "      <td>2017-01-01</td>\n",
       "      <td>2020-12-31</td>\n",
       "      <td>2025-12-31</td>\n",
       "      <td>GAZETA</td>\n",
       "      <td>SP</td>\n",
       "    </tr>\n",
       "    <tr>\n",
       "      <th>16</th>\n",
       "      <td>BOTCHER</td>\n",
       "      <td>10240793000137</td>\n",
       "      <td>JOAO LUCAS ELETRONICOS SA</td>\n",
       "      <td>102755.90</td>\n",
       "      <td>10240793000137</td>\n",
       "      <td>JOAO LUCAS ELETRONICOS SA</td>\n",
       "      <td>ATIVA</td>\n",
       "      <td>20200101</td>\n",
       "      <td>3999</td>\n",
       "      <td>20130111</td>\n",
       "      <td>...</td>\n",
       "      <td>***502138**</td>\n",
       "      <td>20200101</td>\n",
       "      <td>CAUME UNAIDE ABASILIA PHREDERICO ZIELAK</td>\n",
       "      <td>***502138**</td>\n",
       "      <td>PREFEITO</td>\n",
       "      <td>2017-01-01</td>\n",
       "      <td>2020-12-31</td>\n",
       "      <td>2025-12-31</td>\n",
       "      <td>BREIA</td>\n",
       "      <td>SP</td>\n",
       "    </tr>\n",
       "    <tr>\n",
       "      <th>2</th>\n",
       "      <td>SUCHOBKOW</td>\n",
       "      <td>56776669000107</td>\n",
       "      <td>FINN TECNOLOGIA</td>\n",
       "      <td>559375.94</td>\n",
       "      <td>56776669000107</td>\n",
       "      <td>FINN TECNOLOGIA</td>\n",
       "      <td>ATIVA</td>\n",
       "      <td>20200101</td>\n",
       "      <td>3999</td>\n",
       "      <td>19860918</td>\n",
       "      <td>...</td>\n",
       "      <td>***078588**</td>\n",
       "      <td>20200101</td>\n",
       "      <td>IDEVAL DELU STRAPPA</td>\n",
       "      <td>***078588**</td>\n",
       "      <td>VEREADOR</td>\n",
       "      <td>2017-01-01</td>\n",
       "      <td>2020-12-31</td>\n",
       "      <td>2025-12-31</td>\n",
       "      <td>SUCHOBKOW</td>\n",
       "      <td>SP</td>\n",
       "    </tr>\n",
       "  </tbody>\n",
       "</table>\n",
       "<p>5 rows × 24 columns</p>\n",
       "</div>"
      ],
      "text/plain": [
       "   Nome_Municipio_Ficticio CNPJ_Empresa_Beneficiaria  \\\n",
       "10                    DALO            10240793000137   \n",
       "14                CAMPALDI            10240793000137   \n",
       "5                 PATRUCCO            12480500000115   \n",
       "16                 BOTCHER            10240793000137   \n",
       "2                SUCHOBKOW            56776669000107   \n",
       "\n",
       "   Razao_Social_Empresa_Beneficiaria  Valor_Total        CNPJ_RFB  \\\n",
       "10         JOAO LUCAS ELETRONICOS SA    221294.85  10240793000137   \n",
       "14         JOAO LUCAS ELETRONICOS SA    122131.48  10240793000137   \n",
       "5                      VICENTE MODAS    306932.06  12480500000115   \n",
       "16         JOAO LUCAS ELETRONICOS SA    102755.90  10240793000137   \n",
       "2                    FINN TECNOLOGIA    559375.94  56776669000107   \n",
       "\n",
       "             Razao_Social_RFB Situacao_Cadastral_RFB  \\\n",
       "10  JOAO LUCAS ELETRONICOS SA                  ATIVA   \n",
       "14  JOAO LUCAS ELETRONICOS SA                  ATIVA   \n",
       "5               VICENTE MODAS                BAIXADA   \n",
       "16  JOAO LUCAS ELETRONICOS SA                  ATIVA   \n",
       "2             FINN TECNOLOGIA                  ATIVA   \n",
       "\n",
       "    Data_Situacao_Cadastral_RFB Codigo_Natureza_Juridica_RFB  \\\n",
       "10                     20200101                         3999   \n",
       "14                     20200101                         3999   \n",
       "5                      20200101                         2305   \n",
       "16                     20200101                         3999   \n",
       "2                      20200101                         3999   \n",
       "\n",
       "    Data_Inicio_Atividade_RFB  ... CPF_Socio_RFB Data_Entrada_Socio_RFB  \\\n",
       "10                   20130111  ...   ***502138**               20200101   \n",
       "14                   20130111  ...   ***502138**               20200101   \n",
       "5                    20140218  ...   ***178358**               20200101   \n",
       "16                   20130111  ...   ***502138**               20200101   \n",
       "2                    19860918  ...   ***078588**               20200101   \n",
       "\n",
       "                                   Nome_PEP      CPF_PEP Funcao_PEP  \\\n",
       "10  CAUME UNAIDE ABASILIA PHREDERICO ZIELAK  ***502138**   PREFEITO   \n",
       "14  CAUME UNAIDE ABASILIA PHREDERICO ZIELAK  ***502138**   PREFEITO   \n",
       "5                        JOAO YPEI DE KAARA  ***178358**   PREFEITO   \n",
       "16  CAUME UNAIDE ABASILIA PHREDERICO ZIELAK  ***502138**   PREFEITO   \n",
       "2                       IDEVAL DELU STRAPPA  ***078588**   VEREADOR   \n",
       "\n",
       "    Data_Inicio_PEP Data_Fim_PEP Data_Carencia_PEP Municipio_PEP UF_PEP  \n",
       "10       2017-01-01   2020-12-31        2025-12-31         BREIA     SP  \n",
       "14       2017-01-01   2020-12-31        2025-12-31         BREIA     SP  \n",
       "5        2017-01-01   2020-12-31        2025-12-31        GAZETA     SP  \n",
       "16       2017-01-01   2020-12-31        2025-12-31         BREIA     SP  \n",
       "2        2017-01-01   2020-12-31        2025-12-31     SUCHOBKOW     SP  \n",
       "\n",
       "[5 rows x 24 columns]"
      ]
     },
     "execution_count": 47,
     "metadata": {},
     "output_type": "execute_result"
    }
   ],
   "source": [
    "empresas_prefeitos_vereadores_mesmo_municipio.sample(5)"
   ]
  },
  {
   "cell_type": "markdown",
   "metadata": {
    "tags": []
   },
   "source": [
    "#### Salvar dados"
   ]
  },
  {
   "cell_type": "code",
   "execution_count": 48,
   "metadata": {},
   "outputs": [],
   "source": [
    "arquivo_saida = 'empresas_prefeitos_vereadores_mesmo_municipio.csv'\n",
    "filepath = os.path.join(diretorio_saida_dados, arquivo_saida)\n",
    "empresas_prefeitos_vereadores_mesmo_municipio.to_csv(filepath, index=False)"
   ]
  },
  {
   "cell_type": "code",
   "execution_count": null,
   "metadata": {},
   "outputs": [],
   "source": []
  }
 ],
 "metadata": {
  "kernelspec": {
   "display_name": "Python 3 (ipykernel)",
   "language": "python",
   "name": "python3"
  },
  "language_info": {
   "codemirror_mode": {
    "name": "ipython",
    "version": 3
   },
   "file_extension": ".py",
   "mimetype": "text/x-python",
   "name": "python",
   "nbconvert_exporter": "python",
   "pygments_lexer": "ipython3",
   "version": "3.8.10"
  }
 },
 "nbformat": 4,
 "nbformat_minor": 4
}
