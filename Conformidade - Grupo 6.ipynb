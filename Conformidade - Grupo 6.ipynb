{
 "cells": [
  {
   "cell_type": "markdown",
   "metadata": {},
   "source": [
    "# Trabalho de Conformidade do Curso de Dados Abertos para Controle Social"
   ]
  },
  {
   "cell_type": "markdown",
   "metadata": {},
   "source": [
    "O objetivo do presente trabalho é verificar quais empresas de pessoas politicamente expostas que receberam recursos dos próprios municípios em que têm mandatos.\n",
    "\n",
    "Para isso serão utilizado dados do Portal de Transparência Municipal do TCESP, base de dados públicos de CNPJ da SRF e dados do Portal da Transparência da CGU."
   ]
  },
  {
   "cell_type": "markdown",
   "metadata": {},
   "source": [
    "**Atenção:** Como o presente trabalho é para fins educacionais, os nomes, CPFs e CNPJs foram alterados, mas as estruturas são idênticas às das tabelas originais."
   ]
  },
  {
   "cell_type": "markdown",
   "metadata": {},
   "source": [
    "## Importar as bibliotecas utilizadas"
   ]
  },
  {
   "cell_type": "code",
   "execution_count": 1,
   "metadata": {},
   "outputs": [],
   "source": [
    "import os\n",
    "import shutil\n",
    "\n",
    "import pandas as pd\n",
    "import sqlalchemy"
   ]
  },
  {
   "cell_type": "markdown",
   "metadata": {},
   "source": [
    "## Carregar Dados"
   ]
  },
  {
   "cell_type": "code",
   "execution_count": 2,
   "metadata": {},
   "outputs": [],
   "source": [
    "diretorio_dados = 'dados'"
   ]
  },
  {
   "cell_type": "markdown",
   "metadata": {
    "tags": []
   },
   "source": [
    "### Carregar dados de banco\n",
    "\n",
    "O banco de dados possui três tabelas: despesas_consolidado, empresas e sócios"
   ]
  },
  {
   "cell_type": "code",
   "execution_count": 3,
   "metadata": {},
   "outputs": [],
   "source": [
    "arquivo_sqlite = 'banco_trabalho06.db'\n",
    "filepath_arquivo_sqlite = os.path.join(diretorio_dados, arquivo_sqlite)"
   ]
  },
  {
   "cell_type": "code",
   "execution_count": 4,
   "metadata": {},
   "outputs": [],
   "source": [
    "url_banco = \"sqlite:///{}\".format(filepath_arquivo_sqlite)\n",
    "engine = sqlalchemy.create_engine(url_banco)"
   ]
  },
  {
   "cell_type": "markdown",
   "metadata": {},
   "source": [
    "#### Despesas \n",
    "É a totalização de valores pagos a empresas por município, valores aproximadamente acima de 100 mil reais.\n",
    "\n",
    "A consolidação foi realizada a partir da tabela despesas do TCE/SP. Os nomes de empresas, cnpjs e municípios foram alterados.\n",
    "\n",
    "A coluna **ds_municipio** é o nome do município fictício, **nr_identificador_despesa** o CNPJ da empresa que recebeu o valor da coluna soma e **ds_despesa** a razão social fictícia da empresa."
   ]
  },
  {
   "cell_type": "code",
   "execution_count": 5,
   "metadata": {},
   "outputs": [],
   "source": [
    "sql = 'SELECT * FROM despesas_consolidado'\n",
    "despesas = pd.read_sql(sql, engine, index_col=None)"
   ]
  },
  {
   "cell_type": "markdown",
   "metadata": {},
   "source": [
    "Aqui podemos visualizar uma amostra dos dados"
   ]
  },
  {
   "cell_type": "code",
   "execution_count": 6,
   "metadata": {},
   "outputs": [
    {
     "data": {
      "text/html": [
       "<div>\n",
       "<style scoped>\n",
       "    .dataframe tbody tr th:only-of-type {\n",
       "        vertical-align: middle;\n",
       "    }\n",
       "\n",
       "    .dataframe tbody tr th {\n",
       "        vertical-align: top;\n",
       "    }\n",
       "\n",
       "    .dataframe thead th {\n",
       "        text-align: right;\n",
       "    }\n",
       "</style>\n",
       "<table border=\"1\" class=\"dataframe\">\n",
       "  <thead>\n",
       "    <tr style=\"text-align: right;\">\n",
       "      <th></th>\n",
       "      <th>ds_municipio</th>\n",
       "      <th>nr_identificador_despesa</th>\n",
       "      <th>ds_despesa</th>\n",
       "      <th>soma</th>\n",
       "    </tr>\n",
       "  </thead>\n",
       "  <tbody>\n",
       "    <tr>\n",
       "      <th>16980</th>\n",
       "      <td>KINDZIERSKI</td>\n",
       "      <td>26318430000189</td>\n",
       "      <td>ALEIX CALCADOS</td>\n",
       "      <td>189032.64</td>\n",
       "    </tr>\n",
       "    <tr>\n",
       "      <th>10288</th>\n",
       "      <td>ROZARIO</td>\n",
       "      <td>26074393000172</td>\n",
       "      <td>GIOVANNI CONSTRUCOES SA</td>\n",
       "      <td>382607.19</td>\n",
       "    </tr>\n",
       "    <tr>\n",
       "      <th>20817</th>\n",
       "      <td>FELIPPE</td>\n",
       "      <td>37373134000133</td>\n",
       "      <td>MADISON TRADING EPP</td>\n",
       "      <td>133119.31</td>\n",
       "    </tr>\n",
       "    <tr>\n",
       "      <th>22332</th>\n",
       "      <td>ANZILAGO</td>\n",
       "      <td>46057911000196</td>\n",
       "      <td>IZAN ESPORTIVOS</td>\n",
       "      <td>123720.51</td>\n",
       "    </tr>\n",
       "    <tr>\n",
       "      <th>6718</th>\n",
       "      <td>ZIEMATH</td>\n",
       "      <td>57686073000152</td>\n",
       "      <td>SOPHIA CONTABIL SA</td>\n",
       "      <td>548056.01</td>\n",
       "    </tr>\n",
       "  </tbody>\n",
       "</table>\n",
       "</div>"
      ],
      "text/plain": [
       "      ds_municipio nr_identificador_despesa               ds_despesa  \\\n",
       "16980  KINDZIERSKI           26318430000189           ALEIX CALCADOS   \n",
       "10288      ROZARIO           26074393000172  GIOVANNI CONSTRUCOES SA   \n",
       "20817      FELIPPE           37373134000133      MADISON TRADING EPP   \n",
       "22332     ANZILAGO           46057911000196          IZAN ESPORTIVOS   \n",
       "6718       ZIEMATH           57686073000152       SOPHIA CONTABIL SA   \n",
       "\n",
       "            soma  \n",
       "16980  189032.64  \n",
       "10288  382607.19  \n",
       "20817  133119.31  \n",
       "22332  123720.51  \n",
       "6718   548056.01  "
      ]
     },
     "execution_count": 6,
     "metadata": {},
     "output_type": "execute_result"
    }
   ],
   "source": [
    "despesas.sample(5)"
   ]
  },
  {
   "cell_type": "markdown",
   "metadata": {},
   "source": [
    "Com o comando abaixo, podemos ver que a tabela possui 25.885 registros; não possui dados nulos e há apenas uma coluna com dados numéricos."
   ]
  },
  {
   "cell_type": "code",
   "execution_count": 7,
   "metadata": {},
   "outputs": [
    {
     "name": "stdout",
     "output_type": "stream",
     "text": [
      "<class 'pandas.core.frame.DataFrame'>\n",
      "RangeIndex: 25885 entries, 0 to 25884\n",
      "Data columns (total 4 columns):\n",
      " #   Column                    Non-Null Count  Dtype  \n",
      "---  ------                    --------------  -----  \n",
      " 0   ds_municipio              25885 non-null  object \n",
      " 1   nr_identificador_despesa  25885 non-null  object \n",
      " 2   ds_despesa                25885 non-null  object \n",
      " 3   soma                      25885 non-null  float64\n",
      "dtypes: float64(1), object(3)\n",
      "memory usage: 809.0+ KB\n"
     ]
    }
   ],
   "source": [
    "despesas.info()"
   ]
  },
  {
   "cell_type": "markdown",
   "metadata": {},
   "source": [
    "#### Empresas \n",
    "Tabela de empresas da receita federal.\n",
    "\n",
    "Possui dados alterados, mas a estrutura das colunas é semelhante a base pública da Receita Federal."
   ]
  },
  {
   "cell_type": "code",
   "execution_count": 8,
   "metadata": {},
   "outputs": [],
   "source": [
    "sql = 'SELECT * FROM empresas'\n",
    "empresas = pd.read_sql(sql, engine, index_col=None)"
   ]
  },
  {
   "cell_type": "markdown",
   "metadata": {},
   "source": [
    "Aqui podemos visualizar uma amostra dos dados"
   ]
  },
  {
   "cell_type": "code",
   "execution_count": 9,
   "metadata": {},
   "outputs": [
    {
     "data": {
      "text/html": [
       "<div>\n",
       "<style scoped>\n",
       "    .dataframe tbody tr th:only-of-type {\n",
       "        vertical-align: middle;\n",
       "    }\n",
       "\n",
       "    .dataframe tbody tr th {\n",
       "        vertical-align: top;\n",
       "    }\n",
       "\n",
       "    .dataframe thead th {\n",
       "        text-align: right;\n",
       "    }\n",
       "</style>\n",
       "<table border=\"1\" class=\"dataframe\">\n",
       "  <thead>\n",
       "    <tr style=\"text-align: right;\">\n",
       "      <th></th>\n",
       "      <th>cnpj</th>\n",
       "      <th>matriz_filial</th>\n",
       "      <th>razao_social</th>\n",
       "      <th>nome_fantasia</th>\n",
       "      <th>situacao</th>\n",
       "      <th>data_situacao</th>\n",
       "      <th>motivo_situacao</th>\n",
       "      <th>nm_cidade_exterior</th>\n",
       "      <th>cod_pais</th>\n",
       "      <th>nome_pais</th>\n",
       "      <th>...</th>\n",
       "      <th>email</th>\n",
       "      <th>qualif_resp</th>\n",
       "      <th>capital_social</th>\n",
       "      <th>porte</th>\n",
       "      <th>opc_simples</th>\n",
       "      <th>data_opc_simples</th>\n",
       "      <th>data_exc_simples</th>\n",
       "      <th>opc_mei</th>\n",
       "      <th>sit_especial</th>\n",
       "      <th>data_sit_especial</th>\n",
       "    </tr>\n",
       "  </thead>\n",
       "  <tbody>\n",
       "    <tr>\n",
       "      <th>4580</th>\n",
       "      <td>09886216000298</td>\n",
       "      <td>2</td>\n",
       "      <td>RIKO COMERCIO ME</td>\n",
       "      <td></td>\n",
       "      <td>02</td>\n",
       "      <td>20200101</td>\n",
       "      <td>01</td>\n",
       "      <td></td>\n",
       "      <td></td>\n",
       "      <td></td>\n",
       "      <td>...</td>\n",
       "      <td></td>\n",
       "      <td></td>\n",
       "      <td>0.0</td>\n",
       "      <td>01</td>\n",
       "      <td>6</td>\n",
       "      <td></td>\n",
       "      <td></td>\n",
       "      <td></td>\n",
       "      <td></td>\n",
       "      <td></td>\n",
       "    </tr>\n",
       "    <tr>\n",
       "      <th>1688</th>\n",
       "      <td>08760737000242</td>\n",
       "      <td>2</td>\n",
       "      <td>KSENIA BENS</td>\n",
       "      <td></td>\n",
       "      <td>02</td>\n",
       "      <td>20200101</td>\n",
       "      <td>01</td>\n",
       "      <td></td>\n",
       "      <td></td>\n",
       "      <td></td>\n",
       "      <td>...</td>\n",
       "      <td></td>\n",
       "      <td></td>\n",
       "      <td>0.0</td>\n",
       "      <td>05</td>\n",
       "      <td>0</td>\n",
       "      <td></td>\n",
       "      <td></td>\n",
       "      <td></td>\n",
       "      <td></td>\n",
       "      <td></td>\n",
       "    </tr>\n",
       "    <tr>\n",
       "      <th>5472</th>\n",
       "      <td>09803104000173</td>\n",
       "      <td>1</td>\n",
       "      <td>BOTOND SUPERMERCADO EPP</td>\n",
       "      <td></td>\n",
       "      <td>02</td>\n",
       "      <td>20200101</td>\n",
       "      <td>63</td>\n",
       "      <td></td>\n",
       "      <td></td>\n",
       "      <td></td>\n",
       "      <td>...</td>\n",
       "      <td></td>\n",
       "      <td></td>\n",
       "      <td>0.0</td>\n",
       "      <td>01</td>\n",
       "      <td>0</td>\n",
       "      <td></td>\n",
       "      <td></td>\n",
       "      <td>N</td>\n",
       "      <td></td>\n",
       "      <td></td>\n",
       "    </tr>\n",
       "    <tr>\n",
       "      <th>5775</th>\n",
       "      <td>01390361000158</td>\n",
       "      <td>1</td>\n",
       "      <td>BALINT ALIMENTOS</td>\n",
       "      <td></td>\n",
       "      <td>02</td>\n",
       "      <td>20200101</td>\n",
       "      <td>00</td>\n",
       "      <td></td>\n",
       "      <td></td>\n",
       "      <td></td>\n",
       "      <td>...</td>\n",
       "      <td></td>\n",
       "      <td></td>\n",
       "      <td>0.0</td>\n",
       "      <td>05</td>\n",
       "      <td>0</td>\n",
       "      <td></td>\n",
       "      <td></td>\n",
       "      <td>N</td>\n",
       "      <td></td>\n",
       "      <td></td>\n",
       "    </tr>\n",
       "    <tr>\n",
       "      <th>3787</th>\n",
       "      <td>01744979000285</td>\n",
       "      <td>2</td>\n",
       "      <td>ARINA MADEIRAS</td>\n",
       "      <td></td>\n",
       "      <td>02</td>\n",
       "      <td>20200101</td>\n",
       "      <td>37</td>\n",
       "      <td></td>\n",
       "      <td></td>\n",
       "      <td></td>\n",
       "      <td>...</td>\n",
       "      <td></td>\n",
       "      <td></td>\n",
       "      <td>0.0</td>\n",
       "      <td>05</td>\n",
       "      <td>0</td>\n",
       "      <td></td>\n",
       "      <td></td>\n",
       "      <td></td>\n",
       "      <td></td>\n",
       "      <td></td>\n",
       "    </tr>\n",
       "  </tbody>\n",
       "</table>\n",
       "<p>5 rows × 38 columns</p>\n",
       "</div>"
      ],
      "text/plain": [
       "                cnpj matriz_filial             razao_social nome_fantasia  \\\n",
       "4580  09886216000298             2         RIKO COMERCIO ME                 \n",
       "1688  08760737000242             2              KSENIA BENS                 \n",
       "5472  09803104000173             1  BOTOND SUPERMERCADO EPP                 \n",
       "5775  01390361000158             1         BALINT ALIMENTOS                 \n",
       "3787  01744979000285             2           ARINA MADEIRAS                 \n",
       "\n",
       "     situacao data_situacao motivo_situacao nm_cidade_exterior cod_pais  \\\n",
       "4580       02      20200101              01                               \n",
       "1688       02      20200101              01                               \n",
       "5472       02      20200101              63                               \n",
       "5775       02      20200101              00                               \n",
       "3787       02      20200101              37                               \n",
       "\n",
       "     nome_pais  ... email qualif_resp capital_social porte opc_simples  \\\n",
       "4580            ...                              0.0    01           6   \n",
       "1688            ...                              0.0    05           0   \n",
       "5472            ...                              0.0    01           0   \n",
       "5775            ...                              0.0    05           0   \n",
       "3787            ...                              0.0    05           0   \n",
       "\n",
       "     data_opc_simples data_exc_simples opc_mei sit_especial data_sit_especial  \n",
       "4580                                                                           \n",
       "1688                                                                           \n",
       "5472                                         N                                 \n",
       "5775                                         N                                 \n",
       "3787                                                                           \n",
       "\n",
       "[5 rows x 38 columns]"
      ]
     },
     "execution_count": 9,
     "metadata": {},
     "output_type": "execute_result"
    }
   ],
   "source": [
    "empresas.sample(5)"
   ]
  },
  {
   "cell_type": "markdown",
   "metadata": {},
   "source": [
    "Com o comando abaixo, podemos ver que a tabela possui 5.779 registros; não possui dados nulos e há apenas uma coluna com dados numéricos."
   ]
  },
  {
   "cell_type": "code",
   "execution_count": 10,
   "metadata": {},
   "outputs": [
    {
     "name": "stdout",
     "output_type": "stream",
     "text": [
      "<class 'pandas.core.frame.DataFrame'>\n",
      "RangeIndex: 5779 entries, 0 to 5778\n",
      "Data columns (total 38 columns):\n",
      " #   Column              Non-Null Count  Dtype  \n",
      "---  ------              --------------  -----  \n",
      " 0   cnpj                5779 non-null   object \n",
      " 1   matriz_filial       5779 non-null   object \n",
      " 2   razao_social        5779 non-null   object \n",
      " 3   nome_fantasia       5779 non-null   object \n",
      " 4   situacao            5779 non-null   object \n",
      " 5   data_situacao       5779 non-null   object \n",
      " 6   motivo_situacao     5779 non-null   object \n",
      " 7   nm_cidade_exterior  5779 non-null   object \n",
      " 8   cod_pais            5779 non-null   object \n",
      " 9   nome_pais           5779 non-null   object \n",
      " 10  cod_nat_juridica    5779 non-null   object \n",
      " 11  data_inicio_ativ    5779 non-null   object \n",
      " 12  cnae_fiscal         5779 non-null   object \n",
      " 13  tipo_logradouro     5779 non-null   object \n",
      " 14  logradouro          5779 non-null   object \n",
      " 15  numero              5779 non-null   object \n",
      " 16  complemento         5779 non-null   object \n",
      " 17  bairro              5779 non-null   object \n",
      " 18  cep                 5779 non-null   object \n",
      " 19  uf                  5779 non-null   object \n",
      " 20  cod_municipio       5779 non-null   object \n",
      " 21  municipio           5779 non-null   object \n",
      " 22  ddd_1               5779 non-null   object \n",
      " 23  telefone_1          5779 non-null   object \n",
      " 24  ddd_2               5779 non-null   object \n",
      " 25  telefone_2          5779 non-null   object \n",
      " 26  ddd_fax             5779 non-null   object \n",
      " 27  num_fax             5779 non-null   object \n",
      " 28  email               5779 non-null   object \n",
      " 29  qualif_resp         5779 non-null   object \n",
      " 30  capital_social      5779 non-null   float64\n",
      " 31  porte               5779 non-null   object \n",
      " 32  opc_simples         5779 non-null   object \n",
      " 33  data_opc_simples    5779 non-null   object \n",
      " 34  data_exc_simples    5779 non-null   object \n",
      " 35  opc_mei             5779 non-null   object \n",
      " 36  sit_especial        5779 non-null   object \n",
      " 37  data_sit_especial   5779 non-null   object \n",
      "dtypes: float64(1), object(37)\n",
      "memory usage: 1.7+ MB\n"
     ]
    }
   ],
   "source": [
    "empresas.info()"
   ]
  },
  {
   "cell_type": "markdown",
   "metadata": {},
   "source": [
    "#### Sócios\n",
    "Tabela de sócios da receita federal.\n",
    "\n",
    "Possui dados alterados, mas a estrutura das colunas é semelhante a base pública da Receita Federal."
   ]
  },
  {
   "cell_type": "code",
   "execution_count": 11,
   "metadata": {},
   "outputs": [],
   "source": [
    "sql = 'SELECT * FROM socios'\n",
    "socios = pd.read_sql(sql, engine, index_col=None)"
   ]
  },
  {
   "cell_type": "markdown",
   "metadata": {},
   "source": [
    "Aqui podemos visualizar uma amostra dos dados"
   ]
  },
  {
   "cell_type": "code",
   "execution_count": 12,
   "metadata": {},
   "outputs": [
    {
     "data": {
      "text/html": [
       "<div>\n",
       "<style scoped>\n",
       "    .dataframe tbody tr th:only-of-type {\n",
       "        vertical-align: middle;\n",
       "    }\n",
       "\n",
       "    .dataframe tbody tr th {\n",
       "        vertical-align: top;\n",
       "    }\n",
       "\n",
       "    .dataframe thead th {\n",
       "        text-align: right;\n",
       "    }\n",
       "</style>\n",
       "<table border=\"1\" class=\"dataframe\">\n",
       "  <thead>\n",
       "    <tr style=\"text-align: right;\">\n",
       "      <th></th>\n",
       "      <th>cnpj</th>\n",
       "      <th>tipo_socio</th>\n",
       "      <th>nome_socio</th>\n",
       "      <th>cnpj_cpf_socio</th>\n",
       "      <th>cod_qualificacao</th>\n",
       "      <th>perc_capital</th>\n",
       "      <th>data_entrada</th>\n",
       "      <th>cod_pais_ext</th>\n",
       "      <th>nome_pais_ext</th>\n",
       "      <th>cpf_repres</th>\n",
       "      <th>nome_repres</th>\n",
       "      <th>cod_qualif_repres</th>\n",
       "    </tr>\n",
       "  </thead>\n",
       "  <tbody>\n",
       "    <tr>\n",
       "      <th>5030</th>\n",
       "      <td>27977304000107</td>\n",
       "      <td>2</td>\n",
       "      <td>ZAPPAZ ANIENTO</td>\n",
       "      <td>***193438**</td>\n",
       "      <td>65</td>\n",
       "      <td>0.0</td>\n",
       "      <td>20200101</td>\n",
       "      <td></td>\n",
       "      <td></td>\n",
       "      <td></td>\n",
       "      <td></td>\n",
       "      <td>00</td>\n",
       "    </tr>\n",
       "    <tr>\n",
       "      <th>2574</th>\n",
       "      <td>56776669000107</td>\n",
       "      <td>2</td>\n",
       "      <td>IDEVAL DELU STRAPPA</td>\n",
       "      <td>***078588**</td>\n",
       "      <td>16</td>\n",
       "      <td>0.0</td>\n",
       "      <td>20200101</td>\n",
       "      <td></td>\n",
       "      <td></td>\n",
       "      <td></td>\n",
       "      <td></td>\n",
       "      <td>00</td>\n",
       "    </tr>\n",
       "    <tr>\n",
       "      <th>2747</th>\n",
       "      <td>41290096000177</td>\n",
       "      <td>2</td>\n",
       "      <td>JOAO YANKOUS JOANNES DE MOLIMAROLI</td>\n",
       "      <td>***810538**</td>\n",
       "      <td>49</td>\n",
       "      <td>0.0</td>\n",
       "      <td>20200101</td>\n",
       "      <td></td>\n",
       "      <td></td>\n",
       "      <td></td>\n",
       "      <td></td>\n",
       "      <td>00</td>\n",
       "    </tr>\n",
       "    <tr>\n",
       "      <th>3535</th>\n",
       "      <td>16688097000163</td>\n",
       "      <td>2</td>\n",
       "      <td>JULIANO BENDOCCHI TAKEZI</td>\n",
       "      <td>***109298**</td>\n",
       "      <td>49</td>\n",
       "      <td>0.0</td>\n",
       "      <td>20200101</td>\n",
       "      <td></td>\n",
       "      <td></td>\n",
       "      <td></td>\n",
       "      <td></td>\n",
       "      <td>00</td>\n",
       "    </tr>\n",
       "    <tr>\n",
       "      <th>4070</th>\n",
       "      <td>33226260000114</td>\n",
       "      <td>2</td>\n",
       "      <td>SANTISSIMO CAUME TIERSON SCHIEFERDECKER</td>\n",
       "      <td>***868328**</td>\n",
       "      <td>22</td>\n",
       "      <td>0.0</td>\n",
       "      <td>20200101</td>\n",
       "      <td></td>\n",
       "      <td></td>\n",
       "      <td></td>\n",
       "      <td></td>\n",
       "      <td>00</td>\n",
       "    </tr>\n",
       "  </tbody>\n",
       "</table>\n",
       "</div>"
      ],
      "text/plain": [
       "                cnpj tipo_socio                               nome_socio  \\\n",
       "5030  27977304000107          2                           ZAPPAZ ANIENTO   \n",
       "2574  56776669000107          2                      IDEVAL DELU STRAPPA   \n",
       "2747  41290096000177          2       JOAO YANKOUS JOANNES DE MOLIMAROLI   \n",
       "3535  16688097000163          2                 JULIANO BENDOCCHI TAKEZI   \n",
       "4070  33226260000114          2  SANTISSIMO CAUME TIERSON SCHIEFERDECKER   \n",
       "\n",
       "     cnpj_cpf_socio cod_qualificacao  perc_capital data_entrada cod_pais_ext  \\\n",
       "5030    ***193438**               65           0.0     20200101                \n",
       "2574    ***078588**               16           0.0     20200101                \n",
       "2747    ***810538**               49           0.0     20200101                \n",
       "3535    ***109298**               49           0.0     20200101                \n",
       "4070    ***868328**               22           0.0     20200101                \n",
       "\n",
       "     nome_pais_ext cpf_repres nome_repres cod_qualif_repres  \n",
       "5030                                                     00  \n",
       "2574                                                     00  \n",
       "2747                                                     00  \n",
       "3535                                                     00  \n",
       "4070                                                     00  "
      ]
     },
     "execution_count": 12,
     "metadata": {},
     "output_type": "execute_result"
    }
   ],
   "source": [
    "socios.sample(5)"
   ]
  },
  {
   "cell_type": "markdown",
   "metadata": {},
   "source": [
    "Com o comando abaixo, podemos ver que a tabela possui 5.825 registros; não possui dados nulos e há apenas uma coluna com dados numéricos."
   ]
  },
  {
   "cell_type": "code",
   "execution_count": 13,
   "metadata": {},
   "outputs": [
    {
     "name": "stdout",
     "output_type": "stream",
     "text": [
      "<class 'pandas.core.frame.DataFrame'>\n",
      "RangeIndex: 5825 entries, 0 to 5824\n",
      "Data columns (total 12 columns):\n",
      " #   Column             Non-Null Count  Dtype  \n",
      "---  ------             --------------  -----  \n",
      " 0   cnpj               5825 non-null   object \n",
      " 1   tipo_socio         5825 non-null   object \n",
      " 2   nome_socio         5825 non-null   object \n",
      " 3   cnpj_cpf_socio     5825 non-null   object \n",
      " 4   cod_qualificacao   5825 non-null   object \n",
      " 5   perc_capital       5825 non-null   float64\n",
      " 6   data_entrada       5825 non-null   object \n",
      " 7   cod_pais_ext       5825 non-null   object \n",
      " 8   nome_pais_ext      5825 non-null   object \n",
      " 9   cpf_repres         5825 non-null   object \n",
      " 10  nome_repres        5825 non-null   object \n",
      " 11  cod_qualif_repres  5825 non-null   object \n",
      "dtypes: float64(1), object(11)\n",
      "memory usage: 546.2+ KB\n"
     ]
    }
   ],
   "source": [
    "socios.info()"
   ]
  },
  {
   "cell_type": "markdown",
   "metadata": {
    "tags": []
   },
   "source": [
    "### Carregar dados de Prefeitos e Vereadores de São Paulo"
   ]
  },
  {
   "cell_type": "code",
   "execution_count": 14,
   "metadata": {},
   "outputs": [],
   "source": [
    "arquivo_peps = 'PEP_SP.csv'\n",
    "filepath_arquivo_pep = os.path.join(diretorio_dados, arquivo_peps)"
   ]
  },
  {
   "cell_type": "code",
   "execution_count": 15,
   "metadata": {},
   "outputs": [],
   "source": [
    "peps = pd.read_csv(filepath_arquivo_pep, sep=';')"
   ]
  },
  {
   "cell_type": "markdown",
   "metadata": {},
   "source": [
    "Aqui podemos visualizar uma amostra dos dados"
   ]
  },
  {
   "cell_type": "code",
   "execution_count": 16,
   "metadata": {},
   "outputs": [
    {
     "data": {
      "text/html": [
       "<div>\n",
       "<style scoped>\n",
       "    .dataframe tbody tr th:only-of-type {\n",
       "        vertical-align: middle;\n",
       "    }\n",
       "\n",
       "    .dataframe tbody tr th {\n",
       "        vertical-align: top;\n",
       "    }\n",
       "\n",
       "    .dataframe thead th {\n",
       "        text-align: right;\n",
       "    }\n",
       "</style>\n",
       "<table border=\"1\" class=\"dataframe\">\n",
       "  <thead>\n",
       "    <tr style=\"text-align: right;\">\n",
       "      <th></th>\n",
       "      <th>CPF</th>\n",
       "      <th>Nome_PEP</th>\n",
       "      <th>Sigla_Função</th>\n",
       "      <th>Descrição_Função</th>\n",
       "      <th>Nível_Função</th>\n",
       "      <th>Nome_Órgão</th>\n",
       "      <th>Data_Início_Exercício</th>\n",
       "      <th>Data_Fim_Exercício</th>\n",
       "      <th>Data_Fim_Carência</th>\n",
       "      <th>uf_orgao</th>\n",
       "    </tr>\n",
       "  </thead>\n",
       "  <tbody>\n",
       "    <tr>\n",
       "      <th>4185</th>\n",
       "      <td>***.534.708-**</td>\n",
       "      <td>VANIA BRAZ DE STACHUCK QUINES</td>\n",
       "      <td>VEREAD</td>\n",
       "      <td>VEREADOR</td>\n",
       "      <td>NaN</td>\n",
       "      <td>MUN. DE FEDRI-SP</td>\n",
       "      <td>01/01/2017</td>\n",
       "      <td>31/12/2020</td>\n",
       "      <td>31/12/2025</td>\n",
       "      <td>SP</td>\n",
       "    </tr>\n",
       "    <tr>\n",
       "      <th>7416</th>\n",
       "      <td>***.963.388-**</td>\n",
       "      <td>CAUME GERALDO PENUELA</td>\n",
       "      <td>PREFEI</td>\n",
       "      <td>PREFEITO</td>\n",
       "      <td>NaN</td>\n",
       "      <td>MUN. DE ZOCULO-SP</td>\n",
       "      <td>01/01/2017</td>\n",
       "      <td>31/12/2020</td>\n",
       "      <td>31/12/2025</td>\n",
       "      <td>SP</td>\n",
       "    </tr>\n",
       "    <tr>\n",
       "      <th>5619</th>\n",
       "      <td>***.727.458-**</td>\n",
       "      <td>JOAO UNAIDE OZILA</td>\n",
       "      <td>VEREAD</td>\n",
       "      <td>VEREADOR</td>\n",
       "      <td>NaN</td>\n",
       "      <td>MUN. DE LAVAQUIAL-SP</td>\n",
       "      <td>01/01/2017</td>\n",
       "      <td>31/12/2020</td>\n",
       "      <td>31/12/2025</td>\n",
       "      <td>SP</td>\n",
       "    </tr>\n",
       "    <tr>\n",
       "      <th>981</th>\n",
       "      <td>***.123.328-**</td>\n",
       "      <td>SPERETA UNAIDE FIDELIA GONDOREK</td>\n",
       "      <td>PREFEI</td>\n",
       "      <td>PREFEITO</td>\n",
       "      <td>NaN</td>\n",
       "      <td>MUN. DE FELETO-SP</td>\n",
       "      <td>01/01/2017</td>\n",
       "      <td>31/12/2020</td>\n",
       "      <td>31/12/2025</td>\n",
       "      <td>SP</td>\n",
       "    </tr>\n",
       "    <tr>\n",
       "      <th>5143</th>\n",
       "      <td>***.665.818-**</td>\n",
       "      <td>EDIVALDO ZUBELZO</td>\n",
       "      <td>VEREAD</td>\n",
       "      <td>VEREADOR</td>\n",
       "      <td>NaN</td>\n",
       "      <td>MUN. DE TUSUTIYA-SP</td>\n",
       "      <td>01/01/2017</td>\n",
       "      <td>31/12/2020</td>\n",
       "      <td>31/12/2025</td>\n",
       "      <td>SP</td>\n",
       "    </tr>\n",
       "  </tbody>\n",
       "</table>\n",
       "</div>"
      ],
      "text/plain": [
       "                 CPF                         Nome_PEP Sigla_Função  \\\n",
       "4185  ***.534.708-**    VANIA BRAZ DE STACHUCK QUINES       VEREAD   \n",
       "7416  ***.963.388-**            CAUME GERALDO PENUELA       PREFEI   \n",
       "5619  ***.727.458-**                JOAO UNAIDE OZILA       VEREAD   \n",
       "981   ***.123.328-**  SPERETA UNAIDE FIDELIA GONDOREK       PREFEI   \n",
       "5143  ***.665.818-**                 EDIVALDO ZUBELZO       VEREAD   \n",
       "\n",
       "     Descrição_Função  Nível_Função            Nome_Órgão  \\\n",
       "4185         VEREADOR           NaN      MUN. DE FEDRI-SP   \n",
       "7416         PREFEITO           NaN     MUN. DE ZOCULO-SP   \n",
       "5619         VEREADOR           NaN  MUN. DE LAVAQUIAL-SP   \n",
       "981          PREFEITO           NaN     MUN. DE FELETO-SP   \n",
       "5143         VEREADOR           NaN   MUN. DE TUSUTIYA-SP   \n",
       "\n",
       "     Data_Início_Exercício Data_Fim_Exercício Data_Fim_Carência uf_orgao  \n",
       "4185            01/01/2017         31/12/2020        31/12/2025       SP  \n",
       "7416            01/01/2017         31/12/2020        31/12/2025       SP  \n",
       "5619            01/01/2017         31/12/2020        31/12/2025       SP  \n",
       "981             01/01/2017         31/12/2020        31/12/2025       SP  \n",
       "5143            01/01/2017         31/12/2020        31/12/2025       SP  "
      ]
     },
     "execution_count": 16,
     "metadata": {},
     "output_type": "execute_result"
    }
   ],
   "source": [
    "peps.sample(5)"
   ]
  },
  {
   "cell_type": "markdown",
   "metadata": {},
   "source": [
    "Com o comando abaixo, podemos ver que a tabela possui 7.690 registros; possui apenas o coluna **Nível_Função** com dados nulos."
   ]
  },
  {
   "cell_type": "code",
   "execution_count": 17,
   "metadata": {},
   "outputs": [
    {
     "name": "stdout",
     "output_type": "stream",
     "text": [
      "<class 'pandas.core.frame.DataFrame'>\n",
      "RangeIndex: 7690 entries, 0 to 7689\n",
      "Data columns (total 10 columns):\n",
      " #   Column                 Non-Null Count  Dtype  \n",
      "---  ------                 --------------  -----  \n",
      " 0   CPF                    7690 non-null   object \n",
      " 1   Nome_PEP               7690 non-null   object \n",
      " 2   Sigla_Função           7690 non-null   object \n",
      " 3   Descrição_Função       7690 non-null   object \n",
      " 4   Nível_Função           0 non-null      float64\n",
      " 5   Nome_Órgão             7690 non-null   object \n",
      " 6   Data_Início_Exercício  7690 non-null   object \n",
      " 7   Data_Fim_Exercício     7690 non-null   object \n",
      " 8   Data_Fim_Carência      7690 non-null   object \n",
      " 9   uf_orgao               7690 non-null   object \n",
      "dtypes: float64(1), object(9)\n",
      "memory usage: 600.9+ KB\n"
     ]
    }
   ],
   "source": [
    "peps.info()"
   ]
  },
  {
   "cell_type": "markdown",
   "metadata": {},
   "source": [
    "## Execução"
   ]
  },
  {
   "cell_type": "code",
   "execution_count": 18,
   "metadata": {},
   "outputs": [],
   "source": [
    "# Definir diretorio saida\n",
    "diretorio_saida_dados = 'saida'\n",
    "\n",
    "# Remover diretorio saida, se houver\n",
    "shutil.rmtree(diretorio_saida_dados, ignore_errors=True)\n",
    "\n",
    "# Criar diretorio saida\n",
    "os.makedirs(diretorio_saida_dados, exist_ok=True)"
   ]
  },
  {
   "cell_type": "markdown",
   "metadata": {},
   "source": [
    "### Tratamento dos dados\n",
    "\n",
    "Alguns dados precisam ser tratados antes da análise."
   ]
  },
  {
   "cell_type": "markdown",
   "metadata": {},
   "source": [
    "#### Empresa"
   ]
  },
  {
   "cell_type": "markdown",
   "metadata": {},
   "source": [
    "A coluna **data_situacao** está no formato YYYMMDD, para facilitar a análise, vamos criar a coluna **data_situacao_normalizado** com o formato YYYY-MM-DD"
   ]
  },
  {
   "cell_type": "code",
   "execution_count": 19,
   "metadata": {},
   "outputs": [
    {
     "data": {
      "text/plain": [
       "2458    20200101\n",
       "3353    20200101\n",
       "4676    20200101\n",
       "2766    20200101\n",
       "766     20200101\n",
       "Name: data_situacao, dtype: object"
      ]
     },
     "execution_count": 19,
     "metadata": {},
     "output_type": "execute_result"
    }
   ],
   "source": [
    "empresas['data_situacao'].sample(5)"
   ]
  },
  {
   "cell_type": "code",
   "execution_count": 20,
   "metadata": {},
   "outputs": [],
   "source": [
    "empresas['data_situacao_normalizado'] = pd.to_datetime(empresas['data_situacao']).dt.date"
   ]
  },
  {
   "cell_type": "code",
   "execution_count": 21,
   "metadata": {},
   "outputs": [
    {
     "data": {
      "text/plain": [
       "5046    2020-01-01\n",
       "2450    2020-01-01\n",
       "2646    2020-01-01\n",
       "132     2020-01-01\n",
       "2739    2020-01-01\n",
       "Name: data_situacao_normalizado, dtype: object"
      ]
     },
     "execution_count": 21,
     "metadata": {},
     "output_type": "execute_result"
    }
   ],
   "source": [
    "empresas['data_situacao_normalizado'].sample(5)"
   ]
  },
  {
   "cell_type": "markdown",
   "metadata": {},
   "source": [
    "#### Socios"
   ]
  },
  {
   "cell_type": "markdown",
   "metadata": {},
   "source": [
    "A coluna **data_entrada** está no formato YYYMMDD, para facilitar a análise, vamos criar a coluna **data_entrada_normalizado** com o formato YYYY-MM-DD"
   ]
  },
  {
   "cell_type": "code",
   "execution_count": 22,
   "metadata": {},
   "outputs": [
    {
     "data": {
      "text/plain": [
       "3668    20200101\n",
       "2107    20200101\n",
       "4108    20200101\n",
       "3034    20200101\n",
       "2152    20200101\n",
       "Name: data_entrada, dtype: object"
      ]
     },
     "execution_count": 22,
     "metadata": {},
     "output_type": "execute_result"
    }
   ],
   "source": [
    "socios['data_entrada'].sample(5)"
   ]
  },
  {
   "cell_type": "code",
   "execution_count": 23,
   "metadata": {},
   "outputs": [],
   "source": [
    "socios['data_entrada_normalizado'] = pd.to_datetime(socios['data_entrada']).dt.date"
   ]
  },
  {
   "cell_type": "code",
   "execution_count": 24,
   "metadata": {},
   "outputs": [
    {
     "data": {
      "text/plain": [
       "2184    2020-01-01\n",
       "195     2020-01-01\n",
       "3245    2020-01-01\n",
       "5027    2020-01-01\n",
       "645     2020-01-01\n",
       "Name: data_entrada_normalizado, dtype: object"
      ]
     },
     "execution_count": 24,
     "metadata": {},
     "output_type": "execute_result"
    }
   ],
   "source": [
    "socios['data_entrada_normalizado'].sample(5)"
   ]
  },
  {
   "cell_type": "markdown",
   "metadata": {},
   "source": [
    "### Pessoas Politicamente Expostas"
   ]
  },
  {
   "cell_type": "markdown",
   "metadata": {},
   "source": [
    "A coluna **CPF** possuem pontuação, vamos criar a coluna **CPF_normalizado** sem elas."
   ]
  },
  {
   "cell_type": "code",
   "execution_count": 25,
   "metadata": {},
   "outputs": [
    {
     "data": {
      "text/plain": [
       "5989    ***.772.418-**\n",
       "7529    ***.980.228-**\n",
       "693     ***.088.278-**\n",
       "2535    ***.310.278-**\n",
       "6104    ***.786.918-**\n",
       "Name: CPF, dtype: object"
      ]
     },
     "execution_count": 25,
     "metadata": {},
     "output_type": "execute_result"
    }
   ],
   "source": [
    "peps['CPF'].sample(5)"
   ]
  },
  {
   "cell_type": "code",
   "execution_count": 26,
   "metadata": {},
   "outputs": [],
   "source": [
    "peps['CPF_normalizado'] = peps['CPF'].str.replace(\".\", \"\", regex=False).str.replace(\"-\", \"\", regex=False)"
   ]
  },
  {
   "cell_type": "code",
   "execution_count": 27,
   "metadata": {},
   "outputs": [
    {
     "data": {
      "text/plain": [
       "410     ***051178**\n",
       "7214    ***937508**\n",
       "534     ***065848**\n",
       "7185    ***934308**\n",
       "2831    ***344928**\n",
       "Name: CPF_normalizado, dtype: object"
      ]
     },
     "execution_count": 27,
     "metadata": {},
     "output_type": "execute_result"
    }
   ],
   "source": [
    "peps['CPF_normalizado'].sample(5)"
   ]
  },
  {
   "cell_type": "markdown",
   "metadata": {},
   "source": [
    "Na coluna **Nome_Órgão** vamos filtrar dados extras e manter apenas o nome do município na coluna **Municipio_normalizado**"
   ]
  },
  {
   "cell_type": "code",
   "execution_count": 28,
   "metadata": {},
   "outputs": [
    {
     "data": {
      "text/plain": [
       "5705    MUN. DE FANZERES-SP\n",
       "6474     MUN. DE MANHANE-SP\n",
       "4800    MUN. DE ESTRUTTI-SP\n",
       "5081    MUN. DE FRANSANI-SP\n",
       "2814     MUN. DE CHOMSKI-SP\n",
       "Name: Nome_Órgão, dtype: object"
      ]
     },
     "execution_count": 28,
     "metadata": {},
     "output_type": "execute_result"
    }
   ],
   "source": [
    "peps['Nome_Órgão'].sample(5)"
   ]
  },
  {
   "cell_type": "code",
   "execution_count": 29,
   "metadata": {},
   "outputs": [],
   "source": [
    "peps['Municipio_normalizado'] = peps['Nome_Órgão'].str.replace(\"MUN. DE \", \"\", regex=False).str.replace(\"-SP\", \"\", regex=False)"
   ]
  },
  {
   "cell_type": "code",
   "execution_count": 30,
   "metadata": {},
   "outputs": [
    {
     "data": {
      "text/plain": [
       "3236        MAYAN\n",
       "3069    FUJICHIMA\n",
       "5653       CINQUE\n",
       "3972     PODEWILS\n",
       "4762         TOME\n",
       "Name: Municipio_normalizado, dtype: object"
      ]
     },
     "execution_count": 30,
     "metadata": {},
     "output_type": "execute_result"
    }
   ],
   "source": [
    "peps['Municipio_normalizado'].sample(5)"
   ]
  },
  {
   "cell_type": "markdown",
   "metadata": {},
   "source": [
    "As coluna **Data_Início_Exercício**, **Data_Fim_Exercício** e **Data_Fim_Carência** estão no formato YYYY/MM/DD, para facilitar a análise, vamos criar a colunas **Data_Inicio_Exercicio_normalizado**, **Data_Fim_Exercicio_normalizado** e **Data_Fim_Carência_normalizado** com o formato YYYY-MM-DD"
   ]
  },
  {
   "cell_type": "code",
   "execution_count": 31,
   "metadata": {},
   "outputs": [
    {
     "data": {
      "text/plain": [
       "361     01/01/2017\n",
       "4650    01/01/2017\n",
       "1611    01/01/2017\n",
       "5866    01/01/2017\n",
       "4463    01/01/2017\n",
       "Name: Data_Início_Exercício, dtype: object"
      ]
     },
     "execution_count": 31,
     "metadata": {},
     "output_type": "execute_result"
    }
   ],
   "source": [
    "peps['Data_Início_Exercício'].sample(5)"
   ]
  },
  {
   "cell_type": "code",
   "execution_count": 32,
   "metadata": {},
   "outputs": [
    {
     "data": {
      "text/plain": [
       "7654    31/12/2020\n",
       "3565    31/12/2020\n",
       "1815    31/12/2020\n",
       "3147    31/12/2020\n",
       "6603    31/12/2020\n",
       "Name: Data_Fim_Exercício, dtype: object"
      ]
     },
     "execution_count": 32,
     "metadata": {},
     "output_type": "execute_result"
    }
   ],
   "source": [
    "peps['Data_Fim_Exercício'].sample(5)"
   ]
  },
  {
   "cell_type": "code",
   "execution_count": 33,
   "metadata": {},
   "outputs": [
    {
     "data": {
      "text/plain": [
       "415     31/12/2025\n",
       "5718    31/12/2025\n",
       "197     31/12/2025\n",
       "5534    31/12/2025\n",
       "6562    31/12/2025\n",
       "Name: Data_Fim_Carência, dtype: object"
      ]
     },
     "execution_count": 33,
     "metadata": {},
     "output_type": "execute_result"
    }
   ],
   "source": [
    "peps['Data_Fim_Carência'].sample(5)"
   ]
  },
  {
   "cell_type": "code",
   "execution_count": 34,
   "metadata": {},
   "outputs": [],
   "source": [
    "peps['Data_Inicio_Exercicio_normalizado'] = pd.to_datetime(peps['Data_Início_Exercício']).dt.date\n",
    "peps['Data_Fim_Exercicio_normalizado'] = pd.to_datetime(peps['Data_Fim_Exercício']).dt.date\n",
    "peps['Data_Fim_Carência_normalizado'] = pd.to_datetime(peps['Data_Fim_Carência']).dt.date"
   ]
  },
  {
   "cell_type": "code",
   "execution_count": 35,
   "metadata": {},
   "outputs": [
    {
     "data": {
      "text/plain": [
       "7070    2017-01-01\n",
       "3207    2017-01-01\n",
       "6726    2017-01-01\n",
       "14      2017-01-01\n",
       "5940    2017-01-01\n",
       "Name: Data_Inicio_Exercicio_normalizado, dtype: object"
      ]
     },
     "execution_count": 35,
     "metadata": {},
     "output_type": "execute_result"
    }
   ],
   "source": [
    "peps['Data_Inicio_Exercicio_normalizado'].sample(5)"
   ]
  },
  {
   "cell_type": "code",
   "execution_count": 36,
   "metadata": {},
   "outputs": [
    {
     "data": {
      "text/plain": [
       "4527    2020-12-31\n",
       "467     2020-12-31\n",
       "1922    2020-12-31\n",
       "6469    2020-12-31\n",
       "665     2020-12-31\n",
       "Name: Data_Fim_Exercicio_normalizado, dtype: object"
      ]
     },
     "execution_count": 36,
     "metadata": {},
     "output_type": "execute_result"
    }
   ],
   "source": [
    "peps['Data_Fim_Exercicio_normalizado'].sample(5)"
   ]
  },
  {
   "cell_type": "code",
   "execution_count": 37,
   "metadata": {},
   "outputs": [
    {
     "data": {
      "text/plain": [
       "818     2025-12-31\n",
       "1685    2025-12-31\n",
       "5123    2025-12-31\n",
       "5610    2025-12-31\n",
       "4088    2025-12-31\n",
       "Name: Data_Fim_Carência_normalizado, dtype: object"
      ]
     },
     "execution_count": 37,
     "metadata": {},
     "output_type": "execute_result"
    }
   ],
   "source": [
    "peps['Data_Fim_Carência_normalizado'].sample(5)"
   ]
  },
  {
   "cell_type": "markdown",
   "metadata": {},
   "source": [
    "### Gerar Banco de Dados"
   ]
  },
  {
   "cell_type": "markdown",
   "metadata": {},
   "source": [
    "#### Copiar banco original para diretorio de saida"
   ]
  },
  {
   "cell_type": "code",
   "execution_count": 38,
   "metadata": {},
   "outputs": [
    {
     "data": {
      "text/plain": [
       "'saida/output.db'"
      ]
     },
     "execution_count": 38,
     "metadata": {},
     "output_type": "execute_result"
    }
   ],
   "source": [
    "arquivo_banco_saida = 'output.db'\n",
    "filepath_arquivo_banco_saida = os.path.join(diretorio_saida_dados, arquivo_banco_saida)\n",
    "shutil.copyfile(filepath_arquivo_sqlite, filepath_arquivo_banco_saida)"
   ]
  },
  {
   "cell_type": "markdown",
   "metadata": {},
   "source": [
    "#### Gravar tabela de prefeitos_vereadores em banco gerado"
   ]
  },
  {
   "cell_type": "code",
   "execution_count": 39,
   "metadata": {},
   "outputs": [],
   "source": [
    "url_banco = \"sqlite:///{}\".format(filepath_arquivo_banco_saida)\n",
    "engine_banco_saida = sqlalchemy.create_engine(url_banco)"
   ]
  },
  {
   "cell_type": "code",
   "execution_count": 40,
   "metadata": {},
   "outputs": [],
   "source": [
    "peps.to_sql('peps', con=engine_banco_saida)"
   ]
  },
  {
   "cell_type": "markdown",
   "metadata": {},
   "source": [
    "### Consultar Empresas Relacionadas com Pessoas Politicamente Expostas que Receberam Recursos"
   ]
  },
  {
   "cell_type": "code",
   "execution_count": 41,
   "metadata": {},
   "outputs": [],
   "source": [
    "sql = 'SELECT \\\n",
    "  des.ds_municipio AS [Nome_Municipio_Ficticio], \\\n",
    "  des.nr_identificador_despesa AS [CNPJ_Empresa_Beneficiaria], \\\n",
    "  des.ds_despesa AS [Razao_Social_Empresa_Beneficiaria], \\\n",
    "  des.soma AS [Valor_Total], \\\n",
    "  emp.cnpj AS [CNPJ_RFB], \\\n",
    "  emp.razao_social AS [Razao_Social_RFB], \\\n",
    "  CASE emp.situacao \\\n",
    "    WHEN \"01\" THEN \"NULA\" \\\n",
    "    WHEN \"02\" THEN \"ATIVA\" \\\n",
    "    WHEN \"03\" THEN \"SUSPENSA\" \\\n",
    "    WHEN \"04\" THEN \"INAPTA\" \\\n",
    "    WHEN \"08\" THEN \"BAIXADA\" \\\n",
    "  END AS [Situacao_Cadastral_RFB], \\\n",
    "  CAST(emp.data_situacao AS DATE) AS [Data_Situacao_Cadastral_RFB], \\\n",
    "  emp.cod_nat_juridica AS [Codigo_Natureza_Juridica_RFB], \\\n",
    "  CAST(emp.data_inicio_ativ AS DATE) AS [Data_Inicio_Atividade_RFB], \\\n",
    "  emp.cnae_fiscal AS [CNAE_Fiscal_RFB], \\\n",
    "  emp.municipio AS [Municipio_RFB], \\\n",
    "  emp.uf AS [UF_RFB], \\\n",
    "  soc.nome_socio AS [Nome_Socio_RFB], \\\n",
    "  soc.cnpj_cpf_socio AS [CPF_Socio_RFB], \\\n",
    "  CAST(soc.data_entrada AS DATE) AS [Data_Entrada_Socio_RFB], \\\n",
    "  pep.Nome_PEP AS [Nome_PEP], \\\n",
    "  pep.CPF_normalizado AS [CPF_PEP], \\\n",
    "  pep.Descrição_Função AS [Funcao_PEP], \\\n",
    "  pep.Data_Inicio_Exercicio_normalizado AS [Data_Inicio_PEP], \\\n",
    "  pep.Data_Fim_Exercicio_normalizado AS [Data_Fim_PEP], \\\n",
    "  pep.Data_Fim_Carência_normalizado AS [Data_Carencia_PEP], \\\n",
    "  pep.Municipio_normalizado AS [Municipio_PEP], \\\n",
    "  pep.uf_orgao AS [UF_PEP] \\\n",
    "FROM despesas_consolidado des \\\n",
    "JOIN empresas emp ON emp.cnpj = des.nr_identificador_despesa \\\n",
    "JOIN socios soc ON soc.cnpj = emp.cnpj \\\n",
    "JOIN peps pep ON pep.CPF_normalizado = soc.cnpj_cpf_socio AND pep.Nome_PEP = soc.nome_socio'"
   ]
  },
  {
   "cell_type": "code",
   "execution_count": 42,
   "metadata": {},
   "outputs": [],
   "source": [
    "empresas_peps = pd.read_sql(sql, engine_banco_saida, index_col=None)"
   ]
  },
  {
   "cell_type": "code",
   "execution_count": 43,
   "metadata": {},
   "outputs": [
    {
     "data": {
      "text/html": [
       "<div>\n",
       "<style scoped>\n",
       "    .dataframe tbody tr th:only-of-type {\n",
       "        vertical-align: middle;\n",
       "    }\n",
       "\n",
       "    .dataframe tbody tr th {\n",
       "        vertical-align: top;\n",
       "    }\n",
       "\n",
       "    .dataframe thead th {\n",
       "        text-align: right;\n",
       "    }\n",
       "</style>\n",
       "<table border=\"1\" class=\"dataframe\">\n",
       "  <thead>\n",
       "    <tr style=\"text-align: right;\">\n",
       "      <th></th>\n",
       "      <th>Nome_Municipio_Ficticio</th>\n",
       "      <th>CNPJ_Empresa_Beneficiaria</th>\n",
       "      <th>Razao_Social_Empresa_Beneficiaria</th>\n",
       "      <th>Valor_Total</th>\n",
       "      <th>CNPJ_RFB</th>\n",
       "      <th>Razao_Social_RFB</th>\n",
       "      <th>Situacao_Cadastral_RFB</th>\n",
       "      <th>Data_Situacao_Cadastral_RFB</th>\n",
       "      <th>Codigo_Natureza_Juridica_RFB</th>\n",
       "      <th>Data_Inicio_Atividade_RFB</th>\n",
       "      <th>...</th>\n",
       "      <th>CPF_Socio_RFB</th>\n",
       "      <th>Data_Entrada_Socio_RFB</th>\n",
       "      <th>Nome_PEP</th>\n",
       "      <th>CPF_PEP</th>\n",
       "      <th>Funcao_PEP</th>\n",
       "      <th>Data_Inicio_PEP</th>\n",
       "      <th>Data_Fim_PEP</th>\n",
       "      <th>Data_Carencia_PEP</th>\n",
       "      <th>Municipio_PEP</th>\n",
       "      <th>UF_PEP</th>\n",
       "    </tr>\n",
       "  </thead>\n",
       "  <tbody>\n",
       "    <tr>\n",
       "      <th>4</th>\n",
       "      <td>MARTEL</td>\n",
       "      <td>49057710000187</td>\n",
       "      <td>IZAN INDUSTRIAL</td>\n",
       "      <td>4777742.82</td>\n",
       "      <td>49057710000187</td>\n",
       "      <td>IZAN INDUSTRIAL</td>\n",
       "      <td>ATIVA</td>\n",
       "      <td>20200101</td>\n",
       "      <td>2143</td>\n",
       "      <td>20200713</td>\n",
       "      <td>...</td>\n",
       "      <td>***529608**</td>\n",
       "      <td>20200101</td>\n",
       "      <td>RADANOVIC ASCENCIANO</td>\n",
       "      <td>***529608**</td>\n",
       "      <td>VEREADOR</td>\n",
       "      <td>2017-01-01</td>\n",
       "      <td>2020-12-31</td>\n",
       "      <td>2025-12-31</td>\n",
       "      <td>MORANDIM</td>\n",
       "      <td>SP</td>\n",
       "    </tr>\n",
       "    <tr>\n",
       "      <th>44</th>\n",
       "      <td>NIELAND</td>\n",
       "      <td>06273922000124</td>\n",
       "      <td>MOMOKA ARTISTICAS LTDA</td>\n",
       "      <td>195474.65</td>\n",
       "      <td>06273922000124</td>\n",
       "      <td>MOMOKA ARTISTICAS LTDA</td>\n",
       "      <td>ATIVA</td>\n",
       "      <td>20200101</td>\n",
       "      <td>3999</td>\n",
       "      <td>20000214</td>\n",
       "      <td>...</td>\n",
       "      <td>***923478**</td>\n",
       "      <td>20200101</td>\n",
       "      <td>GEOVANISA TERSINHA BERTASSONI</td>\n",
       "      <td>***923478**</td>\n",
       "      <td>PREFEITO</td>\n",
       "      <td>2017-01-01</td>\n",
       "      <td>2020-12-31</td>\n",
       "      <td>2025-12-31</td>\n",
       "      <td>SACCOL</td>\n",
       "      <td>SP</td>\n",
       "    </tr>\n",
       "    <tr>\n",
       "      <th>66</th>\n",
       "      <td>VIECILI</td>\n",
       "      <td>08262075000137</td>\n",
       "      <td>MARIUS CONTABIL EIRELLI</td>\n",
       "      <td>112998.16</td>\n",
       "      <td>08262075000137</td>\n",
       "      <td>MARIUS CONTABIL EIRELLI</td>\n",
       "      <td>BAIXADA</td>\n",
       "      <td>20200101</td>\n",
       "      <td>3999</td>\n",
       "      <td>20030308</td>\n",
       "      <td>...</td>\n",
       "      <td>***341758**</td>\n",
       "      <td>20200101</td>\n",
       "      <td>GOSSON LEGNANNE GONDOREK</td>\n",
       "      <td>***341758**</td>\n",
       "      <td>PREFEITO</td>\n",
       "      <td>2017-01-01</td>\n",
       "      <td>2020-12-31</td>\n",
       "      <td>2025-12-31</td>\n",
       "      <td>ROZARIO</td>\n",
       "      <td>SP</td>\n",
       "    </tr>\n",
       "    <tr>\n",
       "      <th>63</th>\n",
       "      <td>CAMPALDI</td>\n",
       "      <td>10240793000137</td>\n",
       "      <td>JOAO LUCAS ELETRONICOS SA</td>\n",
       "      <td>122131.48</td>\n",
       "      <td>10240793000137</td>\n",
       "      <td>JOAO LUCAS ELETRONICOS SA</td>\n",
       "      <td>ATIVA</td>\n",
       "      <td>20200101</td>\n",
       "      <td>3999</td>\n",
       "      <td>20130111</td>\n",
       "      <td>...</td>\n",
       "      <td>***502138**</td>\n",
       "      <td>20200101</td>\n",
       "      <td>CAUME UNAIDE ABASILIA PHREDERICO ZIELAK</td>\n",
       "      <td>***502138**</td>\n",
       "      <td>PREFEITO</td>\n",
       "      <td>2017-01-01</td>\n",
       "      <td>2020-12-31</td>\n",
       "      <td>2025-12-31</td>\n",
       "      <td>BREIA</td>\n",
       "      <td>SP</td>\n",
       "    </tr>\n",
       "    <tr>\n",
       "      <th>38</th>\n",
       "      <td>PODEWILS</td>\n",
       "      <td>05605785000141</td>\n",
       "      <td>NIKITA PRESENTES EIRELLI</td>\n",
       "      <td>238680.05</td>\n",
       "      <td>05605785000141</td>\n",
       "      <td>NIKITA PRESENTES EIRELLI</td>\n",
       "      <td>ATIVA</td>\n",
       "      <td>20200101</td>\n",
       "      <td>2062</td>\n",
       "      <td>19970922</td>\n",
       "      <td>...</td>\n",
       "      <td>***952898**</td>\n",
       "      <td>20200101</td>\n",
       "      <td>ANDERSON PHREDERICO ZIELAK RAGO</td>\n",
       "      <td>***952898**</td>\n",
       "      <td>VEREADOR</td>\n",
       "      <td>2017-01-01</td>\n",
       "      <td>2020-12-31</td>\n",
       "      <td>2025-12-31</td>\n",
       "      <td>GONSALVES</td>\n",
       "      <td>SP</td>\n",
       "    </tr>\n",
       "  </tbody>\n",
       "</table>\n",
       "<p>5 rows × 24 columns</p>\n",
       "</div>"
      ],
      "text/plain": [
       "   Nome_Municipio_Ficticio CNPJ_Empresa_Beneficiaria  \\\n",
       "4                   MARTEL            49057710000187   \n",
       "44                 NIELAND            06273922000124   \n",
       "66                 VIECILI            08262075000137   \n",
       "63                CAMPALDI            10240793000137   \n",
       "38                PODEWILS            05605785000141   \n",
       "\n",
       "   Razao_Social_Empresa_Beneficiaria  Valor_Total        CNPJ_RFB  \\\n",
       "4                    IZAN INDUSTRIAL   4777742.82  49057710000187   \n",
       "44            MOMOKA ARTISTICAS LTDA    195474.65  06273922000124   \n",
       "66           MARIUS CONTABIL EIRELLI    112998.16  08262075000137   \n",
       "63         JOAO LUCAS ELETRONICOS SA    122131.48  10240793000137   \n",
       "38          NIKITA PRESENTES EIRELLI    238680.05  05605785000141   \n",
       "\n",
       "             Razao_Social_RFB Situacao_Cadastral_RFB  \\\n",
       "4             IZAN INDUSTRIAL                  ATIVA   \n",
       "44     MOMOKA ARTISTICAS LTDA                  ATIVA   \n",
       "66    MARIUS CONTABIL EIRELLI                BAIXADA   \n",
       "63  JOAO LUCAS ELETRONICOS SA                  ATIVA   \n",
       "38   NIKITA PRESENTES EIRELLI                  ATIVA   \n",
       "\n",
       "    Data_Situacao_Cadastral_RFB Codigo_Natureza_Juridica_RFB  \\\n",
       "4                      20200101                         2143   \n",
       "44                     20200101                         3999   \n",
       "66                     20200101                         3999   \n",
       "63                     20200101                         3999   \n",
       "38                     20200101                         2062   \n",
       "\n",
       "    Data_Inicio_Atividade_RFB  ... CPF_Socio_RFB Data_Entrada_Socio_RFB  \\\n",
       "4                    20200713  ...   ***529608**               20200101   \n",
       "44                   20000214  ...   ***923478**               20200101   \n",
       "66                   20030308  ...   ***341758**               20200101   \n",
       "63                   20130111  ...   ***502138**               20200101   \n",
       "38                   19970922  ...   ***952898**               20200101   \n",
       "\n",
       "                                   Nome_PEP      CPF_PEP Funcao_PEP  \\\n",
       "4                      RADANOVIC ASCENCIANO  ***529608**   VEREADOR   \n",
       "44            GEOVANISA TERSINHA BERTASSONI  ***923478**   PREFEITO   \n",
       "66                 GOSSON LEGNANNE GONDOREK  ***341758**   PREFEITO   \n",
       "63  CAUME UNAIDE ABASILIA PHREDERICO ZIELAK  ***502138**   PREFEITO   \n",
       "38          ANDERSON PHREDERICO ZIELAK RAGO  ***952898**   VEREADOR   \n",
       "\n",
       "    Data_Inicio_PEP Data_Fim_PEP Data_Carencia_PEP Municipio_PEP UF_PEP  \n",
       "4        2017-01-01   2020-12-31        2025-12-31      MORANDIM     SP  \n",
       "44       2017-01-01   2020-12-31        2025-12-31        SACCOL     SP  \n",
       "66       2017-01-01   2020-12-31        2025-12-31       ROZARIO     SP  \n",
       "63       2017-01-01   2020-12-31        2025-12-31         BREIA     SP  \n",
       "38       2017-01-01   2020-12-31        2025-12-31     GONSALVES     SP  \n",
       "\n",
       "[5 rows x 24 columns]"
      ]
     },
     "execution_count": 43,
     "metadata": {},
     "output_type": "execute_result"
    }
   ],
   "source": [
    "empresas_peps.sample(5)"
   ]
  },
  {
   "cell_type": "markdown",
   "metadata": {
    "tags": []
   },
   "source": [
    "#### Salvar dados"
   ]
  },
  {
   "cell_type": "code",
   "execution_count": 44,
   "metadata": {},
   "outputs": [],
   "source": [
    "arquivo_saida = 'empresas_peps.csv'\n",
    "filepath = os.path.join(diretorio_saida_dados, arquivo_saida)\n",
    "empresas_peps.to_csv(filepath, index=False)"
   ]
  },
  {
   "cell_type": "markdown",
   "metadata": {},
   "source": [
    "### Consultar Empresas Relacionadas com Pessoas Politicamente Expostas que Receberam Recursos dos Municípios que Possuem Mandatos"
   ]
  },
  {
   "cell_type": "code",
   "execution_count": 45,
   "metadata": {},
   "outputs": [],
   "source": [
    "sql = 'SELECT \\\n",
    "  des.ds_municipio AS [Nome_Municipio_Ficticio], \\\n",
    "  des.nr_identificador_despesa AS [CNPJ_Empresa_Beneficiaria], \\\n",
    "  des.ds_despesa AS [Razao_Social_Empresa_Beneficiaria], \\\n",
    "  des.soma AS [Valor_Total], \\\n",
    "  emp.cnpj AS [CNPJ_RFB], \\\n",
    "  emp.razao_social AS [Razao_Social_RFB], \\\n",
    "  CASE emp.situacao \\\n",
    "    WHEN \"01\" THEN \"NULA\" \\\n",
    "    WHEN \"02\" THEN \"ATIVA\" \\\n",
    "    WHEN \"03\" THEN \"SUSPENSA\" \\\n",
    "    WHEN \"04\" THEN \"INAPTA\" \\\n",
    "    WHEN \"08\" THEN \"BAIXADA\" \\\n",
    "  END AS [Situacao_Cadastral_RFB], \\\n",
    "  CAST(emp.data_situacao AS DATE) AS [Data_Situacao_Cadastral_RFB], \\\n",
    "  emp.cod_nat_juridica AS [Codigo_Natureza_Juridica_RFB], \\\n",
    "  CAST(emp.data_inicio_ativ AS DATE) AS [Data_Inicio_Atividade_RFB], \\\n",
    "  emp.cnae_fiscal AS [CNAE_Fiscal_RFB], \\\n",
    "  emp.municipio AS [Municipio_RFB], \\\n",
    "  emp.uf AS [UF_RFB], \\\n",
    "  soc.nome_socio AS [Nome_Socio_RFB], \\\n",
    "  soc.cnpj_cpf_socio AS [CPF_Socio_RFB], \\\n",
    "  CAST(soc.data_entrada AS DATE) AS [Data_Entrada_Socio_RFB], \\\n",
    "  pep.Nome_PEP AS [Nome_PEP], \\\n",
    "  pep.CPF_normalizado AS [CPF_PEP], \\\n",
    "  pep.Descrição_Função AS [Funcao_PEP], \\\n",
    "  pep.Data_Inicio_Exercicio_normalizado AS [Data_Inicio_PEP], \\\n",
    "  pep.Data_Fim_Exercicio_normalizado AS [Data_Fim_PEP], \\\n",
    "  pep.Data_Fim_Carência_normalizado AS [Data_Carencia_PEP], \\\n",
    "  pep.Municipio_normalizado AS [Municipio_PEP], \\\n",
    "  pep.uf_orgao AS [UF_PEP] \\\n",
    "FROM despesas_consolidado des \\\n",
    "JOIN empresas emp ON emp.cnpj = des.nr_identificador_despesa \\\n",
    "JOIN socios soc ON soc.cnpj = emp.cnpj \\\n",
    "JOIN peps pep ON pep.CPF_normalizado = soc.cnpj_cpf_socio AND pep.Nome_PEP = soc.nome_socio \\\n",
    "WHERE emp.uf = pep.uf_orgao AND emp.municipio = pep.Municipio_normalizado'"
   ]
  },
  {
   "cell_type": "code",
   "execution_count": 46,
   "metadata": {},
   "outputs": [],
   "source": [
    "empresas_peps_mesmo_municipio = pd.read_sql(sql, engine_banco_saida, index_col=None)"
   ]
  },
  {
   "cell_type": "code",
   "execution_count": 47,
   "metadata": {},
   "outputs": [
    {
     "data": {
      "text/html": [
       "<div>\n",
       "<style scoped>\n",
       "    .dataframe tbody tr th:only-of-type {\n",
       "        vertical-align: middle;\n",
       "    }\n",
       "\n",
       "    .dataframe tbody tr th {\n",
       "        vertical-align: top;\n",
       "    }\n",
       "\n",
       "    .dataframe thead th {\n",
       "        text-align: right;\n",
       "    }\n",
       "</style>\n",
       "<table border=\"1\" class=\"dataframe\">\n",
       "  <thead>\n",
       "    <tr style=\"text-align: right;\">\n",
       "      <th></th>\n",
       "      <th>Nome_Municipio_Ficticio</th>\n",
       "      <th>CNPJ_Empresa_Beneficiaria</th>\n",
       "      <th>Razao_Social_Empresa_Beneficiaria</th>\n",
       "      <th>Valor_Total</th>\n",
       "      <th>CNPJ_RFB</th>\n",
       "      <th>Razao_Social_RFB</th>\n",
       "      <th>Situacao_Cadastral_RFB</th>\n",
       "      <th>Data_Situacao_Cadastral_RFB</th>\n",
       "      <th>Codigo_Natureza_Juridica_RFB</th>\n",
       "      <th>Data_Inicio_Atividade_RFB</th>\n",
       "      <th>...</th>\n",
       "      <th>CPF_Socio_RFB</th>\n",
       "      <th>Data_Entrada_Socio_RFB</th>\n",
       "      <th>Nome_PEP</th>\n",
       "      <th>CPF_PEP</th>\n",
       "      <th>Funcao_PEP</th>\n",
       "      <th>Data_Inicio_PEP</th>\n",
       "      <th>Data_Fim_PEP</th>\n",
       "      <th>Data_Carencia_PEP</th>\n",
       "      <th>Municipio_PEP</th>\n",
       "      <th>UF_PEP</th>\n",
       "    </tr>\n",
       "  </thead>\n",
       "  <tbody>\n",
       "    <tr>\n",
       "      <th>16</th>\n",
       "      <td>BOTCHER</td>\n",
       "      <td>10240793000137</td>\n",
       "      <td>JOAO LUCAS ELETRONICOS SA</td>\n",
       "      <td>102755.90</td>\n",
       "      <td>10240793000137</td>\n",
       "      <td>JOAO LUCAS ELETRONICOS SA</td>\n",
       "      <td>ATIVA</td>\n",
       "      <td>20200101</td>\n",
       "      <td>3999</td>\n",
       "      <td>20130111</td>\n",
       "      <td>...</td>\n",
       "      <td>***502138**</td>\n",
       "      <td>20200101</td>\n",
       "      <td>CAUME UNAIDE ABASILIA PHREDERICO ZIELAK</td>\n",
       "      <td>***502138**</td>\n",
       "      <td>PREFEITO</td>\n",
       "      <td>2017-01-01</td>\n",
       "      <td>2020-12-31</td>\n",
       "      <td>2025-12-31</td>\n",
       "      <td>BREIA</td>\n",
       "      <td>SP</td>\n",
       "    </tr>\n",
       "    <tr>\n",
       "      <th>15</th>\n",
       "      <td>MILLNITZ</td>\n",
       "      <td>12480500000115</td>\n",
       "      <td>VICENTE MODAS</td>\n",
       "      <td>131687.01</td>\n",
       "      <td>12480500000115</td>\n",
       "      <td>VICENTE MODAS</td>\n",
       "      <td>BAIXADA</td>\n",
       "      <td>20200101</td>\n",
       "      <td>2305</td>\n",
       "      <td>20140218</td>\n",
       "      <td>...</td>\n",
       "      <td>***178358**</td>\n",
       "      <td>20200101</td>\n",
       "      <td>JOAO YPEI DE KAARA</td>\n",
       "      <td>***178358**</td>\n",
       "      <td>PREFEITO</td>\n",
       "      <td>2017-01-01</td>\n",
       "      <td>2020-12-31</td>\n",
       "      <td>2025-12-31</td>\n",
       "      <td>GAZETA</td>\n",
       "      <td>SP</td>\n",
       "    </tr>\n",
       "    <tr>\n",
       "      <th>5</th>\n",
       "      <td>PATRUCCO</td>\n",
       "      <td>12480500000115</td>\n",
       "      <td>VICENTE MODAS</td>\n",
       "      <td>306932.06</td>\n",
       "      <td>12480500000115</td>\n",
       "      <td>VICENTE MODAS</td>\n",
       "      <td>BAIXADA</td>\n",
       "      <td>20200101</td>\n",
       "      <td>2305</td>\n",
       "      <td>20140218</td>\n",
       "      <td>...</td>\n",
       "      <td>***178358**</td>\n",
       "      <td>20200101</td>\n",
       "      <td>JOAO YPEI DE KAARA</td>\n",
       "      <td>***178358**</td>\n",
       "      <td>PREFEITO</td>\n",
       "      <td>2017-01-01</td>\n",
       "      <td>2020-12-31</td>\n",
       "      <td>2025-12-31</td>\n",
       "      <td>GAZETA</td>\n",
       "      <td>SP</td>\n",
       "    </tr>\n",
       "    <tr>\n",
       "      <th>12</th>\n",
       "      <td>TUMARKIN</td>\n",
       "      <td>10240793000137</td>\n",
       "      <td>JOAO LUCAS ELETRONICOS SA</td>\n",
       "      <td>140473.55</td>\n",
       "      <td>10240793000137</td>\n",
       "      <td>JOAO LUCAS ELETRONICOS SA</td>\n",
       "      <td>ATIVA</td>\n",
       "      <td>20200101</td>\n",
       "      <td>3999</td>\n",
       "      <td>20130111</td>\n",
       "      <td>...</td>\n",
       "      <td>***502138**</td>\n",
       "      <td>20200101</td>\n",
       "      <td>CAUME UNAIDE ABASILIA PHREDERICO ZIELAK</td>\n",
       "      <td>***502138**</td>\n",
       "      <td>PREFEITO</td>\n",
       "      <td>2017-01-01</td>\n",
       "      <td>2020-12-31</td>\n",
       "      <td>2025-12-31</td>\n",
       "      <td>BREIA</td>\n",
       "      <td>SP</td>\n",
       "    </tr>\n",
       "    <tr>\n",
       "      <th>7</th>\n",
       "      <td>PANIS</td>\n",
       "      <td>10240793000137</td>\n",
       "      <td>JOAO LUCAS ELETRONICOS SA</td>\n",
       "      <td>231545.38</td>\n",
       "      <td>10240793000137</td>\n",
       "      <td>JOAO LUCAS ELETRONICOS SA</td>\n",
       "      <td>ATIVA</td>\n",
       "      <td>20200101</td>\n",
       "      <td>3999</td>\n",
       "      <td>20130111</td>\n",
       "      <td>...</td>\n",
       "      <td>***502138**</td>\n",
       "      <td>20200101</td>\n",
       "      <td>CAUME UNAIDE ABASILIA PHREDERICO ZIELAK</td>\n",
       "      <td>***502138**</td>\n",
       "      <td>PREFEITO</td>\n",
       "      <td>2017-01-01</td>\n",
       "      <td>2020-12-31</td>\n",
       "      <td>2025-12-31</td>\n",
       "      <td>BREIA</td>\n",
       "      <td>SP</td>\n",
       "    </tr>\n",
       "  </tbody>\n",
       "</table>\n",
       "<p>5 rows × 24 columns</p>\n",
       "</div>"
      ],
      "text/plain": [
       "   Nome_Municipio_Ficticio CNPJ_Empresa_Beneficiaria  \\\n",
       "16                 BOTCHER            10240793000137   \n",
       "15                MILLNITZ            12480500000115   \n",
       "5                 PATRUCCO            12480500000115   \n",
       "12                TUMARKIN            10240793000137   \n",
       "7                    PANIS            10240793000137   \n",
       "\n",
       "   Razao_Social_Empresa_Beneficiaria  Valor_Total        CNPJ_RFB  \\\n",
       "16         JOAO LUCAS ELETRONICOS SA    102755.90  10240793000137   \n",
       "15                     VICENTE MODAS    131687.01  12480500000115   \n",
       "5                      VICENTE MODAS    306932.06  12480500000115   \n",
       "12         JOAO LUCAS ELETRONICOS SA    140473.55  10240793000137   \n",
       "7          JOAO LUCAS ELETRONICOS SA    231545.38  10240793000137   \n",
       "\n",
       "             Razao_Social_RFB Situacao_Cadastral_RFB  \\\n",
       "16  JOAO LUCAS ELETRONICOS SA                  ATIVA   \n",
       "15              VICENTE MODAS                BAIXADA   \n",
       "5               VICENTE MODAS                BAIXADA   \n",
       "12  JOAO LUCAS ELETRONICOS SA                  ATIVA   \n",
       "7   JOAO LUCAS ELETRONICOS SA                  ATIVA   \n",
       "\n",
       "    Data_Situacao_Cadastral_RFB Codigo_Natureza_Juridica_RFB  \\\n",
       "16                     20200101                         3999   \n",
       "15                     20200101                         2305   \n",
       "5                      20200101                         2305   \n",
       "12                     20200101                         3999   \n",
       "7                      20200101                         3999   \n",
       "\n",
       "    Data_Inicio_Atividade_RFB  ... CPF_Socio_RFB Data_Entrada_Socio_RFB  \\\n",
       "16                   20130111  ...   ***502138**               20200101   \n",
       "15                   20140218  ...   ***178358**               20200101   \n",
       "5                    20140218  ...   ***178358**               20200101   \n",
       "12                   20130111  ...   ***502138**               20200101   \n",
       "7                    20130111  ...   ***502138**               20200101   \n",
       "\n",
       "                                   Nome_PEP      CPF_PEP Funcao_PEP  \\\n",
       "16  CAUME UNAIDE ABASILIA PHREDERICO ZIELAK  ***502138**   PREFEITO   \n",
       "15                       JOAO YPEI DE KAARA  ***178358**   PREFEITO   \n",
       "5                        JOAO YPEI DE KAARA  ***178358**   PREFEITO   \n",
       "12  CAUME UNAIDE ABASILIA PHREDERICO ZIELAK  ***502138**   PREFEITO   \n",
       "7   CAUME UNAIDE ABASILIA PHREDERICO ZIELAK  ***502138**   PREFEITO   \n",
       "\n",
       "    Data_Inicio_PEP Data_Fim_PEP Data_Carencia_PEP Municipio_PEP UF_PEP  \n",
       "16       2017-01-01   2020-12-31        2025-12-31         BREIA     SP  \n",
       "15       2017-01-01   2020-12-31        2025-12-31        GAZETA     SP  \n",
       "5        2017-01-01   2020-12-31        2025-12-31        GAZETA     SP  \n",
       "12       2017-01-01   2020-12-31        2025-12-31         BREIA     SP  \n",
       "7        2017-01-01   2020-12-31        2025-12-31         BREIA     SP  \n",
       "\n",
       "[5 rows x 24 columns]"
      ]
     },
     "execution_count": 47,
     "metadata": {},
     "output_type": "execute_result"
    }
   ],
   "source": [
    "empresas_peps_mesmo_municipio.sample(5)"
   ]
  },
  {
   "cell_type": "markdown",
   "metadata": {
    "tags": []
   },
   "source": [
    "#### Salvar dados"
   ]
  },
  {
   "cell_type": "code",
   "execution_count": 48,
   "metadata": {},
   "outputs": [
    {
     "ename": "NameError",
     "evalue": "name 'empresas_prefeitos_vereadores_mesmo_municipio' is not defined",
     "output_type": "error",
     "traceback": [
      "\u001b[0;31m---------------------------------------------------------------------------\u001b[0m",
      "\u001b[0;31mNameError\u001b[0m                                 Traceback (most recent call last)",
      "\u001b[0;32m/tmp/ipykernel_1182898/99507733.py\u001b[0m in \u001b[0;36m<module>\u001b[0;34m\u001b[0m\n\u001b[1;32m      1\u001b[0m \u001b[0marquivo_saida\u001b[0m \u001b[0;34m=\u001b[0m \u001b[0;34m'empresas_peps_mesmo_municipio.csv'\u001b[0m\u001b[0;34m\u001b[0m\u001b[0;34m\u001b[0m\u001b[0m\n\u001b[1;32m      2\u001b[0m \u001b[0mfilepath\u001b[0m \u001b[0;34m=\u001b[0m \u001b[0mos\u001b[0m\u001b[0;34m.\u001b[0m\u001b[0mpath\u001b[0m\u001b[0;34m.\u001b[0m\u001b[0mjoin\u001b[0m\u001b[0;34m(\u001b[0m\u001b[0mdiretorio_saida_dados\u001b[0m\u001b[0;34m,\u001b[0m \u001b[0marquivo_saida\u001b[0m\u001b[0;34m)\u001b[0m\u001b[0;34m\u001b[0m\u001b[0;34m\u001b[0m\u001b[0m\n\u001b[0;32m----> 3\u001b[0;31m \u001b[0mempresas_prefeitos_vereadores_mesmo_municipio\u001b[0m\u001b[0;34m.\u001b[0m\u001b[0mto_csv\u001b[0m\u001b[0;34m(\u001b[0m\u001b[0mfilepath\u001b[0m\u001b[0;34m,\u001b[0m \u001b[0mindex\u001b[0m\u001b[0;34m=\u001b[0m\u001b[0;32mFalse\u001b[0m\u001b[0;34m)\u001b[0m\u001b[0;34m\u001b[0m\u001b[0;34m\u001b[0m\u001b[0m\n\u001b[0m",
      "\u001b[0;31mNameError\u001b[0m: name 'empresas_prefeitos_vereadores_mesmo_municipio' is not defined"
     ]
    }
   ],
   "source": [
    "arquivo_saida = 'empresas_peps_mesmo_municipio.csv'\n",
    "filepath = os.path.join(diretorio_saida_dados, arquivo_saida)\n",
    "empresas_prefeitos_vereadores_mesmo_municipio.to_csv(filepath, index=False)"
   ]
  },
  {
   "cell_type": "code",
   "execution_count": null,
   "metadata": {},
   "outputs": [],
   "source": []
  }
 ],
 "metadata": {
  "kernelspec": {
   "display_name": "Python 3 (ipykernel)",
   "language": "python",
   "name": "python3"
  },
  "language_info": {
   "codemirror_mode": {
    "name": "ipython",
    "version": 3
   },
   "file_extension": ".py",
   "mimetype": "text/x-python",
   "name": "python",
   "nbconvert_exporter": "python",
   "pygments_lexer": "ipython3",
   "version": "3.8.10"
  }
 },
 "nbformat": 4,
 "nbformat_minor": 4
}
